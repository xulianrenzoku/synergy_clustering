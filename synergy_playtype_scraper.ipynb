{
 "cells": [
  {
   "cell_type": "code",
   "execution_count": 1,
   "metadata": {
    "ExecuteTime": {
     "end_time": "2022-06-06T06:51:15.128752Z",
     "start_time": "2022-06-06T06:51:14.232193Z"
    }
   },
   "outputs": [],
   "source": [
    "import pandas as pd\n",
    "import numpy as np\n",
    "import os\n",
    "import time\n",
    "import pickle\n",
    "from bs4 import BeautifulSoup\n",
    "from selenium import webdriver\n",
    "from selenium.webdriver.chrome.service import Service\n",
    "from webdriver_manager.chrome import ChromeDriverManager"
   ]
  },
  {
   "cell_type": "markdown",
   "metadata": {},
   "source": [
    "## Login"
   ]
  },
  {
   "cell_type": "code",
   "execution_count": 2,
   "metadata": {
    "ExecuteTime": {
     "end_time": "2022-06-06T06:51:15.151920Z",
     "start_time": "2022-06-06T06:51:15.149066Z"
    }
   },
   "outputs": [],
   "source": [
    "synergy_url = 'https://www.synergysportstech.com'"
   ]
  },
  {
   "cell_type": "code",
   "execution_count": 3,
   "metadata": {
    "ExecuteTime": {
     "end_time": "2022-06-06T06:51:15.299426Z",
     "start_time": "2022-06-06T06:51:15.294396Z"
    }
   },
   "outputs": [],
   "source": [
    "def login(driver, cred, synergy_url=synergy_url):\n",
    "    driver.get(f'{synergy_url}/synergy/')\n",
    "    # Get username & password\n",
    "    with open(cred, 'r') as f:\n",
    "        user_password = f.readlines()[0].replace('\\n', '').split(', ')\n",
    "    # Login\n",
    "    userfield = driver.find_element_by_name('txtUserName')\n",
    "    userfield.send_keys(user_password[0])\n",
    "    passwordfield = driver.find_element_by_name('txtPassword')\n",
    "    passwordfield.send_keys(user_password[1])\n",
    "    driver.find_element_by_name('btnLogin').click()"
   ]
  },
  {
   "cell_type": "code",
   "execution_count": 4,
   "metadata": {
    "ExecuteTime": {
     "end_time": "2022-06-06T06:51:18.204711Z",
     "start_time": "2022-06-06T06:51:15.499571Z"
    }
   },
   "outputs": [
    {
     "name": "stderr",
     "output_type": "stream",
     "text": [
      "\n",
      "\n",
      "====== WebDriver manager ======\n",
      "Current google-chrome version is 102.0.5005\n",
      "Get LATEST chromedriver version for 102.0.5005 google-chrome\n",
      "Driver [/Users/xulian/.wdm/drivers/chromedriver/mac64/102.0.5005.61/chromedriver] found in cache\n"
     ]
    }
   ],
   "source": [
    "# driver = webdriver.Chrome('/usr/local/bin/chromedriver')\n",
    "service = Service(executable_path=ChromeDriverManager().install())\n",
    "driver = webdriver.Chrome(service=service)"
   ]
  },
  {
   "cell_type": "code",
   "execution_count": 5,
   "metadata": {
    "ExecuteTime": {
     "end_time": "2022-06-06T06:51:22.083514Z",
     "start_time": "2022-06-06T06:51:18.212736Z"
    }
   },
   "outputs": [
    {
     "name": "stderr",
     "output_type": "stream",
     "text": [
      "/var/folders/_2/xf7b66914jxdlhgxdz6fhjyw0000gn/T/ipykernel_51309/1425548842.py:7: DeprecationWarning: find_element_by_* commands are deprecated. Please use find_element() instead\n",
      "  userfield = driver.find_element_by_name('txtUserName')\n",
      "/var/folders/_2/xf7b66914jxdlhgxdz6fhjyw0000gn/T/ipykernel_51309/1425548842.py:9: DeprecationWarning: find_element_by_* commands are deprecated. Please use find_element() instead\n",
      "  passwordfield = driver.find_element_by_name('txtPassword')\n",
      "/var/folders/_2/xf7b66914jxdlhgxdz6fhjyw0000gn/T/ipykernel_51309/1425548842.py:11: DeprecationWarning: find_element_by_* commands are deprecated. Please use find_element() instead\n",
      "  driver.find_element_by_name('btnLogin').click()\n"
     ]
    }
   ],
   "source": [
    "cred = 'synergy_cred.txt'\n",
    "login(driver, cred)"
   ]
  },
  {
   "cell_type": "markdown",
   "metadata": {},
   "source": [
    "## Basic Functions"
   ]
  },
  {
   "cell_type": "code",
   "execution_count": 6,
   "metadata": {
    "ExecuteTime": {
     "end_time": "2022-06-06T06:51:22.090760Z",
     "start_time": "2022-06-06T06:51:22.086347Z"
    }
   },
   "outputs": [],
   "source": [
    "def read_html(filename):\n",
    "    soup = BeautifulSoup(open(filename), \"html.parser\")\n",
    "    return soup"
   ]
  },
  {
   "cell_type": "code",
   "execution_count": 7,
   "metadata": {
    "ExecuteTime": {
     "end_time": "2022-06-06T06:51:22.099850Z",
     "start_time": "2022-06-06T06:51:22.095087Z"
    }
   },
   "outputs": [],
   "source": [
    "def dump_pickle(file, filename):\n",
    "    outfile = open(filename, 'wb')\n",
    "    pickle.dump(file, outfile)\n",
    "    outfile.close()\n",
    "\n",
    "def load_pickle(filename):\n",
    "    infile = open(filename, 'rb')\n",
    "    file = pickle.load(infile)\n",
    "    infile.close()\n",
    "    return file"
   ]
  },
  {
   "cell_type": "markdown",
   "metadata": {},
   "source": [
    "## Download Team Stats Sheets"
   ]
  },
  {
   "cell_type": "code",
   "execution_count": 8,
   "metadata": {
    "ExecuteTime": {
     "end_time": "2022-06-06T06:51:22.370386Z",
     "start_time": "2022-06-06T06:51:22.365957Z"
    }
   },
   "outputs": [],
   "source": [
    "side_dict = {'offense': '1', 'defense': '0'}"
   ]
  },
  {
   "cell_type": "code",
   "execution_count": 9,
   "metadata": {
    "ExecuteTime": {
     "end_time": "2022-06-06T06:51:22.598875Z",
     "start_time": "2022-06-06T06:51:22.591654Z"
    }
   },
   "outputs": [],
   "source": [
    "def download_team_stats(directory, team_id, league_id, season_id, side,\n",
    "                        synergy_url=synergy_url, side_dict=side_dict, driver=driver):\n",
    "    bool_side = side_dict[side]\n",
    "    tm_stat_url = (\n",
    "        f'{synergy_url}/Synergy/Sport/Basketball/web/teamsst/Video/QuantifiedTeam2Printable.aspx?'\n",
    "        f'iSeasonID={season_id}&offensive={bool_side}&pergame=0&'\n",
    "        f'iGameSubTypeID={league_id}&iTeamID={team_id}'\n",
    "    )\n",
    "    driver.get(tm_stat_url)\n",
    "    with open(f'{directory}/{team_id}_{side}.html', 'w') as f:\n",
    "        f.write(driver.page_source)"
   ]
  },
  {
   "cell_type": "code",
   "execution_count": 10,
   "metadata": {
    "ExecuteTime": {
     "end_time": "2022-06-06T06:51:22.764889Z",
     "start_time": "2022-06-06T06:51:22.760350Z"
    }
   },
   "outputs": [],
   "source": [
    "def download_cumulative_stats(directory, team_id, league_id, season_id,\n",
    "                              synergy_url=synergy_url, driver=driver):\n",
    "    cumulative_stat_url = (\n",
    "        f'{synergy_url}/Synergy/Sport/Basketball/web/teamsst/Video/ViewReport.aspx?'\n",
    "        f'iSeasonID={season_id}&pergame=0&'\n",
    "        f'iGameSubTypeID={league_id}&Type=CumulativeStats&iTeamID={team_id}'\n",
    "    )\n",
    "    driver.get(cumulative_stat_url)\n",
    "    with open(f'{directory}/{team_id}_box.html', 'w') as f:\n",
    "        f.write(driver.page_source)"
   ]
  },
  {
   "cell_type": "code",
   "execution_count": 11,
   "metadata": {
    "ExecuteTime": {
     "end_time": "2022-06-06T06:51:22.969138Z",
     "start_time": "2022-06-06T06:51:22.962274Z"
    }
   },
   "outputs": [],
   "source": [
    "def download_seasons(league_dict,\n",
    "                     synergy_url=synergy_url, side_dict=side_dict, driver=driver):\n",
    "    league_id = league_dict['league_id']\n",
    "    league_name = league_dict['league_name']\n",
    "    for season_id in league_dict['seasons'].keys():\n",
    "        print(league_name, season_id)\n",
    "        directory = f'data_{league_name}_{season_id}'\n",
    "        if directory not in os.listdir():\n",
    "            os.mkdir(directory)\n",
    "        for team_id in league_dict['seasons'][season_id]['team_ids']:\n",
    "            print(team_id)\n",
    "            for side in ['offense', 'defense']:\n",
    "                download_team_stats(directory, team_id, league_id, season_id, side,\n",
    "                                    synergy_url=synergy_url, side_dict=side_dict, \n",
    "                                    driver=driver)\n",
    "            download_cumulative_stats(directory, team_id, league_id, season_id,\n",
    "                                      synergy_url=synergy_url, driver=driver)\n",
    "            time.sleep(3)\n",
    "        print()\n",
    "    print('Done.')"
   ]
  },
  {
   "cell_type": "markdown",
   "metadata": {},
   "source": [
    "### CBA"
   ]
  },
  {
   "cell_type": "code",
   "execution_count": 12,
   "metadata": {
    "ExecuteTime": {
     "end_time": "2022-05-04T10:32:38.581739Z",
     "start_time": "2022-05-04T10:32:38.577115Z"
    }
   },
   "outputs": [],
   "source": [
    "cba_team_ids = ['550', '507', '10295', '10294', \n",
    "                '547', '14815', \n",
    "                '517', '10292', '6291', '536',\n",
    "                '542', '538', '543', '509',\n",
    "                '548', '10296', '508', '528']\n",
    "cba_dict = {'league_name': 'cba',\n",
    "            'league_id': '45',\n",
    "            'seasons': {\n",
    "                '2021': {'team_ids': cba_team_ids +\n",
    "                        ['18355', # Shenzhen\n",
    "                         '526' # Bayi\n",
    "                        ]},\n",
    "                '2020': {'team_ids': cba_team_ids +\n",
    "                        ['18355' # Shenzhen\n",
    "                        ]},\n",
    "                '2019': {'team_ids': cba_team_ids +\n",
    "                        ['18355', # Shenzhen\n",
    "                         '526' # Bayi\n",
    "                        ]},\n",
    "                '2018': {'team_ids': cba_team_ids +\n",
    "                        ['537', # Shenzhen\n",
    "                         '526' # Bayi\n",
    "                        ]},\n",
    "                '2017': {'team_ids': cba_team_ids +\n",
    "                        ['537', # Shenzhen\n",
    "                         '526' # Bayi\n",
    "                        ]}\n",
    "            }\n",
    "           }"
   ]
  },
  {
   "cell_type": "code",
   "execution_count": 13,
   "metadata": {
    "ExecuteTime": {
     "end_time": "2022-05-04T10:32:39.634951Z",
     "start_time": "2022-05-04T10:32:39.632032Z"
    }
   },
   "outputs": [],
   "source": [
    "# dump_pickle(cba_dict, 'cba_dict')"
   ]
  },
  {
   "cell_type": "code",
   "execution_count": 14,
   "metadata": {
    "ExecuteTime": {
     "end_time": "2022-05-04T10:32:39.829419Z",
     "start_time": "2022-05-04T10:32:39.826828Z"
    }
   },
   "outputs": [],
   "source": [
    "# download_seasons(cba_dict)"
   ]
  },
  {
   "cell_type": "markdown",
   "metadata": {},
   "source": [
    "### NBA"
   ]
  },
  {
   "cell_type": "code",
   "execution_count": 15,
   "metadata": {
    "ExecuteTime": {
     "end_time": "2022-05-04T10:32:40.741025Z",
     "start_time": "2022-05-04T10:32:40.736610Z"
    }
   },
   "outputs": [],
   "source": [
    "nba_team_ids = ['15', '1', '3', '30', '17', '18', '8', '9', '19', '23',\n",
    "                '10', '20', '24', '25', '14', '2', '21', '11', '16', '4',\n",
    "                '29', '5', '6', '26', '27', '28', '12', '22', '13', '7']\n",
    "nba_dict = {'league_name': 'nba',\n",
    "            'league_id': '2',\n",
    "            'seasons': {season: {'team_ids': nba_team_ids}\n",
    "                        for season in range(2016, 2022)}\n",
    "           }"
   ]
  },
  {
   "cell_type": "code",
   "execution_count": 16,
   "metadata": {
    "ExecuteTime": {
     "end_time": "2022-05-04T10:32:41.082289Z",
     "start_time": "2022-05-04T10:32:41.079694Z"
    }
   },
   "outputs": [],
   "source": [
    "# dump_pickle(nba_dict, 'nba_dict')"
   ]
  },
  {
   "cell_type": "code",
   "execution_count": 17,
   "metadata": {
    "ExecuteTime": {
     "end_time": "2022-05-04T10:32:41.262152Z",
     "start_time": "2022-05-04T10:32:41.259658Z"
    }
   },
   "outputs": [],
   "source": [
    "# download_seasons(nba_dict)"
   ]
  },
  {
   "cell_type": "markdown",
   "metadata": {},
   "source": [
    "### Euroleague"
   ]
  },
  {
   "cell_type": "code",
   "execution_count": 12,
   "metadata": {
    "ExecuteTime": {
     "end_time": "2022-06-06T06:51:30.260509Z",
     "start_time": "2022-06-06T06:51:30.252846Z"
    }
   },
   "outputs": [],
   "source": [
    "licensed_clubs = ['459', # Anadolu Efes\n",
    "                  '407', # Olimpia Milano\n",
    "                  '428', # CSKA Moscow\n",
    "                  '475', # Barcelona\n",
    "                  '466', # Fenerbahçe\n",
    "                  '454', # Maccabi Tel Aviv\n",
    "                  '469', # Olympiacos\n",
    "                  '470', # Panathinaikos\n",
    "                  '502', # Real Madrid\n",
    "                  '521', # Baskonia\n",
    "                  '460' # Zalgiris\n",
    "                 ]\n",
    "euroleague_dict = {'league_name': 'euroleague',\n",
    "                   'league_id': '344',\n",
    "                   'seasons': {\n",
    "                       '2021': {'team_ids': licensed_clubs +\n",
    "                                ['722', # ASVEL\n",
    "                                 '405', # Crvena Zvezda \n",
    "                                 '595', # ALBA Berlin\n",
    "                                 '3410', # Bayern Munich\n",
    "                                 '716', # Zenit Saint Petersburg\n",
    "                                 '717', # UNICS\n",
    "                                 '8390' # AS Monaco\n",
    "                                ]},\n",
    "                       '2020': {'team_ids': licensed_clubs + \n",
    "                                ['595', # ALBA Berlin\n",
    "                                 '405', # Crvena Zvezda\n",
    "                                 '3410', # Bayern Munich\n",
    "                                 '711', # Khimki Moscow\n",
    "                                 '722', # ASVEL\n",
    "                                 '425', # Valencia Basket\n",
    "                                 '716' # Zenit Saint Petersburg\n",
    "                                ]},\n",
    "                       '2019': {'team_ids': licensed_clubs +\n",
    "                                ['595', # ALBA Berlin\n",
    "                                 '405', # Crvena Zvezda\n",
    "                                 '3410', # Bayern Munich\n",
    "                                 '711', # Khimki Moscow\n",
    "                                 '722', # ASVEL\n",
    "                                 '425', # Valencia Basket\n",
    "                                 '716' # Zenit Saint Petersburg\n",
    "                                ]},\n",
    "                       '2018': {'team_ids': licensed_clubs +\n",
    "                                ['411', # Budućnost VOLI\n",
    "                                 '520', # Darüşşafaka Tekfen \n",
    "                                 '3410', # Bayern Munich\n",
    "                                 '424', # Herbalife Gran Canaria\n",
    "                                 '711'# Khimki Moscow\n",
    "                                ]},\n",
    "                       '2017': {'team_ids': licensed_clubs +\n",
    "                                ['620', # Brose Bamberg\n",
    "                                 '405', # Crvena Zvezda\n",
    "                                 '711', # Khimki Moscow\n",
    "                                 '427', # Unicaja\n",
    "                                 '425' # Valencia Basket\n",
    "                                ]},\n",
    "                       '2016': {'team_ids': licensed_clubs + \n",
    "                                ['620', # Brose Bamberg\n",
    "                                 '405', # Crvena Zvezda\n",
    "                                 '520', # Darüşşafaka Tekfen \n",
    "                                 '724', # Galatasaray Odeabank\n",
    "                                 '717' # UNICS\n",
    "                                ]},\n",
    "                   }\n",
    "                  }"
   ]
  },
  {
   "cell_type": "code",
   "execution_count": 19,
   "metadata": {
    "ExecuteTime": {
     "end_time": "2022-05-04T10:34:28.778207Z",
     "start_time": "2022-05-04T10:34:28.775783Z"
    }
   },
   "outputs": [],
   "source": [
    "# dump_pickle(euroleague_dict, 'euroleague_dict')"
   ]
  },
  {
   "cell_type": "code",
   "execution_count": 15,
   "metadata": {
    "ExecuteTime": {
     "end_time": "2022-06-06T06:53:50.677512Z",
     "start_time": "2022-06-06T06:53:50.674018Z"
    }
   },
   "outputs": [],
   "source": [
    "# download_seasons(euroleague_dict)"
   ]
  },
  {
   "cell_type": "markdown",
   "metadata": {},
   "source": [
    "### NBL"
   ]
  },
  {
   "cell_type": "code",
   "execution_count": 16,
   "metadata": {
    "ExecuteTime": {
     "end_time": "2022-06-06T06:53:50.688815Z",
     "start_time": "2022-06-06T06:53:50.682094Z"
    }
   },
   "outputs": [],
   "source": [
    "nbl_team_ids = ['877', '541', '545', '735', '546',\n",
    "                '540', '533', '544']\n",
    "nbl_dict = {'league_name': 'nbl',\n",
    "            'league_id': '49',\n",
    "            'seasons': {\n",
    "                '2021': {'team_ids': nbl_team_ids +\n",
    "                         ['17543', '25755'\n",
    "                         ]},\n",
    "                '2020': {'team_ids': nbl_team_ids + \n",
    "                         ['17543'\n",
    "                         ]},\n",
    "                '2019': {'team_ids': nbl_team_ids + \n",
    "                         ['17543'\n",
    "                         ]},\n",
    "                '2018': {'team_ids': nbl_team_ids},\n",
    "                '2017': {'team_ids': nbl_team_ids},\n",
    "                '2016': {'team_ids': nbl_team_ids}\n",
    "            }\n",
    "           }"
   ]
  },
  {
   "cell_type": "code",
   "execution_count": 17,
   "metadata": {
    "ExecuteTime": {
     "end_time": "2022-06-06T06:53:50.700763Z",
     "start_time": "2022-06-06T06:53:50.694984Z"
    }
   },
   "outputs": [],
   "source": [
    "nbl_dict = {'league_name': 'nbl',\n",
    "            'league_id': '49',\n",
    "            'seasons': {\n",
    "                '2021': {'team_ids': nbl_team_ids +\n",
    "                         ['17543', '25755'\n",
    "                         ]}\n",
    "            }\n",
    "           }"
   ]
  },
  {
   "cell_type": "code",
   "execution_count": 24,
   "metadata": {
    "ExecuteTime": {
     "end_time": "2022-05-04T10:38:56.687768Z",
     "start_time": "2022-05-04T10:38:56.685238Z"
    }
   },
   "outputs": [],
   "source": [
    "# dump_pickle(nbl_dict, 'nbl_dict')"
   ]
  },
  {
   "cell_type": "code",
   "execution_count": 19,
   "metadata": {
    "ExecuteTime": {
     "end_time": "2022-06-06T06:55:47.555001Z",
     "start_time": "2022-06-06T06:55:47.552375Z"
    }
   },
   "outputs": [],
   "source": [
    "# download_seasons(nbl_dict)"
   ]
  },
  {
   "cell_type": "code",
   "execution_count": 20,
   "metadata": {
    "ExecuteTime": {
     "end_time": "2022-06-06T06:55:48.743525Z",
     "start_time": "2022-06-06T06:55:48.612857Z"
    }
   },
   "outputs": [],
   "source": [
    "driver.close()"
   ]
  },
  {
   "cell_type": "code",
   "execution_count": null,
   "metadata": {},
   "outputs": [],
   "source": []
  }
 ],
 "metadata": {
  "kernelspec": {
   "display_name": "Python 3 (ipykernel)",
   "language": "python",
   "name": "python3"
  },
  "language_info": {
   "codemirror_mode": {
    "name": "ipython",
    "version": 3
   },
   "file_extension": ".py",
   "mimetype": "text/x-python",
   "name": "python",
   "nbconvert_exporter": "python",
   "pygments_lexer": "ipython3",
   "version": "3.8.12"
  }
 },
 "nbformat": 4,
 "nbformat_minor": 2
}
