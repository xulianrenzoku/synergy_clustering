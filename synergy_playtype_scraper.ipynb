{
 "cells": [
  {
   "cell_type": "code",
   "execution_count": 1,
   "metadata": {
    "ExecuteTime": {
     "end_time": "2022-02-09T07:18:12.138618Z",
     "start_time": "2022-02-09T07:18:11.307590Z"
    }
   },
   "outputs": [],
   "source": [
    "import pandas as pd\n",
    "import numpy as np\n",
    "import os\n",
    "import time\n",
    "import pickle\n",
    "from bs4 import BeautifulSoup\n",
    "from selenium import webdriver"
   ]
  },
  {
   "cell_type": "markdown",
   "metadata": {},
   "source": [
    "## Login"
   ]
  },
  {
   "cell_type": "code",
   "execution_count": 2,
   "metadata": {
    "ExecuteTime": {
     "end_time": "2022-02-09T07:18:12.143994Z",
     "start_time": "2022-02-09T07:18:12.140989Z"
    }
   },
   "outputs": [],
   "source": [
    "synergy_url = 'https://www.synergysportstech.com'"
   ]
  },
  {
   "cell_type": "code",
   "execution_count": 3,
   "metadata": {
    "ExecuteTime": {
     "end_time": "2022-02-09T07:18:12.406323Z",
     "start_time": "2022-02-09T07:18:12.400654Z"
    }
   },
   "outputs": [],
   "source": [
    "def login(driver, cred, synergy_url=synergy_url):\n",
    "    driver.get(f'{synergy_url}/synergy/')\n",
    "    # Get username & password\n",
    "    with open(cred, 'r') as f:\n",
    "        user_password = f.readlines()[0].replace('\\n', '').split(', ')\n",
    "    # Login\n",
    "    userfield = driver.find_element_by_name('txtUserName')\n",
    "    userfield.send_keys(user_password[0])\n",
    "    passwordfield = driver.find_element_by_name('txtPassword')\n",
    "    passwordfield.send_keys(user_password[1])\n",
    "    driver.find_element_by_name('btnLogin').click()"
   ]
  },
  {
   "cell_type": "code",
   "execution_count": 4,
   "metadata": {
    "ExecuteTime": {
     "end_time": "2022-02-09T07:18:15.712043Z",
     "start_time": "2022-02-09T07:18:12.755833Z"
    }
   },
   "outputs": [],
   "source": [
    "driver = webdriver.Chrome('/usr/local/bin/chromedriver')"
   ]
  },
  {
   "cell_type": "code",
   "execution_count": 5,
   "metadata": {
    "ExecuteTime": {
     "end_time": "2022-02-09T07:18:37.411397Z",
     "start_time": "2022-02-09T07:18:21.147855Z"
    }
   },
   "outputs": [],
   "source": [
    "cred = 'synergy_cred.txt'\n",
    "login(driver, cred)"
   ]
  },
  {
   "cell_type": "markdown",
   "metadata": {},
   "source": [
    "## Basic Functions"
   ]
  },
  {
   "cell_type": "code",
   "execution_count": 6,
   "metadata": {
    "ExecuteTime": {
     "end_time": "2022-02-09T07:18:40.754708Z",
     "start_time": "2022-02-09T07:18:40.751736Z"
    }
   },
   "outputs": [],
   "source": [
    "def read_html(filename):\n",
    "    soup = BeautifulSoup(open(filename), \"html.parser\")\n",
    "    return soup"
   ]
  },
  {
   "cell_type": "code",
   "execution_count": 7,
   "metadata": {
    "ExecuteTime": {
     "end_time": "2022-02-09T07:18:41.014494Z",
     "start_time": "2022-02-09T07:18:41.010217Z"
    }
   },
   "outputs": [],
   "source": [
    "def dump_pickle(file, filename):\n",
    "    outfile = open(filename, 'wb')\n",
    "    pickle.dump(file, outfile)\n",
    "    outfile.close()\n",
    "\n",
    "def load_pickle(filename):\n",
    "    infile = open(filename, 'rb')\n",
    "    file = pickle.load(infile)\n",
    "    infile.close()\n",
    "    return file"
   ]
  },
  {
   "cell_type": "markdown",
   "metadata": {},
   "source": [
    "## Download Team Stats Sheets"
   ]
  },
  {
   "cell_type": "code",
   "execution_count": 8,
   "metadata": {
    "ExecuteTime": {
     "end_time": "2022-02-09T07:18:43.665247Z",
     "start_time": "2022-02-09T07:18:43.661516Z"
    }
   },
   "outputs": [],
   "source": [
    "side_dict = {'offense': '1', 'defense': '0'}"
   ]
  },
  {
   "cell_type": "code",
   "execution_count": 9,
   "metadata": {
    "ExecuteTime": {
     "end_time": "2022-02-09T07:18:46.061680Z",
     "start_time": "2022-02-09T07:18:46.057336Z"
    }
   },
   "outputs": [],
   "source": [
    "def download_team_stats(directory, team_id, league_id, season_id, side,\n",
    "                        synergy_url=synergy_url, side_dict=side_dict, driver=driver):\n",
    "    bool_side = side_dict[side]\n",
    "    tm_stat_url = (\n",
    "        f'{synergy_url}/Synergy/Sport/Basketball/web/teamsst/Video/QuantifiedTeam2Printable.aspx?'\n",
    "        f'iSeasonID={season_id}&offensive={bool_side}&pergame=0&'\n",
    "        f'iGameSubTypeID={league_id}&iTeamID={team_id}'\n",
    "    )\n",
    "    driver.get(tm_stat_url)\n",
    "    with open(f'{directory}/{team_id}_{side}.html', 'w') as f:\n",
    "        f.write(driver.page_source)"
   ]
  },
  {
   "cell_type": "code",
   "execution_count": 10,
   "metadata": {
    "ExecuteTime": {
     "end_time": "2022-02-09T07:18:46.364164Z",
     "start_time": "2022-02-09T07:18:46.357610Z"
    }
   },
   "outputs": [],
   "source": [
    "def download_seasons(league_dict,\n",
    "                     synergy_url=synergy_url, side_dict=side_dict, driver=driver):\n",
    "    league_id = league_dict['league_id']\n",
    "    league_name = league_dict['league_name']\n",
    "    for season_id in league_dict['seasons'].keys():\n",
    "        print(league_name, season_id)\n",
    "        directory = f'data_{league_name}_{season_id}'\n",
    "        if directory not in os.listdir():\n",
    "            os.mkdir(directory)\n",
    "        for team_id in league_dict['seasons'][season_id]['team_ids']:\n",
    "            print(team_id)\n",
    "            for side in ['offense', 'defense']:\n",
    "                download_team_stats(directory, team_id, league_id, season_id, side,\n",
    "                                    synergy_url=synergy_url, side_dict=side_dict, \n",
    "                                    driver=driver)\n",
    "            time.sleep(3)\n",
    "        print()\n",
    "    print('Done.')"
   ]
  },
  {
   "cell_type": "markdown",
   "metadata": {},
   "source": [
    "### CBA"
   ]
  },
  {
   "cell_type": "code",
   "execution_count": 35,
   "metadata": {
    "ExecuteTime": {
     "end_time": "2022-01-18T16:29:31.546131Z",
     "start_time": "2022-01-18T16:29:31.540270Z"
    }
   },
   "outputs": [],
   "source": [
    "cba_team_ids = ['550', '507', '10295', '10294', \n",
    "                '547', '14815', \n",
    "                '517', '10292', '6291', '536',\n",
    "                '542', '538', '543', '509',\n",
    "                '548', '10296', '508', '528']\n",
    "cba_dict = {'league_name': 'cba',\n",
    "            'league_id': '45',\n",
    "            'seasons': {\n",
    "                '2020': {'team_ids': cba_team_ids +\n",
    "                        ['18355' # Shenzhen\n",
    "                        ]},\n",
    "                '2019': {'team_ids': cba_team_ids +\n",
    "                        ['18355', # Shenzhen\n",
    "                         '526' # Bayi\n",
    "                        ]},\n",
    "                '2018': {'team_ids': cba_team_ids +\n",
    "                        ['537', # Shenzhen\n",
    "                         '526' # Bayi\n",
    "                        ]},\n",
    "                '2017': {'team_ids': cba_team_ids +\n",
    "                        ['537', # Shenzhen\n",
    "                         '526' # Bayi\n",
    "                        ]}\n",
    "            }\n",
    "           }"
   ]
  },
  {
   "cell_type": "code",
   "execution_count": 36,
   "metadata": {
    "ExecuteTime": {
     "end_time": "2022-01-18T16:29:35.096885Z",
     "start_time": "2022-01-18T16:29:35.088158Z"
    }
   },
   "outputs": [],
   "source": [
    "dump_pickle(cba_dict, 'cba_dict')"
   ]
  },
  {
   "cell_type": "code",
   "execution_count": 37,
   "metadata": {
    "ExecuteTime": {
     "end_time": "2022-01-18T16:36:16.208658Z",
     "start_time": "2022-01-18T16:29:50.088389Z"
    }
   },
   "outputs": [
    {
     "name": "stdout",
     "output_type": "stream",
     "text": [
      "cba 2020\n",
      "550\n",
      "507\n",
      "10295\n",
      "10294\n",
      "547\n",
      "14815\n",
      "517\n",
      "10292\n",
      "6291\n",
      "536\n",
      "542\n",
      "538\n",
      "543\n",
      "509\n",
      "548\n",
      "10296\n",
      "508\n",
      "528\n",
      "18355\n",
      "\n",
      "cba 2019\n",
      "550\n",
      "507\n",
      "10295\n",
      "10294\n",
      "547\n",
      "14815\n",
      "517\n",
      "10292\n",
      "6291\n",
      "536\n",
      "542\n",
      "538\n",
      "543\n",
      "509\n",
      "548\n",
      "10296\n",
      "508\n",
      "528\n",
      "18355\n",
      "526\n",
      "\n",
      "cba 2018\n",
      "550\n",
      "507\n",
      "10295\n",
      "10294\n",
      "547\n",
      "14815\n",
      "517\n",
      "10292\n",
      "6291\n",
      "536\n",
      "542\n",
      "538\n",
      "543\n",
      "509\n",
      "548\n",
      "10296\n",
      "508\n",
      "528\n",
      "537\n",
      "526\n",
      "\n",
      "cba 2017\n",
      "550\n",
      "507\n",
      "10295\n",
      "10294\n",
      "547\n",
      "14815\n",
      "517\n",
      "10292\n",
      "6291\n",
      "536\n",
      "542\n",
      "538\n",
      "543\n",
      "509\n",
      "548\n",
      "10296\n",
      "508\n",
      "528\n",
      "537\n",
      "526\n",
      "\n",
      "Done.\n"
     ]
    }
   ],
   "source": [
    "download_seasons(cba_dict)"
   ]
  },
  {
   "cell_type": "markdown",
   "metadata": {},
   "source": [
    "### NBA"
   ]
  },
  {
   "cell_type": "code",
   "execution_count": 21,
   "metadata": {
    "ExecuteTime": {
     "end_time": "2022-01-18T15:47:29.429275Z",
     "start_time": "2022-01-18T15:47:29.424588Z"
    }
   },
   "outputs": [],
   "source": [
    "nba_team_ids = ['15', '1', '3', '30', '17', '18', '8', '9', '19', '23',\n",
    "                '10', '20', '24', '25', '14', '2', '21', '11', '16', '4',\n",
    "                '29', '5', '6', '26', '27', '28', '12', '22', '13', '7']\n",
    "nba_dict = {'league_name': 'nba',\n",
    "            'league_id': '2',\n",
    "            'seasons': {season: {'team_ids': nba_team_ids}\n",
    "                        for season in range(2016, 2021)}\n",
    "           }"
   ]
  },
  {
   "cell_type": "code",
   "execution_count": 22,
   "metadata": {
    "ExecuteTime": {
     "end_time": "2022-01-18T15:47:36.673098Z",
     "start_time": "2022-01-18T15:47:36.669057Z"
    }
   },
   "outputs": [],
   "source": [
    "dump_pickle(nba_dict, 'nba_dict')"
   ]
  },
  {
   "cell_type": "code",
   "execution_count": 12,
   "metadata": {
    "ExecuteTime": {
     "end_time": "2022-01-18T15:13:24.732943Z",
     "start_time": "2022-01-18T15:10:39.682243Z"
    }
   },
   "outputs": [
    {
     "name": "stdout",
     "output_type": "stream",
     "text": [
      "nba 2020\n",
      "15\n",
      "1\n",
      "3\n",
      "30\n",
      "17\n",
      "18\n",
      "8\n",
      "9\n",
      "19\n",
      "23\n",
      "10\n",
      "20\n",
      "24\n",
      "25\n",
      "14\n",
      "2\n",
      "21\n",
      "11\n",
      "16\n",
      "4\n",
      "29\n",
      "5\n",
      "6\n",
      "26\n",
      "27\n",
      "28\n",
      "12\n",
      "22\n",
      "13\n",
      "7\n",
      "\n",
      "Done.\n"
     ]
    }
   ],
   "source": [
    "download_seasons(nba_dict)"
   ]
  },
  {
   "cell_type": "markdown",
   "metadata": {},
   "source": [
    "### Euroleague"
   ]
  },
  {
   "cell_type": "code",
   "execution_count": 23,
   "metadata": {
    "ExecuteTime": {
     "end_time": "2022-01-18T15:47:39.440335Z",
     "start_time": "2022-01-18T15:47:39.433524Z"
    }
   },
   "outputs": [],
   "source": [
    "licensed_clubs = ['459', # Anadolu Efes\n",
    "                  '407', # Olimpia Milano\n",
    "                  '428', # CSKA Moscow\n",
    "                  '475', # Barcelona\n",
    "                  '466', # Fenerbahçe\n",
    "                  '454', # Maccabi Tel Aviv\n",
    "                  '469', # Olympiacos\n",
    "                  '470', # Panathinaikos\n",
    "                  '502', # Real Madrid\n",
    "                  '521', # Baskonia\n",
    "                  '460' # Zalgiris\n",
    "                 ]\n",
    "euroleague_dict = {'league_name': 'euroleague',\n",
    "                   'league_id': '344',\n",
    "                   'seasons': {\n",
    "                       '2020': {'team_ids': licensed_clubs + \n",
    "                                ['595', # ALBA Berlin\n",
    "                                 '405', # Crvena Zvezda\n",
    "                                 '3410', # Bayern Munich\n",
    "                                 '711', # Khimki Moscow\n",
    "                                 '722', # ASVEL\n",
    "                                 '425', # Valencia Basket\n",
    "                                 '716' # Zenit Saint Petersburg\n",
    "                                ]},\n",
    "                       '2019': {'team_ids': licensed_clubs +\n",
    "                                ['595', # ALBA Berlin\n",
    "                                 '405', # Crvena Zvezda\n",
    "                                 '3410', # Bayern Munich\n",
    "                                 '711', # Khimki Moscow\n",
    "                                 '722', # ASVEL\n",
    "                                 '425', # Valencia Basket\n",
    "                                 '716' # Zenit Saint Petersburg\n",
    "                                ]},\n",
    "                       '2018': {'team_ids': licensed_clubs +\n",
    "                                ['411', # Budućnost VOLI\n",
    "                                 '520', # Darüşşafaka Tekfen \n",
    "                                 '3410', # Bayern Munich\n",
    "                                 '424', # Herbalife Gran Canaria\n",
    "                                 '711'# Khimki Moscow\n",
    "                                ]},\n",
    "                       '2017': {'team_ids': licensed_clubs +\n",
    "                                ['620', # Brose Bamberg\n",
    "                                 '405', # Crvena Zvezda\n",
    "                                 '711', # Khimki Moscow\n",
    "                                 '427', # Unicaja\n",
    "                                 '425' # Valencia Basket\n",
    "                                ]},\n",
    "                       '2016': {'team_ids': licensed_clubs + \n",
    "                                ['620', # Brose Bamberg\n",
    "                                 '405', # Crvena Zvezda\n",
    "                                 '520', # Darüşşafaka Tekfen \n",
    "                                 '724', # Galatasaray Odeabank\n",
    "                                 '717' # UNICS\n",
    "                                ]},\n",
    "                   }\n",
    "                  }"
   ]
  },
  {
   "cell_type": "code",
   "execution_count": 24,
   "metadata": {
    "ExecuteTime": {
     "end_time": "2022-01-18T15:47:47.871177Z",
     "start_time": "2022-01-18T15:47:47.868016Z"
    }
   },
   "outputs": [],
   "source": [
    "dump_pickle(euroleague_dict, 'euroleague_dict')"
   ]
  },
  {
   "cell_type": "code",
   "execution_count": 14,
   "metadata": {
    "ExecuteTime": {
     "end_time": "2022-01-18T15:21:48.946045Z",
     "start_time": "2022-01-18T15:13:24.745497Z"
    }
   },
   "outputs": [
    {
     "name": "stdout",
     "output_type": "stream",
     "text": [
      "euroleague 2020\n",
      "459\n",
      "407\n",
      "428\n",
      "475\n",
      "466\n",
      "454\n",
      "469\n",
      "470\n",
      "502\n",
      "521\n",
      "460\n",
      "595\n",
      "405\n",
      "3410\n",
      "711\n",
      "722\n",
      "425\n",
      "716\n",
      "\n",
      "euroleague 2019\n",
      "459\n",
      "407\n",
      "428\n",
      "475\n",
      "466\n",
      "454\n",
      "469\n",
      "470\n",
      "502\n",
      "521\n",
      "460\n",
      "595\n",
      "405\n",
      "3410\n",
      "711\n",
      "722\n",
      "425\n",
      "716\n",
      "\n",
      "euroleague 2018\n",
      "459\n",
      "407\n",
      "428\n",
      "475\n",
      "466\n",
      "454\n",
      "469\n",
      "470\n",
      "502\n",
      "521\n",
      "460\n",
      "411\n",
      "520\n",
      "3410\n",
      "424\n",
      "711\n",
      "\n",
      "euroleague 2017\n",
      "459\n",
      "407\n",
      "428\n",
      "475\n",
      "466\n",
      "454\n",
      "469\n",
      "470\n",
      "502\n",
      "521\n",
      "460\n",
      "620\n",
      "405\n",
      "711\n",
      "427\n",
      "425\n",
      "\n",
      "euroleague 2016\n",
      "459\n",
      "407\n",
      "428\n",
      "475\n",
      "466\n",
      "454\n",
      "469\n",
      "470\n",
      "502\n",
      "521\n",
      "460\n",
      "620\n",
      "405\n",
      "520\n",
      "724\n",
      "717\n",
      "\n",
      "Done.\n"
     ]
    }
   ],
   "source": [
    "download_seasons(euroleague_dict)"
   ]
  },
  {
   "cell_type": "markdown",
   "metadata": {},
   "source": [
    "### NBL"
   ]
  },
  {
   "cell_type": "code",
   "execution_count": 11,
   "metadata": {
    "ExecuteTime": {
     "end_time": "2022-02-09T07:27:19.046814Z",
     "start_time": "2022-02-09T07:27:19.042732Z"
    }
   },
   "outputs": [],
   "source": [
    "nbl_team_ids = ['877', '541', '545', '735', '546',\n",
    "                '540', '533', '544']\n",
    "nbl_dict = {'league_name': 'nbl',\n",
    "            'league_id': '49',\n",
    "            'seasons': {\n",
    "                '2020': {'team_ids': nbl_team_ids + \n",
    "                         ['17543'\n",
    "                         ]},\n",
    "                '2019': {'team_ids': nbl_team_ids + \n",
    "                         ['17543'\n",
    "                         ]},\n",
    "                '2018': {'team_ids': nbl_team_ids},\n",
    "                '2017': {'team_ids': nbl_team_ids},\n",
    "                '2016': {'team_ids': nbl_team_ids}\n",
    "            }\n",
    "           }"
   ]
  },
  {
   "cell_type": "code",
   "execution_count": 12,
   "metadata": {
    "ExecuteTime": {
     "end_time": "2022-02-09T07:27:41.414912Z",
     "start_time": "2022-02-09T07:27:41.410711Z"
    }
   },
   "outputs": [],
   "source": [
    "dump_pickle(nbl_dict, 'nbl_dict')"
   ]
  },
  {
   "cell_type": "code",
   "execution_count": 13,
   "metadata": {
    "ExecuteTime": {
     "end_time": "2022-02-09T07:30:52.959468Z",
     "start_time": "2022-02-09T07:27:51.598485Z"
    }
   },
   "outputs": [
    {
     "name": "stdout",
     "output_type": "stream",
     "text": [
      "nbl 2020\n",
      "877\n",
      "541\n",
      "545\n",
      "735\n",
      "546\n",
      "540\n",
      "533\n",
      "544\n",
      "17543\n",
      "\n",
      "nbl 2019\n",
      "877\n",
      "541\n",
      "545\n",
      "735\n",
      "546\n",
      "540\n",
      "533\n",
      "544\n",
      "17543\n",
      "\n",
      "nbl 2018\n",
      "877\n",
      "541\n",
      "545\n",
      "735\n",
      "546\n",
      "540\n",
      "533\n",
      "544\n",
      "\n",
      "nbl 2017\n",
      "877\n",
      "541\n",
      "545\n",
      "735\n",
      "546\n",
      "540\n",
      "533\n",
      "544\n",
      "\n",
      "nbl 2016\n",
      "877\n",
      "541\n",
      "545\n",
      "735\n",
      "546\n",
      "540\n",
      "533\n",
      "544\n",
      "\n",
      "Done.\n"
     ]
    }
   ],
   "source": [
    "download_seasons(nbl_dict)"
   ]
  },
  {
   "cell_type": "code",
   "execution_count": 14,
   "metadata": {
    "ExecuteTime": {
     "end_time": "2022-02-09T07:30:53.090779Z",
     "start_time": "2022-02-09T07:30:52.963639Z"
    }
   },
   "outputs": [],
   "source": [
    "driver.close()"
   ]
  },
  {
   "cell_type": "code",
   "execution_count": null,
   "metadata": {},
   "outputs": [],
   "source": []
  }
 ],
 "metadata": {
  "kernelspec": {
   "display_name": "Python 3",
   "language": "python",
   "name": "python3"
  },
  "language_info": {
   "codemirror_mode": {
    "name": "ipython",
    "version": 3
   },
   "file_extension": ".py",
   "mimetype": "text/x-python",
   "name": "python",
   "nbconvert_exporter": "python",
   "pygments_lexer": "ipython3",
   "version": "3.6.7"
  }
 },
 "nbformat": 4,
 "nbformat_minor": 2
}
