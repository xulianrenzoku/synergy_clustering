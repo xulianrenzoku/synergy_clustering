{
 "cells": [
  {
   "cell_type": "code",
   "execution_count": 1,
   "metadata": {
    "ExecuteTime": {
     "end_time": "2022-07-04T08:23:55.083635Z",
     "start_time": "2022-07-04T08:23:46.936823Z"
    }
   },
   "outputs": [],
   "source": [
    "import pandas as pd\n",
    "import requests\n",
    "import re\n",
    "import time\n",
    "from bs4 import BeautifulSoup\n",
    "from unidecode import unidecode"
   ]
  },
  {
   "cell_type": "code",
   "execution_count": 2,
   "metadata": {
    "ExecuteTime": {
     "end_time": "2022-07-04T08:23:55.088911Z",
     "start_time": "2022-07-04T08:23:55.085807Z"
    }
   },
   "outputs": [],
   "source": [
    "import warnings\n",
    "warnings.filterwarnings('ignore')"
   ]
  },
  {
   "cell_type": "markdown",
   "metadata": {},
   "source": [
    "## Functions"
   ]
  },
  {
   "cell_type": "code",
   "execution_count": 3,
   "metadata": {
    "ExecuteTime": {
     "end_time": "2022-07-04T08:23:55.098880Z",
     "start_time": "2022-07-04T08:23:55.093340Z"
    }
   },
   "outputs": [],
   "source": [
    "def fetch(url):\n",
    "    \"\"\"\n",
    "    Use BeautifulSoup to get the text of a web page.\n",
    "    \"\"\"\n",
    "    r = requests.get(url)\n",
    "    comm = re.compile(\"<!--|-->\")\n",
    "    soup = BeautifulSoup(comm.sub(\"\", r.text), \"html.parser\")\n",
    "    return soup"
   ]
  },
  {
   "cell_type": "markdown",
   "metadata": {},
   "source": [
    "## Scrape"
   ]
  },
  {
   "cell_type": "markdown",
   "metadata": {},
   "source": [
    "Steps:\n",
    "- Get team ID's\n",
    "- Go to each team's page to scrape"
   ]
  },
  {
   "cell_type": "code",
   "execution_count": 4,
   "metadata": {
    "ExecuteTime": {
     "end_time": "2022-07-04T08:23:55.840762Z",
     "start_time": "2022-07-04T08:23:55.104676Z"
    }
   },
   "outputs": [],
   "source": [
    "bbr_url = 'https://www.basketball-reference.com'\n",
    "bbr_teams_soup = fetch(f'{bbr_url}/teams/')\n",
    "active_teams_table = bbr_teams_soup.find_all('table', {'id': 'teams_active'})[0]\n",
    "bbr_teams_dict = {row.text: row.a['href']\n",
    "                  for row in active_teams_table.find_all('th', \n",
    "                                                         {'data-stat': 'franch_name'})\n",
    "                  if row.text != 'Franchise'}"
   ]
  },
  {
   "cell_type": "code",
   "execution_count": 5,
   "metadata": {
    "ExecuteTime": {
     "end_time": "2022-07-04T08:23:55.866272Z",
     "start_time": "2022-07-04T08:23:55.852504Z"
    }
   },
   "outputs": [
    {
     "data": {
      "text/plain": [
       "{'Atlanta Hawks': '/teams/ATL/',\n",
       " 'Boston Celtics': '/teams/BOS/',\n",
       " 'Brooklyn Nets': '/teams/BRK/',\n",
       " 'Charlotte Hornets': '/teams/CHO/',\n",
       " 'Chicago Bulls': '/teams/CHI/',\n",
       " 'Cleveland Cavaliers': '/teams/CLE/',\n",
       " 'Dallas Mavericks': '/teams/DAL/',\n",
       " 'Denver Nuggets': '/teams/DEN/',\n",
       " 'Detroit Pistons': '/teams/DET/',\n",
       " 'Golden State Warriors': '/teams/GSW/',\n",
       " 'Houston Rockets': '/teams/HOU/',\n",
       " 'Indiana Pacers': '/teams/IND/',\n",
       " 'Los Angeles Clippers': '/teams/LAC/',\n",
       " 'Los Angeles Lakers': '/teams/LAL/',\n",
       " 'Memphis Grizzlies': '/teams/MEM/',\n",
       " 'Miami Heat': '/teams/MIA/',\n",
       " 'Milwaukee Bucks': '/teams/MIL/',\n",
       " 'Minnesota Timberwolves': '/teams/MIN/',\n",
       " 'New Orleans Pelicans': '/teams/NOP/',\n",
       " 'New York Knicks': '/teams/NYK/',\n",
       " 'Oklahoma City Thunder': '/teams/OKC/',\n",
       " 'Orlando Magic': '/teams/ORL/',\n",
       " 'Philadelphia 76ers': '/teams/PHI/',\n",
       " 'Phoenix Suns': '/teams/PHO/',\n",
       " 'Portland Trail Blazers': '/teams/POR/',\n",
       " 'Sacramento Kings': '/teams/SAC/',\n",
       " 'San Antonio Spurs': '/teams/SAS/',\n",
       " 'Toronto Raptors': '/teams/TOR/',\n",
       " 'Utah Jazz': '/teams/UTA/',\n",
       " 'Washington Wizards': '/teams/WAS/'}"
      ]
     },
     "execution_count": 5,
     "metadata": {},
     "output_type": "execute_result"
    }
   ],
   "source": [
    "replace_dict = {'Brooklyn Nets': ['NJN', 'BRK'],\n",
    "                'Charlotte Hornets': ['CHA', 'CHO'],\n",
    "                'New Orleans Pelicans': ['NOH', 'NOP']}\n",
    "for team in replace_dict.keys():\n",
    "    old, new = replace_dict[team]\n",
    "    bbr_teams_dict[team] = bbr_teams_dict[team].replace(old, new)\n",
    "bbr_teams_dict"
   ]
  },
  {
   "cell_type": "code",
   "execution_count": 6,
   "metadata": {
    "ExecuteTime": {
     "end_time": "2022-07-04T08:23:55.876272Z",
     "start_time": "2022-07-04T08:23:55.868820Z"
    }
   },
   "outputs": [],
   "source": [
    "def scrape_team_season_table(team, season, table_id,\n",
    "                             bbr_teams_dict=bbr_teams_dict, bbr_url=bbr_url):\n",
    "    team_season_url = f'{bbr_url}{bbr_teams_dict[team]}{season+1}.html'\n",
    "#     print(team_season_url)\n",
    "#     time.sleep(3)\n",
    "    team_season_soup = fetch(team_season_url)\n",
    "    table = team_season_soup.find_all('table', {'id': table_id})[0]\n",
    "    \n",
    "    cols = [th['data-stat'] for th in table.find_all('thead')[0].find_all('th')\n",
    "            if th['data-stat'] != 'DUMMY']\n",
    "    data = [[row.find_all('th', {'data-stat': cols[0]})[0].text] +\n",
    "            [row.find_all('td', {'data-stat': col})[0].text\n",
    "             for col in cols[1:]]\n",
    "            for row in table.find_all('tbody')[0].find_all('tr')]\n",
    "    df = pd.DataFrame(data, columns=cols)\n",
    "    df['season'] = season\n",
    "    df['team'] = team\n",
    "    return df"
   ]
  },
  {
   "cell_type": "markdown",
   "metadata": {},
   "source": [
    "### Advanced"
   ]
  },
  {
   "cell_type": "code",
   "execution_count": 8,
   "metadata": {
    "ExecuteTime": {
     "end_time": "2022-07-04T08:30:22.748376Z",
     "start_time": "2022-07-04T08:25:14.561354Z"
    }
   },
   "outputs": [
    {
     "name": "stdout",
     "output_type": "stream",
     "text": [
      "Start Scraping...\n",
      "Atlanta Hawks\n",
      "Boston Celtics\n",
      "Brooklyn Nets\n",
      "Charlotte Hornets\n",
      "Chicago Bulls\n",
      "Cleveland Cavaliers\n",
      "Dallas Mavericks\n",
      "Denver Nuggets\n",
      "Detroit Pistons\n",
      "Golden State Warriors\n",
      "Houston Rockets\n",
      "Indiana Pacers\n",
      "Los Angeles Clippers\n",
      "Los Angeles Lakers\n",
      "Memphis Grizzlies\n",
      "Miami Heat\n",
      "Milwaukee Bucks\n",
      "Minnesota Timberwolves\n",
      "New Orleans Pelicans\n",
      "New York Knicks\n",
      "Oklahoma City Thunder\n",
      "Orlando Magic\n",
      "Philadelphia 76ers\n",
      "Phoenix Suns\n",
      "Portland Trail Blazers\n",
      "Sacramento Kings\n",
      "San Antonio Spurs\n",
      "Toronto Raptors\n",
      "Utah Jazz\n",
      "Washington Wizards\n",
      "Done.\n"
     ]
    }
   ],
   "source": [
    "print('Start Scraping...')\n",
    "team_dfs = {}\n",
    "for team in bbr_teams_dict.keys():\n",
    "    print(team)\n",
    "    team_dfs[team] = pd.concat([scrape_team_season_table(team, season, 'advanced')\n",
    "                                for season in range(2016, 2022)])\n",
    "print('Done.')"
   ]
  },
  {
   "cell_type": "code",
   "execution_count": 9,
   "metadata": {
    "ExecuteTime": {
     "end_time": "2022-07-04T08:30:22.789285Z",
     "start_time": "2022-07-04T08:30:22.751417Z"
    }
   },
   "outputs": [],
   "source": [
    "df = pd.concat([team_dfs[team] for team in team_dfs.keys()])\\\n",
    "       .reset_index().drop('index', axis=1)\n",
    "df['player_alt'] = df['player'].apply(unidecode)"
   ]
  },
  {
   "cell_type": "code",
   "execution_count": 10,
   "metadata": {
    "ExecuteTime": {
     "end_time": "2022-07-04T08:30:22.846135Z",
     "start_time": "2022-07-04T08:30:22.791585Z"
    }
   },
   "outputs": [],
   "source": [
    "df.to_csv('bbr_nba_advanced_stats.csv', index=False)"
   ]
  },
  {
   "cell_type": "code",
   "execution_count": 11,
   "metadata": {
    "ExecuteTime": {
     "end_time": "2022-07-04T08:30:22.876651Z",
     "start_time": "2022-07-04T08:30:22.849215Z"
    }
   },
   "outputs": [
    {
     "data": {
      "text/html": [
       "<div>\n",
       "<style scoped>\n",
       "    .dataframe tbody tr th:only-of-type {\n",
       "        vertical-align: middle;\n",
       "    }\n",
       "\n",
       "    .dataframe tbody tr th {\n",
       "        vertical-align: top;\n",
       "    }\n",
       "\n",
       "    .dataframe thead th {\n",
       "        text-align: right;\n",
       "    }\n",
       "</style>\n",
       "<table border=\"1\" class=\"dataframe\">\n",
       "  <thead>\n",
       "    <tr style=\"text-align: right;\">\n",
       "      <th></th>\n",
       "      <th>player</th>\n",
       "      <th>player_alt</th>\n",
       "    </tr>\n",
       "  </thead>\n",
       "  <tbody>\n",
       "    <tr>\n",
       "      <th>0</th>\n",
       "      <td>Dennis Schröder</td>\n",
       "      <td>Dennis Schroder</td>\n",
       "    </tr>\n",
       "    <tr>\n",
       "      <th>11</th>\n",
       "      <td>Ersan İlyasova</td>\n",
       "      <td>Ersan Ilyasova</td>\n",
       "    </tr>\n",
       "    <tr>\n",
       "      <th>14</th>\n",
       "      <td>José Calderón</td>\n",
       "      <td>Jose Calderon</td>\n",
       "    </tr>\n",
       "    <tr>\n",
       "      <th>40</th>\n",
       "      <td>Nicolás Brussino</td>\n",
       "      <td>Nicolas Brussino</td>\n",
       "    </tr>\n",
       "    <tr>\n",
       "      <th>90</th>\n",
       "      <td>Bogdan Bogdanović</td>\n",
       "      <td>Bogdan Bogdanovic</td>\n",
       "    </tr>\n",
       "    <tr>\n",
       "      <th>114</th>\n",
       "      <td>Timothé Luwawu-Cabarrot</td>\n",
       "      <td>Timothe Luwawu-Cabarrot</td>\n",
       "    </tr>\n",
       "    <tr>\n",
       "      <th>233</th>\n",
       "      <td>Juancho Hernangómez</td>\n",
       "      <td>Juancho Hernangomez</td>\n",
       "    </tr>\n",
       "    <tr>\n",
       "      <th>250</th>\n",
       "      <td>Bojan Bogdanović</td>\n",
       "      <td>Bojan Bogdanovic</td>\n",
       "    </tr>\n",
       "    <tr>\n",
       "      <th>265</th>\n",
       "      <td>Greivis Vásquez</td>\n",
       "      <td>Greivis Vasquez</td>\n",
       "    </tr>\n",
       "    <tr>\n",
       "      <th>303</th>\n",
       "      <td>Džanan Musa</td>\n",
       "      <td>Dzanan Musa</td>\n",
       "    </tr>\n",
       "    <tr>\n",
       "      <th>374</th>\n",
       "      <td>Goran Dragić</td>\n",
       "      <td>Goran Dragic</td>\n",
       "    </tr>\n",
       "    <tr>\n",
       "      <th>414</th>\n",
       "      <td>Willy Hernangómez</td>\n",
       "      <td>Willy Hernangomez</td>\n",
       "    </tr>\n",
       "    <tr>\n",
       "      <th>491</th>\n",
       "      <td>Nikola Mirotić</td>\n",
       "      <td>Nikola Mirotic</td>\n",
       "    </tr>\n",
       "    <tr>\n",
       "      <th>494</th>\n",
       "      <td>Cristiano Felício</td>\n",
       "      <td>Cristiano Felicio</td>\n",
       "    </tr>\n",
       "    <tr>\n",
       "      <th>524</th>\n",
       "      <td>Ömer Aşık</td>\n",
       "      <td>Omer Asik</td>\n",
       "    </tr>\n",
       "    <tr>\n",
       "      <th>549</th>\n",
       "      <td>Tomáš Satoranský</td>\n",
       "      <td>Tomas Satoransky</td>\n",
       "    </tr>\n",
       "    <tr>\n",
       "      <th>573</th>\n",
       "      <td>Nikola Vučević</td>\n",
       "      <td>Nikola Vucevic</td>\n",
       "    </tr>\n",
       "    <tr>\n",
       "      <th>648</th>\n",
       "      <td>Ante Žižić</td>\n",
       "      <td>Ante Zizic</td>\n",
       "    </tr>\n",
       "    <tr>\n",
       "      <th>723</th>\n",
       "      <td>Anderson Varejão</td>\n",
       "      <td>Anderson Varejao</td>\n",
       "    </tr>\n",
       "    <tr>\n",
       "      <th>798</th>\n",
       "      <td>Luka Dončić</td>\n",
       "      <td>Luka Doncic</td>\n",
       "    </tr>\n",
       "    <tr>\n",
       "      <th>823</th>\n",
       "      <td>Kristaps Porziņģis</td>\n",
       "      <td>Kristaps Porzingis</td>\n",
       "    </tr>\n",
       "    <tr>\n",
       "      <th>830</th>\n",
       "      <td>Boban Marjanović</td>\n",
       "      <td>Boban Marjanovic</td>\n",
       "    </tr>\n",
       "    <tr>\n",
       "      <th>850</th>\n",
       "      <td>Nicolò Melli</td>\n",
       "      <td>Nicolo Melli</td>\n",
       "    </tr>\n",
       "    <tr>\n",
       "      <th>871</th>\n",
       "      <td>Dāvis Bertāns</td>\n",
       "      <td>Davis Bertans</td>\n",
       "    </tr>\n",
       "    <tr>\n",
       "      <th>887</th>\n",
       "      <td>Nikola Jokić</td>\n",
       "      <td>Nikola Jokic</td>\n",
       "    </tr>\n",
       "    <tr>\n",
       "      <th>894</th>\n",
       "      <td>Jusuf Nurkić</td>\n",
       "      <td>Jusuf Nurkic</td>\n",
       "    </tr>\n",
       "    <tr>\n",
       "      <th>955</th>\n",
       "      <td>Vlatko Čančar</td>\n",
       "      <td>Vlatko Cancar</td>\n",
       "    </tr>\n",
       "    <tr>\n",
       "      <th>1199</th>\n",
       "      <td>Alen Smailagić</td>\n",
       "      <td>Alen Smailagic</td>\n",
       "    </tr>\n",
       "    <tr>\n",
       "      <th>1246</th>\n",
       "      <td>Nenê</td>\n",
       "      <td>Nene</td>\n",
       "    </tr>\n",
       "    <tr>\n",
       "      <th>1362</th>\n",
       "      <td>Alperen Şengün</td>\n",
       "      <td>Alperen Sengun</td>\n",
       "    </tr>\n",
       "    <tr>\n",
       "      <th>1385</th>\n",
       "      <td>Kevin Séraphin</td>\n",
       "      <td>Kevin Seraphin</td>\n",
       "    </tr>\n",
       "    <tr>\n",
       "      <th>1513</th>\n",
       "      <td>Miloš Teodosić</td>\n",
       "      <td>Milos Teodosic</td>\n",
       "    </tr>\n",
       "    <tr>\n",
       "      <th>1548</th>\n",
       "      <td>Ángel Delgado</td>\n",
       "      <td>Angel Delgado</td>\n",
       "    </tr>\n",
       "    <tr>\n",
       "      <th>1794</th>\n",
       "      <td>Jonas Valančiūnas</td>\n",
       "      <td>Jonas Valanciunas</td>\n",
       "    </tr>\n",
       "    <tr>\n",
       "      <th>1994</th>\n",
       "      <td>Mirza Teletović</td>\n",
       "      <td>Mirza Teletovic</td>\n",
       "    </tr>\n",
       "    <tr>\n",
       "      <th>2158</th>\n",
       "      <td>Dario Šarić</td>\n",
       "      <td>Dario Saric</td>\n",
       "    </tr>\n",
       "    <tr>\n",
       "      <th>2242</th>\n",
       "      <td>Alexis Ajinça</td>\n",
       "      <td>Alexis Ajinca</td>\n",
       "    </tr>\n",
       "    <tr>\n",
       "      <th>2245</th>\n",
       "      <td>Donatas Motiejūnas</td>\n",
       "      <td>Donatas Motiejunas</td>\n",
       "    </tr>\n",
       "    <tr>\n",
       "      <th>2299</th>\n",
       "      <td>Dairis Bertāns</td>\n",
       "      <td>Dairis Bertans</td>\n",
       "    </tr>\n",
       "    <tr>\n",
       "      <th>2374</th>\n",
       "      <td>Sasha Vujačić</td>\n",
       "      <td>Sasha Vujacic</td>\n",
       "    </tr>\n",
       "    <tr>\n",
       "      <th>2488</th>\n",
       "      <td>Álex Abrines</td>\n",
       "      <td>Alex Abrines</td>\n",
       "    </tr>\n",
       "    <tr>\n",
       "      <th>2553</th>\n",
       "      <td>Théo Maledon</td>\n",
       "      <td>Theo Maledon</td>\n",
       "    </tr>\n",
       "    <tr>\n",
       "      <th>2613</th>\n",
       "      <td>Damjan Rudež</td>\n",
       "      <td>Damjan Rudez</td>\n",
       "    </tr>\n",
       "    <tr>\n",
       "      <th>2699</th>\n",
       "      <td>Karim Mané</td>\n",
       "      <td>Karim Mane</td>\n",
       "    </tr>\n",
       "    <tr>\n",
       "      <th>2730</th>\n",
       "      <td>Sergio Rodríguez</td>\n",
       "      <td>Sergio Rodriguez</td>\n",
       "    </tr>\n",
       "    <tr>\n",
       "      <th>3031</th>\n",
       "      <td>Skal Labissière</td>\n",
       "      <td>Skal Labissiere</td>\n",
       "    </tr>\n",
       "    <tr>\n",
       "      <th>3234</th>\n",
       "      <td>Manu Ginóbili</td>\n",
       "      <td>Manu Ginobili</td>\n",
       "    </tr>\n",
       "    <tr>\n",
       "      <th>3239</th>\n",
       "      <td>Nicolás Laprovíttola</td>\n",
       "      <td>Nicolas Laprovittola</td>\n",
       "    </tr>\n",
       "    <tr>\n",
       "      <th>3290</th>\n",
       "      <td>Luka Šamanić</td>\n",
       "      <td>Luka Samanic</td>\n",
       "    </tr>\n",
       "    <tr>\n",
       "      <th>3641</th>\n",
       "      <td>Anžejs Pasečņiks</td>\n",
       "      <td>Anzejs Pasecniks</td>\n",
       "    </tr>\n",
       "  </tbody>\n",
       "</table>\n",
       "</div>"
      ],
      "text/plain": [
       "                       player               player_alt\n",
       "0             Dennis Schröder          Dennis Schroder\n",
       "11             Ersan İlyasova           Ersan Ilyasova\n",
       "14              José Calderón            Jose Calderon\n",
       "40           Nicolás Brussino         Nicolas Brussino\n",
       "90          Bogdan Bogdanović        Bogdan Bogdanovic\n",
       "114   Timothé Luwawu-Cabarrot  Timothe Luwawu-Cabarrot\n",
       "233       Juancho Hernangómez      Juancho Hernangomez\n",
       "250          Bojan Bogdanović         Bojan Bogdanovic\n",
       "265           Greivis Vásquez          Greivis Vasquez\n",
       "303               Džanan Musa              Dzanan Musa\n",
       "374              Goran Dragić             Goran Dragic\n",
       "414         Willy Hernangómez        Willy Hernangomez\n",
       "491            Nikola Mirotić           Nikola Mirotic\n",
       "494         Cristiano Felício        Cristiano Felicio\n",
       "524                 Ömer Aşık                Omer Asik\n",
       "549          Tomáš Satoranský         Tomas Satoransky\n",
       "573            Nikola Vučević           Nikola Vucevic\n",
       "648                Ante Žižić               Ante Zizic\n",
       "723          Anderson Varejão         Anderson Varejao\n",
       "798               Luka Dončić              Luka Doncic\n",
       "823        Kristaps Porziņģis       Kristaps Porzingis\n",
       "830          Boban Marjanović         Boban Marjanovic\n",
       "850              Nicolò Melli             Nicolo Melli\n",
       "871             Dāvis Bertāns            Davis Bertans\n",
       "887              Nikola Jokić             Nikola Jokic\n",
       "894              Jusuf Nurkić             Jusuf Nurkic\n",
       "955             Vlatko Čančar            Vlatko Cancar\n",
       "1199           Alen Smailagić           Alen Smailagic\n",
       "1246                     Nenê                     Nene\n",
       "1362           Alperen Şengün           Alperen Sengun\n",
       "1385           Kevin Séraphin           Kevin Seraphin\n",
       "1513           Miloš Teodosić           Milos Teodosic\n",
       "1548            Ángel Delgado            Angel Delgado\n",
       "1794        Jonas Valančiūnas        Jonas Valanciunas\n",
       "1994          Mirza Teletović          Mirza Teletovic\n",
       "2158              Dario Šarić              Dario Saric\n",
       "2242            Alexis Ajinça            Alexis Ajinca\n",
       "2245       Donatas Motiejūnas       Donatas Motiejunas\n",
       "2299           Dairis Bertāns           Dairis Bertans\n",
       "2374            Sasha Vujačić            Sasha Vujacic\n",
       "2488             Álex Abrines             Alex Abrines\n",
       "2553             Théo Maledon             Theo Maledon\n",
       "2613             Damjan Rudež             Damjan Rudez\n",
       "2699               Karim Mané               Karim Mane\n",
       "2730         Sergio Rodríguez         Sergio Rodriguez\n",
       "3031          Skal Labissière          Skal Labissiere\n",
       "3234            Manu Ginóbili            Manu Ginobili\n",
       "3239     Nicolás Laprovíttola     Nicolas Laprovittola\n",
       "3290             Luka Šamanić             Luka Samanic\n",
       "3641         Anžejs Pasečņiks         Anzejs Pasecniks"
      ]
     },
     "execution_count": 11,
     "metadata": {},
     "output_type": "execute_result"
    }
   ],
   "source": [
    "df[df['player'] != df['player_alt']][['player', 'player_alt']].drop_duplicates()"
   ]
  },
  {
   "cell_type": "markdown",
   "metadata": {},
   "source": [
    "### Roster"
   ]
  },
  {
   "cell_type": "code",
   "execution_count": 16,
   "metadata": {
    "ExecuteTime": {
     "end_time": "2022-07-04T08:38:40.823843Z",
     "start_time": "2022-07-04T08:34:09.027726Z"
    }
   },
   "outputs": [
    {
     "name": "stdout",
     "output_type": "stream",
     "text": [
      "Start Scraping...\n",
      "Atlanta Hawks\n",
      "Boston Celtics\n",
      "Brooklyn Nets\n",
      "Charlotte Hornets\n",
      "Chicago Bulls\n",
      "Cleveland Cavaliers\n",
      "Dallas Mavericks\n",
      "Denver Nuggets\n",
      "Detroit Pistons\n",
      "Golden State Warriors\n",
      "Houston Rockets\n",
      "Indiana Pacers\n",
      "Los Angeles Clippers\n",
      "Los Angeles Lakers\n",
      "Memphis Grizzlies\n",
      "Miami Heat\n",
      "Milwaukee Bucks\n",
      "Minnesota Timberwolves\n",
      "New Orleans Pelicans\n",
      "New York Knicks\n",
      "Oklahoma City Thunder\n",
      "Orlando Magic\n",
      "Philadelphia 76ers\n",
      "Phoenix Suns\n",
      "Portland Trail Blazers\n",
      "Sacramento Kings\n",
      "San Antonio Spurs\n",
      "Toronto Raptors\n",
      "Utah Jazz\n",
      "Washington Wizards\n",
      "Done.\n"
     ]
    }
   ],
   "source": [
    "print('Start Scraping...')\n",
    "team_dfs = {}\n",
    "for team in bbr_teams_dict.keys():\n",
    "    print(team)\n",
    "    team_dfs[team] = pd.concat([scrape_team_season_table(team, season, 'roster')\n",
    "                                for season in range(2016, 2022)])\n",
    "print('Done.')"
   ]
  },
  {
   "cell_type": "code",
   "execution_count": 17,
   "metadata": {
    "ExecuteTime": {
     "end_time": "2022-07-04T08:38:45.757393Z",
     "start_time": "2022-07-04T08:38:45.729416Z"
    }
   },
   "outputs": [],
   "source": [
    "df = pd.concat([team_dfs[team] for team in team_dfs.keys()])\\\n",
    "       .reset_index().drop('index', axis=1)\n",
    "df['player_alt'] = df['player'].apply(unidecode)"
   ]
  },
  {
   "cell_type": "code",
   "execution_count": 18,
   "metadata": {
    "ExecuteTime": {
     "end_time": "2022-07-04T08:38:46.281975Z",
     "start_time": "2022-07-04T08:38:46.251921Z"
    }
   },
   "outputs": [],
   "source": [
    "df.to_csv('bbr_nba_roster_stats.csv', index=False)"
   ]
  },
  {
   "cell_type": "code",
   "execution_count": 19,
   "metadata": {
    "ExecuteTime": {
     "end_time": "2022-07-04T08:38:46.626038Z",
     "start_time": "2022-07-04T08:38:46.610958Z"
    }
   },
   "outputs": [
    {
     "data": {
      "text/html": [
       "<div>\n",
       "<style scoped>\n",
       "    .dataframe tbody tr th:only-of-type {\n",
       "        vertical-align: middle;\n",
       "    }\n",
       "\n",
       "    .dataframe tbody tr th {\n",
       "        vertical-align: top;\n",
       "    }\n",
       "\n",
       "    .dataframe thead th {\n",
       "        text-align: right;\n",
       "    }\n",
       "</style>\n",
       "<table border=\"1\" class=\"dataframe\">\n",
       "  <thead>\n",
       "    <tr style=\"text-align: right;\">\n",
       "      <th></th>\n",
       "      <th>player</th>\n",
       "      <th>player_alt</th>\n",
       "    </tr>\n",
       "  </thead>\n",
       "  <tbody>\n",
       "    <tr>\n",
       "      <th>2</th>\n",
       "      <td>José Calderón</td>\n",
       "      <td>Jose Calderon</td>\n",
       "    </tr>\n",
       "    <tr>\n",
       "      <th>8</th>\n",
       "      <td>Ersan İlyasova</td>\n",
       "      <td>Ersan Ilyasova</td>\n",
       "    </tr>\n",
       "    <tr>\n",
       "      <th>16</th>\n",
       "      <td>Dennis Schröder</td>\n",
       "      <td>Dennis Schroder</td>\n",
       "    </tr>\n",
       "    <tr>\n",
       "      <th>24</th>\n",
       "      <td>Nicolás Brussino</td>\n",
       "      <td>Nicolas Brussino</td>\n",
       "    </tr>\n",
       "    <tr>\n",
       "      <th>85</th>\n",
       "      <td>Bogdan Bogdanović</td>\n",
       "      <td>Bogdan Bogdanovic</td>\n",
       "    </tr>\n",
       "    <tr>\n",
       "      <th>...</th>\n",
       "      <td>...</td>\n",
       "      <td>...</td>\n",
       "    </tr>\n",
       "    <tr>\n",
       "      <th>3253</th>\n",
       "      <td>David Johnson  (TW)</td>\n",
       "      <td>David Johnson  (TW)</td>\n",
       "    </tr>\n",
       "    <tr>\n",
       "      <th>3360</th>\n",
       "      <td>Xavier Sneed  (TW)</td>\n",
       "      <td>Xavier Sneed  (TW)</td>\n",
       "    </tr>\n",
       "    <tr>\n",
       "      <th>3433</th>\n",
       "      <td>Anžejs Pasečņiks</td>\n",
       "      <td>Anzejs Pasecniks</td>\n",
       "    </tr>\n",
       "    <tr>\n",
       "      <th>3478</th>\n",
       "      <td>Cassius Winston  (TW)</td>\n",
       "      <td>Cassius Winston  (TW)</td>\n",
       "    </tr>\n",
       "    <tr>\n",
       "      <th>3479</th>\n",
       "      <td>Jordan Schakel  (TW)</td>\n",
       "      <td>Jordan Schakel  (TW)</td>\n",
       "    </tr>\n",
       "  </tbody>\n",
       "</table>\n",
       "<p>104 rows × 2 columns</p>\n",
       "</div>"
      ],
      "text/plain": [
       "                     player             player_alt\n",
       "2             José Calderón          Jose Calderon\n",
       "8            Ersan İlyasova         Ersan Ilyasova\n",
       "16          Dennis Schröder        Dennis Schroder\n",
       "24         Nicolás Brussino       Nicolas Brussino\n",
       "85        Bogdan Bogdanović      Bogdan Bogdanovic\n",
       "...                     ...                    ...\n",
       "3253    David Johnson  (TW)    David Johnson  (TW)\n",
       "3360     Xavier Sneed  (TW)     Xavier Sneed  (TW)\n",
       "3433       Anžejs Pasečņiks       Anzejs Pasecniks\n",
       "3478  Cassius Winston  (TW)  Cassius Winston  (TW)\n",
       "3479   Jordan Schakel  (TW)   Jordan Schakel  (TW)\n",
       "\n",
       "[104 rows x 2 columns]"
      ]
     },
     "execution_count": 19,
     "metadata": {},
     "output_type": "execute_result"
    }
   ],
   "source": [
    "df[df['player'] != df['player_alt']][['player', 'player_alt']].drop_duplicates()"
   ]
  }
 ],
 "metadata": {
  "kernelspec": {
   "display_name": "Python 3 (ipykernel)",
   "language": "python",
   "name": "python3"
  },
  "language_info": {
   "codemirror_mode": {
    "name": "ipython",
    "version": 3
   },
   "file_extension": ".py",
   "mimetype": "text/x-python",
   "name": "python",
   "nbconvert_exporter": "python",
   "pygments_lexer": "ipython3",
   "version": "3.8.12"
  }
 },
 "nbformat": 4,
 "nbformat_minor": 2
}
