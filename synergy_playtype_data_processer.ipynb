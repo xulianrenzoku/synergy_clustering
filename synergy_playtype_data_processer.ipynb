{
 "cells": [
  {
   "cell_type": "code",
   "execution_count": 1,
   "metadata": {
    "ExecuteTime": {
     "end_time": "2022-05-04T10:59:50.718463Z",
     "start_time": "2022-05-04T10:59:50.192361Z"
    }
   },
   "outputs": [],
   "source": [
    "import pandas as pd\n",
    "import numpy as np\n",
    "import os\n",
    "import time\n",
    "import pickle\n",
    "from bs4 import BeautifulSoup"
   ]
  },
  {
   "cell_type": "markdown",
   "metadata": {},
   "source": [
    "## Basic Functions"
   ]
  },
  {
   "cell_type": "code",
   "execution_count": 2,
   "metadata": {
    "ExecuteTime": {
     "end_time": "2022-05-04T10:59:50.724875Z",
     "start_time": "2022-05-04T10:59:50.721290Z"
    }
   },
   "outputs": [],
   "source": [
    "def read_html(filename):\n",
    "    soup = BeautifulSoup(open(filename), \"html.parser\")\n",
    "    return soup"
   ]
  },
  {
   "cell_type": "code",
   "execution_count": 3,
   "metadata": {
    "ExecuteTime": {
     "end_time": "2022-05-04T10:59:50.851522Z",
     "start_time": "2022-05-04T10:59:50.844890Z"
    }
   },
   "outputs": [],
   "source": [
    "def dump_pickle(file, filename):\n",
    "    outfile = open(filename, 'wb')\n",
    "    pickle.dump(file, outfile)\n",
    "    outfile.close()\n",
    "\n",
    "def load_pickle(filename):\n",
    "    infile = open(filename, 'rb')\n",
    "    file = pickle.load(infile)\n",
    "    infile.close()\n",
    "    return file"
   ]
  },
  {
   "cell_type": "markdown",
   "metadata": {},
   "source": [
    "## Content"
   ]
  },
  {
   "cell_type": "code",
   "execution_count": 4,
   "metadata": {
    "ExecuteTime": {
     "end_time": "2022-05-04T10:59:51.762276Z",
     "start_time": "2022-05-04T10:59:51.755938Z"
    }
   },
   "outputs": [],
   "source": [
    "def check_content(league, season, team_id):\n",
    "    directory = f'data_{league}_{season}'\n",
    "    \n",
    "    playtypes_dict = {}\n",
    "    \n",
    "    for side in ['offense', 'defense']:\n",
    "        soup = read_html(f'{directory}/{team_id}_{side}.html')\n",
    "        team = soup.find_all('h1')[0].text.split('-')[-1].strip()\n",
    "        print(f'{team} - {side}')\n",
    "        \n",
    "        tables = soup.find_all('table')\n",
    "        print('# of tables:', len(tables))\n",
    "\n",
    "        playtypes = []\n",
    "        for idx in range(len(tables)):\n",
    "            table = tables[idx]\n",
    "            cols = table.find_all('tr', {'class': 'TierHeader'})\n",
    "            if cols:\n",
    "                playtype = cols[0].find_all('td')[0].text\n",
    "                print(idx, playtype)\n",
    "                if idx > 10:\n",
    "                    playtypes.append(playtype.strip())\n",
    "\n",
    "        playtypes_dict[side] = playtypes\n",
    "        print()\n",
    "        \n",
    "    return playtypes_dict"
   ]
  },
  {
   "cell_type": "code",
   "execution_count": 5,
   "metadata": {
    "ExecuteTime": {
     "end_time": "2022-05-04T10:59:55.709782Z",
     "start_time": "2022-05-04T10:59:55.044279Z"
    }
   },
   "outputs": [
    {
     "name": "stdout",
     "output_type": "stream",
     "text": [
      "Shanghai Bilibili Sharks - offense\n",
      "# of tables: 22\n",
      "1 Overall Offense\n",
      "2 Play Types\n",
      "3 Offense Including Passes\n",
      "4 During Pass Out Situations\n",
      "5 During Trapping Situations\n",
      "6 Shot Attempt - Half Court\n",
      "7 Catch and Shoot - Half Court\n",
      "8 Dribble Jumper - Half Court\n",
      "9 Jump Shot Range - half court\n",
      "10  Overall\n",
      "11  Transition\n",
      "12  Spot Up\n",
      "13  P&R Ball Handler\n",
      "14  Cut\n",
      "15  Offensive Rebounds (put backs)\n",
      "16  Post-Up\n",
      "17  P&R Roll Man\n",
      "18  Isolation\n",
      "19  Off Screen\n",
      "20  Hand Off\n",
      "21  Miscellaneous\n",
      "\n",
      "Shanghai Bilibili Sharks - defense\n",
      "# of tables: 18\n",
      "1 Overall Defense\n",
      "2 Play Types\n",
      "3 Offense Including Passes\n",
      "4 During Pass Out Situations\n",
      "5 During Trapping Situations\n",
      "6 Shot Attempt - Half Court\n",
      "7 Catch and Shoot - Half Court\n",
      "8 Dribble Jumper - Half Court\n",
      "9 Jump Shot Range - half court\n",
      "10  Overall\n",
      "11  Spot Up\n",
      "12  P&R Ball Handler\n",
      "13  Post-Up\n",
      "14  P&R Roll Man\n",
      "15  Off Screen\n",
      "16  Isolation\n",
      "17  Hand Off\n",
      "\n"
     ]
    },
    {
     "data": {
      "text/plain": [
       "{'offense': ['Transition',\n",
       "  'Spot Up',\n",
       "  'P&R Ball Handler',\n",
       "  'Cut',\n",
       "  'Offensive Rebounds (put backs)',\n",
       "  'Post-Up',\n",
       "  'P&R Roll Man',\n",
       "  'Isolation',\n",
       "  'Off Screen',\n",
       "  'Hand Off',\n",
       "  'Miscellaneous'],\n",
       " 'defense': ['Spot Up',\n",
       "  'P&R Ball Handler',\n",
       "  'Post-Up',\n",
       "  'P&R Roll Man',\n",
       "  'Off Screen',\n",
       "  'Isolation',\n",
       "  'Hand Off']}"
      ]
     },
     "execution_count": 5,
     "metadata": {},
     "output_type": "execute_result"
    }
   ],
   "source": [
    "check_content('cba', 2021, '528')"
   ]
  },
  {
   "cell_type": "code",
   "execution_count": 6,
   "metadata": {
    "ExecuteTime": {
     "end_time": "2022-05-04T11:00:04.174569Z",
     "start_time": "2022-05-04T11:00:03.223973Z"
    }
   },
   "outputs": [
    {
     "name": "stdout",
     "output_type": "stream",
     "text": [
      "Boston Celtics - offense\n",
      "# of tables: 23\n",
      "1 Overall Offense\n",
      "2 Play Types\n",
      "3 Offense Including Passes\n",
      "4 During Pass Out Situations\n",
      "5 During Trapping Situations\n",
      "6 Shot Attempt - Half Court\n",
      "7 Catch and Shoot - Half Court\n",
      "8 Dribble Jumper - Half Court\n",
      "9 Jump Shot Range - half court\n",
      "10  Overall\n",
      "11  Spot Up\n",
      "12  P&R Ball Handler\n",
      "13  Transition\n",
      "14  Isolation\n",
      "15  Cut\n",
      "16  Offensive Rebounds (put backs)\n",
      "17  Off Screen\n",
      "18  P&R Roll Man\n",
      "19  Post-Up\n",
      "20  Hand Off\n",
      "21  Miscellaneous\n",
      "22  #7 Jaylen Brown\n",
      "\n",
      "Boston Celtics - defense\n",
      "# of tables: 18\n",
      "1 Overall Defense\n",
      "2 Play Types\n",
      "3 Offense Including Passes\n",
      "4 During Pass Out Situations\n",
      "5 During Trapping Situations\n",
      "6 Shot Attempt - Half Court\n",
      "7 Catch and Shoot - Half Court\n",
      "8 Dribble Jumper - Half Court\n",
      "9 Jump Shot Range - half court\n",
      "10  Overall\n",
      "11  Spot Up\n",
      "12  P&R Ball Handler\n",
      "13  Isolation\n",
      "14  P&R Roll Man\n",
      "15  Hand Off\n",
      "16  Post-Up\n",
      "17  Off Screen\n",
      "\n"
     ]
    },
    {
     "data": {
      "text/plain": [
       "{'offense': ['Spot Up',\n",
       "  'P&R Ball Handler',\n",
       "  'Transition',\n",
       "  'Isolation',\n",
       "  'Cut',\n",
       "  'Offensive Rebounds (put backs)',\n",
       "  'Off Screen',\n",
       "  'P&R Roll Man',\n",
       "  'Post-Up',\n",
       "  'Hand Off',\n",
       "  'Miscellaneous',\n",
       "  '#7 Jaylen Brown'],\n",
       " 'defense': ['Spot Up',\n",
       "  'P&R Ball Handler',\n",
       "  'Isolation',\n",
       "  'P&R Roll Man',\n",
       "  'Hand Off',\n",
       "  'Post-Up',\n",
       "  'Off Screen']}"
      ]
     },
     "execution_count": 6,
     "metadata": {},
     "output_type": "execute_result"
    }
   ],
   "source": [
    "check_content('nba', 2021, '1')"
   ]
  },
  {
   "cell_type": "code",
   "execution_count": 7,
   "metadata": {
    "ExecuteTime": {
     "end_time": "2022-05-04T11:00:07.474139Z",
     "start_time": "2022-05-04T11:00:07.049164Z"
    }
   },
   "outputs": [
    {
     "name": "stdout",
     "output_type": "stream",
     "text": [
      "Gasteiz - offense\n",
      "# of tables: 22\n",
      "1 Overall Offense\n",
      "2 Play Types\n",
      "3 Offense Including Passes\n",
      "4 During Pass Out Situations\n",
      "5 During Trapping Situations\n",
      "6 Shot Attempt - Half Court\n",
      "7 Catch and Shoot - Half Court\n",
      "8 Dribble Jumper - Half Court\n",
      "9 Jump Shot Range - half court\n",
      "10  Overall\n",
      "11  Spot Up\n",
      "12  P&R Ball Handler\n",
      "13  Transition\n",
      "14  Cut\n",
      "15  Post-Up\n",
      "16  Off Screen\n",
      "17  Offensive Rebounds (put backs)\n",
      "18  P&R Roll Man\n",
      "19  Isolation\n",
      "20  Hand Off\n",
      "21  Miscellaneous\n",
      "\n",
      "Gasteiz - defense\n",
      "# of tables: 18\n",
      "1 Overall Defense\n",
      "2 Play Types\n",
      "3 Offense Including Passes\n",
      "4 During Pass Out Situations\n",
      "5 During Trapping Situations\n",
      "6 Shot Attempt - Half Court\n",
      "7 Catch and Shoot - Half Court\n",
      "8 Dribble Jumper - Half Court\n",
      "9 Jump Shot Range - half court\n",
      "10  Overall\n",
      "11  Spot Up\n",
      "12  P&R Ball Handler\n",
      "13  Isolation\n",
      "14  Post-Up\n",
      "15  P&R Roll Man\n",
      "16  Off Screen\n",
      "17  Hand Off\n",
      "\n"
     ]
    },
    {
     "data": {
      "text/plain": [
       "{'offense': ['Spot Up',\n",
       "  'P&R Ball Handler',\n",
       "  'Transition',\n",
       "  'Cut',\n",
       "  'Post-Up',\n",
       "  'Off Screen',\n",
       "  'Offensive Rebounds (put backs)',\n",
       "  'P&R Roll Man',\n",
       "  'Isolation',\n",
       "  'Hand Off',\n",
       "  'Miscellaneous'],\n",
       " 'defense': ['Spot Up',\n",
       "  'P&R Ball Handler',\n",
       "  'Isolation',\n",
       "  'Post-Up',\n",
       "  'P&R Roll Man',\n",
       "  'Off Screen',\n",
       "  'Hand Off']}"
      ]
     },
     "execution_count": 7,
     "metadata": {},
     "output_type": "execute_result"
    }
   ],
   "source": [
    "check_content('euroleague', 2020, '521')"
   ]
  },
  {
   "cell_type": "markdown",
   "metadata": {},
   "source": [
    "Therefore, set a dictionary for the top index of playtypes"
   ]
  },
  {
   "cell_type": "code",
   "execution_count": 8,
   "metadata": {
    "ExecuteTime": {
     "end_time": "2022-05-04T11:00:09.698660Z",
     "start_time": "2022-05-04T11:00:09.695430Z"
    }
   },
   "outputs": [],
   "source": [
    "side_idx_cap = {'offense': 22, 'defense': 18}"
   ]
  },
  {
   "cell_type": "markdown",
   "metadata": {},
   "source": [
    "## Data Prep"
   ]
  },
  {
   "cell_type": "code",
   "execution_count": 9,
   "metadata": {
    "ExecuteTime": {
     "end_time": "2022-05-04T11:00:10.666508Z",
     "start_time": "2022-05-04T11:00:10.659260Z"
    }
   },
   "outputs": [],
   "source": [
    "def get_playtype_df(tables, idx, including_team=False):\n",
    "    data = [[td.text for td in row.find_all('td')]\n",
    "            for row in tables[idx].find_all('tr')]\n",
    "    data[0][0] = data[0][0].strip()\n",
    "    playtype = data[0][0]\n",
    "    start_point = 1 if including_team else 2\n",
    "    df = pd.DataFrame(data[start_point:], columns=data[0])\\\n",
    "           .rename(columns={playtype: 'Player'})\n",
    "    df = df[df['Points'] != '-']\n",
    "    for col in ['Poss', 'Points']:\n",
    "        df[col] = df[col].apply(int)\n",
    "    df['PPP'] = df['PPP'].apply(float)\n",
    "    df['Rank'] = df['Rank'].apply(lambda x: x.replace('%', '') if '%' in x else x)\n",
    "    output_cols = ['Player', 'Poss', 'Points', 'PPP', 'Rank', 'Rating']\n",
    "    output = df[output_cols].rename(columns={col: f'{playtype}_{col}'\n",
    "                                             for col in output_cols \n",
    "                                             if col != 'Player'})\n",
    "    return output"
   ]
  },
  {
   "cell_type": "code",
   "execution_count": 10,
   "metadata": {
    "ExecuteTime": {
     "end_time": "2022-05-04T11:00:11.566584Z",
     "start_time": "2022-05-04T11:00:11.558834Z"
    }
   },
   "outputs": [],
   "source": [
    "def get_team_playtype_df(soup, cap):\n",
    "    team = soup.find_all('h1')[0].text.split(' - ')[-1].strip()\n",
    "    tables = soup.find_all('table')\n",
    "#     print(team)\n",
    "    \n",
    "    # Get data\n",
    "    playtype_df = get_playtype_df(tables, 10)\n",
    "    playtype_df['Team'] = team\n",
    "    \n",
    "    for i in range(11, cap):\n",
    "        playtype_df = playtype_df.merge(get_playtype_df(tables, i),\n",
    "                                        how='left', on='Player')\n",
    "    \n",
    "    # Issues with NBA\n",
    "    if len(tables) > cap:\n",
    "        prob_poss_dict = {row[0]: int(row[1])\n",
    "                          for row in get_playtype_df(tables, cap, including_team=True).values}\n",
    "        playtype_df['Overall_Poss'] = playtype_df['Overall_Poss'] - \\\n",
    "                                      playtype_df['Player'].apply(lambda x: \n",
    "                                      prob_poss_dict[x] if x in prob_poss_dict.keys() else 0)\n",
    "    \n",
    "    # Test if possession sums up right\n",
    "    poss_cols = [col for col in playtype_df.columns if 'Poss' in col and col != 'Overall_Poss']\n",
    "    overall_minus_playtypes_sum = playtype_df['Overall_Poss'] - \\\n",
    "                                  playtype_df[poss_cols].sum(axis=1)\n",
    "    poss_test_res = len(set(overall_minus_playtypes_sum))\n",
    "    if poss_test_res != 1:\n",
    "        n_players = len([n for n in list(overall_minus_playtypes_sum) if n !=0 ])\n",
    "        print(f'Issue found with {team}: {n_players} players with unequal possessions')\n",
    "        \n",
    "    # Get Poss% columns\n",
    "    for col in poss_cols:\n",
    "        playtype_df[f'{col}%'] = playtype_df[col] / playtype_df['Overall_Poss']\n",
    "        playtype_df[f'{col}%'] = playtype_df[f'{col}%'].fillna(0)\n",
    "        playtype_df[col] = playtype_df[col].fillna(0)\n",
    "    \n",
    "    return playtype_df"
   ]
  },
  {
   "cell_type": "code",
   "execution_count": 11,
   "metadata": {
    "ExecuteTime": {
     "end_time": "2022-05-04T11:00:12.569206Z",
     "start_time": "2022-05-04T11:00:12.565375Z"
    }
   },
   "outputs": [],
   "source": [
    "def get_league_playtype_df(directory, side, side_idx_cap=side_idx_cap):\n",
    "    team_playtype_dfs = []\n",
    "    for file in os.listdir(directory):\n",
    "        if side in file:\n",
    "            soup = read_html(f'{directory}/{file}')\n",
    "            team_playtype_dfs.append(get_team_playtype_df(soup, side_idx_cap[side]))\n",
    "    return pd.concat(team_playtype_dfs)"
   ]
  },
  {
   "cell_type": "code",
   "execution_count": 12,
   "metadata": {
    "ExecuteTime": {
     "end_time": "2022-05-04T11:00:12.781079Z",
     "start_time": "2022-05-04T11:00:12.777456Z"
    }
   },
   "outputs": [],
   "source": [
    "def get_season_playtype_df(season, league):\n",
    "    print(season)\n",
    "    season_dfs = {}\n",
    "    directory = f'data_{league}_{season}'\n",
    "    print('offense')\n",
    "    offense_df = get_league_playtype_df(directory, 'offense')\n",
    "    offense_df['Season'] = season\n",
    "    print('defense')\n",
    "    defense_df = get_league_playtype_df(directory, 'defense')\n",
    "    defense_df['Season'] = season\n",
    "    return {'offense': offense_df, 'defense': defense_df}"
   ]
  },
  {
   "cell_type": "markdown",
   "metadata": {
    "ExecuteTime": {
     "end_time": "2022-01-18T15:56:29.266953Z",
     "start_time": "2022-01-18T15:56:29.257150Z"
    }
   },
   "source": [
    "### CBA"
   ]
  },
  {
   "cell_type": "code",
   "execution_count": 13,
   "metadata": {
    "ExecuteTime": {
     "end_time": "2022-05-04T11:01:29.386768Z",
     "start_time": "2022-05-04T11:00:18.780479Z"
    }
   },
   "outputs": [
    {
     "name": "stdout",
     "output_type": "stream",
     "text": [
      "2017\n",
      "offense\n",
      "defense\n",
      "2018\n",
      "offense\n",
      "defense\n",
      "2019\n",
      "offense\n",
      "defense\n",
      "2020\n",
      "offense\n",
      "defense\n",
      "2021\n",
      "offense\n",
      "defense\n"
     ]
    }
   ],
   "source": [
    "cba_dfs = {season: get_season_playtype_df(season, 'cba')\n",
    "           for season in range(2017, 2022)}"
   ]
  },
  {
   "cell_type": "code",
   "execution_count": 14,
   "metadata": {
    "ExecuteTime": {
     "end_time": "2022-05-04T11:01:29.590577Z",
     "start_time": "2022-05-04T11:01:29.389479Z"
    }
   },
   "outputs": [],
   "source": [
    "cba_cols = {type_: cba_dfs[2021][type_].columns\n",
    "            for type_ in ['offense', 'defense']}\n",
    "for type_ in ['offense', 'defense']:\n",
    "    pd.concat([cba_dfs[season][type_][cba_cols[type_]] for season in range(2017, 2022)])\\\n",
    "      .reset_index().drop('index', axis=1)\\\n",
    "      .to_csv(f'cba_{type_}.csv', index=False)"
   ]
  },
  {
   "cell_type": "markdown",
   "metadata": {},
   "source": [
    "### Euroleague"
   ]
  },
  {
   "cell_type": "code",
   "execution_count": 15,
   "metadata": {
    "ExecuteTime": {
     "end_time": "2022-05-04T11:01:29.596594Z",
     "start_time": "2022-05-04T11:01:29.593699Z"
    }
   },
   "outputs": [],
   "source": [
    "# euroleague_dfs = {season: get_season_playtype_df(season, 'euroleague')\n",
    "#                   for season in range(2016, 2021)}"
   ]
  },
  {
   "cell_type": "code",
   "execution_count": 16,
   "metadata": {
    "ExecuteTime": {
     "end_time": "2022-05-04T11:01:29.604347Z",
     "start_time": "2022-05-04T11:01:29.601416Z"
    }
   },
   "outputs": [],
   "source": [
    "# euroleague_cols = {type_: euroleague_dfs[2020][type_].columns\n",
    "#                    for type_ in ['offense', 'defense']}\n",
    "# for type_ in ['offense', 'defense']:\n",
    "#     pd.concat([euroleague_dfs[season][type_][euroleague_cols[type_]] for season in range(2016, 2021)])\\\n",
    "#       .reset_index().drop('index', axis=1)\\\n",
    "#       .to_csv(f'euroleague_{type_}.csv', index=False)"
   ]
  },
  {
   "cell_type": "markdown",
   "metadata": {},
   "source": [
    "### NBA"
   ]
  },
  {
   "cell_type": "code",
   "execution_count": 17,
   "metadata": {
    "ExecuteTime": {
     "end_time": "2022-05-04T11:03:56.190088Z",
     "start_time": "2022-05-04T11:01:29.607020Z"
    }
   },
   "outputs": [
    {
     "name": "stdout",
     "output_type": "stream",
     "text": [
      "2016\n",
      "offense\n",
      "Issue found with Memphis Grizzlies: 9 players with unequal possessions\n",
      "Issue found with Washington Wizards: 11 players with unequal possessions\n",
      "Issue found with Charlotte Hornets: 6 players with unequal possessions\n",
      "Issue found with San Antonio Spurs: 4 players with unequal possessions\n",
      "Issue found with Atlanta Hawks: 7 players with unequal possessions\n",
      "Issue found with Boston Celtics: 7 players with unequal possessions\n",
      "Issue found with Philadelphia 76ers: 8 players with unequal possessions\n",
      "Issue found with Golden State Warriors: 9 players with unequal possessions\n",
      "Issue found with Oklahoma City Thunder: 7 players with unequal possessions\n",
      "Issue found with Cleveland Cavaliers: 8 players with unequal possessions\n",
      "Issue found with Detroit Pistons: 7 players with unequal possessions\n",
      "Issue found with Dallas Mavericks: 9 players with unequal possessions\n",
      "Issue found with Denver Nuggets: 8 players with unequal possessions\n",
      "Issue found with Chicago Bulls: 7 players with unequal possessions\n",
      "Issue found with Houston Rockets: 8 players with unequal possessions\n",
      "Issue found with New York Knicks: 7 players with unequal possessions\n",
      "Issue found with Brooklyn Nets: 9 players with unequal possessions\n",
      "Issue found with Minnesota Timberwolves: 7 players with unequal possessions\n",
      "Issue found with New Orleans Pelicans: 7 players with unequal possessions\n",
      "Issue found with Indiana Pacers: 7 players with unequal possessions\n",
      "Issue found with Portland Trail Blazers: 8 players with unequal possessions\n",
      "Issue found with Orlando Magic: 5 players with unequal possessions\n",
      "defense\n",
      "Issue found with Utah Jazz: 14 players with unequal possessions\n",
      "Issue found with Memphis Grizzlies: 17 players with unequal possessions\n",
      "Issue found with Toronto Raptors: 17 players with unequal possessions\n",
      "Issue found with Los Angeles Lakers: 18 players with unequal possessions\n",
      "Issue found with Washington Wizards: 16 players with unequal possessions\n",
      "Issue found with Charlotte Hornets: 17 players with unequal possessions\n",
      "Issue found with Atlanta Hawks: 17 players with unequal possessions\n",
      "Issue found with San Antonio Spurs: 16 players with unequal possessions\n",
      "Issue found with Philadelphia 76ers: 19 players with unequal possessions\n",
      "Issue found with Boston Celtics: 14 players with unequal possessions\n",
      "Issue found with Los Angeles Clippers: 15 players with unequal possessions\n",
      "Issue found with Golden State Warriors: 16 players with unequal possessions\n",
      "Issue found with Oklahoma City Thunder: 18 players with unequal possessions\n",
      "Issue found with Cleveland Cavaliers: 20 players with unequal possessions\n",
      "Issue found with Sacramento Kings: 17 players with unequal possessions\n",
      "Issue found with Detroit Pistons: 13 players with unequal possessions\n",
      "Issue found with Dallas Mavericks: 22 players with unequal possessions\n",
      "Issue found with Denver Nuggets: 17 players with unequal possessions\n",
      "Issue found with Houston Rockets: 16 players with unequal possessions\n",
      "Issue found with Chicago Bulls: 17 players with unequal possessions\n",
      "Issue found with Brooklyn Nets: 18 players with unequal possessions\n",
      "Issue found with New York Knicks: 16 players with unequal possessions\n",
      "Issue found with Milwaukee Bucks: 17 players with unequal possessions\n",
      "Issue found with Phoenix Suns: 15 players with unequal possessions\n",
      "Issue found with New Orleans Pelicans: 22 players with unequal possessions\n",
      "Issue found with Minnesota Timberwolves: 15 players with unequal possessions\n",
      "Issue found with Portland Trail Blazers: 15 players with unequal possessions\n",
      "Issue found with Indiana Pacers: 15 players with unequal possessions\n",
      "Issue found with Orlando Magic: 16 players with unequal possessions\n",
      "Issue found with Miami Heat: 15 players with unequal possessions\n",
      "2017\n",
      "offense\n",
      "Issue found with Utah Jazz: 8 players with unequal possessions\n",
      "Issue found with Los Angeles Lakers: 7 players with unequal possessions\n",
      "Issue found with Toronto Raptors: 8 players with unequal possessions\n",
      "Issue found with Washington Wizards: 8 players with unequal possessions\n",
      "Issue found with San Antonio Spurs: 8 players with unequal possessions\n",
      "Issue found with Atlanta Hawks: 9 players with unequal possessions\n",
      "Issue found with Boston Celtics: 8 players with unequal possessions\n",
      "Issue found with Philadelphia 76ers: 5 players with unequal possessions\n",
      "Issue found with Golden State Warriors: 11 players with unequal possessions\n",
      "Issue found with Los Angeles Clippers: 8 players with unequal possessions\n",
      "Issue found with Cleveland Cavaliers: 11 players with unequal possessions\n",
      "Issue found with Sacramento Kings: 9 players with unequal possessions\n",
      "Issue found with Detroit Pistons: 10 players with unequal possessions\n",
      "Issue found with Dallas Mavericks: 10 players with unequal possessions\n",
      "Issue found with Denver Nuggets: 9 players with unequal possessions\n",
      "Issue found with Chicago Bulls: 11 players with unequal possessions\n",
      "Issue found with Houston Rockets: 7 players with unequal possessions\n",
      "Issue found with New York Knicks: 10 players with unequal possessions\n",
      "Issue found with Brooklyn Nets: 6 players with unequal possessions\n",
      "Issue found with Phoenix Suns: 8 players with unequal possessions\n",
      "Issue found with Milwaukee Bucks: 10 players with unequal possessions\n",
      "Issue found with New Orleans Pelicans: 6 players with unequal possessions\n",
      "Issue found with Portland Trail Blazers: 9 players with unequal possessions\n",
      "Issue found with Orlando Magic: 8 players with unequal possessions\n",
      "defense\n",
      "Issue found with Utah Jazz: 18 players with unequal possessions\n",
      "Issue found with Memphis Grizzlies: 22 players with unequal possessions\n",
      "Issue found with Toronto Raptors: 15 players with unequal possessions\n",
      "Issue found with Los Angeles Lakers: 20 players with unequal possessions\n",
      "Issue found with Washington Wizards: 14 players with unequal possessions\n",
      "Issue found with Charlotte Hornets: 15 players with unequal possessions\n",
      "Issue found with Atlanta Hawks: 20 players with unequal possessions\n",
      "Issue found with San Antonio Spurs: 16 players with unequal possessions\n",
      "Issue found with Philadelphia 76ers: 18 players with unequal possessions\n",
      "Issue found with Boston Celtics: 14 players with unequal possessions\n",
      "Issue found with Los Angeles Clippers: 20 players with unequal possessions\n",
      "Issue found with Golden State Warriors: 16 players with unequal possessions\n",
      "Issue found with Oklahoma City Thunder: 16 players with unequal possessions\n",
      "Issue found with Cleveland Cavaliers: 21 players with unequal possessions\n",
      "Issue found with Sacramento Kings: 18 players with unequal possessions\n",
      "Issue found with Detroit Pistons: 19 players with unequal possessions\n",
      "Issue found with Dallas Mavericks: 19 players with unequal possessions\n",
      "Issue found with Denver Nuggets: 16 players with unequal possessions\n",
      "Issue found with Houston Rockets: 17 players with unequal possessions\n",
      "Issue found with Chicago Bulls: 20 players with unequal possessions\n",
      "Issue found with Brooklyn Nets: 19 players with unequal possessions\n",
      "Issue found with New York Knicks: 19 players with unequal possessions\n",
      "Issue found with Milwaukee Bucks: 22 players with unequal possessions\n",
      "Issue found with Phoenix Suns: 22 players with unequal possessions\n",
      "Issue found with New Orleans Pelicans: 19 players with unequal possessions\n",
      "Issue found with Minnesota Timberwolves: 13 players with unequal possessions\n",
      "Issue found with Portland Trail Blazers: 15 players with unequal possessions\n",
      "Issue found with Indiana Pacers: 16 players with unequal possessions\n",
      "Issue found with Orlando Magic: 18 players with unequal possessions\n",
      "Issue found with Miami Heat: 17 players with unequal possessions\n",
      "2018\n",
      "offense\n",
      "Issue found with Los Angeles Lakers: 9 players with unequal possessions\n",
      "Issue found with Washington Wizards: 13 players with unequal possessions\n",
      "Issue found with Charlotte Hornets: 6 players with unequal possessions\n",
      "Issue found with Atlanta Hawks: 13 players with unequal possessions\n",
      "Issue found with Golden State Warriors: 7 players with unequal possessions\n",
      "Issue found with Los Angeles Clippers: 8 players with unequal possessions\n",
      "Issue found with Oklahoma City Thunder: 8 players with unequal possessions\n",
      "Issue found with Dallas Mavericks: 9 players with unequal possessions\n",
      "Issue found with Denver Nuggets: 5 players with unequal possessions\n"
     ]
    },
    {
     "name": "stdout",
     "output_type": "stream",
     "text": [
      "Issue found with Chicago Bulls: 10 players with unequal possessions\n",
      "Issue found with Houston Rockets: 10 players with unequal possessions\n",
      "Issue found with Brooklyn Nets: 7 players with unequal possessions\n",
      "Issue found with Phoenix Suns: 12 players with unequal possessions\n",
      "Issue found with Milwaukee Bucks: 8 players with unequal possessions\n",
      "Issue found with New Orleans Pelicans: 10 players with unequal possessions\n",
      "Issue found with Portland Trail Blazers: 12 players with unequal possessions\n",
      "defense\n",
      "Issue found with Utah Jazz: 17 players with unequal possessions\n",
      "Issue found with Memphis Grizzlies: 25 players with unequal possessions\n",
      "Issue found with Toronto Raptors: 20 players with unequal possessions\n",
      "Issue found with Los Angeles Lakers: 21 players with unequal possessions\n",
      "Issue found with Washington Wizards: 24 players with unequal possessions\n",
      "Issue found with Charlotte Hornets: 15 players with unequal possessions\n",
      "Issue found with Atlanta Hawks: 21 players with unequal possessions\n",
      "Issue found with San Antonio Spurs: 16 players with unequal possessions\n",
      "Issue found with Philadelphia 76ers: 24 players with unequal possessions\n",
      "Issue found with Boston Celtics: 16 players with unequal possessions\n",
      "Issue found with Los Angeles Clippers: 22 players with unequal possessions\n",
      "Issue found with Golden State Warriors: 17 players with unequal possessions\n",
      "Issue found with Oklahoma City Thunder: 14 players with unequal possessions\n",
      "Issue found with Cleveland Cavaliers: 24 players with unequal possessions\n",
      "Issue found with Sacramento Kings: 18 players with unequal possessions\n",
      "Issue found with Detroit Pistons: 17 players with unequal possessions\n",
      "Issue found with Dallas Mavericks: 19 players with unequal possessions\n",
      "Issue found with Denver Nuggets: 17 players with unequal possessions\n",
      "Issue found with Houston Rockets: 21 players with unequal possessions\n",
      "Issue found with Chicago Bulls: 20 players with unequal possessions\n",
      "Issue found with Brooklyn Nets: 18 players with unequal possessions\n",
      "Issue found with New York Knicks: 21 players with unequal possessions\n",
      "Issue found with Milwaukee Bucks: 20 players with unequal possessions\n",
      "Issue found with Phoenix Suns: 22 players with unequal possessions\n",
      "Issue found with New Orleans Pelicans: 19 players with unequal possessions\n",
      "Issue found with Minnesota Timberwolves: 18 players with unequal possessions\n",
      "Issue found with Portland Trail Blazers: 17 players with unequal possessions\n",
      "Issue found with Indiana Pacers: 16 players with unequal possessions\n",
      "Issue found with Orlando Magic: 15 players with unequal possessions\n",
      "Issue found with Miami Heat: 17 players with unequal possessions\n",
      "2019\n",
      "offense\n",
      "Issue found with Memphis Grizzlies: 7 players with unequal possessions\n",
      "Issue found with Los Angeles Lakers: 6 players with unequal possessions\n",
      "Issue found with Toronto Raptors: 7 players with unequal possessions\n",
      "Issue found with Philadelphia 76ers: 6 players with unequal possessions\n",
      "Issue found with Golden State Warriors: 7 players with unequal possessions\n",
      "Issue found with Houston Rockets: 6 players with unequal possessions\n",
      "Issue found with Milwaukee Bucks: 9 players with unequal possessions\n",
      "Issue found with Minnesota Timberwolves: 9 players with unequal possessions\n",
      "Issue found with New Orleans Pelicans: 5 players with unequal possessions\n",
      "Issue found with Indiana Pacers: 6 players with unequal possessions\n",
      "Issue found with Portland Trail Blazers: 6 players with unequal possessions\n",
      "defense\n",
      "Issue found with Utah Jazz: 17 players with unequal possessions\n",
      "Issue found with Memphis Grizzlies: 21 players with unequal possessions\n",
      "Issue found with Toronto Raptors: 17 players with unequal possessions\n",
      "Issue found with Los Angeles Lakers: 19 players with unequal possessions\n",
      "Issue found with Washington Wizards: 22 players with unequal possessions\n",
      "Issue found with Charlotte Hornets: 16 players with unequal possessions\n",
      "Issue found with Atlanta Hawks: 19 players with unequal possessions\n",
      "Issue found with San Antonio Spurs: 18 players with unequal possessions\n",
      "Issue found with Philadelphia 76ers: 18 players with unequal possessions\n",
      "Issue found with Boston Celtics: 16 players with unequal possessions\n",
      "Issue found with Los Angeles Clippers: 20 players with unequal possessions\n",
      "Issue found with Golden State Warriors: 21 players with unequal possessions\n",
      "Issue found with Oklahoma City Thunder: 17 players with unequal possessions\n",
      "Issue found with Cleveland Cavaliers: 17 players with unequal possessions\n",
      "Issue found with Sacramento Kings: 22 players with unequal possessions\n",
      "Issue found with Detroit Pistons: 19 players with unequal possessions\n",
      "Issue found with Dallas Mavericks: 19 players with unequal possessions\n",
      "Issue found with Denver Nuggets: 19 players with unequal possessions\n",
      "Issue found with Houston Rockets: 19 players with unequal possessions\n",
      "Issue found with Chicago Bulls: 16 players with unequal possessions\n",
      "Issue found with Brooklyn Nets: 23 players with unequal possessions\n",
      "Issue found with New York Knicks: 17 players with unequal possessions\n",
      "Issue found with Milwaukee Bucks: 17 players with unequal possessions\n",
      "Issue found with Phoenix Suns: 18 players with unequal possessions\n",
      "Issue found with New Orleans Pelicans: 15 players with unequal possessions\n",
      "Issue found with Minnesota Timberwolves: 22 players with unequal possessions\n",
      "Issue found with Portland Trail Blazers: 19 players with unequal possessions\n",
      "Issue found with Indiana Pacers: 16 players with unequal possessions\n",
      "Issue found with Orlando Magic: 19 players with unequal possessions\n",
      "Issue found with Miami Heat: 19 players with unequal possessions\n",
      "2020\n",
      "offense\n",
      "Issue found with Los Angeles Lakers: 6 players with unequal possessions\n",
      "Issue found with Toronto Raptors: 7 players with unequal possessions\n",
      "Issue found with Atlanta Hawks: 7 players with unequal possessions\n",
      "Issue found with Boston Celtics: 8 players with unequal possessions\n",
      "Issue found with Golden State Warriors: 7 players with unequal possessions\n",
      "Issue found with Chicago Bulls: 8 players with unequal possessions\n",
      "Issue found with Houston Rockets: 9 players with unequal possessions\n",
      "Issue found with Brooklyn Nets: 11 players with unequal possessions\n",
      "Issue found with Phoenix Suns: 7 players with unequal possessions\n",
      "Issue found with Minnesota Timberwolves: 7 players with unequal possessions\n",
      "Issue found with Indiana Pacers: 9 players with unequal possessions\n",
      "Issue found with Portland Trail Blazers: 6 players with unequal possessions\n",
      "defense\n",
      "Issue found with Utah Jazz: 20 players with unequal possessions\n",
      "Issue found with Memphis Grizzlies: 17 players with unequal possessions\n",
      "Issue found with Toronto Raptors: 21 players with unequal possessions\n",
      "Issue found with Los Angeles Lakers: 18 players with unequal possessions\n",
      "Issue found with Washington Wizards: 21 players with unequal possessions\n",
      "Issue found with Charlotte Hornets: 17 players with unequal possessions\n",
      "Issue found with Atlanta Hawks: 17 players with unequal possessions\n",
      "Issue found with San Antonio Spurs: 16 players with unequal possessions\n",
      "Issue found with Philadelphia 76ers: 21 players with unequal possessions\n",
      "Issue found with Boston Celtics: 21 players with unequal possessions\n",
      "Issue found with Los Angeles Clippers: 19 players with unequal possessions\n",
      "Issue found with Golden State Warriors: 18 players with unequal possessions\n",
      "Issue found with Oklahoma City Thunder: 21 players with unequal possessions\n",
      "Issue found with Cleveland Cavaliers: 22 players with unequal possessions\n",
      "Issue found with Sacramento Kings: 23 players with unequal possessions\n",
      "Issue found with Detroit Pistons: 20 players with unequal possessions\n",
      "Issue found with Dallas Mavericks: 18 players with unequal possessions\n",
      "Issue found with Denver Nuggets: 20 players with unequal possessions\n",
      "Issue found with Houston Rockets: 29 players with unequal possessions\n",
      "Issue found with Chicago Bulls: 22 players with unequal possessions\n",
      "Issue found with Brooklyn Nets: 24 players with unequal possessions\n",
      "Issue found with New York Knicks: 16 players with unequal possessions\n",
      "Issue found with Milwaukee Bucks: 19 players with unequal possessions\n",
      "Issue found with Phoenix Suns: 17 players with unequal possessions\n",
      "Issue found with New Orleans Pelicans: 19 players with unequal possessions\n"
     ]
    },
    {
     "name": "stdout",
     "output_type": "stream",
     "text": [
      "Issue found with Minnesota Timberwolves: 15 players with unequal possessions\n",
      "Issue found with Portland Trail Blazers: 16 players with unequal possessions\n",
      "Issue found with Indiana Pacers: 19 players with unequal possessions\n",
      "Issue found with Orlando Magic: 27 players with unequal possessions\n",
      "Issue found with Miami Heat: 20 players with unequal possessions\n",
      "2021\n",
      "offense\n",
      "Issue found with Memphis Grizzlies: 8 players with unequal possessions\n",
      "Issue found with Utah Jazz: 10 players with unequal possessions\n",
      "Issue found with Los Angeles Lakers: 8 players with unequal possessions\n",
      "Issue found with Washington Wizards: 6 players with unequal possessions\n",
      "Issue found with Charlotte Hornets: 6 players with unequal possessions\n",
      "Issue found with Atlanta Hawks: 7 players with unequal possessions\n",
      "Issue found with Philadelphia 76ers: 9 players with unequal possessions\n",
      "Issue found with Los Angeles Clippers: 14 players with unequal possessions\n",
      "Issue found with Sacramento Kings: 11 players with unequal possessions\n",
      "Issue found with Denver Nuggets: 6 players with unequal possessions\n",
      "Issue found with Houston Rockets: 7 players with unequal possessions\n",
      "Issue found with New York Knicks: 8 players with unequal possessions\n",
      "Issue found with Brooklyn Nets: 10 players with unequal possessions\n",
      "Issue found with Phoenix Suns: 6 players with unequal possessions\n",
      "Issue found with Milwaukee Bucks: 6 players with unequal possessions\n",
      "Issue found with Minnesota Timberwolves: 8 players with unequal possessions\n",
      "Issue found with New Orleans Pelicans: 12 players with unequal possessions\n",
      "Issue found with Indiana Pacers: 9 players with unequal possessions\n",
      "Issue found with Portland Trail Blazers: 13 players with unequal possessions\n",
      "Issue found with Orlando Magic: 6 players with unequal possessions\n",
      "defense\n",
      "Issue found with Utah Jazz: 21 players with unequal possessions\n",
      "Issue found with Memphis Grizzlies: 18 players with unequal possessions\n",
      "Issue found with Toronto Raptors: 19 players with unequal possessions\n",
      "Issue found with Los Angeles Lakers: 22 players with unequal possessions\n",
      "Issue found with Washington Wizards: 25 players with unequal possessions\n",
      "Issue found with Charlotte Hornets: 17 players with unequal possessions\n",
      "Issue found with Atlanta Hawks: 21 players with unequal possessions\n",
      "Issue found with San Antonio Spurs: 20 players with unequal possessions\n",
      "Issue found with Philadelphia 76ers: 20 players with unequal possessions\n",
      "Issue found with Boston Celtics: 21 players with unequal possessions\n",
      "Issue found with Los Angeles Clippers: 22 players with unequal possessions\n",
      "Issue found with Golden State Warriors: 16 players with unequal possessions\n",
      "Issue found with Oklahoma City Thunder: 24 players with unequal possessions\n",
      "Issue found with Cleveland Cavaliers: 23 players with unequal possessions\n",
      "Issue found with Sacramento Kings: 22 players with unequal possessions\n",
      "Issue found with Detroit Pistons: 23 players with unequal possessions\n",
      "Issue found with Dallas Mavericks: 20 players with unequal possessions\n",
      "Issue found with Denver Nuggets: 20 players with unequal possessions\n",
      "Issue found with Houston Rockets: 19 players with unequal possessions\n",
      "Issue found with Chicago Bulls: 20 players with unequal possessions\n",
      "Issue found with Brooklyn Nets: 21 players with unequal possessions\n",
      "Issue found with New York Knicks: 17 players with unequal possessions\n",
      "Issue found with Milwaukee Bucks: 23 players with unequal possessions\n",
      "Issue found with Phoenix Suns: 19 players with unequal possessions\n",
      "Issue found with New Orleans Pelicans: 20 players with unequal possessions\n",
      "Issue found with Minnesota Timberwolves: 17 players with unequal possessions\n",
      "Issue found with Portland Trail Blazers: 27 players with unequal possessions\n",
      "Issue found with Indiana Pacers: 24 players with unequal possessions\n",
      "Issue found with Orlando Magic: 20 players with unequal possessions\n",
      "Issue found with Miami Heat: 20 players with unequal possessions\n"
     ]
    }
   ],
   "source": [
    "nba_dfs = {season: get_season_playtype_df(season, 'nba')\n",
    "           for season in range(2016, 2022)}"
   ]
  },
  {
   "cell_type": "code",
   "execution_count": 18,
   "metadata": {
    "ExecuteTime": {
     "end_time": "2022-05-04T11:03:56.596550Z",
     "start_time": "2022-05-04T11:03:56.192941Z"
    }
   },
   "outputs": [],
   "source": [
    "nba_cols = {type_: nba_dfs[2021][type_].columns\n",
    "            for type_ in ['offense', 'defense']}\n",
    "for type_ in ['offense', 'defense']:\n",
    "    pd.concat([nba_dfs[season][type_][nba_cols[type_]] for season in range(2016, 2022)])\\\n",
    "      .reset_index().drop('index', axis=1)\\\n",
    "      .to_csv(f'nba_{type_}.csv', index=False)"
   ]
  },
  {
   "cell_type": "markdown",
   "metadata": {},
   "source": [
    "### NBL"
   ]
  },
  {
   "cell_type": "code",
   "execution_count": 19,
   "metadata": {
    "ExecuteTime": {
     "end_time": "2022-05-04T11:03:56.601627Z",
     "start_time": "2022-05-04T11:03:56.599310Z"
    }
   },
   "outputs": [],
   "source": [
    "# nbl_dfs = {season: get_season_playtype_df(season, 'nbl')\n",
    "#            for season in range(2016, 2021)}"
   ]
  },
  {
   "cell_type": "code",
   "execution_count": 20,
   "metadata": {
    "ExecuteTime": {
     "end_time": "2022-05-04T11:03:56.608121Z",
     "start_time": "2022-05-04T11:03:56.603934Z"
    }
   },
   "outputs": [],
   "source": [
    "# nbl_cols = {type_: nbl_dfs[2020][type_].columns\n",
    "#             for type_ in ['offense', 'defense']}\n",
    "# for type_ in ['offense', 'defense']:\n",
    "#     pd.concat([nbl_dfs[season][type_][nbl_cols[type_]] for season in range(2016, 2021)])\\\n",
    "#       .reset_index().drop('index', axis=1)\\\n",
    "#       .to_csv(f'nbl_{type_}.csv', index=False)"
   ]
  },
  {
   "cell_type": "markdown",
   "metadata": {},
   "source": [
    "### NCAA "
   ]
  },
  {
   "cell_type": "code",
   "execution_count": 21,
   "metadata": {
    "ExecuteTime": {
     "end_time": "2022-05-04T11:03:56.616346Z",
     "start_time": "2022-05-04T11:03:56.610828Z"
    }
   },
   "outputs": [],
   "source": [
    "# ncaa_dfs = {season: get_season_playtype_df(season, 'ncaa')\n",
    "#             for season in range(2016, 2021)}"
   ]
  },
  {
   "cell_type": "code",
   "execution_count": 22,
   "metadata": {
    "ExecuteTime": {
     "end_time": "2022-05-04T11:03:56.624957Z",
     "start_time": "2022-05-04T11:03:56.622333Z"
    }
   },
   "outputs": [],
   "source": [
    "# ncaa_cols = {type_: ncaa_dfs[2020][type_].columns\n",
    "#              for type_ in ['offense', 'defense']}\n",
    "# for type_ in ['offense', 'defense']:\n",
    "#     pd.concat([ncaa_dfs[season][type_][ncaa_cols[type_]] for season in range(2016, 2021)])\\\n",
    "#       .reset_index().drop('index', axis=1)\\\n",
    "#       .to_csv(f'ncaa_{type_}.csv', index=False)"
   ]
  }
 ],
 "metadata": {
  "kernelspec": {
   "display_name": "Python 3 (ipykernel)",
   "language": "python",
   "name": "python3"
  },
  "language_info": {
   "codemirror_mode": {
    "name": "ipython",
    "version": 3
   },
   "file_extension": ".py",
   "mimetype": "text/x-python",
   "name": "python",
   "nbconvert_exporter": "python",
   "pygments_lexer": "ipython3",
   "version": "3.8.12"
  }
 },
 "nbformat": 4,
 "nbformat_minor": 2
}
