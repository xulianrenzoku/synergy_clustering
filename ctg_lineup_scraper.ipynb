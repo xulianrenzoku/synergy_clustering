{
 "cells": [
  {
   "cell_type": "code",
   "execution_count": 1,
   "id": "9fcde56d",
   "metadata": {
    "ExecuteTime": {
     "end_time": "2022-05-04T11:40:54.851369Z",
     "start_time": "2022-05-04T11:40:54.006493Z"
    }
   },
   "outputs": [],
   "source": [
    "import pandas as pd\n",
    "import numpy as np\n",
    "import os\n",
    "import time\n",
    "import pickle\n",
    "import re\n",
    "from bs4 import BeautifulSoup\n",
    "from selenium import webdriver\n",
    "from selenium.webdriver.common.by import By"
   ]
  },
  {
   "cell_type": "markdown",
   "id": "4d62e3f3",
   "metadata": {},
   "source": [
    "## Login"
   ]
  },
  {
   "cell_type": "code",
   "execution_count": 2,
   "id": "d86b3fab",
   "metadata": {
    "ExecuteTime": {
     "end_time": "2022-05-04T11:40:54.856249Z",
     "start_time": "2022-05-04T11:40:54.853584Z"
    }
   },
   "outputs": [],
   "source": [
    "ctg_url = 'https://cleaningtheglass.com'"
   ]
  },
  {
   "cell_type": "code",
   "execution_count": 3,
   "id": "57045b41",
   "metadata": {
    "ExecuteTime": {
     "end_time": "2022-05-04T11:40:54.878954Z",
     "start_time": "2022-05-04T11:40:54.876343Z"
    }
   },
   "outputs": [],
   "source": [
    "ctg_login_url = 'https://cleaningtheglass.memberful.com/auth/sign_in'"
   ]
  },
  {
   "cell_type": "code",
   "execution_count": 4,
   "id": "53b86a57",
   "metadata": {
    "ExecuteTime": {
     "end_time": "2022-05-04T11:40:54.886383Z",
     "start_time": "2022-05-04T11:40:54.881450Z"
    }
   },
   "outputs": [],
   "source": [
    "def login(driver, cred, ctg_login_url=ctg_login_url):\n",
    "    driver.get(ctg_login_url)\n",
    "    for button in driver.find_elements_by_tag_name('button'):\n",
    "        if button.text == 'sign in using password':\n",
    "            button.click()\n",
    "            break\n",
    "    # Get username & password\n",
    "    with open(cred, 'r') as f:\n",
    "        user_password = f.readlines()[0].replace('\\n', '').split(', ')\n",
    "    # Login\n",
    "    userfield = driver.find_element_by_id('session_email')\n",
    "    userfield.send_keys(user_password[0])\n",
    "    passwordfield = driver.find_element_by_id('session_password')\n",
    "    passwordfield.send_keys(user_password[1])\n",
    "    for button in driver.find_elements_by_class_name('button'):\n",
    "        if button.get_attribute('value') == 'Sign in':\n",
    "            button.click()\n",
    "            break"
   ]
  },
  {
   "cell_type": "code",
   "execution_count": 5,
   "id": "f70e5d33",
   "metadata": {
    "ExecuteTime": {
     "end_time": "2022-05-04T11:40:57.870580Z",
     "start_time": "2022-05-04T11:40:54.888344Z"
    }
   },
   "outputs": [
    {
     "name": "stderr",
     "output_type": "stream",
     "text": [
      "/var/folders/_2/xf7b66914jxdlhgxdz6fhjyw0000gn/T/ipykernel_31433/3545715976.py:1: DeprecationWarning: executable_path has been deprecated, please pass in a Service object\n",
      "  driver = webdriver.Chrome('/usr/local/bin/chromedriver')\n"
     ]
    }
   ],
   "source": [
    "driver = webdriver.Chrome('/usr/local/bin/chromedriver')"
   ]
  },
  {
   "cell_type": "code",
   "execution_count": 6,
   "id": "5fc97816",
   "metadata": {
    "ExecuteTime": {
     "end_time": "2022-05-04T11:41:02.660541Z",
     "start_time": "2022-05-04T11:40:57.874651Z"
    }
   },
   "outputs": [
    {
     "name": "stderr",
     "output_type": "stream",
     "text": [
      "/var/folders/_2/xf7b66914jxdlhgxdz6fhjyw0000gn/T/ipykernel_31433/1453808485.py:3: DeprecationWarning: find_elements_by_* commands are deprecated. Please use find_elements() instead\n",
      "  for button in driver.find_elements_by_tag_name('button'):\n",
      "/var/folders/_2/xf7b66914jxdlhgxdz6fhjyw0000gn/T/ipykernel_31433/1453808485.py:11: DeprecationWarning: find_element_by_* commands are deprecated. Please use find_element() instead\n",
      "  userfield = driver.find_element_by_id('session_email')\n",
      "/var/folders/_2/xf7b66914jxdlhgxdz6fhjyw0000gn/T/ipykernel_31433/1453808485.py:13: DeprecationWarning: find_element_by_* commands are deprecated. Please use find_element() instead\n",
      "  passwordfield = driver.find_element_by_id('session_password')\n",
      "/var/folders/_2/xf7b66914jxdlhgxdz6fhjyw0000gn/T/ipykernel_31433/1453808485.py:15: DeprecationWarning: find_elements_by_* commands are deprecated. Please use find_elements() instead\n",
      "  for button in driver.find_elements_by_class_name('button'):\n"
     ]
    }
   ],
   "source": [
    "cred = 'ctg_cred.txt'\n",
    "login(driver, cred)"
   ]
  },
  {
   "cell_type": "markdown",
   "id": "5d04bf1a",
   "metadata": {},
   "source": [
    "Get team dict"
   ]
  },
  {
   "cell_type": "code",
   "execution_count": 8,
   "id": "4be2fb5c",
   "metadata": {
    "ExecuteTime": {
     "end_time": "2022-05-04T11:41:31.487730Z",
     "start_time": "2022-05-04T11:41:28.375395Z"
    }
   },
   "outputs": [
    {
     "name": "stderr",
     "output_type": "stream",
     "text": [
      "/var/folders/_2/xf7b66914jxdlhgxdz6fhjyw0000gn/T/ipykernel_31433/219544807.py:2: DeprecationWarning: find_element_by_* commands are deprecated. Please use find_element() instead\n",
      "  team_container = driver.find_element_by_id('team_container')\n",
      "/Users/xulian/anaconda3/lib/python3.8/site-packages/selenium/webdriver/remote/webelement.py:359: UserWarning: find_elements_by_* commands are deprecated. Please use find_elements() instead\n",
      "  warnings.warn(\"find_elements_by_* commands are deprecated. Please use find_elements() instead\")\n",
      "/Users/xulian/anaconda3/lib/python3.8/site-packages/selenium/webdriver/remote/webelement.py:341: UserWarning: find_element_by_* commands are deprecated. Please use find_element() instead\n",
      "  warnings.warn(\"find_element_by_* commands are deprecated. Please use find_element() instead\")\n"
     ]
    },
    {
     "data": {
      "text/plain": [
       "{'1': 'Atlanta Hawks',\n",
       " '2': 'Boston Celtics',\n",
       " '3': 'Brooklyn Nets',\n",
       " '4': 'Charlotte Hornets',\n",
       " '5': 'Chicago Bulls',\n",
       " '6': 'Cleveland Cavaliers',\n",
       " '7': 'Dallas Mavericks',\n",
       " '8': 'Denver Nuggets',\n",
       " '9': 'Detroit Pistons',\n",
       " '10': 'Golden State Warriors',\n",
       " '11': 'Houston Rockets',\n",
       " '12': 'Indiana Pacers',\n",
       " '13': 'Los Angeles Clippers',\n",
       " '14': 'Los Angeles Lakers',\n",
       " '15': 'Memphis Grizzlies',\n",
       " '16': 'Miami Heat',\n",
       " '17': 'Milwaukee Bucks',\n",
       " '18': 'Minnesota Timberwolves',\n",
       " '19': 'New Orleans Pelicans',\n",
       " '20': 'New York Knicks',\n",
       " '21': 'Oklahoma City Thunder',\n",
       " '22': 'Orlando Magic',\n",
       " '23': 'Philadelphia 76ers',\n",
       " '24': 'Phoenix Suns',\n",
       " '25': 'Portland Trail Blazers',\n",
       " '26': 'Sacramento Kings',\n",
       " '27': 'San Antonio Spurs',\n",
       " '28': 'Toronto Raptors',\n",
       " '29': 'Utah Jazz',\n",
       " '30': 'Washington Wizards'}"
      ]
     },
     "execution_count": 8,
     "metadata": {},
     "output_type": "execute_result"
    }
   ],
   "source": [
    "driver.get(f'{ctg_url}/stats/teams')\n",
    "team_container = driver.find_element_by_id('team_container')\n",
    "team_dict = {a.get_attribute('href').split('/')[-1]:\n",
    "             a.find_element_by_tag_name('img').get_attribute('alt')\n",
    "             for a in team_container.find_elements_by_tag_name('a')}\n",
    "team_dict"
   ]
  },
  {
   "cell_type": "markdown",
   "id": "dda0dca4",
   "metadata": {},
   "source": [
    "## Basic Function"
   ]
  },
  {
   "cell_type": "code",
   "execution_count": 9,
   "id": "08d686e4",
   "metadata": {
    "ExecuteTime": {
     "end_time": "2022-05-04T11:41:33.838845Z",
     "start_time": "2022-05-04T11:41:33.834922Z"
    }
   },
   "outputs": [],
   "source": [
    "def fetch(driver):\n",
    "    \"\"\"\n",
    "    Use BeautifulSoup to get the text of a web page.\n",
    "    \"\"\"\n",
    "    d = driver.page_source\n",
    "    comm = re.compile(\"<!--|-->\")\n",
    "    soup = BeautifulSoup(comm.sub(\"\", d), \"html.parser\")\n",
    "    return soup"
   ]
  },
  {
   "cell_type": "markdown",
   "id": "7cfe3264",
   "metadata": {},
   "source": [
    "## Download Lineup Data"
   ]
  },
  {
   "cell_type": "code",
   "execution_count": 10,
   "id": "2393cc7e",
   "metadata": {
    "ExecuteTime": {
     "end_time": "2022-05-04T11:41:34.309180Z",
     "start_time": "2022-05-04T11:41:34.301761Z"
    }
   },
   "outputs": [],
   "source": [
    "def scrape_team_lineup_table(team_id, season, driver,\n",
    "                             team_dict=team_dict):\n",
    "    driver.get(f'{ctg_url}/stats/team/{team_id}/lineups?season={season}')\n",
    "    time.sleep(3)\n",
    "    soup = fetch(driver)\n",
    "    table = soup.find_all('table', {'id': 'lineups_four_factors'})[0]\n",
    "    # Build dataframe\n",
    "    cols = ['PG', 'SG', 'SF', 'PF', 'C', 'Poss', 'Diff_Rank', 'Diff']\n",
    "    for side in ['off', 'def']:\n",
    "        for factor in ['Pts/Poss', 'eFG%', 'TOV%', 'OREB%', 'FTr']:\n",
    "            cols = cols + [f'{side}_{factor}_rank', f'{side}_{factor}']\n",
    "        if side == 'off':\n",
    "            cols = cols + ['']\n",
    "    data = [[td['data-full-name'] for td in row.find_all('td')[:5]] +\n",
    "            [td.text for td in row.find_all('td')[5:]]\n",
    "            for row in table.find_all('tbody')[1].find_all('tr')]\n",
    "    df = pd.DataFrame(data, columns=cols).drop('', axis=1)\n",
    "    df['season'] = season\n",
    "    df['team'] = team_dict[team_id]\n",
    "    return df"
   ]
  },
  {
   "cell_type": "code",
   "execution_count": 11,
   "id": "37efb72c",
   "metadata": {
    "ExecuteTime": {
     "end_time": "2022-05-04T12:05:50.275880Z",
     "start_time": "2022-05-04T11:41:34.497087Z"
    }
   },
   "outputs": [
    {
     "name": "stdout",
     "output_type": "stream",
     "text": [
      "Start Scraping...\n",
      "Atlanta Hawks\n",
      "Boston Celtics\n",
      "Brooklyn Nets\n",
      "Charlotte Hornets\n",
      "Chicago Bulls\n",
      "Cleveland Cavaliers\n",
      "Dallas Mavericks\n",
      "Denver Nuggets\n",
      "Detroit Pistons\n",
      "Golden State Warriors\n",
      "Houston Rockets\n",
      "Indiana Pacers\n",
      "Los Angeles Clippers\n",
      "Los Angeles Lakers\n",
      "Memphis Grizzlies\n",
      "Miami Heat\n",
      "Milwaukee Bucks\n",
      "Minnesota Timberwolves\n",
      "New Orleans Pelicans\n",
      "New York Knicks\n",
      "Oklahoma City Thunder\n",
      "Orlando Magic\n",
      "Philadelphia 76ers\n",
      "Phoenix Suns\n",
      "Portland Trail Blazers\n",
      "Sacramento Kings\n",
      "San Antonio Spurs\n",
      "Toronto Raptors\n",
      "Utah Jazz\n",
      "Washington Wizards\n",
      "Done.\n"
     ]
    }
   ],
   "source": [
    "print('Start Scraping...')\n",
    "team_dfs = {}\n",
    "for team_id in team_dict.keys():\n",
    "    team = team_dict[team_id]\n",
    "    print(team)\n",
    "    team_dfs[team] = pd.concat([scrape_team_lineup_table(team_id, season, driver)\n",
    "                                for season in range(2016, 2022)])\n",
    "print('Done.')"
   ]
  },
  {
   "cell_type": "code",
   "execution_count": 12,
   "id": "0b1e5ab0",
   "metadata": {
    "ExecuteTime": {
     "end_time": "2022-05-04T12:05:50.493917Z",
     "start_time": "2022-05-04T12:05:50.282681Z"
    }
   },
   "outputs": [],
   "source": [
    "driver.close()"
   ]
  },
  {
   "cell_type": "code",
   "execution_count": 13,
   "id": "ce2bec81",
   "metadata": {
    "ExecuteTime": {
     "end_time": "2022-05-04T12:05:50.862468Z",
     "start_time": "2022-05-04T12:05:50.498009Z"
    }
   },
   "outputs": [],
   "source": [
    "df = pd.concat([team_dfs[team] for team in team_dict.values()])\\\n",
    "       .reset_index().drop('index', axis=1)"
   ]
  },
  {
   "cell_type": "code",
   "execution_count": 14,
   "id": "f97dc469",
   "metadata": {
    "ExecuteTime": {
     "end_time": "2022-05-04T12:05:52.268374Z",
     "start_time": "2022-05-04T12:05:50.867817Z"
    }
   },
   "outputs": [],
   "source": [
    "df.to_csv('ctg_nba_lineup_stats.csv', index=False)"
   ]
  }
 ],
 "metadata": {
  "kernelspec": {
   "display_name": "Python 3 (ipykernel)",
   "language": "python",
   "name": "python3"
  },
  "language_info": {
   "codemirror_mode": {
    "name": "ipython",
    "version": 3
   },
   "file_extension": ".py",
   "mimetype": "text/x-python",
   "name": "python",
   "nbconvert_exporter": "python",
   "pygments_lexer": "ipython3",
   "version": "3.8.12"
  }
 },
 "nbformat": 4,
 "nbformat_minor": 5
}
