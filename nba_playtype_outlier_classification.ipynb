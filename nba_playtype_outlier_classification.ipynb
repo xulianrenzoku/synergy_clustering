{
 "cells": [
  {
   "cell_type": "code",
   "execution_count": 1,
   "metadata": {
    "ExecuteTime": {
     "end_time": "2022-06-15T13:28:39.260417Z",
     "start_time": "2022-06-15T13:28:38.628580Z"
    }
   },
   "outputs": [],
   "source": [
    "import pandas as pd\n",
    "import numpy as np\n",
    "import os\n",
    "from collections import Counter"
   ]
  },
  {
   "cell_type": "code",
   "execution_count": 36,
   "metadata": {
    "ExecuteTime": {
     "end_time": "2022-06-15T13:30:49.868272Z",
     "start_time": "2022-06-15T13:30:49.864876Z"
    }
   },
   "outputs": [],
   "source": [
    "pd.set_option('display.max_columns', None)\n",
    "pd.set_option('display.max_rows', None)"
   ]
  },
  {
   "cell_type": "code",
   "execution_count": 3,
   "metadata": {
    "ExecuteTime": {
     "end_time": "2022-06-15T13:28:39.271446Z",
     "start_time": "2022-06-15T13:28:39.268878Z"
    }
   },
   "outputs": [],
   "source": [
    "import warnings\n",
    "warnings.filterwarnings('ignore')"
   ]
  },
  {
   "cell_type": "code",
   "execution_count": 4,
   "metadata": {
    "ExecuteTime": {
     "end_time": "2022-06-15T13:28:40.692113Z",
     "start_time": "2022-06-15T13:28:39.357898Z"
    }
   },
   "outputs": [],
   "source": [
    "import seaborn as sns\n",
    "import matplotlib\n",
    "import matplotlib.pyplot as plt\n",
    "from IPython.core.pylabtools import figsize"
   ]
  },
  {
   "cell_type": "code",
   "execution_count": 5,
   "metadata": {
    "ExecuteTime": {
     "end_time": "2022-06-15T13:28:40.698516Z",
     "start_time": "2022-06-15T13:28:40.694608Z"
    }
   },
   "outputs": [],
   "source": [
    "sns.set()"
   ]
  },
  {
   "cell_type": "markdown",
   "metadata": {},
   "source": [
    "## Data Prep"
   ]
  },
  {
   "cell_type": "markdown",
   "metadata": {},
   "source": [
    "### Read Synergy Data"
   ]
  },
  {
   "cell_type": "code",
   "execution_count": 6,
   "metadata": {
    "ExecuteTime": {
     "end_time": "2022-06-15T13:28:41.897504Z",
     "start_time": "2022-06-15T13:28:41.822792Z"
    }
   },
   "outputs": [
    {
     "data": {
      "text/plain": [
       "(3135, 74)"
      ]
     },
     "execution_count": 6,
     "metadata": {},
     "output_type": "execute_result"
    }
   ],
   "source": [
    "s_df = pd.read_csv('nba_offense.csv')\n",
    "s_df = s_df[s_df['Season'] != 2016]\n",
    "s_df['Player'] = s_df['Player'].apply(lambda x: ' '.join(x.split(' ')[1:]))\n",
    "s_df.shape"
   ]
  },
  {
   "cell_type": "markdown",
   "metadata": {},
   "source": [
    "Include labels regarding half court offense only"
   ]
  },
  {
   "cell_type": "code",
   "execution_count": 7,
   "metadata": {
    "ExecuteTime": {
     "end_time": "2022-06-15T13:29:07.826918Z",
     "start_time": "2022-06-15T13:29:07.822508Z"
    }
   },
   "outputs": [],
   "source": [
    "s_df['Overall_Poss'] = s_df['Overall_Poss'] - s_df['Miscellaneous_Poss'] "
   ]
  },
  {
   "cell_type": "code",
   "execution_count": 8,
   "metadata": {
    "ExecuteTime": {
     "end_time": "2022-06-15T13:29:13.755126Z",
     "start_time": "2022-06-15T13:29:13.752280Z"
    }
   },
   "outputs": [],
   "source": [
    "poss_weights_cols = ['Spot Up_Poss%', 'P&R Ball Handler_Poss%', \n",
    "                     'Hand Off_Poss%', 'Off Screen_Poss%',\n",
    "                     'Cut_Poss%', 'Offensive Rebounds (put backs)_Poss%',\n",
    "                     'P&R Roll Man_Poss%', 'Isolation_Poss%', \n",
    "                     'Post-Up_Poss%', 'Transition_Poss%']"
   ]
  },
  {
   "cell_type": "code",
   "execution_count": 9,
   "metadata": {
    "ExecuteTime": {
     "end_time": "2022-06-15T13:29:15.327657Z",
     "start_time": "2022-06-15T13:29:15.315235Z"
    }
   },
   "outputs": [],
   "source": [
    "for col in poss_weights_cols:\n",
    "    s_df[col] = s_df[col.replace('%', '')] / s_df['Overall_Poss']\n",
    "    s_df[col] = s_df[col].fillna(0)"
   ]
  },
  {
   "cell_type": "markdown",
   "metadata": {},
   "source": [
    "Filter in players with 200 shot possessions"
   ]
  },
  {
   "cell_type": "code",
   "execution_count": 10,
   "metadata": {
    "ExecuteTime": {
     "end_time": "2022-06-15T13:29:24.381582Z",
     "start_time": "2022-06-15T13:29:24.372123Z"
    }
   },
   "outputs": [
    {
     "data": {
      "text/plain": [
       "(1774, 74)"
      ]
     },
     "execution_count": 10,
     "metadata": {},
     "output_type": "execute_result"
    }
   ],
   "source": [
    "s_df = s_df[s_df['Overall_Poss'] >= 200]\n",
    "s_df.shape"
   ]
  },
  {
   "cell_type": "markdown",
   "metadata": {},
   "source": [
    "### Read BBR Data"
   ]
  },
  {
   "cell_type": "code",
   "execution_count": 11,
   "metadata": {
    "ExecuteTime": {
     "end_time": "2022-06-15T13:29:28.964781Z",
     "start_time": "2022-06-15T13:29:28.908825Z"
    }
   },
   "outputs": [
    {
     "data": {
      "text/plain": [
       "(3159, 28)"
      ]
     },
     "execution_count": 11,
     "metadata": {},
     "output_type": "execute_result"
    }
   ],
   "source": [
    "bbr_adv_df = pd.read_csv('bbr_nba_advanced_stats.csv')\n",
    "bbr_adv_df = bbr_adv_df[bbr_adv_df['season'] != 2016]\n",
    "bbr_adv_df.shape"
   ]
  },
  {
   "cell_type": "code",
   "execution_count": 12,
   "metadata": {
    "ExecuteTime": {
     "end_time": "2022-06-15T13:29:29.682955Z",
     "start_time": "2022-06-15T13:29:29.658806Z"
    }
   },
   "outputs": [
    {
     "data": {
      "text/plain": [
       "(2954, 12)"
      ]
     },
     "execution_count": 12,
     "metadata": {},
     "output_type": "execute_result"
    }
   ],
   "source": [
    "bbr_ros_df = pd.read_csv('bbr_nba_roster_stats.csv')\n",
    "bbr_ros_df = bbr_ros_df[bbr_ros_df['season'] != 2016]\n",
    "bbr_ros_df.shape"
   ]
  },
  {
   "cell_type": "code",
   "execution_count": 13,
   "metadata": {
    "ExecuteTime": {
     "end_time": "2022-06-15T13:29:30.064686Z",
     "start_time": "2022-06-15T13:29:30.057376Z"
    }
   },
   "outputs": [],
   "source": [
    "for col in ['player', 'player_alt']:\n",
    "    bbr_ros_df[col] = bbr_ros_df[col].apply(lambda x: x.replace('(TW)', '').strip())"
   ]
  },
  {
   "cell_type": "markdown",
   "metadata": {},
   "source": [
    "17-20"
   ]
  },
  {
   "cell_type": "code",
   "execution_count": 14,
   "metadata": {
    "ExecuteTime": {
     "end_time": "2022-06-15T13:29:33.888486Z",
     "start_time": "2022-06-15T13:29:33.873250Z"
    }
   },
   "outputs": [
    {
     "data": {
      "text/plain": [
       "((2444, 28), (2446, 12), (2444, 36))"
      ]
     },
     "execution_count": 14,
     "metadata": {},
     "output_type": "execute_result"
    }
   ],
   "source": [
    "bbr_adv_df_17_20 = bbr_adv_df[bbr_adv_df['season'] != 2021].copy()\n",
    "bbr_ros_df_17_20 = bbr_ros_df[bbr_ros_df['season'] != 2021].copy()\n",
    "bbr_df_17_20 = bbr_adv_df_17_20.merge(bbr_ros_df_17_20, how='left',\n",
    "                                      on=['player', 'season', 'team', 'player_alt'])\n",
    "bbr_adv_df_17_20.shape, bbr_ros_df_17_20.shape, bbr_df_17_20.shape"
   ]
  },
  {
   "cell_type": "markdown",
   "metadata": {},
   "source": [
    "21-22"
   ]
  },
  {
   "cell_type": "code",
   "execution_count": 15,
   "metadata": {
    "ExecuteTime": {
     "end_time": "2022-06-15T13:29:36.064928Z",
     "start_time": "2022-06-15T13:29:36.048973Z"
    }
   },
   "outputs": [
    {
     "data": {
      "text/plain": [
       "((715, 28), (508, 12), (715, 36))"
      ]
     },
     "execution_count": 15,
     "metadata": {},
     "output_type": "execute_result"
    }
   ],
   "source": [
    "bbr_adv_df_21 = bbr_adv_df[bbr_adv_df['season'] == 2021].copy()\n",
    "bbr_ros_df_21 = bbr_ros_df[bbr_ros_df['season'] == 2021].copy()\n",
    "bbr_df_21 = bbr_adv_df_21.merge(bbr_ros_df_21, how='left',\n",
    "                                on=['player', 'season', 'player_alt'])\\\n",
    "                         .rename(columns={'team_x': 'team'})\\\n",
    "                         .drop('team_y', axis=1)\n",
    "bbr_adv_df_21.shape, bbr_ros_df_21.shape, bbr_df_21.shape"
   ]
  },
  {
   "cell_type": "code",
   "execution_count": 16,
   "metadata": {
    "ExecuteTime": {
     "end_time": "2022-06-15T13:29:38.499056Z",
     "start_time": "2022-06-15T13:29:38.483296Z"
    }
   },
   "outputs": [],
   "source": [
    "bbr_df = pd.concat([bbr_df_17_20, bbr_df_21])\\\n",
    "           .reset_index().drop('index', axis=1)"
   ]
  },
  {
   "cell_type": "markdown",
   "metadata": {},
   "source": [
    "Filter in players that played over 200 minutes"
   ]
  },
  {
   "cell_type": "code",
   "execution_count": 17,
   "metadata": {
    "ExecuteTime": {
     "end_time": "2022-06-15T13:29:39.634333Z",
     "start_time": "2022-06-15T13:29:39.628027Z"
    }
   },
   "outputs": [
    {
     "data": {
      "text/plain": [
       "(2323, 36)"
      ]
     },
     "execution_count": 17,
     "metadata": {},
     "output_type": "execute_result"
    }
   ],
   "source": [
    "bbr_df = bbr_df[bbr_df['mp'] >= 200]\n",
    "bbr_df.shape"
   ]
  },
  {
   "cell_type": "markdown",
   "metadata": {},
   "source": [
    "Convert heights"
   ]
  },
  {
   "cell_type": "code",
   "execution_count": 18,
   "metadata": {
    "ExecuteTime": {
     "end_time": "2022-06-15T13:29:42.816320Z",
     "start_time": "2022-06-15T13:29:42.812491Z"
    }
   },
   "outputs": [],
   "source": [
    "def convert_height(height):\n",
    "    feet, inches = height.split('-')\n",
    "    cm = int(feet) * 12 + int(inches)\n",
    "    return round(cm * 2.54, 1)"
   ]
  },
  {
   "cell_type": "code",
   "execution_count": 19,
   "metadata": {
    "ExecuteTime": {
     "end_time": "2022-06-15T13:29:43.092136Z",
     "start_time": "2022-06-15T13:29:43.085144Z"
    }
   },
   "outputs": [
    {
     "data": {
      "text/plain": [
       "Int64Index([2480, 2500, 2507, 2553, 2576, 2627, 2715, 2718, 2719, 2720, 2762,\n",
       "            2810, 2835, 2928, 2929, 2952, 3017, 3020, 3024, 3026, 3070],\n",
       "           dtype='int64')"
      ]
     },
     "execution_count": 19,
     "metadata": {},
     "output_type": "execute_result"
    }
   ],
   "source": [
    "bbr_df[bbr_df['height'].isna()].index"
   ]
  },
  {
   "cell_type": "code",
   "execution_count": 20,
   "metadata": {
    "ExecuteTime": {
     "end_time": "2022-06-15T13:29:44.534457Z",
     "start_time": "2022-06-15T13:29:44.517654Z"
    }
   },
   "outputs": [],
   "source": [
    "bbr_df.loc[2480, 'height'] = '6-10'\n",
    "bbr_df.loc[2480, 'weight'] = 250\n",
    "bbr_df.loc[2500, 'height'] = '6-7'\n",
    "bbr_df.loc[2500, 'weight'] = 240\n",
    "bbr_df.loc[2507, 'height'] = '6-5'\n",
    "bbr_df.loc[2507, 'weight'] = 210\n",
    "bbr_df.loc[2553, 'height'] = '6-7'\n",
    "bbr_df.loc[2553, 'weight'] = 215\n",
    "bbr_df.loc[2576, 'height'] = '6-4'\n",
    "bbr_df.loc[2576, 'weight'] = 220\n",
    "bbr_df.loc[2627, 'height'] = '6-6'\n",
    "bbr_df.loc[2627, 'weight'] = 205\n",
    "bbr_df.loc[2715, 'height'] = '6-0'\n",
    "bbr_df.loc[2715, 'weight'] = 180\n",
    "bbr_df.loc[2718, 'height'] = '6-5'\n",
    "bbr_df.loc[2718, 'weight'] = 230\n",
    "bbr_df.loc[2719, 'height'] = '6-3'\n",
    "bbr_df.loc[2719, 'weight'] = 210\n",
    "bbr_df.loc[2720, 'height'] = '6-6'\n",
    "bbr_df.loc[2720, 'weight'] = 230\n",
    "bbr_df.loc[2762, 'height'] = '6-8'\n",
    "bbr_df.loc[2762, 'weight'] = 215\n",
    "bbr_df.loc[2810, 'height'] = '6-8'\n",
    "bbr_df.loc[2810, 'weight'] = 215\n",
    "bbr_df.loc[2835, 'height'] = '6-6'\n",
    "bbr_df.loc[2835, 'weight'] = 240\n",
    "bbr_df.loc[2928, 'height'] = '7-0'\n",
    "bbr_df.loc[2928, 'weight'] = 237\n",
    "bbr_df.loc[2929, 'height'] = '6-8'\n",
    "bbr_df.loc[2929, 'weight'] = 216\n",
    "bbr_df.loc[2952, 'height'] = '6-0'\n",
    "bbr_df.loc[2952, 'weight'] = 170\n",
    "bbr_df.loc[3017, 'height'] = '6-9'\n",
    "bbr_df.loc[3017, 'weight'] = 245\n",
    "bbr_df.loc[3020, 'height'] = '6-2'\n",
    "bbr_df.loc[3020, 'weight'] = 205\n",
    "bbr_df.loc[3024, 'height'] = '6-11'\n",
    "bbr_df.loc[3024, 'weight'] = 240\n",
    "bbr_df.loc[3026, 'height'] = '6-3'\n",
    "bbr_df.loc[3026, 'weight'] = 205\n",
    "bbr_df.loc[3070, 'height'] = '6-9'\n",
    "bbr_df.loc[3070, 'weight'] = 245"
   ]
  },
  {
   "cell_type": "code",
   "execution_count": 21,
   "metadata": {
    "ExecuteTime": {
     "end_time": "2022-06-15T13:29:46.270861Z",
     "start_time": "2022-06-15T13:29:46.263986Z"
    }
   },
   "outputs": [],
   "source": [
    "bbr_df['height_cm'] = bbr_df['height'].apply(convert_height)"
   ]
  },
  {
   "cell_type": "markdown",
   "metadata": {},
   "source": [
    "Convert weights"
   ]
  },
  {
   "cell_type": "code",
   "execution_count": 22,
   "metadata": {
    "ExecuteTime": {
     "end_time": "2022-06-15T13:29:47.599018Z",
     "start_time": "2022-06-15T13:29:47.589614Z"
    }
   },
   "outputs": [],
   "source": [
    "bbr_df['weight_kg'] = bbr_df['weight'].apply(lambda x: round(0.453592 * x, 1))"
   ]
  },
  {
   "cell_type": "markdown",
   "metadata": {},
   "source": [
    "### Merge Synergy Data & BBR Data"
   ]
  },
  {
   "cell_type": "code",
   "execution_count": 23,
   "metadata": {
    "ExecuteTime": {
     "end_time": "2022-06-15T13:29:50.415661Z",
     "start_time": "2022-06-15T13:29:50.409391Z"
    }
   },
   "outputs": [],
   "source": [
    "s_df['Player_Alt'] = s_df['Player'].apply(lambda x: x.replace(' ', '').lower())\\\n",
    "                                   .apply(lambda x: x.replace(\"'\", ''))\\\n",
    "                                   .apply(lambda x: x.replace('.', ''))"
   ]
  },
  {
   "cell_type": "code",
   "execution_count": 24,
   "metadata": {
    "ExecuteTime": {
     "end_time": "2022-06-15T13:29:50.635144Z",
     "start_time": "2022-06-15T13:29:50.625240Z"
    }
   },
   "outputs": [],
   "source": [
    "bbr_df['player_alt_alt'] = bbr_df['player_alt'].apply(lambda x: x.replace(' ', ''))\\\n",
    "                                               .apply(lambda x: x.replace(\"'\", ''))\\\n",
    "                                               .apply(lambda x: x.replace('.', ''))\\\n",
    "                                               .apply(lambda x: x.lower())"
   ]
  },
  {
   "cell_type": "code",
   "execution_count": 25,
   "metadata": {
    "ExecuteTime": {
     "end_time": "2022-06-15T13:30:06.287863Z",
     "start_time": "2022-06-15T13:30:06.281287Z"
    }
   },
   "outputs": [],
   "source": [
    "synergy_name_dict = {'kevinknoxii': 'kevinknox',\n",
    "                     'danilogalinari': 'danilogallinari',\n",
    "                     'louiswilliams': 'louwilliams',\n",
    "                     'eneskanter': 'enesfreedom',\n",
    "                     'terryrozieriii': 'terryrozier',\n",
    "                     'cameronreddish': 'camreddish',\n",
    "                     'jahilokafor': 'jahlilokafor',\n",
    "                     'danuelhouse': 'danuelhousejr',\n",
    "                     'alfarouqaminu': 'al-farouqaminu',\n",
    "                     'nenehilario': 'nene',\n",
    "                     'frankmason': 'frankmasoniii',\n",
    "                     'larrynance': 'larrynancejr',\n",
    "                     'wesleyiwundu': 'wesiwundu',\n",
    "                     'robertwilliamsiii': 'robertwilliams',\n",
    "                     'harrygilesiii': 'harrygiles',\n",
    "                     'jamesennis': 'jamesennisiii',\n",
    "                     'mohamedbamba': 'mobamba',\n",
    "                     'xaviertillman': 'xaviertillmansr',\n",
    "                     'patrickbeverly': 'patrickbeverley',\n",
    "                     'malcomdelaney': 'malcolmdelaney',\n",
    "                     'marcusmorrissr': 'marcusmorris',\n",
    "                     'nicolasclaxton': 'nicclaxton',\n",
    "                     'juanhernangomez': 'juanchohernangomez',\n",
    "                     'guillermohernangomez': 'willyhernangomez',\n",
    "                     'timothéluwawu-cabarrot': 'timotheluwawu-cabarrot',\n",
    "                     'nahshonhyland': 'boneshyland'}\n",
    "s_df['Player_Alt'] = s_df['Player_Alt'].apply(lambda x: synergy_name_dict[x] \n",
    "                                              if x in synergy_name_dict.keys()\n",
    "                                              else x)"
   ]
  },
  {
   "cell_type": "code",
   "execution_count": 26,
   "metadata": {
    "ExecuteTime": {
     "end_time": "2022-06-15T13:30:07.030449Z",
     "start_time": "2022-06-15T13:30:07.011893Z"
    }
   },
   "outputs": [
    {
     "data": {
      "text/plain": [
       "(1774, 114)"
      ]
     },
     "execution_count": 26,
     "metadata": {},
     "output_type": "execute_result"
    }
   ],
   "source": [
    "df = s_df.merge(bbr_df, how='left', \n",
    "                left_on=['Player_Alt', 'Team', 'Season'],\n",
    "                right_on=['player_alt_alt', 'team', 'season'])\n",
    "df = df[~df['player_alt_alt'].isna()].reset_index().drop('index', axis=1)\n",
    "df.shape"
   ]
  },
  {
   "cell_type": "code",
   "execution_count": 27,
   "metadata": {
    "ExecuteTime": {
     "end_time": "2022-06-15T13:30:08.847768Z",
     "start_time": "2022-06-15T13:30:08.839964Z"
    }
   },
   "outputs": [
    {
     "data": {
      "text/plain": [
       "(1774, 3)"
      ]
     },
     "execution_count": 27,
     "metadata": {},
     "output_type": "execute_result"
    }
   ],
   "source": [
    "# check \n",
    "df[['Player_Alt', 'Team', 'Season']].drop_duplicates().shape"
   ]
  },
  {
   "cell_type": "markdown",
   "metadata": {},
   "source": [
    "## Outlier Detection"
   ]
  },
  {
   "cell_type": "code",
   "execution_count": 28,
   "metadata": {
    "ExecuteTime": {
     "end_time": "2022-06-15T13:30:11.270116Z",
     "start_time": "2022-06-15T13:30:11.148914Z"
    }
   },
   "outputs": [],
   "source": [
    "from iforest import *"
   ]
  },
  {
   "cell_type": "code",
   "execution_count": 29,
   "metadata": {
    "ExecuteTime": {
     "end_time": "2022-06-15T13:30:12.067961Z",
     "start_time": "2022-06-15T13:30:12.063615Z"
    }
   },
   "outputs": [],
   "source": [
    "X = df[poss_weights_cols].values"
   ]
  },
  {
   "cell_type": "code",
   "execution_count": 30,
   "metadata": {
    "ExecuteTime": {
     "end_time": "2022-06-15T13:30:12.478920Z",
     "start_time": "2022-06-15T13:30:12.343987Z"
    }
   },
   "outputs": [
    {
     "data": {
      "text/plain": [
       "<iforest.IsolationTreeEnsemble at 0x7fda145dfbb0>"
      ]
     },
     "execution_count": 30,
     "metadata": {},
     "output_type": "execute_result"
    }
   ],
   "source": [
    "model = IsolationTreeEnsemble(sample_size=256)\n",
    "model.fit(X)"
   ]
  },
  {
   "cell_type": "code",
   "execution_count": 31,
   "metadata": {
    "ExecuteTime": {
     "end_time": "2022-06-15T13:30:14.050830Z",
     "start_time": "2022-06-15T13:30:13.909213Z"
    }
   },
   "outputs": [
    {
     "data": {
      "text/plain": [
       "count    1774.000000\n",
       "mean        0.452580\n",
       "std         0.052338\n",
       "min         0.357515\n",
       "25%         0.411800\n",
       "50%         0.445165\n",
       "75%         0.485260\n",
       "max         0.689686\n",
       "Name: anomaly_score, dtype: float64"
      ]
     },
     "execution_count": 31,
     "metadata": {},
     "output_type": "execute_result"
    }
   ],
   "source": [
    "df['anomaly_score'] = model.anomaly_score(X)\n",
    "df['anomaly_score'].describe()"
   ]
  },
  {
   "cell_type": "code",
   "execution_count": 34,
   "metadata": {
    "ExecuteTime": {
     "end_time": "2022-06-15T13:30:28.956293Z",
     "start_time": "2022-06-15T13:30:28.951078Z"
    }
   },
   "outputs": [
    {
     "data": {
      "text/plain": [
       "0.011837655016910935"
      ]
     },
     "execution_count": 34,
     "metadata": {},
     "output_type": "execute_result"
    }
   ],
   "source": [
    "df[df['anomaly_score'] > 0.6].shape[0] / df.shape[0]"
   ]
  },
  {
   "cell_type": "code",
   "execution_count": 38,
   "metadata": {
    "ExecuteTime": {
     "end_time": "2022-06-15T13:30:56.734439Z",
     "start_time": "2022-06-15T13:30:56.713725Z"
    }
   },
   "outputs": [
    {
     "data": {
      "text/html": [
       "<div>\n",
       "<style scoped>\n",
       "    .dataframe tbody tr th:only-of-type {\n",
       "        vertical-align: middle;\n",
       "    }\n",
       "\n",
       "    .dataframe tbody tr th {\n",
       "        vertical-align: top;\n",
       "    }\n",
       "\n",
       "    .dataframe thead th {\n",
       "        text-align: right;\n",
       "    }\n",
       "</style>\n",
       "<table border=\"1\" class=\"dataframe\">\n",
       "  <thead>\n",
       "    <tr style=\"text-align: right;\">\n",
       "      <th></th>\n",
       "      <th>Player</th>\n",
       "      <th>Team</th>\n",
       "      <th>Season</th>\n",
       "      <th>anomaly_score</th>\n",
       "    </tr>\n",
       "  </thead>\n",
       "  <tbody>\n",
       "    <tr>\n",
       "      <th>1771</th>\n",
       "      <td>Robin Lopez</td>\n",
       "      <td>Orlando Magic</td>\n",
       "      <td>2021</td>\n",
       "      <td>0.689686</td>\n",
       "    </tr>\n",
       "    <tr>\n",
       "      <th>104</th>\n",
       "      <td>Greg Monroe</td>\n",
       "      <td>Boston Celtics</td>\n",
       "      <td>2017</td>\n",
       "      <td>0.686777</td>\n",
       "    </tr>\n",
       "    <tr>\n",
       "      <th>310</th>\n",
       "      <td>Al Jefferson</td>\n",
       "      <td>Indiana Pacers</td>\n",
       "      <td>2017</td>\n",
       "      <td>0.667666</td>\n",
       "    </tr>\n",
       "    <tr>\n",
       "      <th>569</th>\n",
       "      <td>Robin Lopez</td>\n",
       "      <td>Chicago Bulls</td>\n",
       "      <td>2018</td>\n",
       "      <td>0.666342</td>\n",
       "    </tr>\n",
       "    <tr>\n",
       "      <th>71</th>\n",
       "      <td>LaMarcus Aldridge</td>\n",
       "      <td>San Antonio Spurs</td>\n",
       "      <td>2017</td>\n",
       "      <td>0.651179</td>\n",
       "    </tr>\n",
       "    <tr>\n",
       "      <th>904</th>\n",
       "      <td>Boban Marjanovic</td>\n",
       "      <td>Dallas Mavericks</td>\n",
       "      <td>2019</td>\n",
       "      <td>0.638669</td>\n",
       "    </tr>\n",
       "    <tr>\n",
       "      <th>61</th>\n",
       "      <td>Dwight Howard</td>\n",
       "      <td>Charlotte Hornets</td>\n",
       "      <td>2017</td>\n",
       "      <td>0.638644</td>\n",
       "    </tr>\n",
       "    <tr>\n",
       "      <th>665</th>\n",
       "      <td>Jahlil Okafor</td>\n",
       "      <td>New Orleans Pelicans</td>\n",
       "      <td>2018</td>\n",
       "      <td>0.633221</td>\n",
       "    </tr>\n",
       "    <tr>\n",
       "      <th>431</th>\n",
       "      <td>LaMarcus Aldridge</td>\n",
       "      <td>San Antonio Spurs</td>\n",
       "      <td>2018</td>\n",
       "      <td>0.620250</td>\n",
       "    </tr>\n",
       "    <tr>\n",
       "      <th>1510</th>\n",
       "      <td>Joel Embiid</td>\n",
       "      <td>Philadelphia 76ers</td>\n",
       "      <td>2021</td>\n",
       "      <td>0.616932</td>\n",
       "    </tr>\n",
       "    <tr>\n",
       "      <th>1152</th>\n",
       "      <td>Joel Embiid</td>\n",
       "      <td>Philadelphia 76ers</td>\n",
       "      <td>2020</td>\n",
       "      <td>0.616781</td>\n",
       "    </tr>\n",
       "    <tr>\n",
       "      <th>1325</th>\n",
       "      <td>Bryn Forbes</td>\n",
       "      <td>Milwaukee Bucks</td>\n",
       "      <td>2020</td>\n",
       "      <td>0.611918</td>\n",
       "    </tr>\n",
       "    <tr>\n",
       "      <th>352</th>\n",
       "      <td>Jonas Valanciunas</td>\n",
       "      <td>Memphis Grizzlies</td>\n",
       "      <td>2018</td>\n",
       "      <td>0.611272</td>\n",
       "    </tr>\n",
       "    <tr>\n",
       "      <th>644</th>\n",
       "      <td>Karl-Anthony Towns</td>\n",
       "      <td>Minnesota Timberwolves</td>\n",
       "      <td>2018</td>\n",
       "      <td>0.609746</td>\n",
       "    </tr>\n",
       "    <tr>\n",
       "      <th>176</th>\n",
       "      <td>Zach Randolph</td>\n",
       "      <td>Sacramento Kings</td>\n",
       "      <td>2017</td>\n",
       "      <td>0.607736</td>\n",
       "    </tr>\n",
       "    <tr>\n",
       "      <th>1435</th>\n",
       "      <td>Dwight Howard</td>\n",
       "      <td>Los Angeles Lakers</td>\n",
       "      <td>2021</td>\n",
       "      <td>0.605512</td>\n",
       "    </tr>\n",
       "    <tr>\n",
       "      <th>1653</th>\n",
       "      <td>Mitchell Robinson</td>\n",
       "      <td>New York Knicks</td>\n",
       "      <td>2021</td>\n",
       "      <td>0.605148</td>\n",
       "    </tr>\n",
       "    <tr>\n",
       "      <th>1295</th>\n",
       "      <td>Mitchell Robinson</td>\n",
       "      <td>New York Knicks</td>\n",
       "      <td>2020</td>\n",
       "      <td>0.605148</td>\n",
       "    </tr>\n",
       "    <tr>\n",
       "      <th>622</th>\n",
       "      <td>Deandre Ayton</td>\n",
       "      <td>Phoenix Suns</td>\n",
       "      <td>2018</td>\n",
       "      <td>0.605019</td>\n",
       "    </tr>\n",
       "    <tr>\n",
       "      <th>1476</th>\n",
       "      <td>Jakob Poeltl</td>\n",
       "      <td>San Antonio Spurs</td>\n",
       "      <td>2021</td>\n",
       "      <td>0.602822</td>\n",
       "    </tr>\n",
       "    <tr>\n",
       "      <th>1129</th>\n",
       "      <td>LaMarcus Aldridge</td>\n",
       "      <td>San Antonio Spurs</td>\n",
       "      <td>2020</td>\n",
       "      <td>0.600971</td>\n",
       "    </tr>\n",
       "    <tr>\n",
       "      <th>1026</th>\n",
       "      <td>Hassan Whiteside</td>\n",
       "      <td>Portland Trail Blazers</td>\n",
       "      <td>2019</td>\n",
       "      <td>0.598757</td>\n",
       "    </tr>\n",
       "    <tr>\n",
       "      <th>813</th>\n",
       "      <td>Enes Kanter</td>\n",
       "      <td>Boston Celtics</td>\n",
       "      <td>2019</td>\n",
       "      <td>0.597337</td>\n",
       "    </tr>\n",
       "    <tr>\n",
       "      <th>461</th>\n",
       "      <td>Ben Simmons</td>\n",
       "      <td>Philadelphia 76ers</td>\n",
       "      <td>2018</td>\n",
       "      <td>0.597013</td>\n",
       "    </tr>\n",
       "    <tr>\n",
       "      <th>706</th>\n",
       "      <td>Nikola Vucevic</td>\n",
       "      <td>Orlando Magic</td>\n",
       "      <td>2018</td>\n",
       "      <td>0.596215</td>\n",
       "    </tr>\n",
       "    <tr>\n",
       "      <th>1734</th>\n",
       "      <td>Jusuf Nurkic</td>\n",
       "      <td>Portland Trail Blazers</td>\n",
       "      <td>2021</td>\n",
       "      <td>0.594624</td>\n",
       "    </tr>\n",
       "    <tr>\n",
       "      <th>817</th>\n",
       "      <td>Joel Embiid</td>\n",
       "      <td>Philadelphia 76ers</td>\n",
       "      <td>2019</td>\n",
       "      <td>0.593466</td>\n",
       "    </tr>\n",
       "    <tr>\n",
       "      <th>818</th>\n",
       "      <td>Ben Simmons</td>\n",
       "      <td>Philadelphia 76ers</td>\n",
       "      <td>2019</td>\n",
       "      <td>0.592987</td>\n",
       "    </tr>\n",
       "    <tr>\n",
       "      <th>425</th>\n",
       "      <td>Willy Hernangomez</td>\n",
       "      <td>Charlotte Hornets</td>\n",
       "      <td>2018</td>\n",
       "      <td>0.590492</td>\n",
       "    </tr>\n",
       "    <tr>\n",
       "      <th>1559</th>\n",
       "      <td>Derrick Favors</td>\n",
       "      <td>Oklahoma City Thunder</td>\n",
       "      <td>2021</td>\n",
       "      <td>0.590255</td>\n",
       "    </tr>\n",
       "    <tr>\n",
       "      <th>1018</th>\n",
       "      <td>Doug McDermott</td>\n",
       "      <td>Indiana Pacers</td>\n",
       "      <td>2019</td>\n",
       "      <td>0.589822</td>\n",
       "    </tr>\n",
       "    <tr>\n",
       "      <th>107</th>\n",
       "      <td>Joel Embiid</td>\n",
       "      <td>Philadelphia 76ers</td>\n",
       "      <td>2017</td>\n",
       "      <td>0.589464</td>\n",
       "    </tr>\n",
       "    <tr>\n",
       "      <th>598</th>\n",
       "      <td>Enes Kanter</td>\n",
       "      <td>New York Knicks</td>\n",
       "      <td>2018</td>\n",
       "      <td>0.589312</td>\n",
       "    </tr>\n",
       "    <tr>\n",
       "      <th>1074</th>\n",
       "      <td>Montrezl Harrell</td>\n",
       "      <td>Los Angeles Lakers</td>\n",
       "      <td>2020</td>\n",
       "      <td>0.584686</td>\n",
       "    </tr>\n",
       "    <tr>\n",
       "      <th>114</th>\n",
       "      <td>Marco Belinelli</td>\n",
       "      <td>Philadelphia 76ers</td>\n",
       "      <td>2017</td>\n",
       "      <td>0.583716</td>\n",
       "    </tr>\n",
       "    <tr>\n",
       "      <th>1357</th>\n",
       "      <td>Doug McDermott</td>\n",
       "      <td>Indiana Pacers</td>\n",
       "      <td>2020</td>\n",
       "      <td>0.582711</td>\n",
       "    </tr>\n",
       "    <tr>\n",
       "      <th>1070</th>\n",
       "      <td>Derrick Favors</td>\n",
       "      <td>Utah Jazz</td>\n",
       "      <td>2020</td>\n",
       "      <td>0.581762</td>\n",
       "    </tr>\n",
       "    <tr>\n",
       "      <th>481</th>\n",
       "      <td>Shaun Livingston</td>\n",
       "      <td>Golden State Warriors</td>\n",
       "      <td>2018</td>\n",
       "      <td>0.581655</td>\n",
       "    </tr>\n",
       "    <tr>\n",
       "      <th>692</th>\n",
       "      <td>Enes Kanter</td>\n",
       "      <td>Portland Trail Blazers</td>\n",
       "      <td>2018</td>\n",
       "      <td>0.579328</td>\n",
       "    </tr>\n",
       "    <tr>\n",
       "      <th>127</th>\n",
       "      <td>Shaun Livingston</td>\n",
       "      <td>Golden State Warriors</td>\n",
       "      <td>2017</td>\n",
       "      <td>0.578852</td>\n",
       "    </tr>\n",
       "    <tr>\n",
       "      <th>1353</th>\n",
       "      <td>JJ Redick</td>\n",
       "      <td>New Orleans Pelicans</td>\n",
       "      <td>2020</td>\n",
       "      <td>0.577482</td>\n",
       "    </tr>\n",
       "    <tr>\n",
       "      <th>1702</th>\n",
       "      <td>Jonas Valanciunas</td>\n",
       "      <td>New Orleans Pelicans</td>\n",
       "      <td>2021</td>\n",
       "      <td>0.577471</td>\n",
       "    </tr>\n",
       "    <tr>\n",
       "      <th>1220</th>\n",
       "      <td>Hassan Whiteside</td>\n",
       "      <td>Sacramento Kings</td>\n",
       "      <td>2020</td>\n",
       "      <td>0.577468</td>\n",
       "    </tr>\n",
       "    <tr>\n",
       "      <th>523</th>\n",
       "      <td>Harry Giles</td>\n",
       "      <td>Sacramento Kings</td>\n",
       "      <td>2018</td>\n",
       "      <td>0.576918</td>\n",
       "    </tr>\n",
       "    <tr>\n",
       "      <th>1100</th>\n",
       "      <td>Robin Lopez</td>\n",
       "      <td>Washington Wizards</td>\n",
       "      <td>2020</td>\n",
       "      <td>0.576802</td>\n",
       "    </tr>\n",
       "    <tr>\n",
       "      <th>1125</th>\n",
       "      <td>Jakob Poeltl</td>\n",
       "      <td>San Antonio Spurs</td>\n",
       "      <td>2020</td>\n",
       "      <td>0.574965</td>\n",
       "    </tr>\n",
       "    <tr>\n",
       "      <th>240</th>\n",
       "      <td>Kristaps Porzingis</td>\n",
       "      <td>New York Knicks</td>\n",
       "      <td>2017</td>\n",
       "      <td>0.574301</td>\n",
       "    </tr>\n",
       "    <tr>\n",
       "      <th>854</th>\n",
       "      <td>Steven Adams</td>\n",
       "      <td>Oklahoma City Thunder</td>\n",
       "      <td>2019</td>\n",
       "      <td>0.574293</td>\n",
       "    </tr>\n",
       "    <tr>\n",
       "      <th>521</th>\n",
       "      <td>Marvin Bagley III</td>\n",
       "      <td>Sacramento Kings</td>\n",
       "      <td>2018</td>\n",
       "      <td>0.574082</td>\n",
       "    </tr>\n",
       "    <tr>\n",
       "      <th>190</th>\n",
       "      <td>Reggie Bullock</td>\n",
       "      <td>Detroit Pistons</td>\n",
       "      <td>2017</td>\n",
       "      <td>0.573697</td>\n",
       "    </tr>\n",
       "    <tr>\n",
       "      <th>1101</th>\n",
       "      <td>Davis Bertans</td>\n",
       "      <td>Washington Wizards</td>\n",
       "      <td>2020</td>\n",
       "      <td>0.572691</td>\n",
       "    </tr>\n",
       "    <tr>\n",
       "      <th>1205</th>\n",
       "      <td>Jarrett Allen</td>\n",
       "      <td>Cleveland Cavaliers</td>\n",
       "      <td>2020</td>\n",
       "      <td>0.569504</td>\n",
       "    </tr>\n",
       "    <tr>\n",
       "      <th>617</th>\n",
       "      <td>Ed Davis</td>\n",
       "      <td>Brooklyn Nets</td>\n",
       "      <td>2018</td>\n",
       "      <td>0.568691</td>\n",
       "    </tr>\n",
       "    <tr>\n",
       "      <th>222</th>\n",
       "      <td>Robin Lopez</td>\n",
       "      <td>Chicago Bulls</td>\n",
       "      <td>2017</td>\n",
       "      <td>0.568408</td>\n",
       "    </tr>\n",
       "    <tr>\n",
       "      <th>783</th>\n",
       "      <td>LaMarcus Aldridge</td>\n",
       "      <td>San Antonio Spurs</td>\n",
       "      <td>2019</td>\n",
       "      <td>0.567022</td>\n",
       "    </tr>\n",
       "    <tr>\n",
       "      <th>538</th>\n",
       "      <td>Wayne Ellington</td>\n",
       "      <td>Detroit Pistons</td>\n",
       "      <td>2018</td>\n",
       "      <td>0.566895</td>\n",
       "    </tr>\n",
       "    <tr>\n",
       "      <th>1004</th>\n",
       "      <td>JJ Redick</td>\n",
       "      <td>New Orleans Pelicans</td>\n",
       "      <td>2019</td>\n",
       "      <td>0.566306</td>\n",
       "    </tr>\n",
       "    <tr>\n",
       "      <th>319</th>\n",
       "      <td>Ed Davis</td>\n",
       "      <td>Portland Trail Blazers</td>\n",
       "      <td>2017</td>\n",
       "      <td>0.565324</td>\n",
       "    </tr>\n",
       "    <tr>\n",
       "      <th>1369</th>\n",
       "      <td>Enes Kanter</td>\n",
       "      <td>Portland Trail Blazers</td>\n",
       "      <td>2020</td>\n",
       "      <td>0.565310</td>\n",
       "    </tr>\n",
       "    <tr>\n",
       "      <th>595</th>\n",
       "      <td>Tim Hardaway Jr.</td>\n",
       "      <td>New York Knicks</td>\n",
       "      <td>2018</td>\n",
       "      <td>0.564589</td>\n",
       "    </tr>\n",
       "    <tr>\n",
       "      <th>530</th>\n",
       "      <td>Andre Drummond</td>\n",
       "      <td>Detroit Pistons</td>\n",
       "      <td>2018</td>\n",
       "      <td>0.564507</td>\n",
       "    </tr>\n",
       "    <tr>\n",
       "      <th>243</th>\n",
       "      <td>Enes Kanter</td>\n",
       "      <td>New York Knicks</td>\n",
       "      <td>2017</td>\n",
       "      <td>0.563872</td>\n",
       "    </tr>\n",
       "    <tr>\n",
       "      <th>267</th>\n",
       "      <td>Troy Daniels</td>\n",
       "      <td>Phoenix Suns</td>\n",
       "      <td>2017</td>\n",
       "      <td>0.562538</td>\n",
       "    </tr>\n",
       "    <tr>\n",
       "      <th>460</th>\n",
       "      <td>Joel Embiid</td>\n",
       "      <td>Philadelphia 76ers</td>\n",
       "      <td>2018</td>\n",
       "      <td>0.562534</td>\n",
       "    </tr>\n",
       "    <tr>\n",
       "      <th>562</th>\n",
       "      <td>Mason Plumlee</td>\n",
       "      <td>Denver Nuggets</td>\n",
       "      <td>2018</td>\n",
       "      <td>0.562170</td>\n",
       "    </tr>\n",
       "    <tr>\n",
       "      <th>1310</th>\n",
       "      <td>Deandre Ayton</td>\n",
       "      <td>Phoenix Suns</td>\n",
       "      <td>2020</td>\n",
       "      <td>0.562062</td>\n",
       "    </tr>\n",
       "    <tr>\n",
       "      <th>327</th>\n",
       "      <td>Wayne Ellington</td>\n",
       "      <td>Miami Heat</td>\n",
       "      <td>2017</td>\n",
       "      <td>0.561719</td>\n",
       "    </tr>\n",
       "    <tr>\n",
       "      <th>498</th>\n",
       "      <td>Steven Adams</td>\n",
       "      <td>Oklahoma City Thunder</td>\n",
       "      <td>2018</td>\n",
       "      <td>0.560976</td>\n",
       "    </tr>\n",
       "    <tr>\n",
       "      <th>158</th>\n",
       "      <td>LeBron James</td>\n",
       "      <td>Cleveland Cavaliers</td>\n",
       "      <td>2017</td>\n",
       "      <td>0.560201</td>\n",
       "    </tr>\n",
       "    <tr>\n",
       "      <th>1584</th>\n",
       "      <td>Justin Holiday</td>\n",
       "      <td>Sacramento Kings</td>\n",
       "      <td>2021</td>\n",
       "      <td>0.560092</td>\n",
       "    </tr>\n",
       "    <tr>\n",
       "      <th>906</th>\n",
       "      <td>Nikola Jokic</td>\n",
       "      <td>Denver Nuggets</td>\n",
       "      <td>2019</td>\n",
       "      <td>0.560049</td>\n",
       "    </tr>\n",
       "    <tr>\n",
       "      <th>1373</th>\n",
       "      <td>Jusuf Nurkic</td>\n",
       "      <td>Portland Trail Blazers</td>\n",
       "      <td>2020</td>\n",
       "      <td>0.559917</td>\n",
       "    </tr>\n",
       "    <tr>\n",
       "      <th>370</th>\n",
       "      <td>Kyle Korver</td>\n",
       "      <td>Utah Jazz</td>\n",
       "      <td>2018</td>\n",
       "      <td>0.557962</td>\n",
       "    </tr>\n",
       "    <tr>\n",
       "      <th>484</th>\n",
       "      <td>Montrezl Harrell</td>\n",
       "      <td>Los Angeles Clippers</td>\n",
       "      <td>2018</td>\n",
       "      <td>0.557605</td>\n",
       "    </tr>\n",
       "    <tr>\n",
       "      <th>1031</th>\n",
       "      <td>Bam Adebayo</td>\n",
       "      <td>Miami Heat</td>\n",
       "      <td>2019</td>\n",
       "      <td>0.557596</td>\n",
       "    </tr>\n",
       "    <tr>\n",
       "      <th>193</th>\n",
       "      <td>Blake Griffin</td>\n",
       "      <td>Detroit Pistons</td>\n",
       "      <td>2017</td>\n",
       "      <td>0.556978</td>\n",
       "    </tr>\n",
       "    <tr>\n",
       "      <th>983</th>\n",
       "      <td>Kyle Korver</td>\n",
       "      <td>Milwaukee Bucks</td>\n",
       "      <td>2019</td>\n",
       "      <td>0.556315</td>\n",
       "    </tr>\n",
       "    <tr>\n",
       "      <th>0</th>\n",
       "      <td>Marc Gasol</td>\n",
       "      <td>Memphis Grizzlies</td>\n",
       "      <td>2017</td>\n",
       "      <td>0.555605</td>\n",
       "    </tr>\n",
       "    <tr>\n",
       "      <th>640</th>\n",
       "      <td>Tony Snell</td>\n",
       "      <td>Milwaukee Bucks</td>\n",
       "      <td>2018</td>\n",
       "      <td>0.554963</td>\n",
       "    </tr>\n",
       "    <tr>\n",
       "      <th>400</th>\n",
       "      <td>Greg Monroe</td>\n",
       "      <td>Toronto Raptors</td>\n",
       "      <td>2018</td>\n",
       "      <td>0.552746</td>\n",
       "    </tr>\n",
       "    <tr>\n",
       "      <th>341</th>\n",
       "      <td>Bismack Biyombo</td>\n",
       "      <td>Orlando Magic</td>\n",
       "      <td>2017</td>\n",
       "      <td>0.550481</td>\n",
       "    </tr>\n",
       "    <tr>\n",
       "      <th>1206</th>\n",
       "      <td>Andre Drummond</td>\n",
       "      <td>Cleveland Cavaliers</td>\n",
       "      <td>2020</td>\n",
       "      <td>0.550449</td>\n",
       "    </tr>\n",
       "    <tr>\n",
       "      <th>700</th>\n",
       "      <td>Dion Waiters</td>\n",
       "      <td>Miami Heat</td>\n",
       "      <td>2018</td>\n",
       "      <td>0.550440</td>\n",
       "    </tr>\n",
       "  </tbody>\n",
       "</table>\n",
       "</div>"
      ],
      "text/plain": [
       "                  Player                    Team  Season  anomaly_score\n",
       "1771         Robin Lopez           Orlando Magic    2021       0.689686\n",
       "104          Greg Monroe          Boston Celtics    2017       0.686777\n",
       "310         Al Jefferson          Indiana Pacers    2017       0.667666\n",
       "569          Robin Lopez           Chicago Bulls    2018       0.666342\n",
       "71     LaMarcus Aldridge       San Antonio Spurs    2017       0.651179\n",
       "904     Boban Marjanovic        Dallas Mavericks    2019       0.638669\n",
       "61         Dwight Howard       Charlotte Hornets    2017       0.638644\n",
       "665        Jahlil Okafor    New Orleans Pelicans    2018       0.633221\n",
       "431    LaMarcus Aldridge       San Antonio Spurs    2018       0.620250\n",
       "1510         Joel Embiid      Philadelphia 76ers    2021       0.616932\n",
       "1152         Joel Embiid      Philadelphia 76ers    2020       0.616781\n",
       "1325         Bryn Forbes         Milwaukee Bucks    2020       0.611918\n",
       "352    Jonas Valanciunas       Memphis Grizzlies    2018       0.611272\n",
       "644   Karl-Anthony Towns  Minnesota Timberwolves    2018       0.609746\n",
       "176        Zach Randolph        Sacramento Kings    2017       0.607736\n",
       "1435       Dwight Howard      Los Angeles Lakers    2021       0.605512\n",
       "1653   Mitchell Robinson         New York Knicks    2021       0.605148\n",
       "1295   Mitchell Robinson         New York Knicks    2020       0.605148\n",
       "622        Deandre Ayton            Phoenix Suns    2018       0.605019\n",
       "1476        Jakob Poeltl       San Antonio Spurs    2021       0.602822\n",
       "1129   LaMarcus Aldridge       San Antonio Spurs    2020       0.600971\n",
       "1026    Hassan Whiteside  Portland Trail Blazers    2019       0.598757\n",
       "813          Enes Kanter          Boston Celtics    2019       0.597337\n",
       "461          Ben Simmons      Philadelphia 76ers    2018       0.597013\n",
       "706       Nikola Vucevic           Orlando Magic    2018       0.596215\n",
       "1734        Jusuf Nurkic  Portland Trail Blazers    2021       0.594624\n",
       "817          Joel Embiid      Philadelphia 76ers    2019       0.593466\n",
       "818          Ben Simmons      Philadelphia 76ers    2019       0.592987\n",
       "425    Willy Hernangomez       Charlotte Hornets    2018       0.590492\n",
       "1559      Derrick Favors   Oklahoma City Thunder    2021       0.590255\n",
       "1018      Doug McDermott          Indiana Pacers    2019       0.589822\n",
       "107          Joel Embiid      Philadelphia 76ers    2017       0.589464\n",
       "598          Enes Kanter         New York Knicks    2018       0.589312\n",
       "1074    Montrezl Harrell      Los Angeles Lakers    2020       0.584686\n",
       "114      Marco Belinelli      Philadelphia 76ers    2017       0.583716\n",
       "1357      Doug McDermott          Indiana Pacers    2020       0.582711\n",
       "1070      Derrick Favors               Utah Jazz    2020       0.581762\n",
       "481     Shaun Livingston   Golden State Warriors    2018       0.581655\n",
       "692          Enes Kanter  Portland Trail Blazers    2018       0.579328\n",
       "127     Shaun Livingston   Golden State Warriors    2017       0.578852\n",
       "1353           JJ Redick    New Orleans Pelicans    2020       0.577482\n",
       "1702   Jonas Valanciunas    New Orleans Pelicans    2021       0.577471\n",
       "1220    Hassan Whiteside        Sacramento Kings    2020       0.577468\n",
       "523          Harry Giles        Sacramento Kings    2018       0.576918\n",
       "1100         Robin Lopez      Washington Wizards    2020       0.576802\n",
       "1125        Jakob Poeltl       San Antonio Spurs    2020       0.574965\n",
       "240   Kristaps Porzingis         New York Knicks    2017       0.574301\n",
       "854         Steven Adams   Oklahoma City Thunder    2019       0.574293\n",
       "521    Marvin Bagley III        Sacramento Kings    2018       0.574082\n",
       "190       Reggie Bullock         Detroit Pistons    2017       0.573697\n",
       "1101       Davis Bertans      Washington Wizards    2020       0.572691\n",
       "1205       Jarrett Allen     Cleveland Cavaliers    2020       0.569504\n",
       "617             Ed Davis           Brooklyn Nets    2018       0.568691\n",
       "222          Robin Lopez           Chicago Bulls    2017       0.568408\n",
       "783    LaMarcus Aldridge       San Antonio Spurs    2019       0.567022\n",
       "538      Wayne Ellington         Detroit Pistons    2018       0.566895\n",
       "1004           JJ Redick    New Orleans Pelicans    2019       0.566306\n",
       "319             Ed Davis  Portland Trail Blazers    2017       0.565324\n",
       "1369         Enes Kanter  Portland Trail Blazers    2020       0.565310\n",
       "595     Tim Hardaway Jr.         New York Knicks    2018       0.564589\n",
       "530       Andre Drummond         Detroit Pistons    2018       0.564507\n",
       "243          Enes Kanter         New York Knicks    2017       0.563872\n",
       "267         Troy Daniels            Phoenix Suns    2017       0.562538\n",
       "460          Joel Embiid      Philadelphia 76ers    2018       0.562534\n",
       "562        Mason Plumlee          Denver Nuggets    2018       0.562170\n",
       "1310       Deandre Ayton            Phoenix Suns    2020       0.562062\n",
       "327      Wayne Ellington              Miami Heat    2017       0.561719\n",
       "498         Steven Adams   Oklahoma City Thunder    2018       0.560976\n",
       "158         LeBron James     Cleveland Cavaliers    2017       0.560201\n",
       "1584      Justin Holiday        Sacramento Kings    2021       0.560092\n",
       "906         Nikola Jokic          Denver Nuggets    2019       0.560049\n",
       "1373        Jusuf Nurkic  Portland Trail Blazers    2020       0.559917\n",
       "370          Kyle Korver               Utah Jazz    2018       0.557962\n",
       "484     Montrezl Harrell    Los Angeles Clippers    2018       0.557605\n",
       "1031         Bam Adebayo              Miami Heat    2019       0.557596\n",
       "193        Blake Griffin         Detroit Pistons    2017       0.556978\n",
       "983          Kyle Korver         Milwaukee Bucks    2019       0.556315\n",
       "0             Marc Gasol       Memphis Grizzlies    2017       0.555605\n",
       "640           Tony Snell         Milwaukee Bucks    2018       0.554963\n",
       "400          Greg Monroe         Toronto Raptors    2018       0.552746\n",
       "341      Bismack Biyombo           Orlando Magic    2017       0.550481\n",
       "1206      Andre Drummond     Cleveland Cavaliers    2020       0.550449\n",
       "700         Dion Waiters              Miami Heat    2018       0.550440"
      ]
     },
     "execution_count": 38,
     "metadata": {},
     "output_type": "execute_result"
    }
   ],
   "source": [
    "profile_cols = ['Player', 'Team', 'Season', 'anomaly_score']\n",
    "score_cond_1 = df['anomaly_score'] > 0.55\n",
    "df[score_cond_1][profile_cols].sort_values('anomaly_score', ascending=False)"
   ]
  },
  {
   "cell_type": "code",
   "execution_count": null,
   "metadata": {},
   "outputs": [],
   "source": []
  }
 ],
 "metadata": {
  "kernelspec": {
   "display_name": "Python 3 (ipykernel)",
   "language": "python",
   "name": "python3"
  },
  "language_info": {
   "codemirror_mode": {
    "name": "ipython",
    "version": 3
   },
   "file_extension": ".py",
   "mimetype": "text/x-python",
   "name": "python",
   "nbconvert_exporter": "python",
   "pygments_lexer": "ipython3",
   "version": "3.8.12"
  }
 },
 "nbformat": 4,
 "nbformat_minor": 2
}
