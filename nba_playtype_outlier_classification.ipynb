{
 "cells": [
  {
   "cell_type": "code",
   "execution_count": 1,
   "metadata": {
    "ExecuteTime": {
     "end_time": "2022-06-13T09:50:21.079234Z",
     "start_time": "2022-06-13T09:50:20.656328Z"
    }
   },
   "outputs": [],
   "source": [
    "import pandas as pd\n",
    "import numpy as np\n",
    "import os\n",
    "from collections import Counter"
   ]
  },
  {
   "cell_type": "code",
   "execution_count": 2,
   "metadata": {
    "ExecuteTime": {
     "end_time": "2022-06-13T09:50:21.085740Z",
     "start_time": "2022-06-13T09:50:21.082672Z"
    }
   },
   "outputs": [],
   "source": [
    "pd.set_option('display.max_columns', None)"
   ]
  },
  {
   "cell_type": "code",
   "execution_count": 3,
   "metadata": {
    "ExecuteTime": {
     "end_time": "2022-06-13T09:50:21.093803Z",
     "start_time": "2022-06-13T09:50:21.090880Z"
    }
   },
   "outputs": [],
   "source": [
    "import warnings\n",
    "warnings.filterwarnings('ignore')"
   ]
  },
  {
   "cell_type": "code",
   "execution_count": 4,
   "metadata": {
    "ExecuteTime": {
     "end_time": "2022-06-13T09:50:22.694207Z",
     "start_time": "2022-06-13T09:50:21.098244Z"
    }
   },
   "outputs": [],
   "source": [
    "import seaborn as sns\n",
    "import matplotlib\n",
    "import matplotlib.pyplot as plt\n",
    "from IPython.core.pylabtools import figsize"
   ]
  },
  {
   "cell_type": "code",
   "execution_count": 5,
   "metadata": {
    "ExecuteTime": {
     "end_time": "2022-06-13T09:50:22.705982Z",
     "start_time": "2022-06-13T09:50:22.699625Z"
    }
   },
   "outputs": [],
   "source": [
    "sns.set()"
   ]
  },
  {
   "cell_type": "markdown",
   "metadata": {},
   "source": [
    "## Data Prep"
   ]
  },
  {
   "cell_type": "markdown",
   "metadata": {},
   "source": [
    "### Read Synergy Data"
   ]
  },
  {
   "cell_type": "code",
   "execution_count": 6,
   "metadata": {
    "ExecuteTime": {
     "end_time": "2022-06-13T09:50:22.815635Z",
     "start_time": "2022-06-13T09:50:22.709358Z"
    }
   },
   "outputs": [
    {
     "data": {
      "text/plain": [
       "(3135, 74)"
      ]
     },
     "execution_count": 6,
     "metadata": {},
     "output_type": "execute_result"
    }
   ],
   "source": [
    "s_df = pd.read_csv('nba_offense.csv')\n",
    "s_df = s_df[s_df['Season'] != 2016]\n",
    "s_df['Player'] = s_df['Player'].apply(lambda x: ' '.join(x.split(' ')[1:]))\n",
    "s_df.shape"
   ]
  },
  {
   "cell_type": "markdown",
   "metadata": {},
   "source": [
    "Include labels regarding half court offense only"
   ]
  },
  {
   "cell_type": "code",
   "execution_count": 7,
   "metadata": {
    "ExecuteTime": {
     "end_time": "2022-06-13T09:50:23.768383Z",
     "start_time": "2022-06-13T09:50:23.763818Z"
    }
   },
   "outputs": [],
   "source": [
    "s_df['Overall_Poss'] = s_df['Overall_Poss'] - s_df['Miscellaneous_Poss'] - s_df['Transition_Poss']"
   ]
  },
  {
   "cell_type": "code",
   "execution_count": 8,
   "metadata": {
    "ExecuteTime": {
     "end_time": "2022-06-13T09:50:24.241730Z",
     "start_time": "2022-06-13T09:50:24.238178Z"
    }
   },
   "outputs": [],
   "source": [
    "poss_weights_cols = ['Spot Up_Poss%', 'P&R Ball Handler_Poss%', \n",
    "                     'Hand Off_Poss%', 'Off Screen_Poss%',\n",
    "                     'Cut_Poss%', 'Offensive Rebounds (put backs)_Poss%',\n",
    "                     'P&R Roll Man_Poss%', 'Isolation_Poss%', \n",
    "                     'Post-Up_Poss%']"
   ]
  },
  {
   "cell_type": "code",
   "execution_count": 9,
   "metadata": {
    "ExecuteTime": {
     "end_time": "2022-06-13T09:50:24.651236Z",
     "start_time": "2022-06-13T09:50:24.638574Z"
    }
   },
   "outputs": [],
   "source": [
    "for col in poss_weights_cols:\n",
    "    s_df[col] = s_df[col.replace('%', '')] / s_df['Overall_Poss']\n",
    "    s_df[col] = s_df[col].fillna(0)"
   ]
  },
  {
   "cell_type": "markdown",
   "metadata": {},
   "source": [
    "Filter in players with 250 shot possessions"
   ]
  },
  {
   "cell_type": "code",
   "execution_count": 10,
   "metadata": {
    "ExecuteTime": {
     "end_time": "2022-06-13T09:50:26.351969Z",
     "start_time": "2022-06-13T09:50:26.342431Z"
    }
   },
   "outputs": [
    {
     "data": {
      "text/plain": [
       "(1421, 74)"
      ]
     },
     "execution_count": 10,
     "metadata": {},
     "output_type": "execute_result"
    }
   ],
   "source": [
    "s_df = s_df[s_df['Overall_Poss'] >= 250]\n",
    "s_df.shape"
   ]
  },
  {
   "cell_type": "markdown",
   "metadata": {},
   "source": [
    "### Read BBR Data"
   ]
  },
  {
   "cell_type": "code",
   "execution_count": 11,
   "metadata": {
    "ExecuteTime": {
     "end_time": "2022-06-13T09:50:28.595288Z",
     "start_time": "2022-06-13T09:50:28.569911Z"
    }
   },
   "outputs": [
    {
     "data": {
      "text/plain": [
       "(3159, 28)"
      ]
     },
     "execution_count": 11,
     "metadata": {},
     "output_type": "execute_result"
    }
   ],
   "source": [
    "bbr_adv_df = pd.read_csv('bbr_nba_advanced_stats.csv')\n",
    "bbr_adv_df = bbr_adv_df[bbr_adv_df['season'] != 2016]\n",
    "bbr_adv_df.shape"
   ]
  },
  {
   "cell_type": "code",
   "execution_count": 12,
   "metadata": {
    "ExecuteTime": {
     "end_time": "2022-06-13T09:50:28.787444Z",
     "start_time": "2022-06-13T09:50:28.760365Z"
    }
   },
   "outputs": [
    {
     "data": {
      "text/plain": [
       "(2954, 12)"
      ]
     },
     "execution_count": 12,
     "metadata": {},
     "output_type": "execute_result"
    }
   ],
   "source": [
    "bbr_ros_df = pd.read_csv('bbr_nba_roster_stats.csv')\n",
    "bbr_ros_df = bbr_ros_df[bbr_ros_df['season'] != 2016]\n",
    "bbr_ros_df.shape"
   ]
  },
  {
   "cell_type": "code",
   "execution_count": 13,
   "metadata": {
    "ExecuteTime": {
     "end_time": "2022-06-13T09:50:29.055477Z",
     "start_time": "2022-06-13T09:50:29.040621Z"
    }
   },
   "outputs": [],
   "source": [
    "for col in ['player', 'player_alt']:\n",
    "    bbr_ros_df[col] = bbr_ros_df[col].apply(lambda x: x.replace('(TW)', '').strip())"
   ]
  },
  {
   "cell_type": "markdown",
   "metadata": {},
   "source": [
    "17-20"
   ]
  },
  {
   "cell_type": "code",
   "execution_count": 14,
   "metadata": {
    "ExecuteTime": {
     "end_time": "2022-06-13T09:50:29.500492Z",
     "start_time": "2022-06-13T09:50:29.480607Z"
    }
   },
   "outputs": [
    {
     "data": {
      "text/plain": [
       "((2444, 28), (2446, 12), (2444, 36))"
      ]
     },
     "execution_count": 14,
     "metadata": {},
     "output_type": "execute_result"
    }
   ],
   "source": [
    "bbr_adv_df_17_20 = bbr_adv_df[bbr_adv_df['season'] != 2021].copy()\n",
    "bbr_ros_df_17_20 = bbr_ros_df[bbr_ros_df['season'] != 2021].copy()\n",
    "bbr_df_17_20 = bbr_adv_df_17_20.merge(bbr_ros_df_17_20, how='left',\n",
    "                                      on=['player', 'season', 'team', 'player_alt'])\n",
    "bbr_adv_df_17_20.shape, bbr_ros_df_17_20.shape, bbr_df_17_20.shape"
   ]
  },
  {
   "cell_type": "markdown",
   "metadata": {},
   "source": [
    "21-22"
   ]
  },
  {
   "cell_type": "code",
   "execution_count": 15,
   "metadata": {
    "ExecuteTime": {
     "end_time": "2022-06-13T09:50:30.108811Z",
     "start_time": "2022-06-13T09:50:30.095339Z"
    }
   },
   "outputs": [
    {
     "data": {
      "text/plain": [
       "((715, 28), (508, 12), (715, 36))"
      ]
     },
     "execution_count": 15,
     "metadata": {},
     "output_type": "execute_result"
    }
   ],
   "source": [
    "bbr_adv_df_21 = bbr_adv_df[bbr_adv_df['season'] == 2021].copy()\n",
    "bbr_ros_df_21 = bbr_ros_df[bbr_ros_df['season'] == 2021].copy()\n",
    "bbr_df_21 = bbr_adv_df_21.merge(bbr_ros_df_21, how='left',\n",
    "                                on=['player', 'season', 'player_alt'])\\\n",
    "                         .rename(columns={'team_x': 'team'})\\\n",
    "                         .drop('team_y', axis=1)\n",
    "bbr_adv_df_21.shape, bbr_ros_df_21.shape, bbr_df_21.shape"
   ]
  },
  {
   "cell_type": "code",
   "execution_count": 16,
   "metadata": {
    "ExecuteTime": {
     "end_time": "2022-06-13T09:50:31.448211Z",
     "start_time": "2022-06-13T09:50:31.439642Z"
    }
   },
   "outputs": [],
   "source": [
    "bbr_df = pd.concat([bbr_df_17_20, bbr_df_21])\\\n",
    "           .reset_index().drop('index', axis=1)"
   ]
  },
  {
   "cell_type": "markdown",
   "metadata": {},
   "source": [
    "Filter in players that played over 200 minutes"
   ]
  },
  {
   "cell_type": "code",
   "execution_count": 17,
   "metadata": {
    "ExecuteTime": {
     "end_time": "2022-06-13T09:50:33.379592Z",
     "start_time": "2022-06-13T09:50:33.373343Z"
    }
   },
   "outputs": [
    {
     "data": {
      "text/plain": [
       "(2323, 36)"
      ]
     },
     "execution_count": 17,
     "metadata": {},
     "output_type": "execute_result"
    }
   ],
   "source": [
    "bbr_df = bbr_df[bbr_df['mp'] >= 200]\n",
    "bbr_df.shape"
   ]
  },
  {
   "cell_type": "markdown",
   "metadata": {},
   "source": [
    "Convert heights"
   ]
  },
  {
   "cell_type": "code",
   "execution_count": 18,
   "metadata": {
    "ExecuteTime": {
     "end_time": "2022-06-13T09:50:33.817635Z",
     "start_time": "2022-06-13T09:50:33.813569Z"
    }
   },
   "outputs": [],
   "source": [
    "def convert_height(height):\n",
    "    feet, inches = height.split('-')\n",
    "    cm = int(feet) * 12 + int(inches)\n",
    "    return round(cm * 2.54, 1)"
   ]
  },
  {
   "cell_type": "code",
   "execution_count": 19,
   "metadata": {
    "ExecuteTime": {
     "end_time": "2022-06-13T09:50:34.045346Z",
     "start_time": "2022-06-13T09:50:34.039612Z"
    }
   },
   "outputs": [
    {
     "data": {
      "text/plain": [
       "Int64Index([2480, 2500, 2507, 2553, 2576, 2627, 2715, 2718, 2719, 2720, 2762,\n",
       "            2810, 2835, 2928, 2929, 2952, 3017, 3020, 3024, 3026, 3070],\n",
       "           dtype='int64')"
      ]
     },
     "execution_count": 19,
     "metadata": {},
     "output_type": "execute_result"
    }
   ],
   "source": [
    "bbr_df[bbr_df['height'].isna()].index"
   ]
  },
  {
   "cell_type": "code",
   "execution_count": 20,
   "metadata": {
    "ExecuteTime": {
     "end_time": "2022-06-13T09:50:34.385704Z",
     "start_time": "2022-06-13T09:50:34.363595Z"
    }
   },
   "outputs": [],
   "source": [
    "bbr_df.loc[2480, 'height'] = '6-10'\n",
    "bbr_df.loc[2480, 'weight'] = 250\n",
    "bbr_df.loc[2500, 'height'] = '6-7'\n",
    "bbr_df.loc[2500, 'weight'] = 240\n",
    "bbr_df.loc[2507, 'height'] = '6-5'\n",
    "bbr_df.loc[2507, 'weight'] = 210\n",
    "bbr_df.loc[2553, 'height'] = '6-7'\n",
    "bbr_df.loc[2553, 'weight'] = 215\n",
    "bbr_df.loc[2576, 'height'] = '6-4'\n",
    "bbr_df.loc[2576, 'weight'] = 220\n",
    "bbr_df.loc[2627, 'height'] = '6-6'\n",
    "bbr_df.loc[2627, 'weight'] = 205\n",
    "bbr_df.loc[2715, 'height'] = '6-0'\n",
    "bbr_df.loc[2715, 'weight'] = 180\n",
    "bbr_df.loc[2718, 'height'] = '6-5'\n",
    "bbr_df.loc[2718, 'weight'] = 230\n",
    "bbr_df.loc[2719, 'height'] = '6-3'\n",
    "bbr_df.loc[2719, 'weight'] = 210\n",
    "bbr_df.loc[2720, 'height'] = '6-6'\n",
    "bbr_df.loc[2720, 'weight'] = 230\n",
    "bbr_df.loc[2762, 'height'] = '6-8'\n",
    "bbr_df.loc[2762, 'weight'] = 215\n",
    "bbr_df.loc[2810, 'height'] = '6-8'\n",
    "bbr_df.loc[2810, 'weight'] = 215\n",
    "bbr_df.loc[2835, 'height'] = '6-6'\n",
    "bbr_df.loc[2835, 'weight'] = 240\n",
    "bbr_df.loc[2928, 'height'] = '7-0'\n",
    "bbr_df.loc[2928, 'weight'] = 237\n",
    "bbr_df.loc[2929, 'height'] = '6-8'\n",
    "bbr_df.loc[2929, 'weight'] = 216\n",
    "bbr_df.loc[2952, 'height'] = '6-0'\n",
    "bbr_df.loc[2952, 'weight'] = 170\n",
    "bbr_df.loc[3017, 'height'] = '6-9'\n",
    "bbr_df.loc[3017, 'weight'] = 245\n",
    "bbr_df.loc[3020, 'height'] = '6-2'\n",
    "bbr_df.loc[3020, 'weight'] = 205\n",
    "bbr_df.loc[3024, 'height'] = '6-11'\n",
    "bbr_df.loc[3024, 'weight'] = 240\n",
    "bbr_df.loc[3026, 'height'] = '6-3'\n",
    "bbr_df.loc[3026, 'weight'] = 205\n",
    "bbr_df.loc[3070, 'height'] = '6-9'\n",
    "bbr_df.loc[3070, 'weight'] = 245"
   ]
  },
  {
   "cell_type": "code",
   "execution_count": 21,
   "metadata": {
    "ExecuteTime": {
     "end_time": "2022-06-13T09:50:35.707437Z",
     "start_time": "2022-06-13T09:50:35.700474Z"
    }
   },
   "outputs": [],
   "source": [
    "bbr_df['height_cm'] = bbr_df['height'].apply(convert_height)"
   ]
  },
  {
   "cell_type": "markdown",
   "metadata": {},
   "source": [
    "Convert weights"
   ]
  },
  {
   "cell_type": "code",
   "execution_count": 22,
   "metadata": {
    "ExecuteTime": {
     "end_time": "2022-06-13T09:50:36.864849Z",
     "start_time": "2022-06-13T09:50:36.859150Z"
    }
   },
   "outputs": [],
   "source": [
    "bbr_df['weight_kg'] = bbr_df['weight'].apply(lambda x: round(0.453592 * x, 1))"
   ]
  },
  {
   "cell_type": "markdown",
   "metadata": {},
   "source": [
    "### Merge Synergy Data & BBR Data"
   ]
  },
  {
   "cell_type": "code",
   "execution_count": 23,
   "metadata": {
    "ExecuteTime": {
     "end_time": "2022-06-13T09:50:38.941618Z",
     "start_time": "2022-06-13T09:50:38.934845Z"
    }
   },
   "outputs": [],
   "source": [
    "s_df['Player_Alt'] = s_df['Player'].apply(lambda x: x.replace(' ', '').lower())\\\n",
    "                                   .apply(lambda x: x.replace(\"'\", ''))\\\n",
    "                                   .apply(lambda x: x.replace('.', ''))"
   ]
  },
  {
   "cell_type": "code",
   "execution_count": 24,
   "metadata": {
    "ExecuteTime": {
     "end_time": "2022-06-13T09:50:39.132298Z",
     "start_time": "2022-06-13T09:50:39.122917Z"
    }
   },
   "outputs": [],
   "source": [
    "bbr_df['player_alt_alt'] = bbr_df['player_alt'].apply(lambda x: x.replace(' ', ''))\\\n",
    "                                               .apply(lambda x: x.replace(\"'\", ''))\\\n",
    "                                               .apply(lambda x: x.replace('.', ''))\\\n",
    "                                               .apply(lambda x: x.lower())"
   ]
  },
  {
   "cell_type": "code",
   "execution_count": 25,
   "metadata": {
    "ExecuteTime": {
     "end_time": "2022-06-13T09:50:39.314567Z",
     "start_time": "2022-06-13T09:50:39.305893Z"
    }
   },
   "outputs": [],
   "source": [
    "synergy_name_dict = {'kevinknoxii': 'kevinknox',\n",
    "                     'danilogalinari': 'danilogallinari',\n",
    "                     'louiswilliams': 'louwilliams',\n",
    "                     'eneskanter': 'enesfreedom',\n",
    "                     'terryrozieriii': 'terryrozier',\n",
    "                     'cameronreddish': 'camreddish',\n",
    "                     'jahilokafor': 'jahlilokafor',\n",
    "                     'danuelhouse': 'danuelhousejr',\n",
    "                     'alfarouqaminu': 'al-farouqaminu',\n",
    "                     'nenehilario': 'nene',\n",
    "                     'frankmason': 'frankmasoniii',\n",
    "                     'larrynance': 'larrynancejr',\n",
    "                     'wesleyiwundu': 'wesiwundu',\n",
    "                     'robertwilliamsiii': 'robertwilliams',\n",
    "                     'harrygilesiii': 'harrygiles',\n",
    "                     'jamesennis': 'jamesennisiii',\n",
    "                     'mohamedbamba': 'mobamba',\n",
    "                     'xaviertillman': 'xaviertillmansr',\n",
    "                     'patrickbeverly': 'patrickbeverley',\n",
    "                     'malcomdelaney': 'malcolmdelaney',\n",
    "                     'marcusmorrissr': 'marcusmorris',\n",
    "                     'nicolasclaxton': 'nicclaxton',\n",
    "                     'juanhernangomez': 'juanchohernangomez',\n",
    "                     'guillermohernangomez': 'willyhernangomez',\n",
    "                     'timothéluwawu-cabarrot': 'timotheluwawu-cabarrot'}\n",
    "s_df['Player_Alt'] = s_df['Player_Alt'].apply(lambda x: synergy_name_dict[x] \n",
    "                                              if x in synergy_name_dict.keys()\n",
    "                                              else x)"
   ]
  },
  {
   "cell_type": "code",
   "execution_count": 26,
   "metadata": {
    "ExecuteTime": {
     "end_time": "2022-06-13T09:50:39.741913Z",
     "start_time": "2022-06-13T09:50:39.723168Z"
    }
   },
   "outputs": [
    {
     "data": {
      "text/plain": [
       "(1420, 114)"
      ]
     },
     "execution_count": 26,
     "metadata": {},
     "output_type": "execute_result"
    }
   ],
   "source": [
    "df = s_df.merge(bbr_df, how='left', \n",
    "                left_on=['Player_Alt', 'Team', 'Season'],\n",
    "                right_on=['player_alt_alt', 'team', 'season'])\n",
    "df = df[~df['player_alt_alt'].isna()].reset_index().drop('index', axis=1)\n",
    "df.shape"
   ]
  },
  {
   "cell_type": "code",
   "execution_count": 27,
   "metadata": {
    "ExecuteTime": {
     "end_time": "2022-06-13T09:50:40.163460Z",
     "start_time": "2022-06-13T09:50:40.150899Z"
    }
   },
   "outputs": [
    {
     "data": {
      "text/plain": [
       "(1420, 3)"
      ]
     },
     "execution_count": 27,
     "metadata": {},
     "output_type": "execute_result"
    }
   ],
   "source": [
    "# check \n",
    "df[['Player_Alt', 'Team', 'Season']].drop_duplicates().shape"
   ]
  },
  {
   "cell_type": "markdown",
   "metadata": {},
   "source": [
    "## Outlier Detection"
   ]
  },
  {
   "cell_type": "code",
   "execution_count": 28,
   "metadata": {
    "ExecuteTime": {
     "end_time": "2022-06-13T09:50:43.134859Z",
     "start_time": "2022-06-13T09:50:42.982239Z"
    }
   },
   "outputs": [],
   "source": [
    "from iforest import *"
   ]
  },
  {
   "cell_type": "code",
   "execution_count": 30,
   "metadata": {
    "ExecuteTime": {
     "end_time": "2022-06-13T09:51:28.247526Z",
     "start_time": "2022-06-13T09:51:28.243339Z"
    }
   },
   "outputs": [],
   "source": [
    "X = df[poss_weights_cols].values"
   ]
  },
  {
   "cell_type": "code",
   "execution_count": 36,
   "metadata": {
    "ExecuteTime": {
     "end_time": "2022-06-13T09:57:47.969543Z",
     "start_time": "2022-06-13T09:57:47.920743Z"
    }
   },
   "outputs": [
    {
     "data": {
      "text/plain": [
       "<iforest.IsolationTreeEnsemble at 0x7fa7a5de3fa0>"
      ]
     },
     "execution_count": 36,
     "metadata": {},
     "output_type": "execute_result"
    }
   ],
   "source": [
    "model = IsolationTreeEnsemble(sample_size=256)\n",
    "model.fit(X)"
   ]
  },
  {
   "cell_type": "code",
   "execution_count": 37,
   "metadata": {
    "ExecuteTime": {
     "end_time": "2022-06-13T09:57:49.094937Z",
     "start_time": "2022-06-13T09:57:48.982218Z"
    }
   },
   "outputs": [
    {
     "data": {
      "text/plain": [
       "count    1420.000000\n",
       "mean        0.433647\n",
       "std         0.054215\n",
       "min         0.351362\n",
       "25%         0.392289\n",
       "50%         0.417471\n",
       "75%         0.462099\n",
       "max         0.643274\n",
       "Name: anomaly_score, dtype: float64"
      ]
     },
     "execution_count": 37,
     "metadata": {},
     "output_type": "execute_result"
    }
   ],
   "source": [
    "df['anomaly_score'] = model.anomaly_score(X)\n",
    "df['anomaly_score'].describe()"
   ]
  },
  {
   "cell_type": "code",
   "execution_count": 44,
   "metadata": {
    "ExecuteTime": {
     "end_time": "2022-06-13T09:59:10.378165Z",
     "start_time": "2022-06-13T09:59:10.372441Z"
    }
   },
   "outputs": [
    {
     "data": {
      "text/plain": [
       "0.04154929577464789"
      ]
     },
     "execution_count": 44,
     "metadata": {},
     "output_type": "execute_result"
    }
   ],
   "source": [
    "df[df['anomaly_score'] > 0.55].shape[0] / df.shape[0]"
   ]
  },
  {
   "cell_type": "code",
   "execution_count": 46,
   "metadata": {
    "ExecuteTime": {
     "end_time": "2022-06-13T10:03:33.225936Z",
     "start_time": "2022-06-13T10:03:33.202745Z"
    }
   },
   "outputs": [
    {
     "data": {
      "text/html": [
       "<div>\n",
       "<style scoped>\n",
       "    .dataframe tbody tr th:only-of-type {\n",
       "        vertical-align: middle;\n",
       "    }\n",
       "\n",
       "    .dataframe tbody tr th {\n",
       "        vertical-align: top;\n",
       "    }\n",
       "\n",
       "    .dataframe thead th {\n",
       "        text-align: right;\n",
       "    }\n",
       "</style>\n",
       "<table border=\"1\" class=\"dataframe\">\n",
       "  <thead>\n",
       "    <tr style=\"text-align: right;\">\n",
       "      <th></th>\n",
       "      <th>Player</th>\n",
       "      <th>Team</th>\n",
       "      <th>Season</th>\n",
       "      <th>anomaly_score</th>\n",
       "    </tr>\n",
       "  </thead>\n",
       "  <tbody>\n",
       "    <tr>\n",
       "      <th>270</th>\n",
       "      <td>Wayne Ellington</td>\n",
       "      <td>Miami Heat</td>\n",
       "      <td>2017</td>\n",
       "      <td>0.643274</td>\n",
       "    </tr>\n",
       "    <tr>\n",
       "      <th>387</th>\n",
       "      <td>Kevon Looney</td>\n",
       "      <td>Golden State Warriors</td>\n",
       "      <td>2018</td>\n",
       "      <td>0.631423</td>\n",
       "    </tr>\n",
       "    <tr>\n",
       "      <th>1361</th>\n",
       "      <td>Jarred Vanderbilt</td>\n",
       "      <td>Minnesota Timberwolves</td>\n",
       "      <td>2021</td>\n",
       "      <td>0.622546</td>\n",
       "    </tr>\n",
       "    <tr>\n",
       "      <th>128</th>\n",
       "      <td>Kyle Korver</td>\n",
       "      <td>Cleveland Cavaliers</td>\n",
       "      <td>2017</td>\n",
       "      <td>0.615032</td>\n",
       "    </tr>\n",
       "    <tr>\n",
       "      <th>497</th>\n",
       "      <td>Allen Crabbe</td>\n",
       "      <td>Brooklyn Nets</td>\n",
       "      <td>2018</td>\n",
       "      <td>0.614565</td>\n",
       "    </tr>\n",
       "    <tr>\n",
       "      <th>143</th>\n",
       "      <td>Andre Drummond</td>\n",
       "      <td>Detroit Pistons</td>\n",
       "      <td>2017</td>\n",
       "      <td>0.603059</td>\n",
       "    </tr>\n",
       "    <tr>\n",
       "      <th>607</th>\n",
       "      <td>JaVale McGee</td>\n",
       "      <td>Los Angeles Lakers</td>\n",
       "      <td>2019</td>\n",
       "      <td>0.598155</td>\n",
       "    </tr>\n",
       "    <tr>\n",
       "      <th>752</th>\n",
       "      <td>Russell Westbrook</td>\n",
       "      <td>Houston Rockets</td>\n",
       "      <td>2019</td>\n",
       "      <td>0.594030</td>\n",
       "    </tr>\n",
       "    <tr>\n",
       "      <th>808</th>\n",
       "      <td>JJ Redick</td>\n",
       "      <td>New Orleans Pelicans</td>\n",
       "      <td>2019</td>\n",
       "      <td>0.592445</td>\n",
       "    </tr>\n",
       "    <tr>\n",
       "      <th>1086</th>\n",
       "      <td>Willy Hernangomez</td>\n",
       "      <td>New Orleans Pelicans</td>\n",
       "      <td>2020</td>\n",
       "      <td>0.592186</td>\n",
       "    </tr>\n",
       "    <tr>\n",
       "      <th>182</th>\n",
       "      <td>James Harden</td>\n",
       "      <td>Houston Rockets</td>\n",
       "      <td>2017</td>\n",
       "      <td>0.589925</td>\n",
       "    </tr>\n",
       "    <tr>\n",
       "      <th>403</th>\n",
       "      <td>Nerlens Noel</td>\n",
       "      <td>Oklahoma City Thunder</td>\n",
       "      <td>2018</td>\n",
       "      <td>0.589745</td>\n",
       "    </tr>\n",
       "    <tr>\n",
       "      <th>470</th>\n",
       "      <td>Chris Paul</td>\n",
       "      <td>Houston Rockets</td>\n",
       "      <td>2018</td>\n",
       "      <td>0.587359</td>\n",
       "    </tr>\n",
       "    <tr>\n",
       "      <th>533</th>\n",
       "      <td>Darius Miller</td>\n",
       "      <td>New Orleans Pelicans</td>\n",
       "      <td>2018</td>\n",
       "      <td>0.587157</td>\n",
       "    </tr>\n",
       "    <tr>\n",
       "      <th>1227</th>\n",
       "      <td>Kevon Looney</td>\n",
       "      <td>Golden State Warriors</td>\n",
       "      <td>2021</td>\n",
       "      <td>0.586343</td>\n",
       "    </tr>\n",
       "    <tr>\n",
       "      <th>1208</th>\n",
       "      <td>Robert Williams III</td>\n",
       "      <td>Boston Celtics</td>\n",
       "      <td>2021</td>\n",
       "      <td>0.586199</td>\n",
       "    </tr>\n",
       "    <tr>\n",
       "      <th>98</th>\n",
       "      <td>Klay Thompson</td>\n",
       "      <td>Golden State Warriors</td>\n",
       "      <td>2017</td>\n",
       "      <td>0.585980</td>\n",
       "    </tr>\n",
       "    <tr>\n",
       "      <th>773</th>\n",
       "      <td>Jarrett Allen</td>\n",
       "      <td>Brooklyn Nets</td>\n",
       "      <td>2019</td>\n",
       "      <td>0.580998</td>\n",
       "    </tr>\n",
       "    <tr>\n",
       "      <th>123</th>\n",
       "      <td>LeBron James</td>\n",
       "      <td>Cleveland Cavaliers</td>\n",
       "      <td>2017</td>\n",
       "      <td>0.580743</td>\n",
       "    </tr>\n",
       "    <tr>\n",
       "      <th>1324</th>\n",
       "      <td>Mitchell Robinson</td>\n",
       "      <td>New York Knicks</td>\n",
       "      <td>2021</td>\n",
       "      <td>0.579176</td>\n",
       "    </tr>\n",
       "    <tr>\n",
       "      <th>765</th>\n",
       "      <td>Mitchell Robinson</td>\n",
       "      <td>New York Knicks</td>\n",
       "      <td>2019</td>\n",
       "      <td>0.579176</td>\n",
       "    </tr>\n",
       "    <tr>\n",
       "      <th>484</th>\n",
       "      <td>Mitchell Robinson</td>\n",
       "      <td>New York Knicks</td>\n",
       "      <td>2018</td>\n",
       "      <td>0.579176</td>\n",
       "    </tr>\n",
       "    <tr>\n",
       "      <th>184</th>\n",
       "      <td>Chris Paul</td>\n",
       "      <td>Houston Rockets</td>\n",
       "      <td>2017</td>\n",
       "      <td>0.578652</td>\n",
       "    </tr>\n",
       "    <tr>\n",
       "      <th>661</th>\n",
       "      <td>Enes Kanter</td>\n",
       "      <td>Boston Celtics</td>\n",
       "      <td>2019</td>\n",
       "      <td>0.578302</td>\n",
       "    </tr>\n",
       "    <tr>\n",
       "      <th>893</th>\n",
       "      <td>Deni Avdija</td>\n",
       "      <td>Washington Wizards</td>\n",
       "      <td>2020</td>\n",
       "      <td>0.578232</td>\n",
       "    </tr>\n",
       "    <tr>\n",
       "      <th>383</th>\n",
       "      <td>Klay Thompson</td>\n",
       "      <td>Golden State Warriors</td>\n",
       "      <td>2018</td>\n",
       "      <td>0.578104</td>\n",
       "    </tr>\n",
       "    <tr>\n",
       "      <th>468</th>\n",
       "      <td>James Harden</td>\n",
       "      <td>Houston Rockets</td>\n",
       "      <td>2018</td>\n",
       "      <td>0.576672</td>\n",
       "    </tr>\n",
       "    <tr>\n",
       "      <th>480</th>\n",
       "      <td>Enes Kanter</td>\n",
       "      <td>New York Knicks</td>\n",
       "      <td>2018</td>\n",
       "      <td>0.575761</td>\n",
       "    </tr>\n",
       "    <tr>\n",
       "      <th>1328</th>\n",
       "      <td>James Harden</td>\n",
       "      <td>Brooklyn Nets</td>\n",
       "      <td>2021</td>\n",
       "      <td>0.574862</td>\n",
       "    </tr>\n",
       "    <tr>\n",
       "      <th>604</th>\n",
       "      <td>Dwight Howard</td>\n",
       "      <td>Los Angeles Lakers</td>\n",
       "      <td>2019</td>\n",
       "      <td>0.574290</td>\n",
       "    </tr>\n",
       "    <tr>\n",
       "      <th>1130</th>\n",
       "      <td>Steven Adams</td>\n",
       "      <td>Memphis Grizzlies</td>\n",
       "      <td>2021</td>\n",
       "      <td>0.573517</td>\n",
       "    </tr>\n",
       "    <tr>\n",
       "      <th>1113</th>\n",
       "      <td>Andre Iguodala</td>\n",
       "      <td>Miami Heat</td>\n",
       "      <td>2020</td>\n",
       "      <td>0.571901</td>\n",
       "    </tr>\n",
       "    <tr>\n",
       "      <th>969</th>\n",
       "      <td>Moses Brown</td>\n",
       "      <td>Oklahoma City Thunder</td>\n",
       "      <td>2020</td>\n",
       "      <td>0.571789</td>\n",
       "    </tr>\n",
       "    <tr>\n",
       "      <th>498</th>\n",
       "      <td>Ed Davis</td>\n",
       "      <td>Brooklyn Nets</td>\n",
       "      <td>2018</td>\n",
       "      <td>0.571120</td>\n",
       "    </tr>\n",
       "    <tr>\n",
       "      <th>1098</th>\n",
       "      <td>Carmelo Anthony</td>\n",
       "      <td>Portland Trail Blazers</td>\n",
       "      <td>2020</td>\n",
       "      <td>0.570573</td>\n",
       "    </tr>\n",
       "    <tr>\n",
       "      <th>490</th>\n",
       "      <td>Joe Harris</td>\n",
       "      <td>Brooklyn Nets</td>\n",
       "      <td>2018</td>\n",
       "      <td>0.568205</td>\n",
       "    </tr>\n",
       "    <tr>\n",
       "      <th>1040</th>\n",
       "      <td>Nerlens Noel</td>\n",
       "      <td>New York Knicks</td>\n",
       "      <td>2020</td>\n",
       "      <td>0.567269</td>\n",
       "    </tr>\n",
       "    <tr>\n",
       "      <th>42</th>\n",
       "      <td>John Wall</td>\n",
       "      <td>Washington Wizards</td>\n",
       "      <td>2017</td>\n",
       "      <td>0.566702</td>\n",
       "    </tr>\n",
       "    <tr>\n",
       "      <th>326</th>\n",
       "      <td>John Wall</td>\n",
       "      <td>Washington Wizards</td>\n",
       "      <td>2018</td>\n",
       "      <td>0.566702</td>\n",
       "    </tr>\n",
       "    <tr>\n",
       "      <th>1004</th>\n",
       "      <td>Maxi Kleber</td>\n",
       "      <td>Dallas Mavericks</td>\n",
       "      <td>2020</td>\n",
       "      <td>0.565374</td>\n",
       "    </tr>\n",
       "    <tr>\n",
       "      <th>195</th>\n",
       "      <td>Enes Kanter</td>\n",
       "      <td>New York Knicks</td>\n",
       "      <td>2017</td>\n",
       "      <td>0.565025</td>\n",
       "    </tr>\n",
       "    <tr>\n",
       "      <th>218</th>\n",
       "      <td>Troy Daniels</td>\n",
       "      <td>Phoenix Suns</td>\n",
       "      <td>2017</td>\n",
       "      <td>0.563493</td>\n",
       "    </tr>\n",
       "    <tr>\n",
       "      <th>887</th>\n",
       "      <td>Russell Westbrook</td>\n",
       "      <td>Washington Wizards</td>\n",
       "      <td>2020</td>\n",
       "      <td>0.563300</td>\n",
       "    </tr>\n",
       "    <tr>\n",
       "      <th>757</th>\n",
       "      <td>PJ Tucker</td>\n",
       "      <td>Houston Rockets</td>\n",
       "      <td>2019</td>\n",
       "      <td>0.562264</td>\n",
       "    </tr>\n",
       "    <tr>\n",
       "      <th>559</th>\n",
       "      <td>Enes Kanter</td>\n",
       "      <td>Portland Trail Blazers</td>\n",
       "      <td>2018</td>\n",
       "      <td>0.561215</td>\n",
       "    </tr>\n",
       "    <tr>\n",
       "      <th>104</th>\n",
       "      <td>Shaun Livingston</td>\n",
       "      <td>Golden State Warriors</td>\n",
       "      <td>2017</td>\n",
       "      <td>0.560738</td>\n",
       "    </tr>\n",
       "    <tr>\n",
       "      <th>1285</th>\n",
       "      <td>Dorian Finney-Smith</td>\n",
       "      <td>Dallas Mavericks</td>\n",
       "      <td>2021</td>\n",
       "      <td>0.558473</td>\n",
       "    </tr>\n",
       "    <tr>\n",
       "      <th>968</th>\n",
       "      <td>Al Horford</td>\n",
       "      <td>Oklahoma City Thunder</td>\n",
       "      <td>2020</td>\n",
       "      <td>0.558140</td>\n",
       "    </tr>\n",
       "    <tr>\n",
       "      <th>302</th>\n",
       "      <td>Kyle Korver</td>\n",
       "      <td>Utah Jazz</td>\n",
       "      <td>2018</td>\n",
       "      <td>0.557823</td>\n",
       "    </tr>\n",
       "    <tr>\n",
       "      <th>751</th>\n",
       "      <td>James Harden</td>\n",
       "      <td>Houston Rockets</td>\n",
       "      <td>2019</td>\n",
       "      <td>0.557231</td>\n",
       "    </tr>\n",
       "    <tr>\n",
       "      <th>1244</th>\n",
       "      <td>Shai Gilgeous-Alexander</td>\n",
       "      <td>Oklahoma City Thunder</td>\n",
       "      <td>2021</td>\n",
       "      <td>0.555331</td>\n",
       "    </tr>\n",
       "    <tr>\n",
       "      <th>1049</th>\n",
       "      <td>DeAndre Jordan</td>\n",
       "      <td>Brooklyn Nets</td>\n",
       "      <td>2020</td>\n",
       "      <td>0.554961</td>\n",
       "    </tr>\n",
       "    <tr>\n",
       "      <th>837</th>\n",
       "      <td>Duncan Robinson</td>\n",
       "      <td>Miami Heat</td>\n",
       "      <td>2019</td>\n",
       "      <td>0.553844</td>\n",
       "    </tr>\n",
       "    <tr>\n",
       "      <th>1042</th>\n",
       "      <td>James Harden</td>\n",
       "      <td>Brooklyn Nets</td>\n",
       "      <td>2020</td>\n",
       "      <td>0.553410</td>\n",
       "    </tr>\n",
       "    <tr>\n",
       "      <th>190</th>\n",
       "      <td>Luc Mbah a Moute</td>\n",
       "      <td>Houston Rockets</td>\n",
       "      <td>2017</td>\n",
       "      <td>0.553237</td>\n",
       "    </tr>\n",
       "    <tr>\n",
       "      <th>245</th>\n",
       "      <td>Darius Miller</td>\n",
       "      <td>New Orleans Pelicans</td>\n",
       "      <td>2017</td>\n",
       "      <td>0.552690</td>\n",
       "    </tr>\n",
       "    <tr>\n",
       "      <th>262</th>\n",
       "      <td>Ed Davis</td>\n",
       "      <td>Portland Trail Blazers</td>\n",
       "      <td>2017</td>\n",
       "      <td>0.551443</td>\n",
       "    </tr>\n",
       "    <tr>\n",
       "      <th>409</th>\n",
       "      <td>Tristan Thompson</td>\n",
       "      <td>Cleveland Cavaliers</td>\n",
       "      <td>2018</td>\n",
       "      <td>0.550546</td>\n",
       "    </tr>\n",
       "    <tr>\n",
       "      <th>680</th>\n",
       "      <td>Willie Cauley-Stein</td>\n",
       "      <td>Golden State Warriors</td>\n",
       "      <td>2019</td>\n",
       "      <td>0.550236</td>\n",
       "    </tr>\n",
       "  </tbody>\n",
       "</table>\n",
       "</div>"
      ],
      "text/plain": [
       "                       Player                    Team  Season  anomaly_score\n",
       "270           Wayne Ellington              Miami Heat    2017       0.643274\n",
       "387              Kevon Looney   Golden State Warriors    2018       0.631423\n",
       "1361        Jarred Vanderbilt  Minnesota Timberwolves    2021       0.622546\n",
       "128               Kyle Korver     Cleveland Cavaliers    2017       0.615032\n",
       "497              Allen Crabbe           Brooklyn Nets    2018       0.614565\n",
       "143            Andre Drummond         Detroit Pistons    2017       0.603059\n",
       "607              JaVale McGee      Los Angeles Lakers    2019       0.598155\n",
       "752         Russell Westbrook         Houston Rockets    2019       0.594030\n",
       "808                 JJ Redick    New Orleans Pelicans    2019       0.592445\n",
       "1086        Willy Hernangomez    New Orleans Pelicans    2020       0.592186\n",
       "182              James Harden         Houston Rockets    2017       0.589925\n",
       "403              Nerlens Noel   Oklahoma City Thunder    2018       0.589745\n",
       "470                Chris Paul         Houston Rockets    2018       0.587359\n",
       "533             Darius Miller    New Orleans Pelicans    2018       0.587157\n",
       "1227             Kevon Looney   Golden State Warriors    2021       0.586343\n",
       "1208      Robert Williams III          Boston Celtics    2021       0.586199\n",
       "98              Klay Thompson   Golden State Warriors    2017       0.585980\n",
       "773             Jarrett Allen           Brooklyn Nets    2019       0.580998\n",
       "123              LeBron James     Cleveland Cavaliers    2017       0.580743\n",
       "1324        Mitchell Robinson         New York Knicks    2021       0.579176\n",
       "765         Mitchell Robinson         New York Knicks    2019       0.579176\n",
       "484         Mitchell Robinson         New York Knicks    2018       0.579176\n",
       "184                Chris Paul         Houston Rockets    2017       0.578652\n",
       "661               Enes Kanter          Boston Celtics    2019       0.578302\n",
       "893               Deni Avdija      Washington Wizards    2020       0.578232\n",
       "383             Klay Thompson   Golden State Warriors    2018       0.578104\n",
       "468              James Harden         Houston Rockets    2018       0.576672\n",
       "480               Enes Kanter         New York Knicks    2018       0.575761\n",
       "1328             James Harden           Brooklyn Nets    2021       0.574862\n",
       "604             Dwight Howard      Los Angeles Lakers    2019       0.574290\n",
       "1130             Steven Adams       Memphis Grizzlies    2021       0.573517\n",
       "1113           Andre Iguodala              Miami Heat    2020       0.571901\n",
       "969               Moses Brown   Oklahoma City Thunder    2020       0.571789\n",
       "498                  Ed Davis           Brooklyn Nets    2018       0.571120\n",
       "1098          Carmelo Anthony  Portland Trail Blazers    2020       0.570573\n",
       "490                Joe Harris           Brooklyn Nets    2018       0.568205\n",
       "1040             Nerlens Noel         New York Knicks    2020       0.567269\n",
       "42                  John Wall      Washington Wizards    2017       0.566702\n",
       "326                 John Wall      Washington Wizards    2018       0.566702\n",
       "1004              Maxi Kleber        Dallas Mavericks    2020       0.565374\n",
       "195               Enes Kanter         New York Knicks    2017       0.565025\n",
       "218              Troy Daniels            Phoenix Suns    2017       0.563493\n",
       "887         Russell Westbrook      Washington Wizards    2020       0.563300\n",
       "757                 PJ Tucker         Houston Rockets    2019       0.562264\n",
       "559               Enes Kanter  Portland Trail Blazers    2018       0.561215\n",
       "104          Shaun Livingston   Golden State Warriors    2017       0.560738\n",
       "1285      Dorian Finney-Smith        Dallas Mavericks    2021       0.558473\n",
       "968                Al Horford   Oklahoma City Thunder    2020       0.558140\n",
       "302               Kyle Korver               Utah Jazz    2018       0.557823\n",
       "751              James Harden         Houston Rockets    2019       0.557231\n",
       "1244  Shai Gilgeous-Alexander   Oklahoma City Thunder    2021       0.555331\n",
       "1049           DeAndre Jordan           Brooklyn Nets    2020       0.554961\n",
       "837           Duncan Robinson              Miami Heat    2019       0.553844\n",
       "1042             James Harden           Brooklyn Nets    2020       0.553410\n",
       "190          Luc Mbah a Moute         Houston Rockets    2017       0.553237\n",
       "245             Darius Miller    New Orleans Pelicans    2017       0.552690\n",
       "262                  Ed Davis  Portland Trail Blazers    2017       0.551443\n",
       "409          Tristan Thompson     Cleveland Cavaliers    2018       0.550546\n",
       "680       Willie Cauley-Stein   Golden State Warriors    2019       0.550236"
      ]
     },
     "execution_count": 46,
     "metadata": {},
     "output_type": "execute_result"
    }
   ],
   "source": [
    "profile_cols = ['Player', 'Team', 'Season', 'anomaly_score']\n",
    "score_cond_1 = df['anomaly_score'] > 0.55\n",
    "df[score_cond_1][profile_cols].sort_values('anomaly_score', ascending=False)"
   ]
  },
  {
   "cell_type": "code",
   "execution_count": null,
   "metadata": {},
   "outputs": [],
   "source": []
  }
 ],
 "metadata": {
  "kernelspec": {
   "display_name": "Python 3 (ipykernel)",
   "language": "python",
   "name": "python3"
  },
  "language_info": {
   "codemirror_mode": {
    "name": "ipython",
    "version": 3
   },
   "file_extension": ".py",
   "mimetype": "text/x-python",
   "name": "python",
   "nbconvert_exporter": "python",
   "pygments_lexer": "ipython3",
   "version": "3.8.12"
  }
 },
 "nbformat": 4,
 "nbformat_minor": 2
}
