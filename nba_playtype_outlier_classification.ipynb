{
 "cells": [
  {
   "cell_type": "code",
   "execution_count": 1,
   "metadata": {
    "ExecuteTime": {
     "end_time": "2022-06-10T11:01:02.147234Z",
     "start_time": "2022-06-10T11:00:54.902614Z"
    }
   },
   "outputs": [],
   "source": [
    "import pandas as pd\n",
    "import numpy as np\n",
    "import os\n",
    "from collections import Counter"
   ]
  },
  {
   "cell_type": "code",
   "execution_count": 2,
   "metadata": {
    "ExecuteTime": {
     "end_time": "2022-06-10T11:01:02.152911Z",
     "start_time": "2022-06-10T11:01:02.149454Z"
    }
   },
   "outputs": [],
   "source": [
    "pd.set_option('display.max_columns', None)"
   ]
  },
  {
   "cell_type": "code",
   "execution_count": 3,
   "metadata": {
    "ExecuteTime": {
     "end_time": "2022-06-10T11:01:02.157942Z",
     "start_time": "2022-06-10T11:01:02.155106Z"
    }
   },
   "outputs": [],
   "source": [
    "import warnings\n",
    "warnings.filterwarnings('ignore')"
   ]
  },
  {
   "cell_type": "code",
   "execution_count": 4,
   "metadata": {
    "ExecuteTime": {
     "end_time": "2022-06-10T11:01:06.963072Z",
     "start_time": "2022-06-10T11:01:02.162068Z"
    }
   },
   "outputs": [],
   "source": [
    "import seaborn as sns\n",
    "import matplotlib\n",
    "import matplotlib.pyplot as plt\n",
    "from IPython.core.pylabtools import figsize"
   ]
  },
  {
   "cell_type": "code",
   "execution_count": 6,
   "metadata": {
    "ExecuteTime": {
     "end_time": "2022-06-10T11:01:08.559583Z",
     "start_time": "2022-06-10T11:01:08.556203Z"
    }
   },
   "outputs": [],
   "source": [
    "sns.set()"
   ]
  },
  {
   "cell_type": "markdown",
   "metadata": {},
   "source": [
    "## Data Prep"
   ]
  },
  {
   "cell_type": "markdown",
   "metadata": {},
   "source": [
    "### Read Synergy Data"
   ]
  },
  {
   "cell_type": "code",
   "execution_count": 7,
   "metadata": {
    "ExecuteTime": {
     "end_time": "2022-06-10T11:01:52.890050Z",
     "start_time": "2022-06-10T11:01:52.787090Z"
    }
   },
   "outputs": [
    {
     "data": {
      "text/plain": [
       "(3135, 74)"
      ]
     },
     "execution_count": 7,
     "metadata": {},
     "output_type": "execute_result"
    }
   ],
   "source": [
    "s_df = pd.read_csv('nba_offense.csv')\n",
    "s_df = s_df[s_df['Season'] != 2016]\n",
    "s_df['Player'] = s_df['Player'].apply(lambda x: ' '.join(x.split(' ')[1:]))\n",
    "s_df.shape"
   ]
  },
  {
   "cell_type": "markdown",
   "metadata": {},
   "source": [
    "Include labels regarding half court offense only"
   ]
  },
  {
   "cell_type": "code",
   "execution_count": 8,
   "metadata": {
    "ExecuteTime": {
     "end_time": "2022-06-10T11:01:53.213159Z",
     "start_time": "2022-06-10T11:01:53.209242Z"
    }
   },
   "outputs": [],
   "source": [
    "s_df['Overall_Poss'] = s_df['Overall_Poss'] - s_df['Miscellaneous_Poss'] - s_df['Transition_Poss']"
   ]
  },
  {
   "cell_type": "code",
   "execution_count": 9,
   "metadata": {
    "ExecuteTime": {
     "end_time": "2022-06-10T11:01:53.693021Z",
     "start_time": "2022-06-10T11:01:53.689902Z"
    }
   },
   "outputs": [],
   "source": [
    "poss_weights_cols = ['Spot Up_Poss%', 'P&R Ball Handler_Poss%', \n",
    "                     'Hand Off_Poss%', 'Off Screen_Poss%',\n",
    "                     'Cut_Poss%', 'Offensive Rebounds (put backs)_Poss%',\n",
    "                     'P&R Roll Man_Poss%', 'Isolation_Poss%', \n",
    "                     'Post-Up_Poss%']"
   ]
  },
  {
   "cell_type": "code",
   "execution_count": 10,
   "metadata": {
    "ExecuteTime": {
     "end_time": "2022-06-10T11:01:54.151227Z",
     "start_time": "2022-06-10T11:01:54.139378Z"
    }
   },
   "outputs": [],
   "source": [
    "for col in poss_weights_cols:\n",
    "    s_df[col] = s_df[col.replace('%', '')] / s_df['Overall_Poss']\n",
    "    s_df[col] = s_df[col].fillna(0)"
   ]
  },
  {
   "cell_type": "markdown",
   "metadata": {},
   "source": [
    "Filter in players with 250 shot possessions"
   ]
  },
  {
   "cell_type": "code",
   "execution_count": 11,
   "metadata": {
    "ExecuteTime": {
     "end_time": "2022-06-10T11:01:55.054995Z",
     "start_time": "2022-06-10T11:01:55.046905Z"
    }
   },
   "outputs": [
    {
     "data": {
      "text/plain": [
       "(1421, 74)"
      ]
     },
     "execution_count": 11,
     "metadata": {},
     "output_type": "execute_result"
    }
   ],
   "source": [
    "s_df = s_df[s_df['Overall_Poss'] >= 250]\n",
    "s_df.shape"
   ]
  },
  {
   "cell_type": "markdown",
   "metadata": {},
   "source": [
    "### Read BBR Data"
   ]
  },
  {
   "cell_type": "code",
   "execution_count": 12,
   "metadata": {
    "ExecuteTime": {
     "end_time": "2022-06-10T11:01:56.835422Z",
     "start_time": "2022-06-10T11:01:56.800662Z"
    }
   },
   "outputs": [
    {
     "data": {
      "text/plain": [
       "(3159, 28)"
      ]
     },
     "execution_count": 12,
     "metadata": {},
     "output_type": "execute_result"
    }
   ],
   "source": [
    "bbr_adv_df = pd.read_csv('bbr_nba_advanced_stats.csv')\n",
    "bbr_adv_df = bbr_adv_df[bbr_adv_df['season'] != 2016]\n",
    "bbr_adv_df.shape"
   ]
  },
  {
   "cell_type": "code",
   "execution_count": 13,
   "metadata": {
    "ExecuteTime": {
     "end_time": "2022-06-10T11:01:57.013822Z",
     "start_time": "2022-06-10T11:01:56.987532Z"
    }
   },
   "outputs": [
    {
     "data": {
      "text/plain": [
       "(2954, 12)"
      ]
     },
     "execution_count": 13,
     "metadata": {},
     "output_type": "execute_result"
    }
   ],
   "source": [
    "bbr_ros_df = pd.read_csv('bbr_nba_roster_stats.csv')\n",
    "bbr_ros_df = bbr_ros_df[bbr_ros_df['season'] != 2016]\n",
    "bbr_ros_df.shape"
   ]
  },
  {
   "cell_type": "code",
   "execution_count": 14,
   "metadata": {
    "ExecuteTime": {
     "end_time": "2022-06-10T11:01:57.191665Z",
     "start_time": "2022-06-10T11:01:57.183113Z"
    }
   },
   "outputs": [],
   "source": [
    "for col in ['player', 'player_alt']:\n",
    "    bbr_ros_df[col] = bbr_ros_df[col].apply(lambda x: x.replace('(TW)', '').strip())"
   ]
  },
  {
   "cell_type": "markdown",
   "metadata": {},
   "source": [
    "17-20"
   ]
  },
  {
   "cell_type": "code",
   "execution_count": 15,
   "metadata": {
    "ExecuteTime": {
     "end_time": "2022-06-10T11:01:57.729366Z",
     "start_time": "2022-06-10T11:01:57.715137Z"
    }
   },
   "outputs": [
    {
     "data": {
      "text/plain": [
       "((2444, 28), (2446, 12), (2444, 36))"
      ]
     },
     "execution_count": 15,
     "metadata": {},
     "output_type": "execute_result"
    }
   ],
   "source": [
    "bbr_adv_df_17_20 = bbr_adv_df[bbr_adv_df['season'] != 2021].copy()\n",
    "bbr_ros_df_17_20 = bbr_ros_df[bbr_ros_df['season'] != 2021].copy()\n",
    "bbr_df_17_20 = bbr_adv_df_17_20.merge(bbr_ros_df_17_20, how='left',\n",
    "                                      on=['player', 'season', 'team', 'player_alt'])\n",
    "bbr_adv_df_17_20.shape, bbr_ros_df_17_20.shape, bbr_df_17_20.shape"
   ]
  },
  {
   "cell_type": "markdown",
   "metadata": {},
   "source": [
    "21-22"
   ]
  },
  {
   "cell_type": "code",
   "execution_count": 16,
   "metadata": {
    "ExecuteTime": {
     "end_time": "2022-06-10T11:01:58.159594Z",
     "start_time": "2022-06-10T11:01:58.144372Z"
    }
   },
   "outputs": [
    {
     "data": {
      "text/plain": [
       "((715, 28), (508, 12), (715, 36))"
      ]
     },
     "execution_count": 16,
     "metadata": {},
     "output_type": "execute_result"
    }
   ],
   "source": [
    "bbr_adv_df_21 = bbr_adv_df[bbr_adv_df['season'] == 2021].copy()\n",
    "bbr_ros_df_21 = bbr_ros_df[bbr_ros_df['season'] == 2021].copy()\n",
    "bbr_df_21 = bbr_adv_df_21.merge(bbr_ros_df_21, how='left',\n",
    "                                on=['player', 'season', 'player_alt'])\\\n",
    "                         .rename(columns={'team_x': 'team'})\\\n",
    "                         .drop('team_y', axis=1)\n",
    "bbr_adv_df_21.shape, bbr_ros_df_21.shape, bbr_df_21.shape"
   ]
  },
  {
   "cell_type": "code",
   "execution_count": 17,
   "metadata": {
    "ExecuteTime": {
     "end_time": "2022-06-10T11:01:58.381383Z",
     "start_time": "2022-06-10T11:01:58.369763Z"
    }
   },
   "outputs": [],
   "source": [
    "bbr_df = pd.concat([bbr_df_17_20, bbr_df_21])\\\n",
    "           .reset_index().drop('index', axis=1)"
   ]
  },
  {
   "cell_type": "markdown",
   "metadata": {},
   "source": [
    "Filter in players that played over 200 minutes"
   ]
  },
  {
   "cell_type": "code",
   "execution_count": 18,
   "metadata": {
    "ExecuteTime": {
     "end_time": "2022-06-10T11:02:18.876275Z",
     "start_time": "2022-06-10T11:02:18.870489Z"
    }
   },
   "outputs": [
    {
     "data": {
      "text/plain": [
       "(2323, 36)"
      ]
     },
     "execution_count": 18,
     "metadata": {},
     "output_type": "execute_result"
    }
   ],
   "source": [
    "bbr_df = bbr_df[bbr_df['mp'] >= 200]\n",
    "bbr_df.shape"
   ]
  },
  {
   "cell_type": "markdown",
   "metadata": {},
   "source": [
    "Convert heights"
   ]
  },
  {
   "cell_type": "code",
   "execution_count": 19,
   "metadata": {
    "ExecuteTime": {
     "end_time": "2022-06-10T11:02:21.516395Z",
     "start_time": "2022-06-10T11:02:21.512734Z"
    }
   },
   "outputs": [],
   "source": [
    "def convert_height(height):\n",
    "    feet, inches = height.split('-')\n",
    "    cm = int(feet) * 12 + int(inches)\n",
    "    return round(cm * 2.54, 1)"
   ]
  },
  {
   "cell_type": "code",
   "execution_count": 20,
   "metadata": {
    "ExecuteTime": {
     "end_time": "2022-06-10T11:02:21.728418Z",
     "start_time": "2022-06-10T11:02:21.722573Z"
    }
   },
   "outputs": [
    {
     "data": {
      "text/plain": [
       "Int64Index([2480, 2500, 2507, 2553, 2576, 2627, 2715, 2718, 2719, 2720, 2762,\n",
       "            2810, 2835, 2928, 2929, 2952, 3017, 3020, 3024, 3026, 3070],\n",
       "           dtype='int64')"
      ]
     },
     "execution_count": 20,
     "metadata": {},
     "output_type": "execute_result"
    }
   ],
   "source": [
    "bbr_df[bbr_df['height'].isna()].index"
   ]
  },
  {
   "cell_type": "code",
   "execution_count": 21,
   "metadata": {
    "ExecuteTime": {
     "end_time": "2022-06-10T11:02:22.539109Z",
     "start_time": "2022-06-10T11:02:22.522651Z"
    }
   },
   "outputs": [],
   "source": [
    "bbr_df.loc[2480, 'height'] = '6-10'\n",
    "bbr_df.loc[2480, 'weight'] = 250\n",
    "bbr_df.loc[2500, 'height'] = '6-7'\n",
    "bbr_df.loc[2500, 'weight'] = 240\n",
    "bbr_df.loc[2507, 'height'] = '6-5'\n",
    "bbr_df.loc[2507, 'weight'] = 210\n",
    "bbr_df.loc[2553, 'height'] = '6-7'\n",
    "bbr_df.loc[2553, 'weight'] = 215\n",
    "bbr_df.loc[2576, 'height'] = '6-4'\n",
    "bbr_df.loc[2576, 'weight'] = 220\n",
    "bbr_df.loc[2627, 'height'] = '6-6'\n",
    "bbr_df.loc[2627, 'weight'] = 205\n",
    "bbr_df.loc[2715, 'height'] = '6-0'\n",
    "bbr_df.loc[2715, 'weight'] = 180\n",
    "bbr_df.loc[2718, 'height'] = '6-5'\n",
    "bbr_df.loc[2718, 'weight'] = 230\n",
    "bbr_df.loc[2719, 'height'] = '6-3'\n",
    "bbr_df.loc[2719, 'weight'] = 210\n",
    "bbr_df.loc[2720, 'height'] = '6-6'\n",
    "bbr_df.loc[2720, 'weight'] = 230\n",
    "bbr_df.loc[2762, 'height'] = '6-8'\n",
    "bbr_df.loc[2762, 'weight'] = 215\n",
    "bbr_df.loc[2810, 'height'] = '6-8'\n",
    "bbr_df.loc[2810, 'weight'] = 215\n",
    "bbr_df.loc[2835, 'height'] = '6-6'\n",
    "bbr_df.loc[2835, 'weight'] = 240\n",
    "bbr_df.loc[2928, 'height'] = '7-0'\n",
    "bbr_df.loc[2928, 'weight'] = 237\n",
    "bbr_df.loc[2929, 'height'] = '6-8'\n",
    "bbr_df.loc[2929, 'weight'] = 216\n",
    "bbr_df.loc[2952, 'height'] = '6-0'\n",
    "bbr_df.loc[2952, 'weight'] = 170\n",
    "bbr_df.loc[3017, 'height'] = '6-9'\n",
    "bbr_df.loc[3017, 'weight'] = 245\n",
    "bbr_df.loc[3020, 'height'] = '6-2'\n",
    "bbr_df.loc[3020, 'weight'] = 205\n",
    "bbr_df.loc[3024, 'height'] = '6-11'\n",
    "bbr_df.loc[3024, 'weight'] = 240\n",
    "bbr_df.loc[3026, 'height'] = '6-3'\n",
    "bbr_df.loc[3026, 'weight'] = 205\n",
    "bbr_df.loc[3070, 'height'] = '6-9'\n",
    "bbr_df.loc[3070, 'weight'] = 245"
   ]
  },
  {
   "cell_type": "code",
   "execution_count": 22,
   "metadata": {
    "ExecuteTime": {
     "end_time": "2022-06-10T11:02:27.807263Z",
     "start_time": "2022-06-10T11:02:27.800325Z"
    }
   },
   "outputs": [],
   "source": [
    "bbr_df['height_cm'] = bbr_df['height'].apply(convert_height)"
   ]
  },
  {
   "cell_type": "markdown",
   "metadata": {},
   "source": [
    "Convert weights"
   ]
  },
  {
   "cell_type": "code",
   "execution_count": 23,
   "metadata": {
    "ExecuteTime": {
     "end_time": "2022-06-10T11:02:29.068352Z",
     "start_time": "2022-06-10T11:02:29.062645Z"
    }
   },
   "outputs": [],
   "source": [
    "bbr_df['weight_kg'] = bbr_df['weight'].apply(lambda x: round(0.453592 * x, 1))"
   ]
  },
  {
   "cell_type": "markdown",
   "metadata": {},
   "source": [
    "### Merge Synergy Data & BBR Data"
   ]
  },
  {
   "cell_type": "code",
   "execution_count": 24,
   "metadata": {
    "ExecuteTime": {
     "end_time": "2022-06-10T11:02:30.177391Z",
     "start_time": "2022-06-10T11:02:30.171262Z"
    }
   },
   "outputs": [],
   "source": [
    "s_df['Player_Alt'] = s_df['Player'].apply(lambda x: x.replace(' ', '').lower())\\\n",
    "                                   .apply(lambda x: x.replace(\"'\", ''))\\\n",
    "                                   .apply(lambda x: x.replace('.', ''))"
   ]
  },
  {
   "cell_type": "code",
   "execution_count": 25,
   "metadata": {
    "ExecuteTime": {
     "end_time": "2022-06-10T11:02:30.450473Z",
     "start_time": "2022-06-10T11:02:30.442724Z"
    }
   },
   "outputs": [],
   "source": [
    "bbr_df['player_alt_alt'] = bbr_df['player_alt'].apply(lambda x: x.replace(' ', ''))\\\n",
    "                                               .apply(lambda x: x.replace(\"'\", ''))\\\n",
    "                                               .apply(lambda x: x.replace('.', ''))\\\n",
    "                                               .apply(lambda x: x.lower())"
   ]
  },
  {
   "cell_type": "code",
   "execution_count": 26,
   "metadata": {
    "ExecuteTime": {
     "end_time": "2022-06-10T11:02:30.661614Z",
     "start_time": "2022-06-10T11:02:30.654916Z"
    }
   },
   "outputs": [],
   "source": [
    "synergy_name_dict = {'kevinknoxii': 'kevinknox',\n",
    "                     'danilogalinari': 'danilogallinari',\n",
    "                     'louiswilliams': 'louwilliams',\n",
    "                     'eneskanter': 'enesfreedom',\n",
    "                     'terryrozieriii': 'terryrozier',\n",
    "                     'cameronreddish': 'camreddish',\n",
    "                     'jahilokafor': 'jahlilokafor',\n",
    "                     'danuelhouse': 'danuelhousejr',\n",
    "                     'alfarouqaminu': 'al-farouqaminu',\n",
    "                     'nenehilario': 'nene',\n",
    "                     'frankmason': 'frankmasoniii',\n",
    "                     'larrynance': 'larrynancejr',\n",
    "                     'wesleyiwundu': 'wesiwundu',\n",
    "                     'robertwilliamsiii': 'robertwilliams',\n",
    "                     'harrygilesiii': 'harrygiles',\n",
    "                     'jamesennis': 'jamesennisiii',\n",
    "                     'mohamedbamba': 'mobamba',\n",
    "                     'xaviertillman': 'xaviertillmansr',\n",
    "                     'patrickbeverly': 'patrickbeverley',\n",
    "                     'malcomdelaney': 'malcolmdelaney',\n",
    "                     'marcusmorrissr': 'marcusmorris',\n",
    "                     'nicolasclaxton': 'nicclaxton',\n",
    "                     'juanhernangomez': 'juanchohernangomez',\n",
    "                     'guillermohernangomez': 'willyhernangomez',\n",
    "                     'timothéluwawu-cabarrot': 'timotheluwawu-cabarrot'}\n",
    "s_df['Player_Alt'] = s_df['Player_Alt'].apply(lambda x: synergy_name_dict[x] \n",
    "                                              if x in synergy_name_dict.keys()\n",
    "                                              else x)"
   ]
  },
  {
   "cell_type": "code",
   "execution_count": 27,
   "metadata": {
    "ExecuteTime": {
     "end_time": "2022-06-10T11:02:30.886103Z",
     "start_time": "2022-06-10T11:02:30.865761Z"
    }
   },
   "outputs": [
    {
     "data": {
      "text/plain": [
       "(1420, 114)"
      ]
     },
     "execution_count": 27,
     "metadata": {},
     "output_type": "execute_result"
    }
   ],
   "source": [
    "df = s_df.merge(bbr_df, how='left', \n",
    "                left_on=['Player_Alt', 'Team', 'Season'],\n",
    "                right_on=['player_alt_alt', 'team', 'season'])\n",
    "df = df[~df['player_alt_alt'].isna()].reset_index().drop('index', axis=1)\n",
    "df.shape"
   ]
  },
  {
   "cell_type": "code",
   "execution_count": 28,
   "metadata": {
    "ExecuteTime": {
     "end_time": "2022-06-10T11:02:31.331114Z",
     "start_time": "2022-06-10T11:02:31.323696Z"
    }
   },
   "outputs": [
    {
     "data": {
      "text/plain": [
       "(1420, 3)"
      ]
     },
     "execution_count": 28,
     "metadata": {},
     "output_type": "execute_result"
    }
   ],
   "source": [
    "# check \n",
    "df[['Player_Alt', 'Team', 'Season']].drop_duplicates().shape"
   ]
  },
  {
   "cell_type": "markdown",
   "metadata": {},
   "source": [
    "## Outlier Detection"
   ]
  },
  {
   "cell_type": "code",
   "execution_count": 32,
   "metadata": {
    "ExecuteTime": {
     "end_time": "2022-06-10T11:07:45.201770Z",
     "start_time": "2022-06-10T11:07:45.196266Z"
    }
   },
   "outputs": [],
   "source": [
    "from iforest import *"
   ]
  },
  {
   "cell_type": "code",
   "execution_count": 40,
   "metadata": {
    "ExecuteTime": {
     "end_time": "2022-06-10T11:12:13.460847Z",
     "start_time": "2022-06-10T11:12:13.455875Z"
    }
   },
   "outputs": [],
   "source": [
    "X = df[poss_weights_cols].values"
   ]
  },
  {
   "cell_type": "code",
   "execution_count": 83,
   "metadata": {
    "ExecuteTime": {
     "end_time": "2022-06-10T11:23:05.831893Z",
     "start_time": "2022-06-10T11:23:05.659142Z"
    }
   },
   "outputs": [
    {
     "data": {
      "text/plain": [
       "<iforest.IsolationTreeEnsemble at 0x7fe55e602310>"
      ]
     },
     "execution_count": 83,
     "metadata": {},
     "output_type": "execute_result"
    }
   ],
   "source": [
    "model = IsolationTreeEnsemble(1420)\n",
    "model.fit(X)"
   ]
  },
  {
   "cell_type": "code",
   "execution_count": 84,
   "metadata": {
    "ExecuteTime": {
     "end_time": "2022-06-10T11:23:06.413315Z",
     "start_time": "2022-06-10T11:23:06.263345Z"
    }
   },
   "outputs": [
    {
     "data": {
      "text/plain": [
       "count    1420.000000\n",
       "mean        0.417669\n",
       "std         0.045629\n",
       "min         0.339725\n",
       "25%         0.382926\n",
       "50%         0.413660\n",
       "75%         0.443842\n",
       "max         0.671407\n",
       "Name: anomaly_score, dtype: float64"
      ]
     },
     "execution_count": 84,
     "metadata": {},
     "output_type": "execute_result"
    }
   ],
   "source": [
    "df['anomaly_score'] = model.anomaly_score(X)\n",
    "df['anomaly_score'].describe()"
   ]
  },
  {
   "cell_type": "code",
   "execution_count": 85,
   "metadata": {
    "ExecuteTime": {
     "end_time": "2022-06-10T11:23:06.507101Z",
     "start_time": "2022-06-10T11:23:06.500513Z"
    }
   },
   "outputs": [
    {
     "data": {
      "text/plain": [
       "0.04788732394366197"
      ]
     },
     "execution_count": 85,
     "metadata": {},
     "output_type": "execute_result"
    }
   ],
   "source": [
    "df[df['anomaly_score'] > 0.5].shape[0] / df.shape[0]"
   ]
  },
  {
   "cell_type": "code",
   "execution_count": 86,
   "metadata": {
    "ExecuteTime": {
     "end_time": "2022-06-10T11:23:07.087999Z",
     "start_time": "2022-06-10T11:23:07.074586Z"
    }
   },
   "outputs": [
    {
     "data": {
      "text/html": [
       "<div>\n",
       "<style scoped>\n",
       "    .dataframe tbody tr th:only-of-type {\n",
       "        vertical-align: middle;\n",
       "    }\n",
       "\n",
       "    .dataframe tbody tr th {\n",
       "        vertical-align: top;\n",
       "    }\n",
       "\n",
       "    .dataframe thead th {\n",
       "        text-align: right;\n",
       "    }\n",
       "</style>\n",
       "<table border=\"1\" class=\"dataframe\">\n",
       "  <thead>\n",
       "    <tr style=\"text-align: right;\">\n",
       "      <th></th>\n",
       "      <th>Player</th>\n",
       "      <th>Team</th>\n",
       "      <th>Season</th>\n",
       "      <th>anomaly_score</th>\n",
       "    </tr>\n",
       "  </thead>\n",
       "  <tbody>\n",
       "    <tr>\n",
       "      <th>128</th>\n",
       "      <td>Kyle Korver</td>\n",
       "      <td>Cleveland Cavaliers</td>\n",
       "      <td>2017</td>\n",
       "      <td>0.671407</td>\n",
       "    </tr>\n",
       "    <tr>\n",
       "      <th>347</th>\n",
       "      <td>LaMarcus Aldridge</td>\n",
       "      <td>San Antonio Spurs</td>\n",
       "      <td>2018</td>\n",
       "      <td>0.613472</td>\n",
       "    </tr>\n",
       "    <tr>\n",
       "      <th>1089</th>\n",
       "      <td>Doug McDermott</td>\n",
       "      <td>Indiana Pacers</td>\n",
       "      <td>2020</td>\n",
       "      <td>0.608739</td>\n",
       "    </tr>\n",
       "    <tr>\n",
       "      <th>270</th>\n",
       "      <td>Wayne Ellington</td>\n",
       "      <td>Miami Heat</td>\n",
       "      <td>2017</td>\n",
       "      <td>0.604710</td>\n",
       "    </tr>\n",
       "    <tr>\n",
       "      <th>58</th>\n",
       "      <td>LaMarcus Aldridge</td>\n",
       "      <td>San Antonio Spurs</td>\n",
       "      <td>2017</td>\n",
       "      <td>0.586756</td>\n",
       "    </tr>\n",
       "    <tr>\n",
       "      <th>902</th>\n",
       "      <td>Bismack Biyombo</td>\n",
       "      <td>Charlotte Hornets</td>\n",
       "      <td>2020</td>\n",
       "      <td>0.582339</td>\n",
       "    </tr>\n",
       "    <tr>\n",
       "      <th>89</th>\n",
       "      <td>Joel Embiid</td>\n",
       "      <td>Philadelphia 76ers</td>\n",
       "      <td>2017</td>\n",
       "      <td>0.581187</td>\n",
       "    </tr>\n",
       "    <tr>\n",
       "      <th>751</th>\n",
       "      <td>James Harden</td>\n",
       "      <td>Houston Rockets</td>\n",
       "      <td>2019</td>\n",
       "      <td>0.578413</td>\n",
       "    </tr>\n",
       "    <tr>\n",
       "      <th>822</th>\n",
       "      <td>Doug McDermott</td>\n",
       "      <td>Indiana Pacers</td>\n",
       "      <td>2019</td>\n",
       "      <td>0.574053</td>\n",
       "    </tr>\n",
       "    <tr>\n",
       "      <th>383</th>\n",
       "      <td>Klay Thompson</td>\n",
       "      <td>Golden State Warriors</td>\n",
       "      <td>2018</td>\n",
       "      <td>0.572765</td>\n",
       "    </tr>\n",
       "    <tr>\n",
       "      <th>50</th>\n",
       "      <td>Dwight Howard</td>\n",
       "      <td>Charlotte Hornets</td>\n",
       "      <td>2017</td>\n",
       "      <td>0.570664</td>\n",
       "    </tr>\n",
       "    <tr>\n",
       "      <th>148</th>\n",
       "      <td>Avery Bradley</td>\n",
       "      <td>Detroit Pistons</td>\n",
       "      <td>2017</td>\n",
       "      <td>0.570071</td>\n",
       "    </tr>\n",
       "    <tr>\n",
       "      <th>913</th>\n",
       "      <td>LaMarcus Aldridge</td>\n",
       "      <td>San Antonio Spurs</td>\n",
       "      <td>2020</td>\n",
       "      <td>0.567312</td>\n",
       "    </tr>\n",
       "    <tr>\n",
       "      <th>122</th>\n",
       "      <td>Patrick Patterson</td>\n",
       "      <td>Oklahoma City Thunder</td>\n",
       "      <td>2017</td>\n",
       "      <td>0.565655</td>\n",
       "    </tr>\n",
       "    <tr>\n",
       "      <th>1227</th>\n",
       "      <td>Kevon Looney</td>\n",
       "      <td>Golden State Warriors</td>\n",
       "      <td>2021</td>\n",
       "      <td>0.563575</td>\n",
       "    </tr>\n",
       "    <tr>\n",
       "      <th>96</th>\n",
       "      <td>Marco Belinelli</td>\n",
       "      <td>Philadelphia 76ers</td>\n",
       "      <td>2017</td>\n",
       "      <td>0.562667</td>\n",
       "    </tr>\n",
       "    <tr>\n",
       "      <th>98</th>\n",
       "      <td>Klay Thompson</td>\n",
       "      <td>Golden State Warriors</td>\n",
       "      <td>2017</td>\n",
       "      <td>0.560676</td>\n",
       "    </tr>\n",
       "    <tr>\n",
       "      <th>663</th>\n",
       "      <td>Joel Embiid</td>\n",
       "      <td>Philadelphia 76ers</td>\n",
       "      <td>2019</td>\n",
       "      <td>0.558505</td>\n",
       "    </tr>\n",
       "    <tr>\n",
       "      <th>149</th>\n",
       "      <td>Reggie Bullock</td>\n",
       "      <td>Detroit Pistons</td>\n",
       "      <td>2017</td>\n",
       "      <td>0.557331</td>\n",
       "    </tr>\n",
       "    <tr>\n",
       "      <th>468</th>\n",
       "      <td>James Harden</td>\n",
       "      <td>Houston Rockets</td>\n",
       "      <td>2018</td>\n",
       "      <td>0.557225</td>\n",
       "    </tr>\n",
       "  </tbody>\n",
       "</table>\n",
       "</div>"
      ],
      "text/plain": [
       "                 Player                   Team  Season  anomaly_score\n",
       "128         Kyle Korver    Cleveland Cavaliers    2017       0.671407\n",
       "347   LaMarcus Aldridge      San Antonio Spurs    2018       0.613472\n",
       "1089     Doug McDermott         Indiana Pacers    2020       0.608739\n",
       "270     Wayne Ellington             Miami Heat    2017       0.604710\n",
       "58    LaMarcus Aldridge      San Antonio Spurs    2017       0.586756\n",
       "902     Bismack Biyombo      Charlotte Hornets    2020       0.582339\n",
       "89          Joel Embiid     Philadelphia 76ers    2017       0.581187\n",
       "751        James Harden        Houston Rockets    2019       0.578413\n",
       "822      Doug McDermott         Indiana Pacers    2019       0.574053\n",
       "383       Klay Thompson  Golden State Warriors    2018       0.572765\n",
       "50        Dwight Howard      Charlotte Hornets    2017       0.570664\n",
       "148       Avery Bradley        Detroit Pistons    2017       0.570071\n",
       "913   LaMarcus Aldridge      San Antonio Spurs    2020       0.567312\n",
       "122   Patrick Patterson  Oklahoma City Thunder    2017       0.565655\n",
       "1227       Kevon Looney  Golden State Warriors    2021       0.563575\n",
       "96      Marco Belinelli     Philadelphia 76ers    2017       0.562667\n",
       "98        Klay Thompson  Golden State Warriors    2017       0.560676\n",
       "663         Joel Embiid     Philadelphia 76ers    2019       0.558505\n",
       "149      Reggie Bullock        Detroit Pistons    2017       0.557331\n",
       "468        James Harden        Houston Rockets    2018       0.557225"
      ]
     },
     "execution_count": 86,
     "metadata": {},
     "output_type": "execute_result"
    }
   ],
   "source": [
    "profile_cols = ['Player', 'Team', 'Season', 'anomaly_score']\n",
    "df[df['anomaly_score'] > 0.5][profile_cols].sort_values('anomaly_score', ascending=False)\\\n",
    "                                           .head(20)"
   ]
  },
  {
   "cell_type": "code",
   "execution_count": 89,
   "metadata": {
    "ExecuteTime": {
     "end_time": "2022-06-10T11:25:33.373104Z",
     "start_time": "2022-06-10T11:25:33.355002Z"
    }
   },
   "outputs": [
    {
     "name": "stdout",
     "output_type": "stream",
     "text": [
      "Spot Up_Poss% 0.07508305647840531\n",
      "Transition_Poss% 0.0396341463414634\n",
      "P&R Ball Handler_Poss% 0.00132890365448505\n",
      "Offensive Rebounds (put backs)_Poss% 0.11162790697674418\n",
      "Cut_Poss% 0.08571428571428572\n",
      "Hand Off_Poss% 0.00132890365448505\n",
      "Isolation_Poss% 0.0345514950166113\n",
      "Off Screen_Poss% 0.013953488372093023\n",
      "P&R Roll Man_Poss% 0.21129568106312294\n",
      "Post-Up_Poss% 0.46511627906976744\n",
      "Miscellaneous_Poss% 0.0426829268292682\n"
     ]
    }
   ],
   "source": [
    "for col in df.columns:\n",
    "    if 'Poss%' in col:\n",
    "        print(col, df[(df['Season'] == 2018) & \n",
    "                      (df['Player'] == 'LaMarcus Aldridge')].loc[347][col])"
   ]
  },
  {
   "cell_type": "code",
   "execution_count": null,
   "metadata": {},
   "outputs": [],
   "source": []
  }
 ],
 "metadata": {
  "kernelspec": {
   "display_name": "Python 3 (ipykernel)",
   "language": "python",
   "name": "python3"
  },
  "language_info": {
   "codemirror_mode": {
    "name": "ipython",
    "version": 3
   },
   "file_extension": ".py",
   "mimetype": "text/x-python",
   "name": "python",
   "nbconvert_exporter": "python",
   "pygments_lexer": "ipython3",
   "version": "3.8.12"
  }
 },
 "nbformat": 4,
 "nbformat_minor": 2
}
