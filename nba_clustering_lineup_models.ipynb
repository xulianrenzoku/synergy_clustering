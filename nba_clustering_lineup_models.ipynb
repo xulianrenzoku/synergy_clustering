{
 "cells": [
  {
   "cell_type": "code",
   "execution_count": 1,
   "id": "5972c6f3",
   "metadata": {
    "ExecuteTime": {
     "end_time": "2022-06-23T13:25:05.868255Z",
     "start_time": "2022-06-23T13:25:05.215116Z"
    }
   },
   "outputs": [],
   "source": [
    "import pandas as pd\n",
    "import numpy as np\n",
    "import os\n",
    "import pickle\n",
    "from collections import Counter"
   ]
  },
  {
   "cell_type": "code",
   "execution_count": 2,
   "id": "fefd4678",
   "metadata": {
    "ExecuteTime": {
     "end_time": "2022-06-23T13:25:05.874818Z",
     "start_time": "2022-06-23T13:25:05.871953Z"
    }
   },
   "outputs": [],
   "source": [
    "pd.set_option('display.max_columns', None)\n",
    "pd.set_option('display.max_colwidth', None)"
   ]
  },
  {
   "cell_type": "code",
   "execution_count": 3,
   "id": "40c3f31e",
   "metadata": {
    "ExecuteTime": {
     "end_time": "2022-06-23T13:25:05.880899Z",
     "start_time": "2022-06-23T13:25:05.877163Z"
    }
   },
   "outputs": [],
   "source": [
    "import warnings\n",
    "warnings.filterwarnings('ignore')"
   ]
  },
  {
   "cell_type": "code",
   "execution_count": 4,
   "id": "4b979ec1",
   "metadata": {
    "ExecuteTime": {
     "end_time": "2022-06-23T13:25:07.251145Z",
     "start_time": "2022-06-23T13:25:05.883781Z"
    }
   },
   "outputs": [],
   "source": [
    "import seaborn as sns\n",
    "import matplotlib\n",
    "import matplotlib.pyplot as plt\n",
    "from IPython.core.pylabtools import figsize"
   ]
  },
  {
   "cell_type": "code",
   "execution_count": 5,
   "id": "2b98bcea",
   "metadata": {
    "ExecuteTime": {
     "end_time": "2022-06-23T13:25:07.933177Z",
     "start_time": "2022-06-23T13:25:07.253030Z"
    }
   },
   "outputs": [],
   "source": [
    "from scipy import stats\n",
    "from scipy.stats import norm, gamma, linregress, skew\n",
    "from sklearn.cluster import KMeans, SpectralClustering, AgglomerativeClustering \n",
    "from sklearn.preprocessing import StandardScaler, RobustScaler, Normalizer\n",
    "from sklearn.decomposition import PCA\n",
    "from sklearn.manifold import TSNE\n",
    "from sklearn.pipeline import make_pipeline\n",
    "from sklearn.metrics import r2_score, mean_squared_error\n",
    "import statsmodels.api as sm\n",
    "from statsmodels.stats.outliers_influence import variance_inflation_factor"
   ]
  },
  {
   "cell_type": "code",
   "execution_count": 6,
   "id": "10e86cfc",
   "metadata": {
    "ExecuteTime": {
     "end_time": "2022-06-23T13:25:07.940885Z",
     "start_time": "2022-06-23T13:25:07.935696Z"
    }
   },
   "outputs": [],
   "source": [
    "def dump_pickle(file, filename):\n",
    "    outfile = open(filename, 'wb')\n",
    "    pickle.dump(file, outfile)\n",
    "    outfile.close()\n",
    "\n",
    "def load_pickle(filename):\n",
    "    infile = open(filename, 'rb')\n",
    "    file = pickle.load(infile)\n",
    "    infile.close()\n",
    "    return file"
   ]
  },
  {
   "cell_type": "code",
   "execution_count": 7,
   "id": "753d0ec4",
   "metadata": {
    "ExecuteTime": {
     "end_time": "2022-06-23T13:25:07.948034Z",
     "start_time": "2022-06-23T13:25:07.944135Z"
    }
   },
   "outputs": [],
   "source": [
    "sns.set()"
   ]
  },
  {
   "cell_type": "markdown",
   "id": "33c6b325",
   "metadata": {},
   "source": [
    "## Data Prep"
   ]
  },
  {
   "cell_type": "markdown",
   "id": "4f4cead8",
   "metadata": {},
   "source": [
    "Read cluster data"
   ]
  },
  {
   "cell_type": "code",
   "execution_count": 8,
   "id": "78dc7bb1",
   "metadata": {
    "ExecuteTime": {
     "end_time": "2022-06-23T13:25:08.005984Z",
     "start_time": "2022-06-23T13:25:07.953226Z"
    }
   },
   "outputs": [
    {
     "data": {
      "text/plain": [
       "(1774, 116)"
      ]
     },
     "execution_count": 8,
     "metadata": {},
     "output_type": "execute_result"
    }
   ],
   "source": [
    "df = pd.read_csv('nba_cleaned.csv')\n",
    "df.shape"
   ]
  },
  {
   "cell_type": "code",
   "execution_count": 9,
   "id": "89de3c82",
   "metadata": {
    "ExecuteTime": {
     "end_time": "2022-06-23T13:25:08.020938Z",
     "start_time": "2022-06-23T13:25:08.007928Z"
    }
   },
   "outputs": [
    {
     "data": {
      "text/html": [
       "<div>\n",
       "<style scoped>\n",
       "    .dataframe tbody tr th:only-of-type {\n",
       "        vertical-align: middle;\n",
       "    }\n",
       "\n",
       "    .dataframe tbody tr th {\n",
       "        vertical-align: top;\n",
       "    }\n",
       "\n",
       "    .dataframe thead th {\n",
       "        text-align: right;\n",
       "    }\n",
       "</style>\n",
       "<table border=\"1\" class=\"dataframe\">\n",
       "  <thead>\n",
       "    <tr style=\"text-align: right;\">\n",
       "      <th></th>\n",
       "      <th>Player</th>\n",
       "      <th>season</th>\n",
       "      <th>team</th>\n",
       "      <th>player_cluster</th>\n",
       "    </tr>\n",
       "  </thead>\n",
       "  <tbody>\n",
       "    <tr>\n",
       "      <th>0</th>\n",
       "      <td>Marc Gasol</td>\n",
       "      <td>2017</td>\n",
       "      <td>Memphis Grizzlies</td>\n",
       "      <td>6</td>\n",
       "    </tr>\n",
       "    <tr>\n",
       "      <th>1</th>\n",
       "      <td>Tyreke Evans</td>\n",
       "      <td>2017</td>\n",
       "      <td>Memphis Grizzlies</td>\n",
       "      <td>2</td>\n",
       "    </tr>\n",
       "    <tr>\n",
       "      <th>2</th>\n",
       "      <td>Dillon Brooks</td>\n",
       "      <td>2017</td>\n",
       "      <td>Memphis Grizzlies</td>\n",
       "      <td>1</td>\n",
       "    </tr>\n",
       "    <tr>\n",
       "      <th>3</th>\n",
       "      <td>Jarell Martin</td>\n",
       "      <td>2017</td>\n",
       "      <td>Memphis Grizzlies</td>\n",
       "      <td>3</td>\n",
       "    </tr>\n",
       "    <tr>\n",
       "      <th>4</th>\n",
       "      <td>Mario Chalmers</td>\n",
       "      <td>2017</td>\n",
       "      <td>Memphis Grizzlies</td>\n",
       "      <td>1</td>\n",
       "    </tr>\n",
       "  </tbody>\n",
       "</table>\n",
       "</div>"
      ],
      "text/plain": [
       "           Player  season               team  player_cluster\n",
       "0      Marc Gasol    2017  Memphis Grizzlies               6\n",
       "1    Tyreke Evans    2017  Memphis Grizzlies               2\n",
       "2   Dillon Brooks    2017  Memphis Grizzlies               1\n",
       "3   Jarell Martin    2017  Memphis Grizzlies               3\n",
       "4  Mario Chalmers    2017  Memphis Grizzlies               1"
      ]
     },
     "execution_count": 9,
     "metadata": {},
     "output_type": "execute_result"
    }
   ],
   "source": [
    "label_cols = ['Player', 'Season', 'Team', 'player_cluster']\n",
    "label_df = df[label_cols].rename(columns={'Season': 'season',\n",
    "                                          'Team': 'team'})\n",
    "label_df.head()"
   ]
  },
  {
   "cell_type": "markdown",
   "id": "78f27199",
   "metadata": {},
   "source": [
    "Read lineup data by CleaningTheGlass"
   ]
  },
  {
   "cell_type": "code",
   "execution_count": 10,
   "id": "346c9863",
   "metadata": {
    "ExecuteTime": {
     "end_time": "2022-06-23T13:25:08.456352Z",
     "start_time": "2022-06-23T13:25:08.022966Z"
    }
   },
   "outputs": [
    {
     "data": {
      "text/plain": [
       "(67655, 30)"
      ]
     },
     "execution_count": 10,
     "metadata": {},
     "output_type": "execute_result"
    }
   ],
   "source": [
    "lineup_df = pd.read_csv('ctg_nba_lineup_stats.csv')\n",
    "lineup_df = lineup_df[lineup_df['season'] != 2016].reset_index(drop=True)\n",
    "lineup_df.shape"
   ]
  },
  {
   "cell_type": "code",
   "execution_count": 11,
   "id": "35abb528",
   "metadata": {
    "ExecuteTime": {
     "end_time": "2022-06-23T13:25:08.487764Z",
     "start_time": "2022-06-23T13:25:08.458089Z"
    }
   },
   "outputs": [
    {
     "data": {
      "text/html": [
       "<div>\n",
       "<style scoped>\n",
       "    .dataframe tbody tr th:only-of-type {\n",
       "        vertical-align: middle;\n",
       "    }\n",
       "\n",
       "    .dataframe tbody tr th {\n",
       "        vertical-align: top;\n",
       "    }\n",
       "\n",
       "    .dataframe thead th {\n",
       "        text-align: right;\n",
       "    }\n",
       "</style>\n",
       "<table border=\"1\" class=\"dataframe\">\n",
       "  <thead>\n",
       "    <tr style=\"text-align: right;\">\n",
       "      <th></th>\n",
       "      <th>PG</th>\n",
       "      <th>SG</th>\n",
       "      <th>SF</th>\n",
       "      <th>PF</th>\n",
       "      <th>C</th>\n",
       "      <th>season</th>\n",
       "      <th>team</th>\n",
       "      <th>Poss</th>\n",
       "      <th>off_Pts/Poss_rank</th>\n",
       "      <th>off_Pts/Poss</th>\n",
       "      <th>off_eFG%_rank</th>\n",
       "      <th>off_eFG%</th>\n",
       "      <th>off_TOV%_rank</th>\n",
       "      <th>off_TOV%</th>\n",
       "      <th>off_OREB%_rank</th>\n",
       "      <th>off_OREB%</th>\n",
       "      <th>off_FTr_rank</th>\n",
       "      <th>off_FTr</th>\n",
       "    </tr>\n",
       "  </thead>\n",
       "  <tbody>\n",
       "    <tr>\n",
       "      <th>0</th>\n",
       "      <td>Dennis Schroder</td>\n",
       "      <td>Kent Bazemore</td>\n",
       "      <td>Taurean Prince</td>\n",
       "      <td>Ersan Ilyasova</td>\n",
       "      <td>Miles Plumlee</td>\n",
       "      <td>2017</td>\n",
       "      <td>Atlanta Hawks</td>\n",
       "      <td>733</td>\n",
       "      <td>18.0</td>\n",
       "      <td>99.9</td>\n",
       "      <td>41.0</td>\n",
       "      <td>51.5%</td>\n",
       "      <td>12.0</td>\n",
       "      <td>17.7%</td>\n",
       "      <td>59.0</td>\n",
       "      <td>25.9%</td>\n",
       "      <td>37.0</td>\n",
       "      <td>15.0</td>\n",
       "    </tr>\n",
       "    <tr>\n",
       "      <th>1</th>\n",
       "      <td>Dennis Schroder</td>\n",
       "      <td>Kent Bazemore</td>\n",
       "      <td>Taurean Prince</td>\n",
       "      <td>John Collins</td>\n",
       "      <td>Dewayne Dedmon</td>\n",
       "      <td>2017</td>\n",
       "      <td>Atlanta Hawks</td>\n",
       "      <td>245</td>\n",
       "      <td>66.0</td>\n",
       "      <td>112.7</td>\n",
       "      <td>81.0</td>\n",
       "      <td>57.9%</td>\n",
       "      <td>15.0</td>\n",
       "      <td>17.1%</td>\n",
       "      <td>37.0</td>\n",
       "      <td>23.1%</td>\n",
       "      <td>41.0</td>\n",
       "      <td>15.7</td>\n",
       "    </tr>\n",
       "    <tr>\n",
       "      <th>2</th>\n",
       "      <td>Dennis Schroder</td>\n",
       "      <td>Kent Bazemore</td>\n",
       "      <td>Taurean Prince</td>\n",
       "      <td>Ersan Ilyasova</td>\n",
       "      <td>Dewayne Dedmon</td>\n",
       "      <td>2017</td>\n",
       "      <td>Atlanta Hawks</td>\n",
       "      <td>193</td>\n",
       "      <td>22.0</td>\n",
       "      <td>101.0</td>\n",
       "      <td>18.0</td>\n",
       "      <td>48.8%</td>\n",
       "      <td>78.0</td>\n",
       "      <td>12.4%</td>\n",
       "      <td>22.0</td>\n",
       "      <td>20.4%</td>\n",
       "      <td>73.0</td>\n",
       "      <td>22.1</td>\n",
       "    </tr>\n",
       "    <tr>\n",
       "      <th>3</th>\n",
       "      <td>Dennis Schroder</td>\n",
       "      <td>Kent Bazemore</td>\n",
       "      <td>Taurean Prince</td>\n",
       "      <td>Luke Babbitt</td>\n",
       "      <td>Dewayne Dedmon</td>\n",
       "      <td>2017</td>\n",
       "      <td>Atlanta Hawks</td>\n",
       "      <td>142</td>\n",
       "      <td>62.0</td>\n",
       "      <td>112.0</td>\n",
       "      <td>91.0</td>\n",
       "      <td>59.7%</td>\n",
       "      <td>7.0</td>\n",
       "      <td>19.0%</td>\n",
       "      <td>44.0</td>\n",
       "      <td>23.8%</td>\n",
       "      <td>5.0</td>\n",
       "      <td>8.9</td>\n",
       "    </tr>\n",
       "    <tr>\n",
       "      <th>4</th>\n",
       "      <td>Isaiah Taylor</td>\n",
       "      <td>Taurean Prince</td>\n",
       "      <td>Damion Lee</td>\n",
       "      <td>John Collins</td>\n",
       "      <td>Dewayne Dedmon</td>\n",
       "      <td>2017</td>\n",
       "      <td>Atlanta Hawks</td>\n",
       "      <td>140</td>\n",
       "      <td>36.0</td>\n",
       "      <td>105.7</td>\n",
       "      <td>41.0</td>\n",
       "      <td>51.5%</td>\n",
       "      <td>62.0</td>\n",
       "      <td>13.6%</td>\n",
       "      <td>36.0</td>\n",
       "      <td>23.1%</td>\n",
       "      <td>4.0</td>\n",
       "      <td>8.3</td>\n",
       "    </tr>\n",
       "  </tbody>\n",
       "</table>\n",
       "</div>"
      ],
      "text/plain": [
       "                PG              SG              SF              PF  \\\n",
       "0  Dennis Schroder   Kent Bazemore  Taurean Prince  Ersan Ilyasova   \n",
       "1  Dennis Schroder   Kent Bazemore  Taurean Prince    John Collins   \n",
       "2  Dennis Schroder   Kent Bazemore  Taurean Prince  Ersan Ilyasova   \n",
       "3  Dennis Schroder   Kent Bazemore  Taurean Prince    Luke Babbitt   \n",
       "4    Isaiah Taylor  Taurean Prince      Damion Lee    John Collins   \n",
       "\n",
       "                C  season           team  Poss  off_Pts/Poss_rank  \\\n",
       "0   Miles Plumlee    2017  Atlanta Hawks   733               18.0   \n",
       "1  Dewayne Dedmon    2017  Atlanta Hawks   245               66.0   \n",
       "2  Dewayne Dedmon    2017  Atlanta Hawks   193               22.0   \n",
       "3  Dewayne Dedmon    2017  Atlanta Hawks   142               62.0   \n",
       "4  Dewayne Dedmon    2017  Atlanta Hawks   140               36.0   \n",
       "\n",
       "   off_Pts/Poss  off_eFG%_rank off_eFG%  off_TOV%_rank off_TOV%  \\\n",
       "0          99.9           41.0    51.5%           12.0    17.7%   \n",
       "1         112.7           81.0    57.9%           15.0    17.1%   \n",
       "2         101.0           18.0    48.8%           78.0    12.4%   \n",
       "3         112.0           91.0    59.7%            7.0    19.0%   \n",
       "4         105.7           41.0    51.5%           62.0    13.6%   \n",
       "\n",
       "   off_OREB%_rank off_OREB%  off_FTr_rank  off_FTr  \n",
       "0            59.0     25.9%          37.0     15.0  \n",
       "1            37.0     23.1%          41.0     15.7  \n",
       "2            22.0     20.4%          73.0     22.1  \n",
       "3            44.0     23.8%           5.0      8.9  \n",
       "4            36.0     23.1%           4.0      8.3  "
      ]
     },
     "execution_count": 11,
     "metadata": {},
     "output_type": "execute_result"
    }
   ],
   "source": [
    "lineup_cols = ['PG', 'SG', 'SF', 'PF', 'C', 'season', 'team', 'Poss'] + \\\n",
    "              [col for col in lineup_df.columns if 'off_' in col]\n",
    "lineup_df = lineup_df[lineup_cols]\n",
    "lineup_df.head()"
   ]
  },
  {
   "cell_type": "markdown",
   "id": "b4ceaef4",
   "metadata": {},
   "source": [
    "Read kmeans models"
   ]
  },
  {
   "cell_type": "code",
   "execution_count": 12,
   "id": "b17d8617",
   "metadata": {
    "ExecuteTime": {
     "end_time": "2022-06-23T13:25:08.496495Z",
     "start_time": "2022-06-23T13:25:08.490220Z"
    }
   },
   "outputs": [],
   "source": [
    "nba_clustering_models_km = load_pickle('nba_clustering_models_km')\n",
    "pre_pca_pipe = nba_clustering_models_km['pre_pca_pipe']\n",
    "pca = nba_clustering_models_km['pca']\n",
    "pre_cluster_scaler = nba_clustering_models_km['pre_cluster_scaler']\n",
    "cluster_map_km_to_sc = nba_clustering_models_km['cluster_map_to_spectral_clustering']\n",
    "km = nba_clustering_models_km['km']"
   ]
  },
  {
   "cell_type": "code",
   "execution_count": 13,
   "id": "c6229893",
   "metadata": {
    "ExecuteTime": {
     "end_time": "2022-06-23T13:25:08.502169Z",
     "start_time": "2022-06-23T13:25:08.498784Z"
    }
   },
   "outputs": [],
   "source": [
    "cluster_dict_detail = {2: 'Ballhandler (Iso+PnR)', 1: 'Ballhandler (PnR)',\n",
    "                       6: 'Big (Post Up+Roll)', 5: 'Big (Roll+Cut)',\n",
    "                       0: 'Wing (Off Screen)', 4: 'Wing (Hand Off)', \n",
    "                       3: 'Wing (Spot Up+Transition)'}"
   ]
  },
  {
   "cell_type": "markdown",
   "id": "618c1bd9",
   "metadata": {},
   "source": [
    "Read Synergy data"
   ]
  },
  {
   "cell_type": "code",
   "execution_count": 14,
   "id": "1c103850",
   "metadata": {
    "ExecuteTime": {
     "end_time": "2022-06-23T13:25:08.582964Z",
     "start_time": "2022-06-23T13:25:08.504462Z"
    }
   },
   "outputs": [],
   "source": [
    "s_df = pd.read_csv('nba_offense.csv')\n",
    "s_df = s_df[s_df['Season'] != 2016]\n",
    "s_df['Player'] = s_df['Player'].apply(lambda x: ' '.join(x.split(' ')[1:]))\n",
    "s_df['Overall_Poss'] = s_df['Overall_Poss'] - s_df['Miscellaneous_Poss']"
   ]
  },
  {
   "cell_type": "code",
   "execution_count": 15,
   "id": "d2b1919f",
   "metadata": {
    "ExecuteTime": {
     "end_time": "2022-06-23T13:25:08.587981Z",
     "start_time": "2022-06-23T13:25:08.585076Z"
    }
   },
   "outputs": [],
   "source": [
    "poss_weights_cols = ['Spot Up_Poss%', 'P&R Ball Handler_Poss%', \n",
    "                     'Hand Off_Poss%', 'Off Screen_Poss%',\n",
    "                     'Cut_Poss%', 'Offensive Rebounds (put backs)_Poss%',\n",
    "                     'P&R Roll Man_Poss%', 'Isolation_Poss%', \n",
    "                     'Post-Up_Poss%', 'Transition_Poss%'] "
   ]
  },
  {
   "cell_type": "code",
   "execution_count": 16,
   "id": "7689a745",
   "metadata": {
    "ExecuteTime": {
     "end_time": "2022-06-23T13:25:08.603475Z",
     "start_time": "2022-06-23T13:25:08.589992Z"
    }
   },
   "outputs": [],
   "source": [
    "for col in poss_weights_cols:\n",
    "    s_df[col] = s_df[col.replace('%', '')] / s_df['Overall_Poss']\n",
    "    s_df[col] = s_df[col].fillna(0)"
   ]
  },
  {
   "cell_type": "markdown",
   "id": "dbaa6bd1",
   "metadata": {},
   "source": [
    "Synergy functions"
   ]
  },
  {
   "cell_type": "code",
   "execution_count": 17,
   "id": "92952614",
   "metadata": {
    "ExecuteTime": {
     "end_time": "2022-06-23T13:25:08.610942Z",
     "start_time": "2022-06-23T13:25:08.605829Z"
    }
   },
   "outputs": [],
   "source": [
    "def player_lookup(player, df, season=2021, if_ppp_n_rank=False):\n",
    "    pdf = df[(df['Player'] == player) & (df['Season'] == season)]\n",
    "    for idx in pdf.index:\n",
    "        print(player, pdf.loc[idx]['Team'])\n",
    "        print('-')\n",
    "        for col in df.columns:\n",
    "            if 'Poss%' in col and 'Miscellaneous' not in col:\n",
    "                print(col, f'{pdf.loc[idx][col]:.2%}')\n",
    "                if if_ppp_n_rank:\n",
    "                    ppp_col = col.replace('Poss%', 'PPP')\n",
    "                    print(ppp_col, f'{pdf.loc[idx][ppp_col]:.3f}')\n",
    "                    rank_col = col.replace('Poss%', 'Rank')\n",
    "                    print(rank_col, f'{pdf.loc[idx][rank_col]}')\n",
    "                print('-')"
   ]
  },
  {
   "cell_type": "markdown",
   "id": "114e2c57",
   "metadata": {},
   "source": [
    "## Feature Engineering"
   ]
  },
  {
   "cell_type": "markdown",
   "id": "25267092",
   "metadata": {},
   "source": [
    "### Get League/Team Offensive Rating for each Season"
   ]
  },
  {
   "cell_type": "code",
   "execution_count": 18,
   "id": "88551827",
   "metadata": {
    "ExecuteTime": {
     "end_time": "2022-06-23T13:25:08.624313Z",
     "start_time": "2022-06-23T13:25:08.612747Z"
    }
   },
   "outputs": [],
   "source": [
    "tm_lineup_df = lineup_df.copy()\n",
    "tm_lineup_df['off_Pts'] = lineup_df['off_Pts/Poss'] * lineup_df['Poss']"
   ]
  },
  {
   "cell_type": "code",
   "execution_count": 19,
   "id": "3f124fb9",
   "metadata": {
    "ExecuteTime": {
     "end_time": "2022-06-23T13:25:08.644521Z",
     "start_time": "2022-06-23T13:25:08.626569Z"
    }
   },
   "outputs": [
    {
     "data": {
      "text/html": [
       "<div>\n",
       "<style scoped>\n",
       "    .dataframe tbody tr th:only-of-type {\n",
       "        vertical-align: middle;\n",
       "    }\n",
       "\n",
       "    .dataframe tbody tr th {\n",
       "        vertical-align: top;\n",
       "    }\n",
       "\n",
       "    .dataframe thead th {\n",
       "        text-align: right;\n",
       "    }\n",
       "</style>\n",
       "<table border=\"1\" class=\"dataframe\">\n",
       "  <thead>\n",
       "    <tr style=\"text-align: right;\">\n",
       "      <th></th>\n",
       "      <th>season</th>\n",
       "      <th>off_Pts/Poss</th>\n",
       "    </tr>\n",
       "  </thead>\n",
       "  <tbody>\n",
       "    <tr>\n",
       "      <th>0</th>\n",
       "      <td>2017</td>\n",
       "      <td>108.329988</td>\n",
       "    </tr>\n",
       "    <tr>\n",
       "      <th>1</th>\n",
       "      <td>2018</td>\n",
       "      <td>110.480204</td>\n",
       "    </tr>\n",
       "    <tr>\n",
       "      <th>2</th>\n",
       "      <td>2019</td>\n",
       "      <td>110.793898</td>\n",
       "    </tr>\n",
       "    <tr>\n",
       "      <th>3</th>\n",
       "      <td>2020</td>\n",
       "      <td>112.795304</td>\n",
       "    </tr>\n",
       "    <tr>\n",
       "      <th>4</th>\n",
       "      <td>2021</td>\n",
       "      <td>112.255389</td>\n",
       "    </tr>\n",
       "  </tbody>\n",
       "</table>\n",
       "</div>"
      ],
      "text/plain": [
       "   season  off_Pts/Poss\n",
       "0    2017    108.329988\n",
       "1    2018    110.480204\n",
       "2    2019    110.793898\n",
       "3    2020    112.795304\n",
       "4    2021    112.255389"
      ]
     },
     "execution_count": 19,
     "metadata": {},
     "output_type": "execute_result"
    }
   ],
   "source": [
    "season_off_ratings = tm_lineup_df.groupby('season')[['off_Pts', 'Poss']].sum()\n",
    "season_off_ratings['off_Pts/Poss'] = season_off_ratings['off_Pts'] / \\\n",
    "                                     season_off_ratings['Poss']\n",
    "season_off_ratings[['off_Pts/Poss']].reset_index()"
   ]
  },
  {
   "cell_type": "code",
   "execution_count": 20,
   "id": "a939e62a",
   "metadata": {
    "ExecuteTime": {
     "end_time": "2022-06-23T13:25:08.670817Z",
     "start_time": "2022-06-23T13:25:08.646520Z"
    }
   },
   "outputs": [
    {
     "data": {
      "text/html": [
       "<div>\n",
       "<style scoped>\n",
       "    .dataframe tbody tr th:only-of-type {\n",
       "        vertical-align: middle;\n",
       "    }\n",
       "\n",
       "    .dataframe tbody tr th {\n",
       "        vertical-align: top;\n",
       "    }\n",
       "\n",
       "    .dataframe thead th {\n",
       "        text-align: right;\n",
       "    }\n",
       "</style>\n",
       "<table border=\"1\" class=\"dataframe\">\n",
       "  <thead>\n",
       "    <tr style=\"text-align: right;\">\n",
       "      <th></th>\n",
       "      <th>team</th>\n",
       "      <th>season</th>\n",
       "      <th>tm_off_Pts/Poss</th>\n",
       "    </tr>\n",
       "  </thead>\n",
       "  <tbody>\n",
       "    <tr>\n",
       "      <th>0</th>\n",
       "      <td>Atlanta Hawks</td>\n",
       "      <td>2017</td>\n",
       "      <td>104.452049</td>\n",
       "    </tr>\n",
       "    <tr>\n",
       "      <th>1</th>\n",
       "      <td>Atlanta Hawks</td>\n",
       "      <td>2018</td>\n",
       "      <td>107.673913</td>\n",
       "    </tr>\n",
       "    <tr>\n",
       "      <th>2</th>\n",
       "      <td>Atlanta Hawks</td>\n",
       "      <td>2019</td>\n",
       "      <td>107.546858</td>\n",
       "    </tr>\n",
       "    <tr>\n",
       "      <th>3</th>\n",
       "      <td>Atlanta Hawks</td>\n",
       "      <td>2020</td>\n",
       "      <td>115.375155</td>\n",
       "    </tr>\n",
       "    <tr>\n",
       "      <th>4</th>\n",
       "      <td>Atlanta Hawks</td>\n",
       "      <td>2021</td>\n",
       "      <td>116.125381</td>\n",
       "    </tr>\n",
       "    <tr>\n",
       "      <th>...</th>\n",
       "      <td>...</td>\n",
       "      <td>...</td>\n",
       "      <td>...</td>\n",
       "    </tr>\n",
       "    <tr>\n",
       "      <th>145</th>\n",
       "      <td>Washington Wizards</td>\n",
       "      <td>2017</td>\n",
       "      <td>108.547292</td>\n",
       "    </tr>\n",
       "    <tr>\n",
       "      <th>146</th>\n",
       "      <td>Washington Wizards</td>\n",
       "      <td>2018</td>\n",
       "      <td>110.997148</td>\n",
       "    </tr>\n",
       "    <tr>\n",
       "      <th>147</th>\n",
       "      <td>Washington Wizards</td>\n",
       "      <td>2019</td>\n",
       "      <td>110.553583</td>\n",
       "    </tr>\n",
       "    <tr>\n",
       "      <th>148</th>\n",
       "      <td>Washington Wizards</td>\n",
       "      <td>2020</td>\n",
       "      <td>111.587056</td>\n",
       "    </tr>\n",
       "    <tr>\n",
       "      <th>149</th>\n",
       "      <td>Washington Wizards</td>\n",
       "      <td>2021</td>\n",
       "      <td>110.846772</td>\n",
       "    </tr>\n",
       "  </tbody>\n",
       "</table>\n",
       "<p>150 rows × 3 columns</p>\n",
       "</div>"
      ],
      "text/plain": [
       "                   team  season  tm_off_Pts/Poss\n",
       "0         Atlanta Hawks    2017       104.452049\n",
       "1         Atlanta Hawks    2018       107.673913\n",
       "2         Atlanta Hawks    2019       107.546858\n",
       "3         Atlanta Hawks    2020       115.375155\n",
       "4         Atlanta Hawks    2021       116.125381\n",
       "..                  ...     ...              ...\n",
       "145  Washington Wizards    2017       108.547292\n",
       "146  Washington Wizards    2018       110.997148\n",
       "147  Washington Wizards    2019       110.553583\n",
       "148  Washington Wizards    2020       111.587056\n",
       "149  Washington Wizards    2021       110.846772\n",
       "\n",
       "[150 rows x 3 columns]"
      ]
     },
     "execution_count": 20,
     "metadata": {},
     "output_type": "execute_result"
    }
   ],
   "source": [
    "tm_off_ratings = tm_lineup_df.groupby(['team', 'season'])[['off_Pts', 'Poss']].sum()\n",
    "tm_off_ratings['off_Pts/Poss'] = tm_off_ratings['off_Pts'] / tm_off_ratings['Poss']\n",
    "tm_off_ratings = tm_off_ratings[['off_Pts/Poss']].reset_index()\\\n",
    "                                                 .rename(columns={'off_Pts/Poss': 'tm_off_Pts/Poss'})\n",
    "tm_off_ratings"
   ]
  },
  {
   "cell_type": "markdown",
   "id": "813a7d7a",
   "metadata": {},
   "source": [
    "### Merge"
   ]
  },
  {
   "cell_type": "markdown",
   "id": "6d63dc89",
   "metadata": {},
   "source": [
    "### Step 1: Find out who did not have a cluster tag"
   ]
  },
  {
   "cell_type": "code",
   "execution_count": 21,
   "id": "55465267",
   "metadata": {
    "ExecuteTime": {
     "end_time": "2022-06-23T13:25:08.679353Z",
     "start_time": "2022-06-23T13:25:08.673004Z"
    }
   },
   "outputs": [],
   "source": [
    "synergy_name_dict = {'kevinporterjr': 'kevinporter',\n",
    "                     'patrickbeverly': 'patrickbeverley',\n",
    "                     'terryrozieriii': 'terryrozier',\n",
    "                     'kellyoubrejr': 'kellyoubre',\n",
    "                     'lonniewalkeriv': 'lonniewalker',\n",
    "                     'ottoporterjr': 'ottoporter',\n",
    "                     'robertwilliamsiii': 'robertwilliams',\n",
    "                     'wendellcarterjr': 'wendellcarter',\n",
    "                     'alfarouqaminu': 'al-farouqaminu',\n",
    "                     'jarenjacksonjr': 'jarenjackson',\n",
    "                     'marvinbagleyiii': 'marvinbagley',\n",
    "                     'marcusmorrissr': 'marcusmorris',\n",
    "                     'wesleyiwundu': 'wesiwundu',\n",
    "                     'troybrownjr': 'troybrown',\n",
    "                     'larrynance': 'larrynancejr',\n",
    "                     'michaelporterjr': 'michaelporter',\n",
    "                     'kevinknoxii': 'kevinknox',\n",
    "                     'jamesennisiii': 'jamesennis',\n",
    "                     'danilogalinari': 'danilogallinari',\n",
    "                     'danuelhousejr': 'danuelhouse',\n",
    "                     'svimykhailiuk': 'sviatoslavmykhailiuk',\n",
    "                     'timothéluwawu-cabarrot': 'timotheluwawu-cabarrot',\n",
    "                     'duanewashingtonjr': 'duanewashington',\n",
    "                     'juanchohernangomez': 'juanhernangomez',\n",
    "                     'harrygilesiii': 'harrygiles',\n",
    "                     'malcomdelaney': 'malcolmdelaney'}"
   ]
  },
  {
   "cell_type": "code",
   "execution_count": 22,
   "id": "87bc5239",
   "metadata": {
    "ExecuteTime": {
     "end_time": "2022-06-23T13:25:08.698692Z",
     "start_time": "2022-06-23T13:25:08.682367Z"
    }
   },
   "outputs": [
    {
     "data": {
      "text/html": [
       "<div>\n",
       "<style scoped>\n",
       "    .dataframe tbody tr th:only-of-type {\n",
       "        vertical-align: middle;\n",
       "    }\n",
       "\n",
       "    .dataframe tbody tr th {\n",
       "        vertical-align: top;\n",
       "    }\n",
       "\n",
       "    .dataframe thead th {\n",
       "        text-align: right;\n",
       "    }\n",
       "</style>\n",
       "<table border=\"1\" class=\"dataframe\">\n",
       "  <thead>\n",
       "    <tr style=\"text-align: right;\">\n",
       "      <th></th>\n",
       "      <th>season</th>\n",
       "      <th>team</th>\n",
       "      <th>player_cluster</th>\n",
       "      <th>player_alt</th>\n",
       "    </tr>\n",
       "  </thead>\n",
       "  <tbody>\n",
       "    <tr>\n",
       "      <th>0</th>\n",
       "      <td>2017</td>\n",
       "      <td>Memphis Grizzlies</td>\n",
       "      <td>6</td>\n",
       "      <td>marcgasol</td>\n",
       "    </tr>\n",
       "    <tr>\n",
       "      <th>1</th>\n",
       "      <td>2017</td>\n",
       "      <td>Memphis Grizzlies</td>\n",
       "      <td>2</td>\n",
       "      <td>tyrekeevans</td>\n",
       "    </tr>\n",
       "    <tr>\n",
       "      <th>2</th>\n",
       "      <td>2017</td>\n",
       "      <td>Memphis Grizzlies</td>\n",
       "      <td>1</td>\n",
       "      <td>dillonbrooks</td>\n",
       "    </tr>\n",
       "    <tr>\n",
       "      <th>3</th>\n",
       "      <td>2017</td>\n",
       "      <td>Memphis Grizzlies</td>\n",
       "      <td>3</td>\n",
       "      <td>jarellmartin</td>\n",
       "    </tr>\n",
       "    <tr>\n",
       "      <th>4</th>\n",
       "      <td>2017</td>\n",
       "      <td>Memphis Grizzlies</td>\n",
       "      <td>1</td>\n",
       "      <td>mariochalmers</td>\n",
       "    </tr>\n",
       "  </tbody>\n",
       "</table>\n",
       "</div>"
      ],
      "text/plain": [
       "   season               team  player_cluster     player_alt\n",
       "0    2017  Memphis Grizzlies               6      marcgasol\n",
       "1    2017  Memphis Grizzlies               2    tyrekeevans\n",
       "2    2017  Memphis Grizzlies               1   dillonbrooks\n",
       "3    2017  Memphis Grizzlies               3   jarellmartin\n",
       "4    2017  Memphis Grizzlies               1  mariochalmers"
      ]
     },
     "execution_count": 22,
     "metadata": {},
     "output_type": "execute_result"
    }
   ],
   "source": [
    "label_df['player_alt'] = label_df['Player'].apply(lambda x: x.replace(' ', '').lower())\\\n",
    "                                           .apply(lambda x: x.replace(\"'\", ''))\\\n",
    "                                           .apply(lambda x: x.replace('.', ''))\\\n",
    "                                           .apply(lambda x: synergy_name_dict[x] \n",
    "                                                  if x in synergy_name_dict.keys()\n",
    "                                                  else x)\n",
    "label_df = label_df.drop('Player', axis=1)\n",
    "label_df.head()"
   ]
  },
  {
   "cell_type": "markdown",
   "id": "2c45a581",
   "metadata": {},
   "source": [
    "Adjust name in the lineup data."
   ]
  },
  {
   "cell_type": "code",
   "execution_count": 23,
   "id": "ff066294",
   "metadata": {
    "ExecuteTime": {
     "end_time": "2022-06-23T13:25:09.039035Z",
     "start_time": "2022-06-23T13:25:08.700816Z"
    }
   },
   "outputs": [
    {
     "data": {
      "text/html": [
       "<div>\n",
       "<style scoped>\n",
       "    .dataframe tbody tr th:only-of-type {\n",
       "        vertical-align: middle;\n",
       "    }\n",
       "\n",
       "    .dataframe tbody tr th {\n",
       "        vertical-align: top;\n",
       "    }\n",
       "\n",
       "    .dataframe thead th {\n",
       "        text-align: right;\n",
       "    }\n",
       "</style>\n",
       "<table border=\"1\" class=\"dataframe\">\n",
       "  <thead>\n",
       "    <tr style=\"text-align: right;\">\n",
       "      <th></th>\n",
       "      <th>PG</th>\n",
       "      <th>SG</th>\n",
       "      <th>SF</th>\n",
       "      <th>PF</th>\n",
       "      <th>C</th>\n",
       "      <th>season</th>\n",
       "      <th>team</th>\n",
       "      <th>Poss</th>\n",
       "      <th>off_Pts/Poss_rank</th>\n",
       "      <th>off_Pts/Poss</th>\n",
       "      <th>off_eFG%_rank</th>\n",
       "      <th>off_eFG%</th>\n",
       "      <th>off_TOV%_rank</th>\n",
       "      <th>off_TOV%</th>\n",
       "      <th>off_OREB%_rank</th>\n",
       "      <th>off_OREB%</th>\n",
       "      <th>off_FTr_rank</th>\n",
       "      <th>off_FTr</th>\n",
       "      <th>PG_alt</th>\n",
       "      <th>SG_alt</th>\n",
       "      <th>SF_alt</th>\n",
       "      <th>PF_alt</th>\n",
       "      <th>C_alt</th>\n",
       "    </tr>\n",
       "  </thead>\n",
       "  <tbody>\n",
       "    <tr>\n",
       "      <th>0</th>\n",
       "      <td>Dennis Schroder</td>\n",
       "      <td>Kent Bazemore</td>\n",
       "      <td>Taurean Prince</td>\n",
       "      <td>Ersan Ilyasova</td>\n",
       "      <td>Miles Plumlee</td>\n",
       "      <td>2017</td>\n",
       "      <td>Atlanta Hawks</td>\n",
       "      <td>733</td>\n",
       "      <td>18.0</td>\n",
       "      <td>99.9</td>\n",
       "      <td>41.0</td>\n",
       "      <td>51.5%</td>\n",
       "      <td>12.0</td>\n",
       "      <td>17.7%</td>\n",
       "      <td>59.0</td>\n",
       "      <td>25.9%</td>\n",
       "      <td>37.0</td>\n",
       "      <td>15.0</td>\n",
       "      <td>dennisschroder</td>\n",
       "      <td>kentbazemore</td>\n",
       "      <td>taureanprince</td>\n",
       "      <td>ersanilyasova</td>\n",
       "      <td>milesplumlee</td>\n",
       "    </tr>\n",
       "    <tr>\n",
       "      <th>1</th>\n",
       "      <td>Dennis Schroder</td>\n",
       "      <td>Kent Bazemore</td>\n",
       "      <td>Taurean Prince</td>\n",
       "      <td>John Collins</td>\n",
       "      <td>Dewayne Dedmon</td>\n",
       "      <td>2017</td>\n",
       "      <td>Atlanta Hawks</td>\n",
       "      <td>245</td>\n",
       "      <td>66.0</td>\n",
       "      <td>112.7</td>\n",
       "      <td>81.0</td>\n",
       "      <td>57.9%</td>\n",
       "      <td>15.0</td>\n",
       "      <td>17.1%</td>\n",
       "      <td>37.0</td>\n",
       "      <td>23.1%</td>\n",
       "      <td>41.0</td>\n",
       "      <td>15.7</td>\n",
       "      <td>dennisschroder</td>\n",
       "      <td>kentbazemore</td>\n",
       "      <td>taureanprince</td>\n",
       "      <td>johncollins</td>\n",
       "      <td>dewaynededmon</td>\n",
       "    </tr>\n",
       "    <tr>\n",
       "      <th>2</th>\n",
       "      <td>Dennis Schroder</td>\n",
       "      <td>Kent Bazemore</td>\n",
       "      <td>Taurean Prince</td>\n",
       "      <td>Ersan Ilyasova</td>\n",
       "      <td>Dewayne Dedmon</td>\n",
       "      <td>2017</td>\n",
       "      <td>Atlanta Hawks</td>\n",
       "      <td>193</td>\n",
       "      <td>22.0</td>\n",
       "      <td>101.0</td>\n",
       "      <td>18.0</td>\n",
       "      <td>48.8%</td>\n",
       "      <td>78.0</td>\n",
       "      <td>12.4%</td>\n",
       "      <td>22.0</td>\n",
       "      <td>20.4%</td>\n",
       "      <td>73.0</td>\n",
       "      <td>22.1</td>\n",
       "      <td>dennisschroder</td>\n",
       "      <td>kentbazemore</td>\n",
       "      <td>taureanprince</td>\n",
       "      <td>ersanilyasova</td>\n",
       "      <td>dewaynededmon</td>\n",
       "    </tr>\n",
       "    <tr>\n",
       "      <th>3</th>\n",
       "      <td>Dennis Schroder</td>\n",
       "      <td>Kent Bazemore</td>\n",
       "      <td>Taurean Prince</td>\n",
       "      <td>Luke Babbitt</td>\n",
       "      <td>Dewayne Dedmon</td>\n",
       "      <td>2017</td>\n",
       "      <td>Atlanta Hawks</td>\n",
       "      <td>142</td>\n",
       "      <td>62.0</td>\n",
       "      <td>112.0</td>\n",
       "      <td>91.0</td>\n",
       "      <td>59.7%</td>\n",
       "      <td>7.0</td>\n",
       "      <td>19.0%</td>\n",
       "      <td>44.0</td>\n",
       "      <td>23.8%</td>\n",
       "      <td>5.0</td>\n",
       "      <td>8.9</td>\n",
       "      <td>dennisschroder</td>\n",
       "      <td>kentbazemore</td>\n",
       "      <td>taureanprince</td>\n",
       "      <td>lukebabbitt</td>\n",
       "      <td>dewaynededmon</td>\n",
       "    </tr>\n",
       "    <tr>\n",
       "      <th>4</th>\n",
       "      <td>Isaiah Taylor</td>\n",
       "      <td>Taurean Prince</td>\n",
       "      <td>Damion Lee</td>\n",
       "      <td>John Collins</td>\n",
       "      <td>Dewayne Dedmon</td>\n",
       "      <td>2017</td>\n",
       "      <td>Atlanta Hawks</td>\n",
       "      <td>140</td>\n",
       "      <td>36.0</td>\n",
       "      <td>105.7</td>\n",
       "      <td>41.0</td>\n",
       "      <td>51.5%</td>\n",
       "      <td>62.0</td>\n",
       "      <td>13.6%</td>\n",
       "      <td>36.0</td>\n",
       "      <td>23.1%</td>\n",
       "      <td>4.0</td>\n",
       "      <td>8.3</td>\n",
       "      <td>isaiahtaylor</td>\n",
       "      <td>taureanprince</td>\n",
       "      <td>damionlee</td>\n",
       "      <td>johncollins</td>\n",
       "      <td>dewaynededmon</td>\n",
       "    </tr>\n",
       "  </tbody>\n",
       "</table>\n",
       "</div>"
      ],
      "text/plain": [
       "                PG              SG              SF              PF  \\\n",
       "0  Dennis Schroder   Kent Bazemore  Taurean Prince  Ersan Ilyasova   \n",
       "1  Dennis Schroder   Kent Bazemore  Taurean Prince    John Collins   \n",
       "2  Dennis Schroder   Kent Bazemore  Taurean Prince  Ersan Ilyasova   \n",
       "3  Dennis Schroder   Kent Bazemore  Taurean Prince    Luke Babbitt   \n",
       "4    Isaiah Taylor  Taurean Prince      Damion Lee    John Collins   \n",
       "\n",
       "                C  season           team  Poss  off_Pts/Poss_rank  \\\n",
       "0   Miles Plumlee    2017  Atlanta Hawks   733               18.0   \n",
       "1  Dewayne Dedmon    2017  Atlanta Hawks   245               66.0   \n",
       "2  Dewayne Dedmon    2017  Atlanta Hawks   193               22.0   \n",
       "3  Dewayne Dedmon    2017  Atlanta Hawks   142               62.0   \n",
       "4  Dewayne Dedmon    2017  Atlanta Hawks   140               36.0   \n",
       "\n",
       "   off_Pts/Poss  off_eFG%_rank off_eFG%  off_TOV%_rank off_TOV%  \\\n",
       "0          99.9           41.0    51.5%           12.0    17.7%   \n",
       "1         112.7           81.0    57.9%           15.0    17.1%   \n",
       "2         101.0           18.0    48.8%           78.0    12.4%   \n",
       "3         112.0           91.0    59.7%            7.0    19.0%   \n",
       "4         105.7           41.0    51.5%           62.0    13.6%   \n",
       "\n",
       "   off_OREB%_rank off_OREB%  off_FTr_rank  off_FTr          PG_alt  \\\n",
       "0            59.0     25.9%          37.0     15.0  dennisschroder   \n",
       "1            37.0     23.1%          41.0     15.7  dennisschroder   \n",
       "2            22.0     20.4%          73.0     22.1  dennisschroder   \n",
       "3            44.0     23.8%           5.0      8.9  dennisschroder   \n",
       "4            36.0     23.1%           4.0      8.3    isaiahtaylor   \n",
       "\n",
       "          SG_alt         SF_alt         PF_alt          C_alt  \n",
       "0   kentbazemore  taureanprince  ersanilyasova   milesplumlee  \n",
       "1   kentbazemore  taureanprince    johncollins  dewaynededmon  \n",
       "2   kentbazemore  taureanprince  ersanilyasova  dewaynededmon  \n",
       "3   kentbazemore  taureanprince    lukebabbitt  dewaynededmon  \n",
       "4  taureanprince      damionlee    johncollins  dewaynededmon  "
      ]
     },
     "execution_count": 23,
     "metadata": {},
     "output_type": "execute_result"
    }
   ],
   "source": [
    "positions = ['PG', 'SG', 'SF', 'PF', 'C']\n",
    "for pos in positions:\n",
    "    lineup_df[f'{pos}_alt'] = lineup_df[pos].apply(lambda x: x.replace(' ', ''))\\\n",
    "                                            .apply(lambda x: x.replace(\"'\", ''))\\\n",
    "                                            .apply(lambda x: x.replace('.', ''))\\\n",
    "                                            .apply(lambda x: x.lower())\n",
    "lineup_df.head()"
   ]
  },
  {
   "cell_type": "markdown",
   "id": "26df32d2",
   "metadata": {},
   "source": [
    "First attempt to assign cluster label to lineup data.  \n",
    "The expectation is, there will be some `nan` (missing players) after the merge."
   ]
  },
  {
   "cell_type": "code",
   "execution_count": 24,
   "id": "96ffe3a6",
   "metadata": {
    "ExecuteTime": {
     "end_time": "2022-06-23T13:25:09.346732Z",
     "start_time": "2022-06-23T13:25:09.041254Z"
    }
   },
   "outputs": [],
   "source": [
    "temp = lineup_df.copy()\n",
    "for pos in positions:\n",
    "    temp = temp.merge(label_df.rename(columns={'player_alt': f'{pos}_alt'}), \n",
    "                      how='left')\\\n",
    "               .rename(columns={'player_cluster': f'{pos}_cluster'})"
   ]
  },
  {
   "cell_type": "markdown",
   "id": "ae927679",
   "metadata": {},
   "source": [
    "Find missing players that appear in lineups that logged 100 possessions."
   ]
  },
  {
   "cell_type": "code",
   "execution_count": 25,
   "id": "a96d151a",
   "metadata": {
    "ExecuteTime": {
     "end_time": "2022-06-23T13:25:09.418427Z",
     "start_time": "2022-06-23T13:25:09.348829Z"
    }
   },
   "outputs": [
    {
     "data": {
      "text/html": [
       "<div>\n",
       "<style scoped>\n",
       "    .dataframe tbody tr th:only-of-type {\n",
       "        vertical-align: middle;\n",
       "    }\n",
       "\n",
       "    .dataframe tbody tr th {\n",
       "        vertical-align: top;\n",
       "    }\n",
       "\n",
       "    .dataframe thead th {\n",
       "        text-align: right;\n",
       "    }\n",
       "</style>\n",
       "<table border=\"1\" class=\"dataframe\">\n",
       "  <thead>\n",
       "    <tr style=\"text-align: right;\">\n",
       "      <th></th>\n",
       "      <th>season</th>\n",
       "      <th>team</th>\n",
       "      <th>player</th>\n",
       "      <th>player_alt</th>\n",
       "    </tr>\n",
       "  </thead>\n",
       "  <tbody>\n",
       "    <tr>\n",
       "      <th>0</th>\n",
       "      <td>2017</td>\n",
       "      <td>Oklahoma City Thunder</td>\n",
       "      <td>Andre Roberson</td>\n",
       "      <td>andreroberson</td>\n",
       "    </tr>\n",
       "    <tr>\n",
       "      <th>1</th>\n",
       "      <td>2017</td>\n",
       "      <td>Oklahoma City Thunder</td>\n",
       "      <td>Corey Brewer</td>\n",
       "      <td>coreybrewer</td>\n",
       "    </tr>\n",
       "    <tr>\n",
       "      <th>2</th>\n",
       "      <td>2020</td>\n",
       "      <td>Denver Nuggets</td>\n",
       "      <td>Gary Harris</td>\n",
       "      <td>garyharris</td>\n",
       "    </tr>\n",
       "    <tr>\n",
       "      <th>3</th>\n",
       "      <td>2017</td>\n",
       "      <td>Oklahoma City Thunder</td>\n",
       "      <td>Terrance Ferguson</td>\n",
       "      <td>terranceferguson</td>\n",
       "    </tr>\n",
       "    <tr>\n",
       "      <th>4</th>\n",
       "      <td>2019</td>\n",
       "      <td>Portland Trail Blazers</td>\n",
       "      <td>Trevor Ariza</td>\n",
       "      <td>trevorariza</td>\n",
       "    </tr>\n",
       "    <tr>\n",
       "      <th>...</th>\n",
       "      <td>...</td>\n",
       "      <td>...</td>\n",
       "      <td>...</td>\n",
       "      <td>...</td>\n",
       "    </tr>\n",
       "    <tr>\n",
       "      <th>174</th>\n",
       "      <td>2020</td>\n",
       "      <td>Minnesota Timberwolves</td>\n",
       "      <td>Ed Davis</td>\n",
       "      <td>eddavis</td>\n",
       "    </tr>\n",
       "    <tr>\n",
       "      <th>175</th>\n",
       "      <td>2020</td>\n",
       "      <td>New York Knicks</td>\n",
       "      <td>Austin Rivers</td>\n",
       "      <td>austinrivers</td>\n",
       "    </tr>\n",
       "    <tr>\n",
       "      <th>176</th>\n",
       "      <td>2021</td>\n",
       "      <td>Brooklyn Nets</td>\n",
       "      <td>Day'Ron Sharpe</td>\n",
       "      <td>dayronsharpe</td>\n",
       "    </tr>\n",
       "    <tr>\n",
       "      <th>177</th>\n",
       "      <td>2019</td>\n",
       "      <td>Orlando Magic</td>\n",
       "      <td>Al-Farouq Aminu</td>\n",
       "      <td>al-farouqaminu</td>\n",
       "    </tr>\n",
       "    <tr>\n",
       "      <th>178</th>\n",
       "      <td>2020</td>\n",
       "      <td>Indiana Pacers</td>\n",
       "      <td>JaKarr Sampson</td>\n",
       "      <td>jakarrsampson</td>\n",
       "    </tr>\n",
       "  </tbody>\n",
       "</table>\n",
       "<p>179 rows × 4 columns</p>\n",
       "</div>"
      ],
      "text/plain": [
       "     season                    team             player        player_alt\n",
       "0      2017   Oklahoma City Thunder     Andre Roberson     andreroberson\n",
       "1      2017   Oklahoma City Thunder       Corey Brewer       coreybrewer\n",
       "2      2020          Denver Nuggets        Gary Harris        garyharris\n",
       "3      2017   Oklahoma City Thunder  Terrance Ferguson  terranceferguson\n",
       "4      2019  Portland Trail Blazers       Trevor Ariza       trevorariza\n",
       "..      ...                     ...                ...               ...\n",
       "174    2020  Minnesota Timberwolves           Ed Davis           eddavis\n",
       "175    2020         New York Knicks      Austin Rivers      austinrivers\n",
       "176    2021           Brooklyn Nets     Day'Ron Sharpe      dayronsharpe\n",
       "177    2019           Orlando Magic    Al-Farouq Aminu    al-farouqaminu\n",
       "178    2020          Indiana Pacers     JaKarr Sampson     jakarrsampson\n",
       "\n",
       "[179 rows x 4 columns]"
      ]
     },
     "execution_count": 25,
     "metadata": {},
     "output_type": "execute_result"
    }
   ],
   "source": [
    "rows_missing = pd.concat([temp[(temp[f'{pos}_cluster'].isna()) & \n",
    "                               (temp['Poss'] >= 100)]\n",
    "                          for pos in positions])\\\n",
    "                 .drop_duplicates()\\\n",
    "                 .sort_values('Poss', ascending=False)\n",
    "\n",
    "missing_players_data = []\n",
    "for idx in rows_missing.index:\n",
    "    row = rows_missing.loc[idx]\n",
    "    for pos in positions:\n",
    "        if row[f'{pos}_cluster'] not in [0, 1, 2, 3, 4, 5, 6]:\n",
    "            missing_players_data.append([row['season'], \n",
    "                                         row['team'],\n",
    "                                         row[pos],\n",
    "                                         row[f'{pos}_alt']])\n",
    "\n",
    "missing_players_df = pd.DataFrame(missing_players_data,\n",
    "                                  columns=['season', 'team', 'player', 'player_alt'])\\\n",
    "                       .drop_duplicates().reset_index(drop=True)\n",
    "missing_players_df"
   ]
  },
  {
   "cell_type": "markdown",
   "id": "688c599c",
   "metadata": {},
   "source": [
    "Find out how many players are missing."
   ]
  },
  {
   "cell_type": "code",
   "execution_count": 26,
   "id": "4a44a1ec",
   "metadata": {
    "ExecuteTime": {
     "end_time": "2022-06-23T13:25:09.429358Z",
     "start_time": "2022-06-23T13:25:09.425679Z"
    }
   },
   "outputs": [
    {
     "data": {
      "text/plain": [
       "(179, 4)"
      ]
     },
     "execution_count": 26,
     "metadata": {},
     "output_type": "execute_result"
    }
   ],
   "source": [
    "missing_players_df.shape"
   ]
  },
  {
   "cell_type": "code",
   "execution_count": 27,
   "id": "079d47a2",
   "metadata": {
    "ExecuteTime": {
     "end_time": "2022-06-23T13:25:09.439333Z",
     "start_time": "2022-06-23T13:25:09.431587Z"
    }
   },
   "outputs": [],
   "source": [
    "s_df['player_alt'] = s_df['Player'].apply(lambda x: x.replace(' ', '').lower())\\\n",
    "                                   .apply(lambda x: x.replace(\"'\", ''))\\\n",
    "                                   .apply(lambda x: x.replace('.', ''))\\\n",
    "                                   .apply(lambda x: synergy_name_dict[x] \n",
    "                                          if x in synergy_name_dict.keys()\n",
    "                                          else x)"
   ]
  },
  {
   "cell_type": "markdown",
   "id": "21a19793",
   "metadata": {},
   "source": [
    "Merge Synergy records to missing players."
   ]
  },
  {
   "cell_type": "code",
   "execution_count": 28,
   "id": "d28be167",
   "metadata": {
    "ExecuteTime": {
     "end_time": "2022-06-23T13:25:09.456152Z",
     "start_time": "2022-06-23T13:25:09.441670Z"
    }
   },
   "outputs": [],
   "source": [
    "missing_players_df = missing_players_df.merge(s_df,\n",
    "                                              left_on=['team', 'season', 'player_alt'],\n",
    "                                              right_on=['Team', 'Season', 'player_alt'],\n",
    "                                              how='left')"
   ]
  },
  {
   "cell_type": "markdown",
   "id": "7b128ea3",
   "metadata": {
    "ExecuteTime": {
     "end_time": "2022-06-22T11:04:09.352336Z",
     "start_time": "2022-06-22T11:04:09.347994Z"
    }
   },
   "source": [
    "Make sure that we find all the Synergy data for the missing players."
   ]
  },
  {
   "cell_type": "code",
   "execution_count": 29,
   "id": "164b910d",
   "metadata": {
    "ExecuteTime": {
     "end_time": "2022-06-23T13:25:09.469164Z",
     "start_time": "2022-06-23T13:25:09.459416Z"
    }
   },
   "outputs": [
    {
     "data": {
      "text/html": [
       "<div>\n",
       "<style scoped>\n",
       "    .dataframe tbody tr th:only-of-type {\n",
       "        vertical-align: middle;\n",
       "    }\n",
       "\n",
       "    .dataframe tbody tr th {\n",
       "        vertical-align: top;\n",
       "    }\n",
       "\n",
       "    .dataframe thead th {\n",
       "        text-align: right;\n",
       "    }\n",
       "</style>\n",
       "<table border=\"1\" class=\"dataframe\">\n",
       "  <thead>\n",
       "    <tr style=\"text-align: right;\">\n",
       "      <th></th>\n",
       "      <th>Player</th>\n",
       "      <th>Team</th>\n",
       "      <th>Season</th>\n",
       "      <th>Overall_Poss</th>\n",
       "    </tr>\n",
       "  </thead>\n",
       "  <tbody>\n",
       "  </tbody>\n",
       "</table>\n",
       "</div>"
      ],
      "text/plain": [
       "Empty DataFrame\n",
       "Columns: [Player, Team, Season, Overall_Poss]\n",
       "Index: []"
      ]
     },
     "execution_count": 29,
     "metadata": {},
     "output_type": "execute_result"
    }
   ],
   "source": [
    "missing_players_df[missing_players_df['Overall_Poss'].isna()]\\\n",
    "[['Player', 'Team', 'Season', 'Overall_Poss']]"
   ]
  },
  {
   "cell_type": "markdown",
   "id": "384c3c03",
   "metadata": {},
   "source": [
    "### Step 2: Create cluster tags for those who don't have one"
   ]
  },
  {
   "cell_type": "markdown",
   "id": "4b5b64d4",
   "metadata": {},
   "source": [
    "Assign player clusters using previously-trained model."
   ]
  },
  {
   "cell_type": "code",
   "execution_count": 30,
   "id": "9ef7a637",
   "metadata": {
    "ExecuteTime": {
     "end_time": "2022-06-23T13:25:09.524959Z",
     "start_time": "2022-06-23T13:25:09.471197Z"
    }
   },
   "outputs": [],
   "source": [
    "X = missing_players_df[poss_weights_cols].copy()\n",
    "X_transformed = pre_cluster_scaler.transform(pca.transform(pre_pca_pipe.transform(X)))\n",
    "missing_players_df['player_cluster'] = km.predict(X_transformed)\n",
    "missing_players_df['player_cluster'] = missing_players_df['player_cluster'].map(cluster_map_km_to_sc)"
   ]
  },
  {
   "cell_type": "markdown",
   "id": "a4974a92",
   "metadata": {},
   "source": [
    "Check players got assigned to cluster 2 or 6, which are relatively primary role."
   ]
  },
  {
   "cell_type": "code",
   "execution_count": 31,
   "id": "a8e863e4",
   "metadata": {
    "ExecuteTime": {
     "end_time": "2022-06-23T13:25:09.535434Z",
     "start_time": "2022-06-23T13:25:09.528236Z"
    }
   },
   "outputs": [
    {
     "data": {
      "text/plain": [
       "{2: 'Ballhandler (Iso+PnR)',\n",
       " 1: 'Ballhandler (PnR)',\n",
       " 6: 'Big (Post Up+Roll)',\n",
       " 5: 'Big (Roll+Cut)',\n",
       " 0: 'Wing (Off Screen)',\n",
       " 4: 'Wing (Hand Off)',\n",
       " 3: 'Wing (Spot Up+Transition)'}"
      ]
     },
     "execution_count": 31,
     "metadata": {},
     "output_type": "execute_result"
    }
   ],
   "source": [
    "cluster_dict_detail"
   ]
  },
  {
   "cell_type": "code",
   "execution_count": 32,
   "id": "e6d67b2f",
   "metadata": {
    "ExecuteTime": {
     "end_time": "2022-06-23T13:25:09.548548Z",
     "start_time": "2022-06-23T13:25:09.538461Z"
    }
   },
   "outputs": [
    {
     "data": {
      "text/plain": [
       "player_cluster\n",
       "0     4\n",
       "1     4\n",
       "2     1\n",
       "3     8\n",
       "4     3\n",
       "5    11\n",
       "6     4\n",
       "Name: player, dtype: int64"
      ]
     },
     "execution_count": 32,
     "metadata": {},
     "output_type": "execute_result"
    }
   ],
   "source": [
    "missing_players_df[missing_players_df['Overall_Poss'] < 100]\\\n",
    ".groupby('player_cluster')['player'].count()"
   ]
  },
  {
   "cell_type": "code",
   "execution_count": 33,
   "id": "f9a23676",
   "metadata": {
    "ExecuteTime": {
     "end_time": "2022-06-23T13:25:09.572512Z",
     "start_time": "2022-06-23T13:25:09.552820Z"
    }
   },
   "outputs": [
    {
     "data": {
      "text/html": [
       "<div>\n",
       "<style scoped>\n",
       "    .dataframe tbody tr th:only-of-type {\n",
       "        vertical-align: middle;\n",
       "    }\n",
       "\n",
       "    .dataframe tbody tr th {\n",
       "        vertical-align: top;\n",
       "    }\n",
       "\n",
       "    .dataframe thead th {\n",
       "        text-align: right;\n",
       "    }\n",
       "</style>\n",
       "<table border=\"1\" class=\"dataframe\">\n",
       "  <thead>\n",
       "    <tr style=\"text-align: right;\">\n",
       "      <th></th>\n",
       "      <th>Player</th>\n",
       "      <th>Team</th>\n",
       "      <th>Season</th>\n",
       "      <th>Overall_Poss</th>\n",
       "      <th>player_cluster</th>\n",
       "    </tr>\n",
       "  </thead>\n",
       "  <tbody>\n",
       "    <tr>\n",
       "      <th>153</th>\n",
       "      <td>Dakari Johnson</td>\n",
       "      <td>Oklahoma City Thunder</td>\n",
       "      <td>2017</td>\n",
       "      <td>47.0</td>\n",
       "      <td>6</td>\n",
       "    </tr>\n",
       "    <tr>\n",
       "      <th>59</th>\n",
       "      <td>Iman Shumpert</td>\n",
       "      <td>Cleveland Cavaliers</td>\n",
       "      <td>2017</td>\n",
       "      <td>75.0</td>\n",
       "      <td>2</td>\n",
       "    </tr>\n",
       "    <tr>\n",
       "      <th>91</th>\n",
       "      <td>Frank Kaminsky</td>\n",
       "      <td>Phoenix Suns</td>\n",
       "      <td>2021</td>\n",
       "      <td>77.0</td>\n",
       "      <td>6</td>\n",
       "    </tr>\n",
       "    <tr>\n",
       "      <th>53</th>\n",
       "      <td>Zach Collins</td>\n",
       "      <td>Portland Trail Blazers</td>\n",
       "      <td>2019</td>\n",
       "      <td>79.0</td>\n",
       "      <td>6</td>\n",
       "    </tr>\n",
       "    <tr>\n",
       "      <th>19</th>\n",
       "      <td>Dwight Howard</td>\n",
       "      <td>Washington Wizards</td>\n",
       "      <td>2018</td>\n",
       "      <td>95.0</td>\n",
       "      <td>6</td>\n",
       "    </tr>\n",
       "  </tbody>\n",
       "</table>\n",
       "</div>"
      ],
      "text/plain": [
       "             Player                    Team  Season  Overall_Poss  \\\n",
       "153  Dakari Johnson   Oklahoma City Thunder    2017          47.0   \n",
       "59    Iman Shumpert     Cleveland Cavaliers    2017          75.0   \n",
       "91   Frank Kaminsky            Phoenix Suns    2021          77.0   \n",
       "53     Zach Collins  Portland Trail Blazers    2019          79.0   \n",
       "19    Dwight Howard      Washington Wizards    2018          95.0   \n",
       "\n",
       "     player_cluster  \n",
       "153               6  \n",
       "59                2  \n",
       "91                6  \n",
       "53                6  \n",
       "19                6  "
      ]
     },
     "execution_count": 33,
     "metadata": {},
     "output_type": "execute_result"
    }
   ],
   "source": [
    "missing_players_df[(missing_players_df['Overall_Poss'] < 100) &\n",
    "                   (missing_players_df['player_cluster'].isin([2, 6]))]\\\n",
    "[['Player', 'Team', 'Season', 'Overall_Poss', 'player_cluster']].sort_values('Overall_Poss')"
   ]
  },
  {
   "cell_type": "code",
   "execution_count": 34,
   "id": "fc08f80b",
   "metadata": {
    "ExecuteTime": {
     "end_time": "2022-06-23T13:25:09.579837Z",
     "start_time": "2022-06-23T13:25:09.576309Z"
    }
   },
   "outputs": [],
   "source": [
    "# player_lookup('Iman Shumpert', missing_players_df, season=2017)"
   ]
  },
  {
   "cell_type": "markdown",
   "id": "684aad03",
   "metadata": {},
   "source": [
    "### Step 3: Complete assigning cluster labels in lineup data"
   ]
  },
  {
   "cell_type": "markdown",
   "id": "4e870213",
   "metadata": {},
   "source": [
    "Add cluster labels of missing players to the original label data."
   ]
  },
  {
   "cell_type": "code",
   "execution_count": 35,
   "id": "54e71247",
   "metadata": {
    "ExecuteTime": {
     "end_time": "2022-06-23T13:25:09.594291Z",
     "start_time": "2022-06-23T13:25:09.583343Z"
    }
   },
   "outputs": [
    {
     "data": {
      "text/plain": [
       "(1953, 4)"
      ]
     },
     "execution_count": 35,
     "metadata": {},
     "output_type": "execute_result"
    }
   ],
   "source": [
    "label_df_adj = pd.concat([label_df,\n",
    "                          missing_players_df[['season', 'team', \n",
    "                                              'player_cluster', 'player_alt']]])\\\n",
    "                 .reset_index(drop=True)\n",
    "label_df_adj.shape"
   ]
  },
  {
   "cell_type": "markdown",
   "id": "b62dcaa4",
   "metadata": {},
   "source": [
    "Assign labels."
   ]
  },
  {
   "cell_type": "code",
   "execution_count": 36,
   "id": "e5c8595f",
   "metadata": {
    "ExecuteTime": {
     "end_time": "2022-06-23T13:25:09.897473Z",
     "start_time": "2022-06-23T13:25:09.596963Z"
    }
   },
   "outputs": [],
   "source": [
    "for pos in positions:\n",
    "    lineup_df = lineup_df.merge(label_df_adj.rename(columns={'player_alt': f'{pos}_alt'}),\n",
    "                                how='left')\\\n",
    "                         .rename(columns={'player_cluster': f'{pos}_cluster'})"
   ]
  },
  {
   "cell_type": "markdown",
   "id": "36be95f4",
   "metadata": {
    "ExecuteTime": {
     "end_time": "2022-06-22T11:23:57.877440Z",
     "start_time": "2022-06-22T11:23:57.836219Z"
    }
   },
   "source": [
    "Check if there are missing records with no cluster labels."
   ]
  },
  {
   "cell_type": "code",
   "execution_count": 37,
   "id": "5d41a0df",
   "metadata": {
    "ExecuteTime": {
     "end_time": "2022-06-23T13:25:09.919357Z",
     "start_time": "2022-06-23T13:25:09.899851Z"
    }
   },
   "outputs": [
    {
     "data": {
      "text/html": [
       "<div>\n",
       "<style scoped>\n",
       "    .dataframe tbody tr th:only-of-type {\n",
       "        vertical-align: middle;\n",
       "    }\n",
       "\n",
       "    .dataframe tbody tr th {\n",
       "        vertical-align: top;\n",
       "    }\n",
       "\n",
       "    .dataframe thead th {\n",
       "        text-align: right;\n",
       "    }\n",
       "</style>\n",
       "<table border=\"1\" class=\"dataframe\">\n",
       "  <thead>\n",
       "    <tr style=\"text-align: right;\">\n",
       "      <th></th>\n",
       "      <th>PG</th>\n",
       "      <th>SG</th>\n",
       "      <th>SF</th>\n",
       "      <th>PF</th>\n",
       "      <th>C</th>\n",
       "      <th>season</th>\n",
       "      <th>team</th>\n",
       "      <th>Poss</th>\n",
       "      <th>off_Pts/Poss_rank</th>\n",
       "      <th>off_Pts/Poss</th>\n",
       "      <th>off_eFG%_rank</th>\n",
       "      <th>off_eFG%</th>\n",
       "      <th>off_TOV%_rank</th>\n",
       "      <th>off_TOV%</th>\n",
       "      <th>off_OREB%_rank</th>\n",
       "      <th>off_OREB%</th>\n",
       "      <th>off_FTr_rank</th>\n",
       "      <th>off_FTr</th>\n",
       "      <th>PG_alt</th>\n",
       "      <th>SG_alt</th>\n",
       "      <th>SF_alt</th>\n",
       "      <th>PF_alt</th>\n",
       "      <th>C_alt</th>\n",
       "      <th>PG_cluster</th>\n",
       "      <th>SG_cluster</th>\n",
       "      <th>SF_cluster</th>\n",
       "      <th>PF_cluster</th>\n",
       "      <th>C_cluster</th>\n",
       "    </tr>\n",
       "  </thead>\n",
       "  <tbody>\n",
       "  </tbody>\n",
       "</table>\n",
       "</div>"
      ],
      "text/plain": [
       "Empty DataFrame\n",
       "Columns: [PG, SG, SF, PF, C, season, team, Poss, off_Pts/Poss_rank, off_Pts/Poss, off_eFG%_rank, off_eFG%, off_TOV%_rank, off_TOV%, off_OREB%_rank, off_OREB%, off_FTr_rank, off_FTr, PG_alt, SG_alt, SF_alt, PF_alt, C_alt, PG_cluster, SG_cluster, SF_cluster, PF_cluster, C_cluster]\n",
       "Index: []"
      ]
     },
     "execution_count": 37,
     "metadata": {},
     "output_type": "execute_result"
    }
   ],
   "source": [
    "pd.concat([lineup_df[(lineup_df[f'{pos}_cluster'].isna()) & \n",
    "                     (lineup_df['Poss'] >= 100)]\n",
    "           for pos in positions])\\\n",
    "  .drop_duplicates()\\\n",
    "  .sort_values('Poss', ascending=False)"
   ]
  },
  {
   "cell_type": "markdown",
   "id": "c872fafe",
   "metadata": {},
   "source": [
    "### Step 4: Create cluster embeddings"
   ]
  },
  {
   "cell_type": "code",
   "execution_count": 38,
   "id": "ac15d01c",
   "metadata": {
    "ExecuteTime": {
     "end_time": "2022-06-23T13:25:09.928379Z",
     "start_time": "2022-06-23T13:25:09.921456Z"
    }
   },
   "outputs": [],
   "source": [
    "lineup_df_100 = lineup_df[lineup_df['Poss'] >= 100].reset_index(drop=True)"
   ]
  },
  {
   "cell_type": "code",
   "execution_count": 39,
   "id": "9a3186c8",
   "metadata": {
    "ExecuteTime": {
     "end_time": "2022-06-23T13:25:09.983069Z",
     "start_time": "2022-06-23T13:25:09.930637Z"
    }
   },
   "outputs": [],
   "source": [
    "lineup_df_100['lineup_clusters'] = lineup_df_100.apply(lambda x: [x[f'{pos}_cluster'] \n",
    "                                                                  for pos in positions], \n",
    "                                                       axis=1)"
   ]
  },
  {
   "cell_type": "code",
   "execution_count": 40,
   "id": "5b35a5d0",
   "metadata": {
    "ExecuteTime": {
     "end_time": "2022-06-23T13:25:09.999052Z",
     "start_time": "2022-06-23T13:25:09.985110Z"
    }
   },
   "outputs": [],
   "source": [
    "for i in range(7):\n",
    "    lineup_df_100[i] = lineup_df_100['lineup_clusters'].apply(lambda x: x.count(i))"
   ]
  },
  {
   "cell_type": "code",
   "execution_count": 41,
   "id": "ec179db7",
   "metadata": {
    "ExecuteTime": {
     "end_time": "2022-06-23T13:25:10.063758Z",
     "start_time": "2022-06-23T13:25:10.002311Z"
    }
   },
   "outputs": [],
   "source": [
    "lineup_df_100['lineup_embedding'] = lineup_df_100.apply(lambda x: '-'.join([str(x[i]) \n",
    "                                                                            for i in range(7)]), \n",
    "                                                        axis=1)"
   ]
  },
  {
   "cell_type": "markdown",
   "id": "52d614d7",
   "metadata": {},
   "source": [
    "### Step 5: Compute 'adjusted offensive ratings'"
   ]
  },
  {
   "cell_type": "markdown",
   "id": "02f411e5",
   "metadata": {},
   "source": [
    "Inspired by 'NBA Lineup Analysis on Clustered Player Tendencies: A new approach to the positions of basketball & modeling lineup efficiency', the adjusted offensive ratings for lineups that logged under 300 possession are computed like the following:  "
   ]
  },
  {
   "cell_type": "markdown",
   "id": "5bc6efd3",
   "metadata": {},
   "source": [
    "$Adj. Off Rating = (\\frac{Poss}{300}) * Off Rating + (\\frac{300-Poss}{300}) * Tm Off Rating$"
   ]
  },
  {
   "cell_type": "code",
   "execution_count": 42,
   "id": "8052b556",
   "metadata": {
    "ExecuteTime": {
     "end_time": "2022-06-23T13:25:10.073229Z",
     "start_time": "2022-06-23T13:25:10.066139Z"
    }
   },
   "outputs": [
    {
     "data": {
      "text/plain": [
       "((1521, 37), (302, 37))"
      ]
     },
     "execution_count": 42,
     "metadata": {},
     "output_type": "execute_result"
    }
   ],
   "source": [
    "lineup_df_100.shape, lineup_df_100[lineup_df_100['Poss'] >= 300].shape"
   ]
  },
  {
   "cell_type": "code",
   "execution_count": 43,
   "id": "b22161c3",
   "metadata": {
    "ExecuteTime": {
     "end_time": "2022-06-23T13:25:10.083496Z",
     "start_time": "2022-06-23T13:25:10.075468Z"
    }
   },
   "outputs": [],
   "source": [
    "lineup_df_100 = lineup_df_100.merge(tm_off_ratings, how='left')"
   ]
  },
  {
   "cell_type": "code",
   "execution_count": 44,
   "id": "4f017796",
   "metadata": {
    "ExecuteTime": {
     "end_time": "2022-06-23T13:25:10.094133Z",
     "start_time": "2022-06-23T13:25:10.086622Z"
    }
   },
   "outputs": [],
   "source": [
    "lineup_df_100['adj_off_Pts/Poss'] = lineup_df_100['off_Pts/Poss']\n",
    "cond = lineup_df_100['Poss'] < 300\n",
    "lineup_df_100.loc[cond, 'adj_off_Pts/Poss'] = lineup_df_100.loc[cond, 'off_Pts/Poss'] * \\\n",
    "                                              (lineup_df_100.loc[cond, 'Poss'] / 300) + \\\n",
    "                                              lineup_df_100.loc[cond, 'tm_off_Pts/Poss'] * \\\n",
    "                                              ((300 - lineup_df_100.loc[cond, 'Poss']) / 300)"
   ]
  },
  {
   "cell_type": "code",
   "execution_count": 45,
   "id": "c094131c",
   "metadata": {
    "ExecuteTime": {
     "end_time": "2022-06-23T13:25:10.468196Z",
     "start_time": "2022-06-23T13:25:10.096139Z"
    }
   },
   "outputs": [
    {
     "data": {
      "text/plain": [
       "<matplotlib.legend.Legend at 0x7fcfa7757a90>"
      ]
     },
     "execution_count": 45,
     "metadata": {},
     "output_type": "execute_result"
    },
    {
     "data": {
      "image/png": "[encoded data removed]",
      "text/plain": [
       "<Figure size 432x288 with 1 Axes>"
      ]
     },
     "metadata": {
      "needs_background": "light"
     },
     "output_type": "display_data"
    }
   ],
   "source": [
    "figsize(12, 8)\n",
    "sns.distplot(lineup_df_100['off_Pts/Poss'], \n",
    "             label='Raw Points Scored Per 100 Possessions')\n",
    "sns.distplot(lineup_df_100['adj_off_Pts/Poss'], \n",
    "             label='Adjusted Points Scored Per 100 Possessions')\n",
    "plt.xlabel('Points Scored Per 100 Possessions')\n",
    "plt.legend()"
   ]
  },
  {
   "cell_type": "markdown",
   "id": "29b3031a",
   "metadata": {},
   "source": [
    "## Exploratory Data Analysis"
   ]
  },
  {
   "cell_type": "markdown",
   "id": "80872e3b",
   "metadata": {},
   "source": [
    "### Ticket 1: How many types of lineups?"
   ]
  },
  {
   "cell_type": "code",
   "execution_count": 46,
   "id": "cad64aa5",
   "metadata": {
    "ExecuteTime": {
     "end_time": "2022-06-23T13:25:10.477234Z",
     "start_time": "2022-06-23T13:25:10.469899Z"
    }
   },
   "outputs": [
    {
     "data": {
      "text/plain": [
       "(175, 1)"
      ]
     },
     "execution_count": 46,
     "metadata": {},
     "output_type": "execute_result"
    }
   ],
   "source": [
    "lineup_df_100.groupby('lineup_embedding')[['lineup_clusters']].count().shape"
   ]
  },
  {
   "cell_type": "markdown",
   "id": "4bb37452",
   "metadata": {},
   "source": [
    "### Ticket 2: What are the top 10 most popular lineups?"
   ]
  },
  {
   "cell_type": "code",
   "execution_count": 47,
   "id": "7d9939a2",
   "metadata": {
    "ExecuteTime": {
     "end_time": "2022-06-23T13:25:10.483695Z",
     "start_time": "2022-06-23T13:25:10.479249Z"
    }
   },
   "outputs": [
    {
     "data": {
      "text/plain": [
       "{2: 'Ballhandler (Iso+PnR)',\n",
       " 1: 'Ballhandler (PnR)',\n",
       " 6: 'Big (Post Up+Roll)',\n",
       " 5: 'Big (Roll+Cut)',\n",
       " 0: 'Wing (Off Screen)',\n",
       " 4: 'Wing (Hand Off)',\n",
       " 3: 'Wing (Spot Up+Transition)'}"
      ]
     },
     "execution_count": 47,
     "metadata": {},
     "output_type": "execute_result"
    }
   ],
   "source": [
    "cluster_dict_detail"
   ]
  },
  {
   "cell_type": "code",
   "execution_count": 48,
   "id": "e7429b3d",
   "metadata": {
    "ExecuteTime": {
     "end_time": "2022-06-23T13:25:10.491121Z",
     "start_time": "2022-06-23T13:25:10.485727Z"
    }
   },
   "outputs": [],
   "source": [
    "def lineup_embedding_to_detail(s, cluster_dict_detail=cluster_dict_detail):\n",
    "    detail = []\n",
    "    lineup = s.split('-')\n",
    "    for i in range(7):\n",
    "        n = int(lineup[i])\n",
    "        if n != 0:\n",
    "            detail.append(f'{n} {cluster_dict_detail[i]}')\n",
    "    return ' | '.join(detail)"
   ]
  },
  {
   "cell_type": "code",
   "execution_count": 49,
   "id": "8c5f8b93",
   "metadata": {
    "ExecuteTime": {
     "end_time": "2022-06-23T13:25:10.519075Z",
     "start_time": "2022-06-23T13:25:10.496435Z"
    }
   },
   "outputs": [
    {
     "data": {
      "text/html": [
       "<div>\n",
       "<style scoped>\n",
       "    .dataframe tbody tr th:only-of-type {\n",
       "        vertical-align: middle;\n",
       "    }\n",
       "\n",
       "    .dataframe tbody tr th {\n",
       "        vertical-align: top;\n",
       "    }\n",
       "\n",
       "    .dataframe thead th {\n",
       "        text-align: right;\n",
       "    }\n",
       "</style>\n",
       "<table border=\"1\" class=\"dataframe\">\n",
       "  <thead>\n",
       "    <tr style=\"text-align: right;\">\n",
       "      <th></th>\n",
       "      <th>lineup_embedding</th>\n",
       "      <th>num_lineups</th>\n",
       "      <th>lineup_detail</th>\n",
       "    </tr>\n",
       "  </thead>\n",
       "  <tbody>\n",
       "    <tr>\n",
       "      <th>81</th>\n",
       "      <td>0-2-1-1-0-1-0</td>\n",
       "      <td>57</td>\n",
       "      <td>2 Ballhandler (PnR) | 1 Ballhandler (Iso+PnR) | 1 Wing (Spot Up+Transition) | 1 Big (Roll+Cut)</td>\n",
       "    </tr>\n",
       "    <tr>\n",
       "      <th>132</th>\n",
       "      <td>1-1-1-1-0-1-0</td>\n",
       "      <td>54</td>\n",
       "      <td>1 Wing (Off Screen) | 1 Ballhandler (PnR) | 1 Ballhandler (Iso+PnR) | 1 Wing (Spot Up+Transition) | 1 Big (Roll+Cut)</td>\n",
       "    </tr>\n",
       "    <tr>\n",
       "      <th>52</th>\n",
       "      <td>0-1-1-2-0-0-1</td>\n",
       "      <td>51</td>\n",
       "      <td>1 Ballhandler (PnR) | 1 Ballhandler (Iso+PnR) | 2 Wing (Spot Up+Transition) | 1 Big (Post Up+Roll)</td>\n",
       "    </tr>\n",
       "    <tr>\n",
       "      <th>73</th>\n",
       "      <td>0-2-0-2-0-0-1</td>\n",
       "      <td>49</td>\n",
       "      <td>2 Ballhandler (PnR) | 2 Wing (Spot Up+Transition) | 1 Big (Post Up+Roll)</td>\n",
       "    </tr>\n",
       "    <tr>\n",
       "      <th>126</th>\n",
       "      <td>1-1-0-2-0-1-0</td>\n",
       "      <td>41</td>\n",
       "      <td>1 Wing (Off Screen) | 1 Ballhandler (PnR) | 2 Wing (Spot Up+Transition) | 1 Big (Roll+Cut)</td>\n",
       "    </tr>\n",
       "    <tr>\n",
       "      <th>74</th>\n",
       "      <td>0-2-0-2-0-1-0</td>\n",
       "      <td>39</td>\n",
       "      <td>2 Ballhandler (PnR) | 2 Wing (Spot Up+Transition) | 1 Big (Roll+Cut)</td>\n",
       "    </tr>\n",
       "    <tr>\n",
       "      <th>144</th>\n",
       "      <td>1-2-0-1-0-1-0</td>\n",
       "      <td>38</td>\n",
       "      <td>1 Wing (Off Screen) | 2 Ballhandler (PnR) | 1 Wing (Spot Up+Transition) | 1 Big (Roll+Cut)</td>\n",
       "    </tr>\n",
       "    <tr>\n",
       "      <th>156</th>\n",
       "      <td>2-0-1-1-0-1-0</td>\n",
       "      <td>32</td>\n",
       "      <td>2 Wing (Off Screen) | 1 Ballhandler (Iso+PnR) | 1 Wing (Spot Up+Transition) | 1 Big (Roll+Cut)</td>\n",
       "    </tr>\n",
       "    <tr>\n",
       "      <th>53</th>\n",
       "      <td>0-1-1-2-0-1-0</td>\n",
       "      <td>32</td>\n",
       "      <td>1 Ballhandler (PnR) | 1 Ballhandler (Iso+PnR) | 2 Wing (Spot Up+Transition) | 1 Big (Roll+Cut)</td>\n",
       "    </tr>\n",
       "    <tr>\n",
       "      <th>131</th>\n",
       "      <td>1-1-1-1-0-0-1</td>\n",
       "      <td>29</td>\n",
       "      <td>1 Wing (Off Screen) | 1 Ballhandler (PnR) | 1 Ballhandler (Iso+PnR) | 1 Wing (Spot Up+Transition) | 1 Big (Post Up+Roll)</td>\n",
       "    </tr>\n",
       "  </tbody>\n",
       "</table>\n",
       "</div>"
      ],
      "text/plain": [
       "    lineup_embedding  num_lineups  \\\n",
       "81     0-2-1-1-0-1-0           57   \n",
       "132    1-1-1-1-0-1-0           54   \n",
       "52     0-1-1-2-0-0-1           51   \n",
       "73     0-2-0-2-0-0-1           49   \n",
       "126    1-1-0-2-0-1-0           41   \n",
       "74     0-2-0-2-0-1-0           39   \n",
       "144    1-2-0-1-0-1-0           38   \n",
       "156    2-0-1-1-0-1-0           32   \n",
       "53     0-1-1-2-0-1-0           32   \n",
       "131    1-1-1-1-0-0-1           29   \n",
       "\n",
       "                                                                                                                lineup_detail  \n",
       "81                             2 Ballhandler (PnR) | 1 Ballhandler (Iso+PnR) | 1 Wing (Spot Up+Transition) | 1 Big (Roll+Cut)  \n",
       "132      1 Wing (Off Screen) | 1 Ballhandler (PnR) | 1 Ballhandler (Iso+PnR) | 1 Wing (Spot Up+Transition) | 1 Big (Roll+Cut)  \n",
       "52                         1 Ballhandler (PnR) | 1 Ballhandler (Iso+PnR) | 2 Wing (Spot Up+Transition) | 1 Big (Post Up+Roll)  \n",
       "73                                                   2 Ballhandler (PnR) | 2 Wing (Spot Up+Transition) | 1 Big (Post Up+Roll)  \n",
       "126                                1 Wing (Off Screen) | 1 Ballhandler (PnR) | 2 Wing (Spot Up+Transition) | 1 Big (Roll+Cut)  \n",
       "74                                                       2 Ballhandler (PnR) | 2 Wing (Spot Up+Transition) | 1 Big (Roll+Cut)  \n",
       "144                                1 Wing (Off Screen) | 2 Ballhandler (PnR) | 1 Wing (Spot Up+Transition) | 1 Big (Roll+Cut)  \n",
       "156                            2 Wing (Off Screen) | 1 Ballhandler (Iso+PnR) | 1 Wing (Spot Up+Transition) | 1 Big (Roll+Cut)  \n",
       "53                             1 Ballhandler (PnR) | 1 Ballhandler (Iso+PnR) | 2 Wing (Spot Up+Transition) | 1 Big (Roll+Cut)  \n",
       "131  1 Wing (Off Screen) | 1 Ballhandler (PnR) | 1 Ballhandler (Iso+PnR) | 1 Wing (Spot Up+Transition) | 1 Big (Post Up+Roll)  "
      ]
     },
     "execution_count": 49,
     "metadata": {},
     "output_type": "execute_result"
    }
   ],
   "source": [
    "t_2 = lineup_df_100.groupby('lineup_embedding')[['lineup_clusters']]\\\n",
    "                   .count().reset_index()\\\n",
    "                   .rename(columns={'lineup_clusters': 'num_lineups'})\n",
    "t_2['lineup_detail'] = t_2['lineup_embedding'].apply(lineup_embedding_to_detail)\n",
    "t_2.sort_values('num_lineups', ascending=False).head(10)"
   ]
  },
  {
   "cell_type": "code",
   "execution_count": 50,
   "id": "bede9360",
   "metadata": {
    "ExecuteTime": {
     "end_time": "2022-06-23T13:25:10.556367Z",
     "start_time": "2022-06-23T13:25:10.521852Z"
    }
   },
   "outputs": [
    {
     "data": {
      "text/html": [
       "<div>\n",
       "<style scoped>\n",
       "    .dataframe tbody tr th:only-of-type {\n",
       "        vertical-align: middle;\n",
       "    }\n",
       "\n",
       "    .dataframe tbody tr th {\n",
       "        vertical-align: top;\n",
       "    }\n",
       "\n",
       "    .dataframe thead th {\n",
       "        text-align: right;\n",
       "    }\n",
       "</style>\n",
       "<table border=\"1\" class=\"dataframe\">\n",
       "  <thead>\n",
       "    <tr style=\"text-align: right;\">\n",
       "      <th></th>\n",
       "      <th>PG</th>\n",
       "      <th>SG</th>\n",
       "      <th>SF</th>\n",
       "      <th>PF</th>\n",
       "      <th>C</th>\n",
       "      <th>season</th>\n",
       "      <th>team</th>\n",
       "      <th>Poss</th>\n",
       "      <th>off_Pts/Poss_rank</th>\n",
       "      <th>off_Pts/Poss</th>\n",
       "      <th>off_eFG%_rank</th>\n",
       "      <th>off_eFG%</th>\n",
       "      <th>off_TOV%_rank</th>\n",
       "      <th>off_TOV%</th>\n",
       "      <th>off_OREB%_rank</th>\n",
       "      <th>off_OREB%</th>\n",
       "      <th>off_FTr_rank</th>\n",
       "      <th>off_FTr</th>\n",
       "      <th>PG_alt</th>\n",
       "      <th>SG_alt</th>\n",
       "      <th>SF_alt</th>\n",
       "      <th>PF_alt</th>\n",
       "      <th>C_alt</th>\n",
       "      <th>PG_cluster</th>\n",
       "      <th>SG_cluster</th>\n",
       "      <th>SF_cluster</th>\n",
       "      <th>PF_cluster</th>\n",
       "      <th>C_cluster</th>\n",
       "      <th>lineup_clusters</th>\n",
       "      <th>0</th>\n",
       "      <th>1</th>\n",
       "      <th>2</th>\n",
       "      <th>3</th>\n",
       "      <th>4</th>\n",
       "      <th>5</th>\n",
       "      <th>6</th>\n",
       "      <th>lineup_embedding</th>\n",
       "      <th>tm_off_Pts/Poss</th>\n",
       "      <th>adj_off_Pts/Poss</th>\n",
       "    </tr>\n",
       "  </thead>\n",
       "  <tbody>\n",
       "    <tr>\n",
       "      <th>72</th>\n",
       "      <td>Kemba Walker</td>\n",
       "      <td>Jaylen Brown</td>\n",
       "      <td>Gordon Hayward</td>\n",
       "      <td>Jayson Tatum</td>\n",
       "      <td>Daniel Theis</td>\n",
       "      <td>2019</td>\n",
       "      <td>Boston Celtics</td>\n",
       "      <td>543</td>\n",
       "      <td>69.0</td>\n",
       "      <td>116.6</td>\n",
       "      <td>79.0</td>\n",
       "      <td>58.1%</td>\n",
       "      <td>63.0</td>\n",
       "      <td>13.1%</td>\n",
       "      <td>36.0</td>\n",
       "      <td>22.9%</td>\n",
       "      <td>23.0</td>\n",
       "      <td>13.8</td>\n",
       "      <td>kembawalker</td>\n",
       "      <td>jaylenbrown</td>\n",
       "      <td>gordonhayward</td>\n",
       "      <td>jaysontatum</td>\n",
       "      <td>danieltheis</td>\n",
       "      <td>1.0</td>\n",
       "      <td>3.0</td>\n",
       "      <td>1.0</td>\n",
       "      <td>2.0</td>\n",
       "      <td>5.0</td>\n",
       "      <td>[1.0, 3.0, 1.0, 2.0, 5.0]</td>\n",
       "      <td>0</td>\n",
       "      <td>2</td>\n",
       "      <td>1</td>\n",
       "      <td>1</td>\n",
       "      <td>0</td>\n",
       "      <td>1</td>\n",
       "      <td>0</td>\n",
       "      <td>0-2-1-1-0-1-0</td>\n",
       "      <td>113.556036</td>\n",
       "      <td>116.6</td>\n",
       "    </tr>\n",
       "  </tbody>\n",
       "</table>\n",
       "</div>"
      ],
      "text/plain": [
       "              PG            SG              SF            PF             C  \\\n",
       "72  Kemba Walker  Jaylen Brown  Gordon Hayward  Jayson Tatum  Daniel Theis   \n",
       "\n",
       "    season            team  Poss  off_Pts/Poss_rank  off_Pts/Poss  \\\n",
       "72    2019  Boston Celtics   543               69.0         116.6   \n",
       "\n",
       "    off_eFG%_rank off_eFG%  off_TOV%_rank off_TOV%  off_OREB%_rank off_OREB%  \\\n",
       "72           79.0    58.1%           63.0    13.1%            36.0     22.9%   \n",
       "\n",
       "    off_FTr_rank  off_FTr       PG_alt       SG_alt         SF_alt  \\\n",
       "72          23.0     13.8  kembawalker  jaylenbrown  gordonhayward   \n",
       "\n",
       "         PF_alt        C_alt  PG_cluster  SG_cluster  SF_cluster  PF_cluster  \\\n",
       "72  jaysontatum  danieltheis         1.0         3.0         1.0         2.0   \n",
       "\n",
       "    C_cluster            lineup_clusters  0  1  2  3  4  5  6  \\\n",
       "72        5.0  [1.0, 3.0, 1.0, 2.0, 5.0]  0  2  1  1  0  1  0   \n",
       "\n",
       "   lineup_embedding  tm_off_Pts/Poss  adj_off_Pts/Poss  \n",
       "72    0-2-1-1-0-1-0       113.556036             116.6  "
      ]
     },
     "execution_count": 50,
     "metadata": {},
     "output_type": "execute_result"
    }
   ],
   "source": [
    "lineup_df_100[lineup_df_100['lineup_embedding'] == '0-2-1-1-0-1-0'].head(1)"
   ]
  },
  {
   "cell_type": "code",
   "execution_count": 51,
   "id": "e26d638c",
   "metadata": {
    "ExecuteTime": {
     "end_time": "2022-06-23T13:25:10.569512Z",
     "start_time": "2022-06-23T13:25:10.561672Z"
    }
   },
   "outputs": [
    {
     "data": {
      "text/plain": [
       "((175, 3), (47, 3), (16, 3))"
      ]
     },
     "execution_count": 51,
     "metadata": {},
     "output_type": "execute_result"
    }
   ],
   "source": [
    "t_2.shape, t_2[t_2['num_lineups'] >= 10].shape, t_2[t_2['num_lineups'] >= 25].shape"
   ]
  },
  {
   "cell_type": "markdown",
   "id": "0414f274",
   "metadata": {},
   "source": [
    "### Ticket 3: What are the most/least productive lineups?"
   ]
  },
  {
   "cell_type": "markdown",
   "id": "87a76885",
   "metadata": {},
   "source": [
    "Find 10 lineup types with the best offensive ratings"
   ]
  },
  {
   "cell_type": "code",
   "execution_count": 52,
   "id": "4a50e98a",
   "metadata": {
    "ExecuteTime": {
     "end_time": "2022-06-23T13:25:10.594622Z",
     "start_time": "2022-06-23T13:25:10.571972Z"
    }
   },
   "outputs": [
    {
     "data": {
      "text/html": [
       "<div>\n",
       "<style scoped>\n",
       "    .dataframe tbody tr th:only-of-type {\n",
       "        vertical-align: middle;\n",
       "    }\n",
       "\n",
       "    .dataframe tbody tr th {\n",
       "        vertical-align: top;\n",
       "    }\n",
       "\n",
       "    .dataframe thead th {\n",
       "        text-align: right;\n",
       "    }\n",
       "</style>\n",
       "<table border=\"1\" class=\"dataframe\">\n",
       "  <thead>\n",
       "    <tr style=\"text-align: right;\">\n",
       "      <th></th>\n",
       "      <th>lineup_embedding</th>\n",
       "      <th>adj_off_Pts/Poss</th>\n",
       "      <th>lineup_detail</th>\n",
       "      <th>num_lineups</th>\n",
       "    </tr>\n",
       "  </thead>\n",
       "  <tbody>\n",
       "    <tr>\n",
       "      <th>118</th>\n",
       "      <td>1-0-3-1-0-0-0</td>\n",
       "      <td>128.251674</td>\n",
       "      <td>1 Wing (Off Screen) | 3 Ballhandler (Iso+PnR) | 1 Wing (Spot Up+Transition)</td>\n",
       "      <td>1</td>\n",
       "    </tr>\n",
       "    <tr>\n",
       "      <th>104</th>\n",
       "      <td>1-0-1-0-0-1-2</td>\n",
       "      <td>123.505404</td>\n",
       "      <td>1 Wing (Off Screen) | 1 Ballhandler (Iso+PnR) | 1 Big (Roll+Cut) | 2 Big (Post Up+Roll)</td>\n",
       "      <td>1</td>\n",
       "    </tr>\n",
       "    <tr>\n",
       "      <th>24</th>\n",
       "      <td>0-0-3-0-0-1-1</td>\n",
       "      <td>122.064887</td>\n",
       "      <td>3 Ballhandler (Iso+PnR) | 1 Big (Roll+Cut) | 1 Big (Post Up+Roll)</td>\n",
       "      <td>1</td>\n",
       "    </tr>\n",
       "    <tr>\n",
       "      <th>18</th>\n",
       "      <td>0-0-2-1-1-1-0</td>\n",
       "      <td>121.540182</td>\n",
       "      <td>2 Ballhandler (Iso+PnR) | 1 Wing (Spot Up+Transition) | 1 Wing (Hand Off) | 1 Big (Roll+Cut)</td>\n",
       "      <td>1</td>\n",
       "    </tr>\n",
       "    <tr>\n",
       "      <th>97</th>\n",
       "      <td>0-4-0-1-0-0-0</td>\n",
       "      <td>121.300000</td>\n",
       "      <td>4 Ballhandler (PnR) | 1 Wing (Spot Up+Transition)</td>\n",
       "      <td>1</td>\n",
       "    </tr>\n",
       "    <tr>\n",
       "      <th>4</th>\n",
       "      <td>0-0-1-1-1-0-2</td>\n",
       "      <td>120.081548</td>\n",
       "      <td>1 Ballhandler (Iso+PnR) | 1 Wing (Spot Up+Transition) | 1 Wing (Hand Off) | 2 Big (Post Up+Roll)</td>\n",
       "      <td>2</td>\n",
       "    </tr>\n",
       "    <tr>\n",
       "      <th>86</th>\n",
       "      <td>0-2-2-1-0-0-0</td>\n",
       "      <td>119.218687</td>\n",
       "      <td>2 Ballhandler (PnR) | 2 Ballhandler (Iso+PnR) | 1 Wing (Spot Up+Transition)</td>\n",
       "      <td>2</td>\n",
       "    </tr>\n",
       "    <tr>\n",
       "      <th>158</th>\n",
       "      <td>2-0-2-0-0-0-1</td>\n",
       "      <td>119.185287</td>\n",
       "      <td>2 Wing (Off Screen) | 2 Ballhandler (Iso+PnR) | 1 Big (Post Up+Roll)</td>\n",
       "      <td>4</td>\n",
       "    </tr>\n",
       "    <tr>\n",
       "      <th>14</th>\n",
       "      <td>0-0-2-1-0-0-2</td>\n",
       "      <td>118.395040</td>\n",
       "      <td>2 Ballhandler (Iso+PnR) | 1 Wing (Spot Up+Transition) | 2 Big (Post Up+Roll)</td>\n",
       "      <td>5</td>\n",
       "    </tr>\n",
       "    <tr>\n",
       "      <th>64</th>\n",
       "      <td>0-1-3-0-0-0-1</td>\n",
       "      <td>117.494588</td>\n",
       "      <td>1 Ballhandler (PnR) | 3 Ballhandler (Iso+PnR) | 1 Big (Post Up+Roll)</td>\n",
       "      <td>3</td>\n",
       "    </tr>\n",
       "  </tbody>\n",
       "</table>\n",
       "</div>"
      ],
      "text/plain": [
       "    lineup_embedding  adj_off_Pts/Poss  \\\n",
       "118    1-0-3-1-0-0-0        128.251674   \n",
       "104    1-0-1-0-0-1-2        123.505404   \n",
       "24     0-0-3-0-0-1-1        122.064887   \n",
       "18     0-0-2-1-1-1-0        121.540182   \n",
       "97     0-4-0-1-0-0-0        121.300000   \n",
       "4      0-0-1-1-1-0-2        120.081548   \n",
       "86     0-2-2-1-0-0-0        119.218687   \n",
       "158    2-0-2-0-0-0-1        119.185287   \n",
       "14     0-0-2-1-0-0-2        118.395040   \n",
       "64     0-1-3-0-0-0-1        117.494588   \n",
       "\n",
       "                                                                                        lineup_detail  \\\n",
       "118                       1 Wing (Off Screen) | 3 Ballhandler (Iso+PnR) | 1 Wing (Spot Up+Transition)   \n",
       "104           1 Wing (Off Screen) | 1 Ballhandler (Iso+PnR) | 1 Big (Roll+Cut) | 2 Big (Post Up+Roll)   \n",
       "24                                  3 Ballhandler (Iso+PnR) | 1 Big (Roll+Cut) | 1 Big (Post Up+Roll)   \n",
       "18       2 Ballhandler (Iso+PnR) | 1 Wing (Spot Up+Transition) | 1 Wing (Hand Off) | 1 Big (Roll+Cut)   \n",
       "97                                                  4 Ballhandler (PnR) | 1 Wing (Spot Up+Transition)   \n",
       "4    1 Ballhandler (Iso+PnR) | 1 Wing (Spot Up+Transition) | 1 Wing (Hand Off) | 2 Big (Post Up+Roll)   \n",
       "86                        2 Ballhandler (PnR) | 2 Ballhandler (Iso+PnR) | 1 Wing (Spot Up+Transition)   \n",
       "158                              2 Wing (Off Screen) | 2 Ballhandler (Iso+PnR) | 1 Big (Post Up+Roll)   \n",
       "14                       2 Ballhandler (Iso+PnR) | 1 Wing (Spot Up+Transition) | 2 Big (Post Up+Roll)   \n",
       "64                               1 Ballhandler (PnR) | 3 Ballhandler (Iso+PnR) | 1 Big (Post Up+Roll)   \n",
       "\n",
       "     num_lineups  \n",
       "118            1  \n",
       "104            1  \n",
       "24             1  \n",
       "18             1  \n",
       "97             1  \n",
       "4              2  \n",
       "86             2  \n",
       "158            4  \n",
       "14             5  \n",
       "64             3  "
      ]
     },
     "execution_count": 52,
     "metadata": {},
     "output_type": "execute_result"
    }
   ],
   "source": [
    "t_3 = lineup_df_100.groupby('lineup_embedding')['adj_off_Pts/Poss'].mean().reset_index()\n",
    "t_3['lineup_detail'] = t_3['lineup_embedding'].apply(lineup_embedding_to_detail)\n",
    "t_3 = t_3.merge(t_2, how='left')\n",
    "t_3.sort_values('adj_off_Pts/Poss', ascending=False).head(10)"
   ]
  },
  {
   "cell_type": "code",
   "execution_count": 53,
   "id": "65dce0d7",
   "metadata": {
    "ExecuteTime": {
     "end_time": "2022-06-23T13:25:10.641927Z",
     "start_time": "2022-06-23T13:25:10.597650Z"
    }
   },
   "outputs": [
    {
     "data": {
      "text/html": [
       "<div>\n",
       "<style scoped>\n",
       "    .dataframe tbody tr th:only-of-type {\n",
       "        vertical-align: middle;\n",
       "    }\n",
       "\n",
       "    .dataframe tbody tr th {\n",
       "        vertical-align: top;\n",
       "    }\n",
       "\n",
       "    .dataframe thead th {\n",
       "        text-align: right;\n",
       "    }\n",
       "</style>\n",
       "<table border=\"1\" class=\"dataframe\">\n",
       "  <thead>\n",
       "    <tr style=\"text-align: right;\">\n",
       "      <th></th>\n",
       "      <th>PG</th>\n",
       "      <th>SG</th>\n",
       "      <th>SF</th>\n",
       "      <th>PF</th>\n",
       "      <th>C</th>\n",
       "      <th>season</th>\n",
       "      <th>team</th>\n",
       "      <th>Poss</th>\n",
       "      <th>off_Pts/Poss_rank</th>\n",
       "      <th>off_Pts/Poss</th>\n",
       "      <th>off_eFG%_rank</th>\n",
       "      <th>off_eFG%</th>\n",
       "      <th>off_TOV%_rank</th>\n",
       "      <th>off_TOV%</th>\n",
       "      <th>off_OREB%_rank</th>\n",
       "      <th>off_OREB%</th>\n",
       "      <th>off_FTr_rank</th>\n",
       "      <th>off_FTr</th>\n",
       "      <th>PG_alt</th>\n",
       "      <th>SG_alt</th>\n",
       "      <th>SF_alt</th>\n",
       "      <th>PF_alt</th>\n",
       "      <th>C_alt</th>\n",
       "      <th>PG_cluster</th>\n",
       "      <th>SG_cluster</th>\n",
       "      <th>SF_cluster</th>\n",
       "      <th>PF_cluster</th>\n",
       "      <th>C_cluster</th>\n",
       "      <th>lineup_clusters</th>\n",
       "      <th>0</th>\n",
       "      <th>1</th>\n",
       "      <th>2</th>\n",
       "      <th>3</th>\n",
       "      <th>4</th>\n",
       "      <th>5</th>\n",
       "      <th>6</th>\n",
       "      <th>lineup_embedding</th>\n",
       "      <th>tm_off_Pts/Poss</th>\n",
       "      <th>adj_off_Pts/Poss</th>\n",
       "    </tr>\n",
       "  </thead>\n",
       "  <tbody>\n",
       "    <tr>\n",
       "      <th>129</th>\n",
       "      <td>James Harden</td>\n",
       "      <td>Kyrie Irving</td>\n",
       "      <td>Joe Harris</td>\n",
       "      <td>Kevin Durant</td>\n",
       "      <td>Jeff Green</td>\n",
       "      <td>2020</td>\n",
       "      <td>Brooklyn Nets</td>\n",
       "      <td>150</td>\n",
       "      <td>97.0</td>\n",
       "      <td>137.3</td>\n",
       "      <td>97.0</td>\n",
       "      <td>64.9%</td>\n",
       "      <td>45.0</td>\n",
       "      <td>14.0%</td>\n",
       "      <td>24.0</td>\n",
       "      <td>20.6%</td>\n",
       "      <td>64.0</td>\n",
       "      <td>19.6</td>\n",
       "      <td>jamesharden</td>\n",
       "      <td>kyrieirving</td>\n",
       "      <td>joeharris</td>\n",
       "      <td>kevindurant</td>\n",
       "      <td>jeffgreen</td>\n",
       "      <td>2.0</td>\n",
       "      <td>2.0</td>\n",
       "      <td>0.0</td>\n",
       "      <td>2.0</td>\n",
       "      <td>3.0</td>\n",
       "      <td>[2.0, 2.0, 0.0, 2.0, 3.0]</td>\n",
       "      <td>1</td>\n",
       "      <td>0</td>\n",
       "      <td>3</td>\n",
       "      <td>1</td>\n",
       "      <td>0</td>\n",
       "      <td>0</td>\n",
       "      <td>0</td>\n",
       "      <td>1-0-3-1-0-0-0</td>\n",
       "      <td>119.203348</td>\n",
       "      <td>128.251674</td>\n",
       "    </tr>\n",
       "  </tbody>\n",
       "</table>\n",
       "</div>"
      ],
      "text/plain": [
       "               PG            SG          SF            PF           C  season  \\\n",
       "129  James Harden  Kyrie Irving  Joe Harris  Kevin Durant  Jeff Green    2020   \n",
       "\n",
       "              team  Poss  off_Pts/Poss_rank  off_Pts/Poss  off_eFG%_rank  \\\n",
       "129  Brooklyn Nets   150               97.0         137.3           97.0   \n",
       "\n",
       "    off_eFG%  off_TOV%_rank off_TOV%  off_OREB%_rank off_OREB%  off_FTr_rank  \\\n",
       "129    64.9%           45.0    14.0%            24.0     20.6%          64.0   \n",
       "\n",
       "     off_FTr       PG_alt       SG_alt     SF_alt       PF_alt      C_alt  \\\n",
       "129     19.6  jamesharden  kyrieirving  joeharris  kevindurant  jeffgreen   \n",
       "\n",
       "     PG_cluster  SG_cluster  SF_cluster  PF_cluster  C_cluster  \\\n",
       "129         2.0         2.0         0.0         2.0        3.0   \n",
       "\n",
       "               lineup_clusters  0  1  2  3  4  5  6 lineup_embedding  \\\n",
       "129  [2.0, 2.0, 0.0, 2.0, 3.0]  1  0  3  1  0  0  0    1-0-3-1-0-0-0   \n",
       "\n",
       "     tm_off_Pts/Poss  adj_off_Pts/Poss  \n",
       "129       119.203348        128.251674  "
      ]
     },
     "execution_count": 53,
     "metadata": {},
     "output_type": "execute_result"
    }
   ],
   "source": [
    "lineup_df_100[lineup_df_100['lineup_embedding'] == '1-0-3-1-0-0-0']"
   ]
  },
  {
   "cell_type": "markdown",
   "id": "e0e0aedd",
   "metadata": {},
   "source": [
    "Find 10 common lineup types (at least 10 lineups) with the best offensive ratings"
   ]
  },
  {
   "cell_type": "code",
   "execution_count": 54,
   "id": "db97deb9",
   "metadata": {
    "ExecuteTime": {
     "end_time": "2022-06-23T13:25:10.660614Z",
     "start_time": "2022-06-23T13:25:10.645083Z"
    }
   },
   "outputs": [
    {
     "data": {
      "text/html": [
       "<div>\n",
       "<style scoped>\n",
       "    .dataframe tbody tr th:only-of-type {\n",
       "        vertical-align: middle;\n",
       "    }\n",
       "\n",
       "    .dataframe tbody tr th {\n",
       "        vertical-align: top;\n",
       "    }\n",
       "\n",
       "    .dataframe thead th {\n",
       "        text-align: right;\n",
       "    }\n",
       "</style>\n",
       "<table border=\"1\" class=\"dataframe\">\n",
       "  <thead>\n",
       "    <tr style=\"text-align: right;\">\n",
       "      <th></th>\n",
       "      <th>lineup_embedding</th>\n",
       "      <th>adj_off_Pts/Poss</th>\n",
       "      <th>lineup_detail</th>\n",
       "      <th>num_lineups</th>\n",
       "    </tr>\n",
       "  </thead>\n",
       "  <tbody>\n",
       "    <tr>\n",
       "      <th>114</th>\n",
       "      <td>1-0-2-1-0-1-0</td>\n",
       "      <td>115.359432</td>\n",
       "      <td>1 Wing (Off Screen) | 2 Ballhandler (Iso+PnR) | 1 Wing (Spot Up+Transition) | 1 Big (Roll+Cut)</td>\n",
       "      <td>22</td>\n",
       "    </tr>\n",
       "    <tr>\n",
       "      <th>63</th>\n",
       "      <td>0-1-2-2-0-0-0</td>\n",
       "      <td>114.835165</td>\n",
       "      <td>1 Ballhandler (PnR) | 2 Ballhandler (Iso+PnR) | 2 Wing (Spot Up+Transition)</td>\n",
       "      <td>12</td>\n",
       "    </tr>\n",
       "    <tr>\n",
       "      <th>23</th>\n",
       "      <td>0-0-2-3-0-0-0</td>\n",
       "      <td>114.683602</td>\n",
       "      <td>2 Ballhandler (Iso+PnR) | 3 Wing (Spot Up+Transition)</td>\n",
       "      <td>14</td>\n",
       "    </tr>\n",
       "    <tr>\n",
       "      <th>108</th>\n",
       "      <td>1-0-1-2-0-1-0</td>\n",
       "      <td>114.677826</td>\n",
       "      <td>1 Wing (Off Screen) | 1 Ballhandler (Iso+PnR) | 2 Wing (Spot Up+Transition) | 1 Big (Roll+Cut)</td>\n",
       "      <td>28</td>\n",
       "    </tr>\n",
       "    <tr>\n",
       "      <th>52</th>\n",
       "      <td>0-1-1-2-0-0-1</td>\n",
       "      <td>114.243787</td>\n",
       "      <td>1 Ballhandler (PnR) | 1 Ballhandler (Iso+PnR) | 2 Wing (Spot Up+Transition) | 1 Big (Post Up+Roll)</td>\n",
       "      <td>51</td>\n",
       "    </tr>\n",
       "    <tr>\n",
       "      <th>131</th>\n",
       "      <td>1-1-1-1-0-0-1</td>\n",
       "      <td>114.139252</td>\n",
       "      <td>1 Wing (Off Screen) | 1 Ballhandler (PnR) | 1 Ballhandler (Iso+PnR) | 1 Wing (Spot Up+Transition) | 1 Big (Post Up+Roll)</td>\n",
       "      <td>29</td>\n",
       "    </tr>\n",
       "    <tr>\n",
       "      <th>72</th>\n",
       "      <td>0-2-0-1-1-1-0</td>\n",
       "      <td>114.054107</td>\n",
       "      <td>2 Ballhandler (PnR) | 1 Wing (Spot Up+Transition) | 1 Wing (Hand Off) | 1 Big (Roll+Cut)</td>\n",
       "      <td>15</td>\n",
       "    </tr>\n",
       "    <tr>\n",
       "      <th>21</th>\n",
       "      <td>0-0-2-2-0-1-0</td>\n",
       "      <td>113.941615</td>\n",
       "      <td>2 Ballhandler (Iso+PnR) | 2 Wing (Spot Up+Transition) | 1 Big (Roll+Cut)</td>\n",
       "      <td>21</td>\n",
       "    </tr>\n",
       "    <tr>\n",
       "      <th>61</th>\n",
       "      <td>0-1-2-1-0-1-0</td>\n",
       "      <td>113.645206</td>\n",
       "      <td>1 Ballhandler (PnR) | 2 Ballhandler (Iso+PnR) | 1 Wing (Spot Up+Transition) | 1 Big (Roll+Cut)</td>\n",
       "      <td>19</td>\n",
       "    </tr>\n",
       "    <tr>\n",
       "      <th>132</th>\n",
       "      <td>1-1-1-1-0-1-0</td>\n",
       "      <td>113.263513</td>\n",
       "      <td>1 Wing (Off Screen) | 1 Ballhandler (PnR) | 1 Ballhandler (Iso+PnR) | 1 Wing (Spot Up+Transition) | 1 Big (Roll+Cut)</td>\n",
       "      <td>54</td>\n",
       "    </tr>\n",
       "  </tbody>\n",
       "</table>\n",
       "</div>"
      ],
      "text/plain": [
       "    lineup_embedding  adj_off_Pts/Poss  \\\n",
       "114    1-0-2-1-0-1-0        115.359432   \n",
       "63     0-1-2-2-0-0-0        114.835165   \n",
       "23     0-0-2-3-0-0-0        114.683602   \n",
       "108    1-0-1-2-0-1-0        114.677826   \n",
       "52     0-1-1-2-0-0-1        114.243787   \n",
       "131    1-1-1-1-0-0-1        114.139252   \n",
       "72     0-2-0-1-1-1-0        114.054107   \n",
       "21     0-0-2-2-0-1-0        113.941615   \n",
       "61     0-1-2-1-0-1-0        113.645206   \n",
       "132    1-1-1-1-0-1-0        113.263513   \n",
       "\n",
       "                                                                                                                lineup_detail  \\\n",
       "114                            1 Wing (Off Screen) | 2 Ballhandler (Iso+PnR) | 1 Wing (Spot Up+Transition) | 1 Big (Roll+Cut)   \n",
       "63                                                1 Ballhandler (PnR) | 2 Ballhandler (Iso+PnR) | 2 Wing (Spot Up+Transition)   \n",
       "23                                                                      2 Ballhandler (Iso+PnR) | 3 Wing (Spot Up+Transition)   \n",
       "108                            1 Wing (Off Screen) | 1 Ballhandler (Iso+PnR) | 2 Wing (Spot Up+Transition) | 1 Big (Roll+Cut)   \n",
       "52                         1 Ballhandler (PnR) | 1 Ballhandler (Iso+PnR) | 2 Wing (Spot Up+Transition) | 1 Big (Post Up+Roll)   \n",
       "131  1 Wing (Off Screen) | 1 Ballhandler (PnR) | 1 Ballhandler (Iso+PnR) | 1 Wing (Spot Up+Transition) | 1 Big (Post Up+Roll)   \n",
       "72                                   2 Ballhandler (PnR) | 1 Wing (Spot Up+Transition) | 1 Wing (Hand Off) | 1 Big (Roll+Cut)   \n",
       "21                                                   2 Ballhandler (Iso+PnR) | 2 Wing (Spot Up+Transition) | 1 Big (Roll+Cut)   \n",
       "61                             1 Ballhandler (PnR) | 2 Ballhandler (Iso+PnR) | 1 Wing (Spot Up+Transition) | 1 Big (Roll+Cut)   \n",
       "132      1 Wing (Off Screen) | 1 Ballhandler (PnR) | 1 Ballhandler (Iso+PnR) | 1 Wing (Spot Up+Transition) | 1 Big (Roll+Cut)   \n",
       "\n",
       "     num_lineups  \n",
       "114           22  \n",
       "63            12  \n",
       "23            14  \n",
       "108           28  \n",
       "52            51  \n",
       "131           29  \n",
       "72            15  \n",
       "21            21  \n",
       "61            19  \n",
       "132           54  "
      ]
     },
     "execution_count": 54,
     "metadata": {},
     "output_type": "execute_result"
    }
   ],
   "source": [
    "t_3[t_3['num_lineups'] >= 10].sort_values('adj_off_Pts/Poss', ascending=False)\\\n",
    "                             .head(10)"
   ]
  },
  {
   "cell_type": "code",
   "execution_count": 55,
   "id": "258f7349",
   "metadata": {
    "ExecuteTime": {
     "end_time": "2022-06-23T13:25:10.699289Z",
     "start_time": "2022-06-23T13:25:10.664143Z"
    }
   },
   "outputs": [
    {
     "data": {
      "text/html": [
       "<div>\n",
       "<style scoped>\n",
       "    .dataframe tbody tr th:only-of-type {\n",
       "        vertical-align: middle;\n",
       "    }\n",
       "\n",
       "    .dataframe tbody tr th {\n",
       "        vertical-align: top;\n",
       "    }\n",
       "\n",
       "    .dataframe thead th {\n",
       "        text-align: right;\n",
       "    }\n",
       "</style>\n",
       "<table border=\"1\" class=\"dataframe\">\n",
       "  <thead>\n",
       "    <tr style=\"text-align: right;\">\n",
       "      <th></th>\n",
       "      <th>PG</th>\n",
       "      <th>SG</th>\n",
       "      <th>SF</th>\n",
       "      <th>PF</th>\n",
       "      <th>C</th>\n",
       "      <th>season</th>\n",
       "      <th>team</th>\n",
       "      <th>Poss</th>\n",
       "      <th>off_Pts/Poss_rank</th>\n",
       "      <th>off_Pts/Poss</th>\n",
       "      <th>off_eFG%_rank</th>\n",
       "      <th>off_eFG%</th>\n",
       "      <th>off_TOV%_rank</th>\n",
       "      <th>off_TOV%</th>\n",
       "      <th>off_OREB%_rank</th>\n",
       "      <th>off_OREB%</th>\n",
       "      <th>off_FTr_rank</th>\n",
       "      <th>off_FTr</th>\n",
       "      <th>PG_alt</th>\n",
       "      <th>SG_alt</th>\n",
       "      <th>SF_alt</th>\n",
       "      <th>PF_alt</th>\n",
       "      <th>C_alt</th>\n",
       "      <th>PG_cluster</th>\n",
       "      <th>SG_cluster</th>\n",
       "      <th>SF_cluster</th>\n",
       "      <th>PF_cluster</th>\n",
       "      <th>C_cluster</th>\n",
       "      <th>lineup_clusters</th>\n",
       "      <th>0</th>\n",
       "      <th>1</th>\n",
       "      <th>2</th>\n",
       "      <th>3</th>\n",
       "      <th>4</th>\n",
       "      <th>5</th>\n",
       "      <th>6</th>\n",
       "      <th>lineup_embedding</th>\n",
       "      <th>tm_off_Pts/Poss</th>\n",
       "      <th>adj_off_Pts/Poss</th>\n",
       "    </tr>\n",
       "  </thead>\n",
       "  <tbody>\n",
       "    <tr>\n",
       "      <th>1250</th>\n",
       "      <td>Damian Lillard</td>\n",
       "      <td>CJ McCollum</td>\n",
       "      <td>Norman Powell</td>\n",
       "      <td>Robert Covington</td>\n",
       "      <td>Enes Kanter</td>\n",
       "      <td>2020</td>\n",
       "      <td>Portland Trail Blazers</td>\n",
       "      <td>168</td>\n",
       "      <td>85.0</td>\n",
       "      <td>125.6</td>\n",
       "      <td>36.0</td>\n",
       "      <td>53.2%</td>\n",
       "      <td>74.0</td>\n",
       "      <td>11.9%</td>\n",
       "      <td>91.0</td>\n",
       "      <td>32.6%</td>\n",
       "      <td>93.0</td>\n",
       "      <td>28.0</td>\n",
       "      <td>damianlillard</td>\n",
       "      <td>cjmccollum</td>\n",
       "      <td>normanpowell</td>\n",
       "      <td>robertcovington</td>\n",
       "      <td>eneskanter</td>\n",
       "      <td>2.0</td>\n",
       "      <td>2.0</td>\n",
       "      <td>0.0</td>\n",
       "      <td>3.0</td>\n",
       "      <td>5.0</td>\n",
       "      <td>[2.0, 2.0, 0.0, 3.0, 5.0]</td>\n",
       "      <td>1</td>\n",
       "      <td>0</td>\n",
       "      <td>2</td>\n",
       "      <td>1</td>\n",
       "      <td>0</td>\n",
       "      <td>1</td>\n",
       "      <td>0</td>\n",
       "      <td>1-0-2-1-0-1-0</td>\n",
       "      <td>119.060365</td>\n",
       "      <td>122.72256</td>\n",
       "    </tr>\n",
       "  </tbody>\n",
       "</table>\n",
       "</div>"
      ],
      "text/plain": [
       "                  PG           SG             SF                PF  \\\n",
       "1250  Damian Lillard  CJ McCollum  Norman Powell  Robert Covington   \n",
       "\n",
       "                C  season                    team  Poss  off_Pts/Poss_rank  \\\n",
       "1250  Enes Kanter    2020  Portland Trail Blazers   168               85.0   \n",
       "\n",
       "      off_Pts/Poss  off_eFG%_rank off_eFG%  off_TOV%_rank off_TOV%  \\\n",
       "1250         125.6           36.0    53.2%           74.0    11.9%   \n",
       "\n",
       "      off_OREB%_rank off_OREB%  off_FTr_rank  off_FTr         PG_alt  \\\n",
       "1250            91.0     32.6%          93.0     28.0  damianlillard   \n",
       "\n",
       "          SG_alt        SF_alt           PF_alt       C_alt  PG_cluster  \\\n",
       "1250  cjmccollum  normanpowell  robertcovington  eneskanter         2.0   \n",
       "\n",
       "      SG_cluster  SF_cluster  PF_cluster  C_cluster  \\\n",
       "1250         2.0         0.0         3.0        5.0   \n",
       "\n",
       "                lineup_clusters  0  1  2  3  4  5  6 lineup_embedding  \\\n",
       "1250  [2.0, 2.0, 0.0, 3.0, 5.0]  1  0  2  1  0  1  0    1-0-2-1-0-1-0   \n",
       "\n",
       "      tm_off_Pts/Poss  adj_off_Pts/Poss  \n",
       "1250       119.060365         122.72256  "
      ]
     },
     "execution_count": 55,
     "metadata": {},
     "output_type": "execute_result"
    }
   ],
   "source": [
    "lineup_df_100[lineup_df_100['lineup_embedding'] == '1-0-2-1-0-1-0']\\\n",
    ".sort_values('adj_off_Pts/Poss', ascending=False).head(1)"
   ]
  },
  {
   "cell_type": "markdown",
   "id": "f809c876",
   "metadata": {},
   "source": [
    "Find 10 common lineup types with worst offensive ratings"
   ]
  },
  {
   "cell_type": "code",
   "execution_count": 56,
   "id": "6d29ae44",
   "metadata": {
    "ExecuteTime": {
     "end_time": "2022-06-23T13:25:10.718640Z",
     "start_time": "2022-06-23T13:25:10.703701Z"
    }
   },
   "outputs": [
    {
     "data": {
      "text/html": [
       "<div>\n",
       "<style scoped>\n",
       "    .dataframe tbody tr th:only-of-type {\n",
       "        vertical-align: middle;\n",
       "    }\n",
       "\n",
       "    .dataframe tbody tr th {\n",
       "        vertical-align: top;\n",
       "    }\n",
       "\n",
       "    .dataframe thead th {\n",
       "        text-align: right;\n",
       "    }\n",
       "</style>\n",
       "<table border=\"1\" class=\"dataframe\">\n",
       "  <thead>\n",
       "    <tr style=\"text-align: right;\">\n",
       "      <th></th>\n",
       "      <th>lineup_embedding</th>\n",
       "      <th>adj_off_Pts/Poss</th>\n",
       "      <th>lineup_detail</th>\n",
       "      <th>num_lineups</th>\n",
       "    </tr>\n",
       "  </thead>\n",
       "  <tbody>\n",
       "    <tr>\n",
       "      <th>76</th>\n",
       "      <td>0-2-0-3-0-0-0</td>\n",
       "      <td>106.299324</td>\n",
       "      <td>2 Ballhandler (PnR) | 3 Wing (Spot Up+Transition)</td>\n",
       "      <td>19</td>\n",
       "    </tr>\n",
       "    <tr>\n",
       "      <th>127</th>\n",
       "      <td>1-1-0-3-0-0-0</td>\n",
       "      <td>106.857152</td>\n",
       "      <td>1 Wing (Off Screen) | 1 Ballhandler (PnR) | 3 Wing (Spot Up+Transition)</td>\n",
       "      <td>14</td>\n",
       "    </tr>\n",
       "    <tr>\n",
       "      <th>164</th>\n",
       "      <td>2-1-0-1-0-1-0</td>\n",
       "      <td>107.326704</td>\n",
       "      <td>2 Wing (Off Screen) | 1 Ballhandler (PnR) | 1 Wing (Spot Up+Transition) | 1 Big (Roll+Cut)</td>\n",
       "      <td>15</td>\n",
       "    </tr>\n",
       "    <tr>\n",
       "      <th>83</th>\n",
       "      <td>0-2-1-2-0-0-0</td>\n",
       "      <td>108.091558</td>\n",
       "      <td>2 Ballhandler (PnR) | 1 Ballhandler (Iso+PnR) | 2 Wing (Spot Up+Transition)</td>\n",
       "      <td>11</td>\n",
       "    </tr>\n",
       "    <tr>\n",
       "      <th>47</th>\n",
       "      <td>0-1-1-1-0-0-2</td>\n",
       "      <td>108.222316</td>\n",
       "      <td>1 Ballhandler (PnR) | 1 Ballhandler (Iso+PnR) | 1 Wing (Spot Up+Transition) | 2 Big (Post Up+Roll)</td>\n",
       "      <td>10</td>\n",
       "    </tr>\n",
       "    <tr>\n",
       "      <th>143</th>\n",
       "      <td>1-2-0-1-0-0-1</td>\n",
       "      <td>108.833384</td>\n",
       "      <td>1 Wing (Off Screen) | 2 Ballhandler (PnR) | 1 Wing (Spot Up+Transition) | 1 Big (Post Up+Roll)</td>\n",
       "      <td>24</td>\n",
       "    </tr>\n",
       "    <tr>\n",
       "      <th>92</th>\n",
       "      <td>0-3-0-1-0-1-0</td>\n",
       "      <td>109.470857</td>\n",
       "      <td>3 Ballhandler (PnR) | 1 Wing (Spot Up+Transition) | 1 Big (Roll+Cut)</td>\n",
       "      <td>24</td>\n",
       "    </tr>\n",
       "    <tr>\n",
       "      <th>126</th>\n",
       "      <td>1-1-0-2-0-1-0</td>\n",
       "      <td>109.493412</td>\n",
       "      <td>1 Wing (Off Screen) | 1 Ballhandler (PnR) | 2 Wing (Spot Up+Transition) | 1 Big (Roll+Cut)</td>\n",
       "      <td>41</td>\n",
       "    </tr>\n",
       "    <tr>\n",
       "      <th>71</th>\n",
       "      <td>0-2-0-1-1-0-1</td>\n",
       "      <td>109.623583</td>\n",
       "      <td>2 Ballhandler (PnR) | 1 Wing (Spot Up+Transition) | 1 Wing (Hand Off) | 1 Big (Post Up+Roll)</td>\n",
       "      <td>12</td>\n",
       "    </tr>\n",
       "    <tr>\n",
       "      <th>138</th>\n",
       "      <td>1-2-0-0-0-0-2</td>\n",
       "      <td>109.702516</td>\n",
       "      <td>1 Wing (Off Screen) | 2 Ballhandler (PnR) | 2 Big (Post Up+Roll)</td>\n",
       "      <td>21</td>\n",
       "    </tr>\n",
       "  </tbody>\n",
       "</table>\n",
       "</div>"
      ],
      "text/plain": [
       "    lineup_embedding  adj_off_Pts/Poss  \\\n",
       "76     0-2-0-3-0-0-0        106.299324   \n",
       "127    1-1-0-3-0-0-0        106.857152   \n",
       "164    2-1-0-1-0-1-0        107.326704   \n",
       "83     0-2-1-2-0-0-0        108.091558   \n",
       "47     0-1-1-1-0-0-2        108.222316   \n",
       "143    1-2-0-1-0-0-1        108.833384   \n",
       "92     0-3-0-1-0-1-0        109.470857   \n",
       "126    1-1-0-2-0-1-0        109.493412   \n",
       "71     0-2-0-1-1-0-1        109.623583   \n",
       "138    1-2-0-0-0-0-2        109.702516   \n",
       "\n",
       "                                                                                          lineup_detail  \\\n",
       "76                                                    2 Ballhandler (PnR) | 3 Wing (Spot Up+Transition)   \n",
       "127                             1 Wing (Off Screen) | 1 Ballhandler (PnR) | 3 Wing (Spot Up+Transition)   \n",
       "164          2 Wing (Off Screen) | 1 Ballhandler (PnR) | 1 Wing (Spot Up+Transition) | 1 Big (Roll+Cut)   \n",
       "83                          2 Ballhandler (PnR) | 1 Ballhandler (Iso+PnR) | 2 Wing (Spot Up+Transition)   \n",
       "47   1 Ballhandler (PnR) | 1 Ballhandler (Iso+PnR) | 1 Wing (Spot Up+Transition) | 2 Big (Post Up+Roll)   \n",
       "143      1 Wing (Off Screen) | 2 Ballhandler (PnR) | 1 Wing (Spot Up+Transition) | 1 Big (Post Up+Roll)   \n",
       "92                                 3 Ballhandler (PnR) | 1 Wing (Spot Up+Transition) | 1 Big (Roll+Cut)   \n",
       "126          1 Wing (Off Screen) | 1 Ballhandler (PnR) | 2 Wing (Spot Up+Transition) | 1 Big (Roll+Cut)   \n",
       "71         2 Ballhandler (PnR) | 1 Wing (Spot Up+Transition) | 1 Wing (Hand Off) | 1 Big (Post Up+Roll)   \n",
       "138                                    1 Wing (Off Screen) | 2 Ballhandler (PnR) | 2 Big (Post Up+Roll)   \n",
       "\n",
       "     num_lineups  \n",
       "76            19  \n",
       "127           14  \n",
       "164           15  \n",
       "83            11  \n",
       "47            10  \n",
       "143           24  \n",
       "92            24  \n",
       "126           41  \n",
       "71            12  \n",
       "138           21  "
      ]
     },
     "execution_count": 56,
     "metadata": {},
     "output_type": "execute_result"
    }
   ],
   "source": [
    "t_3[t_3['num_lineups'] >= 10].sort_values('adj_off_Pts/Poss').head(10)"
   ]
  },
  {
   "cell_type": "code",
   "execution_count": 57,
   "id": "c0c12016",
   "metadata": {
    "ExecuteTime": {
     "end_time": "2022-06-23T13:25:10.761047Z",
     "start_time": "2022-06-23T13:25:10.720919Z"
    }
   },
   "outputs": [
    {
     "data": {
      "text/html": [
       "<div>\n",
       "<style scoped>\n",
       "    .dataframe tbody tr th:only-of-type {\n",
       "        vertical-align: middle;\n",
       "    }\n",
       "\n",
       "    .dataframe tbody tr th {\n",
       "        vertical-align: top;\n",
       "    }\n",
       "\n",
       "    .dataframe thead th {\n",
       "        text-align: right;\n",
       "    }\n",
       "</style>\n",
       "<table border=\"1\" class=\"dataframe\">\n",
       "  <thead>\n",
       "    <tr style=\"text-align: right;\">\n",
       "      <th></th>\n",
       "      <th>PG</th>\n",
       "      <th>SG</th>\n",
       "      <th>SF</th>\n",
       "      <th>PF</th>\n",
       "      <th>C</th>\n",
       "      <th>season</th>\n",
       "      <th>team</th>\n",
       "      <th>Poss</th>\n",
       "      <th>off_Pts/Poss_rank</th>\n",
       "      <th>off_Pts/Poss</th>\n",
       "      <th>off_eFG%_rank</th>\n",
       "      <th>off_eFG%</th>\n",
       "      <th>off_TOV%_rank</th>\n",
       "      <th>off_TOV%</th>\n",
       "      <th>off_OREB%_rank</th>\n",
       "      <th>off_OREB%</th>\n",
       "      <th>off_FTr_rank</th>\n",
       "      <th>off_FTr</th>\n",
       "      <th>PG_alt</th>\n",
       "      <th>SG_alt</th>\n",
       "      <th>SF_alt</th>\n",
       "      <th>PF_alt</th>\n",
       "      <th>C_alt</th>\n",
       "      <th>PG_cluster</th>\n",
       "      <th>SG_cluster</th>\n",
       "      <th>SF_cluster</th>\n",
       "      <th>PF_cluster</th>\n",
       "      <th>C_cluster</th>\n",
       "      <th>lineup_clusters</th>\n",
       "      <th>0</th>\n",
       "      <th>1</th>\n",
       "      <th>2</th>\n",
       "      <th>3</th>\n",
       "      <th>4</th>\n",
       "      <th>5</th>\n",
       "      <th>6</th>\n",
       "      <th>lineup_embedding</th>\n",
       "      <th>tm_off_Pts/Poss</th>\n",
       "      <th>adj_off_Pts/Poss</th>\n",
       "    </tr>\n",
       "  </thead>\n",
       "  <tbody>\n",
       "    <tr>\n",
       "      <th>1043</th>\n",
       "      <td>Theo Maledon</td>\n",
       "      <td>Hamidou Diallo</td>\n",
       "      <td>Kenrich Williams</td>\n",
       "      <td>Aleksej Pokusevski</td>\n",
       "      <td>Mike Muscala</td>\n",
       "      <td>2020</td>\n",
       "      <td>Oklahoma City Thunder</td>\n",
       "      <td>151</td>\n",
       "      <td>2.0</td>\n",
       "      <td>89.4</td>\n",
       "      <td>3.0</td>\n",
       "      <td>45.0%</td>\n",
       "      <td>10.0</td>\n",
       "      <td>17.9%</td>\n",
       "      <td>77.0</td>\n",
       "      <td>29.9%</td>\n",
       "      <td>1.0</td>\n",
       "      <td>6.4</td>\n",
       "      <td>theomaledon</td>\n",
       "      <td>hamidoudiallo</td>\n",
       "      <td>kenrichwilliams</td>\n",
       "      <td>aleksejpokusevski</td>\n",
       "      <td>mikemuscala</td>\n",
       "      <td>1.0</td>\n",
       "      <td>3.0</td>\n",
       "      <td>3.0</td>\n",
       "      <td>1.0</td>\n",
       "      <td>3.0</td>\n",
       "      <td>[1.0, 3.0, 3.0, 1.0, 3.0]</td>\n",
       "      <td>0</td>\n",
       "      <td>2</td>\n",
       "      <td>0</td>\n",
       "      <td>3</td>\n",
       "      <td>0</td>\n",
       "      <td>0</td>\n",
       "      <td>0</td>\n",
       "      <td>0-2-0-3-0-0-0</td>\n",
       "      <td>103.74686</td>\n",
       "      <td>96.525607</td>\n",
       "    </tr>\n",
       "  </tbody>\n",
       "</table>\n",
       "</div>"
      ],
      "text/plain": [
       "                PG              SG                SF                  PF  \\\n",
       "1043  Theo Maledon  Hamidou Diallo  Kenrich Williams  Aleksej Pokusevski   \n",
       "\n",
       "                 C  season                   team  Poss  off_Pts/Poss_rank  \\\n",
       "1043  Mike Muscala    2020  Oklahoma City Thunder   151                2.0   \n",
       "\n",
       "      off_Pts/Poss  off_eFG%_rank off_eFG%  off_TOV%_rank off_TOV%  \\\n",
       "1043          89.4            3.0    45.0%           10.0    17.9%   \n",
       "\n",
       "      off_OREB%_rank off_OREB%  off_FTr_rank  off_FTr       PG_alt  \\\n",
       "1043            77.0     29.9%           1.0      6.4  theomaledon   \n",
       "\n",
       "             SG_alt           SF_alt             PF_alt        C_alt  \\\n",
       "1043  hamidoudiallo  kenrichwilliams  aleksejpokusevski  mikemuscala   \n",
       "\n",
       "      PG_cluster  SG_cluster  SF_cluster  PF_cluster  C_cluster  \\\n",
       "1043         1.0         3.0         3.0         1.0        3.0   \n",
       "\n",
       "                lineup_clusters  0  1  2  3  4  5  6 lineup_embedding  \\\n",
       "1043  [1.0, 3.0, 3.0, 1.0, 3.0]  0  2  0  3  0  0  0    0-2-0-3-0-0-0   \n",
       "\n",
       "      tm_off_Pts/Poss  adj_off_Pts/Poss  \n",
       "1043        103.74686         96.525607  "
      ]
     },
     "execution_count": 57,
     "metadata": {},
     "output_type": "execute_result"
    }
   ],
   "source": [
    "lineup_df_100[lineup_df_100['lineup_embedding'] == '0-2-0-3-0-0-0']\\\n",
    ".sort_values('adj_off_Pts/Poss').head(1)"
   ]
  },
  {
   "cell_type": "markdown",
   "id": "deeea0ab",
   "metadata": {},
   "source": [
    "### Ticket 4: How good are the 'Death Lineups' of the Warriors?"
   ]
  },
  {
   "cell_type": "code",
   "execution_count": 58,
   "id": "877969d5",
   "metadata": {
    "ExecuteTime": {
     "end_time": "2022-06-23T13:25:10.809467Z",
     "start_time": "2022-06-23T13:25:10.764707Z"
    }
   },
   "outputs": [
    {
     "data": {
      "text/html": [
       "<div>\n",
       "<style scoped>\n",
       "    .dataframe tbody tr th:only-of-type {\n",
       "        vertical-align: middle;\n",
       "    }\n",
       "\n",
       "    .dataframe tbody tr th {\n",
       "        vertical-align: top;\n",
       "    }\n",
       "\n",
       "    .dataframe thead th {\n",
       "        text-align: right;\n",
       "    }\n",
       "</style>\n",
       "<table border=\"1\" class=\"dataframe\">\n",
       "  <thead>\n",
       "    <tr style=\"text-align: right;\">\n",
       "      <th></th>\n",
       "      <th>PG</th>\n",
       "      <th>SG</th>\n",
       "      <th>SF</th>\n",
       "      <th>PF</th>\n",
       "      <th>C</th>\n",
       "      <th>season</th>\n",
       "      <th>team</th>\n",
       "      <th>Poss</th>\n",
       "      <th>off_Pts/Poss_rank</th>\n",
       "      <th>off_Pts/Poss</th>\n",
       "      <th>off_eFG%_rank</th>\n",
       "      <th>off_eFG%</th>\n",
       "      <th>off_TOV%_rank</th>\n",
       "      <th>off_TOV%</th>\n",
       "      <th>off_OREB%_rank</th>\n",
       "      <th>off_OREB%</th>\n",
       "      <th>off_FTr_rank</th>\n",
       "      <th>off_FTr</th>\n",
       "      <th>PG_alt</th>\n",
       "      <th>SG_alt</th>\n",
       "      <th>SF_alt</th>\n",
       "      <th>PF_alt</th>\n",
       "      <th>C_alt</th>\n",
       "      <th>PG_cluster</th>\n",
       "      <th>SG_cluster</th>\n",
       "      <th>SF_cluster</th>\n",
       "      <th>PF_cluster</th>\n",
       "      <th>C_cluster</th>\n",
       "      <th>lineup_clusters</th>\n",
       "      <th>0</th>\n",
       "      <th>1</th>\n",
       "      <th>2</th>\n",
       "      <th>3</th>\n",
       "      <th>4</th>\n",
       "      <th>5</th>\n",
       "      <th>6</th>\n",
       "      <th>lineup_embedding</th>\n",
       "      <th>tm_off_Pts/Poss</th>\n",
       "      <th>adj_off_Pts/Poss</th>\n",
       "    </tr>\n",
       "  </thead>\n",
       "  <tbody>\n",
       "    <tr>\n",
       "      <th>453</th>\n",
       "      <td>Stephen Curry</td>\n",
       "      <td>Klay Thompson</td>\n",
       "      <td>Andre Iguodala</td>\n",
       "      <td>Kevin Durant</td>\n",
       "      <td>Draymond Green</td>\n",
       "      <td>2018</td>\n",
       "      <td>Golden State Warriors</td>\n",
       "      <td>388</td>\n",
       "      <td>96.0</td>\n",
       "      <td>132.5</td>\n",
       "      <td>98.0</td>\n",
       "      <td>65.9%</td>\n",
       "      <td>55.0</td>\n",
       "      <td>13.4%</td>\n",
       "      <td>4.0</td>\n",
       "      <td>15.6%</td>\n",
       "      <td>93.0</td>\n",
       "      <td>29.6</td>\n",
       "      <td>stephencurry</td>\n",
       "      <td>klaythompson</td>\n",
       "      <td>andreiguodala</td>\n",
       "      <td>kevindurant</td>\n",
       "      <td>draymondgreen</td>\n",
       "      <td>0.0</td>\n",
       "      <td>0.0</td>\n",
       "      <td>3.0</td>\n",
       "      <td>2.0</td>\n",
       "      <td>3.0</td>\n",
       "      <td>[0.0, 0.0, 3.0, 2.0, 3.0]</td>\n",
       "      <td>2</td>\n",
       "      <td>0</td>\n",
       "      <td>1</td>\n",
       "      <td>2</td>\n",
       "      <td>0</td>\n",
       "      <td>0</td>\n",
       "      <td>0</td>\n",
       "      <td>2-0-1-2-0-0-0</td>\n",
       "      <td>116.488638</td>\n",
       "      <td>132.500000</td>\n",
       "    </tr>\n",
       "    <tr>\n",
       "      <th>442</th>\n",
       "      <td>Stephen Curry</td>\n",
       "      <td>Klay Thompson</td>\n",
       "      <td>Andre Iguodala</td>\n",
       "      <td>Kevin Durant</td>\n",
       "      <td>Draymond Green</td>\n",
       "      <td>2017</td>\n",
       "      <td>Golden State Warriors</td>\n",
       "      <td>275</td>\n",
       "      <td>97.0</td>\n",
       "      <td>127.6</td>\n",
       "      <td>92.0</td>\n",
       "      <td>59.9%</td>\n",
       "      <td>87.0</td>\n",
       "      <td>11.3%</td>\n",
       "      <td>18.0</td>\n",
       "      <td>19.7%</td>\n",
       "      <td>94.0</td>\n",
       "      <td>30.9</td>\n",
       "      <td>stephencurry</td>\n",
       "      <td>klaythompson</td>\n",
       "      <td>andreiguodala</td>\n",
       "      <td>kevindurant</td>\n",
       "      <td>draymondgreen</td>\n",
       "      <td>0.0</td>\n",
       "      <td>0.0</td>\n",
       "      <td>3.0</td>\n",
       "      <td>2.0</td>\n",
       "      <td>3.0</td>\n",
       "      <td>[0.0, 0.0, 3.0, 2.0, 3.0]</td>\n",
       "      <td>2</td>\n",
       "      <td>0</td>\n",
       "      <td>1</td>\n",
       "      <td>2</td>\n",
       "      <td>0</td>\n",
       "      <td>0</td>\n",
       "      <td>0</td>\n",
       "      <td>2-0-1-2-0-0-0</td>\n",
       "      <td>113.744191</td>\n",
       "      <td>126.445349</td>\n",
       "    </tr>\n",
       "  </tbody>\n",
       "</table>\n",
       "</div>"
      ],
      "text/plain": [
       "                PG             SG              SF            PF  \\\n",
       "453  Stephen Curry  Klay Thompson  Andre Iguodala  Kevin Durant   \n",
       "442  Stephen Curry  Klay Thompson  Andre Iguodala  Kevin Durant   \n",
       "\n",
       "                  C  season                   team  Poss  off_Pts/Poss_rank  \\\n",
       "453  Draymond Green    2018  Golden State Warriors   388               96.0   \n",
       "442  Draymond Green    2017  Golden State Warriors   275               97.0   \n",
       "\n",
       "     off_Pts/Poss  off_eFG%_rank off_eFG%  off_TOV%_rank off_TOV%  \\\n",
       "453         132.5           98.0    65.9%           55.0    13.4%   \n",
       "442         127.6           92.0    59.9%           87.0    11.3%   \n",
       "\n",
       "     off_OREB%_rank off_OREB%  off_FTr_rank  off_FTr        PG_alt  \\\n",
       "453             4.0     15.6%          93.0     29.6  stephencurry   \n",
       "442            18.0     19.7%          94.0     30.9  stephencurry   \n",
       "\n",
       "           SG_alt         SF_alt       PF_alt          C_alt  PG_cluster  \\\n",
       "453  klaythompson  andreiguodala  kevindurant  draymondgreen         0.0   \n",
       "442  klaythompson  andreiguodala  kevindurant  draymondgreen         0.0   \n",
       "\n",
       "     SG_cluster  SF_cluster  PF_cluster  C_cluster            lineup_clusters  \\\n",
       "453         0.0         3.0         2.0        3.0  [0.0, 0.0, 3.0, 2.0, 3.0]   \n",
       "442         0.0         3.0         2.0        3.0  [0.0, 0.0, 3.0, 2.0, 3.0]   \n",
       "\n",
       "     0  1  2  3  4  5  6 lineup_embedding  tm_off_Pts/Poss  adj_off_Pts/Poss  \n",
       "453  2  0  1  2  0  0  0    2-0-1-2-0-0-0       116.488638        132.500000  \n",
       "442  2  0  1  2  0  0  0    2-0-1-2-0-0-0       113.744191        126.445349  "
      ]
     },
     "execution_count": 58,
     "metadata": {},
     "output_type": "execute_result"
    }
   ],
   "source": [
    "lineup_df_100[(lineup_df_100['lineup_embedding'] == '2-0-1-2-0-0-0') &\n",
    "              (lineup_df_100['team'] == 'Golden State Warriors')]\\\n",
    ".sort_values('adj_off_Pts/Poss', ascending=False).head(2)"
   ]
  },
  {
   "cell_type": "markdown",
   "id": "ab1cb7c2",
   "metadata": {},
   "source": [
    "### Ticket 5: What are the differences that 'alpha/iso-heavy ballhandlers' can provide?"
   ]
  },
  {
   "cell_type": "code",
   "execution_count": 59,
   "id": "e4102e19",
   "metadata": {
    "ExecuteTime": {
     "end_time": "2022-06-23T13:25:10.820518Z",
     "start_time": "2022-06-23T13:25:10.812493Z"
    }
   },
   "outputs": [
    {
     "data": {
      "text/plain": [
       "{2: 'Ballhandler (Iso+PnR)',\n",
       " 1: 'Ballhandler (PnR)',\n",
       " 6: 'Big (Post Up+Roll)',\n",
       " 5: 'Big (Roll+Cut)',\n",
       " 0: 'Wing (Off Screen)',\n",
       " 4: 'Wing (Hand Off)',\n",
       " 3: 'Wing (Spot Up+Transition)'}"
      ]
     },
     "execution_count": 59,
     "metadata": {},
     "output_type": "execute_result"
    }
   ],
   "source": [
    "cluster_dict_detail"
   ]
  },
  {
   "cell_type": "code",
   "execution_count": 60,
   "id": "ded53eee",
   "metadata": {
    "ExecuteTime": {
     "end_time": "2022-06-23T13:25:10.841535Z",
     "start_time": "2022-06-23T13:25:10.823000Z"
    }
   },
   "outputs": [
    {
     "data": {
      "text/html": [
       "<div>\n",
       "<style scoped>\n",
       "    .dataframe tbody tr th:only-of-type {\n",
       "        vertical-align: middle;\n",
       "    }\n",
       "\n",
       "    .dataframe tbody tr th {\n",
       "        vertical-align: top;\n",
       "    }\n",
       "\n",
       "    .dataframe thead th {\n",
       "        text-align: right;\n",
       "    }\n",
       "</style>\n",
       "<table border=\"1\" class=\"dataframe\">\n",
       "  <thead>\n",
       "    <tr style=\"text-align: right;\">\n",
       "      <th></th>\n",
       "      <th>count</th>\n",
       "      <th>mean</th>\n",
       "    </tr>\n",
       "    <tr>\n",
       "      <th>2</th>\n",
       "      <th></th>\n",
       "      <th></th>\n",
       "    </tr>\n",
       "  </thead>\n",
       "  <tbody>\n",
       "    <tr>\n",
       "      <th>0</th>\n",
       "      <td>681</td>\n",
       "      <td>110.272924</td>\n",
       "    </tr>\n",
       "    <tr>\n",
       "      <th>1</th>\n",
       "      <td>555</td>\n",
       "      <td>112.500675</td>\n",
       "    </tr>\n",
       "    <tr>\n",
       "      <th>2</th>\n",
       "      <td>257</td>\n",
       "      <td>112.805881</td>\n",
       "    </tr>\n",
       "    <tr>\n",
       "      <th>3</th>\n",
       "      <td>28</td>\n",
       "      <td>114.394859</td>\n",
       "    </tr>\n",
       "  </tbody>\n",
       "</table>\n",
       "</div>"
      ],
      "text/plain": [
       "   count        mean\n",
       "2                   \n",
       "0    681  110.272924\n",
       "1    555  112.500675\n",
       "2    257  112.805881\n",
       "3     28  114.394859"
      ]
     },
     "execution_count": 60,
     "metadata": {},
     "output_type": "execute_result"
    }
   ],
   "source": [
    "lineup_df_100.groupby(2)['adj_off_Pts/Poss'].agg(['count', 'mean'])"
   ]
  },
  {
   "cell_type": "markdown",
   "id": "9b5cb4e1",
   "metadata": {},
   "source": [
    "## Modeling"
   ]
  },
  {
   "cell_type": "code",
   "execution_count": null,
   "id": "4d68c2ee",
   "metadata": {},
   "outputs": [],
   "source": []
  }
 ],
 "metadata": {
  "kernelspec": {
   "display_name": "Python 3 (ipykernel)",
   "language": "python",
   "name": "python3"
  },
  "language_info": {
   "codemirror_mode": {
    "name": "ipython",
    "version": 3
   },
   "file_extension": ".py",
   "mimetype": "text/x-python",
   "name": "python",
   "nbconvert_exporter": "python",
   "pygments_lexer": "ipython3",
   "version": "3.8.12"
  }
 },
 "nbformat": 4,
 "nbformat_minor": 5
}
