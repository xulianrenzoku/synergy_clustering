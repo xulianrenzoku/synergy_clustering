{
 "cells": [
  {
   "cell_type": "code",
   "execution_count": 1,
   "id": "5972c6f3",
   "metadata": {
    "ExecuteTime": {
     "end_time": "2022-08-03T09:46:08.619162Z",
     "start_time": "2022-08-03T09:46:08.081805Z"
    }
   },
   "outputs": [],
   "source": [
    "import pandas as pd\n",
    "import numpy as np\n",
    "import os\n",
    "import pickle\n",
    "import itertools\n",
    "from collections import Counter"
   ]
  },
  {
   "cell_type": "code",
   "execution_count": 2,
   "id": "fefd4678",
   "metadata": {
    "ExecuteTime": {
     "end_time": "2022-08-03T09:46:08.626218Z",
     "start_time": "2022-08-03T09:46:08.621901Z"
    }
   },
   "outputs": [],
   "source": [
    "pd.set_option('display.max_columns', None)\n",
    "pd.set_option('display.max_colwidth', None)"
   ]
  },
  {
   "cell_type": "code",
   "execution_count": 3,
   "id": "40c3f31e",
   "metadata": {
    "ExecuteTime": {
     "end_time": "2022-08-03T09:46:08.878221Z",
     "start_time": "2022-08-03T09:46:08.874861Z"
    }
   },
   "outputs": [],
   "source": [
    "import warnings\n",
    "warnings.filterwarnings('ignore')"
   ]
  },
  {
   "cell_type": "code",
   "execution_count": 4,
   "id": "4b979ec1",
   "metadata": {
    "ExecuteTime": {
     "end_time": "2022-08-03T09:46:10.256532Z",
     "start_time": "2022-08-03T09:46:08.948583Z"
    }
   },
   "outputs": [],
   "source": [
    "import seaborn as sns\n",
    "import matplotlib\n",
    "import matplotlib.pyplot as plt\n",
    "from IPython.core.pylabtools import figsize"
   ]
  },
  {
   "cell_type": "code",
   "execution_count": 5,
   "id": "2b98bcea",
   "metadata": {
    "ExecuteTime": {
     "end_time": "2022-08-03T09:46:19.591795Z",
     "start_time": "2022-08-03T09:46:10.259034Z"
    }
   },
   "outputs": [],
   "source": [
    "from scipy import stats\n",
    "from scipy.stats import norm, gamma, linregress, skew\n",
    "from sklearn.cluster import KMeans, SpectralClustering, AgglomerativeClustering \n",
    "from sklearn.preprocessing import StandardScaler, RobustScaler, Normalizer, OneHotEncoder\n",
    "from sklearn.decomposition import PCA\n",
    "from sklearn.manifold import TSNE\n",
    "from sklearn.pipeline import make_pipeline\n",
    "from sklearn.metrics import r2_score, mean_squared_error\n",
    "import statsmodels.api as sm\n",
    "import pymc3 as pm"
   ]
  },
  {
   "cell_type": "code",
   "execution_count": 6,
   "id": "10e86cfc",
   "metadata": {
    "ExecuteTime": {
     "end_time": "2022-08-03T09:46:19.598434Z",
     "start_time": "2022-08-03T09:46:19.594069Z"
    }
   },
   "outputs": [],
   "source": [
    "def dump_pickle(file, filename):\n",
    "    outfile = open(filename, 'wb')\n",
    "    pickle.dump(file, outfile)\n",
    "    outfile.close()\n",
    "\n",
    "def load_pickle(filename):\n",
    "    infile = open(filename, 'rb')\n",
    "    file = pickle.load(infile)\n",
    "    infile.close()\n",
    "    return file"
   ]
  },
  {
   "cell_type": "code",
   "execution_count": 7,
   "id": "753d0ec4",
   "metadata": {
    "ExecuteTime": {
     "end_time": "2022-08-03T09:46:19.605403Z",
     "start_time": "2022-08-03T09:46:19.601943Z"
    }
   },
   "outputs": [],
   "source": [
    "sns.set()"
   ]
  },
  {
   "cell_type": "markdown",
   "id": "33c6b325",
   "metadata": {},
   "source": [
    "## Data Prep"
   ]
  },
  {
   "cell_type": "markdown",
   "id": "4f4cead8",
   "metadata": {},
   "source": [
    "Read cluster data"
   ]
  },
  {
   "cell_type": "code",
   "execution_count": 8,
   "id": "78dc7bb1",
   "metadata": {
    "ExecuteTime": {
     "end_time": "2022-08-03T09:46:19.674684Z",
     "start_time": "2022-08-03T09:46:19.609054Z"
    }
   },
   "outputs": [
    {
     "data": {
      "text/plain": [
       "(1774, 116)"
      ]
     },
     "execution_count": 8,
     "metadata": {},
     "output_type": "execute_result"
    }
   ],
   "source": [
    "df = pd.read_csv('nba_cleaned.csv')\n",
    "df.shape"
   ]
  },
  {
   "cell_type": "code",
   "execution_count": 9,
   "id": "89de3c82",
   "metadata": {
    "ExecuteTime": {
     "end_time": "2022-08-03T09:46:19.691507Z",
     "start_time": "2022-08-03T09:46:19.676805Z"
    }
   },
   "outputs": [
    {
     "data": {
      "text/html": [
       "<div>\n",
       "<style scoped>\n",
       "    .dataframe tbody tr th:only-of-type {\n",
       "        vertical-align: middle;\n",
       "    }\n",
       "\n",
       "    .dataframe tbody tr th {\n",
       "        vertical-align: top;\n",
       "    }\n",
       "\n",
       "    .dataframe thead th {\n",
       "        text-align: right;\n",
       "    }\n",
       "</style>\n",
       "<table border=\"1\" class=\"dataframe\">\n",
       "  <thead>\n",
       "    <tr style=\"text-align: right;\">\n",
       "      <th></th>\n",
       "      <th>Player</th>\n",
       "      <th>season</th>\n",
       "      <th>team</th>\n",
       "      <th>player_cluster</th>\n",
       "    </tr>\n",
       "  </thead>\n",
       "  <tbody>\n",
       "    <tr>\n",
       "      <th>0</th>\n",
       "      <td>Marc Gasol</td>\n",
       "      <td>2017</td>\n",
       "      <td>Memphis Grizzlies</td>\n",
       "      <td>6</td>\n",
       "    </tr>\n",
       "    <tr>\n",
       "      <th>1</th>\n",
       "      <td>Tyreke Evans</td>\n",
       "      <td>2017</td>\n",
       "      <td>Memphis Grizzlies</td>\n",
       "      <td>2</td>\n",
       "    </tr>\n",
       "    <tr>\n",
       "      <th>2</th>\n",
       "      <td>Dillon Brooks</td>\n",
       "      <td>2017</td>\n",
       "      <td>Memphis Grizzlies</td>\n",
       "      <td>1</td>\n",
       "    </tr>\n",
       "    <tr>\n",
       "      <th>3</th>\n",
       "      <td>Jarell Martin</td>\n",
       "      <td>2017</td>\n",
       "      <td>Memphis Grizzlies</td>\n",
       "      <td>3</td>\n",
       "    </tr>\n",
       "    <tr>\n",
       "      <th>4</th>\n",
       "      <td>Mario Chalmers</td>\n",
       "      <td>2017</td>\n",
       "      <td>Memphis Grizzlies</td>\n",
       "      <td>1</td>\n",
       "    </tr>\n",
       "  </tbody>\n",
       "</table>\n",
       "</div>"
      ],
      "text/plain": [
       "           Player  season               team  player_cluster\n",
       "0      Marc Gasol    2017  Memphis Grizzlies               6\n",
       "1    Tyreke Evans    2017  Memphis Grizzlies               2\n",
       "2   Dillon Brooks    2017  Memphis Grizzlies               1\n",
       "3   Jarell Martin    2017  Memphis Grizzlies               3\n",
       "4  Mario Chalmers    2017  Memphis Grizzlies               1"
      ]
     },
     "execution_count": 9,
     "metadata": {},
     "output_type": "execute_result"
    }
   ],
   "source": [
    "label_cols = ['Player', 'Season', 'Team', 'player_cluster']\n",
    "label_df = df[label_cols].rename(columns={'Season': 'season',\n",
    "                                          'Team': 'team'})\n",
    "label_df.head()"
   ]
  },
  {
   "cell_type": "markdown",
   "id": "78f27199",
   "metadata": {},
   "source": [
    "Read lineup data by CleaningTheGlass"
   ]
  },
  {
   "cell_type": "code",
   "execution_count": 10,
   "id": "346c9863",
   "metadata": {
    "ExecuteTime": {
     "end_time": "2022-08-03T09:46:20.246638Z",
     "start_time": "2022-08-03T09:46:19.693755Z"
    }
   },
   "outputs": [
    {
     "data": {
      "text/plain": [
       "(67655, 30)"
      ]
     },
     "execution_count": 10,
     "metadata": {},
     "output_type": "execute_result"
    }
   ],
   "source": [
    "lineup_df = pd.read_csv('ctg_nba_lineup_stats.csv')\n",
    "lineup_df = lineup_df[lineup_df['season'] != 2016].reset_index(drop=True)\n",
    "lineup_df.shape"
   ]
  },
  {
   "cell_type": "code",
   "execution_count": 11,
   "id": "35abb528",
   "metadata": {
    "ExecuteTime": {
     "end_time": "2022-08-03T09:46:20.288518Z",
     "start_time": "2022-08-03T09:46:20.249606Z"
    }
   },
   "outputs": [
    {
     "data": {
      "text/html": [
       "<div>\n",
       "<style scoped>\n",
       "    .dataframe tbody tr th:only-of-type {\n",
       "        vertical-align: middle;\n",
       "    }\n",
       "\n",
       "    .dataframe tbody tr th {\n",
       "        vertical-align: top;\n",
       "    }\n",
       "\n",
       "    .dataframe thead th {\n",
       "        text-align: right;\n",
       "    }\n",
       "</style>\n",
       "<table border=\"1\" class=\"dataframe\">\n",
       "  <thead>\n",
       "    <tr style=\"text-align: right;\">\n",
       "      <th></th>\n",
       "      <th>PG</th>\n",
       "      <th>SG</th>\n",
       "      <th>SF</th>\n",
       "      <th>PF</th>\n",
       "      <th>C</th>\n",
       "      <th>season</th>\n",
       "      <th>team</th>\n",
       "      <th>Poss</th>\n",
       "      <th>off_Pts/Poss_rank</th>\n",
       "      <th>off_Pts/Poss</th>\n",
       "      <th>off_eFG%_rank</th>\n",
       "      <th>off_eFG%</th>\n",
       "      <th>off_TOV%_rank</th>\n",
       "      <th>off_TOV%</th>\n",
       "      <th>off_OREB%_rank</th>\n",
       "      <th>off_OREB%</th>\n",
       "      <th>off_FTr_rank</th>\n",
       "      <th>off_FTr</th>\n",
       "    </tr>\n",
       "  </thead>\n",
       "  <tbody>\n",
       "    <tr>\n",
       "      <th>0</th>\n",
       "      <td>Dennis Schroder</td>\n",
       "      <td>Kent Bazemore</td>\n",
       "      <td>Taurean Prince</td>\n",
       "      <td>Ersan Ilyasova</td>\n",
       "      <td>Miles Plumlee</td>\n",
       "      <td>2017</td>\n",
       "      <td>Atlanta Hawks</td>\n",
       "      <td>733</td>\n",
       "      <td>18.0</td>\n",
       "      <td>99.9</td>\n",
       "      <td>41.0</td>\n",
       "      <td>51.5%</td>\n",
       "      <td>12.0</td>\n",
       "      <td>17.7%</td>\n",
       "      <td>59.0</td>\n",
       "      <td>25.9%</td>\n",
       "      <td>37.0</td>\n",
       "      <td>15.0</td>\n",
       "    </tr>\n",
       "    <tr>\n",
       "      <th>1</th>\n",
       "      <td>Dennis Schroder</td>\n",
       "      <td>Kent Bazemore</td>\n",
       "      <td>Taurean Prince</td>\n",
       "      <td>John Collins</td>\n",
       "      <td>Dewayne Dedmon</td>\n",
       "      <td>2017</td>\n",
       "      <td>Atlanta Hawks</td>\n",
       "      <td>245</td>\n",
       "      <td>66.0</td>\n",
       "      <td>112.7</td>\n",
       "      <td>81.0</td>\n",
       "      <td>57.9%</td>\n",
       "      <td>15.0</td>\n",
       "      <td>17.1%</td>\n",
       "      <td>37.0</td>\n",
       "      <td>23.1%</td>\n",
       "      <td>41.0</td>\n",
       "      <td>15.7</td>\n",
       "    </tr>\n",
       "    <tr>\n",
       "      <th>2</th>\n",
       "      <td>Dennis Schroder</td>\n",
       "      <td>Kent Bazemore</td>\n",
       "      <td>Taurean Prince</td>\n",
       "      <td>Ersan Ilyasova</td>\n",
       "      <td>Dewayne Dedmon</td>\n",
       "      <td>2017</td>\n",
       "      <td>Atlanta Hawks</td>\n",
       "      <td>193</td>\n",
       "      <td>22.0</td>\n",
       "      <td>101.0</td>\n",
       "      <td>18.0</td>\n",
       "      <td>48.8%</td>\n",
       "      <td>78.0</td>\n",
       "      <td>12.4%</td>\n",
       "      <td>22.0</td>\n",
       "      <td>20.4%</td>\n",
       "      <td>73.0</td>\n",
       "      <td>22.1</td>\n",
       "    </tr>\n",
       "    <tr>\n",
       "      <th>3</th>\n",
       "      <td>Dennis Schroder</td>\n",
       "      <td>Kent Bazemore</td>\n",
       "      <td>Taurean Prince</td>\n",
       "      <td>Luke Babbitt</td>\n",
       "      <td>Dewayne Dedmon</td>\n",
       "      <td>2017</td>\n",
       "      <td>Atlanta Hawks</td>\n",
       "      <td>142</td>\n",
       "      <td>62.0</td>\n",
       "      <td>112.0</td>\n",
       "      <td>91.0</td>\n",
       "      <td>59.7%</td>\n",
       "      <td>7.0</td>\n",
       "      <td>19.0%</td>\n",
       "      <td>44.0</td>\n",
       "      <td>23.8%</td>\n",
       "      <td>5.0</td>\n",
       "      <td>8.9</td>\n",
       "    </tr>\n",
       "    <tr>\n",
       "      <th>4</th>\n",
       "      <td>Isaiah Taylor</td>\n",
       "      <td>Taurean Prince</td>\n",
       "      <td>Damion Lee</td>\n",
       "      <td>John Collins</td>\n",
       "      <td>Dewayne Dedmon</td>\n",
       "      <td>2017</td>\n",
       "      <td>Atlanta Hawks</td>\n",
       "      <td>140</td>\n",
       "      <td>36.0</td>\n",
       "      <td>105.7</td>\n",
       "      <td>41.0</td>\n",
       "      <td>51.5%</td>\n",
       "      <td>62.0</td>\n",
       "      <td>13.6%</td>\n",
       "      <td>36.0</td>\n",
       "      <td>23.1%</td>\n",
       "      <td>4.0</td>\n",
       "      <td>8.3</td>\n",
       "    </tr>\n",
       "  </tbody>\n",
       "</table>\n",
       "</div>"
      ],
      "text/plain": [
       "                PG              SG              SF              PF  \\\n",
       "0  Dennis Schroder   Kent Bazemore  Taurean Prince  Ersan Ilyasova   \n",
       "1  Dennis Schroder   Kent Bazemore  Taurean Prince    John Collins   \n",
       "2  Dennis Schroder   Kent Bazemore  Taurean Prince  Ersan Ilyasova   \n",
       "3  Dennis Schroder   Kent Bazemore  Taurean Prince    Luke Babbitt   \n",
       "4    Isaiah Taylor  Taurean Prince      Damion Lee    John Collins   \n",
       "\n",
       "                C  season           team  Poss  off_Pts/Poss_rank  \\\n",
       "0   Miles Plumlee    2017  Atlanta Hawks   733               18.0   \n",
       "1  Dewayne Dedmon    2017  Atlanta Hawks   245               66.0   \n",
       "2  Dewayne Dedmon    2017  Atlanta Hawks   193               22.0   \n",
       "3  Dewayne Dedmon    2017  Atlanta Hawks   142               62.0   \n",
       "4  Dewayne Dedmon    2017  Atlanta Hawks   140               36.0   \n",
       "\n",
       "   off_Pts/Poss  off_eFG%_rank off_eFG%  off_TOV%_rank off_TOV%  \\\n",
       "0          99.9           41.0    51.5%           12.0    17.7%   \n",
       "1         112.7           81.0    57.9%           15.0    17.1%   \n",
       "2         101.0           18.0    48.8%           78.0    12.4%   \n",
       "3         112.0           91.0    59.7%            7.0    19.0%   \n",
       "4         105.7           41.0    51.5%           62.0    13.6%   \n",
       "\n",
       "   off_OREB%_rank off_OREB%  off_FTr_rank  off_FTr  \n",
       "0            59.0     25.9%          37.0     15.0  \n",
       "1            37.0     23.1%          41.0     15.7  \n",
       "2            22.0     20.4%          73.0     22.1  \n",
       "3            44.0     23.8%           5.0      8.9  \n",
       "4            36.0     23.1%           4.0      8.3  "
      ]
     },
     "execution_count": 11,
     "metadata": {},
     "output_type": "execute_result"
    }
   ],
   "source": [
    "lineup_cols = ['PG', 'SG', 'SF', 'PF', 'C', 'season', 'team', 'Poss'] + \\\n",
    "              [col for col in lineup_df.columns if 'off_' in col]\n",
    "lineup_df = lineup_df[lineup_cols]\n",
    "lineup_df.head()"
   ]
  },
  {
   "cell_type": "markdown",
   "id": "b4ceaef4",
   "metadata": {},
   "source": [
    "Read kmeans models"
   ]
  },
  {
   "cell_type": "code",
   "execution_count": 12,
   "id": "b17d8617",
   "metadata": {
    "ExecuteTime": {
     "end_time": "2022-08-03T09:46:20.302604Z",
     "start_time": "2022-08-03T09:46:20.292345Z"
    }
   },
   "outputs": [],
   "source": [
    "nba_clustering_models_km = load_pickle('nba_clustering_models_km')\n",
    "pre_pca_pipe = nba_clustering_models_km['pre_pca_pipe']\n",
    "pca = nba_clustering_models_km['pca']\n",
    "pre_cluster_scaler = nba_clustering_models_km['pre_cluster_scaler']\n",
    "cluster_map_km_to_sc = nba_clustering_models_km['cluster_map_to_spectral_clustering']\n",
    "km = nba_clustering_models_km['km']"
   ]
  },
  {
   "cell_type": "code",
   "execution_count": 13,
   "id": "555f10c6",
   "metadata": {
    "ExecuteTime": {
     "end_time": "2022-08-03T09:46:20.316271Z",
     "start_time": "2022-08-03T09:46:20.311465Z"
    }
   },
   "outputs": [],
   "source": [
    "cluster_dict_detail = {2: 'Ballhandler (Iso+PnR)', 1: 'Ballhandler (PnR)',\n",
    "                       6: 'Big (Post Up+Roll)', 5: 'Big (Roll+Cut)',\n",
    "                       0: 'Wing (Off Screen)', 4: 'Wing (Hand Off)', \n",
    "                       3: 'Wing (Spot Up+Transition)'}"
   ]
  },
  {
   "cell_type": "code",
   "execution_count": 14,
   "id": "e6b2ecc5",
   "metadata": {
    "ExecuteTime": {
     "end_time": "2022-08-03T09:46:20.327647Z",
     "start_time": "2022-08-03T09:46:20.321017Z"
    }
   },
   "outputs": [],
   "source": [
    "# temp = label_df.copy()\n",
    "# temp['cluster_description'] = temp['player_cluster'].map(cluster_dict_detail)\n",
    "# temp[(temp['season'] == 2021) & \n",
    "#      (temp['team'] == 'Miami Heat')]"
   ]
  },
  {
   "cell_type": "markdown",
   "id": "618c1bd9",
   "metadata": {},
   "source": [
    "Read Synergy data"
   ]
  },
  {
   "cell_type": "code",
   "execution_count": 15,
   "id": "1c103850",
   "metadata": {
    "ExecuteTime": {
     "end_time": "2022-08-03T09:46:20.435431Z",
     "start_time": "2022-08-03T09:46:20.331407Z"
    }
   },
   "outputs": [],
   "source": [
    "s_df = pd.read_csv('nba_offense.csv')\n",
    "s_df = s_df[s_df['Season'] != 2016]\n",
    "s_df['Player'] = s_df['Player'].apply(lambda x: ' '.join(x.split(' ')[1:]))\n",
    "s_df['Overall_Poss'] = s_df['Overall_Poss'] - s_df['Miscellaneous_Poss']"
   ]
  },
  {
   "cell_type": "code",
   "execution_count": 16,
   "id": "d2b1919f",
   "metadata": {
    "ExecuteTime": {
     "end_time": "2022-08-03T09:46:20.443526Z",
     "start_time": "2022-08-03T09:46:20.438575Z"
    }
   },
   "outputs": [],
   "source": [
    "poss_weights_cols = ['Spot Up_Poss%', 'P&R Ball Handler_Poss%', \n",
    "                     'Hand Off_Poss%', 'Off Screen_Poss%',\n",
    "                     'Cut_Poss%', 'Offensive Rebounds (put backs)_Poss%',\n",
    "                     'P&R Roll Man_Poss%', 'Isolation_Poss%', \n",
    "                     'Post-Up_Poss%', 'Transition_Poss%'] "
   ]
  },
  {
   "cell_type": "code",
   "execution_count": 17,
   "id": "7689a745",
   "metadata": {
    "ExecuteTime": {
     "end_time": "2022-08-03T09:46:20.467029Z",
     "start_time": "2022-08-03T09:46:20.447338Z"
    }
   },
   "outputs": [],
   "source": [
    "for col in poss_weights_cols:\n",
    "    s_df[col] = s_df[col.replace('%', '')] / s_df['Overall_Poss']\n",
    "    s_df[col] = s_df[col].fillna(0)"
   ]
  },
  {
   "cell_type": "markdown",
   "id": "a61ec814",
   "metadata": {},
   "source": [
    "Synergy functions"
   ]
  },
  {
   "cell_type": "code",
   "execution_count": 18,
   "id": "34cc5a81",
   "metadata": {
    "ExecuteTime": {
     "end_time": "2022-08-03T09:46:20.477706Z",
     "start_time": "2022-08-03T09:46:20.470164Z"
    }
   },
   "outputs": [],
   "source": [
    "def player_lookup(player, df, season=2021, if_ppp_n_rank=False):\n",
    "    pdf = df[(df['Player'] == player) & (df['Season'] == season)]\n",
    "    for idx in pdf.index:\n",
    "        print(player, pdf.loc[idx]['Team'])\n",
    "        print('-')\n",
    "        for col in df.columns:\n",
    "            if 'Poss%' in col and 'Miscellaneous' not in col:\n",
    "                print(col, f'{pdf.loc[idx][col]:.2%}')\n",
    "                if if_ppp_n_rank:\n",
    "                    ppp_col = col.replace('Poss%', 'PPP')\n",
    "                    print(ppp_col, f'{pdf.loc[idx][ppp_col]:.3f}')\n",
    "                    rank_col = col.replace('Poss%', 'Rank')\n",
    "                    print(rank_col, f'{pdf.loc[idx][rank_col]}')\n",
    "                print('-')"
   ]
  },
  {
   "cell_type": "markdown",
   "id": "114e2c57",
   "metadata": {},
   "source": [
    "## Feature Engineering"
   ]
  },
  {
   "cell_type": "markdown",
   "id": "25267092",
   "metadata": {},
   "source": [
    "### Get League/Team Offensive Rating for each Season"
   ]
  },
  {
   "cell_type": "code",
   "execution_count": 19,
   "id": "88551827",
   "metadata": {
    "ExecuteTime": {
     "end_time": "2022-08-03T09:46:20.501084Z",
     "start_time": "2022-08-03T09:46:20.482670Z"
    }
   },
   "outputs": [],
   "source": [
    "tm_lineup_df = lineup_df.copy()\n",
    "tm_lineup_df['off_Pts'] = lineup_df['off_Pts/Poss'] * lineup_df['Poss']"
   ]
  },
  {
   "cell_type": "code",
   "execution_count": 20,
   "id": "3f124fb9",
   "metadata": {
    "ExecuteTime": {
     "end_time": "2022-08-03T09:46:20.538311Z",
     "start_time": "2022-08-03T09:46:20.505101Z"
    }
   },
   "outputs": [
    {
     "data": {
      "text/html": [
       "<div>\n",
       "<style scoped>\n",
       "    .dataframe tbody tr th:only-of-type {\n",
       "        vertical-align: middle;\n",
       "    }\n",
       "\n",
       "    .dataframe tbody tr th {\n",
       "        vertical-align: top;\n",
       "    }\n",
       "\n",
       "    .dataframe thead th {\n",
       "        text-align: right;\n",
       "    }\n",
       "</style>\n",
       "<table border=\"1\" class=\"dataframe\">\n",
       "  <thead>\n",
       "    <tr style=\"text-align: right;\">\n",
       "      <th></th>\n",
       "      <th>season</th>\n",
       "      <th>off_Pts/Poss</th>\n",
       "    </tr>\n",
       "  </thead>\n",
       "  <tbody>\n",
       "    <tr>\n",
       "      <th>0</th>\n",
       "      <td>2017</td>\n",
       "      <td>108.329988</td>\n",
       "    </tr>\n",
       "    <tr>\n",
       "      <th>1</th>\n",
       "      <td>2018</td>\n",
       "      <td>110.480204</td>\n",
       "    </tr>\n",
       "    <tr>\n",
       "      <th>2</th>\n",
       "      <td>2019</td>\n",
       "      <td>110.793898</td>\n",
       "    </tr>\n",
       "    <tr>\n",
       "      <th>3</th>\n",
       "      <td>2020</td>\n",
       "      <td>112.795304</td>\n",
       "    </tr>\n",
       "    <tr>\n",
       "      <th>4</th>\n",
       "      <td>2021</td>\n",
       "      <td>112.255389</td>\n",
       "    </tr>\n",
       "  </tbody>\n",
       "</table>\n",
       "</div>"
      ],
      "text/plain": [
       "   season  off_Pts/Poss\n",
       "0    2017    108.329988\n",
       "1    2018    110.480204\n",
       "2    2019    110.793898\n",
       "3    2020    112.795304\n",
       "4    2021    112.255389"
      ]
     },
     "execution_count": 20,
     "metadata": {},
     "output_type": "execute_result"
    }
   ],
   "source": [
    "season_off_ratings = tm_lineup_df.groupby('season')[['off_Pts', 'Poss']].sum()\n",
    "season_off_ratings['off_Pts/Poss'] = season_off_ratings['off_Pts'] / \\\n",
    "                                     season_off_ratings['Poss']\n",
    "season_off_ratings[['off_Pts/Poss']].reset_index()"
   ]
  },
  {
   "cell_type": "code",
   "execution_count": 21,
   "id": "a939e62a",
   "metadata": {
    "ExecuteTime": {
     "end_time": "2022-08-03T09:46:20.580930Z",
     "start_time": "2022-08-03T09:46:20.542103Z"
    }
   },
   "outputs": [
    {
     "data": {
      "text/html": [
       "<div>\n",
       "<style scoped>\n",
       "    .dataframe tbody tr th:only-of-type {\n",
       "        vertical-align: middle;\n",
       "    }\n",
       "\n",
       "    .dataframe tbody tr th {\n",
       "        vertical-align: top;\n",
       "    }\n",
       "\n",
       "    .dataframe thead th {\n",
       "        text-align: right;\n",
       "    }\n",
       "</style>\n",
       "<table border=\"1\" class=\"dataframe\">\n",
       "  <thead>\n",
       "    <tr style=\"text-align: right;\">\n",
       "      <th></th>\n",
       "      <th>team</th>\n",
       "      <th>season</th>\n",
       "      <th>tm_off_Pts/Poss</th>\n",
       "    </tr>\n",
       "  </thead>\n",
       "  <tbody>\n",
       "    <tr>\n",
       "      <th>0</th>\n",
       "      <td>Atlanta Hawks</td>\n",
       "      <td>2017</td>\n",
       "      <td>104.452049</td>\n",
       "    </tr>\n",
       "    <tr>\n",
       "      <th>1</th>\n",
       "      <td>Atlanta Hawks</td>\n",
       "      <td>2018</td>\n",
       "      <td>107.673913</td>\n",
       "    </tr>\n",
       "    <tr>\n",
       "      <th>2</th>\n",
       "      <td>Atlanta Hawks</td>\n",
       "      <td>2019</td>\n",
       "      <td>107.546858</td>\n",
       "    </tr>\n",
       "    <tr>\n",
       "      <th>3</th>\n",
       "      <td>Atlanta Hawks</td>\n",
       "      <td>2020</td>\n",
       "      <td>115.375155</td>\n",
       "    </tr>\n",
       "    <tr>\n",
       "      <th>4</th>\n",
       "      <td>Atlanta Hawks</td>\n",
       "      <td>2021</td>\n",
       "      <td>116.125381</td>\n",
       "    </tr>\n",
       "    <tr>\n",
       "      <th>...</th>\n",
       "      <td>...</td>\n",
       "      <td>...</td>\n",
       "      <td>...</td>\n",
       "    </tr>\n",
       "    <tr>\n",
       "      <th>145</th>\n",
       "      <td>Washington Wizards</td>\n",
       "      <td>2017</td>\n",
       "      <td>108.547292</td>\n",
       "    </tr>\n",
       "    <tr>\n",
       "      <th>146</th>\n",
       "      <td>Washington Wizards</td>\n",
       "      <td>2018</td>\n",
       "      <td>110.997148</td>\n",
       "    </tr>\n",
       "    <tr>\n",
       "      <th>147</th>\n",
       "      <td>Washington Wizards</td>\n",
       "      <td>2019</td>\n",
       "      <td>110.553583</td>\n",
       "    </tr>\n",
       "    <tr>\n",
       "      <th>148</th>\n",
       "      <td>Washington Wizards</td>\n",
       "      <td>2020</td>\n",
       "      <td>111.587056</td>\n",
       "    </tr>\n",
       "    <tr>\n",
       "      <th>149</th>\n",
       "      <td>Washington Wizards</td>\n",
       "      <td>2021</td>\n",
       "      <td>110.846772</td>\n",
       "    </tr>\n",
       "  </tbody>\n",
       "</table>\n",
       "<p>150 rows × 3 columns</p>\n",
       "</div>"
      ],
      "text/plain": [
       "                   team  season  tm_off_Pts/Poss\n",
       "0         Atlanta Hawks    2017       104.452049\n",
       "1         Atlanta Hawks    2018       107.673913\n",
       "2         Atlanta Hawks    2019       107.546858\n",
       "3         Atlanta Hawks    2020       115.375155\n",
       "4         Atlanta Hawks    2021       116.125381\n",
       "..                  ...     ...              ...\n",
       "145  Washington Wizards    2017       108.547292\n",
       "146  Washington Wizards    2018       110.997148\n",
       "147  Washington Wizards    2019       110.553583\n",
       "148  Washington Wizards    2020       111.587056\n",
       "149  Washington Wizards    2021       110.846772\n",
       "\n",
       "[150 rows x 3 columns]"
      ]
     },
     "execution_count": 21,
     "metadata": {},
     "output_type": "execute_result"
    }
   ],
   "source": [
    "tm_off_ratings = tm_lineup_df.groupby(['team', 'season'])[['off_Pts', 'Poss']].sum()\n",
    "tm_off_ratings['off_Pts/Poss'] = tm_off_ratings['off_Pts'] / tm_off_ratings['Poss']\n",
    "tm_off_ratings = tm_off_ratings[['off_Pts/Poss']].reset_index()\\\n",
    "                                                 .rename(columns={'off_Pts/Poss': 'tm_off_Pts/Poss'})\n",
    "tm_off_ratings"
   ]
  },
  {
   "cell_type": "markdown",
   "id": "813a7d7a",
   "metadata": {},
   "source": [
    "### Merge"
   ]
  },
  {
   "cell_type": "markdown",
   "id": "6d63dc89",
   "metadata": {},
   "source": [
    "### Step 1: Find out who did not have a cluster tag"
   ]
  },
  {
   "cell_type": "code",
   "execution_count": 22,
   "id": "55465267",
   "metadata": {
    "ExecuteTime": {
     "end_time": "2022-08-03T09:46:20.589948Z",
     "start_time": "2022-08-03T09:46:20.584171Z"
    }
   },
   "outputs": [],
   "source": [
    "synergy_name_dict = {'kevinporterjr': 'kevinporter',\n",
    "                     'patrickbeverly': 'patrickbeverley',\n",
    "                     'terryrozieriii': 'terryrozier',\n",
    "                     'kellyoubrejr': 'kellyoubre',\n",
    "                     'lonniewalkeriv': 'lonniewalker',\n",
    "                     'ottoporterjr': 'ottoporter',\n",
    "                     'robertwilliamsiii': 'robertwilliams',\n",
    "                     'wendellcarterjr': 'wendellcarter',\n",
    "                     'alfarouqaminu': 'al-farouqaminu',\n",
    "                     'jarenjacksonjr': 'jarenjackson',\n",
    "                     'marvinbagleyiii': 'marvinbagley',\n",
    "                     'marcusmorrissr': 'marcusmorris',\n",
    "                     'wesleyiwundu': 'wesiwundu',\n",
    "                     'troybrownjr': 'troybrown',\n",
    "                     'larrynance': 'larrynancejr',\n",
    "                     'michaelporterjr': 'michaelporter',\n",
    "                     'kevinknoxii': 'kevinknox',\n",
    "                     'jamesennisiii': 'jamesennis',\n",
    "                     'danilogalinari': 'danilogallinari',\n",
    "                     'danuelhousejr': 'danuelhouse',\n",
    "                     'svimykhailiuk': 'sviatoslavmykhailiuk',\n",
    "                     'timothéluwawu-cabarrot': 'timotheluwawu-cabarrot',\n",
    "                     'duanewashingtonjr': 'duanewashington',\n",
    "                     'juanchohernangomez': 'juanhernangomez',\n",
    "                     'harrygilesiii': 'harrygiles',\n",
    "                     'malcomdelaney': 'malcolmdelaney'}"
   ]
  },
  {
   "cell_type": "code",
   "execution_count": 23,
   "id": "87bc5239",
   "metadata": {
    "ExecuteTime": {
     "end_time": "2022-08-03T09:46:20.612371Z",
     "start_time": "2022-08-03T09:46:20.593361Z"
    }
   },
   "outputs": [
    {
     "data": {
      "text/html": [
       "<div>\n",
       "<style scoped>\n",
       "    .dataframe tbody tr th:only-of-type {\n",
       "        vertical-align: middle;\n",
       "    }\n",
       "\n",
       "    .dataframe tbody tr th {\n",
       "        vertical-align: top;\n",
       "    }\n",
       "\n",
       "    .dataframe thead th {\n",
       "        text-align: right;\n",
       "    }\n",
       "</style>\n",
       "<table border=\"1\" class=\"dataframe\">\n",
       "  <thead>\n",
       "    <tr style=\"text-align: right;\">\n",
       "      <th></th>\n",
       "      <th>season</th>\n",
       "      <th>team</th>\n",
       "      <th>player_cluster</th>\n",
       "      <th>player_alt</th>\n",
       "    </tr>\n",
       "  </thead>\n",
       "  <tbody>\n",
       "    <tr>\n",
       "      <th>0</th>\n",
       "      <td>2017</td>\n",
       "      <td>Memphis Grizzlies</td>\n",
       "      <td>6</td>\n",
       "      <td>marcgasol</td>\n",
       "    </tr>\n",
       "    <tr>\n",
       "      <th>1</th>\n",
       "      <td>2017</td>\n",
       "      <td>Memphis Grizzlies</td>\n",
       "      <td>2</td>\n",
       "      <td>tyrekeevans</td>\n",
       "    </tr>\n",
       "    <tr>\n",
       "      <th>2</th>\n",
       "      <td>2017</td>\n",
       "      <td>Memphis Grizzlies</td>\n",
       "      <td>1</td>\n",
       "      <td>dillonbrooks</td>\n",
       "    </tr>\n",
       "    <tr>\n",
       "      <th>3</th>\n",
       "      <td>2017</td>\n",
       "      <td>Memphis Grizzlies</td>\n",
       "      <td>3</td>\n",
       "      <td>jarellmartin</td>\n",
       "    </tr>\n",
       "    <tr>\n",
       "      <th>4</th>\n",
       "      <td>2017</td>\n",
       "      <td>Memphis Grizzlies</td>\n",
       "      <td>1</td>\n",
       "      <td>mariochalmers</td>\n",
       "    </tr>\n",
       "  </tbody>\n",
       "</table>\n",
       "</div>"
      ],
      "text/plain": [
       "   season               team  player_cluster     player_alt\n",
       "0    2017  Memphis Grizzlies               6      marcgasol\n",
       "1    2017  Memphis Grizzlies               2    tyrekeevans\n",
       "2    2017  Memphis Grizzlies               1   dillonbrooks\n",
       "3    2017  Memphis Grizzlies               3   jarellmartin\n",
       "4    2017  Memphis Grizzlies               1  mariochalmers"
      ]
     },
     "execution_count": 23,
     "metadata": {},
     "output_type": "execute_result"
    }
   ],
   "source": [
    "label_df['player_alt'] = label_df['Player'].apply(lambda x: x.replace(' ', '').lower())\\\n",
    "                                           .apply(lambda x: x.replace(\"'\", ''))\\\n",
    "                                           .apply(lambda x: x.replace('.', ''))\\\n",
    "                                           .apply(lambda x: synergy_name_dict[x] \n",
    "                                                  if x in synergy_name_dict.keys()\n",
    "                                                  else x)\n",
    "label_df = label_df.drop('Player', axis=1)\n",
    "label_df.head()"
   ]
  },
  {
   "cell_type": "markdown",
   "id": "d5f90c73",
   "metadata": {},
   "source": [
    "Adjust name in the lineup data."
   ]
  },
  {
   "cell_type": "code",
   "execution_count": 24,
   "id": "ff066294",
   "metadata": {
    "ExecuteTime": {
     "end_time": "2022-08-03T09:46:21.021815Z",
     "start_time": "2022-08-03T09:46:20.616538Z"
    }
   },
   "outputs": [
    {
     "data": {
      "text/html": [
       "<div>\n",
       "<style scoped>\n",
       "    .dataframe tbody tr th:only-of-type {\n",
       "        vertical-align: middle;\n",
       "    }\n",
       "\n",
       "    .dataframe tbody tr th {\n",
       "        vertical-align: top;\n",
       "    }\n",
       "\n",
       "    .dataframe thead th {\n",
       "        text-align: right;\n",
       "    }\n",
       "</style>\n",
       "<table border=\"1\" class=\"dataframe\">\n",
       "  <thead>\n",
       "    <tr style=\"text-align: right;\">\n",
       "      <th></th>\n",
       "      <th>PG</th>\n",
       "      <th>SG</th>\n",
       "      <th>SF</th>\n",
       "      <th>PF</th>\n",
       "      <th>C</th>\n",
       "      <th>season</th>\n",
       "      <th>team</th>\n",
       "      <th>Poss</th>\n",
       "      <th>off_Pts/Poss_rank</th>\n",
       "      <th>off_Pts/Poss</th>\n",
       "      <th>off_eFG%_rank</th>\n",
       "      <th>off_eFG%</th>\n",
       "      <th>off_TOV%_rank</th>\n",
       "      <th>off_TOV%</th>\n",
       "      <th>off_OREB%_rank</th>\n",
       "      <th>off_OREB%</th>\n",
       "      <th>off_FTr_rank</th>\n",
       "      <th>off_FTr</th>\n",
       "      <th>PG_alt</th>\n",
       "      <th>SG_alt</th>\n",
       "      <th>SF_alt</th>\n",
       "      <th>PF_alt</th>\n",
       "      <th>C_alt</th>\n",
       "    </tr>\n",
       "  </thead>\n",
       "  <tbody>\n",
       "    <tr>\n",
       "      <th>0</th>\n",
       "      <td>Dennis Schroder</td>\n",
       "      <td>Kent Bazemore</td>\n",
       "      <td>Taurean Prince</td>\n",
       "      <td>Ersan Ilyasova</td>\n",
       "      <td>Miles Plumlee</td>\n",
       "      <td>2017</td>\n",
       "      <td>Atlanta Hawks</td>\n",
       "      <td>733</td>\n",
       "      <td>18.0</td>\n",
       "      <td>99.9</td>\n",
       "      <td>41.0</td>\n",
       "      <td>51.5%</td>\n",
       "      <td>12.0</td>\n",
       "      <td>17.7%</td>\n",
       "      <td>59.0</td>\n",
       "      <td>25.9%</td>\n",
       "      <td>37.0</td>\n",
       "      <td>15.0</td>\n",
       "      <td>dennisschroder</td>\n",
       "      <td>kentbazemore</td>\n",
       "      <td>taureanprince</td>\n",
       "      <td>ersanilyasova</td>\n",
       "      <td>milesplumlee</td>\n",
       "    </tr>\n",
       "    <tr>\n",
       "      <th>1</th>\n",
       "      <td>Dennis Schroder</td>\n",
       "      <td>Kent Bazemore</td>\n",
       "      <td>Taurean Prince</td>\n",
       "      <td>John Collins</td>\n",
       "      <td>Dewayne Dedmon</td>\n",
       "      <td>2017</td>\n",
       "      <td>Atlanta Hawks</td>\n",
       "      <td>245</td>\n",
       "      <td>66.0</td>\n",
       "      <td>112.7</td>\n",
       "      <td>81.0</td>\n",
       "      <td>57.9%</td>\n",
       "      <td>15.0</td>\n",
       "      <td>17.1%</td>\n",
       "      <td>37.0</td>\n",
       "      <td>23.1%</td>\n",
       "      <td>41.0</td>\n",
       "      <td>15.7</td>\n",
       "      <td>dennisschroder</td>\n",
       "      <td>kentbazemore</td>\n",
       "      <td>taureanprince</td>\n",
       "      <td>johncollins</td>\n",
       "      <td>dewaynededmon</td>\n",
       "    </tr>\n",
       "    <tr>\n",
       "      <th>2</th>\n",
       "      <td>Dennis Schroder</td>\n",
       "      <td>Kent Bazemore</td>\n",
       "      <td>Taurean Prince</td>\n",
       "      <td>Ersan Ilyasova</td>\n",
       "      <td>Dewayne Dedmon</td>\n",
       "      <td>2017</td>\n",
       "      <td>Atlanta Hawks</td>\n",
       "      <td>193</td>\n",
       "      <td>22.0</td>\n",
       "      <td>101.0</td>\n",
       "      <td>18.0</td>\n",
       "      <td>48.8%</td>\n",
       "      <td>78.0</td>\n",
       "      <td>12.4%</td>\n",
       "      <td>22.0</td>\n",
       "      <td>20.4%</td>\n",
       "      <td>73.0</td>\n",
       "      <td>22.1</td>\n",
       "      <td>dennisschroder</td>\n",
       "      <td>kentbazemore</td>\n",
       "      <td>taureanprince</td>\n",
       "      <td>ersanilyasova</td>\n",
       "      <td>dewaynededmon</td>\n",
       "    </tr>\n",
       "    <tr>\n",
       "      <th>3</th>\n",
       "      <td>Dennis Schroder</td>\n",
       "      <td>Kent Bazemore</td>\n",
       "      <td>Taurean Prince</td>\n",
       "      <td>Luke Babbitt</td>\n",
       "      <td>Dewayne Dedmon</td>\n",
       "      <td>2017</td>\n",
       "      <td>Atlanta Hawks</td>\n",
       "      <td>142</td>\n",
       "      <td>62.0</td>\n",
       "      <td>112.0</td>\n",
       "      <td>91.0</td>\n",
       "      <td>59.7%</td>\n",
       "      <td>7.0</td>\n",
       "      <td>19.0%</td>\n",
       "      <td>44.0</td>\n",
       "      <td>23.8%</td>\n",
       "      <td>5.0</td>\n",
       "      <td>8.9</td>\n",
       "      <td>dennisschroder</td>\n",
       "      <td>kentbazemore</td>\n",
       "      <td>taureanprince</td>\n",
       "      <td>lukebabbitt</td>\n",
       "      <td>dewaynededmon</td>\n",
       "    </tr>\n",
       "    <tr>\n",
       "      <th>4</th>\n",
       "      <td>Isaiah Taylor</td>\n",
       "      <td>Taurean Prince</td>\n",
       "      <td>Damion Lee</td>\n",
       "      <td>John Collins</td>\n",
       "      <td>Dewayne Dedmon</td>\n",
       "      <td>2017</td>\n",
       "      <td>Atlanta Hawks</td>\n",
       "      <td>140</td>\n",
       "      <td>36.0</td>\n",
       "      <td>105.7</td>\n",
       "      <td>41.0</td>\n",
       "      <td>51.5%</td>\n",
       "      <td>62.0</td>\n",
       "      <td>13.6%</td>\n",
       "      <td>36.0</td>\n",
       "      <td>23.1%</td>\n",
       "      <td>4.0</td>\n",
       "      <td>8.3</td>\n",
       "      <td>isaiahtaylor</td>\n",
       "      <td>taureanprince</td>\n",
       "      <td>damionlee</td>\n",
       "      <td>johncollins</td>\n",
       "      <td>dewaynededmon</td>\n",
       "    </tr>\n",
       "  </tbody>\n",
       "</table>\n",
       "</div>"
      ],
      "text/plain": [
       "                PG              SG              SF              PF  \\\n",
       "0  Dennis Schroder   Kent Bazemore  Taurean Prince  Ersan Ilyasova   \n",
       "1  Dennis Schroder   Kent Bazemore  Taurean Prince    John Collins   \n",
       "2  Dennis Schroder   Kent Bazemore  Taurean Prince  Ersan Ilyasova   \n",
       "3  Dennis Schroder   Kent Bazemore  Taurean Prince    Luke Babbitt   \n",
       "4    Isaiah Taylor  Taurean Prince      Damion Lee    John Collins   \n",
       "\n",
       "                C  season           team  Poss  off_Pts/Poss_rank  \\\n",
       "0   Miles Plumlee    2017  Atlanta Hawks   733               18.0   \n",
       "1  Dewayne Dedmon    2017  Atlanta Hawks   245               66.0   \n",
       "2  Dewayne Dedmon    2017  Atlanta Hawks   193               22.0   \n",
       "3  Dewayne Dedmon    2017  Atlanta Hawks   142               62.0   \n",
       "4  Dewayne Dedmon    2017  Atlanta Hawks   140               36.0   \n",
       "\n",
       "   off_Pts/Poss  off_eFG%_rank off_eFG%  off_TOV%_rank off_TOV%  \\\n",
       "0          99.9           41.0    51.5%           12.0    17.7%   \n",
       "1         112.7           81.0    57.9%           15.0    17.1%   \n",
       "2         101.0           18.0    48.8%           78.0    12.4%   \n",
       "3         112.0           91.0    59.7%            7.0    19.0%   \n",
       "4         105.7           41.0    51.5%           62.0    13.6%   \n",
       "\n",
       "   off_OREB%_rank off_OREB%  off_FTr_rank  off_FTr          PG_alt  \\\n",
       "0            59.0     25.9%          37.0     15.0  dennisschroder   \n",
       "1            37.0     23.1%          41.0     15.7  dennisschroder   \n",
       "2            22.0     20.4%          73.0     22.1  dennisschroder   \n",
       "3            44.0     23.8%           5.0      8.9  dennisschroder   \n",
       "4            36.0     23.1%           4.0      8.3    isaiahtaylor   \n",
       "\n",
       "          SG_alt         SF_alt         PF_alt          C_alt  \n",
       "0   kentbazemore  taureanprince  ersanilyasova   milesplumlee  \n",
       "1   kentbazemore  taureanprince    johncollins  dewaynededmon  \n",
       "2   kentbazemore  taureanprince  ersanilyasova  dewaynededmon  \n",
       "3   kentbazemore  taureanprince    lukebabbitt  dewaynededmon  \n",
       "4  taureanprince      damionlee    johncollins  dewaynededmon  "
      ]
     },
     "execution_count": 24,
     "metadata": {},
     "output_type": "execute_result"
    }
   ],
   "source": [
    "positions = ['PG', 'SG', 'SF', 'PF', 'C']\n",
    "for pos in positions:\n",
    "    lineup_df[f'{pos}_alt'] = lineup_df[pos].apply(lambda x: x.replace(' ', ''))\\\n",
    "                                            .apply(lambda x: x.replace(\"'\", ''))\\\n",
    "                                            .apply(lambda x: x.replace('.', ''))\\\n",
    "                                            .apply(lambda x: x.lower())\n",
    "lineup_df.head()"
   ]
  },
  {
   "cell_type": "markdown",
   "id": "e35d6dd1",
   "metadata": {},
   "source": [
    "First attempt to assign cluster label to lineup data.  \n",
    "The expectation is, there will be some `nan` (missing players) after the merge."
   ]
  },
  {
   "cell_type": "code",
   "execution_count": 25,
   "id": "96ffe3a6",
   "metadata": {
    "ExecuteTime": {
     "end_time": "2022-08-03T09:46:21.382832Z",
     "start_time": "2022-08-03T09:46:21.023794Z"
    }
   },
   "outputs": [],
   "source": [
    "temp = lineup_df.copy()\n",
    "for pos in positions:\n",
    "    temp = temp.merge(label_df.rename(columns={'player_alt': f'{pos}_alt'}), \n",
    "                      how='left')\\\n",
    "               .rename(columns={'player_cluster': f'{pos}_cluster'})"
   ]
  },
  {
   "cell_type": "markdown",
   "id": "95d9315a",
   "metadata": {},
   "source": [
    "Find missing players that appear in lineups that logged 100 possessions."
   ]
  },
  {
   "cell_type": "code",
   "execution_count": 26,
   "id": "a96d151a",
   "metadata": {
    "ExecuteTime": {
     "end_time": "2022-08-03T09:46:21.456030Z",
     "start_time": "2022-08-03T09:46:21.385051Z"
    }
   },
   "outputs": [
    {
     "data": {
      "text/html": [
       "<div>\n",
       "<style scoped>\n",
       "    .dataframe tbody tr th:only-of-type {\n",
       "        vertical-align: middle;\n",
       "    }\n",
       "\n",
       "    .dataframe tbody tr th {\n",
       "        vertical-align: top;\n",
       "    }\n",
       "\n",
       "    .dataframe thead th {\n",
       "        text-align: right;\n",
       "    }\n",
       "</style>\n",
       "<table border=\"1\" class=\"dataframe\">\n",
       "  <thead>\n",
       "    <tr style=\"text-align: right;\">\n",
       "      <th></th>\n",
       "      <th>season</th>\n",
       "      <th>team</th>\n",
       "      <th>player</th>\n",
       "      <th>player_alt</th>\n",
       "    </tr>\n",
       "  </thead>\n",
       "  <tbody>\n",
       "    <tr>\n",
       "      <th>0</th>\n",
       "      <td>2017</td>\n",
       "      <td>Oklahoma City Thunder</td>\n",
       "      <td>Andre Roberson</td>\n",
       "      <td>andreroberson</td>\n",
       "    </tr>\n",
       "    <tr>\n",
       "      <th>1</th>\n",
       "      <td>2017</td>\n",
       "      <td>Oklahoma City Thunder</td>\n",
       "      <td>Corey Brewer</td>\n",
       "      <td>coreybrewer</td>\n",
       "    </tr>\n",
       "    <tr>\n",
       "      <th>2</th>\n",
       "      <td>2020</td>\n",
       "      <td>Denver Nuggets</td>\n",
       "      <td>Gary Harris</td>\n",
       "      <td>garyharris</td>\n",
       "    </tr>\n",
       "    <tr>\n",
       "      <th>3</th>\n",
       "      <td>2017</td>\n",
       "      <td>Oklahoma City Thunder</td>\n",
       "      <td>Terrance Ferguson</td>\n",
       "      <td>terranceferguson</td>\n",
       "    </tr>\n",
       "    <tr>\n",
       "      <th>4</th>\n",
       "      <td>2019</td>\n",
       "      <td>Portland Trail Blazers</td>\n",
       "      <td>Trevor Ariza</td>\n",
       "      <td>trevorariza</td>\n",
       "    </tr>\n",
       "    <tr>\n",
       "      <th>...</th>\n",
       "      <td>...</td>\n",
       "      <td>...</td>\n",
       "      <td>...</td>\n",
       "      <td>...</td>\n",
       "    </tr>\n",
       "    <tr>\n",
       "      <th>174</th>\n",
       "      <td>2020</td>\n",
       "      <td>Minnesota Timberwolves</td>\n",
       "      <td>Ed Davis</td>\n",
       "      <td>eddavis</td>\n",
       "    </tr>\n",
       "    <tr>\n",
       "      <th>175</th>\n",
       "      <td>2020</td>\n",
       "      <td>New York Knicks</td>\n",
       "      <td>Austin Rivers</td>\n",
       "      <td>austinrivers</td>\n",
       "    </tr>\n",
       "    <tr>\n",
       "      <th>176</th>\n",
       "      <td>2021</td>\n",
       "      <td>Brooklyn Nets</td>\n",
       "      <td>Day'Ron Sharpe</td>\n",
       "      <td>dayronsharpe</td>\n",
       "    </tr>\n",
       "    <tr>\n",
       "      <th>177</th>\n",
       "      <td>2019</td>\n",
       "      <td>Orlando Magic</td>\n",
       "      <td>Al-Farouq Aminu</td>\n",
       "      <td>al-farouqaminu</td>\n",
       "    </tr>\n",
       "    <tr>\n",
       "      <th>178</th>\n",
       "      <td>2020</td>\n",
       "      <td>Indiana Pacers</td>\n",
       "      <td>JaKarr Sampson</td>\n",
       "      <td>jakarrsampson</td>\n",
       "    </tr>\n",
       "  </tbody>\n",
       "</table>\n",
       "<p>179 rows × 4 columns</p>\n",
       "</div>"
      ],
      "text/plain": [
       "     season                    team             player        player_alt\n",
       "0      2017   Oklahoma City Thunder     Andre Roberson     andreroberson\n",
       "1      2017   Oklahoma City Thunder       Corey Brewer       coreybrewer\n",
       "2      2020          Denver Nuggets        Gary Harris        garyharris\n",
       "3      2017   Oklahoma City Thunder  Terrance Ferguson  terranceferguson\n",
       "4      2019  Portland Trail Blazers       Trevor Ariza       trevorariza\n",
       "..      ...                     ...                ...               ...\n",
       "174    2020  Minnesota Timberwolves           Ed Davis           eddavis\n",
       "175    2020         New York Knicks      Austin Rivers      austinrivers\n",
       "176    2021           Brooklyn Nets     Day'Ron Sharpe      dayronsharpe\n",
       "177    2019           Orlando Magic    Al-Farouq Aminu    al-farouqaminu\n",
       "178    2020          Indiana Pacers     JaKarr Sampson     jakarrsampson\n",
       "\n",
       "[179 rows x 4 columns]"
      ]
     },
     "execution_count": 26,
     "metadata": {},
     "output_type": "execute_result"
    }
   ],
   "source": [
    "rows_missing = pd.concat([temp[(temp[f'{pos}_cluster'].isna()) & \n",
    "                               (temp['Poss'] >= 100)]\n",
    "                          for pos in positions])\\\n",
    "                 .drop_duplicates()\\\n",
    "                 .sort_values('Poss', ascending=False)\n",
    "\n",
    "missing_players_data = []\n",
    "for idx in rows_missing.index:\n",
    "    row = rows_missing.loc[idx]\n",
    "    for pos in positions:\n",
    "        if row[f'{pos}_cluster'] not in [0, 1, 2, 3, 4, 5, 6]:\n",
    "            missing_players_data.append([row['season'], \n",
    "                                         row['team'],\n",
    "                                         row[pos],\n",
    "                                         row[f'{pos}_alt']])\n",
    "\n",
    "missing_players_df = pd.DataFrame(missing_players_data,\n",
    "                                  columns=['season', 'team', 'player', 'player_alt'])\\\n",
    "                       .drop_duplicates().reset_index(drop=True)\n",
    "missing_players_df"
   ]
  },
  {
   "cell_type": "markdown",
   "id": "bbac9c80",
   "metadata": {},
   "source": [
    "Find out how many players are missing."
   ]
  },
  {
   "cell_type": "code",
   "execution_count": 27,
   "id": "9f1a4e5f",
   "metadata": {
    "ExecuteTime": {
     "end_time": "2022-08-03T09:46:21.462047Z",
     "start_time": "2022-08-03T09:46:21.457716Z"
    }
   },
   "outputs": [
    {
     "data": {
      "text/plain": [
       "(179, 4)"
      ]
     },
     "execution_count": 27,
     "metadata": {},
     "output_type": "execute_result"
    }
   ],
   "source": [
    "missing_players_df.shape"
   ]
  },
  {
   "cell_type": "code",
   "execution_count": 28,
   "id": "079d47a2",
   "metadata": {
    "ExecuteTime": {
     "end_time": "2022-08-03T09:46:21.472594Z",
     "start_time": "2022-08-03T09:46:21.464066Z"
    }
   },
   "outputs": [],
   "source": [
    "s_df['player_alt'] = s_df['Player'].apply(lambda x: x.replace(' ', '').lower())\\\n",
    "                                   .apply(lambda x: x.replace(\"'\", ''))\\\n",
    "                                   .apply(lambda x: x.replace('.', ''))\\\n",
    "                                   .apply(lambda x: synergy_name_dict[x] \n",
    "                                          if x in synergy_name_dict.keys()\n",
    "                                          else x)"
   ]
  },
  {
   "cell_type": "markdown",
   "id": "c37a2cb9",
   "metadata": {},
   "source": [
    "Merge Synergy records to missing players."
   ]
  },
  {
   "cell_type": "code",
   "execution_count": 29,
   "id": "d28be167",
   "metadata": {
    "ExecuteTime": {
     "end_time": "2022-08-03T09:46:21.486919Z",
     "start_time": "2022-08-03T09:46:21.474663Z"
    }
   },
   "outputs": [],
   "source": [
    "missing_players_df = missing_players_df.merge(s_df,\n",
    "                                              left_on=['team', 'season', 'player_alt'],\n",
    "                                              right_on=['Team', 'Season', 'player_alt'],\n",
    "                                              how='left')"
   ]
  },
  {
   "cell_type": "markdown",
   "id": "8ce79e45",
   "metadata": {
    "ExecuteTime": {
     "end_time": "2022-06-22T11:04:09.352336Z",
     "start_time": "2022-06-22T11:04:09.347994Z"
    }
   },
   "source": [
    "Make sure that we find all the Synergy data for the missing players."
   ]
  },
  {
   "cell_type": "code",
   "execution_count": 30,
   "id": "221b67c3",
   "metadata": {
    "ExecuteTime": {
     "end_time": "2022-08-03T09:46:21.497342Z",
     "start_time": "2022-08-03T09:46:21.489113Z"
    }
   },
   "outputs": [
    {
     "data": {
      "text/html": [
       "<div>\n",
       "<style scoped>\n",
       "    .dataframe tbody tr th:only-of-type {\n",
       "        vertical-align: middle;\n",
       "    }\n",
       "\n",
       "    .dataframe tbody tr th {\n",
       "        vertical-align: top;\n",
       "    }\n",
       "\n",
       "    .dataframe thead th {\n",
       "        text-align: right;\n",
       "    }\n",
       "</style>\n",
       "<table border=\"1\" class=\"dataframe\">\n",
       "  <thead>\n",
       "    <tr style=\"text-align: right;\">\n",
       "      <th></th>\n",
       "      <th>Player</th>\n",
       "      <th>Team</th>\n",
       "      <th>Season</th>\n",
       "      <th>Overall_Poss</th>\n",
       "    </tr>\n",
       "  </thead>\n",
       "  <tbody>\n",
       "  </tbody>\n",
       "</table>\n",
       "</div>"
      ],
      "text/plain": [
       "Empty DataFrame\n",
       "Columns: [Player, Team, Season, Overall_Poss]\n",
       "Index: []"
      ]
     },
     "execution_count": 30,
     "metadata": {},
     "output_type": "execute_result"
    }
   ],
   "source": [
    "missing_players_df[missing_players_df['Overall_Poss'].isna()]\\\n",
    "[['Player', 'Team', 'Season', 'Overall_Poss']]"
   ]
  },
  {
   "cell_type": "markdown",
   "id": "092f4450",
   "metadata": {},
   "source": [
    "### Step 2: Create cluster tags for those who don't have one"
   ]
  },
  {
   "cell_type": "markdown",
   "id": "fcecc484",
   "metadata": {},
   "source": [
    "Assign player clusters using previously-trained model."
   ]
  },
  {
   "cell_type": "code",
   "execution_count": 31,
   "id": "8c3366b7",
   "metadata": {
    "ExecuteTime": {
     "end_time": "2022-08-03T09:46:21.561415Z",
     "start_time": "2022-08-03T09:46:21.504470Z"
    }
   },
   "outputs": [],
   "source": [
    "X = missing_players_df[poss_weights_cols].copy()\n",
    "X_transformed = pre_cluster_scaler.transform(pca.transform(pre_pca_pipe.transform(X)))\n",
    "missing_players_df['player_cluster'] = km.predict(X_transformed)\n",
    "missing_players_df['player_cluster'] = missing_players_df['player_cluster'].map(cluster_map_km_to_sc)"
   ]
  },
  {
   "cell_type": "markdown",
   "id": "3bfe41b0",
   "metadata": {},
   "source": [
    "Check players got assigned to cluster 2 or 6, which are relatively primary role."
   ]
  },
  {
   "cell_type": "code",
   "execution_count": 32,
   "id": "03db9e79",
   "metadata": {
    "ExecuteTime": {
     "end_time": "2022-08-03T09:46:21.569733Z",
     "start_time": "2022-08-03T09:46:21.564223Z"
    }
   },
   "outputs": [
    {
     "data": {
      "text/plain": [
       "{2: 'Ballhandler (Iso+PnR)',\n",
       " 1: 'Ballhandler (PnR)',\n",
       " 6: 'Big (Post Up+Roll)',\n",
       " 5: 'Big (Roll+Cut)',\n",
       " 0: 'Wing (Off Screen)',\n",
       " 4: 'Wing (Hand Off)',\n",
       " 3: 'Wing (Spot Up+Transition)'}"
      ]
     },
     "execution_count": 32,
     "metadata": {},
     "output_type": "execute_result"
    }
   ],
   "source": [
    "cluster_dict_detail"
   ]
  },
  {
   "cell_type": "code",
   "execution_count": 33,
   "id": "e284fa65",
   "metadata": {
    "ExecuteTime": {
     "end_time": "2022-08-03T09:46:21.584281Z",
     "start_time": "2022-08-03T09:46:21.573212Z"
    }
   },
   "outputs": [
    {
     "data": {
      "text/plain": [
       "player_cluster\n",
       "0     4\n",
       "1     4\n",
       "2     1\n",
       "3     8\n",
       "4     3\n",
       "5    11\n",
       "6     4\n",
       "Name: player, dtype: int64"
      ]
     },
     "execution_count": 33,
     "metadata": {},
     "output_type": "execute_result"
    }
   ],
   "source": [
    "missing_players_df[missing_players_df['Overall_Poss'] < 100]\\\n",
    ".groupby('player_cluster')['player'].count()"
   ]
  },
  {
   "cell_type": "code",
   "execution_count": 34,
   "id": "365c32ea",
   "metadata": {
    "ExecuteTime": {
     "end_time": "2022-08-03T09:46:21.603435Z",
     "start_time": "2022-08-03T09:46:21.587272Z"
    }
   },
   "outputs": [
    {
     "data": {
      "text/html": [
       "<div>\n",
       "<style scoped>\n",
       "    .dataframe tbody tr th:only-of-type {\n",
       "        vertical-align: middle;\n",
       "    }\n",
       "\n",
       "    .dataframe tbody tr th {\n",
       "        vertical-align: top;\n",
       "    }\n",
       "\n",
       "    .dataframe thead th {\n",
       "        text-align: right;\n",
       "    }\n",
       "</style>\n",
       "<table border=\"1\" class=\"dataframe\">\n",
       "  <thead>\n",
       "    <tr style=\"text-align: right;\">\n",
       "      <th></th>\n",
       "      <th>Player</th>\n",
       "      <th>Team</th>\n",
       "      <th>Season</th>\n",
       "      <th>Overall_Poss</th>\n",
       "      <th>player_cluster</th>\n",
       "    </tr>\n",
       "  </thead>\n",
       "  <tbody>\n",
       "    <tr>\n",
       "      <th>153</th>\n",
       "      <td>Dakari Johnson</td>\n",
       "      <td>Oklahoma City Thunder</td>\n",
       "      <td>2017</td>\n",
       "      <td>47.0</td>\n",
       "      <td>6</td>\n",
       "    </tr>\n",
       "    <tr>\n",
       "      <th>59</th>\n",
       "      <td>Iman Shumpert</td>\n",
       "      <td>Cleveland Cavaliers</td>\n",
       "      <td>2017</td>\n",
       "      <td>75.0</td>\n",
       "      <td>2</td>\n",
       "    </tr>\n",
       "    <tr>\n",
       "      <th>91</th>\n",
       "      <td>Frank Kaminsky</td>\n",
       "      <td>Phoenix Suns</td>\n",
       "      <td>2021</td>\n",
       "      <td>77.0</td>\n",
       "      <td>6</td>\n",
       "    </tr>\n",
       "    <tr>\n",
       "      <th>53</th>\n",
       "      <td>Zach Collins</td>\n",
       "      <td>Portland Trail Blazers</td>\n",
       "      <td>2019</td>\n",
       "      <td>79.0</td>\n",
       "      <td>6</td>\n",
       "    </tr>\n",
       "    <tr>\n",
       "      <th>19</th>\n",
       "      <td>Dwight Howard</td>\n",
       "      <td>Washington Wizards</td>\n",
       "      <td>2018</td>\n",
       "      <td>95.0</td>\n",
       "      <td>6</td>\n",
       "    </tr>\n",
       "  </tbody>\n",
       "</table>\n",
       "</div>"
      ],
      "text/plain": [
       "             Player                    Team  Season  Overall_Poss  \\\n",
       "153  Dakari Johnson   Oklahoma City Thunder    2017          47.0   \n",
       "59    Iman Shumpert     Cleveland Cavaliers    2017          75.0   \n",
       "91   Frank Kaminsky            Phoenix Suns    2021          77.0   \n",
       "53     Zach Collins  Portland Trail Blazers    2019          79.0   \n",
       "19    Dwight Howard      Washington Wizards    2018          95.0   \n",
       "\n",
       "     player_cluster  \n",
       "153               6  \n",
       "59                2  \n",
       "91                6  \n",
       "53                6  \n",
       "19                6  "
      ]
     },
     "execution_count": 34,
     "metadata": {},
     "output_type": "execute_result"
    }
   ],
   "source": [
    "missing_players_df[(missing_players_df['Overall_Poss'] < 100) &\n",
    "                   (missing_players_df['player_cluster'].isin([2, 6]))]\\\n",
    "[['Player', 'Team', 'Season', 'Overall_Poss', 'player_cluster']].sort_values('Overall_Poss')"
   ]
  },
  {
   "cell_type": "markdown",
   "id": "739b90da",
   "metadata": {},
   "source": [
    "### Step 3: Complete assigning cluster labels in lineup data"
   ]
  },
  {
   "cell_type": "markdown",
   "id": "9310e3bc",
   "metadata": {},
   "source": [
    "Add cluster labels of missing players to the original label data."
   ]
  },
  {
   "cell_type": "code",
   "execution_count": 35,
   "id": "41ca7965",
   "metadata": {
    "ExecuteTime": {
     "end_time": "2022-08-03T09:46:21.620584Z",
     "start_time": "2022-08-03T09:46:21.606359Z"
    }
   },
   "outputs": [
    {
     "data": {
      "text/plain": [
       "(1953, 4)"
      ]
     },
     "execution_count": 35,
     "metadata": {},
     "output_type": "execute_result"
    }
   ],
   "source": [
    "label_df_adj = pd.concat([label_df,\n",
    "                          missing_players_df[['season', 'team', \n",
    "                                              'player_cluster', 'player_alt']]])\\\n",
    "                 .reset_index(drop=True)\n",
    "label_df_adj.shape"
   ]
  },
  {
   "cell_type": "markdown",
   "id": "10280af0",
   "metadata": {},
   "source": [
    "Assign labels."
   ]
  },
  {
   "cell_type": "code",
   "execution_count": 36,
   "id": "ab5461ea",
   "metadata": {
    "ExecuteTime": {
     "end_time": "2022-08-03T09:46:21.945343Z",
     "start_time": "2022-08-03T09:46:21.623479Z"
    }
   },
   "outputs": [],
   "source": [
    "for pos in positions:\n",
    "    lineup_df = lineup_df.merge(label_df_adj.rename(columns={'player_alt': f'{pos}_alt'}),\n",
    "                                how='left')\\\n",
    "                         .rename(columns={'player_cluster': f'{pos}_cluster'})"
   ]
  },
  {
   "cell_type": "markdown",
   "id": "7216bf92",
   "metadata": {
    "ExecuteTime": {
     "end_time": "2022-06-22T11:23:57.877440Z",
     "start_time": "2022-06-22T11:23:57.836219Z"
    }
   },
   "source": [
    "Check if there are missing records with no cluster labels."
   ]
  },
  {
   "cell_type": "code",
   "execution_count": 37,
   "id": "6951971a",
   "metadata": {
    "ExecuteTime": {
     "end_time": "2022-08-03T09:46:21.968121Z",
     "start_time": "2022-08-03T09:46:21.947627Z"
    }
   },
   "outputs": [
    {
     "data": {
      "text/html": [
       "<div>\n",
       "<style scoped>\n",
       "    .dataframe tbody tr th:only-of-type {\n",
       "        vertical-align: middle;\n",
       "    }\n",
       "\n",
       "    .dataframe tbody tr th {\n",
       "        vertical-align: top;\n",
       "    }\n",
       "\n",
       "    .dataframe thead th {\n",
       "        text-align: right;\n",
       "    }\n",
       "</style>\n",
       "<table border=\"1\" class=\"dataframe\">\n",
       "  <thead>\n",
       "    <tr style=\"text-align: right;\">\n",
       "      <th></th>\n",
       "      <th>PG</th>\n",
       "      <th>SG</th>\n",
       "      <th>SF</th>\n",
       "      <th>PF</th>\n",
       "      <th>C</th>\n",
       "      <th>season</th>\n",
       "      <th>team</th>\n",
       "      <th>Poss</th>\n",
       "      <th>off_Pts/Poss_rank</th>\n",
       "      <th>off_Pts/Poss</th>\n",
       "      <th>off_eFG%_rank</th>\n",
       "      <th>off_eFG%</th>\n",
       "      <th>off_TOV%_rank</th>\n",
       "      <th>off_TOV%</th>\n",
       "      <th>off_OREB%_rank</th>\n",
       "      <th>off_OREB%</th>\n",
       "      <th>off_FTr_rank</th>\n",
       "      <th>off_FTr</th>\n",
       "      <th>PG_alt</th>\n",
       "      <th>SG_alt</th>\n",
       "      <th>SF_alt</th>\n",
       "      <th>PF_alt</th>\n",
       "      <th>C_alt</th>\n",
       "      <th>PG_cluster</th>\n",
       "      <th>SG_cluster</th>\n",
       "      <th>SF_cluster</th>\n",
       "      <th>PF_cluster</th>\n",
       "      <th>C_cluster</th>\n",
       "    </tr>\n",
       "  </thead>\n",
       "  <tbody>\n",
       "  </tbody>\n",
       "</table>\n",
       "</div>"
      ],
      "text/plain": [
       "Empty DataFrame\n",
       "Columns: [PG, SG, SF, PF, C, season, team, Poss, off_Pts/Poss_rank, off_Pts/Poss, off_eFG%_rank, off_eFG%, off_TOV%_rank, off_TOV%, off_OREB%_rank, off_OREB%, off_FTr_rank, off_FTr, PG_alt, SG_alt, SF_alt, PF_alt, C_alt, PG_cluster, SG_cluster, SF_cluster, PF_cluster, C_cluster]\n",
       "Index: []"
      ]
     },
     "execution_count": 37,
     "metadata": {},
     "output_type": "execute_result"
    }
   ],
   "source": [
    "pd.concat([lineup_df[(lineup_df[f'{pos}_cluster'].isna()) & \n",
    "                     (lineup_df['Poss'] >= 100)]\n",
    "           for pos in positions])\\\n",
    "  .drop_duplicates()\\\n",
    "  .sort_values('Poss', ascending=False)"
   ]
  },
  {
   "cell_type": "markdown",
   "id": "47feb13e",
   "metadata": {},
   "source": [
    "### Step 4: Create cluster embeddings"
   ]
  },
  {
   "cell_type": "code",
   "execution_count": 38,
   "id": "abc6a2f6",
   "metadata": {
    "ExecuteTime": {
     "end_time": "2022-08-03T09:46:21.977661Z",
     "start_time": "2022-08-03T09:46:21.970340Z"
    }
   },
   "outputs": [],
   "source": [
    "lineup_df_100 = lineup_df[lineup_df['Poss'] >= 100].reset_index(drop=True)"
   ]
  },
  {
   "cell_type": "code",
   "execution_count": 39,
   "id": "0b0670c1",
   "metadata": {
    "ExecuteTime": {
     "end_time": "2022-08-03T09:46:22.028508Z",
     "start_time": "2022-08-03T09:46:21.979834Z"
    }
   },
   "outputs": [],
   "source": [
    "lineup_df_100['lineup_clusters'] = lineup_df_100.apply(lambda x: [x[f'{pos}_cluster'] \n",
    "                                                                  for pos in positions], \n",
    "                                                       axis=1)"
   ]
  },
  {
   "cell_type": "code",
   "execution_count": 40,
   "id": "f1835110",
   "metadata": {
    "ExecuteTime": {
     "end_time": "2022-08-03T09:46:22.049257Z",
     "start_time": "2022-08-03T09:46:22.032955Z"
    }
   },
   "outputs": [],
   "source": [
    "for i in range(7):\n",
    "    lineup_df_100[i] = lineup_df_100['lineup_clusters'].apply(lambda x: x.count(i))"
   ]
  },
  {
   "cell_type": "code",
   "execution_count": 41,
   "id": "9afb03a9",
   "metadata": {
    "ExecuteTime": {
     "end_time": "2022-08-03T09:46:22.126604Z",
     "start_time": "2022-08-03T09:46:22.052353Z"
    }
   },
   "outputs": [],
   "source": [
    "lineup_df_100['lineup_embedding'] = lineup_df_100.apply(lambda x: '-'.join([str(x[i]) \n",
    "                                                                            for i in range(7)]), \n",
    "                                                        axis=1)"
   ]
  },
  {
   "cell_type": "markdown",
   "id": "ae49fdf4",
   "metadata": {},
   "source": [
    "### Step 5: Compute 'adjusted offensive ratings'"
   ]
  },
  {
   "cell_type": "markdown",
   "id": "5392caf9",
   "metadata": {},
   "source": [
    "Inspired by 'NBA Lineup Analysis on Clustered Player Tendencies: A new approach to the positions of basketball & modeling lineup efficiency', the adjusted offensive ratings for lineups that logged under 300 possession are computed like the following:  "
   ]
  },
  {
   "cell_type": "markdown",
   "id": "a6e33579",
   "metadata": {},
   "source": [
    "$Adj. Off Rating = (\\frac{Poss}{300}) * Off Rating + (\\frac{300-Poss}{300}) * Tm Off Rating$"
   ]
  },
  {
   "cell_type": "code",
   "execution_count": 42,
   "id": "994da94e",
   "metadata": {
    "ExecuteTime": {
     "end_time": "2022-08-03T09:46:22.136350Z",
     "start_time": "2022-08-03T09:46:22.128768Z"
    }
   },
   "outputs": [
    {
     "data": {
      "text/plain": [
       "((1521, 37), (302, 37))"
      ]
     },
     "execution_count": 42,
     "metadata": {},
     "output_type": "execute_result"
    }
   ],
   "source": [
    "lineup_df_100.shape, lineup_df_100[lineup_df_100['Poss'] >= 300].shape"
   ]
  },
  {
   "cell_type": "code",
   "execution_count": 43,
   "id": "28bb60cc",
   "metadata": {
    "ExecuteTime": {
     "end_time": "2022-08-03T09:46:22.148074Z",
     "start_time": "2022-08-03T09:46:22.138583Z"
    }
   },
   "outputs": [],
   "source": [
    "lineup_df_100 = lineup_df_100.merge(tm_off_ratings, how='left')"
   ]
  },
  {
   "cell_type": "code",
   "execution_count": 44,
   "id": "2faef619",
   "metadata": {
    "ExecuteTime": {
     "end_time": "2022-08-03T09:46:22.160776Z",
     "start_time": "2022-08-03T09:46:22.152307Z"
    }
   },
   "outputs": [],
   "source": [
    "lineup_df_100['adj_off_Pts/Poss'] = lineup_df_100['off_Pts/Poss']\n",
    "cond = lineup_df_100['Poss'] < 300\n",
    "lineup_df_100.loc[cond, 'adj_off_Pts/Poss'] = lineup_df_100.loc[cond, 'off_Pts/Poss'] * \\\n",
    "                                              (lineup_df_100.loc[cond, 'Poss'] / 300) + \\\n",
    "                                              lineup_df_100.loc[cond, 'tm_off_Pts/Poss'] * \\\n",
    "                                              ((300 - lineup_df_100.loc[cond, 'Poss']) / 300)"
   ]
  },
  {
   "cell_type": "code",
   "execution_count": 46,
   "id": "aee11900",
   "metadata": {
    "ExecuteTime": {
     "end_time": "2022-08-03T09:46:24.331620Z",
     "start_time": "2022-08-03T09:46:23.735433Z"
    }
   },
   "outputs": [
    {
     "data": {
      "text/plain": [
       "<matplotlib.legend.Legend at 0x7fee3dce1e50>"
      ]
     },
     "execution_count": 46,
     "metadata": {},
     "output_type": "execute_result"
    },
    {
     "data": {
      "image/png": "[encoded data removed]",
      "text/plain": [
       "<Figure size 864x576 with 1 Axes>"
      ]
     },
     "metadata": {
      "needs_background": "light"
     },
     "output_type": "display_data"
    }
   ],
   "source": [
    "figsize(12, 8)\n",
    "sns.distplot(lineup_df_100['off_Pts/Poss'], \n",
    "             label='Raw Points Scored Per 100 Possessions')\n",
    "sns.distplot(lineup_df_100['adj_off_Pts/Poss'], \n",
    "             label='Adjusted Points Scored Per 100 Possessions')\n",
    "plt.xlabel('Points Scored Per 100 Possessions')\n",
    "plt.legend()"
   ]
  },
  {
   "cell_type": "code",
   "execution_count": 47,
   "id": "36ff96eb",
   "metadata": {
    "ExecuteTime": {
     "end_time": "2022-08-03T09:46:24.351910Z",
     "start_time": "2022-08-03T09:46:24.336212Z"
    }
   },
   "outputs": [],
   "source": [
    "league_avg = season_off_ratings[['off_Pts/Poss']].reset_index()\\\n",
    "                                                 .rename(columns={'off_Pts/Poss': \n",
    "                                                                  'league_avg_off_Pts/Poss'})\n",
    "lineup_df_100 = lineup_df_100.merge(league_avg, how='left')\n",
    "lineup_df_100['diff_to_league_avg'] = lineup_df_100['off_Pts/Poss'] - \\\n",
    "                                      lineup_df_100['league_avg_off_Pts/Poss']\n",
    "lineup_df_100['adj_diff_to_league_avg'] = lineup_df_100['adj_off_Pts/Poss'] - \\\n",
    "                                          lineup_df_100['league_avg_off_Pts/Poss']"
   ]
  },
  {
   "cell_type": "markdown",
   "id": "17087e00",
   "metadata": {},
   "source": [
    "## Exploratory Data Analysis"
   ]
  },
  {
   "cell_type": "markdown",
   "id": "00dafd16",
   "metadata": {},
   "source": [
    "### Ticket 1: How many types of lineups?"
   ]
  },
  {
   "cell_type": "code",
   "execution_count": 48,
   "id": "d89f781e",
   "metadata": {
    "ExecuteTime": {
     "end_time": "2022-08-03T09:46:28.072638Z",
     "start_time": "2022-08-03T09:46:28.062925Z"
    }
   },
   "outputs": [
    {
     "data": {
      "text/plain": [
       "(175, 1)"
      ]
     },
     "execution_count": 48,
     "metadata": {},
     "output_type": "execute_result"
    }
   ],
   "source": [
    "lineup_df_100.groupby('lineup_embedding')[['lineup_clusters']].count().shape"
   ]
  },
  {
   "cell_type": "markdown",
   "id": "394be870",
   "metadata": {},
   "source": [
    "### Ticket 2: What are the top 10 most popular lineups?"
   ]
  },
  {
   "cell_type": "code",
   "execution_count": 49,
   "id": "40085725",
   "metadata": {
    "ExecuteTime": {
     "end_time": "2022-08-03T09:46:29.447539Z",
     "start_time": "2022-08-03T09:46:29.442871Z"
    }
   },
   "outputs": [
    {
     "data": {
      "text/plain": [
       "{2: 'Ballhandler (Iso+PnR)',\n",
       " 1: 'Ballhandler (PnR)',\n",
       " 6: 'Big (Post Up+Roll)',\n",
       " 5: 'Big (Roll+Cut)',\n",
       " 0: 'Wing (Off Screen)',\n",
       " 4: 'Wing (Hand Off)',\n",
       " 3: 'Wing (Spot Up+Transition)'}"
      ]
     },
     "execution_count": 49,
     "metadata": {},
     "output_type": "execute_result"
    }
   ],
   "source": [
    "cluster_dict_detail"
   ]
  },
  {
   "cell_type": "code",
   "execution_count": 50,
   "id": "46ae2a0b",
   "metadata": {
    "ExecuteTime": {
     "end_time": "2022-08-03T09:46:29.984284Z",
     "start_time": "2022-08-03T09:46:29.980220Z"
    }
   },
   "outputs": [],
   "source": [
    "def lineup_embedding_to_detail(s, cluster_dict_detail=cluster_dict_detail):\n",
    "    detail = []\n",
    "    lineup = s.split('-')\n",
    "    for i in range(7):\n",
    "        n = int(lineup[i])\n",
    "        if n != 0:\n",
    "            detail.append(f'{n} {cluster_dict_detail[i]}')\n",
    "    return ' | '.join(detail)"
   ]
  },
  {
   "cell_type": "code",
   "execution_count": 51,
   "id": "c41c02a3",
   "metadata": {
    "ExecuteTime": {
     "end_time": "2022-08-03T09:46:30.527962Z",
     "start_time": "2022-08-03T09:46:30.512413Z"
    }
   },
   "outputs": [
    {
     "data": {
      "text/html": [
       "<div>\n",
       "<style scoped>\n",
       "    .dataframe tbody tr th:only-of-type {\n",
       "        vertical-align: middle;\n",
       "    }\n",
       "\n",
       "    .dataframe tbody tr th {\n",
       "        vertical-align: top;\n",
       "    }\n",
       "\n",
       "    .dataframe thead th {\n",
       "        text-align: right;\n",
       "    }\n",
       "</style>\n",
       "<table border=\"1\" class=\"dataframe\">\n",
       "  <thead>\n",
       "    <tr style=\"text-align: right;\">\n",
       "      <th></th>\n",
       "      <th>lineup_embedding</th>\n",
       "      <th>num_lineups</th>\n",
       "      <th>lineup_detail</th>\n",
       "    </tr>\n",
       "  </thead>\n",
       "  <tbody>\n",
       "    <tr>\n",
       "      <th>81</th>\n",
       "      <td>0-2-1-1-0-1-0</td>\n",
       "      <td>57</td>\n",
       "      <td>2 Ballhandler (PnR) | 1 Ballhandler (Iso+PnR) | 1 Wing (Spot Up+Transition) | 1 Big (Roll+Cut)</td>\n",
       "    </tr>\n",
       "    <tr>\n",
       "      <th>132</th>\n",
       "      <td>1-1-1-1-0-1-0</td>\n",
       "      <td>54</td>\n",
       "      <td>1 Wing (Off Screen) | 1 Ballhandler (PnR) | 1 Ballhandler (Iso+PnR) | 1 Wing (Spot Up+Transition) | 1 Big (Roll+Cut)</td>\n",
       "    </tr>\n",
       "    <tr>\n",
       "      <th>52</th>\n",
       "      <td>0-1-1-2-0-0-1</td>\n",
       "      <td>51</td>\n",
       "      <td>1 Ballhandler (PnR) | 1 Ballhandler (Iso+PnR) | 2 Wing (Spot Up+Transition) | 1 Big (Post Up+Roll)</td>\n",
       "    </tr>\n",
       "    <tr>\n",
       "      <th>73</th>\n",
       "      <td>0-2-0-2-0-0-1</td>\n",
       "      <td>49</td>\n",
       "      <td>2 Ballhandler (PnR) | 2 Wing (Spot Up+Transition) | 1 Big (Post Up+Roll)</td>\n",
       "    </tr>\n",
       "    <tr>\n",
       "      <th>126</th>\n",
       "      <td>1-1-0-2-0-1-0</td>\n",
       "      <td>41</td>\n",
       "      <td>1 Wing (Off Screen) | 1 Ballhandler (PnR) | 2 Wing (Spot Up+Transition) | 1 Big (Roll+Cut)</td>\n",
       "    </tr>\n",
       "    <tr>\n",
       "      <th>74</th>\n",
       "      <td>0-2-0-2-0-1-0</td>\n",
       "      <td>39</td>\n",
       "      <td>2 Ballhandler (PnR) | 2 Wing (Spot Up+Transition) | 1 Big (Roll+Cut)</td>\n",
       "    </tr>\n",
       "    <tr>\n",
       "      <th>144</th>\n",
       "      <td>1-2-0-1-0-1-0</td>\n",
       "      <td>38</td>\n",
       "      <td>1 Wing (Off Screen) | 2 Ballhandler (PnR) | 1 Wing (Spot Up+Transition) | 1 Big (Roll+Cut)</td>\n",
       "    </tr>\n",
       "    <tr>\n",
       "      <th>156</th>\n",
       "      <td>2-0-1-1-0-1-0</td>\n",
       "      <td>32</td>\n",
       "      <td>2 Wing (Off Screen) | 1 Ballhandler (Iso+PnR) | 1 Wing (Spot Up+Transition) | 1 Big (Roll+Cut)</td>\n",
       "    </tr>\n",
       "    <tr>\n",
       "      <th>53</th>\n",
       "      <td>0-1-1-2-0-1-0</td>\n",
       "      <td>32</td>\n",
       "      <td>1 Ballhandler (PnR) | 1 Ballhandler (Iso+PnR) | 2 Wing (Spot Up+Transition) | 1 Big (Roll+Cut)</td>\n",
       "    </tr>\n",
       "    <tr>\n",
       "      <th>131</th>\n",
       "      <td>1-1-1-1-0-0-1</td>\n",
       "      <td>29</td>\n",
       "      <td>1 Wing (Off Screen) | 1 Ballhandler (PnR) | 1 Ballhandler (Iso+PnR) | 1 Wing (Spot Up+Transition) | 1 Big (Post Up+Roll)</td>\n",
       "    </tr>\n",
       "  </tbody>\n",
       "</table>\n",
       "</div>"
      ],
      "text/plain": [
       "    lineup_embedding  num_lineups  \\\n",
       "81     0-2-1-1-0-1-0           57   \n",
       "132    1-1-1-1-0-1-0           54   \n",
       "52     0-1-1-2-0-0-1           51   \n",
       "73     0-2-0-2-0-0-1           49   \n",
       "126    1-1-0-2-0-1-0           41   \n",
       "74     0-2-0-2-0-1-0           39   \n",
       "144    1-2-0-1-0-1-0           38   \n",
       "156    2-0-1-1-0-1-0           32   \n",
       "53     0-1-1-2-0-1-0           32   \n",
       "131    1-1-1-1-0-0-1           29   \n",
       "\n",
       "                                                                                                                lineup_detail  \n",
       "81                             2 Ballhandler (PnR) | 1 Ballhandler (Iso+PnR) | 1 Wing (Spot Up+Transition) | 1 Big (Roll+Cut)  \n",
       "132      1 Wing (Off Screen) | 1 Ballhandler (PnR) | 1 Ballhandler (Iso+PnR) | 1 Wing (Spot Up+Transition) | 1 Big (Roll+Cut)  \n",
       "52                         1 Ballhandler (PnR) | 1 Ballhandler (Iso+PnR) | 2 Wing (Spot Up+Transition) | 1 Big (Post Up+Roll)  \n",
       "73                                                   2 Ballhandler (PnR) | 2 Wing (Spot Up+Transition) | 1 Big (Post Up+Roll)  \n",
       "126                                1 Wing (Off Screen) | 1 Ballhandler (PnR) | 2 Wing (Spot Up+Transition) | 1 Big (Roll+Cut)  \n",
       "74                                                       2 Ballhandler (PnR) | 2 Wing (Spot Up+Transition) | 1 Big (Roll+Cut)  \n",
       "144                                1 Wing (Off Screen) | 2 Ballhandler (PnR) | 1 Wing (Spot Up+Transition) | 1 Big (Roll+Cut)  \n",
       "156                            2 Wing (Off Screen) | 1 Ballhandler (Iso+PnR) | 1 Wing (Spot Up+Transition) | 1 Big (Roll+Cut)  \n",
       "53                             1 Ballhandler (PnR) | 1 Ballhandler (Iso+PnR) | 2 Wing (Spot Up+Transition) | 1 Big (Roll+Cut)  \n",
       "131  1 Wing (Off Screen) | 1 Ballhandler (PnR) | 1 Ballhandler (Iso+PnR) | 1 Wing (Spot Up+Transition) | 1 Big (Post Up+Roll)  "
      ]
     },
     "execution_count": 51,
     "metadata": {},
     "output_type": "execute_result"
    }
   ],
   "source": [
    "t_2 = lineup_df_100.groupby('lineup_embedding')[['lineup_clusters']]\\\n",
    "                   .count().reset_index()\\\n",
    "                   .rename(columns={'lineup_clusters': 'num_lineups'})\n",
    "t_2['lineup_detail'] = t_2['lineup_embedding'].apply(lineup_embedding_to_detail)\n",
    "t_2.sort_values('num_lineups', ascending=False).head(10)"
   ]
  },
  {
   "cell_type": "code",
   "execution_count": 52,
   "id": "4bc0d14b",
   "metadata": {
    "ExecuteTime": {
     "end_time": "2022-08-03T09:46:30.952135Z",
     "start_time": "2022-08-03T09:46:30.921534Z"
    }
   },
   "outputs": [
    {
     "data": {
      "text/html": [
       "<div>\n",
       "<style scoped>\n",
       "    .dataframe tbody tr th:only-of-type {\n",
       "        vertical-align: middle;\n",
       "    }\n",
       "\n",
       "    .dataframe tbody tr th {\n",
       "        vertical-align: top;\n",
       "    }\n",
       "\n",
       "    .dataframe thead th {\n",
       "        text-align: right;\n",
       "    }\n",
       "</style>\n",
       "<table border=\"1\" class=\"dataframe\">\n",
       "  <thead>\n",
       "    <tr style=\"text-align: right;\">\n",
       "      <th></th>\n",
       "      <th>PG</th>\n",
       "      <th>SG</th>\n",
       "      <th>SF</th>\n",
       "      <th>PF</th>\n",
       "      <th>C</th>\n",
       "      <th>season</th>\n",
       "      <th>team</th>\n",
       "      <th>Poss</th>\n",
       "      <th>off_Pts/Poss_rank</th>\n",
       "      <th>off_Pts/Poss</th>\n",
       "      <th>off_eFG%_rank</th>\n",
       "      <th>off_eFG%</th>\n",
       "      <th>off_TOV%_rank</th>\n",
       "      <th>off_TOV%</th>\n",
       "      <th>off_OREB%_rank</th>\n",
       "      <th>off_OREB%</th>\n",
       "      <th>off_FTr_rank</th>\n",
       "      <th>off_FTr</th>\n",
       "      <th>PG_alt</th>\n",
       "      <th>SG_alt</th>\n",
       "      <th>SF_alt</th>\n",
       "      <th>PF_alt</th>\n",
       "      <th>C_alt</th>\n",
       "      <th>PG_cluster</th>\n",
       "      <th>SG_cluster</th>\n",
       "      <th>SF_cluster</th>\n",
       "      <th>PF_cluster</th>\n",
       "      <th>C_cluster</th>\n",
       "      <th>lineup_clusters</th>\n",
       "      <th>0</th>\n",
       "      <th>1</th>\n",
       "      <th>2</th>\n",
       "      <th>3</th>\n",
       "      <th>4</th>\n",
       "      <th>5</th>\n",
       "      <th>6</th>\n",
       "      <th>lineup_embedding</th>\n",
       "      <th>tm_off_Pts/Poss</th>\n",
       "      <th>adj_off_Pts/Poss</th>\n",
       "      <th>league_avg_off_Pts/Poss</th>\n",
       "      <th>diff_to_league_avg</th>\n",
       "      <th>adj_diff_to_league_avg</th>\n",
       "    </tr>\n",
       "  </thead>\n",
       "  <tbody>\n",
       "    <tr>\n",
       "      <th>72</th>\n",
       "      <td>Kemba Walker</td>\n",
       "      <td>Jaylen Brown</td>\n",
       "      <td>Gordon Hayward</td>\n",
       "      <td>Jayson Tatum</td>\n",
       "      <td>Daniel Theis</td>\n",
       "      <td>2019</td>\n",
       "      <td>Boston Celtics</td>\n",
       "      <td>543</td>\n",
       "      <td>69.0</td>\n",
       "      <td>116.6</td>\n",
       "      <td>79.0</td>\n",
       "      <td>58.1%</td>\n",
       "      <td>63.0</td>\n",
       "      <td>13.1%</td>\n",
       "      <td>36.0</td>\n",
       "      <td>22.9%</td>\n",
       "      <td>23.0</td>\n",
       "      <td>13.8</td>\n",
       "      <td>kembawalker</td>\n",
       "      <td>jaylenbrown</td>\n",
       "      <td>gordonhayward</td>\n",
       "      <td>jaysontatum</td>\n",
       "      <td>danieltheis</td>\n",
       "      <td>1.0</td>\n",
       "      <td>3.0</td>\n",
       "      <td>1.0</td>\n",
       "      <td>2.0</td>\n",
       "      <td>5.0</td>\n",
       "      <td>[1.0, 3.0, 1.0, 2.0, 5.0]</td>\n",
       "      <td>0</td>\n",
       "      <td>2</td>\n",
       "      <td>1</td>\n",
       "      <td>1</td>\n",
       "      <td>0</td>\n",
       "      <td>1</td>\n",
       "      <td>0</td>\n",
       "      <td>0-2-1-1-0-1-0</td>\n",
       "      <td>113.556036</td>\n",
       "      <td>116.6</td>\n",
       "      <td>110.793898</td>\n",
       "      <td>5.806102</td>\n",
       "      <td>5.806102</td>\n",
       "    </tr>\n",
       "  </tbody>\n",
       "</table>\n",
       "</div>"
      ],
      "text/plain": [
       "              PG            SG              SF            PF             C  \\\n",
       "72  Kemba Walker  Jaylen Brown  Gordon Hayward  Jayson Tatum  Daniel Theis   \n",
       "\n",
       "    season            team  Poss  off_Pts/Poss_rank  off_Pts/Poss  \\\n",
       "72    2019  Boston Celtics   543               69.0         116.6   \n",
       "\n",
       "    off_eFG%_rank off_eFG%  off_TOV%_rank off_TOV%  off_OREB%_rank off_OREB%  \\\n",
       "72           79.0    58.1%           63.0    13.1%            36.0     22.9%   \n",
       "\n",
       "    off_FTr_rank  off_FTr       PG_alt       SG_alt         SF_alt  \\\n",
       "72          23.0     13.8  kembawalker  jaylenbrown  gordonhayward   \n",
       "\n",
       "         PF_alt        C_alt  PG_cluster  SG_cluster  SF_cluster  PF_cluster  \\\n",
       "72  jaysontatum  danieltheis         1.0         3.0         1.0         2.0   \n",
       "\n",
       "    C_cluster            lineup_clusters  0  1  2  3  4  5  6  \\\n",
       "72        5.0  [1.0, 3.0, 1.0, 2.0, 5.0]  0  2  1  1  0  1  0   \n",
       "\n",
       "   lineup_embedding  tm_off_Pts/Poss  adj_off_Pts/Poss  \\\n",
       "72    0-2-1-1-0-1-0       113.556036             116.6   \n",
       "\n",
       "    league_avg_off_Pts/Poss  diff_to_league_avg  adj_diff_to_league_avg  \n",
       "72               110.793898            5.806102                5.806102  "
      ]
     },
     "execution_count": 52,
     "metadata": {},
     "output_type": "execute_result"
    }
   ],
   "source": [
    "lineup_df_100[lineup_df_100['lineup_embedding'] == '0-2-1-1-0-1-0'].head(1)"
   ]
  },
  {
   "cell_type": "code",
   "execution_count": 53,
   "id": "cbe51e4b",
   "metadata": {
    "ExecuteTime": {
     "end_time": "2022-08-03T09:46:31.367569Z",
     "start_time": "2022-08-03T09:46:31.357028Z"
    }
   },
   "outputs": [
    {
     "data": {
      "text/plain": [
       "((175, 3), (47, 3), (9, 3))"
      ]
     },
     "execution_count": 53,
     "metadata": {},
     "output_type": "execute_result"
    }
   ],
   "source": [
    "t_2.shape, t_2[t_2['num_lineups'] >= 10].shape, t_2[t_2['num_lineups'] >= 30].shape"
   ]
  },
  {
   "cell_type": "markdown",
   "id": "a4d93c40",
   "metadata": {},
   "source": [
    "Distributions of lineups with # >= 30"
   ]
  },
  {
   "cell_type": "code",
   "execution_count": 54,
   "id": "ab0ece9a",
   "metadata": {
    "ExecuteTime": {
     "end_time": "2022-08-03T09:46:33.876794Z",
     "start_time": "2022-08-03T09:46:32.172907Z"
    }
   },
   "outputs": [
    {
     "data": {
      "image/png": "[encoded data removed]",
      "text/plain": [
       "<Figure size 720x1152 with 9 Axes>"
      ]
     },
     "metadata": {
      "needs_background": "light"
     },
     "output_type": "display_data"
    }
   ],
   "source": [
    "figsize(10, 16)\n",
    "\n",
    "n = 9\n",
    "temp = t_2.sort_values('num_lineups', ascending=False)\\\n",
    "          .head(n).values\n",
    "\n",
    "for idx in range(n):\n",
    "    le, num, ld = temp[idx]\n",
    "    lineup_cond = lineup_df_100['lineup_embedding'] == le\n",
    "    \n",
    "    plt.subplot(n, 1, idx+1)\n",
    "    title = f'Lineup: {ld}\\n# of Lineups (2017-2022): {num}'\n",
    "    plt.title(title)\n",
    "    color = '#2E5C6E'\n",
    "    label = 'Ballhandler (Iso+PnR)\\nin Lineup? -- No'\n",
    "    if 'Ballhandler (Iso+PnR)' in title:\n",
    "        color = '#AB3B3A'\n",
    "        label = label.replace('No', 'Yes')\n",
    "    sns.distplot(lineup_df_100[lineup_cond]['adj_diff_to_league_avg'], \n",
    "                 color=color,\n",
    "                 label=label)\n",
    "    plt.xlabel('adjusted points scored per 100 possessions minus league average')\n",
    "    plt.legend(loc='upper left')\n",
    "    plt.xlim(-30, 30)\n",
    "    \n",
    "plt.tight_layout()"
   ]
  },
  {
   "cell_type": "markdown",
   "id": "24da9cad",
   "metadata": {},
   "source": [
    "### Ticket 3: What are the most/least productive lineups?"
   ]
  },
  {
   "cell_type": "markdown",
   "id": "2576d4b8",
   "metadata": {},
   "source": [
    "Find 10 lineup types with the best offensive ratings"
   ]
  },
  {
   "cell_type": "code",
   "execution_count": 55,
   "id": "7182b507",
   "metadata": {
    "ExecuteTime": {
     "end_time": "2022-08-03T09:46:36.745181Z",
     "start_time": "2022-08-03T09:46:36.722626Z"
    }
   },
   "outputs": [
    {
     "data": {
      "text/html": [
       "<div>\n",
       "<style scoped>\n",
       "    .dataframe tbody tr th:only-of-type {\n",
       "        vertical-align: middle;\n",
       "    }\n",
       "\n",
       "    .dataframe tbody tr th {\n",
       "        vertical-align: top;\n",
       "    }\n",
       "\n",
       "    .dataframe thead th {\n",
       "        text-align: right;\n",
       "    }\n",
       "</style>\n",
       "<table border=\"1\" class=\"dataframe\">\n",
       "  <thead>\n",
       "    <tr style=\"text-align: right;\">\n",
       "      <th></th>\n",
       "      <th>lineup_embedding</th>\n",
       "      <th>adj_off_Pts/Poss</th>\n",
       "      <th>adj_diff_to_league_avg</th>\n",
       "      <th>lineup_detail</th>\n",
       "      <th>num_lineups</th>\n",
       "    </tr>\n",
       "  </thead>\n",
       "  <tbody>\n",
       "    <tr>\n",
       "      <th>118</th>\n",
       "      <td>1-0-3-1-0-0-0</td>\n",
       "      <td>128.251674</td>\n",
       "      <td>15.456370</td>\n",
       "      <td>1 Wing (Off Screen) | 3 Ballhandler (Iso+PnR) | 1 Wing (Spot Up+Transition)</td>\n",
       "      <td>1</td>\n",
       "    </tr>\n",
       "    <tr>\n",
       "      <th>104</th>\n",
       "      <td>1-0-1-0-0-1-2</td>\n",
       "      <td>123.505404</td>\n",
       "      <td>15.175415</td>\n",
       "      <td>1 Wing (Off Screen) | 1 Ballhandler (Iso+PnR) | 1 Big (Roll+Cut) | 2 Big (Post Up+Roll)</td>\n",
       "      <td>1</td>\n",
       "    </tr>\n",
       "    <tr>\n",
       "      <th>4</th>\n",
       "      <td>0-0-1-1-1-0-2</td>\n",
       "      <td>120.081548</td>\n",
       "      <td>11.751560</td>\n",
       "      <td>1 Ballhandler (Iso+PnR) | 1 Wing (Spot Up+Transition) | 1 Wing (Hand Off) | 2 Big (Post Up+Roll)</td>\n",
       "      <td>2</td>\n",
       "    </tr>\n",
       "    <tr>\n",
       "      <th>24</th>\n",
       "      <td>0-0-3-0-0-1-1</td>\n",
       "      <td>122.064887</td>\n",
       "      <td>11.270989</td>\n",
       "      <td>3 Ballhandler (Iso+PnR) | 1 Big (Roll+Cut) | 1 Big (Post Up+Roll)</td>\n",
       "      <td>1</td>\n",
       "    </tr>\n",
       "    <tr>\n",
       "      <th>97</th>\n",
       "      <td>0-4-0-1-0-0-0</td>\n",
       "      <td>121.300000</td>\n",
       "      <td>10.506102</td>\n",
       "      <td>4 Ballhandler (PnR) | 1 Wing (Spot Up+Transition)</td>\n",
       "      <td>1</td>\n",
       "    </tr>\n",
       "    <tr>\n",
       "      <th>158</th>\n",
       "      <td>2-0-2-0-0-0-1</td>\n",
       "      <td>119.185287</td>\n",
       "      <td>9.780190</td>\n",
       "      <td>2 Wing (Off Screen) | 2 Ballhandler (Iso+PnR) | 1 Big (Post Up+Roll)</td>\n",
       "      <td>4</td>\n",
       "    </tr>\n",
       "    <tr>\n",
       "      <th>18</th>\n",
       "      <td>0-0-2-1-1-1-0</td>\n",
       "      <td>121.540182</td>\n",
       "      <td>9.284793</td>\n",
       "      <td>2 Ballhandler (Iso+PnR) | 1 Wing (Spot Up+Transition) | 1 Wing (Hand Off) | 1 Big (Roll+Cut)</td>\n",
       "      <td>1</td>\n",
       "    </tr>\n",
       "    <tr>\n",
       "      <th>14</th>\n",
       "      <td>0-0-2-1-0-0-2</td>\n",
       "      <td>118.395040</td>\n",
       "      <td>9.142226</td>\n",
       "      <td>2 Ballhandler (Iso+PnR) | 1 Wing (Spot Up+Transition) | 2 Big (Post Up+Roll)</td>\n",
       "      <td>5</td>\n",
       "    </tr>\n",
       "    <tr>\n",
       "      <th>86</th>\n",
       "      <td>0-2-2-1-0-0-0</td>\n",
       "      <td>119.218687</td>\n",
       "      <td>7.850891</td>\n",
       "      <td>2 Ballhandler (PnR) | 2 Ballhandler (Iso+PnR) | 1 Wing (Spot Up+Transition)</td>\n",
       "      <td>2</td>\n",
       "    </tr>\n",
       "    <tr>\n",
       "      <th>17</th>\n",
       "      <td>0-0-2-1-1-0-1</td>\n",
       "      <td>116.654604</td>\n",
       "      <td>7.343265</td>\n",
       "      <td>2 Ballhandler (Iso+PnR) | 1 Wing (Spot Up+Transition) | 1 Wing (Hand Off) | 1 Big (Post Up+Roll)</td>\n",
       "      <td>4</td>\n",
       "    </tr>\n",
       "  </tbody>\n",
       "</table>\n",
       "</div>"
      ],
      "text/plain": [
       "    lineup_embedding  adj_off_Pts/Poss  adj_diff_to_league_avg  \\\n",
       "118    1-0-3-1-0-0-0        128.251674               15.456370   \n",
       "104    1-0-1-0-0-1-2        123.505404               15.175415   \n",
       "4      0-0-1-1-1-0-2        120.081548               11.751560   \n",
       "24     0-0-3-0-0-1-1        122.064887               11.270989   \n",
       "97     0-4-0-1-0-0-0        121.300000               10.506102   \n",
       "158    2-0-2-0-0-0-1        119.185287                9.780190   \n",
       "18     0-0-2-1-1-1-0        121.540182                9.284793   \n",
       "14     0-0-2-1-0-0-2        118.395040                9.142226   \n",
       "86     0-2-2-1-0-0-0        119.218687                7.850891   \n",
       "17     0-0-2-1-1-0-1        116.654604                7.343265   \n",
       "\n",
       "                                                                                        lineup_detail  \\\n",
       "118                       1 Wing (Off Screen) | 3 Ballhandler (Iso+PnR) | 1 Wing (Spot Up+Transition)   \n",
       "104           1 Wing (Off Screen) | 1 Ballhandler (Iso+PnR) | 1 Big (Roll+Cut) | 2 Big (Post Up+Roll)   \n",
       "4    1 Ballhandler (Iso+PnR) | 1 Wing (Spot Up+Transition) | 1 Wing (Hand Off) | 2 Big (Post Up+Roll)   \n",
       "24                                  3 Ballhandler (Iso+PnR) | 1 Big (Roll+Cut) | 1 Big (Post Up+Roll)   \n",
       "97                                                  4 Ballhandler (PnR) | 1 Wing (Spot Up+Transition)   \n",
       "158                              2 Wing (Off Screen) | 2 Ballhandler (Iso+PnR) | 1 Big (Post Up+Roll)   \n",
       "18       2 Ballhandler (Iso+PnR) | 1 Wing (Spot Up+Transition) | 1 Wing (Hand Off) | 1 Big (Roll+Cut)   \n",
       "14                       2 Ballhandler (Iso+PnR) | 1 Wing (Spot Up+Transition) | 2 Big (Post Up+Roll)   \n",
       "86                        2 Ballhandler (PnR) | 2 Ballhandler (Iso+PnR) | 1 Wing (Spot Up+Transition)   \n",
       "17   2 Ballhandler (Iso+PnR) | 1 Wing (Spot Up+Transition) | 1 Wing (Hand Off) | 1 Big (Post Up+Roll)   \n",
       "\n",
       "     num_lineups  \n",
       "118            1  \n",
       "104            1  \n",
       "4              2  \n",
       "24             1  \n",
       "97             1  \n",
       "158            4  \n",
       "18             1  \n",
       "14             5  \n",
       "86             2  \n",
       "17             4  "
      ]
     },
     "execution_count": 55,
     "metadata": {},
     "output_type": "execute_result"
    }
   ],
   "source": [
    "t_3 = lineup_df_100.groupby('lineup_embedding')[['adj_off_Pts/Poss',\n",
    "                                                 'adj_diff_to_league_avg']]\\\n",
    "                   .mean().reset_index()\n",
    "t_3['lineup_detail'] = t_3['lineup_embedding'].apply(lineup_embedding_to_detail)\n",
    "t_3 = t_3.merge(t_2, how='left')\n",
    "t_3.sort_values('adj_diff_to_league_avg', ascending=False).head(10)"
   ]
  },
  {
   "cell_type": "code",
   "execution_count": 56,
   "id": "b09a48c0",
   "metadata": {
    "ExecuteTime": {
     "end_time": "2022-08-03T09:46:39.640904Z",
     "start_time": "2022-08-03T09:46:39.613169Z"
    }
   },
   "outputs": [
    {
     "data": {
      "text/html": [
       "<div>\n",
       "<style scoped>\n",
       "    .dataframe tbody tr th:only-of-type {\n",
       "        vertical-align: middle;\n",
       "    }\n",
       "\n",
       "    .dataframe tbody tr th {\n",
       "        vertical-align: top;\n",
       "    }\n",
       "\n",
       "    .dataframe thead th {\n",
       "        text-align: right;\n",
       "    }\n",
       "</style>\n",
       "<table border=\"1\" class=\"dataframe\">\n",
       "  <thead>\n",
       "    <tr style=\"text-align: right;\">\n",
       "      <th></th>\n",
       "      <th>PG</th>\n",
       "      <th>SG</th>\n",
       "      <th>SF</th>\n",
       "      <th>PF</th>\n",
       "      <th>C</th>\n",
       "      <th>season</th>\n",
       "      <th>team</th>\n",
       "      <th>Poss</th>\n",
       "      <th>off_Pts/Poss_rank</th>\n",
       "      <th>off_Pts/Poss</th>\n",
       "      <th>off_eFG%_rank</th>\n",
       "      <th>off_eFG%</th>\n",
       "      <th>off_TOV%_rank</th>\n",
       "      <th>off_TOV%</th>\n",
       "      <th>off_OREB%_rank</th>\n",
       "      <th>off_OREB%</th>\n",
       "      <th>off_FTr_rank</th>\n",
       "      <th>off_FTr</th>\n",
       "      <th>PG_alt</th>\n",
       "      <th>SG_alt</th>\n",
       "      <th>SF_alt</th>\n",
       "      <th>PF_alt</th>\n",
       "      <th>C_alt</th>\n",
       "      <th>PG_cluster</th>\n",
       "      <th>SG_cluster</th>\n",
       "      <th>SF_cluster</th>\n",
       "      <th>PF_cluster</th>\n",
       "      <th>C_cluster</th>\n",
       "      <th>lineup_clusters</th>\n",
       "      <th>0</th>\n",
       "      <th>1</th>\n",
       "      <th>2</th>\n",
       "      <th>3</th>\n",
       "      <th>4</th>\n",
       "      <th>5</th>\n",
       "      <th>6</th>\n",
       "      <th>lineup_embedding</th>\n",
       "      <th>tm_off_Pts/Poss</th>\n",
       "      <th>adj_off_Pts/Poss</th>\n",
       "      <th>league_avg_off_Pts/Poss</th>\n",
       "      <th>diff_to_league_avg</th>\n",
       "      <th>adj_diff_to_league_avg</th>\n",
       "    </tr>\n",
       "  </thead>\n",
       "  <tbody>\n",
       "    <tr>\n",
       "      <th>129</th>\n",
       "      <td>James Harden</td>\n",
       "      <td>Kyrie Irving</td>\n",
       "      <td>Joe Harris</td>\n",
       "      <td>Kevin Durant</td>\n",
       "      <td>Jeff Green</td>\n",
       "      <td>2020</td>\n",
       "      <td>Brooklyn Nets</td>\n",
       "      <td>150</td>\n",
       "      <td>97.0</td>\n",
       "      <td>137.3</td>\n",
       "      <td>97.0</td>\n",
       "      <td>64.9%</td>\n",
       "      <td>45.0</td>\n",
       "      <td>14.0%</td>\n",
       "      <td>24.0</td>\n",
       "      <td>20.6%</td>\n",
       "      <td>64.0</td>\n",
       "      <td>19.6</td>\n",
       "      <td>jamesharden</td>\n",
       "      <td>kyrieirving</td>\n",
       "      <td>joeharris</td>\n",
       "      <td>kevindurant</td>\n",
       "      <td>jeffgreen</td>\n",
       "      <td>2.0</td>\n",
       "      <td>2.0</td>\n",
       "      <td>0.0</td>\n",
       "      <td>2.0</td>\n",
       "      <td>3.0</td>\n",
       "      <td>[2.0, 2.0, 0.0, 2.0, 3.0]</td>\n",
       "      <td>1</td>\n",
       "      <td>0</td>\n",
       "      <td>3</td>\n",
       "      <td>1</td>\n",
       "      <td>0</td>\n",
       "      <td>0</td>\n",
       "      <td>0</td>\n",
       "      <td>1-0-3-1-0-0-0</td>\n",
       "      <td>119.203348</td>\n",
       "      <td>128.251674</td>\n",
       "      <td>112.795304</td>\n",
       "      <td>24.504696</td>\n",
       "      <td>15.45637</td>\n",
       "    </tr>\n",
       "  </tbody>\n",
       "</table>\n",
       "</div>"
      ],
      "text/plain": [
       "               PG            SG          SF            PF           C  season  \\\n",
       "129  James Harden  Kyrie Irving  Joe Harris  Kevin Durant  Jeff Green    2020   \n",
       "\n",
       "              team  Poss  off_Pts/Poss_rank  off_Pts/Poss  off_eFG%_rank  \\\n",
       "129  Brooklyn Nets   150               97.0         137.3           97.0   \n",
       "\n",
       "    off_eFG%  off_TOV%_rank off_TOV%  off_OREB%_rank off_OREB%  off_FTr_rank  \\\n",
       "129    64.9%           45.0    14.0%            24.0     20.6%          64.0   \n",
       "\n",
       "     off_FTr       PG_alt       SG_alt     SF_alt       PF_alt      C_alt  \\\n",
       "129     19.6  jamesharden  kyrieirving  joeharris  kevindurant  jeffgreen   \n",
       "\n",
       "     PG_cluster  SG_cluster  SF_cluster  PF_cluster  C_cluster  \\\n",
       "129         2.0         2.0         0.0         2.0        3.0   \n",
       "\n",
       "               lineup_clusters  0  1  2  3  4  5  6 lineup_embedding  \\\n",
       "129  [2.0, 2.0, 0.0, 2.0, 3.0]  1  0  3  1  0  0  0    1-0-3-1-0-0-0   \n",
       "\n",
       "     tm_off_Pts/Poss  adj_off_Pts/Poss  league_avg_off_Pts/Poss  \\\n",
       "129       119.203348        128.251674               112.795304   \n",
       "\n",
       "     diff_to_league_avg  adj_diff_to_league_avg  \n",
       "129           24.504696                15.45637  "
      ]
     },
     "execution_count": 56,
     "metadata": {},
     "output_type": "execute_result"
    }
   ],
   "source": [
    "lineup_df_100[lineup_df_100['lineup_embedding'] == '1-0-3-1-0-0-0']"
   ]
  },
  {
   "cell_type": "markdown",
   "id": "d9d5b360",
   "metadata": {},
   "source": [
    "Find 10 common lineup types (at least 10 lineups) with the best offensive ratings"
   ]
  },
  {
   "cell_type": "code",
   "execution_count": 57,
   "id": "7bc78c12",
   "metadata": {
    "ExecuteTime": {
     "end_time": "2022-08-03T09:46:40.470852Z",
     "start_time": "2022-08-03T09:46:40.467611Z"
    }
   },
   "outputs": [],
   "source": [
    "def color_cluster_2(l):\n",
    "    if 'Ballhandler (Iso+PnR)' in l:\n",
    "        return 'color: #AB3B3A' \n",
    "    else:\n",
    "        return 'color: #2E5C6E' "
   ]
  },
  {
   "cell_type": "code",
   "execution_count": 58,
   "id": "69efc7f6",
   "metadata": {
    "ExecuteTime": {
     "end_time": "2022-08-03T09:46:40.819880Z",
     "start_time": "2022-08-03T09:46:40.764491Z"
    }
   },
   "outputs": [
    {
     "data": {
      "text/html": [
       "<style type=\"text/css\">\n",
       "#T_da158_row0_col0, #T_da158_row1_col0, #T_da158_row2_col0, #T_da158_row3_col0, #T_da158_row5_col0, #T_da158_row6_col0, #T_da158_row7_col0, #T_da158_row8_col0, #T_da158_row9_col0 {\n",
       "  color: #AB3B3A;\n",
       "}\n",
       "#T_da158_row4_col0 {\n",
       "  color: #2E5C6E;\n",
       "}\n",
       "</style>\n",
       "<table id=\"T_da158\">\n",
       "  <thead>\n",
       "    <tr>\n",
       "      <th class=\"blank level0\" >&nbsp;</th>\n",
       "      <th id=\"T_da158_level0_col0\" class=\"col_heading level0 col0\" >lineup combination</th>\n",
       "      <th id=\"T_da158_level0_col1\" class=\"col_heading level0 col1\" ># of unique lineups</th>\n",
       "      <th id=\"T_da158_level0_col2\" class=\"col_heading level0 col2\" >adj. points scored per 100 possessions</th>\n",
       "      <th id=\"T_da158_level0_col3\" class=\"col_heading level0 col3\" >adj. difference to league average</th>\n",
       "    </tr>\n",
       "  </thead>\n",
       "  <tbody>\n",
       "    <tr>\n",
       "      <th id=\"T_da158_level0_row0\" class=\"row_heading level0 row0\" >114</th>\n",
       "      <td id=\"T_da158_row0_col0\" class=\"data row0 col0\" >1 Wing (Off Screen) | 2 Ballhandler (Iso+PnR) | 1 Wing (Spot Up+Transition) | 1 Big (Roll+Cut)</td>\n",
       "      <td id=\"T_da158_row0_col1\" class=\"data row0 col1\" >22</td>\n",
       "      <td id=\"T_da158_row0_col2\" class=\"data row0 col2\" >115.4</td>\n",
       "      <td id=\"T_da158_row0_col3\" class=\"data row0 col3\" >4.9</td>\n",
       "    </tr>\n",
       "    <tr>\n",
       "      <th id=\"T_da158_level0_row1\" class=\"row_heading level0 row1\" >63</th>\n",
       "      <td id=\"T_da158_row1_col0\" class=\"data row1 col0\" >1 Ballhandler (PnR) | 2 Ballhandler (Iso+PnR) | 2 Wing (Spot Up+Transition)</td>\n",
       "      <td id=\"T_da158_row1_col1\" class=\"data row1 col1\" >12</td>\n",
       "      <td id=\"T_da158_row1_col2\" class=\"data row1 col2\" >114.8</td>\n",
       "      <td id=\"T_da158_row1_col3\" class=\"data row1 col3\" >4.1</td>\n",
       "    </tr>\n",
       "    <tr>\n",
       "      <th id=\"T_da158_level0_row2\" class=\"row_heading level0 row2\" >108</th>\n",
       "      <td id=\"T_da158_row2_col0\" class=\"data row2 col0\" >1 Wing (Off Screen) | 1 Ballhandler (Iso+PnR) | 2 Wing (Spot Up+Transition) | 1 Big (Roll+Cut)</td>\n",
       "      <td id=\"T_da158_row2_col1\" class=\"data row2 col1\" >28</td>\n",
       "      <td id=\"T_da158_row2_col2\" class=\"data row2 col2\" >114.7</td>\n",
       "      <td id=\"T_da158_row2_col3\" class=\"data row2 col3\" >3.7</td>\n",
       "    </tr>\n",
       "    <tr>\n",
       "      <th id=\"T_da158_level0_row3\" class=\"row_heading level0 row3\" >61</th>\n",
       "      <td id=\"T_da158_row3_col0\" class=\"data row3 col0\" >1 Ballhandler (PnR) | 2 Ballhandler (Iso+PnR) | 1 Wing (Spot Up+Transition) | 1 Big (Roll+Cut)</td>\n",
       "      <td id=\"T_da158_row3_col1\" class=\"data row3 col1\" >19</td>\n",
       "      <td id=\"T_da158_row3_col2\" class=\"data row3 col2\" >113.6</td>\n",
       "      <td id=\"T_da158_row3_col3\" class=\"data row3 col3\" >3.4</td>\n",
       "    </tr>\n",
       "    <tr>\n",
       "      <th id=\"T_da158_level0_row4\" class=\"row_heading level0 row4\" >72</th>\n",
       "      <td id=\"T_da158_row4_col0\" class=\"data row4 col0\" >2 Ballhandler (PnR) | 1 Wing (Spot Up+Transition) | 1 Wing (Hand Off) | 1 Big (Roll+Cut)</td>\n",
       "      <td id=\"T_da158_row4_col1\" class=\"data row4 col1\" >15</td>\n",
       "      <td id=\"T_da158_row4_col2\" class=\"data row4 col2\" >114.1</td>\n",
       "      <td id=\"T_da158_row4_col3\" class=\"data row4 col3\" >3.2</td>\n",
       "    </tr>\n",
       "    <tr>\n",
       "      <th id=\"T_da158_level0_row5\" class=\"row_heading level0 row5\" >131</th>\n",
       "      <td id=\"T_da158_row5_col0\" class=\"data row5 col0\" >1 Wing (Off Screen) | 1 Ballhandler (PnR) | 1 Ballhandler (Iso+PnR) | 1 Wing (Spot Up+Transition) | 1 Big (Post Up+Roll)</td>\n",
       "      <td id=\"T_da158_row5_col1\" class=\"data row5 col1\" >29</td>\n",
       "      <td id=\"T_da158_row5_col2\" class=\"data row5 col2\" >114.1</td>\n",
       "      <td id=\"T_da158_row5_col3\" class=\"data row5 col3\" >3.1</td>\n",
       "    </tr>\n",
       "    <tr>\n",
       "      <th id=\"T_da158_level0_row6\" class=\"row_heading level0 row6\" >21</th>\n",
       "      <td id=\"T_da158_row6_col0\" class=\"data row6 col0\" >2 Ballhandler (Iso+PnR) | 2 Wing (Spot Up+Transition) | 1 Big (Roll+Cut)</td>\n",
       "      <td id=\"T_da158_row6_col1\" class=\"data row6 col1\" >21</td>\n",
       "      <td id=\"T_da158_row6_col2\" class=\"data row6 col2\" >113.9</td>\n",
       "      <td id=\"T_da158_row6_col3\" class=\"data row6 col3\" >3.1</td>\n",
       "    </tr>\n",
       "    <tr>\n",
       "      <th id=\"T_da158_level0_row7\" class=\"row_heading level0 row7\" >52</th>\n",
       "      <td id=\"T_da158_row7_col0\" class=\"data row7 col0\" >1 Ballhandler (PnR) | 1 Ballhandler (Iso+PnR) | 2 Wing (Spot Up+Transition) | 1 Big (Post Up+Roll)</td>\n",
       "      <td id=\"T_da158_row7_col1\" class=\"data row7 col1\" >51</td>\n",
       "      <td id=\"T_da158_row7_col2\" class=\"data row7 col2\" >114.2</td>\n",
       "      <td id=\"T_da158_row7_col3\" class=\"data row7 col3\" >2.9</td>\n",
       "    </tr>\n",
       "    <tr>\n",
       "      <th id=\"T_da158_level0_row8\" class=\"row_heading level0 row8\" >156</th>\n",
       "      <td id=\"T_da158_row8_col0\" class=\"data row8 col0\" >2 Wing (Off Screen) | 1 Ballhandler (Iso+PnR) | 1 Wing (Spot Up+Transition) | 1 Big (Roll+Cut)</td>\n",
       "      <td id=\"T_da158_row8_col1\" class=\"data row8 col1\" >32</td>\n",
       "      <td id=\"T_da158_row8_col2\" class=\"data row8 col2\" >112.7</td>\n",
       "      <td id=\"T_da158_row8_col3\" class=\"data row8 col3\" >2.7</td>\n",
       "    </tr>\n",
       "    <tr>\n",
       "      <th id=\"T_da158_level0_row9\" class=\"row_heading level0 row9\" >23</th>\n",
       "      <td id=\"T_da158_row9_col0\" class=\"data row9 col0\" >2 Ballhandler (Iso+PnR) | 3 Wing (Spot Up+Transition)</td>\n",
       "      <td id=\"T_da158_row9_col1\" class=\"data row9 col1\" >14</td>\n",
       "      <td id=\"T_da158_row9_col2\" class=\"data row9 col2\" >114.7</td>\n",
       "      <td id=\"T_da158_row9_col3\" class=\"data row9 col3\" >2.5</td>\n",
       "    </tr>\n",
       "  </tbody>\n",
       "</table>\n"
      ],
      "text/plain": [
       "<pandas.io.formats.style.Styler at 0x7fee3e2e2220>"
      ]
     },
     "execution_count": 58,
     "metadata": {},
     "output_type": "execute_result"
    }
   ],
   "source": [
    "t_3[t_3['num_lineups'] >= 10].sort_values('adj_diff_to_league_avg', ascending=False)\\\n",
    "                             .head(10)[['lineup_detail', \n",
    "                                        'num_lineups',\n",
    "                                        'adj_off_Pts/Poss',\n",
    "                                        'adj_diff_to_league_avg']]\\\n",
    "                             .rename(columns={'lineup_detail': 'lineup combination',\n",
    "                                              'num_lineups': '# of unique lineups',\n",
    "                                              'adj_off_Pts/Poss': 'adj. points scored per 100 possessions',\n",
    "                                              'adj_diff_to_league_avg': 'adj. difference to league average'})\\\n",
    "                             .style.format(precision=1).applymap(color_cluster_2, subset='lineup combination')"
   ]
  },
  {
   "cell_type": "code",
   "execution_count": 59,
   "id": "416b156b",
   "metadata": {
    "ExecuteTime": {
     "end_time": "2022-08-03T09:46:41.295109Z",
     "start_time": "2022-08-03T09:46:41.256797Z"
    }
   },
   "outputs": [
    {
     "data": {
      "text/html": [
       "<div>\n",
       "<style scoped>\n",
       "    .dataframe tbody tr th:only-of-type {\n",
       "        vertical-align: middle;\n",
       "    }\n",
       "\n",
       "    .dataframe tbody tr th {\n",
       "        vertical-align: top;\n",
       "    }\n",
       "\n",
       "    .dataframe thead th {\n",
       "        text-align: right;\n",
       "    }\n",
       "</style>\n",
       "<table border=\"1\" class=\"dataframe\">\n",
       "  <thead>\n",
       "    <tr style=\"text-align: right;\">\n",
       "      <th></th>\n",
       "      <th>PG</th>\n",
       "      <th>SG</th>\n",
       "      <th>SF</th>\n",
       "      <th>PF</th>\n",
       "      <th>C</th>\n",
       "      <th>season</th>\n",
       "      <th>team</th>\n",
       "      <th>Poss</th>\n",
       "      <th>off_Pts/Poss_rank</th>\n",
       "      <th>off_Pts/Poss</th>\n",
       "      <th>off_eFG%_rank</th>\n",
       "      <th>off_eFG%</th>\n",
       "      <th>off_TOV%_rank</th>\n",
       "      <th>off_TOV%</th>\n",
       "      <th>off_OREB%_rank</th>\n",
       "      <th>off_OREB%</th>\n",
       "      <th>off_FTr_rank</th>\n",
       "      <th>off_FTr</th>\n",
       "      <th>PG_alt</th>\n",
       "      <th>SG_alt</th>\n",
       "      <th>SF_alt</th>\n",
       "      <th>PF_alt</th>\n",
       "      <th>C_alt</th>\n",
       "      <th>PG_cluster</th>\n",
       "      <th>SG_cluster</th>\n",
       "      <th>SF_cluster</th>\n",
       "      <th>PF_cluster</th>\n",
       "      <th>C_cluster</th>\n",
       "      <th>lineup_clusters</th>\n",
       "      <th>0</th>\n",
       "      <th>1</th>\n",
       "      <th>2</th>\n",
       "      <th>3</th>\n",
       "      <th>4</th>\n",
       "      <th>5</th>\n",
       "      <th>6</th>\n",
       "      <th>lineup_embedding</th>\n",
       "      <th>tm_off_Pts/Poss</th>\n",
       "      <th>adj_off_Pts/Poss</th>\n",
       "      <th>league_avg_off_Pts/Poss</th>\n",
       "      <th>diff_to_league_avg</th>\n",
       "      <th>adj_diff_to_league_avg</th>\n",
       "    </tr>\n",
       "  </thead>\n",
       "  <tbody>\n",
       "    <tr>\n",
       "      <th>1004</th>\n",
       "      <td>Russell Westbrook</td>\n",
       "      <td>Paul George</td>\n",
       "      <td>Josh Huestis</td>\n",
       "      <td>Carmelo Anthony</td>\n",
       "      <td>Steven Adams</td>\n",
       "      <td>2017</td>\n",
       "      <td>Oklahoma City Thunder</td>\n",
       "      <td>349</td>\n",
       "      <td>91.0</td>\n",
       "      <td>121.5</td>\n",
       "      <td>68.0</td>\n",
       "      <td>55.3%</td>\n",
       "      <td>44.0</td>\n",
       "      <td>14.6%</td>\n",
       "      <td>99.0</td>\n",
       "      <td>39.4%</td>\n",
       "      <td>54.0</td>\n",
       "      <td>18.2</td>\n",
       "      <td>russellwestbrook</td>\n",
       "      <td>paulgeorge</td>\n",
       "      <td>joshhuestis</td>\n",
       "      <td>carmeloanthony</td>\n",
       "      <td>stevenadams</td>\n",
       "      <td>2.0</td>\n",
       "      <td>0.0</td>\n",
       "      <td>3.0</td>\n",
       "      <td>2.0</td>\n",
       "      <td>5.0</td>\n",
       "      <td>[2.0, 0.0, 3.0, 2.0, 5.0]</td>\n",
       "      <td>1</td>\n",
       "      <td>0</td>\n",
       "      <td>2</td>\n",
       "      <td>1</td>\n",
       "      <td>0</td>\n",
       "      <td>1</td>\n",
       "      <td>0</td>\n",
       "      <td>1-0-2-1-0-1-0</td>\n",
       "      <td>110.134239</td>\n",
       "      <td>121.500000</td>\n",
       "      <td>108.329988</td>\n",
       "      <td>13.170012</td>\n",
       "      <td>13.170012</td>\n",
       "    </tr>\n",
       "    <tr>\n",
       "      <th>625</th>\n",
       "      <td>Patrick Beverley</td>\n",
       "      <td>Paul George</td>\n",
       "      <td>Kawhi Leonard</td>\n",
       "      <td>Marcus Morris</td>\n",
       "      <td>Ivica Zubac</td>\n",
       "      <td>2019</td>\n",
       "      <td>Los Angeles Clippers</td>\n",
       "      <td>298</td>\n",
       "      <td>86.0</td>\n",
       "      <td>122.5</td>\n",
       "      <td>66.0</td>\n",
       "      <td>56.3%</td>\n",
       "      <td>81.0</td>\n",
       "      <td>11.4%</td>\n",
       "      <td>83.0</td>\n",
       "      <td>29.8%</td>\n",
       "      <td>56.0</td>\n",
       "      <td>19.4</td>\n",
       "      <td>patrickbeverley</td>\n",
       "      <td>paulgeorge</td>\n",
       "      <td>kawhileonard</td>\n",
       "      <td>marcusmorris</td>\n",
       "      <td>ivicazubac</td>\n",
       "      <td>3.0</td>\n",
       "      <td>0.0</td>\n",
       "      <td>2.0</td>\n",
       "      <td>2.0</td>\n",
       "      <td>5.0</td>\n",
       "      <td>[3.0, 0.0, 2.0, 2.0, 5.0]</td>\n",
       "      <td>1</td>\n",
       "      <td>0</td>\n",
       "      <td>2</td>\n",
       "      <td>1</td>\n",
       "      <td>0</td>\n",
       "      <td>1</td>\n",
       "      <td>0</td>\n",
       "      <td>1-0-2-1-0-1-0</td>\n",
       "      <td>114.077923</td>\n",
       "      <td>122.443853</td>\n",
       "      <td>110.793898</td>\n",
       "      <td>11.706102</td>\n",
       "      <td>11.649955</td>\n",
       "    </tr>\n",
       "    <tr>\n",
       "      <th>486</th>\n",
       "      <td>Chris Paul</td>\n",
       "      <td>James Harden</td>\n",
       "      <td>Trevor Ariza</td>\n",
       "      <td>Ryan Anderson</td>\n",
       "      <td>Clint Capela</td>\n",
       "      <td>2017</td>\n",
       "      <td>Houston Rockets</td>\n",
       "      <td>392</td>\n",
       "      <td>88.0</td>\n",
       "      <td>119.9</td>\n",
       "      <td>98.0</td>\n",
       "      <td>62.8%</td>\n",
       "      <td>59.0</td>\n",
       "      <td>13.8%</td>\n",
       "      <td>15.0</td>\n",
       "      <td>19.1%</td>\n",
       "      <td>25.0</td>\n",
       "      <td>13.3</td>\n",
       "      <td>chrispaul</td>\n",
       "      <td>jamesharden</td>\n",
       "      <td>trevorariza</td>\n",
       "      <td>ryananderson</td>\n",
       "      <td>clintcapela</td>\n",
       "      <td>2.0</td>\n",
       "      <td>2.0</td>\n",
       "      <td>0.0</td>\n",
       "      <td>3.0</td>\n",
       "      <td>5.0</td>\n",
       "      <td>[2.0, 2.0, 0.0, 3.0, 5.0]</td>\n",
       "      <td>1</td>\n",
       "      <td>0</td>\n",
       "      <td>2</td>\n",
       "      <td>1</td>\n",
       "      <td>0</td>\n",
       "      <td>1</td>\n",
       "      <td>0</td>\n",
       "      <td>1-0-2-1-0-1-0</td>\n",
       "      <td>114.636055</td>\n",
       "      <td>119.900000</td>\n",
       "      <td>108.329988</td>\n",
       "      <td>11.570012</td>\n",
       "      <td>11.570012</td>\n",
       "    </tr>\n",
       "    <tr>\n",
       "      <th>1250</th>\n",
       "      <td>Damian Lillard</td>\n",
       "      <td>CJ McCollum</td>\n",
       "      <td>Norman Powell</td>\n",
       "      <td>Robert Covington</td>\n",
       "      <td>Enes Kanter</td>\n",
       "      <td>2020</td>\n",
       "      <td>Portland Trail Blazers</td>\n",
       "      <td>168</td>\n",
       "      <td>85.0</td>\n",
       "      <td>125.6</td>\n",
       "      <td>36.0</td>\n",
       "      <td>53.2%</td>\n",
       "      <td>74.0</td>\n",
       "      <td>11.9%</td>\n",
       "      <td>91.0</td>\n",
       "      <td>32.6%</td>\n",
       "      <td>93.0</td>\n",
       "      <td>28.0</td>\n",
       "      <td>damianlillard</td>\n",
       "      <td>cjmccollum</td>\n",
       "      <td>normanpowell</td>\n",
       "      <td>robertcovington</td>\n",
       "      <td>eneskanter</td>\n",
       "      <td>2.0</td>\n",
       "      <td>2.0</td>\n",
       "      <td>0.0</td>\n",
       "      <td>3.0</td>\n",
       "      <td>5.0</td>\n",
       "      <td>[2.0, 2.0, 0.0, 3.0, 5.0]</td>\n",
       "      <td>1</td>\n",
       "      <td>0</td>\n",
       "      <td>2</td>\n",
       "      <td>1</td>\n",
       "      <td>0</td>\n",
       "      <td>1</td>\n",
       "      <td>0</td>\n",
       "      <td>1-0-2-1-0-1-0</td>\n",
       "      <td>119.060365</td>\n",
       "      <td>122.722560</td>\n",
       "      <td>112.795304</td>\n",
       "      <td>12.804696</td>\n",
       "      <td>9.927256</td>\n",
       "    </tr>\n",
       "    <tr>\n",
       "      <th>1006</th>\n",
       "      <td>Russell Westbrook</td>\n",
       "      <td>Paul George</td>\n",
       "      <td>Carmelo Anthony</td>\n",
       "      <td>Jerami Grant</td>\n",
       "      <td>Steven Adams</td>\n",
       "      <td>2017</td>\n",
       "      <td>Oklahoma City Thunder</td>\n",
       "      <td>249</td>\n",
       "      <td>84.0</td>\n",
       "      <td>118.1</td>\n",
       "      <td>58.0</td>\n",
       "      <td>53.8%</td>\n",
       "      <td>15.0</td>\n",
       "      <td>17.3%</td>\n",
       "      <td>98.0</td>\n",
       "      <td>38.0%</td>\n",
       "      <td>83.0</td>\n",
       "      <td>24.0</td>\n",
       "      <td>russellwestbrook</td>\n",
       "      <td>paulgeorge</td>\n",
       "      <td>carmeloanthony</td>\n",
       "      <td>jeramigrant</td>\n",
       "      <td>stevenadams</td>\n",
       "      <td>2.0</td>\n",
       "      <td>0.0</td>\n",
       "      <td>2.0</td>\n",
       "      <td>3.0</td>\n",
       "      <td>5.0</td>\n",
       "      <td>[2.0, 0.0, 2.0, 3.0, 5.0]</td>\n",
       "      <td>1</td>\n",
       "      <td>0</td>\n",
       "      <td>2</td>\n",
       "      <td>1</td>\n",
       "      <td>0</td>\n",
       "      <td>1</td>\n",
       "      <td>0</td>\n",
       "      <td>1-0-2-1-0-1-0</td>\n",
       "      <td>110.134239</td>\n",
       "      <td>116.745821</td>\n",
       "      <td>108.329988</td>\n",
       "      <td>9.770012</td>\n",
       "      <td>8.415832</td>\n",
       "    </tr>\n",
       "  </tbody>\n",
       "</table>\n",
       "</div>"
      ],
      "text/plain": [
       "                     PG            SG               SF                PF  \\\n",
       "1004  Russell Westbrook   Paul George     Josh Huestis   Carmelo Anthony   \n",
       "625    Patrick Beverley   Paul George    Kawhi Leonard     Marcus Morris   \n",
       "486          Chris Paul  James Harden     Trevor Ariza     Ryan Anderson   \n",
       "1250     Damian Lillard   CJ McCollum    Norman Powell  Robert Covington   \n",
       "1006  Russell Westbrook   Paul George  Carmelo Anthony      Jerami Grant   \n",
       "\n",
       "                 C  season                    team  Poss  off_Pts/Poss_rank  \\\n",
       "1004  Steven Adams    2017   Oklahoma City Thunder   349               91.0   \n",
       "625    Ivica Zubac    2019    Los Angeles Clippers   298               86.0   \n",
       "486   Clint Capela    2017         Houston Rockets   392               88.0   \n",
       "1250   Enes Kanter    2020  Portland Trail Blazers   168               85.0   \n",
       "1006  Steven Adams    2017   Oklahoma City Thunder   249               84.0   \n",
       "\n",
       "      off_Pts/Poss  off_eFG%_rank off_eFG%  off_TOV%_rank off_TOV%  \\\n",
       "1004         121.5           68.0    55.3%           44.0    14.6%   \n",
       "625          122.5           66.0    56.3%           81.0    11.4%   \n",
       "486          119.9           98.0    62.8%           59.0    13.8%   \n",
       "1250         125.6           36.0    53.2%           74.0    11.9%   \n",
       "1006         118.1           58.0    53.8%           15.0    17.3%   \n",
       "\n",
       "      off_OREB%_rank off_OREB%  off_FTr_rank  off_FTr            PG_alt  \\\n",
       "1004            99.0     39.4%          54.0     18.2  russellwestbrook   \n",
       "625             83.0     29.8%          56.0     19.4   patrickbeverley   \n",
       "486             15.0     19.1%          25.0     13.3         chrispaul   \n",
       "1250            91.0     32.6%          93.0     28.0     damianlillard   \n",
       "1006            98.0     38.0%          83.0     24.0  russellwestbrook   \n",
       "\n",
       "           SG_alt          SF_alt           PF_alt        C_alt  PG_cluster  \\\n",
       "1004   paulgeorge     joshhuestis   carmeloanthony  stevenadams         2.0   \n",
       "625    paulgeorge    kawhileonard     marcusmorris   ivicazubac         3.0   \n",
       "486   jamesharden     trevorariza     ryananderson  clintcapela         2.0   \n",
       "1250   cjmccollum    normanpowell  robertcovington   eneskanter         2.0   \n",
       "1006   paulgeorge  carmeloanthony      jeramigrant  stevenadams         2.0   \n",
       "\n",
       "      SG_cluster  SF_cluster  PF_cluster  C_cluster  \\\n",
       "1004         0.0         3.0         2.0        5.0   \n",
       "625          0.0         2.0         2.0        5.0   \n",
       "486          2.0         0.0         3.0        5.0   \n",
       "1250         2.0         0.0         3.0        5.0   \n",
       "1006         0.0         2.0         3.0        5.0   \n",
       "\n",
       "                lineup_clusters  0  1  2  3  4  5  6 lineup_embedding  \\\n",
       "1004  [2.0, 0.0, 3.0, 2.0, 5.0]  1  0  2  1  0  1  0    1-0-2-1-0-1-0   \n",
       "625   [3.0, 0.0, 2.0, 2.0, 5.0]  1  0  2  1  0  1  0    1-0-2-1-0-1-0   \n",
       "486   [2.0, 2.0, 0.0, 3.0, 5.0]  1  0  2  1  0  1  0    1-0-2-1-0-1-0   \n",
       "1250  [2.0, 2.0, 0.0, 3.0, 5.0]  1  0  2  1  0  1  0    1-0-2-1-0-1-0   \n",
       "1006  [2.0, 0.0, 2.0, 3.0, 5.0]  1  0  2  1  0  1  0    1-0-2-1-0-1-0   \n",
       "\n",
       "      tm_off_Pts/Poss  adj_off_Pts/Poss  league_avg_off_Pts/Poss  \\\n",
       "1004       110.134239        121.500000               108.329988   \n",
       "625        114.077923        122.443853               110.793898   \n",
       "486        114.636055        119.900000               108.329988   \n",
       "1250       119.060365        122.722560               112.795304   \n",
       "1006       110.134239        116.745821               108.329988   \n",
       "\n",
       "      diff_to_league_avg  adj_diff_to_league_avg  \n",
       "1004           13.170012               13.170012  \n",
       "625            11.706102               11.649955  \n",
       "486            11.570012               11.570012  \n",
       "1250           12.804696                9.927256  \n",
       "1006            9.770012                8.415832  "
      ]
     },
     "execution_count": 59,
     "metadata": {},
     "output_type": "execute_result"
    }
   ],
   "source": [
    "lineup_df_100[lineup_df_100['lineup_embedding'] == '1-0-2-1-0-1-0']\\\n",
    ".sort_values('adj_diff_to_league_avg', ascending=False).head(5)"
   ]
  },
  {
   "cell_type": "markdown",
   "id": "7d4197e4",
   "metadata": {},
   "source": [
    "Find 10 common lineup types with worst offensive ratings"
   ]
  },
  {
   "cell_type": "code",
   "execution_count": 60,
   "id": "634a507d",
   "metadata": {
    "ExecuteTime": {
     "end_time": "2022-08-03T09:46:42.118787Z",
     "start_time": "2022-08-03T09:46:42.105371Z"
    }
   },
   "outputs": [
    {
     "data": {
      "text/html": [
       "<style type=\"text/css\">\n",
       "#T_323b2_row0_col0, #T_323b2_row1_col0, #T_323b2_row3_col0, #T_323b2_row5_col0, #T_323b2_row6_col0, #T_323b2_row7_col0, #T_323b2_row8_col0, #T_323b2_row9_col0 {\n",
       "  color: #2E5C6E;\n",
       "}\n",
       "#T_323b2_row2_col0, #T_323b2_row4_col0 {\n",
       "  color: #AB3B3A;\n",
       "}\n",
       "</style>\n",
       "<table id=\"T_323b2\">\n",
       "  <thead>\n",
       "    <tr>\n",
       "      <th class=\"blank level0\" >&nbsp;</th>\n",
       "      <th id=\"T_323b2_level0_col0\" class=\"col_heading level0 col0\" >lineup combination</th>\n",
       "      <th id=\"T_323b2_level0_col1\" class=\"col_heading level0 col1\" ># of unique lineups</th>\n",
       "      <th id=\"T_323b2_level0_col2\" class=\"col_heading level0 col2\" >adj. points scored per 100 possessions</th>\n",
       "      <th id=\"T_323b2_level0_col3\" class=\"col_heading level0 col3\" >adj. difference to league average</th>\n",
       "    </tr>\n",
       "  </thead>\n",
       "  <tbody>\n",
       "    <tr>\n",
       "      <th id=\"T_323b2_level0_row0\" class=\"row_heading level0 row0\" >76</th>\n",
       "      <td id=\"T_323b2_row0_col0\" class=\"data row0 col0\" >2 Ballhandler (PnR) | 3 Wing (Spot Up+Transition)</td>\n",
       "      <td id=\"T_323b2_row0_col1\" class=\"data row0 col1\" >19</td>\n",
       "      <td id=\"T_323b2_row0_col2\" class=\"data row0 col2\" >106.3</td>\n",
       "      <td id=\"T_323b2_row0_col3\" class=\"data row0 col3\" >-4.5</td>\n",
       "    </tr>\n",
       "    <tr>\n",
       "      <th id=\"T_323b2_level0_row1\" class=\"row_heading level0 row1\" >127</th>\n",
       "      <td id=\"T_323b2_row1_col0\" class=\"data row1 col0\" >1 Wing (Off Screen) | 1 Ballhandler (PnR) | 3 Wing (Spot Up+Transition)</td>\n",
       "      <td id=\"T_323b2_row1_col1\" class=\"data row1 col1\" >14</td>\n",
       "      <td id=\"T_323b2_row1_col2\" class=\"data row1 col2\" >106.9</td>\n",
       "      <td id=\"T_323b2_row1_col3\" class=\"data row1 col3\" >-4.0</td>\n",
       "    </tr>\n",
       "    <tr>\n",
       "      <th id=\"T_323b2_level0_row2\" class=\"row_heading level0 row2\" >83</th>\n",
       "      <td id=\"T_323b2_row2_col0\" class=\"data row2 col0\" >2 Ballhandler (PnR) | 1 Ballhandler (Iso+PnR) | 2 Wing (Spot Up+Transition)</td>\n",
       "      <td id=\"T_323b2_row2_col1\" class=\"data row2 col1\" >11</td>\n",
       "      <td id=\"T_323b2_row2_col2\" class=\"data row2 col2\" >108.1</td>\n",
       "      <td id=\"T_323b2_row2_col3\" class=\"data row2 col3\" >-3.5</td>\n",
       "    </tr>\n",
       "    <tr>\n",
       "      <th id=\"T_323b2_level0_row3\" class=\"row_heading level0 row3\" >164</th>\n",
       "      <td id=\"T_323b2_row3_col0\" class=\"data row3 col0\" >2 Wing (Off Screen) | 1 Ballhandler (PnR) | 1 Wing (Spot Up+Transition) | 1 Big (Roll+Cut)</td>\n",
       "      <td id=\"T_323b2_row3_col1\" class=\"data row3 col1\" >15</td>\n",
       "      <td id=\"T_323b2_row3_col2\" class=\"data row3 col2\" >107.3</td>\n",
       "      <td id=\"T_323b2_row3_col3\" class=\"data row3 col3\" >-2.4</td>\n",
       "    </tr>\n",
       "    <tr>\n",
       "      <th id=\"T_323b2_level0_row4\" class=\"row_heading level0 row4\" >47</th>\n",
       "      <td id=\"T_323b2_row4_col0\" class=\"data row4 col0\" >1 Ballhandler (PnR) | 1 Ballhandler (Iso+PnR) | 1 Wing (Spot Up+Transition) | 2 Big (Post Up+Roll)</td>\n",
       "      <td id=\"T_323b2_row4_col1\" class=\"data row4 col1\" >10</td>\n",
       "      <td id=\"T_323b2_row4_col2\" class=\"data row4 col2\" >108.2</td>\n",
       "      <td id=\"T_323b2_row4_col3\" class=\"data row4 col3\" >-2.2</td>\n",
       "    </tr>\n",
       "    <tr>\n",
       "      <th id=\"T_323b2_level0_row5\" class=\"row_heading level0 row5\" >143</th>\n",
       "      <td id=\"T_323b2_row5_col0\" class=\"data row5 col0\" >1 Wing (Off Screen) | 2 Ballhandler (PnR) | 1 Wing (Spot Up+Transition) | 1 Big (Post Up+Roll)</td>\n",
       "      <td id=\"T_323b2_row5_col1\" class=\"data row5 col1\" >24</td>\n",
       "      <td id=\"T_323b2_row5_col2\" class=\"data row5 col2\" >108.8</td>\n",
       "      <td id=\"T_323b2_row5_col3\" class=\"data row5 col3\" >-1.8</td>\n",
       "    </tr>\n",
       "    <tr>\n",
       "      <th id=\"T_323b2_level0_row6\" class=\"row_heading level0 row6\" >92</th>\n",
       "      <td id=\"T_323b2_row6_col0\" class=\"data row6 col0\" >3 Ballhandler (PnR) | 1 Wing (Spot Up+Transition) | 1 Big (Roll+Cut)</td>\n",
       "      <td id=\"T_323b2_row6_col1\" class=\"data row6 col1\" >24</td>\n",
       "      <td id=\"T_323b2_row6_col2\" class=\"data row6 col2\" >109.5</td>\n",
       "      <td id=\"T_323b2_row6_col3\" class=\"data row6 col3\" >-1.7</td>\n",
       "    </tr>\n",
       "    <tr>\n",
       "      <th id=\"T_323b2_level0_row7\" class=\"row_heading level0 row7\" >126</th>\n",
       "      <td id=\"T_323b2_row7_col0\" class=\"data row7 col0\" >1 Wing (Off Screen) | 1 Ballhandler (PnR) | 2 Wing (Spot Up+Transition) | 1 Big (Roll+Cut)</td>\n",
       "      <td id=\"T_323b2_row7_col1\" class=\"data row7 col1\" >41</td>\n",
       "      <td id=\"T_323b2_row7_col2\" class=\"data row7 col2\" >109.5</td>\n",
       "      <td id=\"T_323b2_row7_col3\" class=\"data row7 col3\" >-1.6</td>\n",
       "    </tr>\n",
       "    <tr>\n",
       "      <th id=\"T_323b2_level0_row8\" class=\"row_heading level0 row8\" >74</th>\n",
       "      <td id=\"T_323b2_row8_col0\" class=\"data row8 col0\" >2 Ballhandler (PnR) | 2 Wing (Spot Up+Transition) | 1 Big (Roll+Cut)</td>\n",
       "      <td id=\"T_323b2_row8_col1\" class=\"data row8 col1\" >39</td>\n",
       "      <td id=\"T_323b2_row8_col2\" class=\"data row8 col2\" >110.9</td>\n",
       "      <td id=\"T_323b2_row8_col3\" class=\"data row8 col3\" >-1.1</td>\n",
       "    </tr>\n",
       "    <tr>\n",
       "      <th id=\"T_323b2_level0_row9\" class=\"row_heading level0 row9\" >71</th>\n",
       "      <td id=\"T_323b2_row9_col0\" class=\"data row9 col0\" >2 Ballhandler (PnR) | 1 Wing (Spot Up+Transition) | 1 Wing (Hand Off) | 1 Big (Post Up+Roll)</td>\n",
       "      <td id=\"T_323b2_row9_col1\" class=\"data row9 col1\" >12</td>\n",
       "      <td id=\"T_323b2_row9_col2\" class=\"data row9 col2\" >109.6</td>\n",
       "      <td id=\"T_323b2_row9_col3\" class=\"data row9 col3\" >-1.0</td>\n",
       "    </tr>\n",
       "  </tbody>\n",
       "</table>\n"
      ],
      "text/plain": [
       "<pandas.io.formats.style.Styler at 0x7fee3defbeb0>"
      ]
     },
     "execution_count": 60,
     "metadata": {},
     "output_type": "execute_result"
    }
   ],
   "source": [
    "t_3[t_3['num_lineups'] >= 10].sort_values('adj_diff_to_league_avg')\\\n",
    "                             .head(10)[['lineup_detail', \n",
    "                                        'num_lineups',\n",
    "                                        'adj_off_Pts/Poss',\n",
    "                                        'adj_diff_to_league_avg']]\\\n",
    "                             .rename(columns={'lineup_detail': 'lineup combination',\n",
    "                                              'num_lineups': '# of unique lineups',\n",
    "                                              'adj_off_Pts/Poss': 'adj. points scored per 100 possessions',\n",
    "                                              'adj_diff_to_league_avg': 'adj. difference to league average'})\\\n",
    "                             .style.format(precision=1).applymap(color_cluster_2, subset='lineup combination')"
   ]
  },
  {
   "cell_type": "code",
   "execution_count": 61,
   "id": "35f84d91",
   "metadata": {
    "ExecuteTime": {
     "end_time": "2022-08-03T09:46:42.696348Z",
     "start_time": "2022-08-03T09:46:42.660860Z"
    }
   },
   "outputs": [
    {
     "data": {
      "text/html": [
       "<div>\n",
       "<style scoped>\n",
       "    .dataframe tbody tr th:only-of-type {\n",
       "        vertical-align: middle;\n",
       "    }\n",
       "\n",
       "    .dataframe tbody tr th {\n",
       "        vertical-align: top;\n",
       "    }\n",
       "\n",
       "    .dataframe thead th {\n",
       "        text-align: right;\n",
       "    }\n",
       "</style>\n",
       "<table border=\"1\" class=\"dataframe\">\n",
       "  <thead>\n",
       "    <tr style=\"text-align: right;\">\n",
       "      <th></th>\n",
       "      <th>PG</th>\n",
       "      <th>SG</th>\n",
       "      <th>SF</th>\n",
       "      <th>PF</th>\n",
       "      <th>C</th>\n",
       "      <th>season</th>\n",
       "      <th>team</th>\n",
       "      <th>Poss</th>\n",
       "      <th>off_Pts/Poss_rank</th>\n",
       "      <th>off_Pts/Poss</th>\n",
       "      <th>off_eFG%_rank</th>\n",
       "      <th>off_eFG%</th>\n",
       "      <th>off_TOV%_rank</th>\n",
       "      <th>off_TOV%</th>\n",
       "      <th>off_OREB%_rank</th>\n",
       "      <th>off_OREB%</th>\n",
       "      <th>off_FTr_rank</th>\n",
       "      <th>off_FTr</th>\n",
       "      <th>PG_alt</th>\n",
       "      <th>SG_alt</th>\n",
       "      <th>SF_alt</th>\n",
       "      <th>PF_alt</th>\n",
       "      <th>C_alt</th>\n",
       "      <th>PG_cluster</th>\n",
       "      <th>SG_cluster</th>\n",
       "      <th>SF_cluster</th>\n",
       "      <th>PF_cluster</th>\n",
       "      <th>C_cluster</th>\n",
       "      <th>lineup_clusters</th>\n",
       "      <th>0</th>\n",
       "      <th>1</th>\n",
       "      <th>2</th>\n",
       "      <th>3</th>\n",
       "      <th>4</th>\n",
       "      <th>5</th>\n",
       "      <th>6</th>\n",
       "      <th>lineup_embedding</th>\n",
       "      <th>tm_off_Pts/Poss</th>\n",
       "      <th>adj_off_Pts/Poss</th>\n",
       "      <th>league_avg_off_Pts/Poss</th>\n",
       "      <th>diff_to_league_avg</th>\n",
       "      <th>adj_diff_to_league_avg</th>\n",
       "    </tr>\n",
       "  </thead>\n",
       "  <tbody>\n",
       "    <tr>\n",
       "      <th>1043</th>\n",
       "      <td>Theo Maledon</td>\n",
       "      <td>Hamidou Diallo</td>\n",
       "      <td>Kenrich Williams</td>\n",
       "      <td>Aleksej Pokusevski</td>\n",
       "      <td>Mike Muscala</td>\n",
       "      <td>2020</td>\n",
       "      <td>Oklahoma City Thunder</td>\n",
       "      <td>151</td>\n",
       "      <td>2.0</td>\n",
       "      <td>89.4</td>\n",
       "      <td>3.0</td>\n",
       "      <td>45.0%</td>\n",
       "      <td>10.0</td>\n",
       "      <td>17.9%</td>\n",
       "      <td>77.0</td>\n",
       "      <td>29.9%</td>\n",
       "      <td>1.0</td>\n",
       "      <td>6.4</td>\n",
       "      <td>theomaledon</td>\n",
       "      <td>hamidoudiallo</td>\n",
       "      <td>kenrichwilliams</td>\n",
       "      <td>aleksejpokusevski</td>\n",
       "      <td>mikemuscala</td>\n",
       "      <td>1.0</td>\n",
       "      <td>3.0</td>\n",
       "      <td>3.0</td>\n",
       "      <td>1.0</td>\n",
       "      <td>3.0</td>\n",
       "      <td>[1.0, 3.0, 3.0, 1.0, 3.0]</td>\n",
       "      <td>0</td>\n",
       "      <td>2</td>\n",
       "      <td>0</td>\n",
       "      <td>3</td>\n",
       "      <td>0</td>\n",
       "      <td>0</td>\n",
       "      <td>0</td>\n",
       "      <td>0-2-0-3-0-0-0</td>\n",
       "      <td>103.746860</td>\n",
       "      <td>96.525607</td>\n",
       "      <td>112.795304</td>\n",
       "      <td>-23.395304</td>\n",
       "      <td>-16.269697</td>\n",
       "    </tr>\n",
       "    <tr>\n",
       "      <th>15</th>\n",
       "      <td>Trae Young</td>\n",
       "      <td>Kent Bazemore</td>\n",
       "      <td>Taurean Prince</td>\n",
       "      <td>Omari Spellman</td>\n",
       "      <td>Alex Len</td>\n",
       "      <td>2018</td>\n",
       "      <td>Atlanta Hawks</td>\n",
       "      <td>144</td>\n",
       "      <td>1.0</td>\n",
       "      <td>88.2</td>\n",
       "      <td>17.0</td>\n",
       "      <td>49.1%</td>\n",
       "      <td>0.0</td>\n",
       "      <td>27.1%</td>\n",
       "      <td>59.0</td>\n",
       "      <td>27.1%</td>\n",
       "      <td>9.0</td>\n",
       "      <td>11.2</td>\n",
       "      <td>traeyoung</td>\n",
       "      <td>kentbazemore</td>\n",
       "      <td>taureanprince</td>\n",
       "      <td>omarispellman</td>\n",
       "      <td>alexlen</td>\n",
       "      <td>1.0</td>\n",
       "      <td>1.0</td>\n",
       "      <td>3.0</td>\n",
       "      <td>3.0</td>\n",
       "      <td>3.0</td>\n",
       "      <td>[1.0, 1.0, 3.0, 3.0, 3.0]</td>\n",
       "      <td>0</td>\n",
       "      <td>2</td>\n",
       "      <td>0</td>\n",
       "      <td>3</td>\n",
       "      <td>0</td>\n",
       "      <td>0</td>\n",
       "      <td>0</td>\n",
       "      <td>0-2-0-3-0-0-0</td>\n",
       "      <td>107.673913</td>\n",
       "      <td>98.326435</td>\n",
       "      <td>110.480204</td>\n",
       "      <td>-22.280204</td>\n",
       "      <td>-12.153769</td>\n",
       "    </tr>\n",
       "    <tr>\n",
       "      <th>14</th>\n",
       "      <td>Trae Young</td>\n",
       "      <td>Kent Bazemore</td>\n",
       "      <td>Taurean Prince</td>\n",
       "      <td>John Collins</td>\n",
       "      <td>Dewayne Dedmon</td>\n",
       "      <td>2018</td>\n",
       "      <td>Atlanta Hawks</td>\n",
       "      <td>164</td>\n",
       "      <td>4.0</td>\n",
       "      <td>94.5</td>\n",
       "      <td>1.0</td>\n",
       "      <td>43.4%</td>\n",
       "      <td>30.0</td>\n",
       "      <td>15.2%</td>\n",
       "      <td>43.0</td>\n",
       "      <td>25.0%</td>\n",
       "      <td>75.0</td>\n",
       "      <td>22.9</td>\n",
       "      <td>traeyoung</td>\n",
       "      <td>kentbazemore</td>\n",
       "      <td>taureanprince</td>\n",
       "      <td>johncollins</td>\n",
       "      <td>dewaynededmon</td>\n",
       "      <td>1.0</td>\n",
       "      <td>1.0</td>\n",
       "      <td>3.0</td>\n",
       "      <td>3.0</td>\n",
       "      <td>3.0</td>\n",
       "      <td>[1.0, 1.0, 3.0, 3.0, 3.0]</td>\n",
       "      <td>0</td>\n",
       "      <td>2</td>\n",
       "      <td>0</td>\n",
       "      <td>3</td>\n",
       "      <td>0</td>\n",
       "      <td>0</td>\n",
       "      <td>0</td>\n",
       "      <td>0-2-0-3-0-0-0</td>\n",
       "      <td>107.673913</td>\n",
       "      <td>100.472174</td>\n",
       "      <td>110.480204</td>\n",
       "      <td>-15.980204</td>\n",
       "      <td>-10.008030</td>\n",
       "    </tr>\n",
       "    <tr>\n",
       "      <th>12</th>\n",
       "      <td>Trae Young</td>\n",
       "      <td>Kent Bazemore</td>\n",
       "      <td>Taurean Prince</td>\n",
       "      <td>Vince Carter</td>\n",
       "      <td>Alex Len</td>\n",
       "      <td>2018</td>\n",
       "      <td>Atlanta Hawks</td>\n",
       "      <td>226</td>\n",
       "      <td>9.0</td>\n",
       "      <td>98.2</td>\n",
       "      <td>14.0</td>\n",
       "      <td>48.7%</td>\n",
       "      <td>50.0</td>\n",
       "      <td>13.7%</td>\n",
       "      <td>17.0</td>\n",
       "      <td>20.2%</td>\n",
       "      <td>21.0</td>\n",
       "      <td>14.1</td>\n",
       "      <td>traeyoung</td>\n",
       "      <td>kentbazemore</td>\n",
       "      <td>taureanprince</td>\n",
       "      <td>vincecarter</td>\n",
       "      <td>alexlen</td>\n",
       "      <td>1.0</td>\n",
       "      <td>1.0</td>\n",
       "      <td>3.0</td>\n",
       "      <td>3.0</td>\n",
       "      <td>3.0</td>\n",
       "      <td>[1.0, 1.0, 3.0, 3.0, 3.0]</td>\n",
       "      <td>0</td>\n",
       "      <td>2</td>\n",
       "      <td>0</td>\n",
       "      <td>3</td>\n",
       "      <td>0</td>\n",
       "      <td>0</td>\n",
       "      <td>0</td>\n",
       "      <td>0-2-0-3-0-0-0</td>\n",
       "      <td>107.673913</td>\n",
       "      <td>100.536898</td>\n",
       "      <td>110.480204</td>\n",
       "      <td>-12.280204</td>\n",
       "      <td>-9.943305</td>\n",
       "    </tr>\n",
       "    <tr>\n",
       "      <th>220</th>\n",
       "      <td>Tomas Satoransky</td>\n",
       "      <td>Zach LaVine</td>\n",
       "      <td>Chandler Hutchison</td>\n",
       "      <td>Thaddeus Young</td>\n",
       "      <td>Luke Kornet</td>\n",
       "      <td>2019</td>\n",
       "      <td>Chicago Bulls</td>\n",
       "      <td>110</td>\n",
       "      <td>10.0</td>\n",
       "      <td>96.4</td>\n",
       "      <td>10.0</td>\n",
       "      <td>46.0%</td>\n",
       "      <td>40.0</td>\n",
       "      <td>14.5%</td>\n",
       "      <td>26.0</td>\n",
       "      <td>21.0%</td>\n",
       "      <td>24.0</td>\n",
       "      <td>14.0</td>\n",
       "      <td>tomassatoransky</td>\n",
       "      <td>zachlavine</td>\n",
       "      <td>chandlerhutchison</td>\n",
       "      <td>thaddeusyoung</td>\n",
       "      <td>lukekornet</td>\n",
       "      <td>1.0</td>\n",
       "      <td>1.0</td>\n",
       "      <td>3.0</td>\n",
       "      <td>3.0</td>\n",
       "      <td>3.0</td>\n",
       "      <td>[1.0, 1.0, 3.0, 3.0, 3.0]</td>\n",
       "      <td>0</td>\n",
       "      <td>2</td>\n",
       "      <td>0</td>\n",
       "      <td>3</td>\n",
       "      <td>0</td>\n",
       "      <td>0</td>\n",
       "      <td>0</td>\n",
       "      <td>0-2-0-3-0-0-0</td>\n",
       "      <td>106.567780</td>\n",
       "      <td>102.839594</td>\n",
       "      <td>110.793898</td>\n",
       "      <td>-14.393898</td>\n",
       "      <td>-7.954304</td>\n",
       "    </tr>\n",
       "  </tbody>\n",
       "</table>\n",
       "</div>"
      ],
      "text/plain": [
       "                    PG              SG                  SF  \\\n",
       "1043      Theo Maledon  Hamidou Diallo    Kenrich Williams   \n",
       "15          Trae Young   Kent Bazemore      Taurean Prince   \n",
       "14          Trae Young   Kent Bazemore      Taurean Prince   \n",
       "12          Trae Young   Kent Bazemore      Taurean Prince   \n",
       "220   Tomas Satoransky     Zach LaVine  Chandler Hutchison   \n",
       "\n",
       "                      PF               C  season                   team  Poss  \\\n",
       "1043  Aleksej Pokusevski    Mike Muscala    2020  Oklahoma City Thunder   151   \n",
       "15        Omari Spellman        Alex Len    2018          Atlanta Hawks   144   \n",
       "14          John Collins  Dewayne Dedmon    2018          Atlanta Hawks   164   \n",
       "12          Vince Carter        Alex Len    2018          Atlanta Hawks   226   \n",
       "220       Thaddeus Young     Luke Kornet    2019          Chicago Bulls   110   \n",
       "\n",
       "      off_Pts/Poss_rank  off_Pts/Poss  off_eFG%_rank off_eFG%  off_TOV%_rank  \\\n",
       "1043                2.0          89.4            3.0    45.0%           10.0   \n",
       "15                  1.0          88.2           17.0    49.1%            0.0   \n",
       "14                  4.0          94.5            1.0    43.4%           30.0   \n",
       "12                  9.0          98.2           14.0    48.7%           50.0   \n",
       "220                10.0          96.4           10.0    46.0%           40.0   \n",
       "\n",
       "     off_TOV%  off_OREB%_rank off_OREB%  off_FTr_rank  off_FTr  \\\n",
       "1043    17.9%            77.0     29.9%           1.0      6.4   \n",
       "15      27.1%            59.0     27.1%           9.0     11.2   \n",
       "14      15.2%            43.0     25.0%          75.0     22.9   \n",
       "12      13.7%            17.0     20.2%          21.0     14.1   \n",
       "220     14.5%            26.0     21.0%          24.0     14.0   \n",
       "\n",
       "               PG_alt         SG_alt             SF_alt             PF_alt  \\\n",
       "1043      theomaledon  hamidoudiallo    kenrichwilliams  aleksejpokusevski   \n",
       "15          traeyoung   kentbazemore      taureanprince      omarispellman   \n",
       "14          traeyoung   kentbazemore      taureanprince        johncollins   \n",
       "12          traeyoung   kentbazemore      taureanprince        vincecarter   \n",
       "220   tomassatoransky     zachlavine  chandlerhutchison      thaddeusyoung   \n",
       "\n",
       "              C_alt  PG_cluster  SG_cluster  SF_cluster  PF_cluster  \\\n",
       "1043    mikemuscala         1.0         3.0         3.0         1.0   \n",
       "15          alexlen         1.0         1.0         3.0         3.0   \n",
       "14    dewaynededmon         1.0         1.0         3.0         3.0   \n",
       "12          alexlen         1.0         1.0         3.0         3.0   \n",
       "220      lukekornet         1.0         1.0         3.0         3.0   \n",
       "\n",
       "      C_cluster            lineup_clusters  0  1  2  3  4  5  6  \\\n",
       "1043        3.0  [1.0, 3.0, 3.0, 1.0, 3.0]  0  2  0  3  0  0  0   \n",
       "15          3.0  [1.0, 1.0, 3.0, 3.0, 3.0]  0  2  0  3  0  0  0   \n",
       "14          3.0  [1.0, 1.0, 3.0, 3.0, 3.0]  0  2  0  3  0  0  0   \n",
       "12          3.0  [1.0, 1.0, 3.0, 3.0, 3.0]  0  2  0  3  0  0  0   \n",
       "220         3.0  [1.0, 1.0, 3.0, 3.0, 3.0]  0  2  0  3  0  0  0   \n",
       "\n",
       "     lineup_embedding  tm_off_Pts/Poss  adj_off_Pts/Poss  \\\n",
       "1043    0-2-0-3-0-0-0       103.746860         96.525607   \n",
       "15      0-2-0-3-0-0-0       107.673913         98.326435   \n",
       "14      0-2-0-3-0-0-0       107.673913        100.472174   \n",
       "12      0-2-0-3-0-0-0       107.673913        100.536898   \n",
       "220     0-2-0-3-0-0-0       106.567780        102.839594   \n",
       "\n",
       "      league_avg_off_Pts/Poss  diff_to_league_avg  adj_diff_to_league_avg  \n",
       "1043               112.795304          -23.395304              -16.269697  \n",
       "15                 110.480204          -22.280204              -12.153769  \n",
       "14                 110.480204          -15.980204              -10.008030  \n",
       "12                 110.480204          -12.280204               -9.943305  \n",
       "220                110.793898          -14.393898               -7.954304  "
      ]
     },
     "execution_count": 61,
     "metadata": {},
     "output_type": "execute_result"
    }
   ],
   "source": [
    "lineup_df_100[lineup_df_100['lineup_embedding'] == '0-2-0-3-0-0-0']\\\n",
    ".sort_values('adj_off_Pts/Poss').head(5)"
   ]
  },
  {
   "cell_type": "markdown",
   "id": "354936b9",
   "metadata": {},
   "source": [
    "### Ticket 4: How good are the 'Death Lineups' of the Warriors?"
   ]
  },
  {
   "cell_type": "code",
   "execution_count": 62,
   "id": "2b112e81",
   "metadata": {
    "ExecuteTime": {
     "end_time": "2022-08-03T09:46:43.983702Z",
     "start_time": "2022-08-03T09:46:43.953332Z"
    }
   },
   "outputs": [
    {
     "data": {
      "text/html": [
       "<div>\n",
       "<style scoped>\n",
       "    .dataframe tbody tr th:only-of-type {\n",
       "        vertical-align: middle;\n",
       "    }\n",
       "\n",
       "    .dataframe tbody tr th {\n",
       "        vertical-align: top;\n",
       "    }\n",
       "\n",
       "    .dataframe thead th {\n",
       "        text-align: right;\n",
       "    }\n",
       "</style>\n",
       "<table border=\"1\" class=\"dataframe\">\n",
       "  <thead>\n",
       "    <tr style=\"text-align: right;\">\n",
       "      <th></th>\n",
       "      <th>PG</th>\n",
       "      <th>SG</th>\n",
       "      <th>SF</th>\n",
       "      <th>PF</th>\n",
       "      <th>C</th>\n",
       "      <th>season</th>\n",
       "      <th>team</th>\n",
       "      <th>Poss</th>\n",
       "      <th>off_Pts/Poss_rank</th>\n",
       "      <th>off_Pts/Poss</th>\n",
       "      <th>off_eFG%_rank</th>\n",
       "      <th>off_eFG%</th>\n",
       "      <th>off_TOV%_rank</th>\n",
       "      <th>off_TOV%</th>\n",
       "      <th>off_OREB%_rank</th>\n",
       "      <th>off_OREB%</th>\n",
       "      <th>off_FTr_rank</th>\n",
       "      <th>off_FTr</th>\n",
       "      <th>PG_alt</th>\n",
       "      <th>SG_alt</th>\n",
       "      <th>SF_alt</th>\n",
       "      <th>PF_alt</th>\n",
       "      <th>C_alt</th>\n",
       "      <th>PG_cluster</th>\n",
       "      <th>SG_cluster</th>\n",
       "      <th>SF_cluster</th>\n",
       "      <th>PF_cluster</th>\n",
       "      <th>C_cluster</th>\n",
       "      <th>lineup_clusters</th>\n",
       "      <th>0</th>\n",
       "      <th>1</th>\n",
       "      <th>2</th>\n",
       "      <th>3</th>\n",
       "      <th>4</th>\n",
       "      <th>5</th>\n",
       "      <th>6</th>\n",
       "      <th>lineup_embedding</th>\n",
       "      <th>tm_off_Pts/Poss</th>\n",
       "      <th>adj_off_Pts/Poss</th>\n",
       "      <th>league_avg_off_Pts/Poss</th>\n",
       "      <th>diff_to_league_avg</th>\n",
       "      <th>adj_diff_to_league_avg</th>\n",
       "    </tr>\n",
       "  </thead>\n",
       "  <tbody>\n",
       "    <tr>\n",
       "      <th>453</th>\n",
       "      <td>Stephen Curry</td>\n",
       "      <td>Klay Thompson</td>\n",
       "      <td>Andre Iguodala</td>\n",
       "      <td>Kevin Durant</td>\n",
       "      <td>Draymond Green</td>\n",
       "      <td>2018</td>\n",
       "      <td>Golden State Warriors</td>\n",
       "      <td>388</td>\n",
       "      <td>96.0</td>\n",
       "      <td>132.5</td>\n",
       "      <td>98.0</td>\n",
       "      <td>65.9%</td>\n",
       "      <td>55.0</td>\n",
       "      <td>13.4%</td>\n",
       "      <td>4.0</td>\n",
       "      <td>15.6%</td>\n",
       "      <td>93.0</td>\n",
       "      <td>29.6</td>\n",
       "      <td>stephencurry</td>\n",
       "      <td>klaythompson</td>\n",
       "      <td>andreiguodala</td>\n",
       "      <td>kevindurant</td>\n",
       "      <td>draymondgreen</td>\n",
       "      <td>0.0</td>\n",
       "      <td>0.0</td>\n",
       "      <td>3.0</td>\n",
       "      <td>2.0</td>\n",
       "      <td>3.0</td>\n",
       "      <td>[0.0, 0.0, 3.0, 2.0, 3.0]</td>\n",
       "      <td>2</td>\n",
       "      <td>0</td>\n",
       "      <td>1</td>\n",
       "      <td>2</td>\n",
       "      <td>0</td>\n",
       "      <td>0</td>\n",
       "      <td>0</td>\n",
       "      <td>2-0-1-2-0-0-0</td>\n",
       "      <td>116.488638</td>\n",
       "      <td>132.500000</td>\n",
       "      <td>110.480204</td>\n",
       "      <td>22.019796</td>\n",
       "      <td>22.019796</td>\n",
       "    </tr>\n",
       "    <tr>\n",
       "      <th>442</th>\n",
       "      <td>Stephen Curry</td>\n",
       "      <td>Klay Thompson</td>\n",
       "      <td>Andre Iguodala</td>\n",
       "      <td>Kevin Durant</td>\n",
       "      <td>Draymond Green</td>\n",
       "      <td>2017</td>\n",
       "      <td>Golden State Warriors</td>\n",
       "      <td>275</td>\n",
       "      <td>97.0</td>\n",
       "      <td>127.6</td>\n",
       "      <td>92.0</td>\n",
       "      <td>59.9%</td>\n",
       "      <td>87.0</td>\n",
       "      <td>11.3%</td>\n",
       "      <td>18.0</td>\n",
       "      <td>19.7%</td>\n",
       "      <td>94.0</td>\n",
       "      <td>30.9</td>\n",
       "      <td>stephencurry</td>\n",
       "      <td>klaythompson</td>\n",
       "      <td>andreiguodala</td>\n",
       "      <td>kevindurant</td>\n",
       "      <td>draymondgreen</td>\n",
       "      <td>0.0</td>\n",
       "      <td>0.0</td>\n",
       "      <td>3.0</td>\n",
       "      <td>2.0</td>\n",
       "      <td>3.0</td>\n",
       "      <td>[0.0, 0.0, 3.0, 2.0, 3.0]</td>\n",
       "      <td>2</td>\n",
       "      <td>0</td>\n",
       "      <td>1</td>\n",
       "      <td>2</td>\n",
       "      <td>0</td>\n",
       "      <td>0</td>\n",
       "      <td>0</td>\n",
       "      <td>2-0-1-2-0-0-0</td>\n",
       "      <td>113.744191</td>\n",
       "      <td>126.445349</td>\n",
       "      <td>108.329988</td>\n",
       "      <td>19.270012</td>\n",
       "      <td>18.115361</td>\n",
       "    </tr>\n",
       "  </tbody>\n",
       "</table>\n",
       "</div>"
      ],
      "text/plain": [
       "                PG             SG              SF            PF  \\\n",
       "453  Stephen Curry  Klay Thompson  Andre Iguodala  Kevin Durant   \n",
       "442  Stephen Curry  Klay Thompson  Andre Iguodala  Kevin Durant   \n",
       "\n",
       "                  C  season                   team  Poss  off_Pts/Poss_rank  \\\n",
       "453  Draymond Green    2018  Golden State Warriors   388               96.0   \n",
       "442  Draymond Green    2017  Golden State Warriors   275               97.0   \n",
       "\n",
       "     off_Pts/Poss  off_eFG%_rank off_eFG%  off_TOV%_rank off_TOV%  \\\n",
       "453         132.5           98.0    65.9%           55.0    13.4%   \n",
       "442         127.6           92.0    59.9%           87.0    11.3%   \n",
       "\n",
       "     off_OREB%_rank off_OREB%  off_FTr_rank  off_FTr        PG_alt  \\\n",
       "453             4.0     15.6%          93.0     29.6  stephencurry   \n",
       "442            18.0     19.7%          94.0     30.9  stephencurry   \n",
       "\n",
       "           SG_alt         SF_alt       PF_alt          C_alt  PG_cluster  \\\n",
       "453  klaythompson  andreiguodala  kevindurant  draymondgreen         0.0   \n",
       "442  klaythompson  andreiguodala  kevindurant  draymondgreen         0.0   \n",
       "\n",
       "     SG_cluster  SF_cluster  PF_cluster  C_cluster            lineup_clusters  \\\n",
       "453         0.0         3.0         2.0        3.0  [0.0, 0.0, 3.0, 2.0, 3.0]   \n",
       "442         0.0         3.0         2.0        3.0  [0.0, 0.0, 3.0, 2.0, 3.0]   \n",
       "\n",
       "     0  1  2  3  4  5  6 lineup_embedding  tm_off_Pts/Poss  adj_off_Pts/Poss  \\\n",
       "453  2  0  1  2  0  0  0    2-0-1-2-0-0-0       116.488638        132.500000   \n",
       "442  2  0  1  2  0  0  0    2-0-1-2-0-0-0       113.744191        126.445349   \n",
       "\n",
       "     league_avg_off_Pts/Poss  diff_to_league_avg  adj_diff_to_league_avg  \n",
       "453               110.480204           22.019796               22.019796  \n",
       "442               108.329988           19.270012               18.115361  "
      ]
     },
     "execution_count": 62,
     "metadata": {},
     "output_type": "execute_result"
    }
   ],
   "source": [
    "lineup_df_100[(lineup_df_100['lineup_embedding'] == '2-0-1-2-0-0-0') &\n",
    "              (lineup_df_100['team'] == 'Golden State Warriors')]\\\n",
    ".sort_values('adj_off_Pts/Poss', ascending=False).head(2)"
   ]
  },
  {
   "cell_type": "markdown",
   "id": "729d5250",
   "metadata": {},
   "source": [
    "### Ticket 5: What are the differences that 'alpha/iso-heavy ballhandlers' can provide?"
   ]
  },
  {
   "cell_type": "code",
   "execution_count": 63,
   "id": "4a4810e8",
   "metadata": {
    "ExecuteTime": {
     "end_time": "2022-08-03T09:46:44.904038Z",
     "start_time": "2022-08-03T09:46:44.899788Z"
    }
   },
   "outputs": [
    {
     "data": {
      "text/plain": [
       "{2: 'Ballhandler (Iso+PnR)',\n",
       " 1: 'Ballhandler (PnR)',\n",
       " 6: 'Big (Post Up+Roll)',\n",
       " 5: 'Big (Roll+Cut)',\n",
       " 0: 'Wing (Off Screen)',\n",
       " 4: 'Wing (Hand Off)',\n",
       " 3: 'Wing (Spot Up+Transition)'}"
      ]
     },
     "execution_count": 63,
     "metadata": {},
     "output_type": "execute_result"
    }
   ],
   "source": [
    "cluster_dict_detail"
   ]
  },
  {
   "cell_type": "code",
   "execution_count": 64,
   "id": "3d0d24e8",
   "metadata": {
    "ExecuteTime": {
     "end_time": "2022-08-03T09:46:45.196418Z",
     "start_time": "2022-08-03T09:46:45.181881Z"
    }
   },
   "outputs": [
    {
     "data": {
      "text/html": [
       "<style type=\"text/css\">\n",
       "#T_c702f_row0_col0 {\n",
       "  color: #2E5C6E;\n",
       "}\n",
       "#T_c702f_row1_col0, #T_c702f_row2_col0, #T_c702f_row3_col0 {\n",
       "  color: #AB3B3A;\n",
       "  font-weight: bold;\n",
       "}\n",
       "</style>\n",
       "<table id=\"T_c702f\">\n",
       "  <thead>\n",
       "    <tr>\n",
       "      <th class=\"blank level0\" >&nbsp;</th>\n",
       "      <th id=\"T_c702f_level0_col0\" class=\"col_heading level0 col0\" ># of Ballhandler (Iso+PnR) in the lineup</th>\n",
       "      <th id=\"T_c702f_level0_col1\" class=\"col_heading level0 col1\" ># of unique lineups (100+ possessions)</th>\n",
       "      <th id=\"T_c702f_level0_col2\" class=\"col_heading level0 col2\" >avg. adj. difference to league average</th>\n",
       "    </tr>\n",
       "  </thead>\n",
       "  <tbody>\n",
       "    <tr>\n",
       "      <th id=\"T_c702f_level0_row0\" class=\"row_heading level0 row0\" >0</th>\n",
       "      <td id=\"T_c702f_row0_col0\" class=\"data row0 col0\" >0</td>\n",
       "      <td id=\"T_c702f_row0_col1\" class=\"data row0 col1\" >681</td>\n",
       "      <td id=\"T_c702f_row0_col2\" class=\"data row0 col2\" >-0.5</td>\n",
       "    </tr>\n",
       "    <tr>\n",
       "      <th id=\"T_c702f_level0_row1\" class=\"row_heading level0 row1\" >1</th>\n",
       "      <td id=\"T_c702f_row1_col0\" class=\"data row1 col0\" >1</td>\n",
       "      <td id=\"T_c702f_row1_col1\" class=\"data row1 col1\" >555</td>\n",
       "      <td id=\"T_c702f_row1_col2\" class=\"data row1 col2\" >1.6</td>\n",
       "    </tr>\n",
       "    <tr>\n",
       "      <th id=\"T_c702f_level0_row2\" class=\"row_heading level0 row2\" >2</th>\n",
       "      <td id=\"T_c702f_row2_col0\" class=\"data row2 col0\" >2</td>\n",
       "      <td id=\"T_c702f_row2_col1\" class=\"data row2 col1\" >257</td>\n",
       "      <td id=\"T_c702f_row2_col2\" class=\"data row2 col2\" >2.2</td>\n",
       "    </tr>\n",
       "    <tr>\n",
       "      <th id=\"T_c702f_level0_row3\" class=\"row_heading level0 row3\" >3</th>\n",
       "      <td id=\"T_c702f_row3_col0\" class=\"data row3 col0\" >3</td>\n",
       "      <td id=\"T_c702f_row3_col1\" class=\"data row3 col1\" >28</td>\n",
       "      <td id=\"T_c702f_row3_col2\" class=\"data row3 col2\" >2.9</td>\n",
       "    </tr>\n",
       "  </tbody>\n",
       "</table>\n"
      ],
      "text/plain": [
       "<pandas.io.formats.style.Styler at 0x7fee3f428c40>"
      ]
     },
     "execution_count": 64,
     "metadata": {},
     "output_type": "execute_result"
    }
   ],
   "source": [
    "lineup_df_100.groupby(2)['adj_diff_to_league_avg']\\\n",
    "             .agg(['count', 'mean'])\\\n",
    "             .reset_index()\\\n",
    "             .rename(columns={2: '# of Ballhandler (Iso+PnR) in the lineup',\n",
    "                              'count': '# of unique lineups (100+ possessions)',\n",
    "                              'mean': 'avg. adj. difference to league average'})\\\n",
    "             .style.format(precision=1)\\\n",
    "             .applymap(lambda x: 'color: #AB3B3A; font-weight: bold' if x > 0 \n",
    "                       else 'color: #2E5C6E' , \n",
    "                       subset='# of Ballhandler (Iso+PnR) in the lineup')"
   ]
  },
  {
   "cell_type": "markdown",
   "id": "5fb34ee3",
   "metadata": {},
   "source": [
    "## Modeling"
   ]
  },
  {
   "cell_type": "markdown",
   "id": "637532c7",
   "metadata": {},
   "source": [
    "### Linear Regression"
   ]
  },
  {
   "cell_type": "code",
   "execution_count": 65,
   "id": "1eccc899",
   "metadata": {
    "ExecuteTime": {
     "end_time": "2022-08-03T09:46:48.228159Z",
     "start_time": "2022-08-03T09:46:48.223898Z"
    }
   },
   "outputs": [],
   "source": [
    "data = lineup_df_100[list(range(7))]\n",
    "y = lineup_df_100['adj_diff_to_league_avg'].values"
   ]
  },
  {
   "cell_type": "code",
   "execution_count": 66,
   "id": "71a364b9",
   "metadata": {
    "ExecuteTime": {
     "end_time": "2022-08-03T09:46:48.574332Z",
     "start_time": "2022-08-03T09:46:48.566775Z"
    }
   },
   "outputs": [
    {
     "data": {
      "text/plain": [
       "[['Wing (Off Screen) - 1', 'Wing (Off Screen) - 2', 'Wing (Off Screen) - 3'],\n",
       " ['Ballhandler (PnR) - 1',\n",
       "  'Ballhandler (PnR) - 2',\n",
       "  'Ballhandler (PnR) - 3',\n",
       "  'Ballhandler (PnR) - 4'],\n",
       " ['Ballhandler (Iso+PnR) - 1',\n",
       "  'Ballhandler (Iso+PnR) - 2',\n",
       "  'Ballhandler (Iso+PnR) - 3'],\n",
       " ['Wing (Spot Up+Transition) - 1',\n",
       "  'Wing (Spot Up+Transition) - 2',\n",
       "  'Wing (Spot Up+Transition) - 3',\n",
       "  'Wing (Spot Up+Transition) - 4'],\n",
       " ['Wing (Hand Off) - 1', 'Wing (Hand Off) - 2', 'Wing (Hand Off) - 3'],\n",
       " ['Big (Roll+Cut) - 1', 'Big (Roll+Cut) - 2'],\n",
       " ['Big (Post Up+Roll) - 1',\n",
       "  'Big (Post Up+Roll) - 2',\n",
       "  'Big (Post Up+Roll) - 3']]"
      ]
     },
     "execution_count": 66,
     "metadata": {},
     "output_type": "execute_result"
    }
   ],
   "source": [
    "categorical_cols = [[f'{cluster_dict_detail[i]} - {n}' \n",
    "                     for n in sorted(data[i].unique()) if n != 0]\n",
    "                     for i in range(7)]\n",
    "categorical_cols"
   ]
  },
  {
   "cell_type": "code",
   "execution_count": 67,
   "id": "e55c79a2",
   "metadata": {
    "ExecuteTime": {
     "end_time": "2022-08-03T09:46:51.431899Z",
     "start_time": "2022-08-03T09:46:51.405732Z"
    }
   },
   "outputs": [
    {
     "data": {
      "text/html": [
       "<div>\n",
       "<style scoped>\n",
       "    .dataframe tbody tr th:only-of-type {\n",
       "        vertical-align: middle;\n",
       "    }\n",
       "\n",
       "    .dataframe tbody tr th {\n",
       "        vertical-align: top;\n",
       "    }\n",
       "\n",
       "    .dataframe thead th {\n",
       "        text-align: right;\n",
       "    }\n",
       "</style>\n",
       "<table border=\"1\" class=\"dataframe\">\n",
       "  <thead>\n",
       "    <tr style=\"text-align: right;\">\n",
       "      <th></th>\n",
       "      <th>Wing (Off Screen) - 1</th>\n",
       "      <th>Wing (Off Screen) - 2</th>\n",
       "      <th>Wing (Off Screen) - 3</th>\n",
       "      <th>Ballhandler (PnR) - 1</th>\n",
       "      <th>Ballhandler (PnR) - 2</th>\n",
       "      <th>Ballhandler (PnR) - 3</th>\n",
       "      <th>Ballhandler (PnR) - 4</th>\n",
       "      <th>Ballhandler (Iso+PnR) - 1</th>\n",
       "      <th>Ballhandler (Iso+PnR) - 2</th>\n",
       "      <th>Ballhandler (Iso+PnR) - 3</th>\n",
       "      <th>Wing (Spot Up+Transition) - 1</th>\n",
       "      <th>Wing (Spot Up+Transition) - 2</th>\n",
       "      <th>Wing (Spot Up+Transition) - 3</th>\n",
       "      <th>Wing (Spot Up+Transition) - 4</th>\n",
       "      <th>Wing (Hand Off) - 1</th>\n",
       "      <th>Wing (Hand Off) - 2</th>\n",
       "      <th>Wing (Hand Off) - 3</th>\n",
       "      <th>Big (Roll+Cut) - 1</th>\n",
       "      <th>Big (Roll+Cut) - 2</th>\n",
       "      <th>Big (Post Up+Roll) - 1</th>\n",
       "      <th>Big (Post Up+Roll) - 2</th>\n",
       "      <th>Big (Post Up+Roll) - 3</th>\n",
       "    </tr>\n",
       "  </thead>\n",
       "  <tbody>\n",
       "    <tr>\n",
       "      <th>0</th>\n",
       "      <td>0.0</td>\n",
       "      <td>1.0</td>\n",
       "      <td>0.0</td>\n",
       "      <td>0.0</td>\n",
       "      <td>0.0</td>\n",
       "      <td>0.0</td>\n",
       "      <td>0.0</td>\n",
       "      <td>1.0</td>\n",
       "      <td>0.0</td>\n",
       "      <td>0.0</td>\n",
       "      <td>1.0</td>\n",
       "      <td>0.0</td>\n",
       "      <td>0.0</td>\n",
       "      <td>0.0</td>\n",
       "      <td>0.0</td>\n",
       "      <td>0.0</td>\n",
       "      <td>0.0</td>\n",
       "      <td>1.0</td>\n",
       "      <td>0.0</td>\n",
       "      <td>0.0</td>\n",
       "      <td>0.0</td>\n",
       "      <td>0.0</td>\n",
       "    </tr>\n",
       "  </tbody>\n",
       "</table>\n",
       "</div>"
      ],
      "text/plain": [
       "   Wing (Off Screen) - 1  Wing (Off Screen) - 2  Wing (Off Screen) - 3  \\\n",
       "0                    0.0                    1.0                    0.0   \n",
       "\n",
       "   Ballhandler (PnR) - 1  Ballhandler (PnR) - 2  Ballhandler (PnR) - 3  \\\n",
       "0                    0.0                    0.0                    0.0   \n",
       "\n",
       "   Ballhandler (PnR) - 4  Ballhandler (Iso+PnR) - 1  \\\n",
       "0                    0.0                        1.0   \n",
       "\n",
       "   Ballhandler (Iso+PnR) - 2  Ballhandler (Iso+PnR) - 3  \\\n",
       "0                        0.0                        0.0   \n",
       "\n",
       "   Wing (Spot Up+Transition) - 1  Wing (Spot Up+Transition) - 2  \\\n",
       "0                            1.0                            0.0   \n",
       "\n",
       "   Wing (Spot Up+Transition) - 3  Wing (Spot Up+Transition) - 4  \\\n",
       "0                            0.0                            0.0   \n",
       "\n",
       "   Wing (Hand Off) - 1  Wing (Hand Off) - 2  Wing (Hand Off) - 3  \\\n",
       "0                  0.0                  0.0                  0.0   \n",
       "\n",
       "   Big (Roll+Cut) - 1  Big (Roll+Cut) - 2  Big (Post Up+Roll) - 1  \\\n",
       "0                 1.0                 0.0                     0.0   \n",
       "\n",
       "   Big (Post Up+Roll) - 2  Big (Post Up+Roll) - 3  \n",
       "0                     0.0                     0.0  "
      ]
     },
     "execution_count": 67,
     "metadata": {},
     "output_type": "execute_result"
    }
   ],
   "source": [
    "data_encoded = pd.DataFrame(OneHotEncoder(drop='first').fit_transform(data).toarray(),\n",
    "                            columns=list(itertools.chain(*categorical_cols)))\n",
    "data_encoded.head(1)"
   ]
  },
  {
   "cell_type": "code",
   "execution_count": 68,
   "id": "f837fc6f",
   "metadata": {
    "ExecuteTime": {
     "end_time": "2022-08-03T09:46:51.817615Z",
     "start_time": "2022-08-03T09:46:51.766576Z"
    }
   },
   "outputs": [
    {
     "data": {
      "text/html": [
       "<table class=\"simpletable\">\n",
       "<caption>OLS Regression Results</caption>\n",
       "<tr>\n",
       "  <th>Dep. Variable:</th>            <td>y</td>        <th>  R-squared:         </th> <td>   0.052</td> \n",
       "</tr>\n",
       "<tr>\n",
       "  <th>Model:</th>                   <td>OLS</td>       <th>  Adj. R-squared:    </th> <td>   0.038</td> \n",
       "</tr>\n",
       "<tr>\n",
       "  <th>Method:</th>             <td>Least Squares</td>  <th>  F-statistic:       </th> <td>   3.887</td> \n",
       "</tr>\n",
       "<tr>\n",
       "  <th>Date:</th>             <td>Wed, 03 Aug 2022</td> <th>  Prob (F-statistic):</th> <td>8.12e-09</td> \n",
       "</tr>\n",
       "<tr>\n",
       "  <th>Time:</th>                 <td>17:46:51</td>     <th>  Log-Likelihood:    </th> <td> -5030.0</td> \n",
       "</tr>\n",
       "<tr>\n",
       "  <th>No. Observations:</th>      <td>  1521</td>      <th>  AIC:               </th> <td>1.010e+04</td>\n",
       "</tr>\n",
       "<tr>\n",
       "  <th>Df Residuals:</th>          <td>  1499</td>      <th>  BIC:               </th> <td>1.022e+04</td>\n",
       "</tr>\n",
       "<tr>\n",
       "  <th>Df Model:</th>              <td>    21</td>      <th>                     </th>     <td> </td>    \n",
       "</tr>\n",
       "<tr>\n",
       "  <th>Covariance Type:</th>      <td>nonrobust</td>    <th>                     </th>     <td> </td>    \n",
       "</tr>\n",
       "</table>\n",
       "<table class=\"simpletable\">\n",
       "<tr>\n",
       "                <td></td>                   <th>coef</th>     <th>std err</th>      <th>t</th>      <th>P>|t|</th>  <th>[0.025</th>    <th>0.975]</th>  \n",
       "</tr>\n",
       "<tr>\n",
       "  <th>const</th>                         <td>    0.7091</td> <td>    1.299</td> <td>    0.546</td> <td> 0.585</td> <td>   -1.840</td> <td>    3.258</td>\n",
       "</tr>\n",
       "<tr>\n",
       "  <th>Wing (Off Screen) - 1</th>         <td>   -0.1203</td> <td>    0.462</td> <td>   -0.260</td> <td> 0.795</td> <td>   -1.027</td> <td>    0.786</td>\n",
       "</tr>\n",
       "<tr>\n",
       "  <th>Wing (Off Screen) - 2</th>         <td>   -0.1408</td> <td>    0.789</td> <td>   -0.179</td> <td> 0.858</td> <td>   -1.688</td> <td>    1.406</td>\n",
       "</tr>\n",
       "<tr>\n",
       "  <th>Wing (Off Screen) - 3</th>         <td>   -1.2065</td> <td>    4.497</td> <td>   -0.268</td> <td> 0.789</td> <td>  -10.028</td> <td>    7.615</td>\n",
       "</tr>\n",
       "<tr>\n",
       "  <th>Ballhandler (PnR) - 1</th>         <td>   -1.2467</td> <td>    0.508</td> <td>   -2.454</td> <td> 0.014</td> <td>   -2.243</td> <td>   -0.250</td>\n",
       "</tr>\n",
       "<tr>\n",
       "  <th>Ballhandler (PnR) - 2</th>         <td>   -1.7717</td> <td>    0.676</td> <td>   -2.620</td> <td> 0.009</td> <td>   -3.098</td> <td>   -0.445</td>\n",
       "</tr>\n",
       "<tr>\n",
       "  <th>Ballhandler (PnR) - 3</th>         <td>   -2.7612</td> <td>    1.148</td> <td>   -2.405</td> <td> 0.016</td> <td>   -5.014</td> <td>   -0.509</td>\n",
       "</tr>\n",
       "<tr>\n",
       "  <th>Ballhandler (PnR) - 4</th>         <td>    8.9403</td> <td>    5.984</td> <td>    1.494</td> <td> 0.135</td> <td>   -2.798</td> <td>   20.678</td>\n",
       "</tr>\n",
       "<tr>\n",
       "  <th>Ballhandler (Iso+PnR) - 1</th>     <td>    1.5963</td> <td>    0.460</td> <td>    3.468</td> <td> 0.001</td> <td>    0.693</td> <td>    2.499</td>\n",
       "</tr>\n",
       "<tr>\n",
       "  <th>Ballhandler (Iso+PnR) - 2</th>     <td>    1.8678</td> <td>    0.697</td> <td>    2.678</td> <td> 0.007</td> <td>    0.500</td> <td>    3.236</td>\n",
       "</tr>\n",
       "<tr>\n",
       "  <th>Ballhandler (Iso+PnR) - 3</th>     <td>    2.0725</td> <td>    1.425</td> <td>    1.455</td> <td> 0.146</td> <td>   -0.722</td> <td>    4.867</td>\n",
       "</tr>\n",
       "<tr>\n",
       "  <th>Wing (Spot Up+Transition) - 1</th> <td>    0.8568</td> <td>    0.532</td> <td>    1.611</td> <td> 0.107</td> <td>   -0.187</td> <td>    1.900</td>\n",
       "</tr>\n",
       "<tr>\n",
       "  <th>Wing (Spot Up+Transition) - 2</th> <td>    0.0383</td> <td>    0.678</td> <td>    0.057</td> <td> 0.955</td> <td>   -1.291</td> <td>    1.367</td>\n",
       "</tr>\n",
       "<tr>\n",
       "  <th>Wing (Spot Up+Transition) - 3</th> <td>   -0.7940</td> <td>    0.975</td> <td>   -0.815</td> <td> 0.415</td> <td>   -2.706</td> <td>    1.118</td>\n",
       "</tr>\n",
       "<tr>\n",
       "  <th>Wing (Spot Up+Transition) - 4</th> <td>   -0.8673</td> <td>    2.006</td> <td>   -0.432</td> <td> 0.666</td> <td>   -4.803</td> <td>    3.068</td>\n",
       "</tr>\n",
       "<tr>\n",
       "  <th>Wing (Hand Off) - 1</th>           <td>    0.7950</td> <td>    0.641</td> <td>    1.241</td> <td> 0.215</td> <td>   -0.462</td> <td>    2.051</td>\n",
       "</tr>\n",
       "<tr>\n",
       "  <th>Wing (Hand Off) - 2</th>           <td>   -3.6619</td> <td>    1.527</td> <td>   -2.399</td> <td> 0.017</td> <td>   -6.656</td> <td>   -0.667</td>\n",
       "</tr>\n",
       "<tr>\n",
       "  <th>Wing (Hand Off) - 3</th>           <td>   -4.0564</td> <td>    4.488</td> <td>   -0.904</td> <td> 0.366</td> <td>  -12.859</td> <td>    4.747</td>\n",
       "</tr>\n",
       "<tr>\n",
       "  <th>Big (Roll+Cut) - 1</th>            <td>   -0.0212</td> <td>    0.484</td> <td>   -0.044</td> <td> 0.965</td> <td>   -0.971</td> <td>    0.928</td>\n",
       "</tr>\n",
       "<tr>\n",
       "  <th>Big (Roll+Cut) - 2</th>            <td>   -3.6838</td> <td>    2.528</td> <td>   -1.457</td> <td> 0.145</td> <td>   -8.643</td> <td>    1.275</td>\n",
       "</tr>\n",
       "<tr>\n",
       "  <th>Big (Post Up+Roll) - 1</th>        <td>    0.1770</td> <td>    0.480</td> <td>    0.369</td> <td> 0.712</td> <td>   -0.764</td> <td>    1.118</td>\n",
       "</tr>\n",
       "<tr>\n",
       "  <th>Big (Post Up+Roll) - 2</th>        <td>    0.4296</td> <td>    0.801</td> <td>    0.536</td> <td> 0.592</td> <td>   -1.141</td> <td>    2.001</td>\n",
       "</tr>\n",
       "<tr>\n",
       "  <th>Big (Post Up+Roll) - 3</th>        <td>    1.0996</td> <td>    4.490</td> <td>    0.245</td> <td> 0.807</td> <td>   -7.708</td> <td>    9.907</td>\n",
       "</tr>\n",
       "</table>\n",
       "<table class=\"simpletable\">\n",
       "<tr>\n",
       "  <th>Omnibus:</th>       <td> 5.320</td> <th>  Durbin-Watson:     </th> <td>   1.613</td>\n",
       "</tr>\n",
       "<tr>\n",
       "  <th>Prob(Omnibus):</th> <td> 0.070</td> <th>  Jarque-Bera (JB):  </th> <td>   6.419</td>\n",
       "</tr>\n",
       "<tr>\n",
       "  <th>Skew:</th>          <td>-0.008</td> <th>  Prob(JB):          </th> <td>  0.0404</td>\n",
       "</tr>\n",
       "<tr>\n",
       "  <th>Kurtosis:</th>      <td> 3.318</td> <th>  Cond. No.          </th> <td>2.77e+15</td>\n",
       "</tr>\n",
       "</table><br/><br/>Notes:<br/>[1] Standard Errors assume that the covariance matrix of the errors is correctly specified.<br/>[2] The smallest eigenvalue is 4.56e-28. This might indicate that there are<br/>strong multicollinearity problems or that the design matrix is singular."
      ],
      "text/plain": [
       "<class 'statsmodels.iolib.summary.Summary'>\n",
       "\"\"\"\n",
       "                            OLS Regression Results                            \n",
       "==============================================================================\n",
       "Dep. Variable:                      y   R-squared:                       0.052\n",
       "Model:                            OLS   Adj. R-squared:                  0.038\n",
       "Method:                 Least Squares   F-statistic:                     3.887\n",
       "Date:                Wed, 03 Aug 2022   Prob (F-statistic):           8.12e-09\n",
       "Time:                        17:46:51   Log-Likelihood:                -5030.0\n",
       "No. Observations:                1521   AIC:                         1.010e+04\n",
       "Df Residuals:                    1499   BIC:                         1.022e+04\n",
       "Df Model:                          21                                         \n",
       "Covariance Type:            nonrobust                                         \n",
       "=================================================================================================\n",
       "                                    coef    std err          t      P>|t|      [0.025      0.975]\n",
       "-------------------------------------------------------------------------------------------------\n",
       "const                             0.7091      1.299      0.546      0.585      -1.840       3.258\n",
       "Wing (Off Screen) - 1            -0.1203      0.462     -0.260      0.795      -1.027       0.786\n",
       "Wing (Off Screen) - 2            -0.1408      0.789     -0.179      0.858      -1.688       1.406\n",
       "Wing (Off Screen) - 3            -1.2065      4.497     -0.268      0.789     -10.028       7.615\n",
       "Ballhandler (PnR) - 1            -1.2467      0.508     -2.454      0.014      -2.243      -0.250\n",
       "Ballhandler (PnR) - 2            -1.7717      0.676     -2.620      0.009      -3.098      -0.445\n",
       "Ballhandler (PnR) - 3            -2.7612      1.148     -2.405      0.016      -5.014      -0.509\n",
       "Ballhandler (PnR) - 4             8.9403      5.984      1.494      0.135      -2.798      20.678\n",
       "Ballhandler (Iso+PnR) - 1         1.5963      0.460      3.468      0.001       0.693       2.499\n",
       "Ballhandler (Iso+PnR) - 2         1.8678      0.697      2.678      0.007       0.500       3.236\n",
       "Ballhandler (Iso+PnR) - 3         2.0725      1.425      1.455      0.146      -0.722       4.867\n",
       "Wing (Spot Up+Transition) - 1     0.8568      0.532      1.611      0.107      -0.187       1.900\n",
       "Wing (Spot Up+Transition) - 2     0.0383      0.678      0.057      0.955      -1.291       1.367\n",
       "Wing (Spot Up+Transition) - 3    -0.7940      0.975     -0.815      0.415      -2.706       1.118\n",
       "Wing (Spot Up+Transition) - 4    -0.8673      2.006     -0.432      0.666      -4.803       3.068\n",
       "Wing (Hand Off) - 1               0.7950      0.641      1.241      0.215      -0.462       2.051\n",
       "Wing (Hand Off) - 2              -3.6619      1.527     -2.399      0.017      -6.656      -0.667\n",
       "Wing (Hand Off) - 3              -4.0564      4.488     -0.904      0.366     -12.859       4.747\n",
       "Big (Roll+Cut) - 1               -0.0212      0.484     -0.044      0.965      -0.971       0.928\n",
       "Big (Roll+Cut) - 2               -3.6838      2.528     -1.457      0.145      -8.643       1.275\n",
       "Big (Post Up+Roll) - 1            0.1770      0.480      0.369      0.712      -0.764       1.118\n",
       "Big (Post Up+Roll) - 2            0.4296      0.801      0.536      0.592      -1.141       2.001\n",
       "Big (Post Up+Roll) - 3            1.0996      4.490      0.245      0.807      -7.708       9.907\n",
       "==============================================================================\n",
       "Omnibus:                        5.320   Durbin-Watson:                   1.613\n",
       "Prob(Omnibus):                  0.070   Jarque-Bera (JB):                6.419\n",
       "Skew:                          -0.008   Prob(JB):                       0.0404\n",
       "Kurtosis:                       3.318   Cond. No.                     2.77e+15\n",
       "==============================================================================\n",
       "\n",
       "Notes:\n",
       "[1] Standard Errors assume that the covariance matrix of the errors is correctly specified.\n",
       "[2] The smallest eigenvalue is 4.56e-28. This might indicate that there are\n",
       "strong multicollinearity problems or that the design matrix is singular.\n",
       "\"\"\""
      ]
     },
     "execution_count": 68,
     "metadata": {},
     "output_type": "execute_result"
    }
   ],
   "source": [
    "X = sm.add_constant(data_encoded)\n",
    "model = sm.OLS(y, X)\n",
    "res = model.fit()\n",
    "res.summary()"
   ]
  },
  {
   "cell_type": "code",
   "execution_count": 69,
   "id": "3060c16c",
   "metadata": {
    "ExecuteTime": {
     "end_time": "2022-08-03T09:46:53.201245Z",
     "start_time": "2022-08-03T09:46:53.189543Z"
    }
   },
   "outputs": [
    {
     "data": {
      "text/html": [
       "<style type=\"text/css\">\n",
       "#T_3902d_row0_col0, #T_3902d_row1_col0 {\n",
       "  color: #AB3B3A;\n",
       "}\n",
       "#T_3902d_row2_col0, #T_3902d_row3_col0, #T_3902d_row4_col0, #T_3902d_row5_col0 {\n",
       "  color: #2E5C6E;\n",
       "}\n",
       "</style>\n",
       "<table id=\"T_3902d\">\n",
       "  <thead>\n",
       "    <tr>\n",
       "      <th class=\"blank level0\" >&nbsp;</th>\n",
       "      <th id=\"T_3902d_level0_col0\" class=\"col_heading level0 col0\" >feature</th>\n",
       "      <th id=\"T_3902d_level0_col1\" class=\"col_heading level0 col1\" >coef</th>\n",
       "      <th id=\"T_3902d_level0_col2\" class=\"col_heading level0 col2\" >p_value</th>\n",
       "    </tr>\n",
       "  </thead>\n",
       "  <tbody>\n",
       "    <tr>\n",
       "      <th id=\"T_3902d_level0_row0\" class=\"row_heading level0 row0\" >9</th>\n",
       "      <td id=\"T_3902d_row0_col0\" class=\"data row0 col0\" >Ballhandler (Iso+PnR) - 2</td>\n",
       "      <td id=\"T_3902d_row0_col1\" class=\"data row0 col1\" >1.868</td>\n",
       "      <td id=\"T_3902d_row0_col2\" class=\"data row0 col2\" >0.007</td>\n",
       "    </tr>\n",
       "    <tr>\n",
       "      <th id=\"T_3902d_level0_row1\" class=\"row_heading level0 row1\" >8</th>\n",
       "      <td id=\"T_3902d_row1_col0\" class=\"data row1 col0\" >Ballhandler (Iso+PnR) - 1</td>\n",
       "      <td id=\"T_3902d_row1_col1\" class=\"data row1 col1\" >1.596</td>\n",
       "      <td id=\"T_3902d_row1_col2\" class=\"data row1 col2\" >0.001</td>\n",
       "    </tr>\n",
       "    <tr>\n",
       "      <th id=\"T_3902d_level0_row2\" class=\"row_heading level0 row2\" >4</th>\n",
       "      <td id=\"T_3902d_row2_col0\" class=\"data row2 col0\" >Ballhandler (PnR) - 1</td>\n",
       "      <td id=\"T_3902d_row2_col1\" class=\"data row2 col1\" >-1.247</td>\n",
       "      <td id=\"T_3902d_row2_col2\" class=\"data row2 col2\" >0.014</td>\n",
       "    </tr>\n",
       "    <tr>\n",
       "      <th id=\"T_3902d_level0_row3\" class=\"row_heading level0 row3\" >5</th>\n",
       "      <td id=\"T_3902d_row3_col0\" class=\"data row3 col0\" >Ballhandler (PnR) - 2</td>\n",
       "      <td id=\"T_3902d_row3_col1\" class=\"data row3 col1\" >-1.772</td>\n",
       "      <td id=\"T_3902d_row3_col2\" class=\"data row3 col2\" >0.009</td>\n",
       "    </tr>\n",
       "    <tr>\n",
       "      <th id=\"T_3902d_level0_row4\" class=\"row_heading level0 row4\" >6</th>\n",
       "      <td id=\"T_3902d_row4_col0\" class=\"data row4 col0\" >Ballhandler (PnR) - 3</td>\n",
       "      <td id=\"T_3902d_row4_col1\" class=\"data row4 col1\" >-2.761</td>\n",
       "      <td id=\"T_3902d_row4_col2\" class=\"data row4 col2\" >0.016</td>\n",
       "    </tr>\n",
       "    <tr>\n",
       "      <th id=\"T_3902d_level0_row5\" class=\"row_heading level0 row5\" >16</th>\n",
       "      <td id=\"T_3902d_row5_col0\" class=\"data row5 col0\" >Wing (Hand Off) - 2</td>\n",
       "      <td id=\"T_3902d_row5_col1\" class=\"data row5 col1\" >-3.662</td>\n",
       "      <td id=\"T_3902d_row5_col2\" class=\"data row5 col2\" >0.017</td>\n",
       "    </tr>\n",
       "  </tbody>\n",
       "</table>\n"
      ],
      "text/plain": [
       "<pandas.io.formats.style.Styler at 0x7fee3dfdba30>"
      ]
     },
     "execution_count": 69,
     "metadata": {},
     "output_type": "execute_result"
    }
   ],
   "source": [
    "coef_df = pd.DataFrame(res.params, \n",
    "                       columns=['coef']).reset_index()\\\n",
    "                                        .rename(columns={'index': 'feature'})\n",
    "coef_df['p_value'] = coef_df['feature'].map(res.pvalues)\n",
    "coef_df[coef_df['p_value'] < 0.05].sort_values('coef', ascending=False)\\\n",
    "                                  .style.format(precision=3)\\\n",
    "                                  .applymap(color_cluster_2, subset='feature')"
   ]
  },
  {
   "cell_type": "markdown",
   "id": "e4abb7ab",
   "metadata": {},
   "source": [
    "### Bayesian Modeling"
   ]
  },
  {
   "cell_type": "markdown",
   "id": "c4e5c609",
   "metadata": {},
   "source": [
    "#### Functions"
   ]
  },
  {
   "cell_type": "code",
   "execution_count": 70,
   "id": "83c39e9b",
   "metadata": {
    "ExecuteTime": {
     "end_time": "2022-08-03T09:46:55.344749Z",
     "start_time": "2022-08-03T09:46:55.341493Z"
    }
   },
   "outputs": [],
   "source": [
    "def team_cluster_lookup(season, team, label_df=label_df):\n",
    "    return label_df[(label_df['season'] == season) &\n",
    "                    (label_df['team'] == team)]"
   ]
  },
  {
   "cell_type": "code",
   "execution_count": 71,
   "id": "8239551b",
   "metadata": {
    "ExecuteTime": {
     "end_time": "2022-08-03T09:46:55.654038Z",
     "start_time": "2022-08-03T09:46:55.649603Z"
    }
   },
   "outputs": [],
   "source": [
    "def generate_player_queries(player, season, cluster):\n",
    "    A_query = ' | '.join([f'{pos} == \"{player}\"' for pos in positions])\n",
    "    B_query = ' & '.join([f'{pos} != \"{player}\"' for pos in positions])\n",
    "    return A_query, B_query"
   ]
  },
  {
   "cell_type": "markdown",
   "id": "610dcb8b",
   "metadata": {},
   "source": [
    "### Ticket 1: \n",
    "#### Get Expectation of Steph Curry/Klay Thompson/Draymond Green"
   ]
  },
  {
   "cell_type": "code",
   "execution_count": 72,
   "id": "5697c9b6",
   "metadata": {
    "ExecuteTime": {
     "end_time": "2022-08-03T09:46:56.682590Z",
     "start_time": "2022-08-03T09:46:56.672821Z"
    }
   },
   "outputs": [
    {
     "data": {
      "text/html": [
       "<div>\n",
       "<style scoped>\n",
       "    .dataframe tbody tr th:only-of-type {\n",
       "        vertical-align: middle;\n",
       "    }\n",
       "\n",
       "    .dataframe tbody tr th {\n",
       "        vertical-align: top;\n",
       "    }\n",
       "\n",
       "    .dataframe thead th {\n",
       "        text-align: right;\n",
       "    }\n",
       "</style>\n",
       "<table border=\"1\" class=\"dataframe\">\n",
       "  <thead>\n",
       "    <tr style=\"text-align: right;\">\n",
       "      <th></th>\n",
       "      <th>season</th>\n",
       "      <th>team</th>\n",
       "      <th>player_cluster</th>\n",
       "      <th>player_alt</th>\n",
       "    </tr>\n",
       "  </thead>\n",
       "  <tbody>\n",
       "    <tr>\n",
       "      <th>1521</th>\n",
       "      <td>2021</td>\n",
       "      <td>Golden State Warriors</td>\n",
       "      <td>0</td>\n",
       "      <td>stephencurry</td>\n",
       "    </tr>\n",
       "    <tr>\n",
       "      <th>1522</th>\n",
       "      <td>2021</td>\n",
       "      <td>Golden State Warriors</td>\n",
       "      <td>0</td>\n",
       "      <td>jordanpoole</td>\n",
       "    </tr>\n",
       "    <tr>\n",
       "      <th>1523</th>\n",
       "      <td>2021</td>\n",
       "      <td>Golden State Warriors</td>\n",
       "      <td>2</td>\n",
       "      <td>andrewwiggins</td>\n",
       "    </tr>\n",
       "    <tr>\n",
       "      <th>1524</th>\n",
       "      <td>2021</td>\n",
       "      <td>Golden State Warriors</td>\n",
       "      <td>0</td>\n",
       "      <td>klaythompson</td>\n",
       "    </tr>\n",
       "    <tr>\n",
       "      <th>1525</th>\n",
       "      <td>2021</td>\n",
       "      <td>Golden State Warriors</td>\n",
       "      <td>3</td>\n",
       "      <td>jonathankuminga</td>\n",
       "    </tr>\n",
       "    <tr>\n",
       "      <th>1526</th>\n",
       "      <td>2021</td>\n",
       "      <td>Golden State Warriors</td>\n",
       "      <td>5</td>\n",
       "      <td>kevonlooney</td>\n",
       "    </tr>\n",
       "    <tr>\n",
       "      <th>1527</th>\n",
       "      <td>2021</td>\n",
       "      <td>Golden State Warriors</td>\n",
       "      <td>3</td>\n",
       "      <td>ottoporter</td>\n",
       "    </tr>\n",
       "    <tr>\n",
       "      <th>1528</th>\n",
       "      <td>2021</td>\n",
       "      <td>Golden State Warriors</td>\n",
       "      <td>3</td>\n",
       "      <td>nemanjabjelica</td>\n",
       "    </tr>\n",
       "    <tr>\n",
       "      <th>1529</th>\n",
       "      <td>2021</td>\n",
       "      <td>Golden State Warriors</td>\n",
       "      <td>0</td>\n",
       "      <td>damionlee</td>\n",
       "    </tr>\n",
       "    <tr>\n",
       "      <th>1530</th>\n",
       "      <td>2021</td>\n",
       "      <td>Golden State Warriors</td>\n",
       "      <td>3</td>\n",
       "      <td>draymondgreen</td>\n",
       "    </tr>\n",
       "    <tr>\n",
       "      <th>1531</th>\n",
       "      <td>2021</td>\n",
       "      <td>Golden State Warriors</td>\n",
       "      <td>3</td>\n",
       "      <td>garypaytonii</td>\n",
       "    </tr>\n",
       "    <tr>\n",
       "      <th>1532</th>\n",
       "      <td>2021</td>\n",
       "      <td>Golden State Warriors</td>\n",
       "      <td>3</td>\n",
       "      <td>juantoscano-anderson</td>\n",
       "    </tr>\n",
       "    <tr>\n",
       "      <th>1533</th>\n",
       "      <td>2021</td>\n",
       "      <td>Golden State Warriors</td>\n",
       "      <td>0</td>\n",
       "      <td>mosesmoody</td>\n",
       "    </tr>\n",
       "  </tbody>\n",
       "</table>\n",
       "</div>"
      ],
      "text/plain": [
       "      season                   team  player_cluster            player_alt\n",
       "1521    2021  Golden State Warriors               0          stephencurry\n",
       "1522    2021  Golden State Warriors               0           jordanpoole\n",
       "1523    2021  Golden State Warriors               2         andrewwiggins\n",
       "1524    2021  Golden State Warriors               0          klaythompson\n",
       "1525    2021  Golden State Warriors               3       jonathankuminga\n",
       "1526    2021  Golden State Warriors               5           kevonlooney\n",
       "1527    2021  Golden State Warriors               3            ottoporter\n",
       "1528    2021  Golden State Warriors               3        nemanjabjelica\n",
       "1529    2021  Golden State Warriors               0             damionlee\n",
       "1530    2021  Golden State Warriors               3         draymondgreen\n",
       "1531    2021  Golden State Warriors               3          garypaytonii\n",
       "1532    2021  Golden State Warriors               3  juantoscano-anderson\n",
       "1533    2021  Golden State Warriors               0            mosesmoody"
      ]
     },
     "execution_count": 72,
     "metadata": {},
     "output_type": "execute_result"
    }
   ],
   "source": [
    "team_cluster_lookup(2021, 'Golden State Warriors')"
   ]
  },
  {
   "cell_type": "code",
   "execution_count": 73,
   "id": "e1aa4ead",
   "metadata": {
    "ExecuteTime": {
     "end_time": "2022-08-03T09:46:59.929917Z",
     "start_time": "2022-08-03T09:46:59.924073Z"
    }
   },
   "outputs": [
    {
     "data": {
      "text/plain": [
       "92"
      ]
     },
     "execution_count": 73,
     "metadata": {},
     "output_type": "execute_result"
    }
   ],
   "source": [
    "L_cond = (lineup_df_100[0] > 1) & (lineup_df_100[3] > 0)\n",
    "lineups_L = lineup_df_100[L_cond]['adj_diff_to_league_avg'].values\n",
    "len(lineups_L)"
   ]
  },
  {
   "cell_type": "code",
   "execution_count": 74,
   "id": "9424d78d",
   "metadata": {
    "ExecuteTime": {
     "end_time": "2022-08-03T09:47:00.823344Z",
     "start_time": "2022-08-03T09:47:00.819827Z"
    }
   },
   "outputs": [],
   "source": [
    "avg_diff_L = np.mean(lineups_L)\n",
    "var_diff_L = np.var(lineups_L)\n",
    "alpha_L = 1 / var_diff_L\n",
    "observations_L = list(lineups_L)"
   ]
  },
  {
   "cell_type": "code",
   "execution_count": 75,
   "id": "8500992d",
   "metadata": {
    "ExecuteTime": {
     "end_time": "2022-08-03T09:48:07.781717Z",
     "start_time": "2022-08-03T09:47:02.179500Z"
    }
   },
   "outputs": [
    {
     "name": "stderr",
     "output_type": "stream",
     "text": [
      "Multiprocess sampling (4 chains in 4 jobs)\n",
      "CompoundStep\n",
      ">Metropolis: [var_L]\n",
      ">Metropolis: [mu_L]\n",
      "Sampling 4 chains, 0 divergences: 100%|█| 82000/82000 [00:17<00:00, 4735.03draws\n",
      "The number of effective samples is smaller than 10% for some parameters.\n"
     ]
    }
   ],
   "source": [
    "with pm.Model() as model:\n",
    "    mu_L = pm.Uniform('mu_L', -20, 20)\n",
    "    var_L = pm.Exponential('var_L', alpha_L)\n",
    "    obs_L = pm.Normal('obs_L', mu_L, var_L, observed=observations_L)\n",
    "    \n",
    "    step = pm.Metropolis()\n",
    "    trace = pm.sample(20000, step=step)"
   ]
  },
  {
   "cell_type": "code",
   "execution_count": 76,
   "id": "aba0f57a",
   "metadata": {
    "ExecuteTime": {
     "end_time": "2022-08-03T09:48:07.888537Z",
     "start_time": "2022-08-03T09:48:07.785185Z"
    }
   },
   "outputs": [],
   "source": [
    "burned_trace = trace[2000:]\n",
    "mu_L_samples = burned_trace['mu_L']"
   ]
  },
  {
   "cell_type": "code",
   "execution_count": 77,
   "id": "3f489bef",
   "metadata": {
    "ExecuteTime": {
     "end_time": "2022-08-03T09:48:08.368344Z",
     "start_time": "2022-08-03T09:48:07.890885Z"
    }
   },
   "outputs": [
    {
     "data": {
      "text/plain": [
       "Text(0.5, 1.0, 'Posterior distributions of $\\\\mu L$')"
      ]
     },
     "execution_count": 77,
     "metadata": {},
     "output_type": "execute_result"
    },
    {
     "data": {
      "image/png": "[encoded data removed]",
      "text/plain": [
       "<Figure size 936x288 with 1 Axes>"
      ]
     },
     "metadata": {
      "needs_background": "light"
     },
     "output_type": "display_data"
    }
   ],
   "source": [
    "figsize(13, 4)\n",
    "\n",
    "#histogram of posteriors\n",
    "plt.hist(mu_L_samples, histtype='stepfilled', bins=25, alpha=0.85,\n",
    "         label=r'posterior of $\\mu L$', color='#A60628')\n",
    "plt.vlines(avg_diff_L, 0, 10000, linestyle='--', \n",
    "           label=r'observed $\\mu L$')\n",
    "plt.legend(loc='upper right')\n",
    "plt.xlim(-10, 10)\n",
    "plt.xlabel('adjusted points scored per 100 possessions minus league average')\n",
    "plt.title(r'Posterior distributions of $\\mu L$')"
   ]
  },
  {
   "cell_type": "markdown",
   "id": "d42e7027",
   "metadata": {},
   "source": [
    "### Two-Lineup-Configuration Comparison"
   ]
  },
  {
   "cell_type": "markdown",
   "id": "c544a484",
   "metadata": {},
   "source": [
    "A Bayesisan model that we can use is as follows:  \n",
    "$x_A$ ~ $\\mathcal{N}(\\mu_A, \\sigma_A)$  \n",
    "$x_A$ ~ $\\mathcal{N}(\\mu_B, \\sigma_B)$  \n",
    "$\\mu_A$ ~ $\\mathcal{Uniform}(-20, 20)$  \n",
    "$\\mu_B$ ~ $\\mathcal{Uniform}(-20, 20)$  \n",
    "$\\sigma_A$ ~ $\\mathcal{Exp}(\\alpha_A)$  \n",
    "$\\sigma_B$ ~ $\\mathcal{Exp}(\\alpha_B)$  \n",
    "$\\Delta$ = $\\mu_A-\\mu_B$"
   ]
  },
  {
   "cell_type": "code",
   "execution_count": 78,
   "id": "7d8dd303",
   "metadata": {
    "ExecuteTime": {
     "end_time": "2022-08-03T09:48:08.377277Z",
     "start_time": "2022-08-03T09:48:08.372026Z"
    }
   },
   "outputs": [],
   "source": [
    "def compare_lineup_efficiency(lineups_A, lineups_B):\n",
    "    avg_diff_A = np.mean(lineups_A)\n",
    "    avg_diff_B = np.mean(lineups_B)\n",
    "    print(f'Mean | A: {avg_diff_A:.2f}; B: {avg_diff_B:.2f}')\n",
    "    \n",
    "    var_diff_A = np.var(lineups_A)\n",
    "    var_diff_B = np.var(lineups_B)\n",
    "    print(f'Variance | A: {var_diff_A:.2f}; B: {var_diff_B:.2f}')\n",
    "    \n",
    "    alpha_A = 1 / var_diff_A\n",
    "    alpha_B = 1 / var_diff_B\n",
    "    \n",
    "    observations_A = list(lineups_A)\n",
    "    observations_B = list(lineups_B)\n",
    "    \n",
    "    with pm.Model() as model:\n",
    "        mu_A = pm.Uniform('mu_A', -20, 20)\n",
    "        mu_B = pm.Uniform('mu_B', -20, 20)\n",
    "\n",
    "        delta = pm.Deterministic('delta', mu_A - mu_B)\n",
    "\n",
    "        var_A = pm.Exponential('var_A', alpha_A)\n",
    "        var_B = pm.Exponential('var_B', alpha_B)\n",
    "\n",
    "        obs_A = pm.Normal('obs_A', mu_A, var_A, observed=observations_A)\n",
    "        obs_B = pm.Normal('obs_B', mu_B, var_B, observed=observations_B)\n",
    "\n",
    "        step = pm.Metropolis()\n",
    "        trace = pm.sample(20000, step=step)\n",
    "        \n",
    "    return trace, avg_diff_A, avg_diff_B"
   ]
  },
  {
   "cell_type": "markdown",
   "id": "84d8e07f",
   "metadata": {},
   "source": [
    "### Ticket 2: \n",
    "#### Lineups w/ 2+ Ballhandlers (Iso+PnR) \n",
    "#### vs. \n",
    "#### Lineups w/ 0 Ballhandlers (Iso+PnR)"
   ]
  },
  {
   "cell_type": "code",
   "execution_count": 79,
   "id": "dd933bbd",
   "metadata": {
    "ExecuteTime": {
     "end_time": "2022-08-03T09:48:08.383518Z",
     "start_time": "2022-08-03T09:48:08.379277Z"
    }
   },
   "outputs": [],
   "source": [
    "A_cond = lineup_df_100[2] > 1\n",
    "B_cond = lineup_df_100[2] == 0"
   ]
  },
  {
   "cell_type": "code",
   "execution_count": 80,
   "id": "927f765a",
   "metadata": {
    "ExecuteTime": {
     "end_time": "2022-08-03T09:48:08.395119Z",
     "start_time": "2022-08-03T09:48:08.386237Z"
    }
   },
   "outputs": [
    {
     "data": {
      "text/plain": [
       "(285, 681)"
      ]
     },
     "execution_count": 80,
     "metadata": {},
     "output_type": "execute_result"
    }
   ],
   "source": [
    "lineups_A = lineup_df_100[A_cond]['adj_diff_to_league_avg'].values\n",
    "lineups_B = lineup_df_100[B_cond]['adj_diff_to_league_avg'].values\n",
    "len(lineups_A), len(lineups_B)"
   ]
  },
  {
   "cell_type": "code",
   "execution_count": 81,
   "id": "b20fefac",
   "metadata": {
    "ExecuteTime": {
     "end_time": "2022-08-03T09:49:25.141011Z",
     "start_time": "2022-08-03T09:48:08.397199Z"
    }
   },
   "outputs": [
    {
     "name": "stdout",
     "output_type": "stream",
     "text": [
      "Mean | A: 2.30; B: -0.52\n",
      "Variance | A: 45.26; B: 44.84\n"
     ]
    },
    {
     "name": "stderr",
     "output_type": "stream",
     "text": [
      "Multiprocess sampling (4 chains in 4 jobs)\n",
      "CompoundStep\n",
      ">Metropolis: [var_B]\n",
      ">Metropolis: [var_A]\n",
      ">Metropolis: [mu_B]\n",
      ">Metropolis: [mu_A]\n",
      "Sampling 4 chains, 0 divergences: 100%|█| 82000/82000 [00:21<00:00, 3775.48draws\n",
      "The number of effective samples is smaller than 10% for some parameters.\n"
     ]
    }
   ],
   "source": [
    "trace, avg_diff_A, avg_diff_B = compare_lineup_efficiency(lineups_A, \n",
    "                                                          lineups_B)"
   ]
  },
  {
   "cell_type": "code",
   "execution_count": 82,
   "id": "9d7020ed",
   "metadata": {
    "ExecuteTime": {
     "end_time": "2022-08-03T09:49:25.316255Z",
     "start_time": "2022-08-03T09:49:25.144117Z"
    }
   },
   "outputs": [],
   "source": [
    "burned_trace = trace[2000:]\n",
    "mu_A_samples = burned_trace['mu_A']\n",
    "mu_B_samples = burned_trace['mu_B']\n",
    "delta_samples = burned_trace['delta']"
   ]
  },
  {
   "cell_type": "code",
   "execution_count": 83,
   "id": "c0c274ef",
   "metadata": {
    "ExecuteTime": {
     "end_time": "2022-08-03T09:49:25.881986Z",
     "start_time": "2022-08-03T09:49:25.318617Z"
    }
   },
   "outputs": [
    {
     "data": {
      "image/png": "[encoded data removed]",
      "text/plain": [
       "<Figure size 936x720 with 3 Axes>"
      ]
     },
     "metadata": {
      "needs_background": "light"
     },
     "output_type": "display_data"
    }
   ],
   "source": [
    "figsize(13, 10)\n",
    "\n",
    "#histogram of posteriors\n",
    "\n",
    "plt.subplot(3, 1, 1)\n",
    "plt.hist(mu_A_samples, histtype='stepfilled', bins=25, alpha=0.65,\n",
    "         label=r'posterior of $\\mu A$', color='#2E5C6E')\n",
    "plt.vlines(avg_diff_A, 0, 10000, linestyle='--', \n",
    "           label=r'observed $\\mu A$')\n",
    "plt.legend(loc='upper right')\n",
    "plt.xlim(-5, 5)\n",
    "plt.xlabel('adjusted points scored per 100 possessions minus league average')\n",
    "plt.title(r'Posterior distributions of $\\mu A$, $\\mu B$, and $\\Delta$ unknowns')\n",
    "\n",
    "plt.subplot(3, 1, 2)\n",
    "plt.hist(mu_B_samples, histtype='stepfilled', bins=25, alpha=0.65,\n",
    "         label=r'posterior of $\\mu B$', color='#AB3B3A')\n",
    "plt.vlines(avg_diff_B, 0, 10000, linestyle='--', \n",
    "           label=r'observed $\\mu B$')\n",
    "plt.legend(loc='upper right')\n",
    "plt.xlim(-5, 5)\n",
    "plt.xlabel('adjusted points scored per 100 possessions minus league average')\n",
    "\n",
    "plt.subplot(3, 1, 3)\n",
    "plt.hist(delta_samples, histtype='stepfilled', bins=30, alpha=0.65,\n",
    "         label=r'posterior of $\\Delta$', color='#7A68A6')\n",
    "plt.vlines(avg_diff_A - avg_diff_B, 0, 10000, linestyle='--',\n",
    "           label=r'observed diff b/w $\\mu A$ and $\\mu B$')\n",
    "plt.vlines(0, 0, 10000, color='black', alpha=0.2)\n",
    "plt.legend(loc='upper right');\n",
    "plt.xlim(-5, 5)\n",
    "plt.xlabel('difference between the two lineup configurations')\n",
    "\n",
    "plt.tight_layout()"
   ]
  },
  {
   "cell_type": "markdown",
   "id": "5b521150",
   "metadata": {},
   "source": [
    "### Ticket 3: \n",
    "#### Lineups w/ 2 Ballhandlers (PnR) + 0 Ballhandlers (Iso+PnR)\n",
    "#### vs. \n",
    "#### Lineups w/ 1 Ballhandlers (PnR) + 1 Ballhandlers (Iso+PnR)"
   ]
  },
  {
   "cell_type": "code",
   "execution_count": 84,
   "id": "03bc7cb9",
   "metadata": {
    "ExecuteTime": {
     "end_time": "2022-08-03T09:49:25.891770Z",
     "start_time": "2022-08-03T09:49:25.887071Z"
    }
   },
   "outputs": [],
   "source": [
    "A_cond = (lineup_df_100[1] == 2) & (lineup_df_100[2] == 0)\n",
    "B_cond = (lineup_df_100[1] == 1) & (lineup_df_100[2] == 1)"
   ]
  },
  {
   "cell_type": "code",
   "execution_count": 85,
   "id": "1001b320",
   "metadata": {
    "ExecuteTime": {
     "end_time": "2022-08-03T09:49:25.905534Z",
     "start_time": "2022-08-03T09:49:25.893999Z"
    }
   },
   "outputs": [
    {
     "data": {
      "text/plain": [
       "(296, 265)"
      ]
     },
     "execution_count": 85,
     "metadata": {},
     "output_type": "execute_result"
    }
   ],
   "source": [
    "lineups_A = lineup_df_100[A_cond]['adj_diff_to_league_avg'].values\n",
    "lineups_B = lineup_df_100[B_cond]['adj_diff_to_league_avg'].values\n",
    "len(lineups_A), len(lineups_B)"
   ]
  },
  {
   "cell_type": "code",
   "execution_count": 86,
   "id": "5de95f57",
   "metadata": {
    "ExecuteTime": {
     "end_time": "2022-08-03T09:51:00.425120Z",
     "start_time": "2022-08-03T09:49:25.908623Z"
    }
   },
   "outputs": [
    {
     "name": "stdout",
     "output_type": "stream",
     "text": [
      "Mean | A: -0.23; B: 1.51\n",
      "Variance | A: 47.31; B: 41.31\n"
     ]
    },
    {
     "name": "stderr",
     "output_type": "stream",
     "text": [
      "Multiprocess sampling (4 chains in 4 jobs)\n",
      "CompoundStep\n",
      ">Metropolis: [var_B]\n",
      ">Metropolis: [var_A]\n",
      ">Metropolis: [mu_B]\n",
      ">Metropolis: [mu_A]\n",
      "Sampling 4 chains, 0 divergences: 100%|█| 82000/82000 [00:27<00:00, 2930.13draws\n",
      "The number of effective samples is smaller than 10% for some parameters.\n"
     ]
    }
   ],
   "source": [
    "trace, avg_diff_A, avg_diff_B = compare_lineup_efficiency(lineups_A, \n",
    "                                                          lineups_B)"
   ]
  },
  {
   "cell_type": "code",
   "execution_count": 87,
   "id": "fb6df663",
   "metadata": {
    "ExecuteTime": {
     "end_time": "2022-08-03T09:51:00.624196Z",
     "start_time": "2022-08-03T09:51:00.429260Z"
    }
   },
   "outputs": [],
   "source": [
    "burned_trace = trace[2000:]\n",
    "mu_A_samples = burned_trace['mu_A']\n",
    "mu_B_samples = burned_trace['mu_B']\n",
    "delta_samples = burned_trace['delta']"
   ]
  },
  {
   "cell_type": "code",
   "execution_count": 88,
   "id": "12d52270",
   "metadata": {
    "ExecuteTime": {
     "end_time": "2022-08-03T09:51:01.221074Z",
     "start_time": "2022-08-03T09:51:00.626904Z"
    }
   },
   "outputs": [
    {
     "data": {
      "image/png": "[encoded data removed]",
      "text/plain": [
       "<Figure size 936x720 with 3 Axes>"
      ]
     },
     "metadata": {
      "needs_background": "light"
     },
     "output_type": "display_data"
    }
   ],
   "source": [
    "figsize(13, 10)\n",
    "\n",
    "#histogram of posteriors\n",
    "\n",
    "plt.subplot(3, 1, 1)\n",
    "plt.hist(mu_A_samples, histtype='stepfilled', bins=25, alpha=0.65,\n",
    "         label=r'posterior of $\\mu A$', color='#2E5C6E')\n",
    "plt.vlines(avg_diff_A, 0, 10000, linestyle='--', \n",
    "           label=r'observed $\\mu A$')\n",
    "plt.legend(loc='upper right')\n",
    "plt.xlim(-5, 5)\n",
    "plt.xlabel('adjusted points scored per 100 possessions minus league average')\n",
    "plt.title(r'Posterior distributions of $\\mu A$, $\\mu B$, and $\\Delta$ unknowns')\n",
    "\n",
    "plt.subplot(3, 1, 2)\n",
    "plt.hist(mu_B_samples, histtype='stepfilled', bins=25, alpha=0.65,\n",
    "         label=r'posterior of $\\mu B$', color='#AB3B3A')\n",
    "plt.vlines(avg_diff_B, 0, 10000, linestyle='--', \n",
    "           label=r'observed $\\mu B$')\n",
    "plt.legend(loc='upper right')\n",
    "plt.xlim(-5, 5)\n",
    "plt.xlabel('adjusted points scored per 100 possessions minus league average')\n",
    "\n",
    "plt.subplot(3, 1, 3)\n",
    "plt.hist(delta_samples, histtype='stepfilled', bins=30, alpha=0.65,\n",
    "         label=r'posterior of $\\Delta$', color='#7A68A6')\n",
    "plt.vlines(avg_diff_A - avg_diff_B, 0, 10000, linestyle='--',\n",
    "           label=r'observed diff b/w $\\mu A$ and $\\mu B$')\n",
    "plt.vlines(0, 0, 10000, color='black', alpha=0.2)\n",
    "plt.legend(loc='upper right');\n",
    "plt.xlim(-5, 5)\n",
    "plt.xlabel('difference between the two lineup configurations')\n",
    "\n",
    "plt.tight_layout()"
   ]
  },
  {
   "cell_type": "markdown",
   "id": "d57c1416",
   "metadata": {},
   "source": [
    "### Ticket 4: \n",
    "#### Lineups w/ 1 Big (Post Up+Roll) & 0 Big (Roll+Cut)\n",
    "#### vs. \n",
    "#### Lineups w/ 0 Big (Post Up+Roll) & 1 Big (Roll+Cut)"
   ]
  },
  {
   "cell_type": "code",
   "execution_count": 91,
   "id": "9a2e4332",
   "metadata": {
    "ExecuteTime": {
     "end_time": "2022-08-03T09:51:01.256318Z",
     "start_time": "2022-08-03T09:51:01.246562Z"
    }
   },
   "outputs": [],
   "source": [
    "A_cond = (lineup_df_100[6] == 1) & (lineup_df_100[5] == 0) \n",
    "B_cond = (lineup_df_100[5] == 1) & (lineup_df_100[6] == 0) "
   ]
  },
  {
   "cell_type": "code",
   "execution_count": 92,
   "id": "e347268a",
   "metadata": {
    "ExecuteTime": {
     "end_time": "2022-08-03T09:51:01.277581Z",
     "start_time": "2022-08-03T09:51:01.260224Z"
    }
   },
   "outputs": [
    {
     "data": {
      "text/plain": [
       "(477, 566)"
      ]
     },
     "execution_count": 92,
     "metadata": {},
     "output_type": "execute_result"
    }
   ],
   "source": [
    "lineups_A = lineup_df_100[A_cond]['adj_diff_to_league_avg'].values\n",
    "lineups_B = lineup_df_100[B_cond]['adj_diff_to_league_avg'].values\n",
    "len(lineups_A), len(lineups_B)"
   ]
  },
  {
   "cell_type": "code",
   "execution_count": 93,
   "id": "b490df3d",
   "metadata": {
    "ExecuteTime": {
     "end_time": "2022-08-03T09:52:32.114458Z",
     "start_time": "2022-08-03T09:51:01.281455Z"
    }
   },
   "outputs": [
    {
     "name": "stdout",
     "output_type": "stream",
     "text": [
      "Mean | A: 1.05; B: 0.93\n",
      "Variance | A: 45.88; B: 44.69\n"
     ]
    },
    {
     "name": "stderr",
     "output_type": "stream",
     "text": [
      "Multiprocess sampling (4 chains in 4 jobs)\n",
      "CompoundStep\n",
      ">Metropolis: [var_B]\n",
      ">Metropolis: [var_A]\n",
      ">Metropolis: [mu_B]\n",
      ">Metropolis: [mu_A]\n",
      "Sampling 4 chains, 0 divergences: 100%|█| 82000/82000 [00:29<00:00, 2787.24draws\n",
      "The number of effective samples is smaller than 10% for some parameters.\n"
     ]
    }
   ],
   "source": [
    "trace, avg_diff_A, avg_diff_B = compare_lineup_efficiency(lineups_A, \n",
    "                                                          lineups_B)"
   ]
  },
  {
   "cell_type": "code",
   "execution_count": 94,
   "id": "aff078bb",
   "metadata": {
    "ExecuteTime": {
     "end_time": "2022-08-03T09:52:32.288599Z",
     "start_time": "2022-08-03T09:52:32.117254Z"
    }
   },
   "outputs": [],
   "source": [
    "burned_trace = trace[2000:]\n",
    "mu_A_samples = burned_trace['mu_A']\n",
    "mu_B_samples = burned_trace['mu_B']\n",
    "delta_samples = burned_trace['delta']"
   ]
  },
  {
   "cell_type": "code",
   "execution_count": 95,
   "id": "c71a155b",
   "metadata": {
    "ExecuteTime": {
     "end_time": "2022-08-03T09:52:32.829951Z",
     "start_time": "2022-08-03T09:52:32.290490Z"
    }
   },
   "outputs": [
    {
     "data": {
      "image/png": "[encoded data removed]",
      "text/plain": [
       "<Figure size 936x720 with 3 Axes>"
      ]
     },
     "metadata": {
      "needs_background": "light"
     },
     "output_type": "display_data"
    }
   ],
   "source": [
    "figsize(13, 10)\n",
    "\n",
    "#histogram of posteriors\n",
    "\n",
    "plt.subplot(3, 1, 1)\n",
    "plt.hist(mu_A_samples, histtype='stepfilled', bins=25, alpha=0.65,\n",
    "         label=r'posterior of $\\mu A$', color='#2E5C6E')\n",
    "plt.vlines(avg_diff_A, 0, 10000, linestyle='--', \n",
    "           label=r'observed $\\mu A$')\n",
    "plt.legend(loc='upper right')\n",
    "plt.xlim(-5, 5)\n",
    "plt.xlabel('adjusted points scored per 100 possessions minus league average')\n",
    "plt.title(r'Posterior distributions of $\\mu A$, $\\mu B$, and $\\Delta$ unknowns')\n",
    "\n",
    "plt.subplot(3, 1, 2)\n",
    "plt.hist(mu_B_samples, histtype='stepfilled', bins=25, alpha=0.65,\n",
    "         label=r'posterior of $\\mu B$', color='#AB3B3A')\n",
    "plt.vlines(avg_diff_B, 0, 10000, linestyle='--', \n",
    "           label=r'observed $\\mu B$')\n",
    "plt.legend(loc='upper right')\n",
    "plt.xlim(-5, 5)\n",
    "plt.xlabel('adjusted points scored per 100 possessions minus league average')\n",
    "\n",
    "plt.subplot(3, 1, 3)\n",
    "plt.hist(delta_samples, histtype='stepfilled', bins=30, alpha=0.65,\n",
    "         label=r'posterior of $\\Delta$', color='#7A68A6')\n",
    "plt.vlines(avg_diff_A - avg_diff_B, 0, 10000, linestyle='--',\n",
    "           label=r'observed diff b/w $\\mu A$ and $\\mu B$')\n",
    "plt.vlines(0, 0, 10000, color='black', alpha=0.2)\n",
    "plt.legend(loc='upper right');\n",
    "plt.xlim(-5, 5)\n",
    "plt.xlabel('difference between the two lineup configurations')\n",
    "\n",
    "plt.tight_layout()"
   ]
  },
  {
   "cell_type": "code",
   "execution_count": 96,
   "id": "32acb9b7",
   "metadata": {
    "ExecuteTime": {
     "end_time": "2022-08-03T09:52:32.837804Z",
     "start_time": "2022-08-03T09:52:32.832354Z"
    }
   },
   "outputs": [
    {
     "data": {
      "text/plain": [
       "0.6186805555555556"
      ]
     },
     "execution_count": 96,
     "metadata": {},
     "output_type": "execute_result"
    }
   ],
   "source": [
    "np.mean(delta_samples > 0)"
   ]
  },
  {
   "cell_type": "markdown",
   "id": "caabd9b0",
   "metadata": {},
   "source": [
    "### Ticket 5: \n",
    "#### Lineups w/ 2+ Wing (Off Screen)\n",
    "#### vs. \n",
    "#### Lineups w/ 1- Wing (Off Screen)"
   ]
  },
  {
   "cell_type": "code",
   "execution_count": 97,
   "id": "63bd0232",
   "metadata": {
    "ExecuteTime": {
     "end_time": "2022-08-03T09:52:32.844681Z",
     "start_time": "2022-08-03T09:52:32.840341Z"
    }
   },
   "outputs": [],
   "source": [
    "A_cond = lineup_df_100[0] > 1 \n",
    "B_cond = ~A_cond"
   ]
  },
  {
   "cell_type": "code",
   "execution_count": 98,
   "id": "d9af1a04",
   "metadata": {
    "ExecuteTime": {
     "end_time": "2022-08-03T09:52:32.859117Z",
     "start_time": "2022-08-03T09:52:32.847380Z"
    }
   },
   "outputs": [
    {
     "data": {
      "text/plain": [
       "(139, 1382)"
      ]
     },
     "execution_count": 98,
     "metadata": {},
     "output_type": "execute_result"
    }
   ],
   "source": [
    "lineups_A = lineup_df_100[A_cond]['adj_diff_to_league_avg'].values\n",
    "lineups_B = lineup_df_100[B_cond]['adj_diff_to_league_avg'].values\n",
    "len(lineups_A), len(lineups_B)"
   ]
  },
  {
   "cell_type": "code",
   "execution_count": 99,
   "id": "c8746b99",
   "metadata": {
    "ExecuteTime": {
     "end_time": "2022-08-03T09:54:05.644179Z",
     "start_time": "2022-08-03T09:52:32.862210Z"
    }
   },
   "outputs": [
    {
     "name": "stdout",
     "output_type": "stream",
     "text": [
      "Mean | A: 1.37; B: 0.73\n",
      "Variance | A: 43.03; B: 46.29\n"
     ]
    },
    {
     "name": "stderr",
     "output_type": "stream",
     "text": [
      "Multiprocess sampling (4 chains in 4 jobs)\n",
      "CompoundStep\n",
      ">Metropolis: [var_B]\n",
      ">Metropolis: [var_A]\n",
      ">Metropolis: [mu_B]\n",
      ">Metropolis: [mu_A]\n",
      "Sampling 4 chains, 0 divergences: 100%|█| 82000/82000 [00:32<00:00, 2533.73draws\n",
      "The number of effective samples is smaller than 10% for some parameters.\n"
     ]
    }
   ],
   "source": [
    "trace, avg_diff_A, avg_diff_B = compare_lineup_efficiency(lineups_A, \n",
    "                                                          lineups_B)"
   ]
  },
  {
   "cell_type": "code",
   "execution_count": 100,
   "id": "cf2c1281",
   "metadata": {
    "ExecuteTime": {
     "end_time": "2022-08-03T09:54:05.834904Z",
     "start_time": "2022-08-03T09:54:05.648780Z"
    }
   },
   "outputs": [],
   "source": [
    "burned_trace = trace[2000:]\n",
    "mu_A_samples = burned_trace['mu_A']\n",
    "mu_B_samples = burned_trace['mu_B']\n",
    "delta_samples = burned_trace['delta']"
   ]
  },
  {
   "cell_type": "code",
   "execution_count": 101,
   "id": "3aa85915",
   "metadata": {
    "ExecuteTime": {
     "end_time": "2022-08-03T09:54:06.390395Z",
     "start_time": "2022-08-03T09:54:05.837946Z"
    }
   },
   "outputs": [
    {
     "data": {
      "image/png": "[encoded data removed]",
      "text/plain": [
       "<Figure size 936x720 with 3 Axes>"
      ]
     },
     "metadata": {
      "needs_background": "light"
     },
     "output_type": "display_data"
    }
   ],
   "source": [
    "figsize(13, 10)\n",
    "\n",
    "#histogram of posteriors\n",
    "\n",
    "plt.subplot(3, 1, 1)\n",
    "plt.hist(mu_A_samples, histtype='stepfilled', bins=25, alpha=0.65,\n",
    "         label=r'posterior of $\\mu A$', color='#2E5C6E')\n",
    "plt.vlines(avg_diff_A, 0, 10000, linestyle='--', \n",
    "           label=r'observed $\\mu A$')\n",
    "plt.legend(loc='upper right')\n",
    "plt.xlim(-5, 5)\n",
    "plt.xlabel('adjusted points scored per 100 possessions minus league average')\n",
    "plt.title(r'Posterior distributions of $\\mu A$, $\\mu B$, and $\\Delta$ unknowns')\n",
    "\n",
    "plt.subplot(3, 1, 2)\n",
    "plt.hist(mu_B_samples, histtype='stepfilled', bins=25, alpha=0.65,\n",
    "         label=r'posterior of $\\mu B$', color='#AB3B3A')\n",
    "plt.vlines(avg_diff_B, 0, 10000, linestyle='--', \n",
    "           label=r'observed $\\mu B$')\n",
    "plt.legend(loc='upper right')\n",
    "plt.xlim(-5, 5)\n",
    "plt.xlabel('adjusted points scored per 100 possessions minus league average')\n",
    "\n",
    "plt.subplot(3, 1, 3)\n",
    "plt.hist(delta_samples, histtype='stepfilled', bins=30, alpha=0.65,\n",
    "         label=r'posterior of $\\Delta$', color='#7A68A6')\n",
    "plt.vlines(avg_diff_A - avg_diff_B, 0, 10000, linestyle='--',\n",
    "           label=r'observed diff b/w $\\mu A$ and $\\mu B$')\n",
    "plt.vlines(0, 0, 10000, color='black', alpha=0.2)\n",
    "plt.legend(loc='upper right');\n",
    "plt.xlim(-5, 5)\n",
    "plt.xlabel('difference between the two lineup configurations')\n",
    "\n",
    "plt.tight_layout()"
   ]
  },
  {
   "cell_type": "markdown",
   "id": "11094bbd",
   "metadata": {},
   "source": [
    "### Player Performance Comparison"
   ]
  },
  {
   "cell_type": "markdown",
   "id": "6b2e479e",
   "metadata": {},
   "source": [
    "A Bayesisan model that we can use is as follows:  \n",
    "$x_A$ ~ $\\mathcal{N}(\\mu_A, \\sigma_A)$  \n",
    "$x_A$ ~ $\\mathcal{N}(\\mu_B, \\sigma_B)$  \n",
    "$x_T$ ~ $\\mathcal{N}(\\mu_T, \\sigma_T)$  \n",
    "$\\mu_A$ ~ $\\mathcal{Uniform}(-20, 20)$  \n",
    "$\\mu_B$ ~ $\\mathcal{Uniform}(-20, 20)$  \n",
    "$\\mu_T$ ~ $\\mathcal{Uniform}(-20, 20)$  \n",
    "$\\sigma_A$ ~ $\\mathcal{Exp}(\\alpha_A)$  \n",
    "$\\sigma_B$ ~ $\\mathcal{Exp}(\\alpha_B)$  \n",
    "$\\sigma_T$ ~ $\\mathcal{Exp}(\\alpha_T)$  \n",
    "$\\Delta$ = $\\mu_A-\\mu_B$"
   ]
  },
  {
   "cell_type": "code",
   "execution_count": 108,
   "id": "c11be42f",
   "metadata": {
    "ExecuteTime": {
     "end_time": "2022-08-03T09:57:34.114607Z",
     "start_time": "2022-08-03T09:57:34.101833Z"
    }
   },
   "outputs": [],
   "source": [
    "def compare_player_efficiency(lineups_A, lineups_B, lineups_T):\n",
    "    avg_diff_A = np.mean(lineups_A)\n",
    "    avg_diff_B = np.mean(lineups_B)\n",
    "    avg_diff_T = np.mean(lineups_T)\n",
    "    \n",
    "    var_diff_A = np.var(lineups_A)\n",
    "    var_diff_B = np.var(lineups_B)\n",
    "    var_diff_T = np.var(lineups_T)\n",
    "    \n",
    "    alpha_A = 1 / var_diff_A\n",
    "    alpha_B = 1 / var_diff_B\n",
    "    alpha_T = 1 / var_diff_T\n",
    "    \n",
    "    observations_A = list(lineups_A)\n",
    "    observations_B = list(lineups_B)\n",
    "    observations_T = list(lineups_T)\n",
    "    \n",
    "    with pm.Model() as model:\n",
    "        mu_A = pm.Uniform('mu_A', -20, 20)\n",
    "        mu_B = pm.Uniform('mu_B', -20, 20)\n",
    "        mu_T  = pm.Uniform('mu_T', -20, 20)\n",
    "\n",
    "        delta = pm.Deterministic('delta', mu_A - mu_B)\n",
    "\n",
    "        var_A = pm.Exponential('var_A', alpha_A)\n",
    "        var_B = pm.Exponential('var_B', alpha_B)\n",
    "        var_T = pm.Exponential('var_T', alpha_T)\n",
    "\n",
    "        obs_A = pm.Normal('obs_A', mu_A, var_A, observed=observations_A)\n",
    "        obs_B = pm.Normal('obs_B', mu_B, var_B, observed=observations_B)\n",
    "        obs_T = pm.Normal('obs_T', mu_T, var_T, observed=observations_T)\n",
    "\n",
    "        step = pm.Metropolis()\n",
    "        trace = pm.sample(20000, step=step)\n",
    "        \n",
    "    return trace, avg_diff_A, avg_diff_B, avg_diff_T"
   ]
  },
  {
   "cell_type": "markdown",
   "id": "10b8018f",
   "metadata": {},
   "source": [
    "### Ticket 6: \n",
    "#### Lineups w/ Nikola Jokic\n",
    "#### vs. \n",
    "#### Lineups w/ Similar Configurations"
   ]
  },
  {
   "cell_type": "code",
   "execution_count": 102,
   "id": "cf7da5a6",
   "metadata": {
    "ExecuteTime": {
     "end_time": "2022-08-03T09:57:24.237322Z",
     "start_time": "2022-08-03T09:57:24.214808Z"
    }
   },
   "outputs": [
    {
     "data": {
      "text/html": [
       "<div>\n",
       "<style scoped>\n",
       "    .dataframe tbody tr th:only-of-type {\n",
       "        vertical-align: middle;\n",
       "    }\n",
       "\n",
       "    .dataframe tbody tr th {\n",
       "        vertical-align: top;\n",
       "    }\n",
       "\n",
       "    .dataframe thead th {\n",
       "        text-align: right;\n",
       "    }\n",
       "</style>\n",
       "<table border=\"1\" class=\"dataframe\">\n",
       "  <thead>\n",
       "    <tr style=\"text-align: right;\">\n",
       "      <th></th>\n",
       "      <th>season</th>\n",
       "      <th>team</th>\n",
       "      <th>player_cluster</th>\n",
       "      <th>player_alt</th>\n",
       "    </tr>\n",
       "  </thead>\n",
       "  <tbody>\n",
       "    <tr>\n",
       "      <th>1613</th>\n",
       "      <td>2021</td>\n",
       "      <td>Denver Nuggets</td>\n",
       "      <td>6</td>\n",
       "      <td>nikolajokic</td>\n",
       "    </tr>\n",
       "    <tr>\n",
       "      <th>1614</th>\n",
       "      <td>2021</td>\n",
       "      <td>Denver Nuggets</td>\n",
       "      <td>3</td>\n",
       "      <td>willbarton</td>\n",
       "    </tr>\n",
       "    <tr>\n",
       "      <th>1615</th>\n",
       "      <td>2021</td>\n",
       "      <td>Denver Nuggets</td>\n",
       "      <td>6</td>\n",
       "      <td>aarongordon</td>\n",
       "    </tr>\n",
       "    <tr>\n",
       "      <th>1616</th>\n",
       "      <td>2021</td>\n",
       "      <td>Denver Nuggets</td>\n",
       "      <td>1</td>\n",
       "      <td>montemorris</td>\n",
       "    </tr>\n",
       "    <tr>\n",
       "      <th>1617</th>\n",
       "      <td>2021</td>\n",
       "      <td>Denver Nuggets</td>\n",
       "      <td>1</td>\n",
       "      <td>nahshonhyland</td>\n",
       "    </tr>\n",
       "    <tr>\n",
       "      <th>1618</th>\n",
       "      <td>2021</td>\n",
       "      <td>Denver Nuggets</td>\n",
       "      <td>3</td>\n",
       "      <td>jeffgreen</td>\n",
       "    </tr>\n",
       "    <tr>\n",
       "      <th>1619</th>\n",
       "      <td>2021</td>\n",
       "      <td>Denver Nuggets</td>\n",
       "      <td>3</td>\n",
       "      <td>jamychalgreen</td>\n",
       "    </tr>\n",
       "    <tr>\n",
       "      <th>1620</th>\n",
       "      <td>2021</td>\n",
       "      <td>Denver Nuggets</td>\n",
       "      <td>2</td>\n",
       "      <td>austinrivers</td>\n",
       "    </tr>\n",
       "    <tr>\n",
       "      <th>1621</th>\n",
       "      <td>2021</td>\n",
       "      <td>Denver Nuggets</td>\n",
       "      <td>1</td>\n",
       "      <td>facundocampazzo</td>\n",
       "    </tr>\n",
       "    <tr>\n",
       "      <th>1622</th>\n",
       "      <td>2021</td>\n",
       "      <td>Denver Nuggets</td>\n",
       "      <td>6</td>\n",
       "      <td>demarcuscousins</td>\n",
       "    </tr>\n",
       "    <tr>\n",
       "      <th>1623</th>\n",
       "      <td>2021</td>\n",
       "      <td>Denver Nuggets</td>\n",
       "      <td>0</td>\n",
       "      <td>brynforbes</td>\n",
       "    </tr>\n",
       "    <tr>\n",
       "      <th>1624</th>\n",
       "      <td>2021</td>\n",
       "      <td>Denver Nuggets</td>\n",
       "      <td>3</td>\n",
       "      <td>zekennaji</td>\n",
       "    </tr>\n",
       "  </tbody>\n",
       "</table>\n",
       "</div>"
      ],
      "text/plain": [
       "      season            team  player_cluster       player_alt\n",
       "1613    2021  Denver Nuggets               6      nikolajokic\n",
       "1614    2021  Denver Nuggets               3       willbarton\n",
       "1615    2021  Denver Nuggets               6      aarongordon\n",
       "1616    2021  Denver Nuggets               1      montemorris\n",
       "1617    2021  Denver Nuggets               1    nahshonhyland\n",
       "1618    2021  Denver Nuggets               3        jeffgreen\n",
       "1619    2021  Denver Nuggets               3    jamychalgreen\n",
       "1620    2021  Denver Nuggets               2     austinrivers\n",
       "1621    2021  Denver Nuggets               1  facundocampazzo\n",
       "1622    2021  Denver Nuggets               6  demarcuscousins\n",
       "1623    2021  Denver Nuggets               0       brynforbes\n",
       "1624    2021  Denver Nuggets               3        zekennaji"
      ]
     },
     "execution_count": 102,
     "metadata": {},
     "output_type": "execute_result"
    }
   ],
   "source": [
    "team_cluster_lookup(2021, 'Denver Nuggets')"
   ]
  },
  {
   "cell_type": "code",
   "execution_count": 103,
   "id": "4b9fe772",
   "metadata": {
    "ExecuteTime": {
     "end_time": "2022-08-03T09:57:24.919783Z",
     "start_time": "2022-08-03T09:57:24.913231Z"
    }
   },
   "outputs": [],
   "source": [
    "player = 'Nikola Jokic'\n",
    "team = 'Denver Nuggets'\n",
    "season = 2021\n",
    "cluster = 6"
   ]
  },
  {
   "cell_type": "code",
   "execution_count": 104,
   "id": "44aa9e15",
   "metadata": {
    "ExecuteTime": {
     "end_time": "2022-08-03T09:57:25.466589Z",
     "start_time": "2022-08-03T09:57:25.455472Z"
    }
   },
   "outputs": [],
   "source": [
    "A_query, B_query = generate_player_queries(player, season, cluster)\n",
    "season_cond = lineup_df_100['season'] == season\n",
    "cluster_cond = lineup_df_100[cluster] > 0\n",
    "team_cond = lineup_df_100['team'] == team"
   ]
  },
  {
   "cell_type": "code",
   "execution_count": 105,
   "id": "32022926",
   "metadata": {
    "ExecuteTime": {
     "end_time": "2022-08-03T09:57:25.847451Z",
     "start_time": "2022-08-03T09:57:25.812157Z"
    }
   },
   "outputs": [
    {
     "data": {
      "text/plain": [
       "(7, 105, 9)"
      ]
     },
     "execution_count": 105,
     "metadata": {},
     "output_type": "execute_result"
    }
   ],
   "source": [
    "lineups_A = lineup_df_100[season_cond & cluster_cond].query(A_query)\\\n",
    "            ['adj_diff_to_league_avg'].values\n",
    "lineups_B = lineup_df_100[season_cond & cluster_cond].query(B_query)\\\n",
    "            ['adj_diff_to_league_avg'].values\n",
    "lineups_T = lineup_df_100[season_cond & team_cond]\\\n",
    "            ['adj_diff_to_league_avg'].values\n",
    "len(lineups_A), len(lineups_B), len(lineups_T)"
   ]
  },
  {
   "cell_type": "code",
   "execution_count": 106,
   "id": "e72a05a8",
   "metadata": {
    "ExecuteTime": {
     "end_time": "2022-08-03T09:57:26.604499Z",
     "start_time": "2022-08-03T09:57:26.581144Z"
    }
   },
   "outputs": [
    {
     "data": {
      "text/html": [
       "<div>\n",
       "<style scoped>\n",
       "    .dataframe tbody tr th:only-of-type {\n",
       "        vertical-align: middle;\n",
       "    }\n",
       "\n",
       "    .dataframe tbody tr th {\n",
       "        vertical-align: top;\n",
       "    }\n",
       "\n",
       "    .dataframe thead th {\n",
       "        text-align: right;\n",
       "    }\n",
       "</style>\n",
       "<table border=\"1\" class=\"dataframe\">\n",
       "  <thead>\n",
       "    <tr style=\"text-align: right;\">\n",
       "      <th></th>\n",
       "      <th>PG</th>\n",
       "      <th>SG</th>\n",
       "      <th>SF</th>\n",
       "      <th>PF</th>\n",
       "      <th>C</th>\n",
       "      <th>Poss</th>\n",
       "      <th>adj_diff_to_league_avg</th>\n",
       "    </tr>\n",
       "  </thead>\n",
       "  <tbody>\n",
       "    <tr>\n",
       "      <th>384</th>\n",
       "      <td>Monte Morris</td>\n",
       "      <td>Will Barton</td>\n",
       "      <td>Aaron Gordon</td>\n",
       "      <td>Jeff Green</td>\n",
       "      <td>Nikola Jokic</td>\n",
       "      <td>1563</td>\n",
       "      <td>10.644611</td>\n",
       "    </tr>\n",
       "    <tr>\n",
       "      <th>385</th>\n",
       "      <td>Monte Morris</td>\n",
       "      <td>Will Barton</td>\n",
       "      <td>Michael Porter</td>\n",
       "      <td>Aaron Gordon</td>\n",
       "      <td>Nikola Jokic</td>\n",
       "      <td>355</td>\n",
       "      <td>-6.355389</td>\n",
       "    </tr>\n",
       "    <tr>\n",
       "      <th>386</th>\n",
       "      <td>Monte Morris</td>\n",
       "      <td>Austin Rivers</td>\n",
       "      <td>Aaron Gordon</td>\n",
       "      <td>Jeff Green</td>\n",
       "      <td>Nikola Jokic</td>\n",
       "      <td>309</td>\n",
       "      <td>11.344611</td>\n",
       "    </tr>\n",
       "    <tr>\n",
       "      <th>387</th>\n",
       "      <td>Monte Morris</td>\n",
       "      <td>Austin Rivers</td>\n",
       "      <td>Will Barton</td>\n",
       "      <td>Aaron Gordon</td>\n",
       "      <td>Nikola Jokic</td>\n",
       "      <td>249</td>\n",
       "      <td>8.881176</td>\n",
       "    </tr>\n",
       "    <tr>\n",
       "      <th>389</th>\n",
       "      <td>Nah'Shon Hyland</td>\n",
       "      <td>Will Barton</td>\n",
       "      <td>Aaron Gordon</td>\n",
       "      <td>Jeff Green</td>\n",
       "      <td>Nikola Jokic</td>\n",
       "      <td>169</td>\n",
       "      <td>-0.242879</td>\n",
       "    </tr>\n",
       "    <tr>\n",
       "      <th>391</th>\n",
       "      <td>Monte Morris</td>\n",
       "      <td>Nah'Shon Hyland</td>\n",
       "      <td>Will Barton</td>\n",
       "      <td>Aaron Gordon</td>\n",
       "      <td>Nikola Jokic</td>\n",
       "      <td>137</td>\n",
       "      <td>11.595298</td>\n",
       "    </tr>\n",
       "    <tr>\n",
       "      <th>392</th>\n",
       "      <td>Monte Morris</td>\n",
       "      <td>Will Barton</td>\n",
       "      <td>Aaron Gordon</td>\n",
       "      <td>JaMychal Green</td>\n",
       "      <td>Nikola Jokic</td>\n",
       "      <td>116</td>\n",
       "      <td>-4.031783</td>\n",
       "    </tr>\n",
       "  </tbody>\n",
       "</table>\n",
       "</div>"
      ],
      "text/plain": [
       "                  PG               SG              SF              PF  \\\n",
       "384     Monte Morris      Will Barton    Aaron Gordon      Jeff Green   \n",
       "385     Monte Morris      Will Barton  Michael Porter    Aaron Gordon   \n",
       "386     Monte Morris    Austin Rivers    Aaron Gordon      Jeff Green   \n",
       "387     Monte Morris    Austin Rivers     Will Barton    Aaron Gordon   \n",
       "389  Nah'Shon Hyland      Will Barton    Aaron Gordon      Jeff Green   \n",
       "391     Monte Morris  Nah'Shon Hyland     Will Barton    Aaron Gordon   \n",
       "392     Monte Morris      Will Barton    Aaron Gordon  JaMychal Green   \n",
       "\n",
       "                C  Poss  adj_diff_to_league_avg  \n",
       "384  Nikola Jokic  1563               10.644611  \n",
       "385  Nikola Jokic   355               -6.355389  \n",
       "386  Nikola Jokic   309               11.344611  \n",
       "387  Nikola Jokic   249                8.881176  \n",
       "389  Nikola Jokic   169               -0.242879  \n",
       "391  Nikola Jokic   137               11.595298  \n",
       "392  Nikola Jokic   116               -4.031783  "
      ]
     },
     "execution_count": 106,
     "metadata": {},
     "output_type": "execute_result"
    }
   ],
   "source": [
    "lineup_df_100[season_cond & cluster_cond].query(A_query)\\\n",
    "[positions + ['Poss', 'adj_diff_to_league_avg']]"
   ]
  },
  {
   "cell_type": "code",
   "execution_count": 109,
   "id": "ce7c0309",
   "metadata": {
    "ExecuteTime": {
     "end_time": "2022-08-03T09:59:21.551748Z",
     "start_time": "2022-08-03T09:57:37.529432Z"
    }
   },
   "outputs": [
    {
     "name": "stderr",
     "output_type": "stream",
     "text": [
      "Multiprocess sampling (4 chains in 4 jobs)\n",
      "CompoundStep\n",
      ">Metropolis: [var_T]\n",
      ">Metropolis: [var_B]\n",
      ">Metropolis: [var_A]\n",
      ">Metropolis: [mu_T]\n",
      ">Metropolis: [mu_B]\n",
      ">Metropolis: [mu_A]\n",
      "Sampling 4 chains, 0 divergences: 100%|█| 82000/82000 [00:29<00:00, 2794.62draws\n",
      "The number of effective samples is smaller than 10% for some parameters.\n"
     ]
    }
   ],
   "source": [
    "dump = compare_player_efficiency(lineups_A, lineups_B, lineups_T)\n",
    "trace, avg_diff_A, avg_diff_B, avg_diff_T = dump"
   ]
  },
  {
   "cell_type": "code",
   "execution_count": 110,
   "id": "231fc515",
   "metadata": {
    "ExecuteTime": {
     "end_time": "2022-08-03T09:59:21.736560Z",
     "start_time": "2022-08-03T09:59:21.556153Z"
    }
   },
   "outputs": [],
   "source": [
    "burned_trace = trace[2000:]\n",
    "mu_A_samples = burned_trace['mu_A']\n",
    "mu_B_samples = burned_trace['mu_B']\n",
    "mu_T_samples = burned_trace['mu_T']\n",
    "delta_samples = burned_trace['delta']"
   ]
  },
  {
   "cell_type": "code",
   "execution_count": 111,
   "id": "faba0df9",
   "metadata": {
    "ExecuteTime": {
     "end_time": "2022-08-03T09:59:22.299296Z",
     "start_time": "2022-08-03T09:59:21.738928Z"
    }
   },
   "outputs": [
    {
     "data": {
      "image/png": "[encoded data removed]",
      "text/plain": [
       "<Figure size 936x720 with 3 Axes>"
      ]
     },
     "metadata": {
      "needs_background": "light"
     },
     "output_type": "display_data"
    }
   ],
   "source": [
    "figsize(13, 10)\n",
    "\n",
    "#histogram of posteriors\n",
    "\n",
    "plt.subplot(3, 1, 1)\n",
    "plt.hist(mu_A_samples, histtype='stepfilled', bins=25, alpha=0.65,\n",
    "         label=r'posterior of $\\mu A$', color='#2E5C6E')\n",
    "plt.vlines(avg_diff_A, 0, 20000, linestyle='--', \n",
    "           label=r'observed $\\mu A$')\n",
    "plt.legend(loc='upper right')\n",
    "plt.xlim(-15, 15)\n",
    "plt.xlabel('adjusted points scored per 100 possessions minus league average')\n",
    "plt.title(r'Posterior distributions of $\\mu A$, $\\mu B$, and $\\Delta$ unknowns')\n",
    "\n",
    "plt.subplot(3, 1, 2)\n",
    "plt.hist(mu_B_samples, histtype='stepfilled', bins=25, alpha=0.65,\n",
    "         label=r'posterior of $\\mu B$', color='#AB3B3A')\n",
    "plt.vlines(avg_diff_B, 0, 20000, linestyle='--', \n",
    "           label=r'observed $\\mu B$')\n",
    "# plt.hist(mu_T_samples, histtype='stepfilled', bins=25, alpha=0.65,\n",
    "#          label=r'posterior of $\\mu T$', color='yellow')\n",
    "# plt.vlines(avg_diff_T, 0, 20000, linestyle='-', \n",
    "#            label=r'observed $\\mu T$')\n",
    "plt.legend(loc='upper right')\n",
    "plt.xlim(-15, 15)\n",
    "plt.xlabel('adjusted points scored per 100 possessions minus league average')\n",
    "\n",
    "plt.subplot(3, 1, 3)\n",
    "plt.hist(delta_samples, histtype='stepfilled', bins=30, alpha=0.65,\n",
    "         label=r'posterior of $\\Delta$', color='#7A68A6')\n",
    "plt.vlines(avg_diff_A - avg_diff_B, 0, 20000, linestyle='--',\n",
    "           label=r'observed diff b/w $\\mu A$ and $\\mu B$')\n",
    "plt.vlines(0, 0, 20000, color='black', alpha=0.2)\n",
    "plt.legend(loc='upper right');\n",
    "plt.xlim(-15, 15)\n",
    "plt.xlabel('difference between the two lineup configurations')\n",
    "\n",
    "plt.tight_layout()"
   ]
  },
  {
   "cell_type": "markdown",
   "id": "53ee9c8d",
   "metadata": {},
   "source": [
    "### Ticket 7: \n",
    "#### Lineups w/ Russell Westbook\n",
    "#### vs. \n",
    "#### Lineups w/ Similar Configurations"
   ]
  },
  {
   "cell_type": "code",
   "execution_count": 112,
   "id": "6469f829",
   "metadata": {
    "ExecuteTime": {
     "end_time": "2022-08-03T09:59:22.312997Z",
     "start_time": "2022-08-03T09:59:22.303334Z"
    }
   },
   "outputs": [
    {
     "data": {
      "text/html": [
       "<div>\n",
       "<style scoped>\n",
       "    .dataframe tbody tr th:only-of-type {\n",
       "        vertical-align: middle;\n",
       "    }\n",
       "\n",
       "    .dataframe tbody tr th {\n",
       "        vertical-align: top;\n",
       "    }\n",
       "\n",
       "    .dataframe thead th {\n",
       "        text-align: right;\n",
       "    }\n",
       "</style>\n",
       "<table border=\"1\" class=\"dataframe\">\n",
       "  <thead>\n",
       "    <tr style=\"text-align: right;\">\n",
       "      <th></th>\n",
       "      <th>season</th>\n",
       "      <th>team</th>\n",
       "      <th>player_cluster</th>\n",
       "      <th>player_alt</th>\n",
       "    </tr>\n",
       "  </thead>\n",
       "  <tbody>\n",
       "    <tr>\n",
       "      <th>1427</th>\n",
       "      <td>2021</td>\n",
       "      <td>Los Angeles Lakers</td>\n",
       "      <td>2</td>\n",
       "      <td>russellwestbrook</td>\n",
       "    </tr>\n",
       "    <tr>\n",
       "      <th>1428</th>\n",
       "      <td>2021</td>\n",
       "      <td>Los Angeles Lakers</td>\n",
       "      <td>2</td>\n",
       "      <td>lebronjames</td>\n",
       "    </tr>\n",
       "    <tr>\n",
       "      <th>1429</th>\n",
       "      <td>2021</td>\n",
       "      <td>Los Angeles Lakers</td>\n",
       "      <td>3</td>\n",
       "      <td>malikmonk</td>\n",
       "    </tr>\n",
       "    <tr>\n",
       "      <th>1430</th>\n",
       "      <td>2021</td>\n",
       "      <td>Los Angeles Lakers</td>\n",
       "      <td>6</td>\n",
       "      <td>anthonydavis</td>\n",
       "    </tr>\n",
       "    <tr>\n",
       "      <th>1431</th>\n",
       "      <td>2021</td>\n",
       "      <td>Los Angeles Lakers</td>\n",
       "      <td>6</td>\n",
       "      <td>carmeloanthony</td>\n",
       "    </tr>\n",
       "    <tr>\n",
       "      <th>1432</th>\n",
       "      <td>2021</td>\n",
       "      <td>Los Angeles Lakers</td>\n",
       "      <td>1</td>\n",
       "      <td>talenhorton-tucker</td>\n",
       "    </tr>\n",
       "    <tr>\n",
       "      <th>1433</th>\n",
       "      <td>2021</td>\n",
       "      <td>Los Angeles Lakers</td>\n",
       "      <td>3</td>\n",
       "      <td>austinreaves</td>\n",
       "    </tr>\n",
       "    <tr>\n",
       "      <th>1434</th>\n",
       "      <td>2021</td>\n",
       "      <td>Los Angeles Lakers</td>\n",
       "      <td>3</td>\n",
       "      <td>averybradley</td>\n",
       "    </tr>\n",
       "    <tr>\n",
       "      <th>1435</th>\n",
       "      <td>2021</td>\n",
       "      <td>Los Angeles Lakers</td>\n",
       "      <td>5</td>\n",
       "      <td>dwighthoward</td>\n",
       "    </tr>\n",
       "    <tr>\n",
       "      <th>1436</th>\n",
       "      <td>2021</td>\n",
       "      <td>Los Angeles Lakers</td>\n",
       "      <td>3</td>\n",
       "      <td>stanleyjohnson</td>\n",
       "    </tr>\n",
       "    <tr>\n",
       "      <th>1437</th>\n",
       "      <td>2021</td>\n",
       "      <td>Los Angeles Lakers</td>\n",
       "      <td>3</td>\n",
       "      <td>wayneellington</td>\n",
       "    </tr>\n",
       "  </tbody>\n",
       "</table>\n",
       "</div>"
      ],
      "text/plain": [
       "      season                team  player_cluster          player_alt\n",
       "1427    2021  Los Angeles Lakers               2    russellwestbrook\n",
       "1428    2021  Los Angeles Lakers               2         lebronjames\n",
       "1429    2021  Los Angeles Lakers               3           malikmonk\n",
       "1430    2021  Los Angeles Lakers               6        anthonydavis\n",
       "1431    2021  Los Angeles Lakers               6      carmeloanthony\n",
       "1432    2021  Los Angeles Lakers               1  talenhorton-tucker\n",
       "1433    2021  Los Angeles Lakers               3        austinreaves\n",
       "1434    2021  Los Angeles Lakers               3        averybradley\n",
       "1435    2021  Los Angeles Lakers               5        dwighthoward\n",
       "1436    2021  Los Angeles Lakers               3      stanleyjohnson\n",
       "1437    2021  Los Angeles Lakers               3      wayneellington"
      ]
     },
     "execution_count": 112,
     "metadata": {},
     "output_type": "execute_result"
    }
   ],
   "source": [
    "team_cluster_lookup(2021, 'Los Angeles Lakers')"
   ]
  },
  {
   "cell_type": "code",
   "execution_count": 113,
   "id": "b9c9f98c",
   "metadata": {
    "ExecuteTime": {
     "end_time": "2022-08-03T09:59:22.319083Z",
     "start_time": "2022-08-03T09:59:22.315240Z"
    }
   },
   "outputs": [],
   "source": [
    "player = 'Russell Westbrook'\n",
    "team = 'Los Angeles Lakers'\n",
    "season = 2021\n",
    "cluster = 2"
   ]
  },
  {
   "cell_type": "code",
   "execution_count": 114,
   "id": "f975ce4c",
   "metadata": {
    "ExecuteTime": {
     "end_time": "2022-08-03T09:59:22.325534Z",
     "start_time": "2022-08-03T09:59:22.321477Z"
    }
   },
   "outputs": [],
   "source": [
    "A_query, B_query = generate_player_queries(player, season, cluster)\n",
    "season_cond = lineup_df_100['season'] == season\n",
    "cluster_cond = lineup_df_100[cluster] > 0\n",
    "team_cond = lineup_df_100['team'] == team"
   ]
  },
  {
   "cell_type": "code",
   "execution_count": 115,
   "id": "34ca5126",
   "metadata": {
    "ExecuteTime": {
     "end_time": "2022-08-03T09:59:22.354733Z",
     "start_time": "2022-08-03T09:59:22.327790Z"
    }
   },
   "outputs": [
    {
     "data": {
      "text/plain": [
       "(7, 190, 8)"
      ]
     },
     "execution_count": 115,
     "metadata": {},
     "output_type": "execute_result"
    }
   ],
   "source": [
    "lineups_A = lineup_df_100[season_cond & cluster_cond].query(A_query)\\\n",
    "            ['adj_diff_to_league_avg'].values\n",
    "lineups_B = lineup_df_100[season_cond & cluster_cond].query(B_query)\\\n",
    "            ['adj_diff_to_league_avg'].values\n",
    "lineups_T = lineup_df_100[season_cond & team_cond]\\\n",
    "            ['adj_diff_to_league_avg'].values\n",
    "len(lineups_A), len(lineups_B), len(lineups_T)"
   ]
  },
  {
   "cell_type": "code",
   "execution_count": 116,
   "id": "47697e5c",
   "metadata": {
    "ExecuteTime": {
     "end_time": "2022-08-03T09:59:22.387923Z",
     "start_time": "2022-08-03T09:59:22.357251Z"
    }
   },
   "outputs": [
    {
     "data": {
      "text/html": [
       "<div>\n",
       "<style scoped>\n",
       "    .dataframe tbody tr th:only-of-type {\n",
       "        vertical-align: middle;\n",
       "    }\n",
       "\n",
       "    .dataframe tbody tr th {\n",
       "        vertical-align: top;\n",
       "    }\n",
       "\n",
       "    .dataframe thead th {\n",
       "        text-align: right;\n",
       "    }\n",
       "</style>\n",
       "<table border=\"1\" class=\"dataframe\">\n",
       "  <thead>\n",
       "    <tr style=\"text-align: right;\">\n",
       "      <th></th>\n",
       "      <th>PG</th>\n",
       "      <th>SG</th>\n",
       "      <th>SF</th>\n",
       "      <th>PF</th>\n",
       "      <th>C</th>\n",
       "      <th>Poss</th>\n",
       "      <th>adj_diff_to_league_avg</th>\n",
       "    </tr>\n",
       "  </thead>\n",
       "  <tbody>\n",
       "    <tr>\n",
       "      <th>689</th>\n",
       "      <td>Russell Westbrook</td>\n",
       "      <td>Malik Monk</td>\n",
       "      <td>Avery Bradley</td>\n",
       "      <td>Stanley Johnson</td>\n",
       "      <td>LeBron James</td>\n",
       "      <td>190</td>\n",
       "      <td>6.928690</td>\n",
       "    </tr>\n",
       "    <tr>\n",
       "      <th>690</th>\n",
       "      <td>Russell Westbrook</td>\n",
       "      <td>Malik Monk</td>\n",
       "      <td>Austin Reaves</td>\n",
       "      <td>Stanley Johnson</td>\n",
       "      <td>LeBron James</td>\n",
       "      <td>160</td>\n",
       "      <td>2.307379</td>\n",
       "    </tr>\n",
       "    <tr>\n",
       "      <th>691</th>\n",
       "      <td>Russell Westbrook</td>\n",
       "      <td>Malik Monk</td>\n",
       "      <td>Avery Bradley</td>\n",
       "      <td>Carmelo Anthony</td>\n",
       "      <td>Anthony Davis</td>\n",
       "      <td>145</td>\n",
       "      <td>-4.161611</td>\n",
       "    </tr>\n",
       "    <tr>\n",
       "      <th>692</th>\n",
       "      <td>Russell Westbrook</td>\n",
       "      <td>Malik Monk</td>\n",
       "      <td>Austin Reaves</td>\n",
       "      <td>Carmelo Anthony</td>\n",
       "      <td>LeBron James</td>\n",
       "      <td>134</td>\n",
       "      <td>0.891131</td>\n",
       "    </tr>\n",
       "    <tr>\n",
       "      <th>693</th>\n",
       "      <td>Russell Westbrook</td>\n",
       "      <td>Avery Bradley</td>\n",
       "      <td>Talen Horton-Tucker</td>\n",
       "      <td>Carmelo Anthony</td>\n",
       "      <td>Anthony Davis</td>\n",
       "      <td>114</td>\n",
       "      <td>-1.058855</td>\n",
       "    </tr>\n",
       "    <tr>\n",
       "      <th>694</th>\n",
       "      <td>Russell Westbrook</td>\n",
       "      <td>Malik Monk</td>\n",
       "      <td>Avery Bradley</td>\n",
       "      <td>Stanley Johnson</td>\n",
       "      <td>Anthony Davis</td>\n",
       "      <td>113</td>\n",
       "      <td>-4.680788</td>\n",
       "    </tr>\n",
       "    <tr>\n",
       "      <th>696</th>\n",
       "      <td>Russell Westbrook</td>\n",
       "      <td>Kent Bazemore</td>\n",
       "      <td>LeBron James</td>\n",
       "      <td>Anthony Davis</td>\n",
       "      <td>DeAndre Jordan</td>\n",
       "      <td>104</td>\n",
       "      <td>-5.728848</td>\n",
       "    </tr>\n",
       "  </tbody>\n",
       "</table>\n",
       "</div>"
      ],
      "text/plain": [
       "                    PG             SG                   SF               PF  \\\n",
       "689  Russell Westbrook     Malik Monk        Avery Bradley  Stanley Johnson   \n",
       "690  Russell Westbrook     Malik Monk        Austin Reaves  Stanley Johnson   \n",
       "691  Russell Westbrook     Malik Monk        Avery Bradley  Carmelo Anthony   \n",
       "692  Russell Westbrook     Malik Monk        Austin Reaves  Carmelo Anthony   \n",
       "693  Russell Westbrook  Avery Bradley  Talen Horton-Tucker  Carmelo Anthony   \n",
       "694  Russell Westbrook     Malik Monk        Avery Bradley  Stanley Johnson   \n",
       "696  Russell Westbrook  Kent Bazemore         LeBron James    Anthony Davis   \n",
       "\n",
       "                  C  Poss  adj_diff_to_league_avg  \n",
       "689    LeBron James   190                6.928690  \n",
       "690    LeBron James   160                2.307379  \n",
       "691   Anthony Davis   145               -4.161611  \n",
       "692    LeBron James   134                0.891131  \n",
       "693   Anthony Davis   114               -1.058855  \n",
       "694   Anthony Davis   113               -4.680788  \n",
       "696  DeAndre Jordan   104               -5.728848  "
      ]
     },
     "execution_count": 116,
     "metadata": {},
     "output_type": "execute_result"
    }
   ],
   "source": [
    "lineup_df_100[season_cond & cluster_cond].query(A_query)\\\n",
    "[positions + ['Poss', 'adj_diff_to_league_avg']]"
   ]
  },
  {
   "cell_type": "code",
   "execution_count": 117,
   "id": "ca152c86",
   "metadata": {
    "ExecuteTime": {
     "end_time": "2022-08-03T10:01:02.550406Z",
     "start_time": "2022-08-03T09:59:22.391249Z"
    }
   },
   "outputs": [
    {
     "name": "stderr",
     "output_type": "stream",
     "text": [
      "Multiprocess sampling (4 chains in 4 jobs)\n",
      "CompoundStep\n",
      ">Metropolis: [var_T]\n",
      ">Metropolis: [var_B]\n",
      ">Metropolis: [var_A]\n",
      ">Metropolis: [mu_T]\n",
      ">Metropolis: [mu_B]\n",
      ">Metropolis: [mu_A]\n",
      "Sampling 4 chains, 0 divergences: 100%|█| 82000/82000 [00:30<00:00, 2680.88draws\n",
      "The number of effective samples is smaller than 10% for some parameters.\n"
     ]
    }
   ],
   "source": [
    "dump = compare_player_efficiency(lineups_A, lineups_B, lineups_T)\n",
    "trace, avg_diff_A, avg_diff_B, avg_diff_T = dump"
   ]
  },
  {
   "cell_type": "code",
   "execution_count": 118,
   "id": "5c7209d8",
   "metadata": {
    "ExecuteTime": {
     "end_time": "2022-08-03T10:01:02.762211Z",
     "start_time": "2022-08-03T10:01:02.555631Z"
    }
   },
   "outputs": [],
   "source": [
    "burned_trace = trace[2000:]\n",
    "mu_A_samples = burned_trace['mu_A']\n",
    "mu_B_samples = burned_trace['mu_B']\n",
    "mu_T_samples = burned_trace['mu_T']\n",
    "delta_samples = burned_trace['delta']"
   ]
  },
  {
   "cell_type": "code",
   "execution_count": 119,
   "id": "d0aac1fe",
   "metadata": {
    "ExecuteTime": {
     "end_time": "2022-08-03T10:01:03.382638Z",
     "start_time": "2022-08-03T10:01:02.764508Z"
    }
   },
   "outputs": [
    {
     "data": {
      "image/png": "[encoded data removed]",
      "text/plain": [
       "<Figure size 936x720 with 3 Axes>"
      ]
     },
     "metadata": {
      "needs_background": "light"
     },
     "output_type": "display_data"
    }
   ],
   "source": [
    "figsize(13, 10)\n",
    "\n",
    "#histogram of posteriors\n",
    "\n",
    "plt.subplot(3, 1, 1)\n",
    "plt.hist(mu_A_samples, histtype='stepfilled', bins=25, alpha=0.65,\n",
    "         label=r'posterior of $\\mu A$', color='#2E5C6E')\n",
    "plt.vlines(avg_diff_A, 0, 20000, linestyle='--', \n",
    "           label=r'observed $\\mu A$')\n",
    "plt.legend(loc='upper right')\n",
    "plt.xlim(-15, 15)\n",
    "plt.xlabel('adjusted points scored per 100 possessions minus league average')\n",
    "plt.title(r'Posterior distributions of $\\mu A$, $\\mu B$, and $\\Delta$ unknowns')\n",
    "\n",
    "plt.subplot(3, 1, 2)\n",
    "plt.hist(mu_B_samples, histtype='stepfilled', bins=25, alpha=0.65,\n",
    "         label=r'posterior of $\\mu B$', color='#AB3B3A')\n",
    "plt.vlines(avg_diff_B, 0, 20000, linestyle='--', \n",
    "           label=r'observed $\\mu B$')\n",
    "# plt.hist(mu_T_samples, histtype='stepfilled', bins=25, alpha=0.65,\n",
    "#          label=r'posterior of $\\mu T$', color='yellow')\n",
    "# plt.vlines(avg_diff_T, 0, 20000, linestyle='-', \n",
    "#            label=r'observed $\\mu T$')\n",
    "plt.legend(loc='upper right')\n",
    "plt.xlim(-15, 15)\n",
    "plt.xlabel('adjusted points scored per 100 possessions minus league average')\n",
    "\n",
    "plt.subplot(3, 1, 3)\n",
    "plt.hist(delta_samples, histtype='stepfilled', bins=30, alpha=0.65,\n",
    "         label=r'posterior of $\\Delta$', color='#7A68A6')\n",
    "plt.vlines(avg_diff_A - avg_diff_B, 0, 20000, linestyle='--',\n",
    "           label=r'observed diff b/w $\\mu A$ and $\\mu B$')\n",
    "plt.vlines(0, 0, 20000, color='black', alpha=0.2)\n",
    "plt.legend(loc='upper right');\n",
    "plt.xlim(-15, 15)\n",
    "plt.xlabel('difference between the two lineup configurations')\n",
    "\n",
    "plt.tight_layout()"
   ]
  }
 ],
 "metadata": {
  "kernelspec": {
   "display_name": "Python 3 (ipykernel)",
   "language": "python",
   "name": "python3"
  },
  "language_info": {
   "codemirror_mode": {
    "name": "ipython",
    "version": 3
   },
   "file_extension": ".py",
   "mimetype": "text/x-python",
   "name": "python",
   "nbconvert_exporter": "python",
   "pygments_lexer": "ipython3",
   "version": "3.8.12"
  }
 },
 "nbformat": 4,
 "nbformat_minor": 5
}
