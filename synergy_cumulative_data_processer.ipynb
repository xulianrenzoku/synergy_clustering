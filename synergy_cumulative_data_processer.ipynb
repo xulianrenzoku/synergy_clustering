{
 "cells": [
  {
   "cell_type": "code",
   "execution_count": 1,
   "metadata": {
    "ExecuteTime": {
     "end_time": "2022-03-02T07:39:49.176601Z",
     "start_time": "2022-03-02T07:39:48.567425Z"
    }
   },
   "outputs": [],
   "source": [
    "import pandas as pd\n",
    "import numpy as np\n",
    "import os\n",
    "import time\n",
    "import pickle\n",
    "from bs4 import BeautifulSoup"
   ]
  },
  {
   "cell_type": "markdown",
   "metadata": {},
   "source": [
    "## Basic Functions"
   ]
  },
  {
   "cell_type": "code",
   "execution_count": 2,
   "metadata": {
    "ExecuteTime": {
     "end_time": "2022-03-02T07:39:49.184415Z",
     "start_time": "2022-03-02T07:39:49.180182Z"
    }
   },
   "outputs": [],
   "source": [
    "def read_html(filename):\n",
    "    soup = BeautifulSoup(open(filename), \"html.parser\")\n",
    "    return soup"
   ]
  },
  {
   "cell_type": "code",
   "execution_count": 3,
   "metadata": {
    "ExecuteTime": {
     "end_time": "2022-03-02T07:39:49.192267Z",
     "start_time": "2022-03-02T07:39:49.186936Z"
    }
   },
   "outputs": [],
   "source": [
    "def dump_pickle(file, filename):\n",
    "    outfile = open(filename, 'wb')\n",
    "    pickle.dump(file, outfile)\n",
    "    outfile.close()\n",
    "\n",
    "def load_pickle(filename):\n",
    "    infile = open(filename, 'rb')\n",
    "    file = pickle.load(infile)\n",
    "    infile.close()\n",
    "    return file"
   ]
  },
  {
   "cell_type": "markdown",
   "metadata": {},
   "source": [
    "## Content"
   ]
  },
  {
   "cell_type": "code",
   "execution_count": 4,
   "metadata": {
    "ExecuteTime": {
     "end_time": "2022-03-02T07:39:49.202306Z",
     "start_time": "2022-03-02T07:39:49.196400Z"
    }
   },
   "outputs": [],
   "source": [
    "def get_team_cumulative_df(soup, season):\n",
    "    tables = soup.find_all('table')\n",
    "    data = [[td.text for td in row.find_all('td')]\n",
    "             for row in tables[0].find_all('tr')]\n",
    "    df = pd.DataFrame(data[1:len(data)-1], columns=data[0])\n",
    "    df['Season'] = season\n",
    "    team = df.columns[0]\n",
    "    df['Team'] = team\n",
    "    return df.rename(columns={team:'Player'})"
   ]
  },
  {
   "cell_type": "code",
   "execution_count": 5,
   "metadata": {
    "ExecuteTime": {
     "end_time": "2022-03-02T07:39:49.212405Z",
     "start_time": "2022-03-02T07:39:49.206193Z"
    }
   },
   "outputs": [],
   "source": [
    "def get_season_cumulative_df(season, league):\n",
    "    print(season)\n",
    "    season_dfs = {}\n",
    "    directory = f'data_{league}_{season}'\n",
    "    \n",
    "    team_cumulative_dfs = []\n",
    "    for file in os.listdir(directory):\n",
    "        if 'box' in file:\n",
    "            soup = read_html(f'{directory}/{file}')\n",
    "            team_cumulative_dfs.append(get_team_cumulative_df(soup, season))\n",
    "    return pd.concat(team_cumulative_dfs)"
   ]
  },
  {
   "cell_type": "markdown",
   "metadata": {},
   "source": [
    "### CBA"
   ]
  },
  {
   "cell_type": "code",
   "execution_count": 6,
   "metadata": {
    "ExecuteTime": {
     "end_time": "2022-03-02T07:39:50.884547Z",
     "start_time": "2022-03-02T07:39:49.215105Z"
    }
   },
   "outputs": [
    {
     "name": "stdout",
     "output_type": "stream",
     "text": [
      "2017\n",
      "2018\n",
      "2019\n",
      "2020\n"
     ]
    }
   ],
   "source": [
    "cba_dfs = {season: get_season_cumulative_df(season, 'cba')\n",
    "           for season in range(2017, 2021)}"
   ]
  },
  {
   "cell_type": "markdown",
   "metadata": {},
   "source": [
    "### Euroleague"
   ]
  },
  {
   "cell_type": "code",
   "execution_count": 7,
   "metadata": {
    "ExecuteTime": {
     "end_time": "2022-03-02T07:39:55.659330Z",
     "start_time": "2022-03-02T07:39:50.887133Z"
    }
   },
   "outputs": [
    {
     "name": "stdout",
     "output_type": "stream",
     "text": [
      "2016\n",
      "2017\n",
      "2018\n",
      "2019\n",
      "2020\n"
     ]
    }
   ],
   "source": [
    "euroleague_dfs = {season: get_season_cumulative_df(season, 'euroleague')\n",
    "                  for season in range(2016, 2021)}"
   ]
  },
  {
   "cell_type": "code",
   "execution_count": 8,
   "metadata": {
    "ExecuteTime": {
     "end_time": "2022-03-02T07:39:55.731643Z",
     "start_time": "2022-03-02T07:39:55.661258Z"
    }
   },
   "outputs": [
    {
     "data": {
      "text/html": [
       "<div>\n",
       "<style scoped>\n",
       "    .dataframe tbody tr th:only-of-type {\n",
       "        vertical-align: middle;\n",
       "    }\n",
       "\n",
       "    .dataframe tbody tr th {\n",
       "        vertical-align: top;\n",
       "    }\n",
       "\n",
       "    .dataframe thead th {\n",
       "        text-align: right;\n",
       "    }\n",
       "</style>\n",
       "<table border=\"1\" class=\"dataframe\">\n",
       "  <thead>\n",
       "    <tr style=\"text-align: right;\">\n",
       "      <th></th>\n",
       "      <th>Player</th>\n",
       "      <th>Min</th>\n",
       "      <th>Team</th>\n",
       "      <th>Season</th>\n",
       "      <th>Overall_Poss</th>\n",
       "    </tr>\n",
       "  </thead>\n",
       "  <tbody>\n",
       "    <tr>\n",
       "      <th>79</th>\n",
       "      <td>#36 Alex Suarez</td>\n",
       "      <td>NaN</td>\n",
       "      <td>Real Madrid</td>\n",
       "      <td>2016</td>\n",
       "      <td>1</td>\n",
       "    </tr>\n",
       "  </tbody>\n",
       "</table>\n",
       "</div>"
      ],
      "text/plain": [
       "             Player  Min         Team  Season  Overall_Poss\n",
       "79  #36 Alex Suarez  NaN  Real Madrid    2016             1"
      ]
     },
     "execution_count": 8,
     "metadata": {},
     "output_type": "execute_result"
    }
   ],
   "source": [
    "s_df = pd.read_csv('euroleague_offense.csv')\n",
    "s_df['Player_Alt'] = s_df['Player'].apply(lambda x: ' '.join(x.split(' ')[1:]))\\\n",
    "                                   .apply(lambda x: x.replace(' ', '').lower())\\\n",
    "                                   .apply(lambda x: x.replace(\"'\", ''))\\\n",
    "                                   .apply(lambda x: x.replace('.', ''))\n",
    "c_df = pd.concat([euroleague_dfs[season] for season in range(2016, 2021)])\n",
    "c_df['Player_Alt'] = c_df['Player'].apply(lambda x: ' '.join(x.split(' ')[1:]))\\\n",
    "                                   .apply(lambda x: x.replace(' ', '').lower())\\\n",
    "                                   .apply(lambda x: x.replace(\"'\", ''))\\\n",
    "                                   .apply(lambda x: x.replace('.', ''))\n",
    "temp = s_df.merge(c_df.drop('Player', axis=1), \n",
    "                  on=['Player_Alt', 'Team', 'Season'], \n",
    "                  how='left')\n",
    "temp[temp['Min'].isna()][['Player', 'Min', 'Team', 'Season', 'Overall_Poss']]"
   ]
  },
  {
   "cell_type": "code",
   "execution_count": 9,
   "metadata": {
    "ExecuteTime": {
     "end_time": "2022-03-02T07:39:55.835082Z",
     "start_time": "2022-03-02T07:39:55.733482Z"
    }
   },
   "outputs": [],
   "source": [
    "s_df.merge(c_df.drop('Player', axis=1), \n",
    "           on=['Player_Alt', 'Team', 'Season'], \n",
    "           how='left')\\\n",
    "    .drop('Player_Alt', axis=1)\\\n",
    "    .to_csv('euroleague_offense_cumulative.csv', index=False)"
   ]
  },
  {
   "cell_type": "markdown",
   "metadata": {},
   "source": [
    "### NBA"
   ]
  },
  {
   "cell_type": "code",
   "execution_count": 10,
   "metadata": {
    "ExecuteTime": {
     "end_time": "2022-03-02T07:40:06.642077Z",
     "start_time": "2022-03-02T07:39:55.837078Z"
    }
   },
   "outputs": [
    {
     "name": "stdout",
     "output_type": "stream",
     "text": [
      "2016\n",
      "2017\n",
      "2018\n",
      "2019\n",
      "2020\n"
     ]
    }
   ],
   "source": [
    "nba_dfs = {season: get_season_cumulative_df(season, 'nba')\n",
    "           for season in range(2016, 2021)}"
   ]
  },
  {
   "cell_type": "code",
   "execution_count": 11,
   "metadata": {
    "ExecuteTime": {
     "end_time": "2022-03-02T07:40:06.738677Z",
     "start_time": "2022-03-02T07:40:06.643588Z"
    }
   },
   "outputs": [
    {
     "data": {
      "text/html": [
       "<div>\n",
       "<style scoped>\n",
       "    .dataframe tbody tr th:only-of-type {\n",
       "        vertical-align: middle;\n",
       "    }\n",
       "\n",
       "    .dataframe tbody tr th {\n",
       "        vertical-align: top;\n",
       "    }\n",
       "\n",
       "    .dataframe thead th {\n",
       "        text-align: right;\n",
       "    }\n",
       "</style>\n",
       "<table border=\"1\" class=\"dataframe\">\n",
       "  <thead>\n",
       "    <tr style=\"text-align: right;\">\n",
       "      <th></th>\n",
       "      <th>Player</th>\n",
       "      <th>Min</th>\n",
       "      <th>Team</th>\n",
       "      <th>Season</th>\n",
       "      <th>Overall_Poss</th>\n",
       "    </tr>\n",
       "  </thead>\n",
       "  <tbody>\n",
       "    <tr>\n",
       "      <th>1410</th>\n",
       "      <td>#5 Richard Solomon</td>\n",
       "      <td>NaN</td>\n",
       "      <td>Oklahoma City Thunder</td>\n",
       "      <td>2018</td>\n",
       "      <td>1</td>\n",
       "    </tr>\n",
       "  </tbody>\n",
       "</table>\n",
       "</div>"
      ],
      "text/plain": [
       "                  Player  Min                   Team  Season  Overall_Poss\n",
       "1410  #5 Richard Solomon  NaN  Oklahoma City Thunder    2018             1"
      ]
     },
     "execution_count": 11,
     "metadata": {},
     "output_type": "execute_result"
    }
   ],
   "source": [
    "s_df = pd.read_csv('nba_offense.csv')\n",
    "s_df['Player_Alt'] = s_df['Player'].apply(lambda x: ' '.join(x.split(' ')[1:]))\\\n",
    "                                   .apply(lambda x: x.replace(' ', '').lower())\\\n",
    "                                   .apply(lambda x: x.replace(\"'\", ''))\\\n",
    "                                   .apply(lambda x: x.replace('.', ''))\n",
    "c_df = pd.concat([nba_dfs[season] for season in range(2016, 2021)])\n",
    "c_df['Player_Alt'] = c_df['Player'].apply(lambda x: ' '.join(x.split(' ')[1:]))\\\n",
    "                                   .apply(lambda x: x.replace(' ', '').lower())\\\n",
    "                                   .apply(lambda x: x.replace(\"'\", ''))\\\n",
    "                                   .apply(lambda x: x.replace('.', ''))\n",
    "temp = s_df.merge(c_df.drop('Player', axis=1), \n",
    "                  on=['Player_Alt', 'Team', 'Season'], \n",
    "                  how='left')\n",
    "temp[temp['Min'].isna()][['Player', 'Min', 'Team', 'Season', 'Overall_Poss']]"
   ]
  },
  {
   "cell_type": "code",
   "execution_count": 12,
   "metadata": {
    "ExecuteTime": {
     "end_time": "2022-03-02T07:40:06.955055Z",
     "start_time": "2022-03-02T07:40:06.741112Z"
    }
   },
   "outputs": [],
   "source": [
    "s_df.merge(c_df.drop('Player', axis=1), \n",
    "           on=['Player_Alt', 'Team', 'Season'], \n",
    "           how='left')\\\n",
    "    .drop('Player_Alt', axis=1)\\\n",
    "    .to_csv('nba_offense_cumulative.csv', index=False)"
   ]
  },
  {
   "cell_type": "markdown",
   "metadata": {},
   "source": [
    "### NBL"
   ]
  },
  {
   "cell_type": "code",
   "execution_count": 13,
   "metadata": {
    "ExecuteTime": {
     "end_time": "2022-03-02T07:40:09.339855Z",
     "start_time": "2022-03-02T07:40:06.957955Z"
    }
   },
   "outputs": [
    {
     "name": "stdout",
     "output_type": "stream",
     "text": [
      "2016\n",
      "2017\n",
      "2018\n",
      "2019\n",
      "2020\n"
     ]
    }
   ],
   "source": [
    "nbl_dfs = {season: get_season_cumulative_df(season, 'nbl')\n",
    "           for season in range(2016, 2021)}"
   ]
  },
  {
   "cell_type": "code",
   "execution_count": 14,
   "metadata": {
    "ExecuteTime": {
     "end_time": "2022-03-02T07:40:09.394397Z",
     "start_time": "2022-03-02T07:40:09.341480Z"
    }
   },
   "outputs": [
    {
     "data": {
      "text/html": [
       "<div>\n",
       "<style scoped>\n",
       "    .dataframe tbody tr th:only-of-type {\n",
       "        vertical-align: middle;\n",
       "    }\n",
       "\n",
       "    .dataframe tbody tr th {\n",
       "        vertical-align: top;\n",
       "    }\n",
       "\n",
       "    .dataframe thead th {\n",
       "        text-align: right;\n",
       "    }\n",
       "</style>\n",
       "<table border=\"1\" class=\"dataframe\">\n",
       "  <thead>\n",
       "    <tr style=\"text-align: right;\">\n",
       "      <th></th>\n",
       "      <th>Player</th>\n",
       "      <th>Min</th>\n",
       "      <th>Team</th>\n",
       "      <th>Season</th>\n",
       "      <th>Overall_Poss</th>\n",
       "    </tr>\n",
       "  </thead>\n",
       "  <tbody>\n",
       "    <tr>\n",
       "      <th>293</th>\n",
       "      <td>#32 Deng Acouth</td>\n",
       "      <td>NaN</td>\n",
       "      <td>Sydney Kings</td>\n",
       "      <td>2018</td>\n",
       "      <td>1</td>\n",
       "    </tr>\n",
       "  </tbody>\n",
       "</table>\n",
       "</div>"
      ],
      "text/plain": [
       "              Player  Min          Team  Season  Overall_Poss\n",
       "293  #32 Deng Acouth  NaN  Sydney Kings    2018             1"
      ]
     },
     "execution_count": 14,
     "metadata": {},
     "output_type": "execute_result"
    }
   ],
   "source": [
    "s_df = pd.read_csv('nbl_offense.csv')\n",
    "s_df['Player_Alt'] = s_df['Player'].apply(lambda x: ' '.join(x.split(' ')[1:]))\\\n",
    "                                   .apply(lambda x: x.replace(' ', '').lower())\\\n",
    "                                   .apply(lambda x: x.replace(\"'\", ''))\\\n",
    "                                   .apply(lambda x: x.replace('.', ''))\n",
    "c_df = pd.concat([nbl_dfs[season] for season in range(2016, 2021)])\n",
    "c_df['Player_Alt'] = c_df['Player'].apply(lambda x: ' '.join(x.split(' ')[1:]))\\\n",
    "                                   .apply(lambda x: x.replace(' ', '').lower())\\\n",
    "                                   .apply(lambda x: x.replace(\"'\", ''))\\\n",
    "                                   .apply(lambda x: x.replace('.', ''))\n",
    "temp = s_df.merge(c_df.drop('Player', axis=1), \n",
    "                  on=['Player_Alt', 'Team', 'Season'], \n",
    "                  how='left')\n",
    "temp[temp['Min'].isna()][['Player', 'Min', 'Team', 'Season', 'Overall_Poss']]"
   ]
  },
  {
   "cell_type": "code",
   "execution_count": 15,
   "metadata": {
    "ExecuteTime": {
     "end_time": "2022-03-02T07:40:09.454926Z",
     "start_time": "2022-03-02T07:40:09.396480Z"
    }
   },
   "outputs": [],
   "source": [
    "s_df.merge(c_df.drop('Player', axis=1), \n",
    "           on=['Player_Alt', 'Team', 'Season'], \n",
    "           how='left')\\\n",
    "    .drop('Player_Alt', axis=1)\\\n",
    "    .to_csv('nbl_offense_cumulative.csv', index=False)"
   ]
  },
  {
   "cell_type": "code",
   "execution_count": null,
   "metadata": {},
   "outputs": [],
   "source": []
  }
 ],
 "metadata": {
  "kernelspec": {
   "display_name": "Python 3",
   "language": "python",
   "name": "python3"
  },
  "language_info": {
   "codemirror_mode": {
    "name": "ipython",
    "version": 3
   },
   "file_extension": ".py",
   "mimetype": "text/x-python",
   "name": "python",
   "nbconvert_exporter": "python",
   "pygments_lexer": "ipython3",
   "version": "3.6.7"
  }
 },
 "nbformat": 4,
 "nbformat_minor": 2
}
