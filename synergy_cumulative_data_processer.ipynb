{
 "cells": [
  {
   "cell_type": "code",
   "execution_count": 1,
   "metadata": {
    "ExecuteTime": {
     "end_time": "2022-05-04T11:07:46.868239Z",
     "start_time": "2022-05-04T11:07:46.153285Z"
    }
   },
   "outputs": [],
   "source": [
    "import pandas as pd\n",
    "import numpy as np\n",
    "import os\n",
    "import time\n",
    "import pickle\n",
    "from bs4 import BeautifulSoup"
   ]
  },
  {
   "cell_type": "markdown",
   "metadata": {},
   "source": [
    "## Basic Functions"
   ]
  },
  {
   "cell_type": "code",
   "execution_count": 2,
   "metadata": {
    "ExecuteTime": {
     "end_time": "2022-05-04T11:07:46.895660Z",
     "start_time": "2022-05-04T11:07:46.892057Z"
    }
   },
   "outputs": [],
   "source": [
    "def read_html(filename):\n",
    "    soup = BeautifulSoup(open(filename), \"html.parser\")\n",
    "    return soup"
   ]
  },
  {
   "cell_type": "code",
   "execution_count": 3,
   "metadata": {
    "ExecuteTime": {
     "end_time": "2022-05-04T11:07:47.169552Z",
     "start_time": "2022-05-04T11:07:47.166387Z"
    }
   },
   "outputs": [],
   "source": [
    "def dump_pickle(file, filename):\n",
    "    outfile = open(filename, 'wb')\n",
    "    pickle.dump(file, outfile)\n",
    "    outfile.close()\n",
    "\n",
    "def load_pickle(filename):\n",
    "    infile = open(filename, 'rb')\n",
    "    file = pickle.load(infile)\n",
    "    infile.close()\n",
    "    return file"
   ]
  },
  {
   "cell_type": "markdown",
   "metadata": {},
   "source": [
    "## Content"
   ]
  },
  {
   "cell_type": "code",
   "execution_count": 4,
   "metadata": {
    "ExecuteTime": {
     "end_time": "2022-05-04T11:07:48.081424Z",
     "start_time": "2022-05-04T11:07:48.077307Z"
    }
   },
   "outputs": [],
   "source": [
    "def get_team_cumulative_df(soup, season):\n",
    "    tables = soup.find_all('table')\n",
    "    data = [[td.text for td in row.find_all('td')]\n",
    "             for row in tables[0].find_all('tr')]\n",
    "    df = pd.DataFrame(data[1:len(data)-1], columns=data[0])\n",
    "    df['Season'] = season\n",
    "    team = df.columns[0]\n",
    "    df['Team'] = team\n",
    "    return df.rename(columns={team:'Player'})"
   ]
  },
  {
   "cell_type": "code",
   "execution_count": 5,
   "metadata": {
    "ExecuteTime": {
     "end_time": "2022-05-04T11:07:48.445073Z",
     "start_time": "2022-05-04T11:07:48.441024Z"
    }
   },
   "outputs": [],
   "source": [
    "def get_season_cumulative_df(season, league):\n",
    "    print(season)\n",
    "    season_dfs = {}\n",
    "    directory = f'data_{league}_{season}'\n",
    "    \n",
    "    team_cumulative_dfs = []\n",
    "    for file in os.listdir(directory):\n",
    "        if 'box' in file:\n",
    "            soup = read_html(f'{directory}/{file}')\n",
    "            team_cumulative_dfs.append(get_team_cumulative_df(soup, season))\n",
    "    return pd.concat(team_cumulative_dfs)"
   ]
  },
  {
   "cell_type": "markdown",
   "metadata": {},
   "source": [
    "### CBA"
   ]
  },
  {
   "cell_type": "code",
   "execution_count": 6,
   "metadata": {
    "ExecuteTime": {
     "end_time": "2022-05-04T11:07:56.431929Z",
     "start_time": "2022-05-04T11:07:56.429842Z"
    }
   },
   "outputs": [],
   "source": [
    "# cba_dfs = {season: get_season_cumulative_df(season, 'cba')\n",
    "#            for season in range(2017, 2021)}"
   ]
  },
  {
   "cell_type": "markdown",
   "metadata": {},
   "source": [
    "### Euroleague"
   ]
  },
  {
   "cell_type": "code",
   "execution_count": 7,
   "metadata": {
    "ExecuteTime": {
     "end_time": "2022-05-04T11:07:56.841655Z",
     "start_time": "2022-05-04T11:07:56.839114Z"
    }
   },
   "outputs": [],
   "source": [
    "# euroleague_dfs = {season: get_season_cumulative_df(season, 'euroleague')\n",
    "#                   for season in range(2016, 2021)}"
   ]
  },
  {
   "cell_type": "code",
   "execution_count": 8,
   "metadata": {
    "ExecuteTime": {
     "end_time": "2022-05-04T11:07:57.020837Z",
     "start_time": "2022-05-04T11:07:57.018156Z"
    }
   },
   "outputs": [],
   "source": [
    "# s_df = pd.read_csv('euroleague_offense.csv')\n",
    "# s_df['Player_Alt'] = s_df['Player'].apply(lambda x: ' '.join(x.split(' ')[1:]))\\\n",
    "#                                    .apply(lambda x: x.replace(' ', '').lower())\\\n",
    "#                                    .apply(lambda x: x.replace(\"'\", ''))\\\n",
    "#                                    .apply(lambda x: x.replace('.', ''))\n",
    "# c_df = pd.concat([euroleague_dfs[season] for season in range(2016, 2021)])\n",
    "# c_df['Player_Alt'] = c_df['Player'].apply(lambda x: ' '.join(x.split(' ')[1:]))\\\n",
    "#                                    .apply(lambda x: x.replace(' ', '').lower())\\\n",
    "#                                    .apply(lambda x: x.replace(\"'\", ''))\\\n",
    "#                                    .apply(lambda x: x.replace('.', ''))\n",
    "# temp = s_df.merge(c_df.drop('Player', axis=1), \n",
    "#                   on=['Player_Alt', 'Team', 'Season'], \n",
    "#                   how='left')\n",
    "# temp[temp['Min'].isna()][['Player', 'Min', 'Team', 'Season', 'Overall_Poss']]"
   ]
  },
  {
   "cell_type": "code",
   "execution_count": 9,
   "metadata": {
    "ExecuteTime": {
     "end_time": "2022-05-04T11:07:57.236822Z",
     "start_time": "2022-05-04T11:07:57.234552Z"
    }
   },
   "outputs": [],
   "source": [
    "# s_df.merge(c_df.drop('Player', axis=1), \n",
    "#            on=['Player_Alt', 'Team', 'Season'], \n",
    "#            how='left')\\\n",
    "#     .drop('Player_Alt', axis=1)\\\n",
    "#     .to_csv('euroleague_offense_cumulative.csv', index=False)"
   ]
  },
  {
   "cell_type": "markdown",
   "metadata": {},
   "source": [
    "### NBA"
   ]
  },
  {
   "cell_type": "code",
   "execution_count": 10,
   "metadata": {
    "ExecuteTime": {
     "end_time": "2022-05-04T11:08:13.546033Z",
     "start_time": "2022-05-04T11:07:57.916585Z"
    }
   },
   "outputs": [
    {
     "name": "stdout",
     "output_type": "stream",
     "text": [
      "2016\n",
      "2017\n",
      "2018\n",
      "2019\n",
      "2020\n",
      "2021\n"
     ]
    }
   ],
   "source": [
    "nba_dfs = {season: get_season_cumulative_df(season, 'nba')\n",
    "           for season in range(2016, 2022)}"
   ]
  },
  {
   "cell_type": "code",
   "execution_count": 11,
   "metadata": {
    "ExecuteTime": {
     "end_time": "2022-05-04T11:08:13.662030Z",
     "start_time": "2022-05-04T11:08:13.548999Z"
    }
   },
   "outputs": [
    {
     "data": {
      "text/html": [
       "<div>\n",
       "<style scoped>\n",
       "    .dataframe tbody tr th:only-of-type {\n",
       "        vertical-align: middle;\n",
       "    }\n",
       "\n",
       "    .dataframe tbody tr th {\n",
       "        vertical-align: top;\n",
       "    }\n",
       "\n",
       "    .dataframe thead th {\n",
       "        text-align: right;\n",
       "    }\n",
       "</style>\n",
       "<table border=\"1\" class=\"dataframe\">\n",
       "  <thead>\n",
       "    <tr style=\"text-align: right;\">\n",
       "      <th></th>\n",
       "      <th>Player</th>\n",
       "      <th>Min</th>\n",
       "      <th>Team</th>\n",
       "      <th>Season</th>\n",
       "      <th>Overall_Poss</th>\n",
       "    </tr>\n",
       "  </thead>\n",
       "  <tbody>\n",
       "    <tr>\n",
       "      <th>1410</th>\n",
       "      <td>#5 Richard Solomon</td>\n",
       "      <td>NaN</td>\n",
       "      <td>Oklahoma City Thunder</td>\n",
       "      <td>2018</td>\n",
       "      <td>1</td>\n",
       "    </tr>\n",
       "    <tr>\n",
       "      <th>2974</th>\n",
       "      <td>#12 Ja Morant</td>\n",
       "      <td>NaN</td>\n",
       "      <td>Memphis Grizzlies</td>\n",
       "      <td>2021</td>\n",
       "      <td>1560</td>\n",
       "    </tr>\n",
       "    <tr>\n",
       "      <th>2975</th>\n",
       "      <td>#13 Jaren Jackson Jr.</td>\n",
       "      <td>NaN</td>\n",
       "      <td>Memphis Grizzlies</td>\n",
       "      <td>2021</td>\n",
       "      <td>1317</td>\n",
       "    </tr>\n",
       "    <tr>\n",
       "      <th>2976</th>\n",
       "      <td>#22 Desmond Bane</td>\n",
       "      <td>NaN</td>\n",
       "      <td>Memphis Grizzlies</td>\n",
       "      <td>2021</td>\n",
       "      <td>1266</td>\n",
       "    </tr>\n",
       "    <tr>\n",
       "      <th>2977</th>\n",
       "      <td>#0 De'Anthony Melton</td>\n",
       "      <td>NaN</td>\n",
       "      <td>Memphis Grizzlies</td>\n",
       "      <td>2021</td>\n",
       "      <td>861</td>\n",
       "    </tr>\n",
       "    <tr>\n",
       "      <th>...</th>\n",
       "      <td>...</td>\n",
       "      <td>...</td>\n",
       "      <td>...</td>\n",
       "      <td>...</td>\n",
       "      <td>...</td>\n",
       "    </tr>\n",
       "    <tr>\n",
       "      <th>3671</th>\n",
       "      <td>#12 Hassani Gravett</td>\n",
       "      <td>NaN</td>\n",
       "      <td>Orlando Magic</td>\n",
       "      <td>2021</td>\n",
       "      <td>49</td>\n",
       "    </tr>\n",
       "    <tr>\n",
       "      <th>3672</th>\n",
       "      <td>#44 Freddie Gillespie</td>\n",
       "      <td>NaN</td>\n",
       "      <td>Orlando Magic</td>\n",
       "      <td>2021</td>\n",
       "      <td>31</td>\n",
       "    </tr>\n",
       "    <tr>\n",
       "      <th>3673</th>\n",
       "      <td>#24 BJ Johnson</td>\n",
       "      <td>NaN</td>\n",
       "      <td>Orlando Magic</td>\n",
       "      <td>2021</td>\n",
       "      <td>26</td>\n",
       "    </tr>\n",
       "    <tr>\n",
       "      <th>3674</th>\n",
       "      <td>#11 Jeff Dowtin</td>\n",
       "      <td>NaN</td>\n",
       "      <td>Orlando Magic</td>\n",
       "      <td>2021</td>\n",
       "      <td>24</td>\n",
       "    </tr>\n",
       "    <tr>\n",
       "      <th>3675</th>\n",
       "      <td>#11 Aleem Ford</td>\n",
       "      <td>NaN</td>\n",
       "      <td>Orlando Magic</td>\n",
       "      <td>2021</td>\n",
       "      <td>24</td>\n",
       "    </tr>\n",
       "  </tbody>\n",
       "</table>\n",
       "<p>703 rows × 5 columns</p>\n",
       "</div>"
      ],
      "text/plain": [
       "                     Player  Min                   Team  Season  Overall_Poss\n",
       "1410     #5 Richard Solomon  NaN  Oklahoma City Thunder    2018             1\n",
       "2974          #12 Ja Morant  NaN      Memphis Grizzlies    2021          1560\n",
       "2975  #13 Jaren Jackson Jr.  NaN      Memphis Grizzlies    2021          1317\n",
       "2976       #22 Desmond Bane  NaN      Memphis Grizzlies    2021          1266\n",
       "2977   #0 De'Anthony Melton  NaN      Memphis Grizzlies    2021           861\n",
       "...                     ...  ...                    ...     ...           ...\n",
       "3671    #12 Hassani Gravett  NaN          Orlando Magic    2021            49\n",
       "3672  #44 Freddie Gillespie  NaN          Orlando Magic    2021            31\n",
       "3673         #24 BJ Johnson  NaN          Orlando Magic    2021            26\n",
       "3674        #11 Jeff Dowtin  NaN          Orlando Magic    2021            24\n",
       "3675         #11 Aleem Ford  NaN          Orlando Magic    2021            24\n",
       "\n",
       "[703 rows x 5 columns]"
      ]
     },
     "execution_count": 11,
     "metadata": {},
     "output_type": "execute_result"
    }
   ],
   "source": [
    "s_df = pd.read_csv('nba_offense.csv')\n",
    "s_df['Player_Alt'] = s_df['Player'].apply(lambda x: ' '.join(x.split(' ')[1:]))\\\n",
    "                                   .apply(lambda x: x.replace(' ', '').lower())\\\n",
    "                                   .apply(lambda x: x.replace(\"'\", ''))\\\n",
    "                                   .apply(lambda x: x.replace('.', ''))\n",
    "c_df = pd.concat([nba_dfs[season] for season in range(2016, 2021)])\n",
    "c_df['Player_Alt'] = c_df['Player'].apply(lambda x: ' '.join(x.split(' ')[1:]))\\\n",
    "                                   .apply(lambda x: x.replace(' ', '').lower())\\\n",
    "                                   .apply(lambda x: x.replace(\"'\", ''))\\\n",
    "                                   .apply(lambda x: x.replace('.', ''))\n",
    "temp = s_df.merge(c_df.drop('Player', axis=1), \n",
    "                  on=['Player_Alt', 'Team', 'Season'], \n",
    "                  how='left')\n",
    "temp[temp['Min'].isna()][['Player', 'Min', 'Team', 'Season', 'Overall_Poss']]"
   ]
  },
  {
   "cell_type": "code",
   "execution_count": 12,
   "metadata": {
    "ExecuteTime": {
     "end_time": "2022-05-04T11:08:13.885946Z",
     "start_time": "2022-05-04T11:08:13.665194Z"
    }
   },
   "outputs": [],
   "source": [
    "s_df.merge(c_df.drop('Player', axis=1), \n",
    "           on=['Player_Alt', 'Team', 'Season'], \n",
    "           how='left')\\\n",
    "    .drop('Player_Alt', axis=1)\\\n",
    "    .to_csv('nba_offense_cumulative.csv', index=False)"
   ]
  },
  {
   "cell_type": "markdown",
   "metadata": {},
   "source": [
    "### NBL"
   ]
  },
  {
   "cell_type": "code",
   "execution_count": 13,
   "metadata": {
    "ExecuteTime": {
     "end_time": "2022-05-04T11:08:13.893417Z",
     "start_time": "2022-05-04T11:08:13.889605Z"
    }
   },
   "outputs": [],
   "source": [
    "# nbl_dfs = {season: get_season_cumulative_df(season, 'nbl')\n",
    "#            for season in range(2016, 2021)}"
   ]
  },
  {
   "cell_type": "code",
   "execution_count": 14,
   "metadata": {
    "ExecuteTime": {
     "end_time": "2022-05-04T11:08:13.899688Z",
     "start_time": "2022-05-04T11:08:13.895886Z"
    }
   },
   "outputs": [],
   "source": [
    "# s_df = pd.read_csv('nbl_offense.csv')\n",
    "# s_df['Player_Alt'] = s_df['Player'].apply(lambda x: ' '.join(x.split(' ')[1:]))\\\n",
    "#                                    .apply(lambda x: x.replace(' ', '').lower())\\\n",
    "#                                    .apply(lambda x: x.replace(\"'\", ''))\\\n",
    "#                                    .apply(lambda x: x.replace('.', ''))\n",
    "# c_df = pd.concat([nbl_dfs[season] for season in range(2016, 2021)])\n",
    "# c_df['Player_Alt'] = c_df['Player'].apply(lambda x: ' '.join(x.split(' ')[1:]))\\\n",
    "#                                    .apply(lambda x: x.replace(' ', '').lower())\\\n",
    "#                                    .apply(lambda x: x.replace(\"'\", ''))\\\n",
    "#                                    .apply(lambda x: x.replace('.', ''))\n",
    "# temp = s_df.merge(c_df.drop('Player', axis=1), \n",
    "#                   on=['Player_Alt', 'Team', 'Season'], \n",
    "#                   how='left')\n",
    "# temp[temp['Min'].isna()][['Player', 'Min', 'Team', 'Season', 'Overall_Poss']]"
   ]
  },
  {
   "cell_type": "code",
   "execution_count": 15,
   "metadata": {
    "ExecuteTime": {
     "end_time": "2022-05-04T11:08:13.905307Z",
     "start_time": "2022-05-04T11:08:13.902110Z"
    }
   },
   "outputs": [],
   "source": [
    "# s_df.merge(c_df.drop('Player', axis=1), \n",
    "#            on=['Player_Alt', 'Team', 'Season'], \n",
    "#            how='left')\\\n",
    "#     .drop('Player_Alt', axis=1)\\\n",
    "#     .to_csv('nbl_offense_cumulative.csv', index=False)"
   ]
  },
  {
   "cell_type": "markdown",
   "metadata": {},
   "source": [
    "### NCAA"
   ]
  },
  {
   "cell_type": "code",
   "execution_count": 16,
   "metadata": {
    "ExecuteTime": {
     "end_time": "2022-05-04T11:08:13.910222Z",
     "start_time": "2022-05-04T11:08:13.907580Z"
    }
   },
   "outputs": [],
   "source": [
    "# ncaa_dfs = {season: get_season_cumulative_df(season, 'ncaa')\n",
    "#             for season in range(2016, 2021)}"
   ]
  },
  {
   "cell_type": "code",
   "execution_count": 17,
   "metadata": {
    "ExecuteTime": {
     "end_time": "2022-05-04T11:08:13.919131Z",
     "start_time": "2022-05-04T11:08:13.913641Z"
    }
   },
   "outputs": [],
   "source": [
    "# s_df = pd.read_csv('ncaa_offense.csv')\n",
    "# s_df['Player_Alt'] = s_df['Player'].apply(lambda x: ' '.join(x.split(' ')[1:]))\\\n",
    "#                                    .apply(lambda x: x.replace(' ', '').lower())\\\n",
    "#                                    .apply(lambda x: x.replace(\"'\", ''))\\\n",
    "#                                    .apply(lambda x: x.replace('.', ''))\n",
    "# c_df = pd.concat([ncaa_dfs[season] for season in range(2016, 2021)])\n",
    "# c_df['Player_Alt'] = c_df['Player'].apply(lambda x: ' '.join(x.split(' ')[1:]))\\\n",
    "#                                    .apply(lambda x: x.replace(' ', '').lower())\\\n",
    "#                                    .apply(lambda x: x.replace(\"'\", ''))\\\n",
    "#                                    .apply(lambda x: x.replace('.', ''))\n",
    "# temp = s_df.merge(c_df.drop('Player', axis=1), \n",
    "#                   on=['Player_Alt', 'Team', 'Season'], \n",
    "#                   how='left')\n",
    "# temp[temp['Min'].isna()][['Player', 'Min', 'Team', 'Season', 'Overall_Poss']]"
   ]
  },
  {
   "cell_type": "code",
   "execution_count": 18,
   "metadata": {
    "ExecuteTime": {
     "end_time": "2022-05-04T11:08:13.924783Z",
     "start_time": "2022-05-04T11:08:13.921821Z"
    }
   },
   "outputs": [],
   "source": [
    "# temp[(temp['Min'].isna()) & (temp['Player'] != '#100 Unidentifiable Player')]\\\n",
    "# [['Player', 'Min', 'Team', 'Season', 'Overall_Poss']].sort_values('Overall_Poss', ascending=False)"
   ]
  },
  {
   "cell_type": "code",
   "execution_count": 19,
   "metadata": {
    "ExecuteTime": {
     "end_time": "2022-05-04T11:08:14.148860Z",
     "start_time": "2022-05-04T11:08:14.146177Z"
    }
   },
   "outputs": [],
   "source": [
    "# s_df.merge(c_df.drop('Player', axis=1), \n",
    "#            on=['Player_Alt', 'Team', 'Season'], \n",
    "#            how='left')\\\n",
    "#     .drop('Player_Alt', axis=1)\\\n",
    "#     .to_csv('ncaa_offense_cumulative.csv', index=False)"
   ]
  }
 ],
 "metadata": {
  "kernelspec": {
   "display_name": "Python 3 (ipykernel)",
   "language": "python",
   "name": "python3"
  },
  "language_info": {
   "codemirror_mode": {
    "name": "ipython",
    "version": 3
   },
   "file_extension": ".py",
   "mimetype": "text/x-python",
   "name": "python",
   "nbconvert_exporter": "python",
   "pygments_lexer": "ipython3",
   "version": "3.8.12"
  }
 },
 "nbformat": 4,
 "nbformat_minor": 2
}
