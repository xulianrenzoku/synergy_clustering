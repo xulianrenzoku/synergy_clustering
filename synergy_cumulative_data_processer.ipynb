{
 "cells": [
  {
   "cell_type": "code",
   "execution_count": 1,
   "metadata": {
    "ExecuteTime": {
     "end_time": "2022-03-02T07:12:43.833814Z",
     "start_time": "2022-03-02T07:12:43.377053Z"
    }
   },
   "outputs": [],
   "source": [
    "import pandas as pd\n",
    "import numpy as np\n",
    "import os\n",
    "import time\n",
    "import pickle\n",
    "from bs4 import BeautifulSoup"
   ]
  },
  {
   "cell_type": "markdown",
   "metadata": {},
   "source": [
    "## Basic Functions"
   ]
  },
  {
   "cell_type": "code",
   "execution_count": 2,
   "metadata": {
    "ExecuteTime": {
     "end_time": "2022-03-02T07:12:43.839895Z",
     "start_time": "2022-03-02T07:12:43.836405Z"
    }
   },
   "outputs": [],
   "source": [
    "def read_html(filename):\n",
    "    soup = BeautifulSoup(open(filename), \"html.parser\")\n",
    "    return soup"
   ]
  },
  {
   "cell_type": "code",
   "execution_count": 3,
   "metadata": {
    "ExecuteTime": {
     "end_time": "2022-03-02T07:12:43.848083Z",
     "start_time": "2022-03-02T07:12:43.842923Z"
    }
   },
   "outputs": [],
   "source": [
    "def dump_pickle(file, filename):\n",
    "    outfile = open(filename, 'wb')\n",
    "    pickle.dump(file, outfile)\n",
    "    outfile.close()\n",
    "\n",
    "def load_pickle(filename):\n",
    "    infile = open(filename, 'rb')\n",
    "    file = pickle.load(infile)\n",
    "    infile.close()\n",
    "    return file"
   ]
  },
  {
   "cell_type": "markdown",
   "metadata": {},
   "source": [
    "## Content"
   ]
  },
  {
   "cell_type": "code",
   "execution_count": 4,
   "metadata": {
    "ExecuteTime": {
     "end_time": "2022-03-02T07:12:43.856828Z",
     "start_time": "2022-03-02T07:12:43.851754Z"
    }
   },
   "outputs": [],
   "source": [
    "def get_team_cumulative_df(soup, season):\n",
    "    tables = soup.find_all('table')\n",
    "    data = [[td.text for td in row.find_all('td')]\n",
    "             for row in tables[0].find_all('tr')]\n",
    "    df = pd.DataFrame(data[1:len(data)-1], columns=data[0])\n",
    "    df['Season'] = season\n",
    "    team = df.columns[0]\n",
    "    df['Team'] = team\n",
    "    return df.rename(columns={team:'Player'})"
   ]
  },
  {
   "cell_type": "code",
   "execution_count": 5,
   "metadata": {
    "ExecuteTime": {
     "end_time": "2022-03-02T07:12:43.864661Z",
     "start_time": "2022-03-02T07:12:43.860157Z"
    }
   },
   "outputs": [],
   "source": [
    "def get_season_cumulative_df(season, league):\n",
    "    print(season)\n",
    "    season_dfs = {}\n",
    "    directory = f'data_{league}_{season}'\n",
    "    \n",
    "    team_cumulative_dfs = []\n",
    "    for file in os.listdir(directory):\n",
    "        if 'box' in file:\n",
    "            soup = read_html(f'{directory}/{file}')\n",
    "            team_cumulative_dfs.append(get_team_cumulative_df(soup, season))\n",
    "    return pd.concat(team_cumulative_dfs)"
   ]
  },
  {
   "cell_type": "markdown",
   "metadata": {},
   "source": [
    "### CBA"
   ]
  },
  {
   "cell_type": "code",
   "execution_count": 6,
   "metadata": {
    "ExecuteTime": {
     "end_time": "2022-03-02T07:12:45.461023Z",
     "start_time": "2022-03-02T07:12:43.866586Z"
    }
   },
   "outputs": [
    {
     "name": "stdout",
     "output_type": "stream",
     "text": [
      "2017\n",
      "2018\n",
      "2019\n",
      "2020\n"
     ]
    }
   ],
   "source": [
    "cba_dfs = {season: get_season_cumulative_df(season, 'cba')\n",
    "           for season in range(2017, 2021)}"
   ]
  },
  {
   "cell_type": "code",
   "execution_count": 7,
   "metadata": {
    "ExecuteTime": {
     "end_time": "2022-03-02T07:12:45.593008Z",
     "start_time": "2022-03-02T07:12:45.462788Z"
    }
   },
   "outputs": [],
   "source": [
    "pd.read_csv('cba_offense.csv')\\\n",
    "  .merge(pd.concat([cba_dfs[season] for season in range(2017, 2021)]),\n",
    "         on=['Player', 'Team', 'Season'], \n",
    "         how='left')\\\n",
    "  .to_csv('cba_offense_cumulative.csv', index=False)"
   ]
  },
  {
   "cell_type": "markdown",
   "metadata": {},
   "source": [
    "### Euroleague"
   ]
  },
  {
   "cell_type": "code",
   "execution_count": 8,
   "metadata": {
    "ExecuteTime": {
     "end_time": "2022-03-02T07:12:50.215223Z",
     "start_time": "2022-03-02T07:12:45.594835Z"
    }
   },
   "outputs": [
    {
     "name": "stdout",
     "output_type": "stream",
     "text": [
      "2016\n",
      "2017\n",
      "2018\n",
      "2019\n",
      "2020\n"
     ]
    }
   ],
   "source": [
    "euroleague_dfs = {season: get_season_cumulative_df(season, 'euroleague')\n",
    "                  for season in range(2016, 2021)}"
   ]
  },
  {
   "cell_type": "code",
   "execution_count": 9,
   "metadata": {
    "ExecuteTime": {
     "end_time": "2022-03-02T07:12:50.336817Z",
     "start_time": "2022-03-02T07:12:50.217680Z"
    }
   },
   "outputs": [],
   "source": [
    "pd.read_csv('euroleague_offense.csv')\\\n",
    "  .merge(pd.concat([euroleague_dfs[season] for season in range(2016, 2021)]),\n",
    "         on=['Player', 'Team', 'Season'], \n",
    "         how='left')\\\n",
    "  .to_csv('euroleague_offense_cumulative.csv', index=False)"
   ]
  },
  {
   "cell_type": "markdown",
   "metadata": {},
   "source": [
    "### NBA"
   ]
  },
  {
   "cell_type": "code",
   "execution_count": 10,
   "metadata": {
    "ExecuteTime": {
     "end_time": "2022-03-02T07:13:00.592816Z",
     "start_time": "2022-03-02T07:12:50.338384Z"
    }
   },
   "outputs": [
    {
     "name": "stdout",
     "output_type": "stream",
     "text": [
      "2016\n",
      "2017\n",
      "2018\n",
      "2019\n",
      "2020\n"
     ]
    }
   ],
   "source": [
    "nba_dfs = {season: get_season_cumulative_df(season, 'nba')\n",
    "           for season in range(2016, 2021)}"
   ]
  },
  {
   "cell_type": "code",
   "execution_count": 11,
   "metadata": {
    "ExecuteTime": {
     "end_time": "2022-03-02T07:13:00.823096Z",
     "start_time": "2022-03-02T07:13:00.595011Z"
    }
   },
   "outputs": [],
   "source": [
    "pd.read_csv('nba_offense.csv')\\\n",
    "  .merge(pd.concat([nba_dfs[season] for season in range(2016, 2021)]),\n",
    "         on=['Player', 'Team', 'Season'], \n",
    "         how='left')\\\n",
    "  .to_csv('nba_offense_cumulative.csv', index=False)"
   ]
  },
  {
   "cell_type": "markdown",
   "metadata": {},
   "source": [
    "### NBL"
   ]
  },
  {
   "cell_type": "code",
   "execution_count": 12,
   "metadata": {
    "ExecuteTime": {
     "end_time": "2022-03-02T07:13:02.985609Z",
     "start_time": "2022-03-02T07:13:00.825294Z"
    }
   },
   "outputs": [
    {
     "name": "stdout",
     "output_type": "stream",
     "text": [
      "2016\n",
      "2017\n",
      "2018\n",
      "2019\n",
      "2020\n"
     ]
    }
   ],
   "source": [
    "nbl_dfs = {season: get_season_cumulative_df(season, 'nbl')\n",
    "           for season in range(2016, 2021)}"
   ]
  },
  {
   "cell_type": "code",
   "execution_count": 13,
   "metadata": {
    "ExecuteTime": {
     "end_time": "2022-03-02T07:13:03.060108Z",
     "start_time": "2022-03-02T07:13:02.987457Z"
    }
   },
   "outputs": [],
   "source": [
    "pd.read_csv('nbl_offense.csv')\\\n",
    "  .merge(pd.concat([nbl_dfs[season] for season in range(2016, 2021)]),\n",
    "         on=['Player', 'Team', 'Season'], \n",
    "         how='left')\\\n",
    "  .to_csv('nbl_offense_cumulative.csv', index=False)"
   ]
  },
  {
   "cell_type": "code",
   "execution_count": null,
   "metadata": {},
   "outputs": [],
   "source": []
  }
 ],
 "metadata": {
  "kernelspec": {
   "display_name": "Python 3",
   "language": "python",
   "name": "python3"
  },
  "language_info": {
   "codemirror_mode": {
    "name": "ipython",
    "version": 3
   },
   "file_extension": ".py",
   "mimetype": "text/x-python",
   "name": "python",
   "nbconvert_exporter": "python",
   "pygments_lexer": "ipython3",
   "version": "3.6.7"
  }
 },
 "nbformat": 4,
 "nbformat_minor": 2
}
