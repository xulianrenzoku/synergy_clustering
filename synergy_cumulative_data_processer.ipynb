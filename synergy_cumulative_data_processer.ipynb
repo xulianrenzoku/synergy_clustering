{
 "cells": [
  {
   "cell_type": "code",
   "execution_count": 1,
   "metadata": {
    "ExecuteTime": {
     "end_time": "2022-06-13T10:01:20.944173Z",
     "start_time": "2022-06-13T10:01:20.416483Z"
    }
   },
   "outputs": [],
   "source": [
    "import pandas as pd\n",
    "import numpy as np\n",
    "import os\n",
    "import time\n",
    "import pickle\n",
    "from bs4 import BeautifulSoup"
   ]
  },
  {
   "cell_type": "markdown",
   "metadata": {},
   "source": [
    "## Basic Functions"
   ]
  },
  {
   "cell_type": "code",
   "execution_count": 2,
   "metadata": {
    "ExecuteTime": {
     "end_time": "2022-06-13T10:01:20.950733Z",
     "start_time": "2022-06-13T10:01:20.947134Z"
    }
   },
   "outputs": [],
   "source": [
    "def read_html(filename):\n",
    "    soup = BeautifulSoup(open(filename), \"html.parser\")\n",
    "    return soup"
   ]
  },
  {
   "cell_type": "code",
   "execution_count": 3,
   "metadata": {
    "ExecuteTime": {
     "end_time": "2022-06-13T10:01:21.085419Z",
     "start_time": "2022-06-13T10:01:21.081462Z"
    }
   },
   "outputs": [],
   "source": [
    "def dump_pickle(file, filename):\n",
    "    outfile = open(filename, 'wb')\n",
    "    pickle.dump(file, outfile)\n",
    "    outfile.close()\n",
    "\n",
    "def load_pickle(filename):\n",
    "    infile = open(filename, 'rb')\n",
    "    file = pickle.load(infile)\n",
    "    infile.close()\n",
    "    return file"
   ]
  },
  {
   "cell_type": "markdown",
   "metadata": {},
   "source": [
    "## Content"
   ]
  },
  {
   "cell_type": "code",
   "execution_count": 4,
   "metadata": {
    "ExecuteTime": {
     "end_time": "2022-06-13T10:01:21.835032Z",
     "start_time": "2022-06-13T10:01:21.830270Z"
    }
   },
   "outputs": [],
   "source": [
    "def get_team_cumulative_df(soup, season):\n",
    "    tables = soup.find_all('table')\n",
    "    data = [[td.text for td in row.find_all('td')]\n",
    "             for row in tables[0].find_all('tr')]\n",
    "    df = pd.DataFrame(data[1:len(data)-1], columns=data[0])\n",
    "    df['Season'] = season\n",
    "    team = df.columns[0]\n",
    "    df['Team'] = team\n",
    "    return df.rename(columns={team:'Player'})"
   ]
  },
  {
   "cell_type": "code",
   "execution_count": 5,
   "metadata": {
    "ExecuteTime": {
     "end_time": "2022-06-13T10:01:22.301946Z",
     "start_time": "2022-06-13T10:01:22.297402Z"
    }
   },
   "outputs": [],
   "source": [
    "def get_season_cumulative_df(season, league):\n",
    "    print(season)\n",
    "    season_dfs = {}\n",
    "    directory = f'data_{league}_{season}'\n",
    "    \n",
    "    team_cumulative_dfs = []\n",
    "    for file in os.listdir(directory):\n",
    "        if 'box' in file:\n",
    "            soup = read_html(f'{directory}/{file}')\n",
    "            team_cumulative_dfs.append(get_team_cumulative_df(soup, season))\n",
    "    return pd.concat(team_cumulative_dfs)"
   ]
  },
  {
   "cell_type": "markdown",
   "metadata": {},
   "source": [
    "### CBA"
   ]
  },
  {
   "cell_type": "code",
   "execution_count": 6,
   "metadata": {
    "ExecuteTime": {
     "end_time": "2022-06-13T10:01:23.457172Z",
     "start_time": "2022-06-13T10:01:23.454644Z"
    }
   },
   "outputs": [],
   "source": [
    "# cba_dfs = {season: get_season_cumulative_df(season, 'cba')\n",
    "#            for season in range(2017, 2022)}"
   ]
  },
  {
   "cell_type": "markdown",
   "metadata": {},
   "source": [
    "### Euroleague"
   ]
  },
  {
   "cell_type": "code",
   "execution_count": 7,
   "metadata": {
    "ExecuteTime": {
     "end_time": "2022-06-13T10:01:31.689206Z",
     "start_time": "2022-06-13T10:01:25.486691Z"
    }
   },
   "outputs": [
    {
     "name": "stdout",
     "output_type": "stream",
     "text": [
      "2016\n",
      "2017\n",
      "2018\n",
      "2019\n",
      "2020\n",
      "2021\n"
     ]
    }
   ],
   "source": [
    "euroleague_dfs = {season: get_season_cumulative_df(season, 'euroleague')\n",
    "                  for season in range(2016, 2022)}"
   ]
  },
  {
   "cell_type": "code",
   "execution_count": 8,
   "metadata": {
    "ExecuteTime": {
     "end_time": "2022-06-13T10:01:31.759312Z",
     "start_time": "2022-06-13T10:01:31.691650Z"
    }
   },
   "outputs": [
    {
     "data": {
      "text/html": [
       "<div>\n",
       "<style scoped>\n",
       "    .dataframe tbody tr th:only-of-type {\n",
       "        vertical-align: middle;\n",
       "    }\n",
       "\n",
       "    .dataframe tbody tr th {\n",
       "        vertical-align: top;\n",
       "    }\n",
       "\n",
       "    .dataframe thead th {\n",
       "        text-align: right;\n",
       "    }\n",
       "</style>\n",
       "<table border=\"1\" class=\"dataframe\">\n",
       "  <thead>\n",
       "    <tr style=\"text-align: right;\">\n",
       "      <th></th>\n",
       "      <th>Player</th>\n",
       "      <th>Min</th>\n",
       "      <th>Team</th>\n",
       "      <th>Season</th>\n",
       "      <th>Overall_Poss</th>\n",
       "    </tr>\n",
       "  </thead>\n",
       "  <tbody>\n",
       "    <tr>\n",
       "      <th>79</th>\n",
       "      <td>#36 Alex Suarez</td>\n",
       "      <td>NaN</td>\n",
       "      <td>Real Madrid</td>\n",
       "      <td>2016</td>\n",
       "      <td>1</td>\n",
       "    </tr>\n",
       "  </tbody>\n",
       "</table>\n",
       "</div>"
      ],
      "text/plain": [
       "             Player  Min         Team  Season  Overall_Poss\n",
       "79  #36 Alex Suarez  NaN  Real Madrid    2016             1"
      ]
     },
     "execution_count": 8,
     "metadata": {},
     "output_type": "execute_result"
    }
   ],
   "source": [
    "s_df = pd.read_csv('euroleague_offense.csv')\n",
    "s_df['Player_Alt'] = s_df['Player'].apply(lambda x: ' '.join(x.split(' ')[1:]))\\\n",
    "                                   .apply(lambda x: x.replace(' ', '').lower())\\\n",
    "                                   .apply(lambda x: x.replace(\"'\", ''))\\\n",
    "                                   .apply(lambda x: x.replace('.', ''))\n",
    "c_df = pd.concat([euroleague_dfs[season] for season in range(2016, 2022)])\n",
    "c_df['Player_Alt'] = c_df['Player'].apply(lambda x: ' '.join(x.split(' ')[1:]))\\\n",
    "                                   .apply(lambda x: x.replace(' ', '').lower())\\\n",
    "                                   .apply(lambda x: x.replace(\"'\", ''))\\\n",
    "                                   .apply(lambda x: x.replace('.', ''))\n",
    "temp = s_df.merge(c_df.drop('Player', axis=1), \n",
    "                  on=['Player_Alt', 'Team', 'Season'], \n",
    "                  how='left')\n",
    "temp[temp['Min'].isna()][['Player', 'Min', 'Team', 'Season', 'Overall_Poss']]"
   ]
  },
  {
   "cell_type": "code",
   "execution_count": 9,
   "metadata": {
    "ExecuteTime": {
     "end_time": "2022-06-13T10:01:42.465239Z",
     "start_time": "2022-06-13T10:01:42.342629Z"
    }
   },
   "outputs": [],
   "source": [
    "s_df.merge(c_df.drop('Player', axis=1), \n",
    "           on=['Player_Alt', 'Team', 'Season'], \n",
    "           how='left')\\\n",
    "    .drop('Player_Alt', axis=1)\\\n",
    "    .to_csv('euroleague_offense_cumulative.csv', index=False)"
   ]
  },
  {
   "cell_type": "markdown",
   "metadata": {},
   "source": [
    "### NBA"
   ]
  },
  {
   "cell_type": "code",
   "execution_count": 10,
   "metadata": {
    "ExecuteTime": {
     "end_time": "2022-06-13T10:02:00.430160Z",
     "start_time": "2022-06-13T10:01:44.949193Z"
    }
   },
   "outputs": [
    {
     "name": "stdout",
     "output_type": "stream",
     "text": [
      "2016\n",
      "2017\n",
      "2018\n",
      "2019\n",
      "2020\n",
      "2021\n"
     ]
    }
   ],
   "source": [
    "nba_dfs = {season: get_season_cumulative_df(season, 'nba')\n",
    "           for season in range(2016, 2022)}"
   ]
  },
  {
   "cell_type": "code",
   "execution_count": 11,
   "metadata": {
    "ExecuteTime": {
     "end_time": "2022-06-13T10:02:00.546306Z",
     "start_time": "2022-06-13T10:02:00.432745Z"
    }
   },
   "outputs": [
    {
     "data": {
      "text/html": [
       "<div>\n",
       "<style scoped>\n",
       "    .dataframe tbody tr th:only-of-type {\n",
       "        vertical-align: middle;\n",
       "    }\n",
       "\n",
       "    .dataframe tbody tr th {\n",
       "        vertical-align: top;\n",
       "    }\n",
       "\n",
       "    .dataframe thead th {\n",
       "        text-align: right;\n",
       "    }\n",
       "</style>\n",
       "<table border=\"1\" class=\"dataframe\">\n",
       "  <thead>\n",
       "    <tr style=\"text-align: right;\">\n",
       "      <th></th>\n",
       "      <th>Player</th>\n",
       "      <th>Min</th>\n",
       "      <th>Team</th>\n",
       "      <th>Season</th>\n",
       "      <th>Overall_Poss</th>\n",
       "    </tr>\n",
       "  </thead>\n",
       "  <tbody>\n",
       "    <tr>\n",
       "      <th>1410</th>\n",
       "      <td>#5 Richard Solomon</td>\n",
       "      <td>NaN</td>\n",
       "      <td>Oklahoma City Thunder</td>\n",
       "      <td>2018</td>\n",
       "      <td>1</td>\n",
       "    </tr>\n",
       "  </tbody>\n",
       "</table>\n",
       "</div>"
      ],
      "text/plain": [
       "                  Player  Min                   Team  Season  Overall_Poss\n",
       "1410  #5 Richard Solomon  NaN  Oklahoma City Thunder    2018             1"
      ]
     },
     "execution_count": 11,
     "metadata": {},
     "output_type": "execute_result"
    }
   ],
   "source": [
    "s_df = pd.read_csv('nba_offense.csv')\n",
    "s_df['Player_Alt'] = s_df['Player'].apply(lambda x: ' '.join(x.split(' ')[1:]))\\\n",
    "                                   .apply(lambda x: x.replace(' ', '').lower())\\\n",
    "                                   .apply(lambda x: x.replace(\"'\", ''))\\\n",
    "                                   .apply(lambda x: x.replace('.', ''))\n",
    "c_df = pd.concat([nba_dfs[season] for season in range(2016, 2022)])\n",
    "c_df['Player_Alt'] = c_df['Player'].apply(lambda x: ' '.join(x.split(' ')[1:]))\\\n",
    "                                   .apply(lambda x: x.replace(' ', '').lower())\\\n",
    "                                   .apply(lambda x: x.replace(\"'\", ''))\\\n",
    "                                   .apply(lambda x: x.replace('.', ''))\n",
    "temp = s_df.merge(c_df.drop('Player', axis=1), \n",
    "                  on=['Player_Alt', 'Team', 'Season'], \n",
    "                  how='left')\n",
    "temp[temp['Min'].isna()][['Player', 'Min', 'Team', 'Season', 'Overall_Poss']]"
   ]
  },
  {
   "cell_type": "code",
   "execution_count": 12,
   "metadata": {
    "ExecuteTime": {
     "end_time": "2022-06-13T10:02:00.871149Z",
     "start_time": "2022-06-13T10:02:00.549429Z"
    }
   },
   "outputs": [],
   "source": [
    "s_df.merge(c_df.drop('Player', axis=1), \n",
    "           on=['Player_Alt', 'Team', 'Season'], \n",
    "           how='left')\\\n",
    "    .drop('Player_Alt', axis=1)\\\n",
    "    .to_csv('nba_offense_cumulative.csv', index=False)"
   ]
  },
  {
   "cell_type": "markdown",
   "metadata": {},
   "source": [
    "### NBL"
   ]
  },
  {
   "cell_type": "code",
   "execution_count": 13,
   "metadata": {
    "ExecuteTime": {
     "end_time": "2022-06-13T10:02:04.250534Z",
     "start_time": "2022-06-13T10:02:00.876481Z"
    }
   },
   "outputs": [
    {
     "name": "stdout",
     "output_type": "stream",
     "text": [
      "2016\n",
      "2017\n",
      "2018\n",
      "2019\n",
      "2020\n",
      "2021\n"
     ]
    }
   ],
   "source": [
    "nbl_dfs = {season: get_season_cumulative_df(season, 'nbl')\n",
    "           for season in range(2016, 2022)}"
   ]
  },
  {
   "cell_type": "code",
   "execution_count": 14,
   "metadata": {
    "ExecuteTime": {
     "end_time": "2022-06-13T10:02:05.577338Z",
     "start_time": "2022-06-13T10:02:05.493650Z"
    }
   },
   "outputs": [
    {
     "data": {
      "text/html": [
       "<div>\n",
       "<style scoped>\n",
       "    .dataframe tbody tr th:only-of-type {\n",
       "        vertical-align: middle;\n",
       "    }\n",
       "\n",
       "    .dataframe tbody tr th {\n",
       "        vertical-align: top;\n",
       "    }\n",
       "\n",
       "    .dataframe thead th {\n",
       "        text-align: right;\n",
       "    }\n",
       "</style>\n",
       "<table border=\"1\" class=\"dataframe\">\n",
       "  <thead>\n",
       "    <tr style=\"text-align: right;\">\n",
       "      <th></th>\n",
       "      <th>Player</th>\n",
       "      <th>Min</th>\n",
       "      <th>Team</th>\n",
       "      <th>Season</th>\n",
       "      <th>Overall_Poss</th>\n",
       "    </tr>\n",
       "  </thead>\n",
       "  <tbody>\n",
       "    <tr>\n",
       "      <th>293</th>\n",
       "      <td>#32 Deng Acouth</td>\n",
       "      <td>NaN</td>\n",
       "      <td>Sydney Kings</td>\n",
       "      <td>2018</td>\n",
       "      <td>1</td>\n",
       "    </tr>\n",
       "  </tbody>\n",
       "</table>\n",
       "</div>"
      ],
      "text/plain": [
       "              Player  Min          Team  Season  Overall_Poss\n",
       "293  #32 Deng Acouth  NaN  Sydney Kings    2018             1"
      ]
     },
     "execution_count": 14,
     "metadata": {},
     "output_type": "execute_result"
    }
   ],
   "source": [
    "s_df = pd.read_csv('nbl_offense.csv')\n",
    "s_df['Player_Alt'] = s_df['Player'].apply(lambda x: ' '.join(x.split(' ')[1:]))\\\n",
    "                                   .apply(lambda x: x.replace(' ', '').lower())\\\n",
    "                                   .apply(lambda x: x.replace(\"'\", ''))\\\n",
    "                                   .apply(lambda x: x.replace('.', ''))\n",
    "c_df = pd.concat([nbl_dfs[season] for season in range(2016, 2022)])\n",
    "c_df['Player_Alt'] = c_df['Player'].apply(lambda x: ' '.join(x.split(' ')[1:]))\\\n",
    "                                   .apply(lambda x: x.replace(' ', '').lower())\\\n",
    "                                   .apply(lambda x: x.replace(\"'\", ''))\\\n",
    "                                   .apply(lambda x: x.replace('.', ''))\n",
    "temp = s_df.merge(c_df.drop('Player', axis=1), \n",
    "                  on=['Player_Alt', 'Team', 'Season'], \n",
    "                  how='left')\n",
    "temp[temp['Min'].isna()][['Player', 'Min', 'Team', 'Season', 'Overall_Poss']]"
   ]
  },
  {
   "cell_type": "code",
   "execution_count": 15,
   "metadata": {
    "ExecuteTime": {
     "end_time": "2022-06-13T10:02:10.740970Z",
     "start_time": "2022-06-13T10:02:10.670830Z"
    }
   },
   "outputs": [],
   "source": [
    "s_df.merge(c_df.drop('Player', axis=1), \n",
    "           on=['Player_Alt', 'Team', 'Season'], \n",
    "           how='left')\\\n",
    "    .drop('Player_Alt', axis=1)\\\n",
    "    .to_csv('nbl_offense_cumulative.csv', index=False)"
   ]
  },
  {
   "cell_type": "markdown",
   "metadata": {},
   "source": [
    "### NCAA"
   ]
  },
  {
   "cell_type": "code",
   "execution_count": 16,
   "metadata": {
    "ExecuteTime": {
     "end_time": "2022-06-13T10:04:20.536685Z",
     "start_time": "2022-06-13T10:02:15.313049Z"
    }
   },
   "outputs": [
    {
     "name": "stdout",
     "output_type": "stream",
     "text": [
      "2016\n",
      "2017\n",
      "2018\n",
      "2019\n",
      "2020\n",
      "2021\n"
     ]
    }
   ],
   "source": [
    "ncaa_dfs = {season: get_season_cumulative_df(season, 'ncaa')\n",
    "            for season in range(2016, 2022)}"
   ]
  },
  {
   "cell_type": "code",
   "execution_count": 17,
   "metadata": {
    "ExecuteTime": {
     "end_time": "2022-06-13T10:04:21.343708Z",
     "start_time": "2022-06-13T10:04:20.540528Z"
    }
   },
   "outputs": [
    {
     "data": {
      "text/html": [
       "<div>\n",
       "<style scoped>\n",
       "    .dataframe tbody tr th:only-of-type {\n",
       "        vertical-align: middle;\n",
       "    }\n",
       "\n",
       "    .dataframe tbody tr th {\n",
       "        vertical-align: top;\n",
       "    }\n",
       "\n",
       "    .dataframe thead th {\n",
       "        text-align: right;\n",
       "    }\n",
       "</style>\n",
       "<table border=\"1\" class=\"dataframe\">\n",
       "  <thead>\n",
       "    <tr style=\"text-align: right;\">\n",
       "      <th></th>\n",
       "      <th>Player</th>\n",
       "      <th>Min</th>\n",
       "      <th>Team</th>\n",
       "      <th>Season</th>\n",
       "      <th>Overall_Poss</th>\n",
       "    </tr>\n",
       "  </thead>\n",
       "  <tbody>\n",
       "    <tr>\n",
       "      <th>156</th>\n",
       "      <td>#100 Unidentifiable Player</td>\n",
       "      <td>NaN</td>\n",
       "      <td>Utah Valley Wolverines</td>\n",
       "      <td>2016</td>\n",
       "      <td>1</td>\n",
       "    </tr>\n",
       "    <tr>\n",
       "      <th>693</th>\n",
       "      <td>#100 Unidentifiable Player</td>\n",
       "      <td>NaN</td>\n",
       "      <td>Howard Bison</td>\n",
       "      <td>2016</td>\n",
       "      <td>1</td>\n",
       "    </tr>\n",
       "    <tr>\n",
       "      <th>1007</th>\n",
       "      <td>#100 Unidentifiable Player</td>\n",
       "      <td>NaN</td>\n",
       "      <td>North Carolina Central Eagles</td>\n",
       "      <td>2016</td>\n",
       "      <td>1</td>\n",
       "    </tr>\n",
       "    <tr>\n",
       "      <th>1156</th>\n",
       "      <td>#21ArkadiyMkrtychyan</td>\n",
       "      <td>NaN</td>\n",
       "      <td>Idaho Vandals</td>\n",
       "      <td>2016</td>\n",
       "      <td>278</td>\n",
       "    </tr>\n",
       "    <tr>\n",
       "      <th>1533</th>\n",
       "      <td>#14 Kaleb Joseph</td>\n",
       "      <td>NaN</td>\n",
       "      <td>Creighton Bluejays</td>\n",
       "      <td>2016</td>\n",
       "      <td>1</td>\n",
       "    </tr>\n",
       "    <tr>\n",
       "      <th>...</th>\n",
       "      <td>...</td>\n",
       "      <td>...</td>\n",
       "      <td>...</td>\n",
       "      <td>...</td>\n",
       "      <td>...</td>\n",
       "    </tr>\n",
       "    <tr>\n",
       "      <th>27237</th>\n",
       "      <td>#23 Reggie Jones</td>\n",
       "      <td>NaN</td>\n",
       "      <td>Ball State Cardinals</td>\n",
       "      <td>2021</td>\n",
       "      <td>1</td>\n",
       "    </tr>\n",
       "    <tr>\n",
       "      <th>27524</th>\n",
       "      <td>#42 Richard Harward</td>\n",
       "      <td>NaN</td>\n",
       "      <td>Brigham Young Cougars</td>\n",
       "      <td>2021</td>\n",
       "      <td>1</td>\n",
       "    </tr>\n",
       "    <tr>\n",
       "      <th>27598</th>\n",
       "      <td>#21 Charlie Weisberg</td>\n",
       "      <td>NaN</td>\n",
       "      <td>Loyola (MD) Greyhounds</td>\n",
       "      <td>2021</td>\n",
       "      <td>2</td>\n",
       "    </tr>\n",
       "    <tr>\n",
       "      <th>28370</th>\n",
       "      <td>#2 Demarius Pitts</td>\n",
       "      <td>NaN</td>\n",
       "      <td>UMKC Kangaroos</td>\n",
       "      <td>2021</td>\n",
       "      <td>3</td>\n",
       "    </tr>\n",
       "    <tr>\n",
       "      <th>28464</th>\n",
       "      <td>#34 Jalen Jefferson</td>\n",
       "      <td>NaN</td>\n",
       "      <td>Mount St. Mary's Mountaineers</td>\n",
       "      <td>2021</td>\n",
       "      <td>6</td>\n",
       "    </tr>\n",
       "  </tbody>\n",
       "</table>\n",
       "<p>102 rows × 5 columns</p>\n",
       "</div>"
      ],
      "text/plain": [
       "                           Player  Min                           Team  Season  \\\n",
       "156    #100 Unidentifiable Player  NaN         Utah Valley Wolverines    2016   \n",
       "693    #100 Unidentifiable Player  NaN                   Howard Bison    2016   \n",
       "1007   #100 Unidentifiable Player  NaN  North Carolina Central Eagles    2016   \n",
       "1156         #21ArkadiyMkrtychyan  NaN                  Idaho Vandals    2016   \n",
       "1533             #14 Kaleb Joseph  NaN             Creighton Bluejays    2016   \n",
       "...                           ...  ...                            ...     ...   \n",
       "27237            #23 Reggie Jones  NaN           Ball State Cardinals    2021   \n",
       "27524         #42 Richard Harward  NaN          Brigham Young Cougars    2021   \n",
       "27598        #21 Charlie Weisberg  NaN         Loyola (MD) Greyhounds    2021   \n",
       "28370           #2 Demarius Pitts  NaN                 UMKC Kangaroos    2021   \n",
       "28464         #34 Jalen Jefferson  NaN  Mount St. Mary's Mountaineers    2021   \n",
       "\n",
       "       Overall_Poss  \n",
       "156               1  \n",
       "693               1  \n",
       "1007              1  \n",
       "1156            278  \n",
       "1533              1  \n",
       "...             ...  \n",
       "27237             1  \n",
       "27524             1  \n",
       "27598             2  \n",
       "28370             3  \n",
       "28464             6  \n",
       "\n",
       "[102 rows x 5 columns]"
      ]
     },
     "execution_count": 17,
     "metadata": {},
     "output_type": "execute_result"
    }
   ],
   "source": [
    "s_df = pd.read_csv('ncaa_offense.csv')\n",
    "s_df['Player_Alt'] = s_df['Player'].apply(lambda x: ' '.join(x.split(' ')[1:]))\\\n",
    "                                   .apply(lambda x: x.replace(' ', '').lower())\\\n",
    "                                   .apply(lambda x: x.replace(\"'\", ''))\\\n",
    "                                   .apply(lambda x: x.replace('.', ''))\n",
    "c_df = pd.concat([ncaa_dfs[season] for season in range(2016, 2022)])\n",
    "c_df['Player_Alt'] = c_df['Player'].apply(lambda x: ' '.join(x.split(' ')[1:]))\\\n",
    "                                   .apply(lambda x: x.replace(' ', '').lower())\\\n",
    "                                   .apply(lambda x: x.replace(\"'\", ''))\\\n",
    "                                   .apply(lambda x: x.replace('.', ''))\n",
    "temp = s_df.merge(c_df.drop('Player', axis=1), \n",
    "                  on=['Player_Alt', 'Team', 'Season'], \n",
    "                  how='left')\n",
    "temp[temp['Min'].isna()][['Player', 'Min', 'Team', 'Season', 'Overall_Poss']]"
   ]
  },
  {
   "cell_type": "code",
   "execution_count": 18,
   "metadata": {
    "ExecuteTime": {
     "end_time": "2022-06-13T10:04:21.370497Z",
     "start_time": "2022-06-13T10:04:21.346833Z"
    }
   },
   "outputs": [
    {
     "data": {
      "text/html": [
       "<div>\n",
       "<style scoped>\n",
       "    .dataframe tbody tr th:only-of-type {\n",
       "        vertical-align: middle;\n",
       "    }\n",
       "\n",
       "    .dataframe tbody tr th {\n",
       "        vertical-align: top;\n",
       "    }\n",
       "\n",
       "    .dataframe thead th {\n",
       "        text-align: right;\n",
       "    }\n",
       "</style>\n",
       "<table border=\"1\" class=\"dataframe\">\n",
       "  <thead>\n",
       "    <tr style=\"text-align: right;\">\n",
       "      <th></th>\n",
       "      <th>Player</th>\n",
       "      <th>Min</th>\n",
       "      <th>Team</th>\n",
       "      <th>Season</th>\n",
       "      <th>Overall_Poss</th>\n",
       "    </tr>\n",
       "  </thead>\n",
       "  <tbody>\n",
       "    <tr>\n",
       "      <th>13524</th>\n",
       "      <td>#3Jon Axel Gudmundsson</td>\n",
       "      <td>NaN</td>\n",
       "      <td>Davidson Wildcats</td>\n",
       "      <td>2018</td>\n",
       "      <td>565</td>\n",
       "    </tr>\n",
       "    <tr>\n",
       "      <th>18840</th>\n",
       "      <td>#35Brandon Johnson</td>\n",
       "      <td>NaN</td>\n",
       "      <td>Western Michigan Broncos</td>\n",
       "      <td>2019</td>\n",
       "      <td>520</td>\n",
       "    </tr>\n",
       "    <tr>\n",
       "      <th>18321</th>\n",
       "      <td>#3Jon Axel Gudmundsson</td>\n",
       "      <td>NaN</td>\n",
       "      <td>Davidson Wildcats</td>\n",
       "      <td>2019</td>\n",
       "      <td>445</td>\n",
       "    </tr>\n",
       "    <tr>\n",
       "      <th>8728</th>\n",
       "      <td>#3Jon Axel Gudmundsson</td>\n",
       "      <td>NaN</td>\n",
       "      <td>Davidson Wildcats</td>\n",
       "      <td>2017</td>\n",
       "      <td>433</td>\n",
       "    </tr>\n",
       "    <tr>\n",
       "      <th>9244</th>\n",
       "      <td>#35Brandon Johnson</td>\n",
       "      <td>NaN</td>\n",
       "      <td>Western Michigan Broncos</td>\n",
       "      <td>2017</td>\n",
       "      <td>289</td>\n",
       "    </tr>\n",
       "    <tr>\n",
       "      <th>...</th>\n",
       "      <td>...</td>\n",
       "      <td>...</td>\n",
       "      <td>...</td>\n",
       "      <td>...</td>\n",
       "      <td>...</td>\n",
       "    </tr>\n",
       "    <tr>\n",
       "      <th>6426</th>\n",
       "      <td>#13 Quan McCluney</td>\n",
       "      <td>NaN</td>\n",
       "      <td>Charleston Cougars</td>\n",
       "      <td>2017</td>\n",
       "      <td>1</td>\n",
       "    </tr>\n",
       "    <tr>\n",
       "      <th>3089</th>\n",
       "      <td>#2 Connor Serven</td>\n",
       "      <td>NaN</td>\n",
       "      <td>Illinois Fighting Illini</td>\n",
       "      <td>2016</td>\n",
       "      <td>1</td>\n",
       "    </tr>\n",
       "    <tr>\n",
       "      <th>18361</th>\n",
       "      <td>#20 Evan Stack</td>\n",
       "      <td>NaN</td>\n",
       "      <td>Western Kentucky Hilltoppers</td>\n",
       "      <td>2019</td>\n",
       "      <td>1</td>\n",
       "    </tr>\n",
       "    <tr>\n",
       "      <th>3073</th>\n",
       "      <td>#23 Andrew Garcia</td>\n",
       "      <td>NaN</td>\n",
       "      <td>Stony Brook Seawolves</td>\n",
       "      <td>2016</td>\n",
       "      <td>1</td>\n",
       "    </tr>\n",
       "    <tr>\n",
       "      <th>5118</th>\n",
       "      <td>#0 Rashawn Langston</td>\n",
       "      <td>NaN</td>\n",
       "      <td>Louisiana Tech Bulldogs</td>\n",
       "      <td>2017</td>\n",
       "      <td>1</td>\n",
       "    </tr>\n",
       "  </tbody>\n",
       "</table>\n",
       "<p>64 rows × 5 columns</p>\n",
       "</div>"
      ],
      "text/plain": [
       "                       Player  Min                          Team  Season  \\\n",
       "13524  #3Jon Axel Gudmundsson  NaN             Davidson Wildcats    2018   \n",
       "18840      #35Brandon Johnson  NaN      Western Michigan Broncos    2019   \n",
       "18321  #3Jon Axel Gudmundsson  NaN             Davidson Wildcats    2019   \n",
       "8728   #3Jon Axel Gudmundsson  NaN             Davidson Wildcats    2017   \n",
       "9244       #35Brandon Johnson  NaN      Western Michigan Broncos    2017   \n",
       "...                       ...  ...                           ...     ...   \n",
       "6426        #13 Quan McCluney  NaN            Charleston Cougars    2017   \n",
       "3089         #2 Connor Serven  NaN      Illinois Fighting Illini    2016   \n",
       "18361          #20 Evan Stack  NaN  Western Kentucky Hilltoppers    2019   \n",
       "3073        #23 Andrew Garcia  NaN         Stony Brook Seawolves    2016   \n",
       "5118      #0 Rashawn Langston  NaN       Louisiana Tech Bulldogs    2017   \n",
       "\n",
       "       Overall_Poss  \n",
       "13524           565  \n",
       "18840           520  \n",
       "18321           445  \n",
       "8728            433  \n",
       "9244            289  \n",
       "...             ...  \n",
       "6426              1  \n",
       "3089              1  \n",
       "18361             1  \n",
       "3073              1  \n",
       "5118              1  \n",
       "\n",
       "[64 rows x 5 columns]"
      ]
     },
     "execution_count": 18,
     "metadata": {},
     "output_type": "execute_result"
    }
   ],
   "source": [
    "temp[(temp['Min'].isna()) & (temp['Player'] != '#100 Unidentifiable Player')]\\\n",
    "[['Player', 'Min', 'Team', 'Season', 'Overall_Poss']].sort_values('Overall_Poss', ascending=False)"
   ]
  },
  {
   "cell_type": "code",
   "execution_count": 20,
   "metadata": {
    "ExecuteTime": {
     "end_time": "2022-06-13T10:06:13.112324Z",
     "start_time": "2022-06-13T10:06:13.081040Z"
    }
   },
   "outputs": [
    {
     "data": {
      "text/html": [
       "<div>\n",
       "<style scoped>\n",
       "    .dataframe tbody tr th:only-of-type {\n",
       "        vertical-align: middle;\n",
       "    }\n",
       "\n",
       "    .dataframe tbody tr th {\n",
       "        vertical-align: top;\n",
       "    }\n",
       "\n",
       "    .dataframe thead th {\n",
       "        text-align: right;\n",
       "    }\n",
       "</style>\n",
       "<table border=\"1\" class=\"dataframe\">\n",
       "  <thead>\n",
       "    <tr style=\"text-align: right;\">\n",
       "      <th></th>\n",
       "      <th>Player</th>\n",
       "      <th>Min</th>\n",
       "      <th>Team</th>\n",
       "      <th>Season</th>\n",
       "      <th>Overall_Poss</th>\n",
       "    </tr>\n",
       "  </thead>\n",
       "  <tbody>\n",
       "    <tr>\n",
       "      <th>13524</th>\n",
       "      <td>#3Jon Axel Gudmundsson</td>\n",
       "      <td>NaN</td>\n",
       "      <td>Davidson Wildcats</td>\n",
       "      <td>2018</td>\n",
       "      <td>565</td>\n",
       "    </tr>\n",
       "    <tr>\n",
       "      <th>18840</th>\n",
       "      <td>#35Brandon Johnson</td>\n",
       "      <td>NaN</td>\n",
       "      <td>Western Michigan Broncos</td>\n",
       "      <td>2019</td>\n",
       "      <td>520</td>\n",
       "    </tr>\n",
       "    <tr>\n",
       "      <th>18321</th>\n",
       "      <td>#3Jon Axel Gudmundsson</td>\n",
       "      <td>NaN</td>\n",
       "      <td>Davidson Wildcats</td>\n",
       "      <td>2019</td>\n",
       "      <td>445</td>\n",
       "    </tr>\n",
       "    <tr>\n",
       "      <th>8728</th>\n",
       "      <td>#3Jon Axel Gudmundsson</td>\n",
       "      <td>NaN</td>\n",
       "      <td>Davidson Wildcats</td>\n",
       "      <td>2017</td>\n",
       "      <td>433</td>\n",
       "    </tr>\n",
       "    <tr>\n",
       "      <th>9244</th>\n",
       "      <td>#35Brandon Johnson</td>\n",
       "      <td>NaN</td>\n",
       "      <td>Western Michigan Broncos</td>\n",
       "      <td>2017</td>\n",
       "      <td>289</td>\n",
       "    </tr>\n",
       "    <tr>\n",
       "      <th>3932</th>\n",
       "      <td>#3Jon Axel Gudmundsson</td>\n",
       "      <td>NaN</td>\n",
       "      <td>Davidson Wildcats</td>\n",
       "      <td>2016</td>\n",
       "      <td>285</td>\n",
       "    </tr>\n",
       "    <tr>\n",
       "      <th>1156</th>\n",
       "      <td>#21ArkadiyMkrtychyan</td>\n",
       "      <td>NaN</td>\n",
       "      <td>Idaho Vandals</td>\n",
       "      <td>2016</td>\n",
       "      <td>278</td>\n",
       "    </tr>\n",
       "    <tr>\n",
       "      <th>4452</th>\n",
       "      <td>#35Brandon Johnson</td>\n",
       "      <td>NaN</td>\n",
       "      <td>Western Michigan Broncos</td>\n",
       "      <td>2016</td>\n",
       "      <td>263</td>\n",
       "    </tr>\n",
       "    <tr>\n",
       "      <th>6004</th>\n",
       "      <td>#21ArkadiyMkrtychyan</td>\n",
       "      <td>NaN</td>\n",
       "      <td>Idaho Vandals</td>\n",
       "      <td>2017</td>\n",
       "      <td>188</td>\n",
       "    </tr>\n",
       "    <tr>\n",
       "      <th>17202</th>\n",
       "      <td>#22 Scisssum Gerron</td>\n",
       "      <td>NaN</td>\n",
       "      <td>Alabama A&amp;M Bulldogs</td>\n",
       "      <td>2019</td>\n",
       "      <td>16</td>\n",
       "    </tr>\n",
       "    <tr>\n",
       "      <th>24882</th>\n",
       "      <td>#11 JJ Flores</td>\n",
       "      <td>NaN</td>\n",
       "      <td>Western Illinois Leathernecks</td>\n",
       "      <td>2021</td>\n",
       "      <td>13</td>\n",
       "    </tr>\n",
       "    <tr>\n",
       "      <th>13473</th>\n",
       "      <td>#20 Unidentifiable Player</td>\n",
       "      <td>NaN</td>\n",
       "      <td>San Diego State Aztecs</td>\n",
       "      <td>2018</td>\n",
       "      <td>13</td>\n",
       "    </tr>\n",
       "    <tr>\n",
       "      <th>10191</th>\n",
       "      <td>#55 MitrouLong Elijah</td>\n",
       "      <td>NaN</td>\n",
       "      <td>Texas-(Austin) Longhorns</td>\n",
       "      <td>2018</td>\n",
       "      <td>11</td>\n",
       "    </tr>\n",
       "    <tr>\n",
       "      <th>10303</th>\n",
       "      <td>#12 Akuwovo Savior</td>\n",
       "      <td>NaN</td>\n",
       "      <td>Howard Bison</td>\n",
       "      <td>2018</td>\n",
       "      <td>9</td>\n",
       "    </tr>\n",
       "    <tr>\n",
       "      <th>26987</th>\n",
       "      <td>#24 Darweshi Hunter</td>\n",
       "      <td>NaN</td>\n",
       "      <td>Northern Illinois Huskies</td>\n",
       "      <td>2021</td>\n",
       "      <td>7</td>\n",
       "    </tr>\n",
       "    <tr>\n",
       "      <th>14869</th>\n",
       "      <td>#11 Tchoukuiengo Blondea</td>\n",
       "      <td>NaN</td>\n",
       "      <td>New Hampshire Wildcats</td>\n",
       "      <td>2019</td>\n",
       "      <td>7</td>\n",
       "    </tr>\n",
       "    <tr>\n",
       "      <th>21683</th>\n",
       "      <td>#20 Ross Lorenz</td>\n",
       "      <td>NaN</td>\n",
       "      <td>Oral Roberts Golden Eagles</td>\n",
       "      <td>2020</td>\n",
       "      <td>7</td>\n",
       "    </tr>\n",
       "    <tr>\n",
       "      <th>28464</th>\n",
       "      <td>#34 Jalen Jefferson</td>\n",
       "      <td>NaN</td>\n",
       "      <td>Mount St. Mary's Mountaineers</td>\n",
       "      <td>2021</td>\n",
       "      <td>6</td>\n",
       "    </tr>\n",
       "    <tr>\n",
       "      <th>4906</th>\n",
       "      <td>#15 Bennett Ameer</td>\n",
       "      <td>NaN</td>\n",
       "      <td>Delaware State Hornets</td>\n",
       "      <td>2017</td>\n",
       "      <td>6</td>\n",
       "    </tr>\n",
       "    <tr>\n",
       "      <th>10194</th>\n",
       "      <td>#0 No Duplicate</td>\n",
       "      <td>NaN</td>\n",
       "      <td>Texas-(Austin) Longhorns</td>\n",
       "      <td>2018</td>\n",
       "      <td>4</td>\n",
       "    </tr>\n",
       "    <tr>\n",
       "      <th>8149</th>\n",
       "      <td>#11 Unknown Player</td>\n",
       "      <td>NaN</td>\n",
       "      <td>Mississippi Valley State Delta Devils</td>\n",
       "      <td>2017</td>\n",
       "      <td>4</td>\n",
       "    </tr>\n",
       "    <tr>\n",
       "      <th>4530</th>\n",
       "      <td>#100 Dup Dup</td>\n",
       "      <td>NaN</td>\n",
       "      <td>Georgia Bulldogs</td>\n",
       "      <td>2016</td>\n",
       "      <td>4</td>\n",
       "    </tr>\n",
       "    <tr>\n",
       "      <th>28370</th>\n",
       "      <td>#2 Demarius Pitts</td>\n",
       "      <td>NaN</td>\n",
       "      <td>UMKC Kangaroos</td>\n",
       "      <td>2021</td>\n",
       "      <td>3</td>\n",
       "    </tr>\n",
       "    <tr>\n",
       "      <th>6791</th>\n",
       "      <td>#0 Blake Hinson</td>\n",
       "      <td>NaN</td>\n",
       "      <td>Mississippi Rebels</td>\n",
       "      <td>2017</td>\n",
       "      <td>3</td>\n",
       "    </tr>\n",
       "    <tr>\n",
       "      <th>17477</th>\n",
       "      <td>#20 D.J. Williams</td>\n",
       "      <td>NaN</td>\n",
       "      <td>Illinois Fighting Illini</td>\n",
       "      <td>2019</td>\n",
       "      <td>3</td>\n",
       "    </tr>\n",
       "    <tr>\n",
       "      <th>9531</th>\n",
       "      <td>#40 Josh Newbold</td>\n",
       "      <td>NaN</td>\n",
       "      <td>Dixie State University Trailblazers</td>\n",
       "      <td>2017</td>\n",
       "      <td>3</td>\n",
       "    </tr>\n",
       "    <tr>\n",
       "      <th>21558</th>\n",
       "      <td>#12 Noah Christensen</td>\n",
       "      <td>NaN</td>\n",
       "      <td>North Dakota State Bison</td>\n",
       "      <td>2020</td>\n",
       "      <td>2</td>\n",
       "    </tr>\n",
       "    <tr>\n",
       "      <th>7582</th>\n",
       "      <td>#10 Jaquan Lynch</td>\n",
       "      <td>NaN</td>\n",
       "      <td>Arkansas-(Pine Bluff) Golden Lions</td>\n",
       "      <td>2017</td>\n",
       "      <td>2</td>\n",
       "    </tr>\n",
       "    <tr>\n",
       "      <th>13727</th>\n",
       "      <td>#0 Andrew Vaughan</td>\n",
       "      <td>NaN</td>\n",
       "      <td>Idaho State Bengals</td>\n",
       "      <td>2018</td>\n",
       "      <td>2</td>\n",
       "    </tr>\n",
       "    <tr>\n",
       "      <th>27598</th>\n",
       "      <td>#21 Charlie Weisberg</td>\n",
       "      <td>NaN</td>\n",
       "      <td>Loyola (MD) Greyhounds</td>\n",
       "      <td>2021</td>\n",
       "      <td>2</td>\n",
       "    </tr>\n",
       "    <tr>\n",
       "      <th>2295</th>\n",
       "      <td>#5 Ben Mammel</td>\n",
       "      <td>NaN</td>\n",
       "      <td>Army Black Knights</td>\n",
       "      <td>2016</td>\n",
       "      <td>2</td>\n",
       "    </tr>\n",
       "    <tr>\n",
       "      <th>10154</th>\n",
       "      <td>#2 Jashaun Garrison</td>\n",
       "      <td>NaN</td>\n",
       "      <td>Austin Peay Governors</td>\n",
       "      <td>2018</td>\n",
       "      <td>2</td>\n",
       "    </tr>\n",
       "  </tbody>\n",
       "</table>\n",
       "</div>"
      ],
      "text/plain": [
       "                          Player  Min                                   Team  \\\n",
       "13524     #3Jon Axel Gudmundsson  NaN                      Davidson Wildcats   \n",
       "18840         #35Brandon Johnson  NaN               Western Michigan Broncos   \n",
       "18321     #3Jon Axel Gudmundsson  NaN                      Davidson Wildcats   \n",
       "8728      #3Jon Axel Gudmundsson  NaN                      Davidson Wildcats   \n",
       "9244          #35Brandon Johnson  NaN               Western Michigan Broncos   \n",
       "3932      #3Jon Axel Gudmundsson  NaN                      Davidson Wildcats   \n",
       "1156        #21ArkadiyMkrtychyan  NaN                          Idaho Vandals   \n",
       "4452          #35Brandon Johnson  NaN               Western Michigan Broncos   \n",
       "6004        #21ArkadiyMkrtychyan  NaN                          Idaho Vandals   \n",
       "17202        #22 Scisssum Gerron  NaN                   Alabama A&M Bulldogs   \n",
       "24882              #11 JJ Flores  NaN          Western Illinois Leathernecks   \n",
       "13473  #20 Unidentifiable Player  NaN                 San Diego State Aztecs   \n",
       "10191      #55 MitrouLong Elijah  NaN               Texas-(Austin) Longhorns   \n",
       "10303         #12 Akuwovo Savior  NaN                           Howard Bison   \n",
       "26987        #24 Darweshi Hunter  NaN              Northern Illinois Huskies   \n",
       "14869   #11 Tchoukuiengo Blondea  NaN                 New Hampshire Wildcats   \n",
       "21683            #20 Ross Lorenz  NaN             Oral Roberts Golden Eagles   \n",
       "28464        #34 Jalen Jefferson  NaN          Mount St. Mary's Mountaineers   \n",
       "4906           #15 Bennett Ameer  NaN                 Delaware State Hornets   \n",
       "10194            #0 No Duplicate  NaN               Texas-(Austin) Longhorns   \n",
       "8149          #11 Unknown Player  NaN  Mississippi Valley State Delta Devils   \n",
       "4530                #100 Dup Dup  NaN                       Georgia Bulldogs   \n",
       "28370          #2 Demarius Pitts  NaN                         UMKC Kangaroos   \n",
       "6791             #0 Blake Hinson  NaN                     Mississippi Rebels   \n",
       "17477          #20 D.J. Williams  NaN               Illinois Fighting Illini   \n",
       "9531            #40 Josh Newbold  NaN    Dixie State University Trailblazers   \n",
       "21558       #12 Noah Christensen  NaN               North Dakota State Bison   \n",
       "7582            #10 Jaquan Lynch  NaN     Arkansas-(Pine Bluff) Golden Lions   \n",
       "13727          #0 Andrew Vaughan  NaN                    Idaho State Bengals   \n",
       "27598       #21 Charlie Weisberg  NaN                 Loyola (MD) Greyhounds   \n",
       "2295               #5 Ben Mammel  NaN                     Army Black Knights   \n",
       "10154        #2 Jashaun Garrison  NaN                  Austin Peay Governors   \n",
       "\n",
       "       Season  Overall_Poss  \n",
       "13524    2018           565  \n",
       "18840    2019           520  \n",
       "18321    2019           445  \n",
       "8728     2017           433  \n",
       "9244     2017           289  \n",
       "3932     2016           285  \n",
       "1156     2016           278  \n",
       "4452     2016           263  \n",
       "6004     2017           188  \n",
       "17202    2019            16  \n",
       "24882    2021            13  \n",
       "13473    2018            13  \n",
       "10191    2018            11  \n",
       "10303    2018             9  \n",
       "26987    2021             7  \n",
       "14869    2019             7  \n",
       "21683    2020             7  \n",
       "28464    2021             6  \n",
       "4906     2017             6  \n",
       "10194    2018             4  \n",
       "8149     2017             4  \n",
       "4530     2016             4  \n",
       "28370    2021             3  \n",
       "6791     2017             3  \n",
       "17477    2019             3  \n",
       "9531     2017             3  \n",
       "21558    2020             2  \n",
       "7582     2017             2  \n",
       "13727    2018             2  \n",
       "27598    2021             2  \n",
       "2295     2016             2  \n",
       "10154    2018             2  "
      ]
     },
     "execution_count": 20,
     "metadata": {},
     "output_type": "execute_result"
    }
   ],
   "source": [
    "temp[(temp['Min'].isna()) & \n",
    "     (temp['Player'] != '#100 Unidentifiable Player') &\n",
    "     (temp['Overall_Poss'] > 1)]\\\n",
    "[['Player', 'Min', 'Team', 'Season', 'Overall_Poss']].sort_values('Overall_Poss', ascending=False)"
   ]
  },
  {
   "cell_type": "code",
   "execution_count": 19,
   "metadata": {
    "ExecuteTime": {
     "end_time": "2022-06-13T10:04:22.930535Z",
     "start_time": "2022-06-13T10:04:21.373848Z"
    }
   },
   "outputs": [],
   "source": [
    "s_df.merge(c_df.drop('Player', axis=1), \n",
    "           on=['Player_Alt', 'Team', 'Season'], \n",
    "           how='left')\\\n",
    "    .drop('Player_Alt', axis=1)\\\n",
    "    .to_csv('ncaa_offense_cumulative.csv', index=False)"
   ]
  }
 ],
 "metadata": {
  "kernelspec": {
   "display_name": "Python 3 (ipykernel)",
   "language": "python",
   "name": "python3"
  },
  "language_info": {
   "codemirror_mode": {
    "name": "ipython",
    "version": 3
   },
   "file_extension": ".py",
   "mimetype": "text/x-python",
   "name": "python",
   "nbconvert_exporter": "python",
   "pygments_lexer": "ipython3",
   "version": "3.8.12"
  }
 },
 "nbformat": 4,
 "nbformat_minor": 2
}
